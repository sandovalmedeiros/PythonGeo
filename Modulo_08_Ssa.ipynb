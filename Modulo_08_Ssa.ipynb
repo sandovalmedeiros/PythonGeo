{
  "cells": [
    {
      "cell_type": "markdown",
      "metadata": {
        "id": "view-in-github",
        "colab_type": "text"
      },
      "source": [
        "<a href=\"https://colab.research.google.com/github/sandovalmedeiros/PythonGeo/blob/main/Modulo_08_Ssa.ipynb\" target=\"_parent\"><img src=\"https://colab.research.google.com/assets/colab-badge.svg\" alt=\"Open In Colab\"/></a>"
      ]
    },
    {
      "cell_type": "markdown",
      "id": "20d69be9",
      "metadata": {
        "id": "20d69be9"
      },
      "source": [
        "# Módulo 08 - Estruturas de Dados\n",
        "\n",
        "## GeoSeries vs GeoDataframe\n",
        "\n",
        "A `GeoSeries` é um vetor onde cada entrada no vetor é um conjunto de formas correspondentes a uma observação, por exemplo, um único polígono.\n",
        "\n",
        "Já o `GeoDataframe` é uma estrutura de dados que contém um arquivo `GeoSeries`."
      ]
    },
    {
      "cell_type": "code",
      "execution_count": 3,
      "id": "92250ab6",
      "metadata": {
        "id": "92250ab6",
        "outputId": "0062a7ab-3c58-4514-f9d0-bbd8dcf61e79",
        "colab": {
          "base_uri": "https://localhost:8080/"
        }
      },
      "outputs": [
        {
          "output_type": "stream",
          "name": "stdout",
          "text": [
            "Looking in indexes: https://pypi.org/simple, https://us-python.pkg.dev/colab-wheels/public/simple/\n",
            "Requirement already satisfied: click==8.1.3 in /usr/local/lib/python3.8/dist-packages (8.1.3)\n",
            "Looking in indexes: https://pypi.org/simple, https://us-python.pkg.dev/colab-wheels/public/simple/\n",
            "Collecting geopandas\n",
            "  Downloading geopandas-0.12.2-py3-none-any.whl (1.1 MB)\n",
            "\u001b[2K     \u001b[90m━━━━━━━━━━━━━━━━━━━━━━━━━━━━━━━━━━━━━━━━\u001b[0m \u001b[32m1.1/1.1 MB\u001b[0m \u001b[31m21.1 MB/s\u001b[0m eta \u001b[36m0:00:00\u001b[0m\n",
            "\u001b[?25hCollecting pyproj>=2.6.1.post1\n",
            "  Downloading pyproj-3.4.1-cp38-cp38-manylinux_2_17_x86_64.manylinux2014_x86_64.whl (7.8 MB)\n",
            "\u001b[2K     \u001b[90m━━━━━━━━━━━━━━━━━━━━━━━━━━━━━━━━━━━━━━━━\u001b[0m \u001b[32m7.8/7.8 MB\u001b[0m \u001b[31m96.1 MB/s\u001b[0m eta \u001b[36m0:00:00\u001b[0m\n",
            "\u001b[?25hCollecting fiona>=1.8\n",
            "  Downloading Fiona-1.9.1-cp38-cp38-manylinux_2_17_x86_64.manylinux2014_x86_64.whl (16.0 MB)\n",
            "\u001b[2K     \u001b[90m━━━━━━━━━━━━━━━━━━━━━━━━━━━━━━━━━━━━━━━━\u001b[0m \u001b[32m16.0/16.0 MB\u001b[0m \u001b[31m76.7 MB/s\u001b[0m eta \u001b[36m0:00:00\u001b[0m\n",
            "\u001b[?25hRequirement already satisfied: shapely>=1.7 in /usr/local/lib/python3.8/dist-packages (from geopandas) (2.0.1)\n",
            "Requirement already satisfied: packaging in /usr/local/lib/python3.8/dist-packages (from geopandas) (23.0)\n",
            "Requirement already satisfied: pandas>=1.0.0 in /usr/local/lib/python3.8/dist-packages (from geopandas) (1.3.5)\n",
            "Collecting cligj>=0.5\n",
            "  Downloading cligj-0.7.2-py3-none-any.whl (7.1 kB)\n",
            "Requirement already satisfied: attrs>=19.2.0 in /usr/local/lib/python3.8/dist-packages (from fiona>=1.8->geopandas) (22.2.0)\n",
            "Collecting click-plugins>=1.0\n",
            "  Downloading click_plugins-1.1.1-py2.py3-none-any.whl (7.5 kB)\n",
            "Requirement already satisfied: certifi in /usr/local/lib/python3.8/dist-packages (from fiona>=1.8->geopandas) (2022.12.7)\n",
            "Collecting munch>=2.3.2\n",
            "  Downloading munch-2.5.0-py2.py3-none-any.whl (10 kB)\n",
            "Requirement already satisfied: click~=8.0 in /usr/local/lib/python3.8/dist-packages (from fiona>=1.8->geopandas) (8.1.3)\n",
            "Requirement already satisfied: setuptools in /usr/local/lib/python3.8/dist-packages (from fiona>=1.8->geopandas) (57.4.0)\n",
            "Requirement already satisfied: numpy>=1.17.3 in /usr/local/lib/python3.8/dist-packages (from pandas>=1.0.0->geopandas) (1.22.4)\n",
            "Requirement already satisfied: pytz>=2017.3 in /usr/local/lib/python3.8/dist-packages (from pandas>=1.0.0->geopandas) (2022.7.1)\n",
            "Requirement already satisfied: python-dateutil>=2.7.3 in /usr/local/lib/python3.8/dist-packages (from pandas>=1.0.0->geopandas) (2.8.2)\n",
            "Requirement already satisfied: six in /usr/local/lib/python3.8/dist-packages (from munch>=2.3.2->fiona>=1.8->geopandas) (1.15.0)\n",
            "Installing collected packages: pyproj, munch, cligj, click-plugins, fiona, geopandas\n",
            "Successfully installed click-plugins-1.1.1 cligj-0.7.2 fiona-1.9.1 geopandas-0.12.2 munch-2.5.0 pyproj-3.4.1\n"
          ]
        }
      ],
      "source": [
        "!pip install click==8.1.3\n",
        "!pip install geopandas\n",
        "import geopandas as gpd"
      ]
    },
    {
      "cell_type": "code",
      "execution_count": 4,
      "id": "7d94645b",
      "metadata": {
        "id": "7d94645b",
        "outputId": "9e95739a-093e-4689-97ef-077381a7a02d",
        "colab": {
          "base_uri": "https://localhost:8080/"
        }
      },
      "outputs": [
        {
          "output_type": "execute_result",
          "data": {
            "text/plain": [
              "0    POLYGON ((0.00000 0.00000, 1.00000 1.00000, 0....\n",
              "1    POLYGON ((10.00000 0.00000, 10.00000 5.00000, ...\n",
              "2    POLYGON ((0.00000 0.00000, 2.00000 2.00000, 2....\n",
              "3    LINESTRING (0.00000 0.00000, 1.00000 1.00000, ...\n",
              "4                              POINT (0.00000 1.00000)\n",
              "dtype: geometry"
            ]
          },
          "metadata": {},
          "execution_count": 4
        }
      ],
      "source": [
        "from shapely.geometry import Polygon, LineString, Point\n",
        "\n",
        "s = gpd.GeoSeries(\n",
        "    [\n",
        "        Polygon([(0, 0), (1,1), (0,1)]),\n",
        "        Polygon([(10, 0), (10,5), (0,0)]),\n",
        "        Polygon([(0, 0), (2,2), (2,0)]),\n",
        "        LineString([(0, 0), (1,1), (0,1)]),\n",
        "        Point(0,1)\n",
        "    ]\n",
        "\n",
        ")\n",
        "s"
      ]
    },
    {
      "cell_type": "code",
      "execution_count": null,
      "id": "eee827b2",
      "metadata": {
        "id": "eee827b2",
        "outputId": "c9e8fe82-5e4d-4b80-f9ac-fbdc7165c8ab"
      },
      "outputs": [
        {
          "data": {
            "text/plain": [
              "geopandas.geoseries.GeoSeries"
            ]
          },
          "execution_count": 5,
          "metadata": {},
          "output_type": "execute_result"
        }
      ],
      "source": [
        "type(s)"
      ]
    },
    {
      "cell_type": "code",
      "execution_count": null,
      "id": "b8edfaec",
      "metadata": {
        "id": "b8edfaec"
      },
      "outputs": [],
      "source": []
    },
    {
      "cell_type": "markdown",
      "id": "676b4e99",
      "metadata": {
        "id": "676b4e99"
      },
      "source": [
        "## Diferença entre Dataframe e GeoDataframe\n",
        "\n"
      ]
    },
    {
      "cell_type": "code",
      "execution_count": 8,
      "id": "7a33d574",
      "metadata": {
        "id": "7a33d574"
      },
      "outputs": [],
      "source": [
        "import geopandas as gpd\n",
        "import os\n",
        "from osgeo import gdal\n",
        "gdal.SetConfigOption('SHAPE_RESTORE_SHX', 'YES')\n",
        "in_vector = '/content/bairros_ssa/gisdb_dados_sei_CVD_BAIRRO_SSA_A_2017_GCS_SIR_SEI.shp'\n",
        "gdf = gpd.read_file(in_vector)"
      ]
    },
    {
      "cell_type": "code",
      "execution_count": 9,
      "id": "79344fc4",
      "metadata": {
        "colab": {
          "base_uri": "https://localhost:8080/"
        },
        "id": "79344fc4",
        "outputId": "0a20b557-d80e-4e77-ea8f-00b8d0664db7"
      },
      "outputs": [
        {
          "output_type": "stream",
          "name": "stdout",
          "text": [
            "/content/bairros_ssa/gisdb_dados_sei_CVD_BAIRRO_SSA_A_2017_GCS_SIR_SEI.shp\n"
          ]
        }
      ],
      "source": [
        "# Definir o caminho da pasta\n",
        "#pasta = r'C:\\AmbientalPro\\Extras\\BR_Municipios_2021\\BR_Municipios_2021.shp'\n",
        "pasta = \"/content/bairros_ssa/gisdb_dados_sei_CVD_BAIRRO_SSA_A_2017_GCS_SIR_SEI.shp\"\n",
        "\n",
        "# Juntar o nome do arquivo com a pasta\n",
        "#pasta_arquivo = os.path.join(pasta, 'BR_Municipios_2021.shp')\n",
        "print(pasta)\n",
        "#print(pasta_arquivo)"
      ]
    },
    {
      "cell_type": "code",
      "execution_count": 10,
      "id": "9ae7f0ba",
      "metadata": {
        "id": "9ae7f0ba"
      },
      "outputs": [],
      "source": [
        "dados = gpd.read_file(pasta)"
      ]
    },
    {
      "cell_type": "code",
      "execution_count": null,
      "id": "dfc6a22c",
      "metadata": {
        "id": "dfc6a22c",
        "outputId": "1254bfd1-27f0-4c59-9354-8bab67597be3",
        "colab": {
          "base_uri": "https://localhost:8080/"
        }
      },
      "outputs": [
        {
          "output_type": "execute_result",
          "data": {
            "text/plain": [
              "geopandas.geodataframe.GeoDataFrame"
            ]
          },
          "metadata": {},
          "execution_count": 4
        }
      ],
      "source": [
        "type(dados)"
      ]
    },
    {
      "cell_type": "code",
      "execution_count": 11,
      "id": "c6a25b19",
      "metadata": {
        "id": "c6a25b19",
        "outputId": "bb8d65ce-aad7-4ca3-df4d-999862ae1729",
        "colab": {
          "base_uri": "https://localhost:8080/",
          "height": 581
        }
      },
      "outputs": [
        {
          "output_type": "execute_result",
          "data": {
            "text/plain": [
              "          nome  codigo_mun  id_bairro  area_km2  area_ha    st_area_sh  \\\n",
              "0    Palestina        2740      105.0  0.833906       83  8.339061e+05   \n",
              "1       Paripe        2740      156.0  4.882108      488  4.882108e+06   \n",
              "2    Patamares        2740        2.0  4.620815      462  4.620815e+06   \n",
              "3  Pau da Lima        2740       66.0  1.145097      115  1.145097e+06   \n",
              "4    Pau Miúdo        2740       79.0  0.704379       70  7.043793e+05   \n",
              "5     Periperi        2740      102.0  3.382191      338  3.382191e+06   \n",
              "6      Resgate        2740       96.0  0.442995       44  4.429947e+05   \n",
              "7   Pernambués        2740      118.0  3.173077      317  3.173077e+06   \n",
              "8     Pero Vaz        2740       73.0  0.456757       46  4.567574e+05   \n",
              "9       Retiro        2740       81.0  1.102224      110  1.102224e+06   \n",
              "\n",
              "     st_length_                                           geometry  \n",
              "0   4861.078642  POLYGON ((563547.010 8577348.034, 563562.794 8...  \n",
              "1  12671.765308  POLYGON ((557201.475 8582312.816, 557226.534 8...  \n",
              "2  10481.786818  POLYGON ((564935.025 8566706.503, 564934.976 8...  \n",
              "3   6457.955843  POLYGON ((560777.356 8572284.444, 560759.803 8...  \n",
              "4   4591.895151  POLYGON ((555987.228 8567545.404, 556010.515 8...  \n",
              "5  12586.735089  POLYGON ((559136.148 8578727.056, 559169.733 8...  \n",
              "6   3198.946262  POLYGON ((558429.047 8567239.837, 558502.588 8...  \n",
              "7  10826.970486  POLYGON ((558075.429 8566845.371, 558081.147 8...  \n",
              "8   3155.154340  POLYGON ((555363.753 8568417.553, 555388.622 8...  \n",
              "9   7337.994646  POLYGON ((557385.136 8568216.322, 557376.991 8...  "
            ],
            "text/html": [
              "\n",
              "  <div id=\"df-2b4a4280-e5b7-4be2-b94c-2a1214091052\">\n",
              "    <div class=\"colab-df-container\">\n",
              "      <div>\n",
              "<style scoped>\n",
              "    .dataframe tbody tr th:only-of-type {\n",
              "        vertical-align: middle;\n",
              "    }\n",
              "\n",
              "    .dataframe tbody tr th {\n",
              "        vertical-align: top;\n",
              "    }\n",
              "\n",
              "    .dataframe thead th {\n",
              "        text-align: right;\n",
              "    }\n",
              "</style>\n",
              "<table border=\"1\" class=\"dataframe\">\n",
              "  <thead>\n",
              "    <tr style=\"text-align: right;\">\n",
              "      <th></th>\n",
              "      <th>nome</th>\n",
              "      <th>codigo_mun</th>\n",
              "      <th>id_bairro</th>\n",
              "      <th>area_km2</th>\n",
              "      <th>area_ha</th>\n",
              "      <th>st_area_sh</th>\n",
              "      <th>st_length_</th>\n",
              "      <th>geometry</th>\n",
              "    </tr>\n",
              "  </thead>\n",
              "  <tbody>\n",
              "    <tr>\n",
              "      <th>0</th>\n",
              "      <td>Palestina</td>\n",
              "      <td>2740</td>\n",
              "      <td>105.0</td>\n",
              "      <td>0.833906</td>\n",
              "      <td>83</td>\n",
              "      <td>8.339061e+05</td>\n",
              "      <td>4861.078642</td>\n",
              "      <td>POLYGON ((563547.010 8577348.034, 563562.794 8...</td>\n",
              "    </tr>\n",
              "    <tr>\n",
              "      <th>1</th>\n",
              "      <td>Paripe</td>\n",
              "      <td>2740</td>\n",
              "      <td>156.0</td>\n",
              "      <td>4.882108</td>\n",
              "      <td>488</td>\n",
              "      <td>4.882108e+06</td>\n",
              "      <td>12671.765308</td>\n",
              "      <td>POLYGON ((557201.475 8582312.816, 557226.534 8...</td>\n",
              "    </tr>\n",
              "    <tr>\n",
              "      <th>2</th>\n",
              "      <td>Patamares</td>\n",
              "      <td>2740</td>\n",
              "      <td>2.0</td>\n",
              "      <td>4.620815</td>\n",
              "      <td>462</td>\n",
              "      <td>4.620815e+06</td>\n",
              "      <td>10481.786818</td>\n",
              "      <td>POLYGON ((564935.025 8566706.503, 564934.976 8...</td>\n",
              "    </tr>\n",
              "    <tr>\n",
              "      <th>3</th>\n",
              "      <td>Pau da Lima</td>\n",
              "      <td>2740</td>\n",
              "      <td>66.0</td>\n",
              "      <td>1.145097</td>\n",
              "      <td>115</td>\n",
              "      <td>1.145097e+06</td>\n",
              "      <td>6457.955843</td>\n",
              "      <td>POLYGON ((560777.356 8572284.444, 560759.803 8...</td>\n",
              "    </tr>\n",
              "    <tr>\n",
              "      <th>4</th>\n",
              "      <td>Pau Miúdo</td>\n",
              "      <td>2740</td>\n",
              "      <td>79.0</td>\n",
              "      <td>0.704379</td>\n",
              "      <td>70</td>\n",
              "      <td>7.043793e+05</td>\n",
              "      <td>4591.895151</td>\n",
              "      <td>POLYGON ((555987.228 8567545.404, 556010.515 8...</td>\n",
              "    </tr>\n",
              "    <tr>\n",
              "      <th>5</th>\n",
              "      <td>Periperi</td>\n",
              "      <td>2740</td>\n",
              "      <td>102.0</td>\n",
              "      <td>3.382191</td>\n",
              "      <td>338</td>\n",
              "      <td>3.382191e+06</td>\n",
              "      <td>12586.735089</td>\n",
              "      <td>POLYGON ((559136.148 8578727.056, 559169.733 8...</td>\n",
              "    </tr>\n",
              "    <tr>\n",
              "      <th>6</th>\n",
              "      <td>Resgate</td>\n",
              "      <td>2740</td>\n",
              "      <td>96.0</td>\n",
              "      <td>0.442995</td>\n",
              "      <td>44</td>\n",
              "      <td>4.429947e+05</td>\n",
              "      <td>3198.946262</td>\n",
              "      <td>POLYGON ((558429.047 8567239.837, 558502.588 8...</td>\n",
              "    </tr>\n",
              "    <tr>\n",
              "      <th>7</th>\n",
              "      <td>Pernambués</td>\n",
              "      <td>2740</td>\n",
              "      <td>118.0</td>\n",
              "      <td>3.173077</td>\n",
              "      <td>317</td>\n",
              "      <td>3.173077e+06</td>\n",
              "      <td>10826.970486</td>\n",
              "      <td>POLYGON ((558075.429 8566845.371, 558081.147 8...</td>\n",
              "    </tr>\n",
              "    <tr>\n",
              "      <th>8</th>\n",
              "      <td>Pero Vaz</td>\n",
              "      <td>2740</td>\n",
              "      <td>73.0</td>\n",
              "      <td>0.456757</td>\n",
              "      <td>46</td>\n",
              "      <td>4.567574e+05</td>\n",
              "      <td>3155.154340</td>\n",
              "      <td>POLYGON ((555363.753 8568417.553, 555388.622 8...</td>\n",
              "    </tr>\n",
              "    <tr>\n",
              "      <th>9</th>\n",
              "      <td>Retiro</td>\n",
              "      <td>2740</td>\n",
              "      <td>81.0</td>\n",
              "      <td>1.102224</td>\n",
              "      <td>110</td>\n",
              "      <td>1.102224e+06</td>\n",
              "      <td>7337.994646</td>\n",
              "      <td>POLYGON ((557385.136 8568216.322, 557376.991 8...</td>\n",
              "    </tr>\n",
              "  </tbody>\n",
              "</table>\n",
              "</div>\n",
              "      <button class=\"colab-df-convert\" onclick=\"convertToInteractive('df-2b4a4280-e5b7-4be2-b94c-2a1214091052')\"\n",
              "              title=\"Convert this dataframe to an interactive table.\"\n",
              "              style=\"display:none;\">\n",
              "        \n",
              "  <svg xmlns=\"http://www.w3.org/2000/svg\" height=\"24px\"viewBox=\"0 0 24 24\"\n",
              "       width=\"24px\">\n",
              "    <path d=\"M0 0h24v24H0V0z\" fill=\"none\"/>\n",
              "    <path d=\"M18.56 5.44l.94 2.06.94-2.06 2.06-.94-2.06-.94-.94-2.06-.94 2.06-2.06.94zm-11 1L8.5 8.5l.94-2.06 2.06-.94-2.06-.94L8.5 2.5l-.94 2.06-2.06.94zm10 10l.94 2.06.94-2.06 2.06-.94-2.06-.94-.94-2.06-.94 2.06-2.06.94z\"/><path d=\"M17.41 7.96l-1.37-1.37c-.4-.4-.92-.59-1.43-.59-.52 0-1.04.2-1.43.59L10.3 9.45l-7.72 7.72c-.78.78-.78 2.05 0 2.83L4 21.41c.39.39.9.59 1.41.59.51 0 1.02-.2 1.41-.59l7.78-7.78 2.81-2.81c.8-.78.8-2.07 0-2.86zM5.41 20L4 18.59l7.72-7.72 1.47 1.35L5.41 20z\"/>\n",
              "  </svg>\n",
              "      </button>\n",
              "      \n",
              "  <style>\n",
              "    .colab-df-container {\n",
              "      display:flex;\n",
              "      flex-wrap:wrap;\n",
              "      gap: 12px;\n",
              "    }\n",
              "\n",
              "    .colab-df-convert {\n",
              "      background-color: #E8F0FE;\n",
              "      border: none;\n",
              "      border-radius: 50%;\n",
              "      cursor: pointer;\n",
              "      display: none;\n",
              "      fill: #1967D2;\n",
              "      height: 32px;\n",
              "      padding: 0 0 0 0;\n",
              "      width: 32px;\n",
              "    }\n",
              "\n",
              "    .colab-df-convert:hover {\n",
              "      background-color: #E2EBFA;\n",
              "      box-shadow: 0px 1px 2px rgba(60, 64, 67, 0.3), 0px 1px 3px 1px rgba(60, 64, 67, 0.15);\n",
              "      fill: #174EA6;\n",
              "    }\n",
              "\n",
              "    [theme=dark] .colab-df-convert {\n",
              "      background-color: #3B4455;\n",
              "      fill: #D2E3FC;\n",
              "    }\n",
              "\n",
              "    [theme=dark] .colab-df-convert:hover {\n",
              "      background-color: #434B5C;\n",
              "      box-shadow: 0px 1px 3px 1px rgba(0, 0, 0, 0.15);\n",
              "      filter: drop-shadow(0px 1px 2px rgba(0, 0, 0, 0.3));\n",
              "      fill: #FFFFFF;\n",
              "    }\n",
              "  </style>\n",
              "\n",
              "      <script>\n",
              "        const buttonEl =\n",
              "          document.querySelector('#df-2b4a4280-e5b7-4be2-b94c-2a1214091052 button.colab-df-convert');\n",
              "        buttonEl.style.display =\n",
              "          google.colab.kernel.accessAllowed ? 'block' : 'none';\n",
              "\n",
              "        async function convertToInteractive(key) {\n",
              "          const element = document.querySelector('#df-2b4a4280-e5b7-4be2-b94c-2a1214091052');\n",
              "          const dataTable =\n",
              "            await google.colab.kernel.invokeFunction('convertToInteractive',\n",
              "                                                     [key], {});\n",
              "          if (!dataTable) return;\n",
              "\n",
              "          const docLinkHtml = 'Like what you see? Visit the ' +\n",
              "            '<a target=\"_blank\" href=https://colab.research.google.com/notebooks/data_table.ipynb>data table notebook</a>'\n",
              "            + ' to learn more about interactive tables.';\n",
              "          element.innerHTML = '';\n",
              "          dataTable['output_type'] = 'display_data';\n",
              "          await google.colab.output.renderOutput(dataTable, element);\n",
              "          const docLink = document.createElement('div');\n",
              "          docLink.innerHTML = docLinkHtml;\n",
              "          element.appendChild(docLink);\n",
              "        }\n",
              "      </script>\n",
              "    </div>\n",
              "  </div>\n",
              "  "
            ]
          },
          "metadata": {},
          "execution_count": 11
        }
      ],
      "source": [
        "dados.head(10)"
      ]
    },
    {
      "cell_type": "code",
      "execution_count": 12,
      "id": "96b67deb",
      "metadata": {
        "id": "96b67deb",
        "outputId": "6e3c3e90-b93e-45a1-cd17-447025e91a3e",
        "colab": {
          "base_uri": "https://localhost:8080/",
          "height": 337
        }
      },
      "outputs": [
        {
          "output_type": "execute_result",
          "data": {
            "text/plain": [
              "                      nome  codigo_mun  id_bairro  area_km2  area_ha  \\\n",
              "158  Nordeste de Amaralina        2740       25.0  0.642746       64   \n",
              "159      Nova Constituinte        2740      159.0  0.974776       97   \n",
              "160         Novo Horizonte        2740       57.0  1.008771      101   \n",
              "161         Novo Marotinho        2740       42.0  0.239647       24   \n",
              "162                 Ondina        2740       19.0  2.071025      207   \n",
              "\n",
              "       st_area_sh    st_length_  \\\n",
              "158  6.427459e+05   5707.423942   \n",
              "159  9.747760e+05   4669.979000   \n",
              "160  1.008771e+06   4635.863095   \n",
              "161  2.396473e+05   2607.464792   \n",
              "162  2.071025e+06  11364.427288   \n",
              "\n",
              "                                              geometry  \n",
              "158  POLYGON ((557799.333 8562243.977, 557795.638 8...  \n",
              "159  POLYGON ((558829.352 8578761.929, 558873.822 8...  \n",
              "160  POLYGON ((560838.328 8569902.480, 560857.549 8...  \n",
              "161  POLYGON ((562518.089 8572232.355, 562523.688 8...  \n",
              "162  POLYGON ((553537.170 8562970.137, 553574.638 8...  "
            ],
            "text/html": [
              "\n",
              "  <div id=\"df-131a7888-698e-4486-8992-f8d59158f0b8\">\n",
              "    <div class=\"colab-df-container\">\n",
              "      <div>\n",
              "<style scoped>\n",
              "    .dataframe tbody tr th:only-of-type {\n",
              "        vertical-align: middle;\n",
              "    }\n",
              "\n",
              "    .dataframe tbody tr th {\n",
              "        vertical-align: top;\n",
              "    }\n",
              "\n",
              "    .dataframe thead th {\n",
              "        text-align: right;\n",
              "    }\n",
              "</style>\n",
              "<table border=\"1\" class=\"dataframe\">\n",
              "  <thead>\n",
              "    <tr style=\"text-align: right;\">\n",
              "      <th></th>\n",
              "      <th>nome</th>\n",
              "      <th>codigo_mun</th>\n",
              "      <th>id_bairro</th>\n",
              "      <th>area_km2</th>\n",
              "      <th>area_ha</th>\n",
              "      <th>st_area_sh</th>\n",
              "      <th>st_length_</th>\n",
              "      <th>geometry</th>\n",
              "    </tr>\n",
              "  </thead>\n",
              "  <tbody>\n",
              "    <tr>\n",
              "      <th>158</th>\n",
              "      <td>Nordeste de Amaralina</td>\n",
              "      <td>2740</td>\n",
              "      <td>25.0</td>\n",
              "      <td>0.642746</td>\n",
              "      <td>64</td>\n",
              "      <td>6.427459e+05</td>\n",
              "      <td>5707.423942</td>\n",
              "      <td>POLYGON ((557799.333 8562243.977, 557795.638 8...</td>\n",
              "    </tr>\n",
              "    <tr>\n",
              "      <th>159</th>\n",
              "      <td>Nova Constituinte</td>\n",
              "      <td>2740</td>\n",
              "      <td>159.0</td>\n",
              "      <td>0.974776</td>\n",
              "      <td>97</td>\n",
              "      <td>9.747760e+05</td>\n",
              "      <td>4669.979000</td>\n",
              "      <td>POLYGON ((558829.352 8578761.929, 558873.822 8...</td>\n",
              "    </tr>\n",
              "    <tr>\n",
              "      <th>160</th>\n",
              "      <td>Novo Horizonte</td>\n",
              "      <td>2740</td>\n",
              "      <td>57.0</td>\n",
              "      <td>1.008771</td>\n",
              "      <td>101</td>\n",
              "      <td>1.008771e+06</td>\n",
              "      <td>4635.863095</td>\n",
              "      <td>POLYGON ((560838.328 8569902.480, 560857.549 8...</td>\n",
              "    </tr>\n",
              "    <tr>\n",
              "      <th>161</th>\n",
              "      <td>Novo Marotinho</td>\n",
              "      <td>2740</td>\n",
              "      <td>42.0</td>\n",
              "      <td>0.239647</td>\n",
              "      <td>24</td>\n",
              "      <td>2.396473e+05</td>\n",
              "      <td>2607.464792</td>\n",
              "      <td>POLYGON ((562518.089 8572232.355, 562523.688 8...</td>\n",
              "    </tr>\n",
              "    <tr>\n",
              "      <th>162</th>\n",
              "      <td>Ondina</td>\n",
              "      <td>2740</td>\n",
              "      <td>19.0</td>\n",
              "      <td>2.071025</td>\n",
              "      <td>207</td>\n",
              "      <td>2.071025e+06</td>\n",
              "      <td>11364.427288</td>\n",
              "      <td>POLYGON ((553537.170 8562970.137, 553574.638 8...</td>\n",
              "    </tr>\n",
              "  </tbody>\n",
              "</table>\n",
              "</div>\n",
              "      <button class=\"colab-df-convert\" onclick=\"convertToInteractive('df-131a7888-698e-4486-8992-f8d59158f0b8')\"\n",
              "              title=\"Convert this dataframe to an interactive table.\"\n",
              "              style=\"display:none;\">\n",
              "        \n",
              "  <svg xmlns=\"http://www.w3.org/2000/svg\" height=\"24px\"viewBox=\"0 0 24 24\"\n",
              "       width=\"24px\">\n",
              "    <path d=\"M0 0h24v24H0V0z\" fill=\"none\"/>\n",
              "    <path d=\"M18.56 5.44l.94 2.06.94-2.06 2.06-.94-2.06-.94-.94-2.06-.94 2.06-2.06.94zm-11 1L8.5 8.5l.94-2.06 2.06-.94-2.06-.94L8.5 2.5l-.94 2.06-2.06.94zm10 10l.94 2.06.94-2.06 2.06-.94-2.06-.94-.94-2.06-.94 2.06-2.06.94z\"/><path d=\"M17.41 7.96l-1.37-1.37c-.4-.4-.92-.59-1.43-.59-.52 0-1.04.2-1.43.59L10.3 9.45l-7.72 7.72c-.78.78-.78 2.05 0 2.83L4 21.41c.39.39.9.59 1.41.59.51 0 1.02-.2 1.41-.59l7.78-7.78 2.81-2.81c.8-.78.8-2.07 0-2.86zM5.41 20L4 18.59l7.72-7.72 1.47 1.35L5.41 20z\"/>\n",
              "  </svg>\n",
              "      </button>\n",
              "      \n",
              "  <style>\n",
              "    .colab-df-container {\n",
              "      display:flex;\n",
              "      flex-wrap:wrap;\n",
              "      gap: 12px;\n",
              "    }\n",
              "\n",
              "    .colab-df-convert {\n",
              "      background-color: #E8F0FE;\n",
              "      border: none;\n",
              "      border-radius: 50%;\n",
              "      cursor: pointer;\n",
              "      display: none;\n",
              "      fill: #1967D2;\n",
              "      height: 32px;\n",
              "      padding: 0 0 0 0;\n",
              "      width: 32px;\n",
              "    }\n",
              "\n",
              "    .colab-df-convert:hover {\n",
              "      background-color: #E2EBFA;\n",
              "      box-shadow: 0px 1px 2px rgba(60, 64, 67, 0.3), 0px 1px 3px 1px rgba(60, 64, 67, 0.15);\n",
              "      fill: #174EA6;\n",
              "    }\n",
              "\n",
              "    [theme=dark] .colab-df-convert {\n",
              "      background-color: #3B4455;\n",
              "      fill: #D2E3FC;\n",
              "    }\n",
              "\n",
              "    [theme=dark] .colab-df-convert:hover {\n",
              "      background-color: #434B5C;\n",
              "      box-shadow: 0px 1px 3px 1px rgba(0, 0, 0, 0.15);\n",
              "      filter: drop-shadow(0px 1px 2px rgba(0, 0, 0, 0.3));\n",
              "      fill: #FFFFFF;\n",
              "    }\n",
              "  </style>\n",
              "\n",
              "      <script>\n",
              "        const buttonEl =\n",
              "          document.querySelector('#df-131a7888-698e-4486-8992-f8d59158f0b8 button.colab-df-convert');\n",
              "        buttonEl.style.display =\n",
              "          google.colab.kernel.accessAllowed ? 'block' : 'none';\n",
              "\n",
              "        async function convertToInteractive(key) {\n",
              "          const element = document.querySelector('#df-131a7888-698e-4486-8992-f8d59158f0b8');\n",
              "          const dataTable =\n",
              "            await google.colab.kernel.invokeFunction('convertToInteractive',\n",
              "                                                     [key], {});\n",
              "          if (!dataTable) return;\n",
              "\n",
              "          const docLinkHtml = 'Like what you see? Visit the ' +\n",
              "            '<a target=\"_blank\" href=https://colab.research.google.com/notebooks/data_table.ipynb>data table notebook</a>'\n",
              "            + ' to learn more about interactive tables.';\n",
              "          element.innerHTML = '';\n",
              "          dataTable['output_type'] = 'display_data';\n",
              "          await google.colab.output.renderOutput(dataTable, element);\n",
              "          const docLink = document.createElement('div');\n",
              "          docLink.innerHTML = docLinkHtml;\n",
              "          element.appendChild(docLink);\n",
              "        }\n",
              "      </script>\n",
              "    </div>\n",
              "  </div>\n",
              "  "
            ]
          },
          "metadata": {},
          "execution_count": 12
        }
      ],
      "source": [
        "dados.tail()"
      ]
    },
    {
      "cell_type": "code",
      "execution_count": 13,
      "id": "28f10637",
      "metadata": {
        "id": "28f10637",
        "outputId": "d342f9ad-284b-4359-9ae6-407195198c53",
        "colab": {
          "base_uri": "https://localhost:8080/"
        }
      },
      "outputs": [
        {
          "output_type": "execute_result",
          "data": {
            "text/plain": [
              "array(['nome', 'codigo_mun', 'id_bairro', 'area_km2', 'area_ha',\n",
              "       'st_area_sh', 'st_length_', 'geometry'], dtype=object)"
            ]
          },
          "metadata": {},
          "execution_count": 13
        }
      ],
      "source": [
        "# Verificar o nome das colunas\n",
        "dados.columns.values"
      ]
    },
    {
      "cell_type": "code",
      "execution_count": 15,
      "id": "988bafdb",
      "metadata": {
        "id": "988bafdb",
        "outputId": "40f39337-5ef1-437a-c37c-bc3812321406",
        "colab": {
          "base_uri": "https://localhost:8080/",
          "height": 206
        }
      },
      "outputs": [
        {
          "output_type": "execute_result",
          "data": {
            "text/plain": [
              "          nome  id_bairro  area_km2  \\\n",
              "0    Palestina      105.0  0.833906   \n",
              "1       Paripe      156.0  4.882108   \n",
              "2    Patamares        2.0  4.620815   \n",
              "3  Pau da Lima       66.0  1.145097   \n",
              "4    Pau Miúdo       79.0  0.704379   \n",
              "\n",
              "                                            geometry  \n",
              "0  POLYGON ((563547.010 8577348.034, 563562.794 8...  \n",
              "1  POLYGON ((557201.475 8582312.816, 557226.534 8...  \n",
              "2  POLYGON ((564935.025 8566706.503, 564934.976 8...  \n",
              "3  POLYGON ((560777.356 8572284.444, 560759.803 8...  \n",
              "4  POLYGON ((555987.228 8567545.404, 556010.515 8...  "
            ],
            "text/html": [
              "\n",
              "  <div id=\"df-813c6ed4-8b16-4d92-afb3-c84da1a5b3f2\">\n",
              "    <div class=\"colab-df-container\">\n",
              "      <div>\n",
              "<style scoped>\n",
              "    .dataframe tbody tr th:only-of-type {\n",
              "        vertical-align: middle;\n",
              "    }\n",
              "\n",
              "    .dataframe tbody tr th {\n",
              "        vertical-align: top;\n",
              "    }\n",
              "\n",
              "    .dataframe thead th {\n",
              "        text-align: right;\n",
              "    }\n",
              "</style>\n",
              "<table border=\"1\" class=\"dataframe\">\n",
              "  <thead>\n",
              "    <tr style=\"text-align: right;\">\n",
              "      <th></th>\n",
              "      <th>nome</th>\n",
              "      <th>id_bairro</th>\n",
              "      <th>area_km2</th>\n",
              "      <th>geometry</th>\n",
              "    </tr>\n",
              "  </thead>\n",
              "  <tbody>\n",
              "    <tr>\n",
              "      <th>0</th>\n",
              "      <td>Palestina</td>\n",
              "      <td>105.0</td>\n",
              "      <td>0.833906</td>\n",
              "      <td>POLYGON ((563547.010 8577348.034, 563562.794 8...</td>\n",
              "    </tr>\n",
              "    <tr>\n",
              "      <th>1</th>\n",
              "      <td>Paripe</td>\n",
              "      <td>156.0</td>\n",
              "      <td>4.882108</td>\n",
              "      <td>POLYGON ((557201.475 8582312.816, 557226.534 8...</td>\n",
              "    </tr>\n",
              "    <tr>\n",
              "      <th>2</th>\n",
              "      <td>Patamares</td>\n",
              "      <td>2.0</td>\n",
              "      <td>4.620815</td>\n",
              "      <td>POLYGON ((564935.025 8566706.503, 564934.976 8...</td>\n",
              "    </tr>\n",
              "    <tr>\n",
              "      <th>3</th>\n",
              "      <td>Pau da Lima</td>\n",
              "      <td>66.0</td>\n",
              "      <td>1.145097</td>\n",
              "      <td>POLYGON ((560777.356 8572284.444, 560759.803 8...</td>\n",
              "    </tr>\n",
              "    <tr>\n",
              "      <th>4</th>\n",
              "      <td>Pau Miúdo</td>\n",
              "      <td>79.0</td>\n",
              "      <td>0.704379</td>\n",
              "      <td>POLYGON ((555987.228 8567545.404, 556010.515 8...</td>\n",
              "    </tr>\n",
              "  </tbody>\n",
              "</table>\n",
              "</div>\n",
              "      <button class=\"colab-df-convert\" onclick=\"convertToInteractive('df-813c6ed4-8b16-4d92-afb3-c84da1a5b3f2')\"\n",
              "              title=\"Convert this dataframe to an interactive table.\"\n",
              "              style=\"display:none;\">\n",
              "        \n",
              "  <svg xmlns=\"http://www.w3.org/2000/svg\" height=\"24px\"viewBox=\"0 0 24 24\"\n",
              "       width=\"24px\">\n",
              "    <path d=\"M0 0h24v24H0V0z\" fill=\"none\"/>\n",
              "    <path d=\"M18.56 5.44l.94 2.06.94-2.06 2.06-.94-2.06-.94-.94-2.06-.94 2.06-2.06.94zm-11 1L8.5 8.5l.94-2.06 2.06-.94-2.06-.94L8.5 2.5l-.94 2.06-2.06.94zm10 10l.94 2.06.94-2.06 2.06-.94-2.06-.94-.94-2.06-.94 2.06-2.06.94z\"/><path d=\"M17.41 7.96l-1.37-1.37c-.4-.4-.92-.59-1.43-.59-.52 0-1.04.2-1.43.59L10.3 9.45l-7.72 7.72c-.78.78-.78 2.05 0 2.83L4 21.41c.39.39.9.59 1.41.59.51 0 1.02-.2 1.41-.59l7.78-7.78 2.81-2.81c.8-.78.8-2.07 0-2.86zM5.41 20L4 18.59l7.72-7.72 1.47 1.35L5.41 20z\"/>\n",
              "  </svg>\n",
              "      </button>\n",
              "      \n",
              "  <style>\n",
              "    .colab-df-container {\n",
              "      display:flex;\n",
              "      flex-wrap:wrap;\n",
              "      gap: 12px;\n",
              "    }\n",
              "\n",
              "    .colab-df-convert {\n",
              "      background-color: #E8F0FE;\n",
              "      border: none;\n",
              "      border-radius: 50%;\n",
              "      cursor: pointer;\n",
              "      display: none;\n",
              "      fill: #1967D2;\n",
              "      height: 32px;\n",
              "      padding: 0 0 0 0;\n",
              "      width: 32px;\n",
              "    }\n",
              "\n",
              "    .colab-df-convert:hover {\n",
              "      background-color: #E2EBFA;\n",
              "      box-shadow: 0px 1px 2px rgba(60, 64, 67, 0.3), 0px 1px 3px 1px rgba(60, 64, 67, 0.15);\n",
              "      fill: #174EA6;\n",
              "    }\n",
              "\n",
              "    [theme=dark] .colab-df-convert {\n",
              "      background-color: #3B4455;\n",
              "      fill: #D2E3FC;\n",
              "    }\n",
              "\n",
              "    [theme=dark] .colab-df-convert:hover {\n",
              "      background-color: #434B5C;\n",
              "      box-shadow: 0px 1px 3px 1px rgba(0, 0, 0, 0.15);\n",
              "      filter: drop-shadow(0px 1px 2px rgba(0, 0, 0, 0.3));\n",
              "      fill: #FFFFFF;\n",
              "    }\n",
              "  </style>\n",
              "\n",
              "      <script>\n",
              "        const buttonEl =\n",
              "          document.querySelector('#df-813c6ed4-8b16-4d92-afb3-c84da1a5b3f2 button.colab-df-convert');\n",
              "        buttonEl.style.display =\n",
              "          google.colab.kernel.accessAllowed ? 'block' : 'none';\n",
              "\n",
              "        async function convertToInteractive(key) {\n",
              "          const element = document.querySelector('#df-813c6ed4-8b16-4d92-afb3-c84da1a5b3f2');\n",
              "          const dataTable =\n",
              "            await google.colab.kernel.invokeFunction('convertToInteractive',\n",
              "                                                     [key], {});\n",
              "          if (!dataTable) return;\n",
              "\n",
              "          const docLinkHtml = 'Like what you see? Visit the ' +\n",
              "            '<a target=\"_blank\" href=https://colab.research.google.com/notebooks/data_table.ipynb>data table notebook</a>'\n",
              "            + ' to learn more about interactive tables.';\n",
              "          element.innerHTML = '';\n",
              "          dataTable['output_type'] = 'display_data';\n",
              "          await google.colab.output.renderOutput(dataTable, element);\n",
              "          const docLink = document.createElement('div');\n",
              "          docLink.innerHTML = docLinkHtml;\n",
              "          element.appendChild(docLink);\n",
              "        }\n",
              "      </script>\n",
              "    </div>\n",
              "  </div>\n",
              "  "
            ]
          },
          "metadata": {},
          "execution_count": 15
        }
      ],
      "source": [
        "dados = dados[['nome', 'id_bairro', 'area_km2', 'geometry']]\n",
        "dados.head()"
      ]
    },
    {
      "cell_type": "code",
      "execution_count": 16,
      "id": "758a9a8e",
      "metadata": {
        "id": "758a9a8e",
        "outputId": "5129a1aa-0102-4f4e-be21-9fe9a0141ad1",
        "colab": {
          "base_uri": "https://localhost:8080/"
        }
      },
      "outputs": [
        {
          "output_type": "execute_result",
          "data": {
            "text/plain": [
              "(163, 4)"
            ]
          },
          "metadata": {},
          "execution_count": 16
        }
      ],
      "source": [
        "dados.shape"
      ]
    },
    {
      "cell_type": "code",
      "execution_count": 17,
      "id": "51712110",
      "metadata": {
        "id": "51712110",
        "outputId": "23b2df31-ee29-43dc-a327-4c15d73b15b3",
        "colab": {
          "base_uri": "https://localhost:8080/"
        }
      },
      "outputs": [
        {
          "output_type": "stream",
          "name": "stdout",
          "text": [
            "O número de linhas é: 163\n",
            "O número de colunas é: 4\n"
          ]
        }
      ],
      "source": [
        "# Verificando o número de linhas e colunas\n",
        "print(f'O número de linhas é: {dados.shape[0]}')\n",
        "print(f'O número de colunas é: {dados.shape[1]}')"
      ]
    },
    {
      "cell_type": "code",
      "execution_count": 18,
      "id": "bba4d488",
      "metadata": {
        "id": "bba4d488",
        "outputId": "48e42822-2e84-4819-9ab8-f8482b5e02e8",
        "colab": {
          "base_uri": "https://localhost:8080/",
          "height": 293
        }
      },
      "outputs": [
        {
          "output_type": "execute_result",
          "data": {
            "text/plain": [
              "<AxesSubplot:>"
            ]
          },
          "metadata": {},
          "execution_count": 18
        },
        {
          "output_type": "display_data",
          "data": {
            "text/plain": [
              "<Figure size 432x288 with 1 Axes>"
            ],
            "image/png": "[encoded data removed]"
          },
          "metadata": {
            "needs_background": "light"
          }
        }
      ],
      "source": [
        "dados.plot()"
      ]
    },
    {
      "cell_type": "code",
      "execution_count": 19,
      "id": "98006855",
      "metadata": {
        "id": "98006855",
        "outputId": "0677e244-7bc7-40e9-9b0a-92d7f4bb970d",
        "colab": {
          "base_uri": "https://localhost:8080/"
        }
      },
      "outputs": [
        {
          "output_type": "stream",
          "name": "stdout",
          "text": [
            "O polígono de índice 0 possui uma área de 833906.06 m²\n",
            "O polígono de índice 1 possui uma área de 4882107.72 m²\n",
            "O polígono de índice 2 possui uma área de 4620815.04 m²\n",
            "O polígono de índice 3 possui uma área de 1145097.45 m²\n",
            "O polígono de índice 4 possui uma área de 704379.25 m²\n",
            "O polígono de índice 5 possui uma área de 3382191.31 m²\n",
            "O polígono de índice 6 possui uma área de 442994.67 m²\n",
            "O polígono de índice 7 possui uma área de 3173077.22 m²\n",
            "O polígono de índice 8 possui uma área de 456757.45 m²\n",
            "O polígono de índice 9 possui uma área de 1102223.80 m²\n"
          ]
        }
      ],
      "source": [
        "for indice, linha in dados[0:10].iterrows():\n",
        "    area_polig = linha['geometry'].area\n",
        "    print(f\"O polígono de índice {indice} possui uma área de {area_polig:.2f} m²\")\n",
        "    "
      ]
    },
    {
      "cell_type": "code",
      "execution_count": 20,
      "id": "819cabab",
      "metadata": {
        "id": "819cabab",
        "outputId": "d0ae0aa8-a356-461c-c5bc-361e8ef20412",
        "colab": {
          "base_uri": "https://localhost:8080/",
          "height": 330
        }
      },
      "outputs": [
        {
          "output_type": "stream",
          "name": "stderr",
          "text": [
            "/usr/local/lib/python3.8/dist-packages/geopandas/geodataframe.py:1443: SettingWithCopyWarning: \n",
            "A value is trying to be set on a copy of a slice from a DataFrame.\n",
            "Try using .loc[row_indexer,col_indexer] = value instead\n",
            "\n",
            "See the caveats in the documentation: https://pandas.pydata.org/pandas-docs/stable/user_guide/indexing.html#returning-a-view-versus-a-copy\n",
            "  super().__setitem__(key, value)\n"
          ]
        },
        {
          "output_type": "execute_result",
          "data": {
            "text/plain": [
              "          nome  id_bairro  area_km2  \\\n",
              "0    Palestina      105.0  0.833906   \n",
              "1       Paripe      156.0  4.882108   \n",
              "2    Patamares        2.0  4.620815   \n",
              "3  Pau da Lima       66.0  1.145097   \n",
              "4    Pau Miúdo       79.0  0.704379   \n",
              "\n",
              "                                            geometry          Area  \n",
              "0  POLYGON ((563547.010 8577348.034, 563562.794 8...  8.339061e+05  \n",
              "1  POLYGON ((557201.475 8582312.816, 557226.534 8...  4.882108e+06  \n",
              "2  POLYGON ((564935.025 8566706.503, 564934.976 8...  4.620815e+06  \n",
              "3  POLYGON ((560777.356 8572284.444, 560759.803 8...  1.145097e+06  \n",
              "4  POLYGON ((555987.228 8567545.404, 556010.515 8...  7.043793e+05  "
            ],
            "text/html": [
              "\n",
              "  <div id=\"df-2daedc69-280f-427c-91c8-bbf66aa3a6ae\">\n",
              "    <div class=\"colab-df-container\">\n",
              "      <div>\n",
              "<style scoped>\n",
              "    .dataframe tbody tr th:only-of-type {\n",
              "        vertical-align: middle;\n",
              "    }\n",
              "\n",
              "    .dataframe tbody tr th {\n",
              "        vertical-align: top;\n",
              "    }\n",
              "\n",
              "    .dataframe thead th {\n",
              "        text-align: right;\n",
              "    }\n",
              "</style>\n",
              "<table border=\"1\" class=\"dataframe\">\n",
              "  <thead>\n",
              "    <tr style=\"text-align: right;\">\n",
              "      <th></th>\n",
              "      <th>nome</th>\n",
              "      <th>id_bairro</th>\n",
              "      <th>area_km2</th>\n",
              "      <th>geometry</th>\n",
              "      <th>Area</th>\n",
              "    </tr>\n",
              "  </thead>\n",
              "  <tbody>\n",
              "    <tr>\n",
              "      <th>0</th>\n",
              "      <td>Palestina</td>\n",
              "      <td>105.0</td>\n",
              "      <td>0.833906</td>\n",
              "      <td>POLYGON ((563547.010 8577348.034, 563562.794 8...</td>\n",
              "      <td>8.339061e+05</td>\n",
              "    </tr>\n",
              "    <tr>\n",
              "      <th>1</th>\n",
              "      <td>Paripe</td>\n",
              "      <td>156.0</td>\n",
              "      <td>4.882108</td>\n",
              "      <td>POLYGON ((557201.475 8582312.816, 557226.534 8...</td>\n",
              "      <td>4.882108e+06</td>\n",
              "    </tr>\n",
              "    <tr>\n",
              "      <th>2</th>\n",
              "      <td>Patamares</td>\n",
              "      <td>2.0</td>\n",
              "      <td>4.620815</td>\n",
              "      <td>POLYGON ((564935.025 8566706.503, 564934.976 8...</td>\n",
              "      <td>4.620815e+06</td>\n",
              "    </tr>\n",
              "    <tr>\n",
              "      <th>3</th>\n",
              "      <td>Pau da Lima</td>\n",
              "      <td>66.0</td>\n",
              "      <td>1.145097</td>\n",
              "      <td>POLYGON ((560777.356 8572284.444, 560759.803 8...</td>\n",
              "      <td>1.145097e+06</td>\n",
              "    </tr>\n",
              "    <tr>\n",
              "      <th>4</th>\n",
              "      <td>Pau Miúdo</td>\n",
              "      <td>79.0</td>\n",
              "      <td>0.704379</td>\n",
              "      <td>POLYGON ((555987.228 8567545.404, 556010.515 8...</td>\n",
              "      <td>7.043793e+05</td>\n",
              "    </tr>\n",
              "  </tbody>\n",
              "</table>\n",
              "</div>\n",
              "      <button class=\"colab-df-convert\" onclick=\"convertToInteractive('df-2daedc69-280f-427c-91c8-bbf66aa3a6ae')\"\n",
              "              title=\"Convert this dataframe to an interactive table.\"\n",
              "              style=\"display:none;\">\n",
              "        \n",
              "  <svg xmlns=\"http://www.w3.org/2000/svg\" height=\"24px\"viewBox=\"0 0 24 24\"\n",
              "       width=\"24px\">\n",
              "    <path d=\"M0 0h24v24H0V0z\" fill=\"none\"/>\n",
              "    <path d=\"M18.56 5.44l.94 2.06.94-2.06 2.06-.94-2.06-.94-.94-2.06-.94 2.06-2.06.94zm-11 1L8.5 8.5l.94-2.06 2.06-.94-2.06-.94L8.5 2.5l-.94 2.06-2.06.94zm10 10l.94 2.06.94-2.06 2.06-.94-2.06-.94-.94-2.06-.94 2.06-2.06.94z\"/><path d=\"M17.41 7.96l-1.37-1.37c-.4-.4-.92-.59-1.43-.59-.52 0-1.04.2-1.43.59L10.3 9.45l-7.72 7.72c-.78.78-.78 2.05 0 2.83L4 21.41c.39.39.9.59 1.41.59.51 0 1.02-.2 1.41-.59l7.78-7.78 2.81-2.81c.8-.78.8-2.07 0-2.86zM5.41 20L4 18.59l7.72-7.72 1.47 1.35L5.41 20z\"/>\n",
              "  </svg>\n",
              "      </button>\n",
              "      \n",
              "  <style>\n",
              "    .colab-df-container {\n",
              "      display:flex;\n",
              "      flex-wrap:wrap;\n",
              "      gap: 12px;\n",
              "    }\n",
              "\n",
              "    .colab-df-convert {\n",
              "      background-color: #E8F0FE;\n",
              "      border: none;\n",
              "      border-radius: 50%;\n",
              "      cursor: pointer;\n",
              "      display: none;\n",
              "      fill: #1967D2;\n",
              "      height: 32px;\n",
              "      padding: 0 0 0 0;\n",
              "      width: 32px;\n",
              "    }\n",
              "\n",
              "    .colab-df-convert:hover {\n",
              "      background-color: #E2EBFA;\n",
              "      box-shadow: 0px 1px 2px rgba(60, 64, 67, 0.3), 0px 1px 3px 1px rgba(60, 64, 67, 0.15);\n",
              "      fill: #174EA6;\n",
              "    }\n",
              "\n",
              "    [theme=dark] .colab-df-convert {\n",
              "      background-color: #3B4455;\n",
              "      fill: #D2E3FC;\n",
              "    }\n",
              "\n",
              "    [theme=dark] .colab-df-convert:hover {\n",
              "      background-color: #434B5C;\n",
              "      box-shadow: 0px 1px 3px 1px rgba(0, 0, 0, 0.15);\n",
              "      filter: drop-shadow(0px 1px 2px rgba(0, 0, 0, 0.3));\n",
              "      fill: #FFFFFF;\n",
              "    }\n",
              "  </style>\n",
              "\n",
              "      <script>\n",
              "        const buttonEl =\n",
              "          document.querySelector('#df-2daedc69-280f-427c-91c8-bbf66aa3a6ae button.colab-df-convert');\n",
              "        buttonEl.style.display =\n",
              "          google.colab.kernel.accessAllowed ? 'block' : 'none';\n",
              "\n",
              "        async function convertToInteractive(key) {\n",
              "          const element = document.querySelector('#df-2daedc69-280f-427c-91c8-bbf66aa3a6ae');\n",
              "          const dataTable =\n",
              "            await google.colab.kernel.invokeFunction('convertToInteractive',\n",
              "                                                     [key], {});\n",
              "          if (!dataTable) return;\n",
              "\n",
              "          const docLinkHtml = 'Like what you see? Visit the ' +\n",
              "            '<a target=\"_blank\" href=https://colab.research.google.com/notebooks/data_table.ipynb>data table notebook</a>'\n",
              "            + ' to learn more about interactive tables.';\n",
              "          element.innerHTML = '';\n",
              "          dataTable['output_type'] = 'display_data';\n",
              "          await google.colab.output.renderOutput(dataTable, element);\n",
              "          const docLink = document.createElement('div');\n",
              "          docLink.innerHTML = docLinkHtml;\n",
              "          element.appendChild(docLink);\n",
              "        }\n",
              "      </script>\n",
              "    </div>\n",
              "  </div>\n",
              "  "
            ]
          },
          "metadata": {},
          "execution_count": 20
        }
      ],
      "source": [
        "# Criar uma coluna área \n",
        "dados['Area'] = dados.area\n",
        "dados.head()"
      ]
    },
    {
      "cell_type": "code",
      "execution_count": 21,
      "id": "b8a7434f",
      "metadata": {
        "id": "b8a7434f",
        "outputId": "4bbbc14b-09e4-4afc-e1dc-c8ac23fdfd53",
        "colab": {
          "base_uri": "https://localhost:8080/",
          "height": 206
        }
      },
      "outputs": [
        {
          "output_type": "execute_result",
          "data": {
            "text/plain": [
              "          nome  id_bairro  area_km2  \\\n",
              "0    Palestina      105.0  0.833906   \n",
              "1       Paripe      156.0  4.882108   \n",
              "2    Patamares        2.0  4.620815   \n",
              "3  Pau da Lima       66.0  1.145097   \n",
              "4    Pau Miúdo       79.0  0.704379   \n",
              "\n",
              "                                            geometry  \n",
              "0  POLYGON ((563547.010 8577348.034, 563562.794 8...  \n",
              "1  POLYGON ((557201.475 8582312.816, 557226.534 8...  \n",
              "2  POLYGON ((564935.025 8566706.503, 564934.976 8...  \n",
              "3  POLYGON ((560777.356 8572284.444, 560759.803 8...  \n",
              "4  POLYGON ((555987.228 8567545.404, 556010.515 8...  "
            ],
            "text/html": [
              "\n",
              "  <div id=\"df-5c20a58c-16f6-4736-9284-df7db798e497\">\n",
              "    <div class=\"colab-df-container\">\n",
              "      <div>\n",
              "<style scoped>\n",
              "    .dataframe tbody tr th:only-of-type {\n",
              "        vertical-align: middle;\n",
              "    }\n",
              "\n",
              "    .dataframe tbody tr th {\n",
              "        vertical-align: top;\n",
              "    }\n",
              "\n",
              "    .dataframe thead th {\n",
              "        text-align: right;\n",
              "    }\n",
              "</style>\n",
              "<table border=\"1\" class=\"dataframe\">\n",
              "  <thead>\n",
              "    <tr style=\"text-align: right;\">\n",
              "      <th></th>\n",
              "      <th>nome</th>\n",
              "      <th>id_bairro</th>\n",
              "      <th>area_km2</th>\n",
              "      <th>geometry</th>\n",
              "    </tr>\n",
              "  </thead>\n",
              "  <tbody>\n",
              "    <tr>\n",
              "      <th>0</th>\n",
              "      <td>Palestina</td>\n",
              "      <td>105.0</td>\n",
              "      <td>0.833906</td>\n",
              "      <td>POLYGON ((563547.010 8577348.034, 563562.794 8...</td>\n",
              "    </tr>\n",
              "    <tr>\n",
              "      <th>1</th>\n",
              "      <td>Paripe</td>\n",
              "      <td>156.0</td>\n",
              "      <td>4.882108</td>\n",
              "      <td>POLYGON ((557201.475 8582312.816, 557226.534 8...</td>\n",
              "    </tr>\n",
              "    <tr>\n",
              "      <th>2</th>\n",
              "      <td>Patamares</td>\n",
              "      <td>2.0</td>\n",
              "      <td>4.620815</td>\n",
              "      <td>POLYGON ((564935.025 8566706.503, 564934.976 8...</td>\n",
              "    </tr>\n",
              "    <tr>\n",
              "      <th>3</th>\n",
              "      <td>Pau da Lima</td>\n",
              "      <td>66.0</td>\n",
              "      <td>1.145097</td>\n",
              "      <td>POLYGON ((560777.356 8572284.444, 560759.803 8...</td>\n",
              "    </tr>\n",
              "    <tr>\n",
              "      <th>4</th>\n",
              "      <td>Pau Miúdo</td>\n",
              "      <td>79.0</td>\n",
              "      <td>0.704379</td>\n",
              "      <td>POLYGON ((555987.228 8567545.404, 556010.515 8...</td>\n",
              "    </tr>\n",
              "  </tbody>\n",
              "</table>\n",
              "</div>\n",
              "      <button class=\"colab-df-convert\" onclick=\"convertToInteractive('df-5c20a58c-16f6-4736-9284-df7db798e497')\"\n",
              "              title=\"Convert this dataframe to an interactive table.\"\n",
              "              style=\"display:none;\">\n",
              "        \n",
              "  <svg xmlns=\"http://www.w3.org/2000/svg\" height=\"24px\"viewBox=\"0 0 24 24\"\n",
              "       width=\"24px\">\n",
              "    <path d=\"M0 0h24v24H0V0z\" fill=\"none\"/>\n",
              "    <path d=\"M18.56 5.44l.94 2.06.94-2.06 2.06-.94-2.06-.94-.94-2.06-.94 2.06-2.06.94zm-11 1L8.5 8.5l.94-2.06 2.06-.94-2.06-.94L8.5 2.5l-.94 2.06-2.06.94zm10 10l.94 2.06.94-2.06 2.06-.94-2.06-.94-.94-2.06-.94 2.06-2.06.94z\"/><path d=\"M17.41 7.96l-1.37-1.37c-.4-.4-.92-.59-1.43-.59-.52 0-1.04.2-1.43.59L10.3 9.45l-7.72 7.72c-.78.78-.78 2.05 0 2.83L4 21.41c.39.39.9.59 1.41.59.51 0 1.02-.2 1.41-.59l7.78-7.78 2.81-2.81c.8-.78.8-2.07 0-2.86zM5.41 20L4 18.59l7.72-7.72 1.47 1.35L5.41 20z\"/>\n",
              "  </svg>\n",
              "      </button>\n",
              "      \n",
              "  <style>\n",
              "    .colab-df-container {\n",
              "      display:flex;\n",
              "      flex-wrap:wrap;\n",
              "      gap: 12px;\n",
              "    }\n",
              "\n",
              "    .colab-df-convert {\n",
              "      background-color: #E8F0FE;\n",
              "      border: none;\n",
              "      border-radius: 50%;\n",
              "      cursor: pointer;\n",
              "      display: none;\n",
              "      fill: #1967D2;\n",
              "      height: 32px;\n",
              "      padding: 0 0 0 0;\n",
              "      width: 32px;\n",
              "    }\n",
              "\n",
              "    .colab-df-convert:hover {\n",
              "      background-color: #E2EBFA;\n",
              "      box-shadow: 0px 1px 2px rgba(60, 64, 67, 0.3), 0px 1px 3px 1px rgba(60, 64, 67, 0.15);\n",
              "      fill: #174EA6;\n",
              "    }\n",
              "\n",
              "    [theme=dark] .colab-df-convert {\n",
              "      background-color: #3B4455;\n",
              "      fill: #D2E3FC;\n",
              "    }\n",
              "\n",
              "    [theme=dark] .colab-df-convert:hover {\n",
              "      background-color: #434B5C;\n",
              "      box-shadow: 0px 1px 3px 1px rgba(0, 0, 0, 0.15);\n",
              "      filter: drop-shadow(0px 1px 2px rgba(0, 0, 0, 0.3));\n",
              "      fill: #FFFFFF;\n",
              "    }\n",
              "  </style>\n",
              "\n",
              "      <script>\n",
              "        const buttonEl =\n",
              "          document.querySelector('#df-5c20a58c-16f6-4736-9284-df7db798e497 button.colab-df-convert');\n",
              "        buttonEl.style.display =\n",
              "          google.colab.kernel.accessAllowed ? 'block' : 'none';\n",
              "\n",
              "        async function convertToInteractive(key) {\n",
              "          const element = document.querySelector('#df-5c20a58c-16f6-4736-9284-df7db798e497');\n",
              "          const dataTable =\n",
              "            await google.colab.kernel.invokeFunction('convertToInteractive',\n",
              "                                                     [key], {});\n",
              "          if (!dataTable) return;\n",
              "\n",
              "          const docLinkHtml = 'Like what you see? Visit the ' +\n",
              "            '<a target=\"_blank\" href=https://colab.research.google.com/notebooks/data_table.ipynb>data table notebook</a>'\n",
              "            + ' to learn more about interactive tables.';\n",
              "          element.innerHTML = '';\n",
              "          dataTable['output_type'] = 'display_data';\n",
              "          await google.colab.output.renderOutput(dataTable, element);\n",
              "          const docLink = document.createElement('div');\n",
              "          docLink.innerHTML = docLinkHtml;\n",
              "          element.appendChild(docLink);\n",
              "        }\n",
              "      </script>\n",
              "    </div>\n",
              "  </div>\n",
              "  "
            ]
          },
          "metadata": {},
          "execution_count": 21
        }
      ],
      "source": [
        "dados = dados.drop(columns=['Area'])\n",
        "dados.head()"
      ]
    },
    {
      "cell_type": "code",
      "execution_count": 29,
      "id": "21062938",
      "metadata": {
        "id": "21062938",
        "outputId": "fa10e108-46e1-465b-878a-7a9849db63de",
        "colab": {
          "base_uri": "https://localhost:8080/",
          "height": 206
        }
      },
      "outputs": [
        {
          "output_type": "execute_result",
          "data": {
            "text/plain": [
              "          nome  id_bairro  area_km2  \\\n",
              "0    Palestina      105.0  0.833906   \n",
              "1       Paripe      156.0  4.882108   \n",
              "2    Patamares        2.0  4.620815   \n",
              "3  Pau da Lima       66.0  1.145097   \n",
              "4    Pau Miúdo       79.0  0.704379   \n",
              "\n",
              "                                            geometry     area_ha  \n",
              "0  POLYGON ((563547.010 8577348.034, 563562.794 8...   83.390606  \n",
              "1  POLYGON ((557201.475 8582312.816, 557226.534 8...  488.210772  \n",
              "2  POLYGON ((564935.025 8566706.503, 564934.976 8...  462.081504  \n",
              "3  POLYGON ((560777.356 8572284.444, 560759.803 8...  114.509745  \n",
              "4  POLYGON ((555987.228 8567545.404, 556010.515 8...   70.437925  "
            ],
            "text/html": [
              "\n",
              "  <div id=\"df-8ed9ddb3-79d0-457b-86ae-7a9930492a6e\">\n",
              "    <div class=\"colab-df-container\">\n",
              "      <div>\n",
              "<style scoped>\n",
              "    .dataframe tbody tr th:only-of-type {\n",
              "        vertical-align: middle;\n",
              "    }\n",
              "\n",
              "    .dataframe tbody tr th {\n",
              "        vertical-align: top;\n",
              "    }\n",
              "\n",
              "    .dataframe thead th {\n",
              "        text-align: right;\n",
              "    }\n",
              "</style>\n",
              "<table border=\"1\" class=\"dataframe\">\n",
              "  <thead>\n",
              "    <tr style=\"text-align: right;\">\n",
              "      <th></th>\n",
              "      <th>nome</th>\n",
              "      <th>id_bairro</th>\n",
              "      <th>area_km2</th>\n",
              "      <th>geometry</th>\n",
              "      <th>area_ha</th>\n",
              "    </tr>\n",
              "  </thead>\n",
              "  <tbody>\n",
              "    <tr>\n",
              "      <th>0</th>\n",
              "      <td>Palestina</td>\n",
              "      <td>105.0</td>\n",
              "      <td>0.833906</td>\n",
              "      <td>POLYGON ((563547.010 8577348.034, 563562.794 8...</td>\n",
              "      <td>83.390606</td>\n",
              "    </tr>\n",
              "    <tr>\n",
              "      <th>1</th>\n",
              "      <td>Paripe</td>\n",
              "      <td>156.0</td>\n",
              "      <td>4.882108</td>\n",
              "      <td>POLYGON ((557201.475 8582312.816, 557226.534 8...</td>\n",
              "      <td>488.210772</td>\n",
              "    </tr>\n",
              "    <tr>\n",
              "      <th>2</th>\n",
              "      <td>Patamares</td>\n",
              "      <td>2.0</td>\n",
              "      <td>4.620815</td>\n",
              "      <td>POLYGON ((564935.025 8566706.503, 564934.976 8...</td>\n",
              "      <td>462.081504</td>\n",
              "    </tr>\n",
              "    <tr>\n",
              "      <th>3</th>\n",
              "      <td>Pau da Lima</td>\n",
              "      <td>66.0</td>\n",
              "      <td>1.145097</td>\n",
              "      <td>POLYGON ((560777.356 8572284.444, 560759.803 8...</td>\n",
              "      <td>114.509745</td>\n",
              "    </tr>\n",
              "    <tr>\n",
              "      <th>4</th>\n",
              "      <td>Pau Miúdo</td>\n",
              "      <td>79.0</td>\n",
              "      <td>0.704379</td>\n",
              "      <td>POLYGON ((555987.228 8567545.404, 556010.515 8...</td>\n",
              "      <td>70.437925</td>\n",
              "    </tr>\n",
              "  </tbody>\n",
              "</table>\n",
              "</div>\n",
              "      <button class=\"colab-df-convert\" onclick=\"convertToInteractive('df-8ed9ddb3-79d0-457b-86ae-7a9930492a6e')\"\n",
              "              title=\"Convert this dataframe to an interactive table.\"\n",
              "              style=\"display:none;\">\n",
              "        \n",
              "  <svg xmlns=\"http://www.w3.org/2000/svg\" height=\"24px\"viewBox=\"0 0 24 24\"\n",
              "       width=\"24px\">\n",
              "    <path d=\"M0 0h24v24H0V0z\" fill=\"none\"/>\n",
              "    <path d=\"M18.56 5.44l.94 2.06.94-2.06 2.06-.94-2.06-.94-.94-2.06-.94 2.06-2.06.94zm-11 1L8.5 8.5l.94-2.06 2.06-.94-2.06-.94L8.5 2.5l-.94 2.06-2.06.94zm10 10l.94 2.06.94-2.06 2.06-.94-2.06-.94-.94-2.06-.94 2.06-2.06.94z\"/><path d=\"M17.41 7.96l-1.37-1.37c-.4-.4-.92-.59-1.43-.59-.52 0-1.04.2-1.43.59L10.3 9.45l-7.72 7.72c-.78.78-.78 2.05 0 2.83L4 21.41c.39.39.9.59 1.41.59.51 0 1.02-.2 1.41-.59l7.78-7.78 2.81-2.81c.8-.78.8-2.07 0-2.86zM5.41 20L4 18.59l7.72-7.72 1.47 1.35L5.41 20z\"/>\n",
              "  </svg>\n",
              "      </button>\n",
              "      \n",
              "  <style>\n",
              "    .colab-df-container {\n",
              "      display:flex;\n",
              "      flex-wrap:wrap;\n",
              "      gap: 12px;\n",
              "    }\n",
              "\n",
              "    .colab-df-convert {\n",
              "      background-color: #E8F0FE;\n",
              "      border: none;\n",
              "      border-radius: 50%;\n",
              "      cursor: pointer;\n",
              "      display: none;\n",
              "      fill: #1967D2;\n",
              "      height: 32px;\n",
              "      padding: 0 0 0 0;\n",
              "      width: 32px;\n",
              "    }\n",
              "\n",
              "    .colab-df-convert:hover {\n",
              "      background-color: #E2EBFA;\n",
              "      box-shadow: 0px 1px 2px rgba(60, 64, 67, 0.3), 0px 1px 3px 1px rgba(60, 64, 67, 0.15);\n",
              "      fill: #174EA6;\n",
              "    }\n",
              "\n",
              "    [theme=dark] .colab-df-convert {\n",
              "      background-color: #3B4455;\n",
              "      fill: #D2E3FC;\n",
              "    }\n",
              "\n",
              "    [theme=dark] .colab-df-convert:hover {\n",
              "      background-color: #434B5C;\n",
              "      box-shadow: 0px 1px 3px 1px rgba(0, 0, 0, 0.15);\n",
              "      filter: drop-shadow(0px 1px 2px rgba(0, 0, 0, 0.3));\n",
              "      fill: #FFFFFF;\n",
              "    }\n",
              "  </style>\n",
              "\n",
              "      <script>\n",
              "        const buttonEl =\n",
              "          document.querySelector('#df-8ed9ddb3-79d0-457b-86ae-7a9930492a6e button.colab-df-convert');\n",
              "        buttonEl.style.display =\n",
              "          google.colab.kernel.accessAllowed ? 'block' : 'none';\n",
              "\n",
              "        async function convertToInteractive(key) {\n",
              "          const element = document.querySelector('#df-8ed9ddb3-79d0-457b-86ae-7a9930492a6e');\n",
              "          const dataTable =\n",
              "            await google.colab.kernel.invokeFunction('convertToInteractive',\n",
              "                                                     [key], {});\n",
              "          if (!dataTable) return;\n",
              "\n",
              "          const docLinkHtml = 'Like what you see? Visit the ' +\n",
              "            '<a target=\"_blank\" href=https://colab.research.google.com/notebooks/data_table.ipynb>data table notebook</a>'\n",
              "            + ' to learn more about interactive tables.';\n",
              "          element.innerHTML = '';\n",
              "          dataTable['output_type'] = 'display_data';\n",
              "          await google.colab.output.renderOutput(dataTable, element);\n",
              "          const docLink = document.createElement('div');\n",
              "          docLink.innerHTML = docLinkHtml;\n",
              "          element.appendChild(docLink);\n",
              "        }\n",
              "      </script>\n",
              "    </div>\n",
              "  </div>\n",
              "  "
            ]
          },
          "metadata": {},
          "execution_count": 29
        }
      ],
      "source": [
        "dados['area_ha'] = dados['area_km2'] * 100\n",
        "dados.head()"
      ]
    },
    {
      "cell_type": "code",
      "execution_count": 30,
      "id": "4e040e20",
      "metadata": {
        "id": "4e040e20",
        "outputId": "3ec55490-d817-4f97-bbd5-828e56a1de2d",
        "colab": {
          "base_uri": "https://localhost:8080/"
        }
      },
      "outputs": [
        {
          "output_type": "execute_result",
          "data": {
            "text/plain": [
              "15.11"
            ]
          },
          "metadata": {},
          "execution_count": 30
        }
      ],
      "source": [
        "# área máxima em km2\n",
        "round(dados['area_km2'].max(), 2)"
      ]
    },
    {
      "cell_type": "code",
      "execution_count": 32,
      "id": "06c97040",
      "metadata": {
        "id": "06c97040",
        "outputId": "cfd96c36-8216-4a18-cb68-d067126c2153",
        "colab": {
          "base_uri": "https://localhost:8080/"
        }
      },
      "outputs": [
        {
          "output_type": "execute_result",
          "data": {
            "text/plain": [
              "0.13399222"
            ]
          },
          "metadata": {},
          "execution_count": 32
        }
      ],
      "source": [
        "# área mínima em km2\n",
        "dados['area_km2'].min()"
      ]
    },
    {
      "cell_type": "code",
      "execution_count": 34,
      "id": "399bbf73",
      "metadata": {
        "id": "399bbf73",
        "outputId": "404d6d15-135e-4c1a-cf97-bc0e15bbbdfd",
        "colab": {
          "base_uri": "https://localhost:8080/"
        }
      },
      "outputs": [
        {
          "output_type": "execute_result",
          "data": {
            "text/plain": [
              "1.8615500236809814"
            ]
          },
          "metadata": {},
          "execution_count": 34
        }
      ],
      "source": [
        "# área média em km2\n",
        "dados['area_km2'].mean()"
      ]
    },
    {
      "cell_type": "code",
      "execution_count": 38,
      "id": "d35da5a3",
      "metadata": {
        "id": "d35da5a3",
        "outputId": "debd969c-797b-438a-eca6-5d73e9274318",
        "colab": {
          "base_uri": "https://localhost:8080/"
        }
      },
      "outputs": [
        {
          "output_type": "execute_result",
          "data": {
            "text/plain": [
              "1.8615500236809814"
            ]
          },
          "metadata": {},
          "execution_count": 38
        }
      ],
      "source": [
        "# Soma de todas as área em km2 \n",
        "dados['area_km2'].sum() / dados['area_km2'].shape[0]"
      ]
    },
    {
      "cell_type": "markdown",
      "id": "76092501",
      "metadata": {
        "id": "76092501"
      },
      "source": [
        "# Selecionando um Bairro e Salvando"
      ]
    },
    {
      "cell_type": "code",
      "execution_count": 39,
      "id": "f3b9f439",
      "metadata": {
        "id": "f3b9f439"
      },
      "outputs": [],
      "source": [
        "select = dados.loc[dados['nome'] == 'Paripe']"
      ]
    },
    {
      "cell_type": "code",
      "execution_count": 40,
      "id": "cc6a3c03",
      "metadata": {
        "id": "cc6a3c03",
        "outputId": "35847e05-b612-4b63-b0f7-a797ab6674fe",
        "colab": {
          "base_uri": "https://localhost:8080/",
          "height": 81
        }
      },
      "outputs": [
        {
          "output_type": "execute_result",
          "data": {
            "text/plain": [
              "     nome  id_bairro  area_km2  \\\n",
              "1  Paripe      156.0  4.882108   \n",
              "\n",
              "                                            geometry     area_ha  \n",
              "1  POLYGON ((557201.475 8582312.816, 557226.534 8...  488.210772  "
            ],
            "text/html": [
              "\n",
              "  <div id=\"df-8db6a64d-2d48-4726-8231-4d70183d547d\">\n",
              "    <div class=\"colab-df-container\">\n",
              "      <div>\n",
              "<style scoped>\n",
              "    .dataframe tbody tr th:only-of-type {\n",
              "        vertical-align: middle;\n",
              "    }\n",
              "\n",
              "    .dataframe tbody tr th {\n",
              "        vertical-align: top;\n",
              "    }\n",
              "\n",
              "    .dataframe thead th {\n",
              "        text-align: right;\n",
              "    }\n",
              "</style>\n",
              "<table border=\"1\" class=\"dataframe\">\n",
              "  <thead>\n",
              "    <tr style=\"text-align: right;\">\n",
              "      <th></th>\n",
              "      <th>nome</th>\n",
              "      <th>id_bairro</th>\n",
              "      <th>area_km2</th>\n",
              "      <th>geometry</th>\n",
              "      <th>area_ha</th>\n",
              "    </tr>\n",
              "  </thead>\n",
              "  <tbody>\n",
              "    <tr>\n",
              "      <th>1</th>\n",
              "      <td>Paripe</td>\n",
              "      <td>156.0</td>\n",
              "      <td>4.882108</td>\n",
              "      <td>POLYGON ((557201.475 8582312.816, 557226.534 8...</td>\n",
              "      <td>488.210772</td>\n",
              "    </tr>\n",
              "  </tbody>\n",
              "</table>\n",
              "</div>\n",
              "      <button class=\"colab-df-convert\" onclick=\"convertToInteractive('df-8db6a64d-2d48-4726-8231-4d70183d547d')\"\n",
              "              title=\"Convert this dataframe to an interactive table.\"\n",
              "              style=\"display:none;\">\n",
              "        \n",
              "  <svg xmlns=\"http://www.w3.org/2000/svg\" height=\"24px\"viewBox=\"0 0 24 24\"\n",
              "       width=\"24px\">\n",
              "    <path d=\"M0 0h24v24H0V0z\" fill=\"none\"/>\n",
              "    <path d=\"M18.56 5.44l.94 2.06.94-2.06 2.06-.94-2.06-.94-.94-2.06-.94 2.06-2.06.94zm-11 1L8.5 8.5l.94-2.06 2.06-.94-2.06-.94L8.5 2.5l-.94 2.06-2.06.94zm10 10l.94 2.06.94-2.06 2.06-.94-2.06-.94-.94-2.06-.94 2.06-2.06.94z\"/><path d=\"M17.41 7.96l-1.37-1.37c-.4-.4-.92-.59-1.43-.59-.52 0-1.04.2-1.43.59L10.3 9.45l-7.72 7.72c-.78.78-.78 2.05 0 2.83L4 21.41c.39.39.9.59 1.41.59.51 0 1.02-.2 1.41-.59l7.78-7.78 2.81-2.81c.8-.78.8-2.07 0-2.86zM5.41 20L4 18.59l7.72-7.72 1.47 1.35L5.41 20z\"/>\n",
              "  </svg>\n",
              "      </button>\n",
              "      \n",
              "  <style>\n",
              "    .colab-df-container {\n",
              "      display:flex;\n",
              "      flex-wrap:wrap;\n",
              "      gap: 12px;\n",
              "    }\n",
              "\n",
              "    .colab-df-convert {\n",
              "      background-color: #E8F0FE;\n",
              "      border: none;\n",
              "      border-radius: 50%;\n",
              "      cursor: pointer;\n",
              "      display: none;\n",
              "      fill: #1967D2;\n",
              "      height: 32px;\n",
              "      padding: 0 0 0 0;\n",
              "      width: 32px;\n",
              "    }\n",
              "\n",
              "    .colab-df-convert:hover {\n",
              "      background-color: #E2EBFA;\n",
              "      box-shadow: 0px 1px 2px rgba(60, 64, 67, 0.3), 0px 1px 3px 1px rgba(60, 64, 67, 0.15);\n",
              "      fill: #174EA6;\n",
              "    }\n",
              "\n",
              "    [theme=dark] .colab-df-convert {\n",
              "      background-color: #3B4455;\n",
              "      fill: #D2E3FC;\n",
              "    }\n",
              "\n",
              "    [theme=dark] .colab-df-convert:hover {\n",
              "      background-color: #434B5C;\n",
              "      box-shadow: 0px 1px 3px 1px rgba(0, 0, 0, 0.15);\n",
              "      filter: drop-shadow(0px 1px 2px rgba(0, 0, 0, 0.3));\n",
              "      fill: #FFFFFF;\n",
              "    }\n",
              "  </style>\n",
              "\n",
              "      <script>\n",
              "        const buttonEl =\n",
              "          document.querySelector('#df-8db6a64d-2d48-4726-8231-4d70183d547d button.colab-df-convert');\n",
              "        buttonEl.style.display =\n",
              "          google.colab.kernel.accessAllowed ? 'block' : 'none';\n",
              "\n",
              "        async function convertToInteractive(key) {\n",
              "          const element = document.querySelector('#df-8db6a64d-2d48-4726-8231-4d70183d547d');\n",
              "          const dataTable =\n",
              "            await google.colab.kernel.invokeFunction('convertToInteractive',\n",
              "                                                     [key], {});\n",
              "          if (!dataTable) return;\n",
              "\n",
              "          const docLinkHtml = 'Like what you see? Visit the ' +\n",
              "            '<a target=\"_blank\" href=https://colab.research.google.com/notebooks/data_table.ipynb>data table notebook</a>'\n",
              "            + ' to learn more about interactive tables.';\n",
              "          element.innerHTML = '';\n",
              "          dataTable['output_type'] = 'display_data';\n",
              "          await google.colab.output.renderOutput(dataTable, element);\n",
              "          const docLink = document.createElement('div');\n",
              "          docLink.innerHTML = docLinkHtml;\n",
              "          element.appendChild(docLink);\n",
              "        }\n",
              "      </script>\n",
              "    </div>\n",
              "  </div>\n",
              "  "
            ]
          },
          "metadata": {},
          "execution_count": 40
        }
      ],
      "source": [
        "select.head()"
      ]
    },
    {
      "cell_type": "code",
      "execution_count": 41,
      "id": "48cfcef8",
      "metadata": {
        "id": "48cfcef8",
        "outputId": "d79df142-4f35-46cd-e723-47f1f7d4f021",
        "colab": {
          "base_uri": "https://localhost:8080/",
          "height": 293
        }
      },
      "outputs": [
        {
          "output_type": "execute_result",
          "data": {
            "text/plain": [
              "<AxesSubplot:>"
            ]
          },
          "metadata": {},
          "execution_count": 41
        },
        {
          "output_type": "display_data",
          "data": {
            "text/plain": [
              "<Figure size 432x288 with 1 Axes>"
            ],
            "image/png": "[encoded data removed]"
          },
          "metadata": {
            "needs_background": "light"
          }
        }
      ],
      "source": [
        "select.plot()"
      ]
    },
    {
      "cell_type": "code",
      "execution_count": 43,
      "id": "b0a813b6",
      "metadata": {
        "id": "b0a813b6"
      },
      "outputs": [],
      "source": [
        "pasta_saida = r\"/content/bairros_ssa/Recorte/bairros\"\n",
        "\n",
        "# Criar pasta\n",
        "os.mkdir(pasta_saida)"
      ]
    },
    {
      "cell_type": "code",
      "execution_count": 44,
      "id": "678a662f",
      "metadata": {
        "id": "678a662f",
        "outputId": "dc62cf57-4106-429c-9c20-1945a724c149",
        "colab": {
          "base_uri": "https://localhost:8080/"
        }
      },
      "outputs": [
        {
          "output_type": "stream",
          "name": "stdout",
          "text": [
            "/content/bairros_ssa/Recorte/bairros/ssa_bairro_paripe.shp\n"
          ]
        }
      ],
      "source": [
        "arquivo_saida = os.path.join(pasta_saida, \"ssa_bairro_paripe.shp\")\n",
        "print(arquivo_saida)"
      ]
    },
    {
      "cell_type": "code",
      "execution_count": 45,
      "id": "3d1a473f",
      "metadata": {
        "id": "3d1a473f"
      },
      "outputs": [],
      "source": [
        "# Salvando o arquivo\n",
        "select.to_file(arquivo_saida)"
      ]
    },
    {
      "cell_type": "markdown",
      "id": "2b19f8e8",
      "metadata": {
        "id": "2b19f8e8"
      },
      "source": [
        "# Agrupando GeoDataframe"
      ]
    },
    {
      "cell_type": "code",
      "execution_count": 46,
      "id": "de52d32d",
      "metadata": {
        "id": "de52d32d",
        "outputId": "07e34e21-c107-4d42-d659-1981564ff3ff",
        "colab": {
          "base_uri": "https://localhost:8080/",
          "height": 206
        }
      },
      "outputs": [
        {
          "output_type": "execute_result",
          "data": {
            "text/plain": [
              "          nome  id_bairro  area_km2  \\\n",
              "0    Palestina      105.0  0.833906   \n",
              "1       Paripe      156.0  4.882108   \n",
              "2    Patamares        2.0  4.620815   \n",
              "3  Pau da Lima       66.0  1.145097   \n",
              "4    Pau Miúdo       79.0  0.704379   \n",
              "\n",
              "                                            geometry     area_ha  \n",
              "0  POLYGON ((563547.010 8577348.034, 563562.794 8...   83.390606  \n",
              "1  POLYGON ((557201.475 8582312.816, 557226.534 8...  488.210772  \n",
              "2  POLYGON ((564935.025 8566706.503, 564934.976 8...  462.081504  \n",
              "3  POLYGON ((560777.356 8572284.444, 560759.803 8...  114.509745  \n",
              "4  POLYGON ((555987.228 8567545.404, 556010.515 8...   70.437925  "
            ],
            "text/html": [
              "\n",
              "  <div id=\"df-a9917f56-2bed-4e22-ba24-e84b06d9222b\">\n",
              "    <div class=\"colab-df-container\">\n",
              "      <div>\n",
              "<style scoped>\n",
              "    .dataframe tbody tr th:only-of-type {\n",
              "        vertical-align: middle;\n",
              "    }\n",
              "\n",
              "    .dataframe tbody tr th {\n",
              "        vertical-align: top;\n",
              "    }\n",
              "\n",
              "    .dataframe thead th {\n",
              "        text-align: right;\n",
              "    }\n",
              "</style>\n",
              "<table border=\"1\" class=\"dataframe\">\n",
              "  <thead>\n",
              "    <tr style=\"text-align: right;\">\n",
              "      <th></th>\n",
              "      <th>nome</th>\n",
              "      <th>id_bairro</th>\n",
              "      <th>area_km2</th>\n",
              "      <th>geometry</th>\n",
              "      <th>area_ha</th>\n",
              "    </tr>\n",
              "  </thead>\n",
              "  <tbody>\n",
              "    <tr>\n",
              "      <th>0</th>\n",
              "      <td>Palestina</td>\n",
              "      <td>105.0</td>\n",
              "      <td>0.833906</td>\n",
              "      <td>POLYGON ((563547.010 8577348.034, 563562.794 8...</td>\n",
              "      <td>83.390606</td>\n",
              "    </tr>\n",
              "    <tr>\n",
              "      <th>1</th>\n",
              "      <td>Paripe</td>\n",
              "      <td>156.0</td>\n",
              "      <td>4.882108</td>\n",
              "      <td>POLYGON ((557201.475 8582312.816, 557226.534 8...</td>\n",
              "      <td>488.210772</td>\n",
              "    </tr>\n",
              "    <tr>\n",
              "      <th>2</th>\n",
              "      <td>Patamares</td>\n",
              "      <td>2.0</td>\n",
              "      <td>4.620815</td>\n",
              "      <td>POLYGON ((564935.025 8566706.503, 564934.976 8...</td>\n",
              "      <td>462.081504</td>\n",
              "    </tr>\n",
              "    <tr>\n",
              "      <th>3</th>\n",
              "      <td>Pau da Lima</td>\n",
              "      <td>66.0</td>\n",
              "      <td>1.145097</td>\n",
              "      <td>POLYGON ((560777.356 8572284.444, 560759.803 8...</td>\n",
              "      <td>114.509745</td>\n",
              "    </tr>\n",
              "    <tr>\n",
              "      <th>4</th>\n",
              "      <td>Pau Miúdo</td>\n",
              "      <td>79.0</td>\n",
              "      <td>0.704379</td>\n",
              "      <td>POLYGON ((555987.228 8567545.404, 556010.515 8...</td>\n",
              "      <td>70.437925</td>\n",
              "    </tr>\n",
              "  </tbody>\n",
              "</table>\n",
              "</div>\n",
              "      <button class=\"colab-df-convert\" onclick=\"convertToInteractive('df-a9917f56-2bed-4e22-ba24-e84b06d9222b')\"\n",
              "              title=\"Convert this dataframe to an interactive table.\"\n",
              "              style=\"display:none;\">\n",
              "        \n",
              "  <svg xmlns=\"http://www.w3.org/2000/svg\" height=\"24px\"viewBox=\"0 0 24 24\"\n",
              "       width=\"24px\">\n",
              "    <path d=\"M0 0h24v24H0V0z\" fill=\"none\"/>\n",
              "    <path d=\"M18.56 5.44l.94 2.06.94-2.06 2.06-.94-2.06-.94-.94-2.06-.94 2.06-2.06.94zm-11 1L8.5 8.5l.94-2.06 2.06-.94-2.06-.94L8.5 2.5l-.94 2.06-2.06.94zm10 10l.94 2.06.94-2.06 2.06-.94-2.06-.94-.94-2.06-.94 2.06-2.06.94z\"/><path d=\"M17.41 7.96l-1.37-1.37c-.4-.4-.92-.59-1.43-.59-.52 0-1.04.2-1.43.59L10.3 9.45l-7.72 7.72c-.78.78-.78 2.05 0 2.83L4 21.41c.39.39.9.59 1.41.59.51 0 1.02-.2 1.41-.59l7.78-7.78 2.81-2.81c.8-.78.8-2.07 0-2.86zM5.41 20L4 18.59l7.72-7.72 1.47 1.35L5.41 20z\"/>\n",
              "  </svg>\n",
              "      </button>\n",
              "      \n",
              "  <style>\n",
              "    .colab-df-container {\n",
              "      display:flex;\n",
              "      flex-wrap:wrap;\n",
              "      gap: 12px;\n",
              "    }\n",
              "\n",
              "    .colab-df-convert {\n",
              "      background-color: #E8F0FE;\n",
              "      border: none;\n",
              "      border-radius: 50%;\n",
              "      cursor: pointer;\n",
              "      display: none;\n",
              "      fill: #1967D2;\n",
              "      height: 32px;\n",
              "      padding: 0 0 0 0;\n",
              "      width: 32px;\n",
              "    }\n",
              "\n",
              "    .colab-df-convert:hover {\n",
              "      background-color: #E2EBFA;\n",
              "      box-shadow: 0px 1px 2px rgba(60, 64, 67, 0.3), 0px 1px 3px 1px rgba(60, 64, 67, 0.15);\n",
              "      fill: #174EA6;\n",
              "    }\n",
              "\n",
              "    [theme=dark] .colab-df-convert {\n",
              "      background-color: #3B4455;\n",
              "      fill: #D2E3FC;\n",
              "    }\n",
              "\n",
              "    [theme=dark] .colab-df-convert:hover {\n",
              "      background-color: #434B5C;\n",
              "      box-shadow: 0px 1px 3px 1px rgba(0, 0, 0, 0.15);\n",
              "      filter: drop-shadow(0px 1px 2px rgba(0, 0, 0, 0.3));\n",
              "      fill: #FFFFFF;\n",
              "    }\n",
              "  </style>\n",
              "\n",
              "      <script>\n",
              "        const buttonEl =\n",
              "          document.querySelector('#df-a9917f56-2bed-4e22-ba24-e84b06d9222b button.colab-df-convert');\n",
              "        buttonEl.style.display =\n",
              "          google.colab.kernel.accessAllowed ? 'block' : 'none';\n",
              "\n",
              "        async function convertToInteractive(key) {\n",
              "          const element = document.querySelector('#df-a9917f56-2bed-4e22-ba24-e84b06d9222b');\n",
              "          const dataTable =\n",
              "            await google.colab.kernel.invokeFunction('convertToInteractive',\n",
              "                                                     [key], {});\n",
              "          if (!dataTable) return;\n",
              "\n",
              "          const docLinkHtml = 'Like what you see? Visit the ' +\n",
              "            '<a target=\"_blank\" href=https://colab.research.google.com/notebooks/data_table.ipynb>data table notebook</a>'\n",
              "            + ' to learn more about interactive tables.';\n",
              "          element.innerHTML = '';\n",
              "          dataTable['output_type'] = 'display_data';\n",
              "          await google.colab.output.renderOutput(dataTable, element);\n",
              "          const docLink = document.createElement('div');\n",
              "          docLink.innerHTML = docLinkHtml;\n",
              "          element.appendChild(docLink);\n",
              "        }\n",
              "      </script>\n",
              "    </div>\n",
              "  </div>\n",
              "  "
            ]
          },
          "metadata": {},
          "execution_count": 46
        }
      ],
      "source": [
        "dados.head()"
      ]
    },
    {
      "cell_type": "code",
      "execution_count": null,
      "id": "67782304",
      "metadata": {
        "id": "67782304",
        "outputId": "812ddb69-e382-4970-ddae-0b3fbc42eec2",
        "colab": {
          "base_uri": "https://localhost:8080/"
        }
      },
      "outputs": [
        {
          "output_type": "execute_result",
          "data": {
            "text/plain": [
              "array(['RO', 'AC', 'AM', 'RR', 'PA', 'AP', 'TO', 'MA', 'PI', 'CE', 'RN',\n",
              "       'PB', 'PE', 'AL', 'SE', 'BA', 'MG', 'ES', 'RJ', 'SP', 'PR', 'SC',\n",
              "       'RS', 'MS', 'MT', 'GO', 'DF'], dtype=object)"
            ]
          },
          "metadata": {},
          "execution_count": 34
        }
      ],
      "source": [
        "# Utilizar a DPA da Bahia com informações de TI e agrupar os municípios por TI\n",
        "dados['SIGLA'].unique()"
      ]
    },
    {
      "cell_type": "code",
      "execution_count": null,
      "id": "0f115d20",
      "metadata": {
        "id": "0f115d20",
        "outputId": "55ffcd67-a0af-4212-f8d5-61193d22b8af",
        "colab": {
          "base_uri": "https://localhost:8080/"
        }
      },
      "outputs": [
        {
          "output_type": "execute_result",
          "data": {
            "text/plain": [
              "<pandas.core.groupby.generic.DataFrameGroupBy object at 0x7f3b4a056e80>"
            ]
          },
          "metadata": {},
          "execution_count": 35
        }
      ],
      "source": [
        "agrupar = dados.groupby('SIGLA')\n",
        "agrupar"
      ]
    },
    {
      "cell_type": "code",
      "execution_count": null,
      "id": "b8d2057f",
      "metadata": {
        "id": "b8d2057f",
        "outputId": "c237e60e-01fd-4e89-9fef-13365e426b62",
        "colab": {
          "base_uri": "https://localhost:8080/"
        }
      },
      "outputs": [
        {
          "output_type": "execute_result",
          "data": {
            "text/plain": [
              "dict_keys(['AC', 'AL', 'AM', 'AP', 'BA', 'CE', 'DF', 'ES', 'GO', 'MA', 'MG', 'MS', 'MT', 'PA', 'PB', 'PE', 'PI', 'PR', 'RJ', 'RN', 'RO', 'RR', 'RS', 'SC', 'SE', 'SP', 'TO'])"
            ]
          },
          "metadata": {},
          "execution_count": 36
        }
      ],
      "source": [
        "agrupar.groups.keys()"
      ]
    },
    {
      "cell_type": "code",
      "execution_count": null,
      "id": "c0a3f38e",
      "metadata": {
        "id": "c0a3f38e",
        "outputId": "bab53f63-fa12-446a-961f-ead64d6f6dae",
        "colab": {
          "base_uri": "https://localhost:8080/"
        }
      },
      "outputs": [
        {
          "output_type": "stream",
          "name": "stdout",
          "text": [
            "Sigla: AC\n",
            "Número de Municípios: 22\n",
            "Sigla: AL\n",
            "Número de Municípios: 102\n",
            "Sigla: AM\n",
            "Número de Municípios: 62\n",
            "Sigla: AP\n",
            "Número de Municípios: 16\n",
            "Sigla: BA\n",
            "Número de Municípios: 417\n",
            "Sigla: CE\n",
            "Número de Municípios: 184\n",
            "Sigla: DF\n",
            "Número de Municípios: 1\n",
            "Sigla: ES\n",
            "Número de Municípios: 78\n",
            "Sigla: GO\n",
            "Número de Municípios: 246\n",
            "Sigla: MA\n",
            "Número de Municípios: 217\n",
            "Sigla: MG\n",
            "Número de Municípios: 853\n",
            "Sigla: MS\n",
            "Número de Municípios: 79\n",
            "Sigla: MT\n",
            "Número de Municípios: 141\n",
            "Sigla: PA\n",
            "Número de Municípios: 144\n",
            "Sigla: PB\n",
            "Número de Municípios: 223\n",
            "Sigla: PE\n",
            "Número de Municípios: 185\n",
            "Sigla: PI\n",
            "Número de Municípios: 224\n",
            "Sigla: PR\n",
            "Número de Municípios: 399\n",
            "Sigla: RJ\n",
            "Número de Municípios: 92\n",
            "Sigla: RN\n",
            "Número de Municípios: 167\n",
            "Sigla: RO\n",
            "Número de Municípios: 52\n",
            "Sigla: RR\n",
            "Número de Municípios: 15\n",
            "Sigla: RS\n",
            "Número de Municípios: 499\n",
            "Sigla: SC\n",
            "Número de Municípios: 295\n",
            "Sigla: SE\n",
            "Número de Municípios: 75\n",
            "Sigla: SP\n",
            "Número de Municípios: 645\n",
            "Sigla: TO\n",
            "Número de Municípios: 139\n"
          ]
        }
      ],
      "source": [
        "for chave, grupo in agrupar:\n",
        "    print(f'Sigla: {chave}')\n",
        "    print(f'Número de Municípios: {len(grupo)}')"
      ]
    },
    {
      "cell_type": "code",
      "execution_count": null,
      "id": "77c4b7e1",
      "metadata": {
        "id": "77c4b7e1",
        "outputId": "898475cb-3d22-480f-d3c5-2568909cc360",
        "colab": {
          "base_uri": "https://localhost:8080/"
        }
      },
      "outputs": [
        {
          "output_type": "stream",
          "name": "stdout",
          "text": [
            "A pasta ja existe\n"
          ]
        }
      ],
      "source": [
        "arquivo_saida = r\"/content/sample_data/BR_Mucipios_2021\"\n",
        "\n",
        "resultado = os.path.join(arquivo_saida, \"Resultados\")\n",
        "\n",
        "if not os.path.exists(resultado):\n",
        "    print(\"Criando a pasta.\")\n",
        "    os.makedirs(resultado)\n",
        "else:\n",
        "    print(\"A pasta ja existe\")"
      ]
    },
    {
      "cell_type": "code",
      "execution_count": null,
      "id": "39602d3c",
      "metadata": {
        "id": "39602d3c",
        "outputId": "e1b31ad2-67c5-49f7-b064-bb7141b40c6e",
        "colab": {
          "base_uri": "https://localhost:8080/",
          "height": 424
        }
      },
      "outputs": [
        {
          "output_type": "execute_result",
          "data": {
            "text/plain": [
              "                     NM_MUN SIGLA  AREA_KM2  \\\n",
              "0     Alta Floresta D'Oeste    RO  7067.127   \n",
              "1                 Ariquemes    RO  4426.571   \n",
              "2                    Cabixi    RO  1314.352   \n",
              "3                    Cacoal    RO  3793.000   \n",
              "4                Cerejeiras    RO  2783.300   \n",
              "...                     ...   ...       ...   \n",
              "5326              Abadiânia    GO  1044.555   \n",
              "5327                Acreúna    GO  1566.742   \n",
              "5328              Adelândia    GO   115.385   \n",
              "5329     Água Fria de Goiás    GO  2023.636   \n",
              "5571               Brasília    DF  5760.784   \n",
              "\n",
              "                                               geometry   AREA_HA  \n",
              "0     POLYGON ((-62.19465 -11.82746, -62.19332 -11.8...  706712.7  \n",
              "1     POLYGON ((-62.53648 -9.73222, -62.52765 -9.736...  442657.1  \n",
              "2     POLYGON ((-60.37119 -13.36655, -60.37134 -13.3...  131435.2  \n",
              "3     POLYGON ((-61.00080 -11.29737, -61.00103 -11.3...  379300.0  \n",
              "4     POLYGON ((-61.49976 -13.00525, -61.49809 -13.0...  278330.0  \n",
              "...                                                 ...       ...  \n",
              "5326                                               None  104455.5  \n",
              "5327                                               None  156674.2  \n",
              "5328                                               None   11538.5  \n",
              "5329                                               None  202363.6  \n",
              "5571                                               None  576078.4  \n",
              "\n",
              "[131 rows x 5 columns]"
            ],
            "text/html": [
              "\n",
              "  <div id=\"df-aa85874a-645a-4733-8fc1-3cac35b74a0f\">\n",
              "    <div class=\"colab-df-container\">\n",
              "      <div>\n",
              "<style scoped>\n",
              "    .dataframe tbody tr th:only-of-type {\n",
              "        vertical-align: middle;\n",
              "    }\n",
              "\n",
              "    .dataframe tbody tr th {\n",
              "        vertical-align: top;\n",
              "    }\n",
              "\n",
              "    .dataframe thead th {\n",
              "        text-align: right;\n",
              "    }\n",
              "</style>\n",
              "<table border=\"1\" class=\"dataframe\">\n",
              "  <thead>\n",
              "    <tr style=\"text-align: right;\">\n",
              "      <th></th>\n",
              "      <th>NM_MUN</th>\n",
              "      <th>SIGLA</th>\n",
              "      <th>AREA_KM2</th>\n",
              "      <th>geometry</th>\n",
              "      <th>AREA_HA</th>\n",
              "    </tr>\n",
              "  </thead>\n",
              "  <tbody>\n",
              "    <tr>\n",
              "      <th>0</th>\n",
              "      <td>Alta Floresta D'Oeste</td>\n",
              "      <td>RO</td>\n",
              "      <td>7067.127</td>\n",
              "      <td>POLYGON ((-62.19465 -11.82746, -62.19332 -11.8...</td>\n",
              "      <td>706712.7</td>\n",
              "    </tr>\n",
              "    <tr>\n",
              "      <th>1</th>\n",
              "      <td>Ariquemes</td>\n",
              "      <td>RO</td>\n",
              "      <td>4426.571</td>\n",
              "      <td>POLYGON ((-62.53648 -9.73222, -62.52765 -9.736...</td>\n",
              "      <td>442657.1</td>\n",
              "    </tr>\n",
              "    <tr>\n",
              "      <th>2</th>\n",
              "      <td>Cabixi</td>\n",
              "      <td>RO</td>\n",
              "      <td>1314.352</td>\n",
              "      <td>POLYGON ((-60.37119 -13.36655, -60.37134 -13.3...</td>\n",
              "      <td>131435.2</td>\n",
              "    </tr>\n",
              "    <tr>\n",
              "      <th>3</th>\n",
              "      <td>Cacoal</td>\n",
              "      <td>RO</td>\n",
              "      <td>3793.000</td>\n",
              "      <td>POLYGON ((-61.00080 -11.29737, -61.00103 -11.3...</td>\n",
              "      <td>379300.0</td>\n",
              "    </tr>\n",
              "    <tr>\n",
              "      <th>4</th>\n",
              "      <td>Cerejeiras</td>\n",
              "      <td>RO</td>\n",
              "      <td>2783.300</td>\n",
              "      <td>POLYGON ((-61.49976 -13.00525, -61.49809 -13.0...</td>\n",
              "      <td>278330.0</td>\n",
              "    </tr>\n",
              "    <tr>\n",
              "      <th>...</th>\n",
              "      <td>...</td>\n",
              "      <td>...</td>\n",
              "      <td>...</td>\n",
              "      <td>...</td>\n",
              "      <td>...</td>\n",
              "    </tr>\n",
              "    <tr>\n",
              "      <th>5326</th>\n",
              "      <td>Abadiânia</td>\n",
              "      <td>GO</td>\n",
              "      <td>1044.555</td>\n",
              "      <td>None</td>\n",
              "      <td>104455.5</td>\n",
              "    </tr>\n",
              "    <tr>\n",
              "      <th>5327</th>\n",
              "      <td>Acreúna</td>\n",
              "      <td>GO</td>\n",
              "      <td>1566.742</td>\n",
              "      <td>None</td>\n",
              "      <td>156674.2</td>\n",
              "    </tr>\n",
              "    <tr>\n",
              "      <th>5328</th>\n",
              "      <td>Adelândia</td>\n",
              "      <td>GO</td>\n",
              "      <td>115.385</td>\n",
              "      <td>None</td>\n",
              "      <td>11538.5</td>\n",
              "    </tr>\n",
              "    <tr>\n",
              "      <th>5329</th>\n",
              "      <td>Água Fria de Goiás</td>\n",
              "      <td>GO</td>\n",
              "      <td>2023.636</td>\n",
              "      <td>None</td>\n",
              "      <td>202363.6</td>\n",
              "    </tr>\n",
              "    <tr>\n",
              "      <th>5571</th>\n",
              "      <td>Brasília</td>\n",
              "      <td>DF</td>\n",
              "      <td>5760.784</td>\n",
              "      <td>None</td>\n",
              "      <td>576078.4</td>\n",
              "    </tr>\n",
              "  </tbody>\n",
              "</table>\n",
              "<p>131 rows × 5 columns</p>\n",
              "</div>\n",
              "      <button class=\"colab-df-convert\" onclick=\"convertToInteractive('df-aa85874a-645a-4733-8fc1-3cac35b74a0f')\"\n",
              "              title=\"Convert this dataframe to an interactive table.\"\n",
              "              style=\"display:none;\">\n",
              "        \n",
              "  <svg xmlns=\"http://www.w3.org/2000/svg\" height=\"24px\"viewBox=\"0 0 24 24\"\n",
              "       width=\"24px\">\n",
              "    <path d=\"M0 0h24v24H0V0z\" fill=\"none\"/>\n",
              "    <path d=\"M18.56 5.44l.94 2.06.94-2.06 2.06-.94-2.06-.94-.94-2.06-.94 2.06-2.06.94zm-11 1L8.5 8.5l.94-2.06 2.06-.94-2.06-.94L8.5 2.5l-.94 2.06-2.06.94zm10 10l.94 2.06.94-2.06 2.06-.94-2.06-.94-.94-2.06-.94 2.06-2.06.94z\"/><path d=\"M17.41 7.96l-1.37-1.37c-.4-.4-.92-.59-1.43-.59-.52 0-1.04.2-1.43.59L10.3 9.45l-7.72 7.72c-.78.78-.78 2.05 0 2.83L4 21.41c.39.39.9.59 1.41.59.51 0 1.02-.2 1.41-.59l7.78-7.78 2.81-2.81c.8-.78.8-2.07 0-2.86zM5.41 20L4 18.59l7.72-7.72 1.47 1.35L5.41 20z\"/>\n",
              "  </svg>\n",
              "      </button>\n",
              "      \n",
              "  <style>\n",
              "    .colab-df-container {\n",
              "      display:flex;\n",
              "      flex-wrap:wrap;\n",
              "      gap: 12px;\n",
              "    }\n",
              "\n",
              "    .colab-df-convert {\n",
              "      background-color: #E8F0FE;\n",
              "      border: none;\n",
              "      border-radius: 50%;\n",
              "      cursor: pointer;\n",
              "      display: none;\n",
              "      fill: #1967D2;\n",
              "      height: 32px;\n",
              "      padding: 0 0 0 0;\n",
              "      width: 32px;\n",
              "    }\n",
              "\n",
              "    .colab-df-convert:hover {\n",
              "      background-color: #E2EBFA;\n",
              "      box-shadow: 0px 1px 2px rgba(60, 64, 67, 0.3), 0px 1px 3px 1px rgba(60, 64, 67, 0.15);\n",
              "      fill: #174EA6;\n",
              "    }\n",
              "\n",
              "    [theme=dark] .colab-df-convert {\n",
              "      background-color: #3B4455;\n",
              "      fill: #D2E3FC;\n",
              "    }\n",
              "\n",
              "    [theme=dark] .colab-df-convert:hover {\n",
              "      background-color: #434B5C;\n",
              "      box-shadow: 0px 1px 3px 1px rgba(0, 0, 0, 0.15);\n",
              "      filter: drop-shadow(0px 1px 2px rgba(0, 0, 0, 0.3));\n",
              "      fill: #FFFFFF;\n",
              "    }\n",
              "  </style>\n",
              "\n",
              "      <script>\n",
              "        const buttonEl =\n",
              "          document.querySelector('#df-aa85874a-645a-4733-8fc1-3cac35b74a0f button.colab-df-convert');\n",
              "        buttonEl.style.display =\n",
              "          google.colab.kernel.accessAllowed ? 'block' : 'none';\n",
              "\n",
              "        async function convertToInteractive(key) {\n",
              "          const element = document.querySelector('#df-aa85874a-645a-4733-8fc1-3cac35b74a0f');\n",
              "          const dataTable =\n",
              "            await google.colab.kernel.invokeFunction('convertToInteractive',\n",
              "                                                     [key], {});\n",
              "          if (!dataTable) return;\n",
              "\n",
              "          const docLinkHtml = 'Like what you see? Visit the ' +\n",
              "            '<a target=\"_blank\" href=https://colab.research.google.com/notebooks/data_table.ipynb>data table notebook</a>'\n",
              "            + ' to learn more about interactive tables.';\n",
              "          element.innerHTML = '';\n",
              "          dataTable['output_type'] = 'display_data';\n",
              "          await google.colab.output.renderOutput(dataTable, element);\n",
              "          const docLink = document.createElement('div');\n",
              "          docLink.innerHTML = docLinkHtml;\n",
              "          element.appendChild(docLink);\n",
              "        }\n",
              "      </script>\n",
              "    </div>\n",
              "  </div>\n",
              "  "
            ]
          },
          "metadata": {},
          "execution_count": 41
        }
      ],
      "source": [
        "agrupar.head()"
      ]
    },
    {
      "cell_type": "code",
      "execution_count": null,
      "id": "3cebe4f1",
      "metadata": {
        "id": "3cebe4f1",
        "outputId": "400ee2bc-f172-4603-b087-77c132677720",
        "colab": {
          "base_uri": "https://localhost:8080/"
        }
      },
      "outputs": [
        {
          "output_type": "stream",
          "name": "stdout",
          "text": [
            "Salvando o arquivo SIGLA_AC.shp\n",
            "Salvando o arquivo SIGLA_AL.shp\n",
            "Salvando o arquivo SIGLA_AM.shp\n",
            "Salvando o arquivo SIGLA_AP.shp\n",
            "Salvando o arquivo SIGLA_BA.shp\n",
            "Salvando o arquivo SIGLA_CE.shp\n",
            "Salvando o arquivo SIGLA_DF.shp\n",
            "Salvando o arquivo SIGLA_ES.shp\n",
            "Salvando o arquivo SIGLA_GO.shp\n",
            "Salvando o arquivo SIGLA_MA.shp\n",
            "Salvando o arquivo SIGLA_MG.shp\n",
            "Salvando o arquivo SIGLA_MS.shp\n",
            "Salvando o arquivo SIGLA_MT.shp\n",
            "Salvando o arquivo SIGLA_PA.shp\n",
            "Salvando o arquivo SIGLA_PB.shp\n",
            "Salvando o arquivo SIGLA_PE.shp\n",
            "Salvando o arquivo SIGLA_PI.shp\n",
            "Salvando o arquivo SIGLA_PR.shp\n",
            "Salvando o arquivo SIGLA_RJ.shp\n",
            "Salvando o arquivo SIGLA_RN.shp\n",
            "Salvando o arquivo SIGLA_RO.shp\n",
            "Salvando o arquivo SIGLA_RR.shp\n",
            "Salvando o arquivo SIGLA_RS.shp\n",
            "Salvando o arquivo SIGLA_SC.shp\n",
            "Salvando o arquivo SIGLA_SE.shp\n",
            "Salvando o arquivo SIGLA_SP.shp\n",
            "Salvando o arquivo SIGLA_TO.shp\n"
          ]
        }
      ],
      "source": [
        "for chave, grupo in agrupar:\n",
        "    nome_saida = f'SIGLA_{chave}.shp'\n",
        "    print('Salvando o arquivo', os.path.basename(nome_saida))\n",
        "    caminho_saida = os.path.join(resultado, nome_saida)\n",
        "    grupo.to_file(caminho_saida)"
      ]
    },
    {
      "cell_type": "code",
      "execution_count": null,
      "id": "53d23bb0",
      "metadata": {
        "id": "53d23bb0"
      },
      "outputs": [],
      "source": []
    },
    {
      "cell_type": "markdown",
      "id": "7b64a324",
      "metadata": {
        "id": "7b64a324"
      },
      "source": [
        "# Trabalhando com Coordenadas\n",
        "\n",
        "Para saber o código do EPSG da região de interesse existem diversos sites, mas eu costumo utilizar esse aqui: \n",
        "https://spatialreference.org/"
      ]
    },
    {
      "cell_type": "code",
      "execution_count": null,
      "id": "1124d25b",
      "metadata": {
        "id": "1124d25b"
      },
      "outputs": [],
      "source": [
        "import geopandas as gpd"
      ]
    },
    {
      "cell_type": "code",
      "execution_count": null,
      "id": "e0e5f0e2",
      "metadata": {
        "id": "e0e5f0e2"
      },
      "outputs": [],
      "source": [
        "arquivo = r\"/content/sample_data/BR_Mucipios_2021/Resultados/SIGLA_RR.shp\""
      ]
    },
    {
      "cell_type": "code",
      "execution_count": null,
      "id": "7d7f09f0",
      "metadata": {
        "id": "7d7f09f0",
        "outputId": "bc100542-a2f1-47f2-c762-4b892dd6a7fb",
        "colab": {
          "base_uri": "https://localhost:8080/",
          "height": 206
        }
      },
      "outputs": [
        {
          "output_type": "execute_result",
          "data": {
            "text/plain": [
              "        NM_MUN SIGLA   AREA_KM2    AREA_HA  \\\n",
              "0      Amajari    RR  28473.450  2847345.0   \n",
              "1  Alto Alegre    RR  25454.297  2545429.7   \n",
              "2    Boa Vista    RR   5687.037   568703.7   \n",
              "3       Bonfim    RR   8079.914   807991.4   \n",
              "4        Cantá    RR   7664.831   766483.1   \n",
              "\n",
              "                                            geometry  \n",
              "0  POLYGON ((-61.33730 4.31159, -61.33656 4.31136...  \n",
              "1  POLYGON ((-63.61441 3.73768, -63.61052 3.73712...  \n",
              "2  POLYGON ((-60.47539 3.60573, -60.47501 3.60507...  \n",
              "3  POLYGON ((-59.88384 3.56296, -59.88244 3.56296...  \n",
              "4  POLYGON ((-60.56198 2.87580, -60.56090 2.87470...  "
            ],
            "text/html": [
              "\n",
              "  <div id=\"df-82e25288-090e-4fd2-9689-1385a9ffde27\">\n",
              "    <div class=\"colab-df-container\">\n",
              "      <div>\n",
              "<style scoped>\n",
              "    .dataframe tbody tr th:only-of-type {\n",
              "        vertical-align: middle;\n",
              "    }\n",
              "\n",
              "    .dataframe tbody tr th {\n",
              "        vertical-align: top;\n",
              "    }\n",
              "\n",
              "    .dataframe thead th {\n",
              "        text-align: right;\n",
              "    }\n",
              "</style>\n",
              "<table border=\"1\" class=\"dataframe\">\n",
              "  <thead>\n",
              "    <tr style=\"text-align: right;\">\n",
              "      <th></th>\n",
              "      <th>NM_MUN</th>\n",
              "      <th>SIGLA</th>\n",
              "      <th>AREA_KM2</th>\n",
              "      <th>AREA_HA</th>\n",
              "      <th>geometry</th>\n",
              "    </tr>\n",
              "  </thead>\n",
              "  <tbody>\n",
              "    <tr>\n",
              "      <th>0</th>\n",
              "      <td>Amajari</td>\n",
              "      <td>RR</td>\n",
              "      <td>28473.450</td>\n",
              "      <td>2847345.0</td>\n",
              "      <td>POLYGON ((-61.33730 4.31159, -61.33656 4.31136...</td>\n",
              "    </tr>\n",
              "    <tr>\n",
              "      <th>1</th>\n",
              "      <td>Alto Alegre</td>\n",
              "      <td>RR</td>\n",
              "      <td>25454.297</td>\n",
              "      <td>2545429.7</td>\n",
              "      <td>POLYGON ((-63.61441 3.73768, -63.61052 3.73712...</td>\n",
              "    </tr>\n",
              "    <tr>\n",
              "      <th>2</th>\n",
              "      <td>Boa Vista</td>\n",
              "      <td>RR</td>\n",
              "      <td>5687.037</td>\n",
              "      <td>568703.7</td>\n",
              "      <td>POLYGON ((-60.47539 3.60573, -60.47501 3.60507...</td>\n",
              "    </tr>\n",
              "    <tr>\n",
              "      <th>3</th>\n",
              "      <td>Bonfim</td>\n",
              "      <td>RR</td>\n",
              "      <td>8079.914</td>\n",
              "      <td>807991.4</td>\n",
              "      <td>POLYGON ((-59.88384 3.56296, -59.88244 3.56296...</td>\n",
              "    </tr>\n",
              "    <tr>\n",
              "      <th>4</th>\n",
              "      <td>Cantá</td>\n",
              "      <td>RR</td>\n",
              "      <td>7664.831</td>\n",
              "      <td>766483.1</td>\n",
              "      <td>POLYGON ((-60.56198 2.87580, -60.56090 2.87470...</td>\n",
              "    </tr>\n",
              "  </tbody>\n",
              "</table>\n",
              "</div>\n",
              "      <button class=\"colab-df-convert\" onclick=\"convertToInteractive('df-82e25288-090e-4fd2-9689-1385a9ffde27')\"\n",
              "              title=\"Convert this dataframe to an interactive table.\"\n",
              "              style=\"display:none;\">\n",
              "        \n",
              "  <svg xmlns=\"http://www.w3.org/2000/svg\" height=\"24px\"viewBox=\"0 0 24 24\"\n",
              "       width=\"24px\">\n",
              "    <path d=\"M0 0h24v24H0V0z\" fill=\"none\"/>\n",
              "    <path d=\"M18.56 5.44l.94 2.06.94-2.06 2.06-.94-2.06-.94-.94-2.06-.94 2.06-2.06.94zm-11 1L8.5 8.5l.94-2.06 2.06-.94-2.06-.94L8.5 2.5l-.94 2.06-2.06.94zm10 10l.94 2.06.94-2.06 2.06-.94-2.06-.94-.94-2.06-.94 2.06-2.06.94z\"/><path d=\"M17.41 7.96l-1.37-1.37c-.4-.4-.92-.59-1.43-.59-.52 0-1.04.2-1.43.59L10.3 9.45l-7.72 7.72c-.78.78-.78 2.05 0 2.83L4 21.41c.39.39.9.59 1.41.59.51 0 1.02-.2 1.41-.59l7.78-7.78 2.81-2.81c.8-.78.8-2.07 0-2.86zM5.41 20L4 18.59l7.72-7.72 1.47 1.35L5.41 20z\"/>\n",
              "  </svg>\n",
              "      </button>\n",
              "      \n",
              "  <style>\n",
              "    .colab-df-container {\n",
              "      display:flex;\n",
              "      flex-wrap:wrap;\n",
              "      gap: 12px;\n",
              "    }\n",
              "\n",
              "    .colab-df-convert {\n",
              "      background-color: #E8F0FE;\n",
              "      border: none;\n",
              "      border-radius: 50%;\n",
              "      cursor: pointer;\n",
              "      display: none;\n",
              "      fill: #1967D2;\n",
              "      height: 32px;\n",
              "      padding: 0 0 0 0;\n",
              "      width: 32px;\n",
              "    }\n",
              "\n",
              "    .colab-df-convert:hover {\n",
              "      background-color: #E2EBFA;\n",
              "      box-shadow: 0px 1px 2px rgba(60, 64, 67, 0.3), 0px 1px 3px 1px rgba(60, 64, 67, 0.15);\n",
              "      fill: #174EA6;\n",
              "    }\n",
              "\n",
              "    [theme=dark] .colab-df-convert {\n",
              "      background-color: #3B4455;\n",
              "      fill: #D2E3FC;\n",
              "    }\n",
              "\n",
              "    [theme=dark] .colab-df-convert:hover {\n",
              "      background-color: #434B5C;\n",
              "      box-shadow: 0px 1px 3px 1px rgba(0, 0, 0, 0.15);\n",
              "      filter: drop-shadow(0px 1px 2px rgba(0, 0, 0, 0.3));\n",
              "      fill: #FFFFFF;\n",
              "    }\n",
              "  </style>\n",
              "\n",
              "      <script>\n",
              "        const buttonEl =\n",
              "          document.querySelector('#df-82e25288-090e-4fd2-9689-1385a9ffde27 button.colab-df-convert');\n",
              "        buttonEl.style.display =\n",
              "          google.colab.kernel.accessAllowed ? 'block' : 'none';\n",
              "\n",
              "        async function convertToInteractive(key) {\n",
              "          const element = document.querySelector('#df-82e25288-090e-4fd2-9689-1385a9ffde27');\n",
              "          const dataTable =\n",
              "            await google.colab.kernel.invokeFunction('convertToInteractive',\n",
              "                                                     [key], {});\n",
              "          if (!dataTable) return;\n",
              "\n",
              "          const docLinkHtml = 'Like what you see? Visit the ' +\n",
              "            '<a target=\"_blank\" href=https://colab.research.google.com/notebooks/data_table.ipynb>data table notebook</a>'\n",
              "            + ' to learn more about interactive tables.';\n",
              "          element.innerHTML = '';\n",
              "          dataTable['output_type'] = 'display_data';\n",
              "          await google.colab.output.renderOutput(dataTable, element);\n",
              "          const docLink = document.createElement('div');\n",
              "          docLink.innerHTML = docLinkHtml;\n",
              "          element.appendChild(docLink);\n",
              "        }\n",
              "      </script>\n",
              "    </div>\n",
              "  </div>\n",
              "  "
            ]
          },
          "metadata": {},
          "execution_count": 49
        }
      ],
      "source": [
        "dados_rr = gpd.read_file(arquivo)\n",
        "dados_rr.head()"
      ]
    },
    {
      "cell_type": "code",
      "execution_count": null,
      "id": "6160e80b",
      "metadata": {
        "id": "6160e80b",
        "outputId": "2c943d75-a994-471a-a550-9966c1d65078",
        "colab": {
          "base_uri": "https://localhost:8080/"
        }
      },
      "outputs": [
        {
          "output_type": "execute_result",
          "data": {
            "text/plain": [
              "<Geographic 2D CRS: EPSG:4674>\n",
              "Name: SIRGAS 2000\n",
              "Axis Info [ellipsoidal]:\n",
              "- Lat[north]: Geodetic latitude (degree)\n",
              "- Lon[east]: Geodetic longitude (degree)\n",
              "Area of Use:\n",
              "- name: Latin America - Central America and South America - onshore and offshore. Brazil - onshore and offshore.\n",
              "- bounds: (-122.19, -59.87, -25.28, 32.72)\n",
              "Datum: Sistema de Referencia Geocentrico para las AmericaS 2000\n",
              "- Ellipsoid: GRS 1980\n",
              "- Prime Meridian: Greenwich"
            ]
          },
          "metadata": {},
          "execution_count": 50
        }
      ],
      "source": [
        "# Verificar o sistema de coordenadas\n",
        "dados_rr.crs"
      ]
    },
    {
      "cell_type": "code",
      "execution_count": null,
      "id": "320b265f",
      "metadata": {
        "id": "320b265f"
      },
      "outputs": [],
      "source": [
        "# Criar uma cópia do arquivo\n",
        "dados_rr_epsg_4674 = dados_rr.copy()\n",
        "\n",
        "# Reprojetar para a coordenada da região\n",
        "dados_rr = dados_rr.to_crs(epsg=31982)"
      ]
    },
    {
      "cell_type": "code",
      "execution_count": null,
      "id": "90c7918b",
      "metadata": {
        "id": "90c7918b",
        "outputId": "751904e7-07f4-4b93-86d4-4135139f062e",
        "colab": {
          "base_uri": "https://localhost:8080/"
        }
      },
      "outputs": [
        {
          "output_type": "execute_result",
          "data": {
            "text/plain": [
              "<Derived Projected CRS: EPSG:31982>\n",
              "Name: SIRGAS 2000 / UTM zone 22S\n",
              "Axis Info [cartesian]:\n",
              "- E[east]: Easting (metre)\n",
              "- N[north]: Northing (metre)\n",
              "Area of Use:\n",
              "- name: Brazil - between 54°W and 48°W, northern and southern hemispheres, onshore and offshore. In remainder of South America - between 54°W and 48°W, southern hemisphere, onshore and offshore.\n",
              "- bounds: (-54.0, -54.18, -47.99, 7.04)\n",
              "Coordinate Operation:\n",
              "- name: UTM zone 22S\n",
              "- method: Transverse Mercator\n",
              "Datum: Sistema de Referencia Geocentrico para las AmericaS 2000\n",
              "- Ellipsoid: GRS 1980\n",
              "- Prime Meridian: Greenwich"
            ]
          },
          "metadata": {},
          "execution_count": 52
        }
      ],
      "source": [
        "dados_rr.crs"
      ]
    },
    {
      "cell_type": "code",
      "execution_count": null,
      "id": "e9ef0bb4",
      "metadata": {
        "id": "e9ef0bb4",
        "outputId": "270a301b-6e50-4f0d-d2f7-619c8725a8b7",
        "colab": {
          "base_uri": "https://localhost:8080/",
          "height": 206
        }
      },
      "outputs": [
        {
          "output_type": "execute_result",
          "data": {
            "text/plain": [
              "        NM_MUN SIGLA   AREA_KM2    AREA_HA  \\\n",
              "0      Amajari    RR  28473.450  2847345.0   \n",
              "1  Alto Alegre    RR  25454.297  2545429.7   \n",
              "2    Boa Vista    RR   5687.037   568703.7   \n",
              "3       Bonfim    RR   8079.914   807991.4   \n",
              "4        Cantá    RR   7664.831   766483.1   \n",
              "\n",
              "                                            geometry  \n",
              "0  POLYGON ((-653293.122 10484456.542, -653210.82...  \n",
              "1  POLYGON ((-912135.945 10423391.884, -911694.57...  \n",
              "2  POLYGON ((-557124.128 10404082.309, -557082.01...  \n",
              "3  POLYGON ((-490624.014 10398620.932, -490467.19...  \n",
              "4  POLYGON ((-567654.024 10322366.237, -567532.70...  "
            ],
            "text/html": [
              "\n",
              "  <div id=\"df-2729a7d5-45f9-4cc8-ba97-9bfe1f3ebb3b\">\n",
              "    <div class=\"colab-df-container\">\n",
              "      <div>\n",
              "<style scoped>\n",
              "    .dataframe tbody tr th:only-of-type {\n",
              "        vertical-align: middle;\n",
              "    }\n",
              "\n",
              "    .dataframe tbody tr th {\n",
              "        vertical-align: top;\n",
              "    }\n",
              "\n",
              "    .dataframe thead th {\n",
              "        text-align: right;\n",
              "    }\n",
              "</style>\n",
              "<table border=\"1\" class=\"dataframe\">\n",
              "  <thead>\n",
              "    <tr style=\"text-align: right;\">\n",
              "      <th></th>\n",
              "      <th>NM_MUN</th>\n",
              "      <th>SIGLA</th>\n",
              "      <th>AREA_KM2</th>\n",
              "      <th>AREA_HA</th>\n",
              "      <th>geometry</th>\n",
              "    </tr>\n",
              "  </thead>\n",
              "  <tbody>\n",
              "    <tr>\n",
              "      <th>0</th>\n",
              "      <td>Amajari</td>\n",
              "      <td>RR</td>\n",
              "      <td>28473.450</td>\n",
              "      <td>2847345.0</td>\n",
              "      <td>POLYGON ((-653293.122 10484456.542, -653210.82...</td>\n",
              "    </tr>\n",
              "    <tr>\n",
              "      <th>1</th>\n",
              "      <td>Alto Alegre</td>\n",
              "      <td>RR</td>\n",
              "      <td>25454.297</td>\n",
              "      <td>2545429.7</td>\n",
              "      <td>POLYGON ((-912135.945 10423391.884, -911694.57...</td>\n",
              "    </tr>\n",
              "    <tr>\n",
              "      <th>2</th>\n",
              "      <td>Boa Vista</td>\n",
              "      <td>RR</td>\n",
              "      <td>5687.037</td>\n",
              "      <td>568703.7</td>\n",
              "      <td>POLYGON ((-557124.128 10404082.309, -557082.01...</td>\n",
              "    </tr>\n",
              "    <tr>\n",
              "      <th>3</th>\n",
              "      <td>Bonfim</td>\n",
              "      <td>RR</td>\n",
              "      <td>8079.914</td>\n",
              "      <td>807991.4</td>\n",
              "      <td>POLYGON ((-490624.014 10398620.932, -490467.19...</td>\n",
              "    </tr>\n",
              "    <tr>\n",
              "      <th>4</th>\n",
              "      <td>Cantá</td>\n",
              "      <td>RR</td>\n",
              "      <td>7664.831</td>\n",
              "      <td>766483.1</td>\n",
              "      <td>POLYGON ((-567654.024 10322366.237, -567532.70...</td>\n",
              "    </tr>\n",
              "  </tbody>\n",
              "</table>\n",
              "</div>\n",
              "      <button class=\"colab-df-convert\" onclick=\"convertToInteractive('df-2729a7d5-45f9-4cc8-ba97-9bfe1f3ebb3b')\"\n",
              "              title=\"Convert this dataframe to an interactive table.\"\n",
              "              style=\"display:none;\">\n",
              "        \n",
              "  <svg xmlns=\"http://www.w3.org/2000/svg\" height=\"24px\"viewBox=\"0 0 24 24\"\n",
              "       width=\"24px\">\n",
              "    <path d=\"M0 0h24v24H0V0z\" fill=\"none\"/>\n",
              "    <path d=\"M18.56 5.44l.94 2.06.94-2.06 2.06-.94-2.06-.94-.94-2.06-.94 2.06-2.06.94zm-11 1L8.5 8.5l.94-2.06 2.06-.94-2.06-.94L8.5 2.5l-.94 2.06-2.06.94zm10 10l.94 2.06.94-2.06 2.06-.94-2.06-.94-.94-2.06-.94 2.06-2.06.94z\"/><path d=\"M17.41 7.96l-1.37-1.37c-.4-.4-.92-.59-1.43-.59-.52 0-1.04.2-1.43.59L10.3 9.45l-7.72 7.72c-.78.78-.78 2.05 0 2.83L4 21.41c.39.39.9.59 1.41.59.51 0 1.02-.2 1.41-.59l7.78-7.78 2.81-2.81c.8-.78.8-2.07 0-2.86zM5.41 20L4 18.59l7.72-7.72 1.47 1.35L5.41 20z\"/>\n",
              "  </svg>\n",
              "      </button>\n",
              "      \n",
              "  <style>\n",
              "    .colab-df-container {\n",
              "      display:flex;\n",
              "      flex-wrap:wrap;\n",
              "      gap: 12px;\n",
              "    }\n",
              "\n",
              "    .colab-df-convert {\n",
              "      background-color: #E8F0FE;\n",
              "      border: none;\n",
              "      border-radius: 50%;\n",
              "      cursor: pointer;\n",
              "      display: none;\n",
              "      fill: #1967D2;\n",
              "      height: 32px;\n",
              "      padding: 0 0 0 0;\n",
              "      width: 32px;\n",
              "    }\n",
              "\n",
              "    .colab-df-convert:hover {\n",
              "      background-color: #E2EBFA;\n",
              "      box-shadow: 0px 1px 2px rgba(60, 64, 67, 0.3), 0px 1px 3px 1px rgba(60, 64, 67, 0.15);\n",
              "      fill: #174EA6;\n",
              "    }\n",
              "\n",
              "    [theme=dark] .colab-df-convert {\n",
              "      background-color: #3B4455;\n",
              "      fill: #D2E3FC;\n",
              "    }\n",
              "\n",
              "    [theme=dark] .colab-df-convert:hover {\n",
              "      background-color: #434B5C;\n",
              "      box-shadow: 0px 1px 3px 1px rgba(0, 0, 0, 0.15);\n",
              "      filter: drop-shadow(0px 1px 2px rgba(0, 0, 0, 0.3));\n",
              "      fill: #FFFFFF;\n",
              "    }\n",
              "  </style>\n",
              "\n",
              "      <script>\n",
              "        const buttonEl =\n",
              "          document.querySelector('#df-2729a7d5-45f9-4cc8-ba97-9bfe1f3ebb3b button.colab-df-convert');\n",
              "        buttonEl.style.display =\n",
              "          google.colab.kernel.accessAllowed ? 'block' : 'none';\n",
              "\n",
              "        async function convertToInteractive(key) {\n",
              "          const element = document.querySelector('#df-2729a7d5-45f9-4cc8-ba97-9bfe1f3ebb3b');\n",
              "          const dataTable =\n",
              "            await google.colab.kernel.invokeFunction('convertToInteractive',\n",
              "                                                     [key], {});\n",
              "          if (!dataTable) return;\n",
              "\n",
              "          const docLinkHtml = 'Like what you see? Visit the ' +\n",
              "            '<a target=\"_blank\" href=https://colab.research.google.com/notebooks/data_table.ipynb>data table notebook</a>'\n",
              "            + ' to learn more about interactive tables.';\n",
              "          element.innerHTML = '';\n",
              "          dataTable['output_type'] = 'display_data';\n",
              "          await google.colab.output.renderOutput(dataTable, element);\n",
              "          const docLink = document.createElement('div');\n",
              "          docLink.innerHTML = docLinkHtml;\n",
              "          element.appendChild(docLink);\n",
              "        }\n",
              "      </script>\n",
              "    </div>\n",
              "  </div>\n",
              "  "
            ]
          },
          "metadata": {},
          "execution_count": 53
        }
      ],
      "source": [
        "dados_rr.head()"
      ]
    },
    {
      "cell_type": "code",
      "execution_count": null,
      "id": "becb0d21",
      "metadata": {
        "id": "becb0d21",
        "outputId": "8153d2ce-50ec-4b94-89d0-dd012b482f6f",
        "colab": {
          "base_uri": "https://localhost:8080/",
          "height": 206
        }
      },
      "outputs": [
        {
          "output_type": "execute_result",
          "data": {
            "text/plain": [
              "        NM_MUN SIGLA   AREA_KM2    AREA_HA  \\\n",
              "0      Amajari    RR  28473.450  2847345.0   \n",
              "1  Alto Alegre    RR  25454.297  2545429.7   \n",
              "2    Boa Vista    RR   5687.037   568703.7   \n",
              "3       Bonfim    RR   8079.914   807991.4   \n",
              "4        Cantá    RR   7664.831   766483.1   \n",
              "\n",
              "                                            geometry  \n",
              "0  POLYGON ((-653293.122 10484456.542, -653210.82...  \n",
              "1  POLYGON ((-912135.945 10423391.884, -911694.57...  \n",
              "2  POLYGON ((-557124.128 10404082.309, -557082.01...  \n",
              "3  POLYGON ((-490624.014 10398620.932, -490467.19...  \n",
              "4  POLYGON ((-567654.024 10322366.237, -567532.70...  "
            ],
            "text/html": [
              "\n",
              "  <div id=\"df-aaaa73a8-6771-4984-bdbb-e0e4d5dff2fb\">\n",
              "    <div class=\"colab-df-container\">\n",
              "      <div>\n",
              "<style scoped>\n",
              "    .dataframe tbody tr th:only-of-type {\n",
              "        vertical-align: middle;\n",
              "    }\n",
              "\n",
              "    .dataframe tbody tr th {\n",
              "        vertical-align: top;\n",
              "    }\n",
              "\n",
              "    .dataframe thead th {\n",
              "        text-align: right;\n",
              "    }\n",
              "</style>\n",
              "<table border=\"1\" class=\"dataframe\">\n",
              "  <thead>\n",
              "    <tr style=\"text-align: right;\">\n",
              "      <th></th>\n",
              "      <th>NM_MUN</th>\n",
              "      <th>SIGLA</th>\n",
              "      <th>AREA_KM2</th>\n",
              "      <th>AREA_HA</th>\n",
              "      <th>geometry</th>\n",
              "    </tr>\n",
              "  </thead>\n",
              "  <tbody>\n",
              "    <tr>\n",
              "      <th>0</th>\n",
              "      <td>Amajari</td>\n",
              "      <td>RR</td>\n",
              "      <td>28473.450</td>\n",
              "      <td>2847345.0</td>\n",
              "      <td>POLYGON ((-653293.122 10484456.542, -653210.82...</td>\n",
              "    </tr>\n",
              "    <tr>\n",
              "      <th>1</th>\n",
              "      <td>Alto Alegre</td>\n",
              "      <td>RR</td>\n",
              "      <td>25454.297</td>\n",
              "      <td>2545429.7</td>\n",
              "      <td>POLYGON ((-912135.945 10423391.884, -911694.57...</td>\n",
              "    </tr>\n",
              "    <tr>\n",
              "      <th>2</th>\n",
              "      <td>Boa Vista</td>\n",
              "      <td>RR</td>\n",
              "      <td>5687.037</td>\n",
              "      <td>568703.7</td>\n",
              "      <td>POLYGON ((-557124.128 10404082.309, -557082.01...</td>\n",
              "    </tr>\n",
              "    <tr>\n",
              "      <th>3</th>\n",
              "      <td>Bonfim</td>\n",
              "      <td>RR</td>\n",
              "      <td>8079.914</td>\n",
              "      <td>807991.4</td>\n",
              "      <td>POLYGON ((-490624.014 10398620.932, -490467.19...</td>\n",
              "    </tr>\n",
              "    <tr>\n",
              "      <th>4</th>\n",
              "      <td>Cantá</td>\n",
              "      <td>RR</td>\n",
              "      <td>7664.831</td>\n",
              "      <td>766483.1</td>\n",
              "      <td>POLYGON ((-567654.024 10322366.237, -567532.70...</td>\n",
              "    </tr>\n",
              "  </tbody>\n",
              "</table>\n",
              "</div>\n",
              "      <button class=\"colab-df-convert\" onclick=\"convertToInteractive('df-aaaa73a8-6771-4984-bdbb-e0e4d5dff2fb')\"\n",
              "              title=\"Convert this dataframe to an interactive table.\"\n",
              "              style=\"display:none;\">\n",
              "        \n",
              "  <svg xmlns=\"http://www.w3.org/2000/svg\" height=\"24px\"viewBox=\"0 0 24 24\"\n",
              "       width=\"24px\">\n",
              "    <path d=\"M0 0h24v24H0V0z\" fill=\"none\"/>\n",
              "    <path d=\"M18.56 5.44l.94 2.06.94-2.06 2.06-.94-2.06-.94-.94-2.06-.94 2.06-2.06.94zm-11 1L8.5 8.5l.94-2.06 2.06-.94-2.06-.94L8.5 2.5l-.94 2.06-2.06.94zm10 10l.94 2.06.94-2.06 2.06-.94-2.06-.94-.94-2.06-.94 2.06-2.06.94z\"/><path d=\"M17.41 7.96l-1.37-1.37c-.4-.4-.92-.59-1.43-.59-.52 0-1.04.2-1.43.59L10.3 9.45l-7.72 7.72c-.78.78-.78 2.05 0 2.83L4 21.41c.39.39.9.59 1.41.59.51 0 1.02-.2 1.41-.59l7.78-7.78 2.81-2.81c.8-.78.8-2.07 0-2.86zM5.41 20L4 18.59l7.72-7.72 1.47 1.35L5.41 20z\"/>\n",
              "  </svg>\n",
              "      </button>\n",
              "      \n",
              "  <style>\n",
              "    .colab-df-container {\n",
              "      display:flex;\n",
              "      flex-wrap:wrap;\n",
              "      gap: 12px;\n",
              "    }\n",
              "\n",
              "    .colab-df-convert {\n",
              "      background-color: #E8F0FE;\n",
              "      border: none;\n",
              "      border-radius: 50%;\n",
              "      cursor: pointer;\n",
              "      display: none;\n",
              "      fill: #1967D2;\n",
              "      height: 32px;\n",
              "      padding: 0 0 0 0;\n",
              "      width: 32px;\n",
              "    }\n",
              "\n",
              "    .colab-df-convert:hover {\n",
              "      background-color: #E2EBFA;\n",
              "      box-shadow: 0px 1px 2px rgba(60, 64, 67, 0.3), 0px 1px 3px 1px rgba(60, 64, 67, 0.15);\n",
              "      fill: #174EA6;\n",
              "    }\n",
              "\n",
              "    [theme=dark] .colab-df-convert {\n",
              "      background-color: #3B4455;\n",
              "      fill: #D2E3FC;\n",
              "    }\n",
              "\n",
              "    [theme=dark] .colab-df-convert:hover {\n",
              "      background-color: #434B5C;\n",
              "      box-shadow: 0px 1px 3px 1px rgba(0, 0, 0, 0.15);\n",
              "      filter: drop-shadow(0px 1px 2px rgba(0, 0, 0, 0.3));\n",
              "      fill: #FFFFFF;\n",
              "    }\n",
              "  </style>\n",
              "\n",
              "      <script>\n",
              "        const buttonEl =\n",
              "          document.querySelector('#df-aaaa73a8-6771-4984-bdbb-e0e4d5dff2fb button.colab-df-convert');\n",
              "        buttonEl.style.display =\n",
              "          google.colab.kernel.accessAllowed ? 'block' : 'none';\n",
              "\n",
              "        async function convertToInteractive(key) {\n",
              "          const element = document.querySelector('#df-aaaa73a8-6771-4984-bdbb-e0e4d5dff2fb');\n",
              "          const dataTable =\n",
              "            await google.colab.kernel.invokeFunction('convertToInteractive',\n",
              "                                                     [key], {});\n",
              "          if (!dataTable) return;\n",
              "\n",
              "          const docLinkHtml = 'Like what you see? Visit the ' +\n",
              "            '<a target=\"_blank\" href=https://colab.research.google.com/notebooks/data_table.ipynb>data table notebook</a>'\n",
              "            + ' to learn more about interactive tables.';\n",
              "          element.innerHTML = '';\n",
              "          dataTable['output_type'] = 'display_data';\n",
              "          await google.colab.output.renderOutput(dataTable, element);\n",
              "          const docLink = document.createElement('div');\n",
              "          docLink.innerHTML = docLinkHtml;\n",
              "          element.appendChild(docLink);\n",
              "        }\n",
              "      </script>\n",
              "    </div>\n",
              "  </div>\n",
              "  "
            ]
          },
          "metadata": {},
          "execution_count": 56
        }
      ],
      "source": [
        "dados_sc['AREA_M2'] = dados_rr.area\n",
        "dados_rr.head()"
      ]
    },
    {
      "cell_type": "code",
      "execution_count": null,
      "id": "d360d4d8",
      "metadata": {
        "id": "d360d4d8",
        "outputId": "cedcef76-e3e4-476e-baa0-dea5774cf12b",
        "colab": {
          "base_uri": "https://localhost:8080/",
          "height": 206
        }
      },
      "outputs": [
        {
          "output_type": "execute_result",
          "data": {
            "text/plain": [
              "        NM_MUN SIGLA   AREA_KM2    AREA_HA  \\\n",
              "0      Amajari    RR  28473.450  2847345.0   \n",
              "1  Alto Alegre    RR  25454.297  2545429.7   \n",
              "2    Boa Vista    RR   5687.037   568703.7   \n",
              "3       Bonfim    RR   8079.914   807991.4   \n",
              "4        Cantá    RR   7664.831   766483.1   \n",
              "\n",
              "                                            geometry  \n",
              "0  POLYGON ((-61.33730 4.31159, -61.33656 4.31136...  \n",
              "1  POLYGON ((-63.61441 3.73768, -63.61052 3.73712...  \n",
              "2  POLYGON ((-60.47539 3.60573, -60.47501 3.60507...  \n",
              "3  POLYGON ((-59.88384 3.56296, -59.88244 3.56296...  \n",
              "4  POLYGON ((-60.56198 2.87580, -60.56090 2.87470...  "
            ],
            "text/html": [
              "\n",
              "  <div id=\"df-f4a2f376-80de-445c-a435-3ec229691007\">\n",
              "    <div class=\"colab-df-container\">\n",
              "      <div>\n",
              "<style scoped>\n",
              "    .dataframe tbody tr th:only-of-type {\n",
              "        vertical-align: middle;\n",
              "    }\n",
              "\n",
              "    .dataframe tbody tr th {\n",
              "        vertical-align: top;\n",
              "    }\n",
              "\n",
              "    .dataframe thead th {\n",
              "        text-align: right;\n",
              "    }\n",
              "</style>\n",
              "<table border=\"1\" class=\"dataframe\">\n",
              "  <thead>\n",
              "    <tr style=\"text-align: right;\">\n",
              "      <th></th>\n",
              "      <th>NM_MUN</th>\n",
              "      <th>SIGLA</th>\n",
              "      <th>AREA_KM2</th>\n",
              "      <th>AREA_HA</th>\n",
              "      <th>geometry</th>\n",
              "    </tr>\n",
              "  </thead>\n",
              "  <tbody>\n",
              "    <tr>\n",
              "      <th>0</th>\n",
              "      <td>Amajari</td>\n",
              "      <td>RR</td>\n",
              "      <td>28473.450</td>\n",
              "      <td>2847345.0</td>\n",
              "      <td>POLYGON ((-61.33730 4.31159, -61.33656 4.31136...</td>\n",
              "    </tr>\n",
              "    <tr>\n",
              "      <th>1</th>\n",
              "      <td>Alto Alegre</td>\n",
              "      <td>RR</td>\n",
              "      <td>25454.297</td>\n",
              "      <td>2545429.7</td>\n",
              "      <td>POLYGON ((-63.61441 3.73768, -63.61052 3.73712...</td>\n",
              "    </tr>\n",
              "    <tr>\n",
              "      <th>2</th>\n",
              "      <td>Boa Vista</td>\n",
              "      <td>RR</td>\n",
              "      <td>5687.037</td>\n",
              "      <td>568703.7</td>\n",
              "      <td>POLYGON ((-60.47539 3.60573, -60.47501 3.60507...</td>\n",
              "    </tr>\n",
              "    <tr>\n",
              "      <th>3</th>\n",
              "      <td>Bonfim</td>\n",
              "      <td>RR</td>\n",
              "      <td>8079.914</td>\n",
              "      <td>807991.4</td>\n",
              "      <td>POLYGON ((-59.88384 3.56296, -59.88244 3.56296...</td>\n",
              "    </tr>\n",
              "    <tr>\n",
              "      <th>4</th>\n",
              "      <td>Cantá</td>\n",
              "      <td>RR</td>\n",
              "      <td>7664.831</td>\n",
              "      <td>766483.1</td>\n",
              "      <td>POLYGON ((-60.56198 2.87580, -60.56090 2.87470...</td>\n",
              "    </tr>\n",
              "  </tbody>\n",
              "</table>\n",
              "</div>\n",
              "      <button class=\"colab-df-convert\" onclick=\"convertToInteractive('df-f4a2f376-80de-445c-a435-3ec229691007')\"\n",
              "              title=\"Convert this dataframe to an interactive table.\"\n",
              "              style=\"display:none;\">\n",
              "        \n",
              "  <svg xmlns=\"http://www.w3.org/2000/svg\" height=\"24px\"viewBox=\"0 0 24 24\"\n",
              "       width=\"24px\">\n",
              "    <path d=\"M0 0h24v24H0V0z\" fill=\"none\"/>\n",
              "    <path d=\"M18.56 5.44l.94 2.06.94-2.06 2.06-.94-2.06-.94-.94-2.06-.94 2.06-2.06.94zm-11 1L8.5 8.5l.94-2.06 2.06-.94-2.06-.94L8.5 2.5l-.94 2.06-2.06.94zm10 10l.94 2.06.94-2.06 2.06-.94-2.06-.94-.94-2.06-.94 2.06-2.06.94z\"/><path d=\"M17.41 7.96l-1.37-1.37c-.4-.4-.92-.59-1.43-.59-.52 0-1.04.2-1.43.59L10.3 9.45l-7.72 7.72c-.78.78-.78 2.05 0 2.83L4 21.41c.39.39.9.59 1.41.59.51 0 1.02-.2 1.41-.59l7.78-7.78 2.81-2.81c.8-.78.8-2.07 0-2.86zM5.41 20L4 18.59l7.72-7.72 1.47 1.35L5.41 20z\"/>\n",
              "  </svg>\n",
              "      </button>\n",
              "      \n",
              "  <style>\n",
              "    .colab-df-container {\n",
              "      display:flex;\n",
              "      flex-wrap:wrap;\n",
              "      gap: 12px;\n",
              "    }\n",
              "\n",
              "    .colab-df-convert {\n",
              "      background-color: #E8F0FE;\n",
              "      border: none;\n",
              "      border-radius: 50%;\n",
              "      cursor: pointer;\n",
              "      display: none;\n",
              "      fill: #1967D2;\n",
              "      height: 32px;\n",
              "      padding: 0 0 0 0;\n",
              "      width: 32px;\n",
              "    }\n",
              "\n",
              "    .colab-df-convert:hover {\n",
              "      background-color: #E2EBFA;\n",
              "      box-shadow: 0px 1px 2px rgba(60, 64, 67, 0.3), 0px 1px 3px 1px rgba(60, 64, 67, 0.15);\n",
              "      fill: #174EA6;\n",
              "    }\n",
              "\n",
              "    [theme=dark] .colab-df-convert {\n",
              "      background-color: #3B4455;\n",
              "      fill: #D2E3FC;\n",
              "    }\n",
              "\n",
              "    [theme=dark] .colab-df-convert:hover {\n",
              "      background-color: #434B5C;\n",
              "      box-shadow: 0px 1px 3px 1px rgba(0, 0, 0, 0.15);\n",
              "      filter: drop-shadow(0px 1px 2px rgba(0, 0, 0, 0.3));\n",
              "      fill: #FFFFFF;\n",
              "    }\n",
              "  </style>\n",
              "\n",
              "      <script>\n",
              "        const buttonEl =\n",
              "          document.querySelector('#df-f4a2f376-80de-445c-a435-3ec229691007 button.colab-df-convert');\n",
              "        buttonEl.style.display =\n",
              "          google.colab.kernel.accessAllowed ? 'block' : 'none';\n",
              "\n",
              "        async function convertToInteractive(key) {\n",
              "          const element = document.querySelector('#df-f4a2f376-80de-445c-a435-3ec229691007');\n",
              "          const dataTable =\n",
              "            await google.colab.kernel.invokeFunction('convertToInteractive',\n",
              "                                                     [key], {});\n",
              "          if (!dataTable) return;\n",
              "\n",
              "          const docLinkHtml = 'Like what you see? Visit the ' +\n",
              "            '<a target=\"_blank\" href=https://colab.research.google.com/notebooks/data_table.ipynb>data table notebook</a>'\n",
              "            + ' to learn more about interactive tables.';\n",
              "          element.innerHTML = '';\n",
              "          dataTable['output_type'] = 'display_data';\n",
              "          await google.colab.output.renderOutput(dataTable, element);\n",
              "          const docLink = document.createElement('div');\n",
              "          docLink.innerHTML = docLinkHtml;\n",
              "          element.appendChild(docLink);\n",
              "        }\n",
              "      </script>\n",
              "    </div>\n",
              "  </div>\n",
              "  "
            ]
          },
          "metadata": {},
          "execution_count": 57
        }
      ],
      "source": [
        "dados_rr_epsg_4674.head()"
      ]
    },
    {
      "cell_type": "code",
      "execution_count": null,
      "id": "ef33db53",
      "metadata": {
        "id": "ef33db53",
        "outputId": "d7dc12e4-0938-4824-dc2c-6c469b478ee0",
        "colab": {
          "base_uri": "https://localhost:8080/",
          "height": 363
        }
      },
      "outputs": [
        {
          "output_type": "display_data",
          "data": {
            "text/plain": [
              "<Figure size 720x720 with 2 Axes>"
            ],
            "image/png": "[encoded data removed]"
          },
          "metadata": {
            "needs_background": "light"
          }
        }
      ],
      "source": [
        "import matplotlib.pyplot as plt\n",
        "\n",
        "# Fazendo um plot do lado do outro\n",
        "\n",
        "fig, (ax1, ax2) = plt.subplots(nrows=1, ncols=2, figsize=(10,10))\n",
        "\n",
        "dados_rr_epsg_4674.plot(ax=ax1, facecolor='gray')\n",
        "dados_rr.plot(ax=ax2, facecolor='gray')\n",
        "\n",
        "# Definir a proporção como 1\n",
        "ax1.set_aspect(aspect=1)\n",
        "ax2.set_aspect(aspect=1)\n"
      ]
    },
    {
      "cell_type": "code",
      "execution_count": null,
      "id": "6e83b69b",
      "metadata": {
        "id": "6e83b69b"
      },
      "outputs": [],
      "source": [
        "# Salvar o arquivo\n",
        "\n",
        "arquivo_saida = r\"/content/sample_data/RR_Municipios_2021/RR_Municipios_2021_EPSG_31982.shp\"\n",
        "\n",
        "dados_rr.to_file(arquivo_saida)"
      ]
    },
    {
      "cell_type": "code",
      "execution_count": null,
      "id": "424d073d",
      "metadata": {
        "id": "424d073d"
      },
      "outputs": [],
      "source": []
    }
  ],
  "metadata": {
    "kernelspec": {
      "display_name": "Python 3 (ipykernel)",
      "language": "python",
      "name": "python3"
    },
    "language_info": {
      "codemirror_mode": {
        "name": "ipython",
        "version": 3
      },
      "file_extension": ".py",
      "mimetype": "text/x-python",
      "name": "python",
      "nbconvert_exporter": "python",
      "pygments_lexer": "ipython3",
      "version": "3.10.6"
    },
    "colab": {
      "provenance": [],
      "include_colab_link": true
    }
  },
  "nbformat": 4,
  "nbformat_minor": 5
}