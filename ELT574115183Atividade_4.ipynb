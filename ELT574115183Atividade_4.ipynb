{
  "nbformat": 4,
  "nbformat_minor": 0,
  "metadata": {
    "colab": {
      "provenance": [],
      "authorship_tag": "ABX9TyPoGokyx/khebgbT68OsWzu",
      "include_colab_link": true
    },
    "kernelspec": {
      "name": "python3",
      "display_name": "Python 3"
    },
    "language_info": {
      "name": "python"
    }
  },
  "cells": [
    {
      "cell_type": "markdown",
      "metadata": {
        "id": "view-in-github",
        "colab_type": "text"
      },
      "source": [
        "<a href=\"https://colab.research.google.com/github/sandovalmedeiros/PythonGeo/blob/main/ELT574115183Atividade_4.ipynb\" target=\"_parent\"><img src=\"https://colab.research.google.com/assets/colab-badge.svg\" alt=\"Open In Colab\"/></a>"
      ]
    },
    {
      "cell_type": "markdown",
      "source": [
        "# Sistema de Inferência Fuzzy para Sugestão de Gorjeta"
      ],
      "metadata": {
        "id": "MkALHl5utndi"
      }
    },
    {
      "cell_type": "markdown",
      "source": [
        " implementação de um sistema de inferência fuzzy para sugerir gorjetas para garçons em um restaurante. O objetivo é calcular a gorjeta com base na qualidade da comida e no serviço prestado."
      ],
      "metadata": {
        "id": "Sel30fWjtp6b"
      }
    },
    {
      "cell_type": "markdown",
      "source": [
        "# 1. Definição das Variáveis\n",
        "Entradas:\n",
        "Comida (escala de 0 a 10)\n",
        "Serviço (escala de 0 a 10)\n",
        "Saída:\n",
        "Gorjeta (escala de 0 a 10)"
      ],
      "metadata": {
        "id": "NcITf7Dat1iy"
      }
    },
    {
      "cell_type": "code",
      "source": [
        "# Variáveis de entrada\n",
        "comida = 3\n",
        "servico = 8\n",
        "\n",
        "# Variável de saída\n",
        "gorjeta = None\n"
      ],
      "metadata": {
        "id": "4VTnsMcsuH3A"
      },
      "execution_count": 2,
      "outputs": []
    },
    {
      "cell_type": "markdown",
      "source": [
        "2. Fuzzificação\n",
        "As variáveis de entrada e saída foram fuzzificadas utilizando funções de pertinência triangulares."
      ],
      "metadata": {
        "id": "FiBKPAD3uXQS"
      }
    },
    {
      "cell_type": "code",
      "source": [
        "# Funções de pertinência triangular para as variáveis de entrada e saída\n",
        "def comida_pertinencia(x):\n",
        "    if x <= 5:\n",
        "        return x / 5\n",
        "    else:\n",
        "        return (10 - x) / 5\n",
        "\n",
        "def servico_pertinencia(x):\n",
        "    if x <= 5:\n",
        "        return x / 5\n",
        "    else:\n",
        "        return (10 - x) / 5\n",
        "\n",
        "def gorjeta_pertinencia(x):\n",
        "    if x <= 5:\n",
        "        return x / 5\n",
        "    else:\n",
        "        return (10 - x) / 5\n"
      ],
      "metadata": {
        "id": "jR7cTrKNua2a"
      },
      "execution_count": 3,
      "outputs": []
    },
    {
      "cell_type": "markdown",
      "source": [
        "# 3. Regras Fuzzy (Mamdani)\n",
        "As regras fuzzy foram definidas com base nas entradas de comida e serviço. Se ambos forem bons, a gorjeta será alta. Caso contrário, a gorjeta será baixa."
      ],
      "metadata": {
        "id": "TsU5mK8dukAr"
      }
    },
    {
      "cell_type": "code",
      "source": [
        "# Regras Fuzzy\n",
        "def fuzzy_rules(comida, servico):\n",
        "    if comida >= 5 and servico >= 5:\n",
        "        return max(comida, servico)\n",
        "    else:\n",
        "        return min(comida, servico)\n",
        "\n",
        "# Calculando a pertinência da gorjeta para as entradas dadas\n",
        "gorjeta = fuzzy_rules(comida, servico)\n",
        "print(\"Pertinência da gorjeta:\", gorjeta)\n"
      ],
      "metadata": {
        "colab": {
          "base_uri": "https://localhost:8080/"
        },
        "id": "jgWL20u9usk6",
        "outputId": "3ebff426-72d6-48a1-910e-c24665d0a762"
      },
      "execution_count": 4,
      "outputs": [
        {
          "output_type": "stream",
          "name": "stdout",
          "text": [
            "Pertinência da gorjeta: 3\n"
          ]
        }
      ]
    },
    {
      "cell_type": "markdown",
      "source": [
        "# 4. Inferência Fuzzy (Mamdani)\n",
        "A inferência fuzzy foi realizada aplicando as regras fuzzy definidas às variáveis de entrada.\n"
      ],
      "metadata": {
        "id": "U5O_HyI6u2IU"
      }
    },
    {
      "cell_type": "markdown",
      "source": [
        "# 5. Defuzzificação\n",
        "Não foi necessária defuzzificação, pois a saída é uma pertinência fuzzy."
      ],
      "metadata": {
        "id": "OqS0Lkezyoo5"
      }
    },
    {
      "cell_type": "markdown",
      "source": [
        "# 6. Método Takagi-Sugeno-Kang\n",
        "\n",
        "Implementamos o método Takagi-Sugeno-Kang, onde as regras são funções lineares das entradas."
      ],
      "metadata": {
        "id": "FMiP1wUavJAZ"
      }
    },
    {
      "cell_type": "code",
      "source": [
        "# Definição das funções de pertinência\n",
        "def comida_pertinencia(valor):\n",
        "    if valor <= 3:\n",
        "        return 0\n",
        "    elif valor <= 7:\n",
        "        return (valor - 3) / (7 - 3)\n",
        "    else:\n",
        "        return 1\n",
        "\n",
        "def servico_pertinencia(valor):\n",
        "    if valor <= 4:\n",
        "        return 0\n",
        "    elif valor <= 8:\n",
        "        return (valor - 4) / (8 - 4)\n",
        "    else:\n",
        "        return 1\n",
        "\n",
        "# Implementação das regras Takagi-Sugeno-Kang\n",
        "def calcular_gorjeta(comida, servico):\n",
        "    # Coeficientes das regras (a0, a1, a2)\n",
        "    regra1 = (0, 0.5, 0.2)  # Regra: Se comida é baixa e serviço é médio, então gorjeta é 0.5*comida + 0.2*servico\n",
        "    regra2 = (0, 0.4, 0.3)  # Regra: Se comida é baixa e serviço é alto, então gorjeta é 0.4*comida + 0.3*servico\n",
        "    regra3 = (0, 0.6, 0.4)  # Regra: Se comida é alta e serviço é médio, então gorjeta é 0.6*comida + 0.4*servico\n",
        "\n",
        "    # Calculando a saída para cada regra\n",
        "    output1 = regra1[1] * comida + regra1[2] * servico + regra1[0]\n",
        "    output2 = regra2[1] * comida + regra2[2] * servico + regra2[0]\n",
        "    output3 = regra3[1] * comida + regra3[2] * servico + regra3[0]\n",
        "\n",
        "    # Pertinência da saída\n",
        "    pertinencia_total = comida_pertinencia(comida) + servico_pertinencia(servico)\n",
        "\n",
        "    # Calculando a saída final ponderada pelas pertinências\n",
        "    gorjeta = (output1 * comida_pertinencia(comida) +\n",
        "               output2 * comida_pertinencia(comida) +\n",
        "               output3 * servico_pertinencia(servico)) / pertinencia_total\n",
        "\n",
        "    return gorjeta\n",
        "\n",
        "# Exemplo de cálculo de gorjeta para diferentes entradas\n",
        "entrada1 = (3, 8)  # Comida = 3, Serviço = 8\n",
        "entrada2 = (8, 3)  # Comida = 8, Serviço = 3\n",
        "\n",
        "# Calcular a gorjeta para as entradas fornecidas\n",
        "gorjeta1 = calcular_gorjeta(*entrada1)\n",
        "gorjeta2 = calcular_gorjeta(*entrada2)\n",
        "\n",
        "print(\"Gorjeta para entrada (Comida = 3, Serviço = 8):\", gorjeta1)\n",
        "print(\"Gorjeta para entrada (Comida = 8, Serviço = 3):\", gorjeta2)\n"
      ],
      "metadata": {
        "colab": {
          "base_uri": "https://localhost:8080/"
        },
        "id": "jKPdoLxow3BJ",
        "outputId": "d537f283-361e-46f2-a3b1-efa1f35a9bde"
      },
      "execution_count": 7,
      "outputs": [
        {
          "output_type": "stream",
          "name": "stdout",
          "text": [
            "Gorjeta para entrada (Comida = 3, Serviço = 8): 5.0\n",
            "Gorjeta para entrada (Comida = 8, Serviço = 3): 8.7\n"
          ]
        }
      ]
    },
    {
      "cell_type": "markdown",
      "source": [
        "# Resultados\n",
        "\n",
        "Para as entradas fornecidas:\n",
        "\n",
        "Comida = 3 e Serviço = 8\n",
        "\n",
        "A pertinência da gorjeta foi calculada como 5.0\n",
        "Comida = 8 e Serviço = 3\n",
        "\n",
        "A pertinência da gorjeta foi calculada como 8.7"
      ],
      "metadata": {
        "id": "GZJHQw12xBWZ"
      }
    },
    {
      "cell_type": "markdown",
      "source": [],
      "metadata": {
        "id": "VS8iCfHPxYda"
      }
    },
    {
      "cell_type": "markdown",
      "source": [
        "# Discussão\n",
        "Ambos os métodos produziram resultados coerentes com a qualidade da comida e do serviço. O método Mamdani fornece uma visão mais direta da pertinência da gorjeta com base nas regras estabelecidas. O método Takagi-Sugeno-Kang oferece uma abordagem mais flexível, permitindo funções de pertinência mais complexas."
      ],
      "metadata": {
        "id": "2eGlnlrUyDtA"
      }
    },
    {
      "cell_type": "markdown",
      "source": [
        "# Conclusão\n",
        "O sistema de inferência fuzzy mostrou-se eficaz para sugerir gorjetas com base na qualidade da comida e do serviço em um restaurante. Tanto o método Mamdani quanto o Takagi-Sugeno-Kang podem ser utilizados dependendo da complexidade do problema e da necessidade de interpretabilidade.\n",
        "\n"
      ],
      "metadata": {
        "id": "YhPeHjecyLvS"
      }
    }
  ]
}