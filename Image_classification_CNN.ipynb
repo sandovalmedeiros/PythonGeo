{
  "nbformat": 4,
  "nbformat_minor": 0,
  "metadata": {
    "colab": {
      "provenance": [],
      "include_colab_link": true
    },
    "kernelspec": {
      "name": "python3",
      "display_name": "Python 3"
    },
    "language_info": {
      "name": "python"
    },
    "accelerator": "GPU"
  },
  "cells": [
    {
      "cell_type": "markdown",
      "metadata": {
        "id": "view-in-github",
        "colab_type": "text"
      },
      "source": [
        "<a href=\"https://colab.research.google.com/github/sandovalmedeiros/PythonGeo/blob/main/Image_classification_CNN.ipynb\" target=\"_parent\"><img src=\"https://colab.research.google.com/assets/colab-badge.svg\" alt=\"Open In Colab\"/></a>"
      ]
    },
    {
      "cell_type": "code",
      "source": [
        "import numpy as np\n",
        "import tensorflow as tf\n",
        "from matplotlib import pyplot as plt\n",
        "from sklearn.model_selection import KFold\n",
        "from tensorflow.keras.datasets import mnist, cifar10\n",
        "from tensorflow.keras.utils import to_categorical\n",
        "from tensorflow.keras.models import Sequential\n",
        "from tensorflow.keras.layers import Conv2D, MaxPooling2D, Dense, Flatten, Dropout, BatchNormalization\n",
        "from tensorflow.keras.optimizers import Adam"
      ],
      "metadata": {
        "id": "mepYIv5SXA6q"
      },
      "execution_count": 7,
      "outputs": []
    },
    {
      "cell_type": "markdown",
      "source": [
        "# Importando dados"
      ],
      "metadata": {
        "id": "D2WVw2iJ-iPf"
      }
    },
    {
      "cell_type": "markdown",
      "source": [
        "Aqui usaremos o dataset MNIST (https://en.wikipedia.org/wiki/MNIST_database), que consiste em imagens de dígitos de 0 a 9 escritos manualmente. As imagens desse dataset são na escala grayscale (possuindo um único canal), tendo dimensões 28 x 28 x 1\n",
        "\n",
        "* Usaremos a versão disponível no tensorflow, mas nada impede que as imagens sejam carregadas de alguma pasta no próprio computador ou carregadas direto para a memória como um array multidimensional (esse último é desaconselhado devido ao volume de dados que serão manipulados durante o treinamento da rede)"
      ],
      "metadata": {
        "id": "rxJzwLQB-leO"
      }
    },
    {
      "cell_type": "code",
      "source": [
        "# carregando dataset\n",
        "(trainX, trainY), (testX, testY) = mnist.load_data()"
      ],
      "metadata": {
        "id": "0oTJGJS7_oQq",
        "outputId": "4e065466-6645-41e3-e1a1-931a6a735ac3",
        "colab": {
          "base_uri": "https://localhost:8080/"
        }
      },
      "execution_count": 2,
      "outputs": [
        {
          "output_type": "stream",
          "name": "stdout",
          "text": [
            "Downloading data from https://storage.googleapis.com/tensorflow/tf-keras-datasets/mnist.npz\n",
            "11490434/11490434 [==============================] - 1s 0us/step\n"
          ]
        }
      ]
    },
    {
      "cell_type": "markdown",
      "source": [
        "Faremos algumas adequações para que os dados sejam usados no modelo de CNN. Basicamente, colocamos os valores dos pixels em uma escala de 0 a 1, visto que os valores originais dos pixels das imagens correspondem a uma escala de 0 a 255. Também transformamos nossa variável alvo em uma codificação one-hos"
      ],
      "metadata": {
        "id": "OnIgJaRcX-oH"
      }
    },
    {
      "cell_type": "code",
      "source": [
        "plt.imshow(trainX[5], cmap='gray');"
      ],
      "metadata": {
        "colab": {
          "base_uri": "https://localhost:8080/",
          "height": 430
        },
        "id": "6sdeuEG4zNqp",
        "outputId": "759d0f6e-df8e-42e0-d062-36ca778c9ae3"
      },
      "execution_count": 3,
      "outputs": [
        {
          "output_type": "display_data",
          "data": {
            "text/plain": [
              "<Figure size 640x480 with 1 Axes>"
            ],
            "image/png": "[encoded data removed]"
          },
          "metadata": {}
        }
      ]
    },
    {
      "cell_type": "code",
      "execution_count": 4,
      "metadata": {
        "id": "fIhMNN9u8063"
      },
      "outputs": [],
      "source": [
        "# fazendo um reshape no dataset para ter um único canal\n",
        "trainX = trainX.reshape((trainX.shape[0], 28, 28, 1))\n",
        "testX = testX.reshape((testX.shape[0], 28, 28, 1))\n",
        "\n",
        "# Convertendo valores dos pixels em float\n",
        "trainX = trainX.astype('float32')\n",
        "testX = testX.astype('float32')\n",
        "\n",
        "# normalização para escala [0-1]\n",
        "trainX = trainX / 255.0\n",
        "testX = testX / 255.0\n",
        "\n",
        "# transformando a variável alvo (target) para uma codificação one hot\n",
        "trainY = to_categorical(trainY)\n",
        "testY = to_categorical(testY)"
      ]
    },
    {
      "cell_type": "markdown",
      "source": [
        "# Construindo o modelo"
      ],
      "metadata": {
        "id": "4yIlMtBSYkCQ"
      }
    },
    {
      "cell_type": "markdown",
      "source": [
        "O modelo usado será bem simples:\n",
        "* Uma única camada convolucional com 32 filtros de tamanho 3 x 3 e função de ativação ReLU\n",
        "* Camada MaxPooling para redução de dimensionalidade\n",
        "* Transformação do resultado em um vetor\n",
        "* Camada totalmente conectada com 100 neurônios e função de ativação ReLU\n",
        "* Camada de saída softmax para estimar a probabilidade da entrada da rede pertencer a cada uma das 10 classes (dígitos 0 a 9)\n",
        "\n",
        "\n",
        "Para treinamento do modelo, usaremos o algoritmo de otimização clássico do gradiente descendente estocástico (SDG), com a função objetiva como a entropia cruzada categórica. Nossa principal métrica de desempenho será a acurácia"
      ],
      "metadata": {
        "id": "L6qv-wkKZL3a"
      }
    },
    {
      "cell_type": "code",
      "source": [
        "# definindo modelo\n",
        "def define_model():\n",
        "  model = Sequential()\n",
        "  model.add(Conv2D(32, (3, 3), activation='relu', input_shape=(28, 28, 1)))\n",
        "  model.add(BatchNormalization())\n",
        "  model.add(MaxPooling2D((2, 2)))\n",
        "  model.add(Flatten())\n",
        "  model.add(Dense(100, activation='relu'))\n",
        "  model.add(Dense(10, activation='softmax'))\n",
        "\n",
        "  # compilando modelo\n",
        "  opt = Adam(learning_rate=0.001)\n",
        "  model.compile(optimizer=opt, loss='categorical_crossentropy', metrics=['accuracy'])\n",
        "  return model"
      ],
      "metadata": {
        "id": "suXiZFlbAmmi"
      },
      "execution_count": 5,
      "outputs": []
    },
    {
      "cell_type": "markdown",
      "source": [
        "# Treinamento do modelo"
      ],
      "metadata": {
        "id": "S5fX2TpPaj77"
      }
    },
    {
      "cell_type": "markdown",
      "source": [
        "O treinamento será realizado usando o método da validação cruzada k-partições (k-fold) com k=5. Tal validação cruzada faz a divisão dos dados em 5 grupos de tamanho igual, sendo realizadas 5 treinamentos distintos. A cada treinamento, 4 grupos de dados são utilizados para treinar o modelo e o grupo remanescente é usado para teste do desempenho do modelo treinado.\n",
        "\n",
        "\n",
        "\n",
        "* O principal intuito da validação k-fold é acessar a incerteza do desempenho do modelo"
      ],
      "metadata": {
        "id": "GetQJUegap4f"
      }
    },
    {
      "cell_type": "code",
      "source": [
        "callback = tf.keras.callbacks.EarlyStopping(monitor='val_loss', patience=3, restore_best_weights=True)"
      ],
      "metadata": {
        "id": "WVsFpMjYkZ7f"
      },
      "execution_count": 8,
      "outputs": []
    },
    {
      "cell_type": "code",
      "source": [
        "scores = []\n",
        "histories = []\n",
        "\n",
        "# definindo a validação k-fold\n",
        "kfold = KFold(5, shuffle=True, random_state=1)\n",
        "\n",
        "# loop para as k-folds (cada fold usa subconjuntos de treino e teste diferentes)\n",
        "for train_ix, test_ix in kfold.split(trainX):\n",
        "\n",
        "  model = define_model()\n",
        "\n",
        "  # recorta dados de acordo com índices da k-fold\n",
        "  train_data, train_target, val_data, val_target = trainX[train_ix], trainY[train_ix], trainX[test_ix], trainY[test_ix]\n",
        "\n",
        "  # treinamento do modelo\n",
        "  history = model.fit(train_data, train_target,\n",
        "                      epochs=10, batch_size=32,\n",
        "                      validation_data=(val_data, val_target),\n",
        "                      verbose=1)\n",
        "\n",
        "  # desempenho do modelo\n",
        "  _, acc = model.evaluate(val_data, val_target, verbose=0)\n",
        "  print('> %.3f' % (acc * 100.0))\n",
        "\n",
        "  # armazena resultados de cada modelo treinado dentro da k-fold\n",
        "  scores.append(acc)\n",
        "  histories.append(history)\n",
        "\n",
        "print('Acurácia: média=%.3f desvio=%.3f' % (np.mean(scores)*100, np.std(scores)*100))\n",
        "plt.boxplot(scores)\n",
        "plt.show()"
      ],
      "metadata": {
        "colab": {
          "base_uri": "https://localhost:8080/"
        },
        "id": "vNMJ1WpeUNgp",
        "outputId": "23baf37c-8dfa-411e-9e51-5ebba91c3423"
      },
      "execution_count": null,
      "outputs": [
        {
          "output_type": "stream",
          "name": "stdout",
          "text": [
            "Epoch 1/10\n",
            "1500/1500 [==============================] - 18s 5ms/step - loss: 0.1342 - accuracy: 0.9598 - val_loss: 0.0869 - val_accuracy: 0.9748\n",
            "Epoch 2/10\n",
            "1500/1500 [==============================] - 7s 4ms/step - loss: 0.0394 - accuracy: 0.9875 - val_loss: 0.0851 - val_accuracy: 0.9769\n",
            "Epoch 3/10\n",
            "1500/1500 [==============================] - 7s 4ms/step - loss: 0.0232 - accuracy: 0.9921 - val_loss: 0.0965 - val_accuracy: 0.9755\n",
            "Epoch 4/10\n",
            "1500/1500 [==============================] - 8s 5ms/step - loss: 0.0204 - accuracy: 0.9933 - val_loss: 0.0825 - val_accuracy: 0.9794\n",
            "Epoch 5/10\n",
            "1500/1500 [==============================] - 8s 5ms/step - loss: 0.0142 - accuracy: 0.9953 - val_loss: 0.0941 - val_accuracy: 0.9814\n",
            "Epoch 6/10\n",
            " 706/1500 [=============>................] - ETA: 2s - loss: 0.0091 - accuracy: 0.9971"
          ]
        }
      ]
    },
    {
      "cell_type": "markdown",
      "source": [
        "# Testando modelo no conjunto de teste"
      ],
      "metadata": {
        "id": "vQrS59lcrDGb"
      }
    },
    {
      "cell_type": "markdown",
      "source": [
        "Agora avaliaremos o desempenho do modelo em dados do conjunto de teste separado nas etapas iniciais deste exercício\n",
        "* Abaixo temos a primeira imagem do conjunto de teste"
      ],
      "metadata": {
        "id": "g04X5n32rHye"
      }
    },
    {
      "cell_type": "code",
      "source": [
        "plt.imshow(testX[31,:,:,0], cmap='gray');"
      ],
      "metadata": {
        "colab": {
          "base_uri": "https://localhost:8080/",
          "height": 430
        },
        "id": "-kQjP09ZfjEF",
        "outputId": "beb4b3ed-8d6c-49e7-824f-a260ec153416"
      },
      "execution_count": null,
      "outputs": [
        {
          "output_type": "display_data",
          "data": {
            "text/plain": [
              "<Figure size 640x480 with 1 Axes>"
            ],
            "image/png": "[encoded data removed]"
          },
          "metadata": {}
        }
      ]
    },
    {
      "cell_type": "markdown",
      "source": [
        "Usaremos o último modelo treinado na validação cruzada k-fold para classificar qual número temos na imagem (podemos também salvar cada um dos modelos intermediários e usar o que apresentar maior performance ou fazer um comitê de votação com os 5 modelos disponíveis)\n",
        "\n",
        "* temos que fazer uma expansão de dimensão para que nossa imagem tenha um formato 1 x 28 x 28 x 1. Isso é necessário pois treinamos nosso modelo usando mini conjuntos de imagens (como nosso batch size era de 32, o formato passado para o modelo a cada passo de treinamento era 32 x 28 x 28 x 1)"
      ],
      "metadata": {
        "id": "d6YTsHbArbLs"
      }
    },
    {
      "cell_type": "code",
      "source": [
        "np.argmax(model.predict(np.expand_dims(testX[31], axis=0)))"
      ],
      "metadata": {
        "colab": {
          "base_uri": "https://localhost:8080/"
        },
        "id": "Q_MpGPWwfnGE",
        "outputId": "ce1fbdf0-1f6c-4012-f200-50cf7b9c0391"
      },
      "execution_count": null,
      "outputs": [
        {
          "output_type": "stream",
          "name": "stdout",
          "text": [
            "1/1 [==============================] - 0s 30ms/step\n"
          ]
        },
        {
          "output_type": "execute_result",
          "data": {
            "text/plain": [
              "1"
            ]
          },
          "metadata": {},
          "execution_count": 17
        }
      ]
    }
  ]
}