{
  "cells": [
    {
      "cell_type": "markdown",
      "metadata": {
        "id": "view-in-github",
        "colab_type": "text"
      },
      "source": [
        "<a href=\"https://colab.research.google.com/github/sandovalmedeiros/PythonGeo/blob/main/Aula09.ipynb\" target=\"_parent\"><img src=\"https://colab.research.google.com/assets/colab-badge.svg\" alt=\"Open In Colab\"/></a>"
      ]
    },
    {
      "cell_type": "markdown",
      "id": "18d1115a",
      "metadata": {
        "id": "18d1115a"
      },
      "source": [
        "# Geocodificação\n",
        "É um processo de transformar nomes de lugares ou endereços de um conjunto de dados para coordenadas. \n",
        "\n",
        "Vamos utilizar a biblioteca geopy https://geopy.readthedocs.io/en/stable/.\n",
        "\n",
        "Existem diversos serviços de geocodificação, vamos utilizar o Open Street Map"
      ]
    },
    {
      "cell_type": "code",
      "execution_count": 3,
      "id": "891ee551",
      "metadata": {
        "id": "891ee551"
      },
      "outputs": [],
      "source": [
        "import pandas as pd\n",
        "import geopandas as gpd\n",
        "from shapely.geometry import Point"
      ]
    },
    {
      "cell_type": "code",
      "execution_count": 4,
      "id": "ff7e17c6",
      "metadata": {
        "id": "ff7e17c6"
      },
      "outputs": [],
      "source": [
        "caminho = r\"/content/sample_data/parques_sp.csv\"\n",
        "dados = pd.read_csv(caminho, sep=';')"
      ]
    },
    {
      "cell_type": "code",
      "execution_count": 5,
      "id": "db38b350",
      "metadata": {
        "colab": {
          "base_uri": "https://localhost:8080/",
          "height": 269
        },
        "id": "db38b350",
        "outputId": "d42d6abd-44ed-45f8-e7a0-b8ab668f81d7"
      },
      "outputs": [
        {
          "output_type": "execute_result",
          "data": {
            "text/plain": [
              "                                       name  \\\n",
              "0                        Parque Villa-Lobos   \n",
              "1  Parque Tenente Siqueira Campos - Trianon   \n",
              "2                          Parque Aclimação   \n",
              "3                      Parque Jardim da Luz   \n",
              "4                      Parque Independência   \n",
              "5                      Parque Alfredo Volpi   \n",
              "6                 Parque Ecológico do Tietê   \n",
              "\n",
              "                                             address  \n",
              "0  Avenida Prof. Fonseca Rodrigues, 2001 - Alto d...  \n",
              "1  Rua Peixoto Gomide, 949 - Cerqueira César, São...  \n",
              "2  Rua Muniz de Sousa, 1.119 - Aclimação, São Pau...  \n",
              "3     Praça da Luz, s/n - Bom Retiro, São Paulo - SP  \n",
              "4     Avenida Nazaré, s/n - Ipiranga, São Paulo - SP  \n",
              "5  Rua Engenheiro Oscar Americano, 480 - Morumbi,...  \n",
              "6  Rodovia Parque, 8055 - Vila Santo Henrique, Sã...  "
            ],
            "text/html": [
              "\n",
              "  <div id=\"df-3c78b5a1-6323-4e97-8d88-190b87f0b910\">\n",
              "    <div class=\"colab-df-container\">\n",
              "      <div>\n",
              "<style scoped>\n",
              "    .dataframe tbody tr th:only-of-type {\n",
              "        vertical-align: middle;\n",
              "    }\n",
              "\n",
              "    .dataframe tbody tr th {\n",
              "        vertical-align: top;\n",
              "    }\n",
              "\n",
              "    .dataframe thead th {\n",
              "        text-align: right;\n",
              "    }\n",
              "</style>\n",
              "<table border=\"1\" class=\"dataframe\">\n",
              "  <thead>\n",
              "    <tr style=\"text-align: right;\">\n",
              "      <th></th>\n",
              "      <th>name</th>\n",
              "      <th>address</th>\n",
              "    </tr>\n",
              "  </thead>\n",
              "  <tbody>\n",
              "    <tr>\n",
              "      <th>0</th>\n",
              "      <td>Parque Villa-Lobos</td>\n",
              "      <td>Avenida Prof. Fonseca Rodrigues, 2001 - Alto d...</td>\n",
              "    </tr>\n",
              "    <tr>\n",
              "      <th>1</th>\n",
              "      <td>Parque Tenente Siqueira Campos - Trianon</td>\n",
              "      <td>Rua Peixoto Gomide, 949 - Cerqueira César, São...</td>\n",
              "    </tr>\n",
              "    <tr>\n",
              "      <th>2</th>\n",
              "      <td>Parque Aclimação</td>\n",
              "      <td>Rua Muniz de Sousa, 1.119 - Aclimação, São Pau...</td>\n",
              "    </tr>\n",
              "    <tr>\n",
              "      <th>3</th>\n",
              "      <td>Parque Jardim da Luz</td>\n",
              "      <td>Praça da Luz, s/n - Bom Retiro, São Paulo - SP</td>\n",
              "    </tr>\n",
              "    <tr>\n",
              "      <th>4</th>\n",
              "      <td>Parque Independência</td>\n",
              "      <td>Avenida Nazaré, s/n - Ipiranga, São Paulo - SP</td>\n",
              "    </tr>\n",
              "    <tr>\n",
              "      <th>5</th>\n",
              "      <td>Parque Alfredo Volpi</td>\n",
              "      <td>Rua Engenheiro Oscar Americano, 480 - Morumbi,...</td>\n",
              "    </tr>\n",
              "    <tr>\n",
              "      <th>6</th>\n",
              "      <td>Parque Ecológico do Tietê</td>\n",
              "      <td>Rodovia Parque, 8055 - Vila Santo Henrique, Sã...</td>\n",
              "    </tr>\n",
              "  </tbody>\n",
              "</table>\n",
              "</div>\n",
              "      <button class=\"colab-df-convert\" onclick=\"convertToInteractive('df-3c78b5a1-6323-4e97-8d88-190b87f0b910')\"\n",
              "              title=\"Convert this dataframe to an interactive table.\"\n",
              "              style=\"display:none;\">\n",
              "        \n",
              "  <svg xmlns=\"http://www.w3.org/2000/svg\" height=\"24px\"viewBox=\"0 0 24 24\"\n",
              "       width=\"24px\">\n",
              "    <path d=\"M0 0h24v24H0V0z\" fill=\"none\"/>\n",
              "    <path d=\"M18.56 5.44l.94 2.06.94-2.06 2.06-.94-2.06-.94-.94-2.06-.94 2.06-2.06.94zm-11 1L8.5 8.5l.94-2.06 2.06-.94-2.06-.94L8.5 2.5l-.94 2.06-2.06.94zm10 10l.94 2.06.94-2.06 2.06-.94-2.06-.94-.94-2.06-.94 2.06-2.06.94z\"/><path d=\"M17.41 7.96l-1.37-1.37c-.4-.4-.92-.59-1.43-.59-.52 0-1.04.2-1.43.59L10.3 9.45l-7.72 7.72c-.78.78-.78 2.05 0 2.83L4 21.41c.39.39.9.59 1.41.59.51 0 1.02-.2 1.41-.59l7.78-7.78 2.81-2.81c.8-.78.8-2.07 0-2.86zM5.41 20L4 18.59l7.72-7.72 1.47 1.35L5.41 20z\"/>\n",
              "  </svg>\n",
              "      </button>\n",
              "      \n",
              "  <style>\n",
              "    .colab-df-container {\n",
              "      display:flex;\n",
              "      flex-wrap:wrap;\n",
              "      gap: 12px;\n",
              "    }\n",
              "\n",
              "    .colab-df-convert {\n",
              "      background-color: #E8F0FE;\n",
              "      border: none;\n",
              "      border-radius: 50%;\n",
              "      cursor: pointer;\n",
              "      display: none;\n",
              "      fill: #1967D2;\n",
              "      height: 32px;\n",
              "      padding: 0 0 0 0;\n",
              "      width: 32px;\n",
              "    }\n",
              "\n",
              "    .colab-df-convert:hover {\n",
              "      background-color: #E2EBFA;\n",
              "      box-shadow: 0px 1px 2px rgba(60, 64, 67, 0.3), 0px 1px 3px 1px rgba(60, 64, 67, 0.15);\n",
              "      fill: #174EA6;\n",
              "    }\n",
              "\n",
              "    [theme=dark] .colab-df-convert {\n",
              "      background-color: #3B4455;\n",
              "      fill: #D2E3FC;\n",
              "    }\n",
              "\n",
              "    [theme=dark] .colab-df-convert:hover {\n",
              "      background-color: #434B5C;\n",
              "      box-shadow: 0px 1px 3px 1px rgba(0, 0, 0, 0.15);\n",
              "      filter: drop-shadow(0px 1px 2px rgba(0, 0, 0, 0.3));\n",
              "      fill: #FFFFFF;\n",
              "    }\n",
              "  </style>\n",
              "\n",
              "      <script>\n",
              "        const buttonEl =\n",
              "          document.querySelector('#df-3c78b5a1-6323-4e97-8d88-190b87f0b910 button.colab-df-convert');\n",
              "        buttonEl.style.display =\n",
              "          google.colab.kernel.accessAllowed ? 'block' : 'none';\n",
              "\n",
              "        async function convertToInteractive(key) {\n",
              "          const element = document.querySelector('#df-3c78b5a1-6323-4e97-8d88-190b87f0b910');\n",
              "          const dataTable =\n",
              "            await google.colab.kernel.invokeFunction('convertToInteractive',\n",
              "                                                     [key], {});\n",
              "          if (!dataTable) return;\n",
              "\n",
              "          const docLinkHtml = 'Like what you see? Visit the ' +\n",
              "            '<a target=\"_blank\" href=https://colab.research.google.com/notebooks/data_table.ipynb>data table notebook</a>'\n",
              "            + ' to learn more about interactive tables.';\n",
              "          element.innerHTML = '';\n",
              "          dataTable['output_type'] = 'display_data';\n",
              "          await google.colab.output.renderOutput(dataTable, element);\n",
              "          const docLink = document.createElement('div');\n",
              "          docLink.innerHTML = docLinkHtml;\n",
              "          element.appendChild(docLink);\n",
              "        }\n",
              "      </script>\n",
              "    </div>\n",
              "  </div>\n",
              "  "
            ]
          },
          "metadata": {},
          "execution_count": 5
        }
      ],
      "source": [
        "dados"
      ]
    },
    {
      "cell_type": "code",
      "execution_count": 6,
      "id": "f021880b",
      "metadata": {
        "id": "f021880b"
      },
      "outputs": [],
      "source": [
        "from geopandas.tools import geocode"
      ]
    },
    {
      "cell_type": "code",
      "execution_count": 7,
      "id": "f9106099",
      "metadata": {
        "id": "f9106099"
      },
      "outputs": [],
      "source": [
        "dados_geo = geocode(dados['address'], provider='nominatim', user_agent='geodev_06')"
      ]
    },
    {
      "cell_type": "code",
      "execution_count": 8,
      "id": "a5146189",
      "metadata": {
        "colab": {
          "base_uri": "https://localhost:8080/",
          "height": 269
        },
        "id": "a5146189",
        "outputId": "94ff0f46-7afa-4c3c-ed33-9965605198f4"
      },
      "outputs": [
        {
          "output_type": "execute_result",
          "data": {
            "text/plain": [
              "                      geometry  \\\n",
              "0  POINT (-46.72725 -23.54677)   \n",
              "1  POINT (-46.66146 -23.56516)   \n",
              "2  POINT (-46.62380 -23.56341)   \n",
              "3  POINT (-46.63521 -23.53474)   \n",
              "4  POINT (-46.61041 -23.58954)   \n",
              "5  POINT (-46.70407 -23.59171)   \n",
              "6  POINT (-48.52884 -20.71022)   \n",
              "\n",
              "                                             address  \n",
              "0  Biblioteca Parque Villa Lobos, 2001, Avenida P...  \n",
              "1  Rua Peixoto Gomide, Jardim Paulista, São Paulo...  \n",
              "2  Rua Muniz de Souza, Aclimação, Liberdade, São ...  \n",
              "3  Praça da Luz, Bom Retiro, São Paulo, Região Im...  \n",
              "4  Avenida Nazaré, Ipiranga, São Paulo, Região Im...  \n",
              "5  Rua Engenheiro Oscar Americano, 840, Avenida E...  \n",
              "6  Rodovia Brigadeiro Faria Lima, Loteamento Sant...  "
            ],
            "text/html": [
              "\n",
              "  <div id=\"df-8eb030ff-b518-4919-93ca-ef38a2404f80\">\n",
              "    <div class=\"colab-df-container\">\n",
              "      <div>\n",
              "<style scoped>\n",
              "    .dataframe tbody tr th:only-of-type {\n",
              "        vertical-align: middle;\n",
              "    }\n",
              "\n",
              "    .dataframe tbody tr th {\n",
              "        vertical-align: top;\n",
              "    }\n",
              "\n",
              "    .dataframe thead th {\n",
              "        text-align: right;\n",
              "    }\n",
              "</style>\n",
              "<table border=\"1\" class=\"dataframe\">\n",
              "  <thead>\n",
              "    <tr style=\"text-align: right;\">\n",
              "      <th></th>\n",
              "      <th>geometry</th>\n",
              "      <th>address</th>\n",
              "    </tr>\n",
              "  </thead>\n",
              "  <tbody>\n",
              "    <tr>\n",
              "      <th>0</th>\n",
              "      <td>POINT (-46.72725 -23.54677)</td>\n",
              "      <td>Biblioteca Parque Villa Lobos, 2001, Avenida P...</td>\n",
              "    </tr>\n",
              "    <tr>\n",
              "      <th>1</th>\n",
              "      <td>POINT (-46.66146 -23.56516)</td>\n",
              "      <td>Rua Peixoto Gomide, Jardim Paulista, São Paulo...</td>\n",
              "    </tr>\n",
              "    <tr>\n",
              "      <th>2</th>\n",
              "      <td>POINT (-46.62380 -23.56341)</td>\n",
              "      <td>Rua Muniz de Souza, Aclimação, Liberdade, São ...</td>\n",
              "    </tr>\n",
              "    <tr>\n",
              "      <th>3</th>\n",
              "      <td>POINT (-46.63521 -23.53474)</td>\n",
              "      <td>Praça da Luz, Bom Retiro, São Paulo, Região Im...</td>\n",
              "    </tr>\n",
              "    <tr>\n",
              "      <th>4</th>\n",
              "      <td>POINT (-46.61041 -23.58954)</td>\n",
              "      <td>Avenida Nazaré, Ipiranga, São Paulo, Região Im...</td>\n",
              "    </tr>\n",
              "    <tr>\n",
              "      <th>5</th>\n",
              "      <td>POINT (-46.70407 -23.59171)</td>\n",
              "      <td>Rua Engenheiro Oscar Americano, 840, Avenida E...</td>\n",
              "    </tr>\n",
              "    <tr>\n",
              "      <th>6</th>\n",
              "      <td>POINT (-48.52884 -20.71022)</td>\n",
              "      <td>Rodovia Brigadeiro Faria Lima, Loteamento Sant...</td>\n",
              "    </tr>\n",
              "  </tbody>\n",
              "</table>\n",
              "</div>\n",
              "      <button class=\"colab-df-convert\" onclick=\"convertToInteractive('df-8eb030ff-b518-4919-93ca-ef38a2404f80')\"\n",
              "              title=\"Convert this dataframe to an interactive table.\"\n",
              "              style=\"display:none;\">\n",
              "        \n",
              "  <svg xmlns=\"http://www.w3.org/2000/svg\" height=\"24px\"viewBox=\"0 0 24 24\"\n",
              "       width=\"24px\">\n",
              "    <path d=\"M0 0h24v24H0V0z\" fill=\"none\"/>\n",
              "    <path d=\"M18.56 5.44l.94 2.06.94-2.06 2.06-.94-2.06-.94-.94-2.06-.94 2.06-2.06.94zm-11 1L8.5 8.5l.94-2.06 2.06-.94-2.06-.94L8.5 2.5l-.94 2.06-2.06.94zm10 10l.94 2.06.94-2.06 2.06-.94-2.06-.94-.94-2.06-.94 2.06-2.06.94z\"/><path d=\"M17.41 7.96l-1.37-1.37c-.4-.4-.92-.59-1.43-.59-.52 0-1.04.2-1.43.59L10.3 9.45l-7.72 7.72c-.78.78-.78 2.05 0 2.83L4 21.41c.39.39.9.59 1.41.59.51 0 1.02-.2 1.41-.59l7.78-7.78 2.81-2.81c.8-.78.8-2.07 0-2.86zM5.41 20L4 18.59l7.72-7.72 1.47 1.35L5.41 20z\"/>\n",
              "  </svg>\n",
              "      </button>\n",
              "      \n",
              "  <style>\n",
              "    .colab-df-container {\n",
              "      display:flex;\n",
              "      flex-wrap:wrap;\n",
              "      gap: 12px;\n",
              "    }\n",
              "\n",
              "    .colab-df-convert {\n",
              "      background-color: #E8F0FE;\n",
              "      border: none;\n",
              "      border-radius: 50%;\n",
              "      cursor: pointer;\n",
              "      display: none;\n",
              "      fill: #1967D2;\n",
              "      height: 32px;\n",
              "      padding: 0 0 0 0;\n",
              "      width: 32px;\n",
              "    }\n",
              "\n",
              "    .colab-df-convert:hover {\n",
              "      background-color: #E2EBFA;\n",
              "      box-shadow: 0px 1px 2px rgba(60, 64, 67, 0.3), 0px 1px 3px 1px rgba(60, 64, 67, 0.15);\n",
              "      fill: #174EA6;\n",
              "    }\n",
              "\n",
              "    [theme=dark] .colab-df-convert {\n",
              "      background-color: #3B4455;\n",
              "      fill: #D2E3FC;\n",
              "    }\n",
              "\n",
              "    [theme=dark] .colab-df-convert:hover {\n",
              "      background-color: #434B5C;\n",
              "      box-shadow: 0px 1px 3px 1px rgba(0, 0, 0, 0.15);\n",
              "      filter: drop-shadow(0px 1px 2px rgba(0, 0, 0, 0.3));\n",
              "      fill: #FFFFFF;\n",
              "    }\n",
              "  </style>\n",
              "\n",
              "      <script>\n",
              "        const buttonEl =\n",
              "          document.querySelector('#df-8eb030ff-b518-4919-93ca-ef38a2404f80 button.colab-df-convert');\n",
              "        buttonEl.style.display =\n",
              "          google.colab.kernel.accessAllowed ? 'block' : 'none';\n",
              "\n",
              "        async function convertToInteractive(key) {\n",
              "          const element = document.querySelector('#df-8eb030ff-b518-4919-93ca-ef38a2404f80');\n",
              "          const dataTable =\n",
              "            await google.colab.kernel.invokeFunction('convertToInteractive',\n",
              "                                                     [key], {});\n",
              "          if (!dataTable) return;\n",
              "\n",
              "          const docLinkHtml = 'Like what you see? Visit the ' +\n",
              "            '<a target=\"_blank\" href=https://colab.research.google.com/notebooks/data_table.ipynb>data table notebook</a>'\n",
              "            + ' to learn more about interactive tables.';\n",
              "          element.innerHTML = '';\n",
              "          dataTable['output_type'] = 'display_data';\n",
              "          await google.colab.output.renderOutput(dataTable, element);\n",
              "          const docLink = document.createElement('div');\n",
              "          docLink.innerHTML = docLinkHtml;\n",
              "          element.appendChild(docLink);\n",
              "        }\n",
              "      </script>\n",
              "    </div>\n",
              "  </div>\n",
              "  "
            ]
          },
          "metadata": {},
          "execution_count": 8
        }
      ],
      "source": [
        "dados_geo"
      ]
    },
    {
      "cell_type": "code",
      "execution_count": 9,
      "id": "c9f22687",
      "metadata": {
        "colab": {
          "base_uri": "https://localhost:8080/"
        },
        "id": "c9f22687",
        "outputId": "4b2ba0f0-a53a-4d75-8a5f-27453cded7af"
      },
      "outputs": [
        {
          "output_type": "execute_result",
          "data": {
            "text/plain": [
              "geopandas.geodataframe.GeoDataFrame"
            ]
          },
          "metadata": {},
          "execution_count": 9
        }
      ],
      "source": [
        "type(dados_geo)"
      ]
    },
    {
      "cell_type": "code",
      "execution_count": 10,
      "id": "156eb3ed",
      "metadata": {
        "id": "156eb3ed"
      },
      "outputs": [],
      "source": [
        "dados_geo = dados_geo.rename(columns={'address':'endereco'})"
      ]
    },
    {
      "cell_type": "code",
      "execution_count": 11,
      "id": "673786c4",
      "metadata": {
        "colab": {
          "base_uri": "https://localhost:8080/",
          "height": 269
        },
        "id": "673786c4",
        "outputId": "cc39c23b-b08e-4234-ba72-c0475ec37557"
      },
      "outputs": [
        {
          "output_type": "execute_result",
          "data": {
            "text/plain": [
              "                      geometry  \\\n",
              "0  POINT (-46.72725 -23.54677)   \n",
              "1  POINT (-46.66146 -23.56516)   \n",
              "2  POINT (-46.62380 -23.56341)   \n",
              "3  POINT (-46.63521 -23.53474)   \n",
              "4  POINT (-46.61041 -23.58954)   \n",
              "5  POINT (-46.70407 -23.59171)   \n",
              "6  POINT (-48.52884 -20.71022)   \n",
              "\n",
              "                                            endereco  \n",
              "0  Biblioteca Parque Villa Lobos, 2001, Avenida P...  \n",
              "1  Rua Peixoto Gomide, Jardim Paulista, São Paulo...  \n",
              "2  Rua Muniz de Souza, Aclimação, Liberdade, São ...  \n",
              "3  Praça da Luz, Bom Retiro, São Paulo, Região Im...  \n",
              "4  Avenida Nazaré, Ipiranga, São Paulo, Região Im...  \n",
              "5  Rua Engenheiro Oscar Americano, 840, Avenida E...  \n",
              "6  Rodovia Brigadeiro Faria Lima, Loteamento Sant...  "
            ],
            "text/html": [
              "\n",
              "  <div id=\"df-14e6878d-c894-43b6-b508-8a3b01be7557\">\n",
              "    <div class=\"colab-df-container\">\n",
              "      <div>\n",
              "<style scoped>\n",
              "    .dataframe tbody tr th:only-of-type {\n",
              "        vertical-align: middle;\n",
              "    }\n",
              "\n",
              "    .dataframe tbody tr th {\n",
              "        vertical-align: top;\n",
              "    }\n",
              "\n",
              "    .dataframe thead th {\n",
              "        text-align: right;\n",
              "    }\n",
              "</style>\n",
              "<table border=\"1\" class=\"dataframe\">\n",
              "  <thead>\n",
              "    <tr style=\"text-align: right;\">\n",
              "      <th></th>\n",
              "      <th>geometry</th>\n",
              "      <th>endereco</th>\n",
              "    </tr>\n",
              "  </thead>\n",
              "  <tbody>\n",
              "    <tr>\n",
              "      <th>0</th>\n",
              "      <td>POINT (-46.72725 -23.54677)</td>\n",
              "      <td>Biblioteca Parque Villa Lobos, 2001, Avenida P...</td>\n",
              "    </tr>\n",
              "    <tr>\n",
              "      <th>1</th>\n",
              "      <td>POINT (-46.66146 -23.56516)</td>\n",
              "      <td>Rua Peixoto Gomide, Jardim Paulista, São Paulo...</td>\n",
              "    </tr>\n",
              "    <tr>\n",
              "      <th>2</th>\n",
              "      <td>POINT (-46.62380 -23.56341)</td>\n",
              "      <td>Rua Muniz de Souza, Aclimação, Liberdade, São ...</td>\n",
              "    </tr>\n",
              "    <tr>\n",
              "      <th>3</th>\n",
              "      <td>POINT (-46.63521 -23.53474)</td>\n",
              "      <td>Praça da Luz, Bom Retiro, São Paulo, Região Im...</td>\n",
              "    </tr>\n",
              "    <tr>\n",
              "      <th>4</th>\n",
              "      <td>POINT (-46.61041 -23.58954)</td>\n",
              "      <td>Avenida Nazaré, Ipiranga, São Paulo, Região Im...</td>\n",
              "    </tr>\n",
              "    <tr>\n",
              "      <th>5</th>\n",
              "      <td>POINT (-46.70407 -23.59171)</td>\n",
              "      <td>Rua Engenheiro Oscar Americano, 840, Avenida E...</td>\n",
              "    </tr>\n",
              "    <tr>\n",
              "      <th>6</th>\n",
              "      <td>POINT (-48.52884 -20.71022)</td>\n",
              "      <td>Rodovia Brigadeiro Faria Lima, Loteamento Sant...</td>\n",
              "    </tr>\n",
              "  </tbody>\n",
              "</table>\n",
              "</div>\n",
              "      <button class=\"colab-df-convert\" onclick=\"convertToInteractive('df-14e6878d-c894-43b6-b508-8a3b01be7557')\"\n",
              "              title=\"Convert this dataframe to an interactive table.\"\n",
              "              style=\"display:none;\">\n",
              "        \n",
              "  <svg xmlns=\"http://www.w3.org/2000/svg\" height=\"24px\"viewBox=\"0 0 24 24\"\n",
              "       width=\"24px\">\n",
              "    <path d=\"M0 0h24v24H0V0z\" fill=\"none\"/>\n",
              "    <path d=\"M18.56 5.44l.94 2.06.94-2.06 2.06-.94-2.06-.94-.94-2.06-.94 2.06-2.06.94zm-11 1L8.5 8.5l.94-2.06 2.06-.94-2.06-.94L8.5 2.5l-.94 2.06-2.06.94zm10 10l.94 2.06.94-2.06 2.06-.94-2.06-.94-.94-2.06-.94 2.06-2.06.94z\"/><path d=\"M17.41 7.96l-1.37-1.37c-.4-.4-.92-.59-1.43-.59-.52 0-1.04.2-1.43.59L10.3 9.45l-7.72 7.72c-.78.78-.78 2.05 0 2.83L4 21.41c.39.39.9.59 1.41.59.51 0 1.02-.2 1.41-.59l7.78-7.78 2.81-2.81c.8-.78.8-2.07 0-2.86zM5.41 20L4 18.59l7.72-7.72 1.47 1.35L5.41 20z\"/>\n",
              "  </svg>\n",
              "      </button>\n",
              "      \n",
              "  <style>\n",
              "    .colab-df-container {\n",
              "      display:flex;\n",
              "      flex-wrap:wrap;\n",
              "      gap: 12px;\n",
              "    }\n",
              "\n",
              "    .colab-df-convert {\n",
              "      background-color: #E8F0FE;\n",
              "      border: none;\n",
              "      border-radius: 50%;\n",
              "      cursor: pointer;\n",
              "      display: none;\n",
              "      fill: #1967D2;\n",
              "      height: 32px;\n",
              "      padding: 0 0 0 0;\n",
              "      width: 32px;\n",
              "    }\n",
              "\n",
              "    .colab-df-convert:hover {\n",
              "      background-color: #E2EBFA;\n",
              "      box-shadow: 0px 1px 2px rgba(60, 64, 67, 0.3), 0px 1px 3px 1px rgba(60, 64, 67, 0.15);\n",
              "      fill: #174EA6;\n",
              "    }\n",
              "\n",
              "    [theme=dark] .colab-df-convert {\n",
              "      background-color: #3B4455;\n",
              "      fill: #D2E3FC;\n",
              "    }\n",
              "\n",
              "    [theme=dark] .colab-df-convert:hover {\n",
              "      background-color: #434B5C;\n",
              "      box-shadow: 0px 1px 3px 1px rgba(0, 0, 0, 0.15);\n",
              "      filter: drop-shadow(0px 1px 2px rgba(0, 0, 0, 0.3));\n",
              "      fill: #FFFFFF;\n",
              "    }\n",
              "  </style>\n",
              "\n",
              "      <script>\n",
              "        const buttonEl =\n",
              "          document.querySelector('#df-14e6878d-c894-43b6-b508-8a3b01be7557 button.colab-df-convert');\n",
              "        buttonEl.style.display =\n",
              "          google.colab.kernel.accessAllowed ? 'block' : 'none';\n",
              "\n",
              "        async function convertToInteractive(key) {\n",
              "          const element = document.querySelector('#df-14e6878d-c894-43b6-b508-8a3b01be7557');\n",
              "          const dataTable =\n",
              "            await google.colab.kernel.invokeFunction('convertToInteractive',\n",
              "                                                     [key], {});\n",
              "          if (!dataTable) return;\n",
              "\n",
              "          const docLinkHtml = 'Like what you see? Visit the ' +\n",
              "            '<a target=\"_blank\" href=https://colab.research.google.com/notebooks/data_table.ipynb>data table notebook</a>'\n",
              "            + ' to learn more about interactive tables.';\n",
              "          element.innerHTML = '';\n",
              "          dataTable['output_type'] = 'display_data';\n",
              "          await google.colab.output.renderOutput(dataTable, element);\n",
              "          const docLink = document.createElement('div');\n",
              "          docLink.innerHTML = docLinkHtml;\n",
              "          element.appendChild(docLink);\n",
              "        }\n",
              "      </script>\n",
              "    </div>\n",
              "  </div>\n",
              "  "
            ]
          },
          "metadata": {},
          "execution_count": 11
        }
      ],
      "source": [
        "dados_geo"
      ]
    },
    {
      "cell_type": "code",
      "execution_count": 12,
      "id": "fa1909fe",
      "metadata": {
        "colab": {
          "base_uri": "https://localhost:8080/",
          "height": 269
        },
        "id": "fa1909fe",
        "outputId": "20d8853b-2981-40a1-e256-fdda3a51fb67"
      },
      "outputs": [
        {
          "output_type": "execute_result",
          "data": {
            "text/plain": [
              "                      geometry  \\\n",
              "0  POINT (-46.72725 -23.54677)   \n",
              "1  POINT (-46.66146 -23.56516)   \n",
              "2  POINT (-46.62380 -23.56341)   \n",
              "3  POINT (-46.63521 -23.53474)   \n",
              "4  POINT (-46.61041 -23.58954)   \n",
              "5  POINT (-46.70407 -23.59171)   \n",
              "6  POINT (-48.52884 -20.71022)   \n",
              "\n",
              "                                            endereco  \\\n",
              "0  Biblioteca Parque Villa Lobos, 2001, Avenida P...   \n",
              "1  Rua Peixoto Gomide, Jardim Paulista, São Paulo...   \n",
              "2  Rua Muniz de Souza, Aclimação, Liberdade, São ...   \n",
              "3  Praça da Luz, Bom Retiro, São Paulo, Região Im...   \n",
              "4  Avenida Nazaré, Ipiranga, São Paulo, Região Im...   \n",
              "5  Rua Engenheiro Oscar Americano, 840, Avenida E...   \n",
              "6  Rodovia Brigadeiro Faria Lima, Loteamento Sant...   \n",
              "\n",
              "                                       name  \\\n",
              "0                        Parque Villa-Lobos   \n",
              "1  Parque Tenente Siqueira Campos - Trianon   \n",
              "2                          Parque Aclimação   \n",
              "3                      Parque Jardim da Luz   \n",
              "4                      Parque Independência   \n",
              "5                      Parque Alfredo Volpi   \n",
              "6                 Parque Ecológico do Tietê   \n",
              "\n",
              "                                             address  \n",
              "0  Avenida Prof. Fonseca Rodrigues, 2001 - Alto d...  \n",
              "1  Rua Peixoto Gomide, 949 - Cerqueira César, São...  \n",
              "2  Rua Muniz de Sousa, 1.119 - Aclimação, São Pau...  \n",
              "3     Praça da Luz, s/n - Bom Retiro, São Paulo - SP  \n",
              "4     Avenida Nazaré, s/n - Ipiranga, São Paulo - SP  \n",
              "5  Rua Engenheiro Oscar Americano, 480 - Morumbi,...  \n",
              "6  Rodovia Parque, 8055 - Vila Santo Henrique, Sã...  "
            ],
            "text/html": [
              "\n",
              "  <div id=\"df-ede39285-ac1a-47ac-a839-cad3b314f4b1\">\n",
              "    <div class=\"colab-df-container\">\n",
              "      <div>\n",
              "<style scoped>\n",
              "    .dataframe tbody tr th:only-of-type {\n",
              "        vertical-align: middle;\n",
              "    }\n",
              "\n",
              "    .dataframe tbody tr th {\n",
              "        vertical-align: top;\n",
              "    }\n",
              "\n",
              "    .dataframe thead th {\n",
              "        text-align: right;\n",
              "    }\n",
              "</style>\n",
              "<table border=\"1\" class=\"dataframe\">\n",
              "  <thead>\n",
              "    <tr style=\"text-align: right;\">\n",
              "      <th></th>\n",
              "      <th>geometry</th>\n",
              "      <th>endereco</th>\n",
              "      <th>name</th>\n",
              "      <th>address</th>\n",
              "    </tr>\n",
              "  </thead>\n",
              "  <tbody>\n",
              "    <tr>\n",
              "      <th>0</th>\n",
              "      <td>POINT (-46.72725 -23.54677)</td>\n",
              "      <td>Biblioteca Parque Villa Lobos, 2001, Avenida P...</td>\n",
              "      <td>Parque Villa-Lobos</td>\n",
              "      <td>Avenida Prof. Fonseca Rodrigues, 2001 - Alto d...</td>\n",
              "    </tr>\n",
              "    <tr>\n",
              "      <th>1</th>\n",
              "      <td>POINT (-46.66146 -23.56516)</td>\n",
              "      <td>Rua Peixoto Gomide, Jardim Paulista, São Paulo...</td>\n",
              "      <td>Parque Tenente Siqueira Campos - Trianon</td>\n",
              "      <td>Rua Peixoto Gomide, 949 - Cerqueira César, São...</td>\n",
              "    </tr>\n",
              "    <tr>\n",
              "      <th>2</th>\n",
              "      <td>POINT (-46.62380 -23.56341)</td>\n",
              "      <td>Rua Muniz de Souza, Aclimação, Liberdade, São ...</td>\n",
              "      <td>Parque Aclimação</td>\n",
              "      <td>Rua Muniz de Sousa, 1.119 - Aclimação, São Pau...</td>\n",
              "    </tr>\n",
              "    <tr>\n",
              "      <th>3</th>\n",
              "      <td>POINT (-46.63521 -23.53474)</td>\n",
              "      <td>Praça da Luz, Bom Retiro, São Paulo, Região Im...</td>\n",
              "      <td>Parque Jardim da Luz</td>\n",
              "      <td>Praça da Luz, s/n - Bom Retiro, São Paulo - SP</td>\n",
              "    </tr>\n",
              "    <tr>\n",
              "      <th>4</th>\n",
              "      <td>POINT (-46.61041 -23.58954)</td>\n",
              "      <td>Avenida Nazaré, Ipiranga, São Paulo, Região Im...</td>\n",
              "      <td>Parque Independência</td>\n",
              "      <td>Avenida Nazaré, s/n - Ipiranga, São Paulo - SP</td>\n",
              "    </tr>\n",
              "    <tr>\n",
              "      <th>5</th>\n",
              "      <td>POINT (-46.70407 -23.59171)</td>\n",
              "      <td>Rua Engenheiro Oscar Americano, 840, Avenida E...</td>\n",
              "      <td>Parque Alfredo Volpi</td>\n",
              "      <td>Rua Engenheiro Oscar Americano, 480 - Morumbi,...</td>\n",
              "    </tr>\n",
              "    <tr>\n",
              "      <th>6</th>\n",
              "      <td>POINT (-48.52884 -20.71022)</td>\n",
              "      <td>Rodovia Brigadeiro Faria Lima, Loteamento Sant...</td>\n",
              "      <td>Parque Ecológico do Tietê</td>\n",
              "      <td>Rodovia Parque, 8055 - Vila Santo Henrique, Sã...</td>\n",
              "    </tr>\n",
              "  </tbody>\n",
              "</table>\n",
              "</div>\n",
              "      <button class=\"colab-df-convert\" onclick=\"convertToInteractive('df-ede39285-ac1a-47ac-a839-cad3b314f4b1')\"\n",
              "              title=\"Convert this dataframe to an interactive table.\"\n",
              "              style=\"display:none;\">\n",
              "        \n",
              "  <svg xmlns=\"http://www.w3.org/2000/svg\" height=\"24px\"viewBox=\"0 0 24 24\"\n",
              "       width=\"24px\">\n",
              "    <path d=\"M0 0h24v24H0V0z\" fill=\"none\"/>\n",
              "    <path d=\"M18.56 5.44l.94 2.06.94-2.06 2.06-.94-2.06-.94-.94-2.06-.94 2.06-2.06.94zm-11 1L8.5 8.5l.94-2.06 2.06-.94-2.06-.94L8.5 2.5l-.94 2.06-2.06.94zm10 10l.94 2.06.94-2.06 2.06-.94-2.06-.94-.94-2.06-.94 2.06-2.06.94z\"/><path d=\"M17.41 7.96l-1.37-1.37c-.4-.4-.92-.59-1.43-.59-.52 0-1.04.2-1.43.59L10.3 9.45l-7.72 7.72c-.78.78-.78 2.05 0 2.83L4 21.41c.39.39.9.59 1.41.59.51 0 1.02-.2 1.41-.59l7.78-7.78 2.81-2.81c.8-.78.8-2.07 0-2.86zM5.41 20L4 18.59l7.72-7.72 1.47 1.35L5.41 20z\"/>\n",
              "  </svg>\n",
              "      </button>\n",
              "      \n",
              "  <style>\n",
              "    .colab-df-container {\n",
              "      display:flex;\n",
              "      flex-wrap:wrap;\n",
              "      gap: 12px;\n",
              "    }\n",
              "\n",
              "    .colab-df-convert {\n",
              "      background-color: #E8F0FE;\n",
              "      border: none;\n",
              "      border-radius: 50%;\n",
              "      cursor: pointer;\n",
              "      display: none;\n",
              "      fill: #1967D2;\n",
              "      height: 32px;\n",
              "      padding: 0 0 0 0;\n",
              "      width: 32px;\n",
              "    }\n",
              "\n",
              "    .colab-df-convert:hover {\n",
              "      background-color: #E2EBFA;\n",
              "      box-shadow: 0px 1px 2px rgba(60, 64, 67, 0.3), 0px 1px 3px 1px rgba(60, 64, 67, 0.15);\n",
              "      fill: #174EA6;\n",
              "    }\n",
              "\n",
              "    [theme=dark] .colab-df-convert {\n",
              "      background-color: #3B4455;\n",
              "      fill: #D2E3FC;\n",
              "    }\n",
              "\n",
              "    [theme=dark] .colab-df-convert:hover {\n",
              "      background-color: #434B5C;\n",
              "      box-shadow: 0px 1px 3px 1px rgba(0, 0, 0, 0.15);\n",
              "      filter: drop-shadow(0px 1px 2px rgba(0, 0, 0, 0.3));\n",
              "      fill: #FFFFFF;\n",
              "    }\n",
              "  </style>\n",
              "\n",
              "      <script>\n",
              "        const buttonEl =\n",
              "          document.querySelector('#df-ede39285-ac1a-47ac-a839-cad3b314f4b1 button.colab-df-convert');\n",
              "        buttonEl.style.display =\n",
              "          google.colab.kernel.accessAllowed ? 'block' : 'none';\n",
              "\n",
              "        async function convertToInteractive(key) {\n",
              "          const element = document.querySelector('#df-ede39285-ac1a-47ac-a839-cad3b314f4b1');\n",
              "          const dataTable =\n",
              "            await google.colab.kernel.invokeFunction('convertToInteractive',\n",
              "                                                     [key], {});\n",
              "          if (!dataTable) return;\n",
              "\n",
              "          const docLinkHtml = 'Like what you see? Visit the ' +\n",
              "            '<a target=\"_blank\" href=https://colab.research.google.com/notebooks/data_table.ipynb>data table notebook</a>'\n",
              "            + ' to learn more about interactive tables.';\n",
              "          element.innerHTML = '';\n",
              "          dataTable['output_type'] = 'display_data';\n",
              "          await google.colab.output.renderOutput(dataTable, element);\n",
              "          const docLink = document.createElement('div');\n",
              "          docLink.innerHTML = docLinkHtml;\n",
              "          element.appendChild(docLink);\n",
              "        }\n",
              "      </script>\n",
              "    </div>\n",
              "  </div>\n",
              "  "
            ]
          },
          "metadata": {},
          "execution_count": 12
        }
      ],
      "source": [
        "dados_geo_join = dados_geo.join(dados)\n",
        "dados_geo_join"
      ]
    },
    {
      "cell_type": "code",
      "execution_count": 13,
      "id": "8da5381c",
      "metadata": {
        "colab": {
          "base_uri": "https://localhost:8080/"
        },
        "id": "8da5381c",
        "outputId": "21cdb47a-ef69-4780-fb68-c94763ed957e"
      },
      "outputs": [
        {
          "output_type": "stream",
          "name": "stderr",
          "text": [
            "WARNING:fiona._env:Value 'Biblioteca Parque Villa Lobos, 2001, Avenida Professor Fonseca Rodrigues, Alto de Pinheiros, São Paulo, Região Imediata de São Paulo, Região Metropolitana de São Paulo, Região Geográfica Intermediária de São Paulo, São Paulo, Região Sudeste, 05461-010, Brasil' of field endereco has been truncated to 254 characters.  This warning will not be emitted any more for that layer.\n"
          ]
        }
      ],
      "source": [
        "# Salvar esse arquivo \n",
        "local_saida = \"/content/dados_parque_sp.shp\"\n",
        "dados_geo_join.to_file(local_saida)"
      ]
    },
    {
      "cell_type": "markdown",
      "id": "ad9d478f",
      "metadata": {
        "id": "ad9d478f"
      },
      "source": [
        "# Plotando o mapa"
      ]
    },
    {
      "cell_type": "code",
      "execution_count": 14,
      "id": "764a04e3",
      "metadata": {
        "id": "764a04e3"
      },
      "outputs": [],
      "source": [
        "import folium"
      ]
    },
    {
      "cell_type": "code",
      "execution_count": 15,
      "id": "e6a0ef45",
      "metadata": {
        "colab": {
          "base_uri": "https://localhost:8080/",
          "height": 206
        },
        "id": "e6a0ef45",
        "outputId": "d3e98802-ccd8-4013-c961-2e4c2a55590d"
      },
      "outputs": [
        {
          "output_type": "execute_result",
          "data": {
            "text/plain": [
              "                      geometry  \\\n",
              "0  POINT (-46.72725 -23.54677)   \n",
              "1  POINT (-46.66146 -23.56516)   \n",
              "2  POINT (-46.62380 -23.56341)   \n",
              "3  POINT (-46.63521 -23.53474)   \n",
              "4  POINT (-46.61041 -23.58954)   \n",
              "\n",
              "                                            endereco  \\\n",
              "0  Biblioteca Parque Villa Lobos, 2001, Avenida P...   \n",
              "1  Rua Peixoto Gomide, Jardim Paulista, São Paulo...   \n",
              "2  Rua Muniz de Souza, Aclimação, Liberdade, São ...   \n",
              "3  Praça da Luz, Bom Retiro, São Paulo, Região Im...   \n",
              "4  Avenida Nazaré, Ipiranga, São Paulo, Região Im...   \n",
              "\n",
              "                                       name  \\\n",
              "0                        Parque Villa-Lobos   \n",
              "1  Parque Tenente Siqueira Campos - Trianon   \n",
              "2                          Parque Aclimação   \n",
              "3                      Parque Jardim da Luz   \n",
              "4                      Parque Independência   \n",
              "\n",
              "                                             address  \n",
              "0  Avenida Prof. Fonseca Rodrigues, 2001 - Alto d...  \n",
              "1  Rua Peixoto Gomide, 949 - Cerqueira César, São...  \n",
              "2  Rua Muniz de Sousa, 1.119 - Aclimação, São Pau...  \n",
              "3     Praça da Luz, s/n - Bom Retiro, São Paulo - SP  \n",
              "4     Avenida Nazaré, s/n - Ipiranga, São Paulo - SP  "
            ],
            "text/html": [
              "\n",
              "  <div id=\"df-c34c71df-6974-426d-a7b8-82bdcba969e3\">\n",
              "    <div class=\"colab-df-container\">\n",
              "      <div>\n",
              "<style scoped>\n",
              "    .dataframe tbody tr th:only-of-type {\n",
              "        vertical-align: middle;\n",
              "    }\n",
              "\n",
              "    .dataframe tbody tr th {\n",
              "        vertical-align: top;\n",
              "    }\n",
              "\n",
              "    .dataframe thead th {\n",
              "        text-align: right;\n",
              "    }\n",
              "</style>\n",
              "<table border=\"1\" class=\"dataframe\">\n",
              "  <thead>\n",
              "    <tr style=\"text-align: right;\">\n",
              "      <th></th>\n",
              "      <th>geometry</th>\n",
              "      <th>endereco</th>\n",
              "      <th>name</th>\n",
              "      <th>address</th>\n",
              "    </tr>\n",
              "  </thead>\n",
              "  <tbody>\n",
              "    <tr>\n",
              "      <th>0</th>\n",
              "      <td>POINT (-46.72725 -23.54677)</td>\n",
              "      <td>Biblioteca Parque Villa Lobos, 2001, Avenida P...</td>\n",
              "      <td>Parque Villa-Lobos</td>\n",
              "      <td>Avenida Prof. Fonseca Rodrigues, 2001 - Alto d...</td>\n",
              "    </tr>\n",
              "    <tr>\n",
              "      <th>1</th>\n",
              "      <td>POINT (-46.66146 -23.56516)</td>\n",
              "      <td>Rua Peixoto Gomide, Jardim Paulista, São Paulo...</td>\n",
              "      <td>Parque Tenente Siqueira Campos - Trianon</td>\n",
              "      <td>Rua Peixoto Gomide, 949 - Cerqueira César, São...</td>\n",
              "    </tr>\n",
              "    <tr>\n",
              "      <th>2</th>\n",
              "      <td>POINT (-46.62380 -23.56341)</td>\n",
              "      <td>Rua Muniz de Souza, Aclimação, Liberdade, São ...</td>\n",
              "      <td>Parque Aclimação</td>\n",
              "      <td>Rua Muniz de Sousa, 1.119 - Aclimação, São Pau...</td>\n",
              "    </tr>\n",
              "    <tr>\n",
              "      <th>3</th>\n",
              "      <td>POINT (-46.63521 -23.53474)</td>\n",
              "      <td>Praça da Luz, Bom Retiro, São Paulo, Região Im...</td>\n",
              "      <td>Parque Jardim da Luz</td>\n",
              "      <td>Praça da Luz, s/n - Bom Retiro, São Paulo - SP</td>\n",
              "    </tr>\n",
              "    <tr>\n",
              "      <th>4</th>\n",
              "      <td>POINT (-46.61041 -23.58954)</td>\n",
              "      <td>Avenida Nazaré, Ipiranga, São Paulo, Região Im...</td>\n",
              "      <td>Parque Independência</td>\n",
              "      <td>Avenida Nazaré, s/n - Ipiranga, São Paulo - SP</td>\n",
              "    </tr>\n",
              "  </tbody>\n",
              "</table>\n",
              "</div>\n",
              "      <button class=\"colab-df-convert\" onclick=\"convertToInteractive('df-c34c71df-6974-426d-a7b8-82bdcba969e3')\"\n",
              "              title=\"Convert this dataframe to an interactive table.\"\n",
              "              style=\"display:none;\">\n",
              "        \n",
              "  <svg xmlns=\"http://www.w3.org/2000/svg\" height=\"24px\"viewBox=\"0 0 24 24\"\n",
              "       width=\"24px\">\n",
              "    <path d=\"M0 0h24v24H0V0z\" fill=\"none\"/>\n",
              "    <path d=\"M18.56 5.44l.94 2.06.94-2.06 2.06-.94-2.06-.94-.94-2.06-.94 2.06-2.06.94zm-11 1L8.5 8.5l.94-2.06 2.06-.94-2.06-.94L8.5 2.5l-.94 2.06-2.06.94zm10 10l.94 2.06.94-2.06 2.06-.94-2.06-.94-.94-2.06-.94 2.06-2.06.94z\"/><path d=\"M17.41 7.96l-1.37-1.37c-.4-.4-.92-.59-1.43-.59-.52 0-1.04.2-1.43.59L10.3 9.45l-7.72 7.72c-.78.78-.78 2.05 0 2.83L4 21.41c.39.39.9.59 1.41.59.51 0 1.02-.2 1.41-.59l7.78-7.78 2.81-2.81c.8-.78.8-2.07 0-2.86zM5.41 20L4 18.59l7.72-7.72 1.47 1.35L5.41 20z\"/>\n",
              "  </svg>\n",
              "      </button>\n",
              "      \n",
              "  <style>\n",
              "    .colab-df-container {\n",
              "      display:flex;\n",
              "      flex-wrap:wrap;\n",
              "      gap: 12px;\n",
              "    }\n",
              "\n",
              "    .colab-df-convert {\n",
              "      background-color: #E8F0FE;\n",
              "      border: none;\n",
              "      border-radius: 50%;\n",
              "      cursor: pointer;\n",
              "      display: none;\n",
              "      fill: #1967D2;\n",
              "      height: 32px;\n",
              "      padding: 0 0 0 0;\n",
              "      width: 32px;\n",
              "    }\n",
              "\n",
              "    .colab-df-convert:hover {\n",
              "      background-color: #E2EBFA;\n",
              "      box-shadow: 0px 1px 2px rgba(60, 64, 67, 0.3), 0px 1px 3px 1px rgba(60, 64, 67, 0.15);\n",
              "      fill: #174EA6;\n",
              "    }\n",
              "\n",
              "    [theme=dark] .colab-df-convert {\n",
              "      background-color: #3B4455;\n",
              "      fill: #D2E3FC;\n",
              "    }\n",
              "\n",
              "    [theme=dark] .colab-df-convert:hover {\n",
              "      background-color: #434B5C;\n",
              "      box-shadow: 0px 1px 3px 1px rgba(0, 0, 0, 0.15);\n",
              "      filter: drop-shadow(0px 1px 2px rgba(0, 0, 0, 0.3));\n",
              "      fill: #FFFFFF;\n",
              "    }\n",
              "  </style>\n",
              "\n",
              "      <script>\n",
              "        const buttonEl =\n",
              "          document.querySelector('#df-c34c71df-6974-426d-a7b8-82bdcba969e3 button.colab-df-convert');\n",
              "        buttonEl.style.display =\n",
              "          google.colab.kernel.accessAllowed ? 'block' : 'none';\n",
              "\n",
              "        async function convertToInteractive(key) {\n",
              "          const element = document.querySelector('#df-c34c71df-6974-426d-a7b8-82bdcba969e3');\n",
              "          const dataTable =\n",
              "            await google.colab.kernel.invokeFunction('convertToInteractive',\n",
              "                                                     [key], {});\n",
              "          if (!dataTable) return;\n",
              "\n",
              "          const docLinkHtml = 'Like what you see? Visit the ' +\n",
              "            '<a target=\"_blank\" href=https://colab.research.google.com/notebooks/data_table.ipynb>data table notebook</a>'\n",
              "            + ' to learn more about interactive tables.';\n",
              "          element.innerHTML = '';\n",
              "          dataTable['output_type'] = 'display_data';\n",
              "          await google.colab.output.renderOutput(dataTable, element);\n",
              "          const docLink = document.createElement('div');\n",
              "          docLink.innerHTML = docLinkHtml;\n",
              "          element.appendChild(docLink);\n",
              "        }\n",
              "      </script>\n",
              "    </div>\n",
              "  </div>\n",
              "  "
            ]
          },
          "metadata": {},
          "execution_count": 15
        }
      ],
      "source": [
        "dados_geo_join.head()"
      ]
    },
    {
      "cell_type": "code",
      "execution_count": 16,
      "id": "4caa3978",
      "metadata": {
        "colab": {
          "base_uri": "https://localhost:8080/",
          "height": 206
        },
        "id": "4caa3978",
        "outputId": "552048d4-ff52-4c47-b383-f26e3066f52a"
      },
      "outputs": [
        {
          "output_type": "execute_result",
          "data": {
            "text/plain": [
              "                      geometry  \\\n",
              "2  POINT (-46.62380 -23.56341)   \n",
              "3  POINT (-46.63521 -23.53474)   \n",
              "4  POINT (-46.61041 -23.58954)   \n",
              "5  POINT (-46.70407 -23.59171)   \n",
              "6  POINT (-48.52884 -20.71022)   \n",
              "\n",
              "                                            endereco  \\\n",
              "2  Rua Muniz de Souza, Aclimação, Liberdade, São ...   \n",
              "3  Praça da Luz, Bom Retiro, São Paulo, Região Im...   \n",
              "4  Avenida Nazaré, Ipiranga, São Paulo, Região Im...   \n",
              "5  Rua Engenheiro Oscar Americano, 840, Avenida E...   \n",
              "6  Rodovia Brigadeiro Faria Lima, Loteamento Sant...   \n",
              "\n",
              "                        name  \\\n",
              "2           Parque Aclimação   \n",
              "3       Parque Jardim da Luz   \n",
              "4       Parque Independência   \n",
              "5       Parque Alfredo Volpi   \n",
              "6  Parque Ecológico do Tietê   \n",
              "\n",
              "                                             address  \n",
              "2  Rua Muniz de Sousa, 1.119 - Aclimação, São Pau...  \n",
              "3     Praça da Luz, s/n - Bom Retiro, São Paulo - SP  \n",
              "4     Avenida Nazaré, s/n - Ipiranga, São Paulo - SP  \n",
              "5  Rua Engenheiro Oscar Americano, 480 - Morumbi,...  \n",
              "6  Rodovia Parque, 8055 - Vila Santo Henrique, Sã...  "
            ],
            "text/html": [
              "\n",
              "  <div id=\"df-05c3023d-7d8e-4929-baa6-b037d974dda3\">\n",
              "    <div class=\"colab-df-container\">\n",
              "      <div>\n",
              "<style scoped>\n",
              "    .dataframe tbody tr th:only-of-type {\n",
              "        vertical-align: middle;\n",
              "    }\n",
              "\n",
              "    .dataframe tbody tr th {\n",
              "        vertical-align: top;\n",
              "    }\n",
              "\n",
              "    .dataframe thead th {\n",
              "        text-align: right;\n",
              "    }\n",
              "</style>\n",
              "<table border=\"1\" class=\"dataframe\">\n",
              "  <thead>\n",
              "    <tr style=\"text-align: right;\">\n",
              "      <th></th>\n",
              "      <th>geometry</th>\n",
              "      <th>endereco</th>\n",
              "      <th>name</th>\n",
              "      <th>address</th>\n",
              "    </tr>\n",
              "  </thead>\n",
              "  <tbody>\n",
              "    <tr>\n",
              "      <th>2</th>\n",
              "      <td>POINT (-46.62380 -23.56341)</td>\n",
              "      <td>Rua Muniz de Souza, Aclimação, Liberdade, São ...</td>\n",
              "      <td>Parque Aclimação</td>\n",
              "      <td>Rua Muniz de Sousa, 1.119 - Aclimação, São Pau...</td>\n",
              "    </tr>\n",
              "    <tr>\n",
              "      <th>3</th>\n",
              "      <td>POINT (-46.63521 -23.53474)</td>\n",
              "      <td>Praça da Luz, Bom Retiro, São Paulo, Região Im...</td>\n",
              "      <td>Parque Jardim da Luz</td>\n",
              "      <td>Praça da Luz, s/n - Bom Retiro, São Paulo - SP</td>\n",
              "    </tr>\n",
              "    <tr>\n",
              "      <th>4</th>\n",
              "      <td>POINT (-46.61041 -23.58954)</td>\n",
              "      <td>Avenida Nazaré, Ipiranga, São Paulo, Região Im...</td>\n",
              "      <td>Parque Independência</td>\n",
              "      <td>Avenida Nazaré, s/n - Ipiranga, São Paulo - SP</td>\n",
              "    </tr>\n",
              "    <tr>\n",
              "      <th>5</th>\n",
              "      <td>POINT (-46.70407 -23.59171)</td>\n",
              "      <td>Rua Engenheiro Oscar Americano, 840, Avenida E...</td>\n",
              "      <td>Parque Alfredo Volpi</td>\n",
              "      <td>Rua Engenheiro Oscar Americano, 480 - Morumbi,...</td>\n",
              "    </tr>\n",
              "    <tr>\n",
              "      <th>6</th>\n",
              "      <td>POINT (-48.52884 -20.71022)</td>\n",
              "      <td>Rodovia Brigadeiro Faria Lima, Loteamento Sant...</td>\n",
              "      <td>Parque Ecológico do Tietê</td>\n",
              "      <td>Rodovia Parque, 8055 - Vila Santo Henrique, Sã...</td>\n",
              "    </tr>\n",
              "  </tbody>\n",
              "</table>\n",
              "</div>\n",
              "      <button class=\"colab-df-convert\" onclick=\"convertToInteractive('df-05c3023d-7d8e-4929-baa6-b037d974dda3')\"\n",
              "              title=\"Convert this dataframe to an interactive table.\"\n",
              "              style=\"display:none;\">\n",
              "        \n",
              "  <svg xmlns=\"http://www.w3.org/2000/svg\" height=\"24px\"viewBox=\"0 0 24 24\"\n",
              "       width=\"24px\">\n",
              "    <path d=\"M0 0h24v24H0V0z\" fill=\"none\"/>\n",
              "    <path d=\"M18.56 5.44l.94 2.06.94-2.06 2.06-.94-2.06-.94-.94-2.06-.94 2.06-2.06.94zm-11 1L8.5 8.5l.94-2.06 2.06-.94-2.06-.94L8.5 2.5l-.94 2.06-2.06.94zm10 10l.94 2.06.94-2.06 2.06-.94-2.06-.94-.94-2.06-.94 2.06-2.06.94z\"/><path d=\"M17.41 7.96l-1.37-1.37c-.4-.4-.92-.59-1.43-.59-.52 0-1.04.2-1.43.59L10.3 9.45l-7.72 7.72c-.78.78-.78 2.05 0 2.83L4 21.41c.39.39.9.59 1.41.59.51 0 1.02-.2 1.41-.59l7.78-7.78 2.81-2.81c.8-.78.8-2.07 0-2.86zM5.41 20L4 18.59l7.72-7.72 1.47 1.35L5.41 20z\"/>\n",
              "  </svg>\n",
              "      </button>\n",
              "      \n",
              "  <style>\n",
              "    .colab-df-container {\n",
              "      display:flex;\n",
              "      flex-wrap:wrap;\n",
              "      gap: 12px;\n",
              "    }\n",
              "\n",
              "    .colab-df-convert {\n",
              "      background-color: #E8F0FE;\n",
              "      border: none;\n",
              "      border-radius: 50%;\n",
              "      cursor: pointer;\n",
              "      display: none;\n",
              "      fill: #1967D2;\n",
              "      height: 32px;\n",
              "      padding: 0 0 0 0;\n",
              "      width: 32px;\n",
              "    }\n",
              "\n",
              "    .colab-df-convert:hover {\n",
              "      background-color: #E2EBFA;\n",
              "      box-shadow: 0px 1px 2px rgba(60, 64, 67, 0.3), 0px 1px 3px 1px rgba(60, 64, 67, 0.15);\n",
              "      fill: #174EA6;\n",
              "    }\n",
              "\n",
              "    [theme=dark] .colab-df-convert {\n",
              "      background-color: #3B4455;\n",
              "      fill: #D2E3FC;\n",
              "    }\n",
              "\n",
              "    [theme=dark] .colab-df-convert:hover {\n",
              "      background-color: #434B5C;\n",
              "      box-shadow: 0px 1px 3px 1px rgba(0, 0, 0, 0.15);\n",
              "      filter: drop-shadow(0px 1px 2px rgba(0, 0, 0, 0.3));\n",
              "      fill: #FFFFFF;\n",
              "    }\n",
              "  </style>\n",
              "\n",
              "      <script>\n",
              "        const buttonEl =\n",
              "          document.querySelector('#df-05c3023d-7d8e-4929-baa6-b037d974dda3 button.colab-df-convert');\n",
              "        buttonEl.style.display =\n",
              "          google.colab.kernel.accessAllowed ? 'block' : 'none';\n",
              "\n",
              "        async function convertToInteractive(key) {\n",
              "          const element = document.querySelector('#df-05c3023d-7d8e-4929-baa6-b037d974dda3');\n",
              "          const dataTable =\n",
              "            await google.colab.kernel.invokeFunction('convertToInteractive',\n",
              "                                                     [key], {});\n",
              "          if (!dataTable) return;\n",
              "\n",
              "          const docLinkHtml = 'Like what you see? Visit the ' +\n",
              "            '<a target=\"_blank\" href=https://colab.research.google.com/notebooks/data_table.ipynb>data table notebook</a>'\n",
              "            + ' to learn more about interactive tables.';\n",
              "          element.innerHTML = '';\n",
              "          dataTable['output_type'] = 'display_data';\n",
              "          await google.colab.output.renderOutput(dataTable, element);\n",
              "          const docLink = document.createElement('div');\n",
              "          docLink.innerHTML = docLinkHtml;\n",
              "          element.appendChild(docLink);\n",
              "        }\n",
              "      </script>\n",
              "    </div>\n",
              "  </div>\n",
              "  "
            ]
          },
          "metadata": {},
          "execution_count": 16
        }
      ],
      "source": [
        "dados_geo_join.tail()"
      ]
    },
    {
      "cell_type": "code",
      "execution_count": 17,
      "id": "34eb9f95",
      "metadata": {
        "colab": {
          "base_uri": "https://localhost:8080/"
        },
        "id": "34eb9f95",
        "outputId": "38fd1c92-797b-4d45-97b4-ecbcdb19156a"
      },
      "outputs": [
        {
          "output_type": "execute_result",
          "data": {
            "text/plain": [
              "0   -46.727251\n",
              "1   -46.661457\n",
              "2   -46.623804\n",
              "3   -46.635213\n",
              "4   -46.610412\n",
              "5   -46.704069\n",
              "6   -48.528839\n",
              "dtype: float64"
            ]
          },
          "metadata": {},
          "execution_count": 17
        }
      ],
      "source": [
        "# Point(x, y) Longitude, Latitude\n",
        "# Longitude\n",
        "dados_geo_join['geometry'].x"
      ]
    },
    {
      "cell_type": "code",
      "execution_count": 18,
      "id": "4464fcd2",
      "metadata": {
        "colab": {
          "base_uri": "https://localhost:8080/"
        },
        "id": "4464fcd2",
        "outputId": "078009f4-6a64-472a-a6e6-f43e3bde1ead"
      },
      "outputs": [
        {
          "output_type": "execute_result",
          "data": {
            "text/plain": [
              "0   -23.546767\n",
              "1   -23.565159\n",
              "2   -23.563411\n",
              "3   -23.534735\n",
              "4   -23.589537\n",
              "5   -23.591714\n",
              "6   -20.710220\n",
              "dtype: float64"
            ]
          },
          "metadata": {},
          "execution_count": 18
        }
      ],
      "source": [
        "# Latitude\n",
        "dados_geo_join['geometry'].y"
      ]
    },
    {
      "cell_type": "code",
      "execution_count": 19,
      "id": "13c8c21a",
      "metadata": {
        "id": "13c8c21a"
      },
      "outputs": [],
      "source": [
        "dados_geo_join['Longitude'] = dados_geo_join['geometry'].x\n",
        "dados_geo_join['Latitude'] = dados_geo_join['geometry'].y"
      ]
    },
    {
      "cell_type": "code",
      "execution_count": 20,
      "id": "e8a0dac6",
      "metadata": {
        "colab": {
          "base_uri": "https://localhost:8080/",
          "height": 337
        },
        "id": "e8a0dac6",
        "outputId": "ac5f6b84-d9b1-4e0b-c226-3a32f7b8620e"
      },
      "outputs": [
        {
          "output_type": "execute_result",
          "data": {
            "text/plain": [
              "                      geometry  \\\n",
              "0  POINT (-46.72725 -23.54677)   \n",
              "1  POINT (-46.66146 -23.56516)   \n",
              "2  POINT (-46.62380 -23.56341)   \n",
              "3  POINT (-46.63521 -23.53474)   \n",
              "4  POINT (-46.61041 -23.58954)   \n",
              "\n",
              "                                            endereco  \\\n",
              "0  Biblioteca Parque Villa Lobos, 2001, Avenida P...   \n",
              "1  Rua Peixoto Gomide, Jardim Paulista, São Paulo...   \n",
              "2  Rua Muniz de Souza, Aclimação, Liberdade, São ...   \n",
              "3  Praça da Luz, Bom Retiro, São Paulo, Região Im...   \n",
              "4  Avenida Nazaré, Ipiranga, São Paulo, Região Im...   \n",
              "\n",
              "                                       name  \\\n",
              "0                        Parque Villa-Lobos   \n",
              "1  Parque Tenente Siqueira Campos - Trianon   \n",
              "2                          Parque Aclimação   \n",
              "3                      Parque Jardim da Luz   \n",
              "4                      Parque Independência   \n",
              "\n",
              "                                             address  Longitude   Latitude  \n",
              "0  Avenida Prof. Fonseca Rodrigues, 2001 - Alto d... -46.727251 -23.546767  \n",
              "1  Rua Peixoto Gomide, 949 - Cerqueira César, São... -46.661457 -23.565159  \n",
              "2  Rua Muniz de Sousa, 1.119 - Aclimação, São Pau... -46.623804 -23.563411  \n",
              "3     Praça da Luz, s/n - Bom Retiro, São Paulo - SP -46.635213 -23.534735  \n",
              "4     Avenida Nazaré, s/n - Ipiranga, São Paulo - SP -46.610412 -23.589537  "
            ],
            "text/html": [
              "\n",
              "  <div id=\"df-69b4ff71-491e-438c-87bb-1e8934ef3703\">\n",
              "    <div class=\"colab-df-container\">\n",
              "      <div>\n",
              "<style scoped>\n",
              "    .dataframe tbody tr th:only-of-type {\n",
              "        vertical-align: middle;\n",
              "    }\n",
              "\n",
              "    .dataframe tbody tr th {\n",
              "        vertical-align: top;\n",
              "    }\n",
              "\n",
              "    .dataframe thead th {\n",
              "        text-align: right;\n",
              "    }\n",
              "</style>\n",
              "<table border=\"1\" class=\"dataframe\">\n",
              "  <thead>\n",
              "    <tr style=\"text-align: right;\">\n",
              "      <th></th>\n",
              "      <th>geometry</th>\n",
              "      <th>endereco</th>\n",
              "      <th>name</th>\n",
              "      <th>address</th>\n",
              "      <th>Longitude</th>\n",
              "      <th>Latitude</th>\n",
              "    </tr>\n",
              "  </thead>\n",
              "  <tbody>\n",
              "    <tr>\n",
              "      <th>0</th>\n",
              "      <td>POINT (-46.72725 -23.54677)</td>\n",
              "      <td>Biblioteca Parque Villa Lobos, 2001, Avenida P...</td>\n",
              "      <td>Parque Villa-Lobos</td>\n",
              "      <td>Avenida Prof. Fonseca Rodrigues, 2001 - Alto d...</td>\n",
              "      <td>-46.727251</td>\n",
              "      <td>-23.546767</td>\n",
              "    </tr>\n",
              "    <tr>\n",
              "      <th>1</th>\n",
              "      <td>POINT (-46.66146 -23.56516)</td>\n",
              "      <td>Rua Peixoto Gomide, Jardim Paulista, São Paulo...</td>\n",
              "      <td>Parque Tenente Siqueira Campos - Trianon</td>\n",
              "      <td>Rua Peixoto Gomide, 949 - Cerqueira César, São...</td>\n",
              "      <td>-46.661457</td>\n",
              "      <td>-23.565159</td>\n",
              "    </tr>\n",
              "    <tr>\n",
              "      <th>2</th>\n",
              "      <td>POINT (-46.62380 -23.56341)</td>\n",
              "      <td>Rua Muniz de Souza, Aclimação, Liberdade, São ...</td>\n",
              "      <td>Parque Aclimação</td>\n",
              "      <td>Rua Muniz de Sousa, 1.119 - Aclimação, São Pau...</td>\n",
              "      <td>-46.623804</td>\n",
              "      <td>-23.563411</td>\n",
              "    </tr>\n",
              "    <tr>\n",
              "      <th>3</th>\n",
              "      <td>POINT (-46.63521 -23.53474)</td>\n",
              "      <td>Praça da Luz, Bom Retiro, São Paulo, Região Im...</td>\n",
              "      <td>Parque Jardim da Luz</td>\n",
              "      <td>Praça da Luz, s/n - Bom Retiro, São Paulo - SP</td>\n",
              "      <td>-46.635213</td>\n",
              "      <td>-23.534735</td>\n",
              "    </tr>\n",
              "    <tr>\n",
              "      <th>4</th>\n",
              "      <td>POINT (-46.61041 -23.58954)</td>\n",
              "      <td>Avenida Nazaré, Ipiranga, São Paulo, Região Im...</td>\n",
              "      <td>Parque Independência</td>\n",
              "      <td>Avenida Nazaré, s/n - Ipiranga, São Paulo - SP</td>\n",
              "      <td>-46.610412</td>\n",
              "      <td>-23.589537</td>\n",
              "    </tr>\n",
              "  </tbody>\n",
              "</table>\n",
              "</div>\n",
              "      <button class=\"colab-df-convert\" onclick=\"convertToInteractive('df-69b4ff71-491e-438c-87bb-1e8934ef3703')\"\n",
              "              title=\"Convert this dataframe to an interactive table.\"\n",
              "              style=\"display:none;\">\n",
              "        \n",
              "  <svg xmlns=\"http://www.w3.org/2000/svg\" height=\"24px\"viewBox=\"0 0 24 24\"\n",
              "       width=\"24px\">\n",
              "    <path d=\"M0 0h24v24H0V0z\" fill=\"none\"/>\n",
              "    <path d=\"M18.56 5.44l.94 2.06.94-2.06 2.06-.94-2.06-.94-.94-2.06-.94 2.06-2.06.94zm-11 1L8.5 8.5l.94-2.06 2.06-.94-2.06-.94L8.5 2.5l-.94 2.06-2.06.94zm10 10l.94 2.06.94-2.06 2.06-.94-2.06-.94-.94-2.06-.94 2.06-2.06.94z\"/><path d=\"M17.41 7.96l-1.37-1.37c-.4-.4-.92-.59-1.43-.59-.52 0-1.04.2-1.43.59L10.3 9.45l-7.72 7.72c-.78.78-.78 2.05 0 2.83L4 21.41c.39.39.9.59 1.41.59.51 0 1.02-.2 1.41-.59l7.78-7.78 2.81-2.81c.8-.78.8-2.07 0-2.86zM5.41 20L4 18.59l7.72-7.72 1.47 1.35L5.41 20z\"/>\n",
              "  </svg>\n",
              "      </button>\n",
              "      \n",
              "  <style>\n",
              "    .colab-df-container {\n",
              "      display:flex;\n",
              "      flex-wrap:wrap;\n",
              "      gap: 12px;\n",
              "    }\n",
              "\n",
              "    .colab-df-convert {\n",
              "      background-color: #E8F0FE;\n",
              "      border: none;\n",
              "      border-radius: 50%;\n",
              "      cursor: pointer;\n",
              "      display: none;\n",
              "      fill: #1967D2;\n",
              "      height: 32px;\n",
              "      padding: 0 0 0 0;\n",
              "      width: 32px;\n",
              "    }\n",
              "\n",
              "    .colab-df-convert:hover {\n",
              "      background-color: #E2EBFA;\n",
              "      box-shadow: 0px 1px 2px rgba(60, 64, 67, 0.3), 0px 1px 3px 1px rgba(60, 64, 67, 0.15);\n",
              "      fill: #174EA6;\n",
              "    }\n",
              "\n",
              "    [theme=dark] .colab-df-convert {\n",
              "      background-color: #3B4455;\n",
              "      fill: #D2E3FC;\n",
              "    }\n",
              "\n",
              "    [theme=dark] .colab-df-convert:hover {\n",
              "      background-color: #434B5C;\n",
              "      box-shadow: 0px 1px 3px 1px rgba(0, 0, 0, 0.15);\n",
              "      filter: drop-shadow(0px 1px 2px rgba(0, 0, 0, 0.3));\n",
              "      fill: #FFFFFF;\n",
              "    }\n",
              "  </style>\n",
              "\n",
              "      <script>\n",
              "        const buttonEl =\n",
              "          document.querySelector('#df-69b4ff71-491e-438c-87bb-1e8934ef3703 button.colab-df-convert');\n",
              "        buttonEl.style.display =\n",
              "          google.colab.kernel.accessAllowed ? 'block' : 'none';\n",
              "\n",
              "        async function convertToInteractive(key) {\n",
              "          const element = document.querySelector('#df-69b4ff71-491e-438c-87bb-1e8934ef3703');\n",
              "          const dataTable =\n",
              "            await google.colab.kernel.invokeFunction('convertToInteractive',\n",
              "                                                     [key], {});\n",
              "          if (!dataTable) return;\n",
              "\n",
              "          const docLinkHtml = 'Like what you see? Visit the ' +\n",
              "            '<a target=\"_blank\" href=https://colab.research.google.com/notebooks/data_table.ipynb>data table notebook</a>'\n",
              "            + ' to learn more about interactive tables.';\n",
              "          element.innerHTML = '';\n",
              "          dataTable['output_type'] = 'display_data';\n",
              "          await google.colab.output.renderOutput(dataTable, element);\n",
              "          const docLink = document.createElement('div');\n",
              "          docLink.innerHTML = docLinkHtml;\n",
              "          element.appendChild(docLink);\n",
              "        }\n",
              "      </script>\n",
              "    </div>\n",
              "  </div>\n",
              "  "
            ]
          },
          "metadata": {},
          "execution_count": 20
        }
      ],
      "source": [
        "dados_geo_join.head()"
      ]
    },
    {
      "cell_type": "code",
      "execution_count": 21,
      "id": "927804a2",
      "metadata": {
        "colab": {
          "base_uri": "https://localhost:8080/",
          "height": 763
        },
        "id": "927804a2",
        "outputId": "c11f2861-24bf-4732-b92f-eb15506fa7d6"
      },
      "outputs": [
        {
          "output_type": "execute_result",
          "data": {
            "text/plain": [
              "<folium.folium.Map at 0x7f6f824f3b80>"
            ],
            "text/html": [
              "<div style=\"width:100%;\"><div style=\"position:relative;width:100%;height:0;padding-bottom:60%;\"><span style=\"color:#565656\">Make this Notebook Trusted to load map: File -> Trust Notebook</span><iframe srcdoc=\"&lt;!DOCTYPE html&gt;\n",
              "&lt;html&gt;\n",
              "&lt;head&gt;\n",
              "    \n",
              "    &lt;meta http-equiv=&quot;content-type&quot; content=&quot;text/html; charset=UTF-8&quot; /&gt;\n",
              "    \n",
              "        &lt;script&gt;\n",
              "            L_NO_TOUCH = false;\n",
              "            L_DISABLE_3D = false;\n",
              "        &lt;/script&gt;\n",
              "    \n",
              "    &lt;style&gt;html, body {width: 100%;height: 100%;margin: 0;padding: 0;}&lt;/style&gt;\n",
              "    &lt;style&gt;#map {position:absolute;top:0;bottom:0;right:0;left:0;}&lt;/style&gt;\n",
              "    &lt;script src=&quot;https://cdn.jsdelivr.net/npm/leaflet@1.6.0/dist/leaflet.js&quot;&gt;&lt;/script&gt;\n",
              "    &lt;script src=&quot;https://code.jquery.com/jquery-1.12.4.min.js&quot;&gt;&lt;/script&gt;\n",
              "    &lt;script src=&quot;https://maxcdn.bootstrapcdn.com/bootstrap/3.2.0/js/bootstrap.min.js&quot;&gt;&lt;/script&gt;\n",
              "    &lt;script src=&quot;https://cdnjs.cloudflare.com/ajax/libs/Leaflet.awesome-markers/2.0.2/leaflet.awesome-markers.js&quot;&gt;&lt;/script&gt;\n",
              "    &lt;link rel=&quot;stylesheet&quot; href=&quot;https://cdn.jsdelivr.net/npm/leaflet@1.6.0/dist/leaflet.css&quot;/&gt;\n",
              "    &lt;link rel=&quot;stylesheet&quot; href=&quot;https://maxcdn.bootstrapcdn.com/bootstrap/3.2.0/css/bootstrap.min.css&quot;/&gt;\n",
              "    &lt;link rel=&quot;stylesheet&quot; href=&quot;https://maxcdn.bootstrapcdn.com/bootstrap/3.2.0/css/bootstrap-theme.min.css&quot;/&gt;\n",
              "    &lt;link rel=&quot;stylesheet&quot; href=&quot;https://maxcdn.bootstrapcdn.com/font-awesome/4.6.3/css/font-awesome.min.css&quot;/&gt;\n",
              "    &lt;link rel=&quot;stylesheet&quot; href=&quot;https://cdnjs.cloudflare.com/ajax/libs/Leaflet.awesome-markers/2.0.2/leaflet.awesome-markers.css&quot;/&gt;\n",
              "    &lt;link rel=&quot;stylesheet&quot; href=&quot;https://cdn.jsdelivr.net/gh/python-visualization/folium/folium/templates/leaflet.awesome.rotate.min.css&quot;/&gt;\n",
              "    \n",
              "            &lt;meta name=&quot;viewport&quot; content=&quot;width=device-width,\n",
              "                initial-scale=1.0, maximum-scale=1.0, user-scalable=no&quot; /&gt;\n",
              "            &lt;style&gt;\n",
              "                #map_f2f092fa12563e9278181b92fba03c83 {\n",
              "                    position: relative;\n",
              "                    width: 100.0%;\n",
              "                    height: 100.0%;\n",
              "                    left: 0.0%;\n",
              "                    top: 0.0%;\n",
              "                }\n",
              "            &lt;/style&gt;\n",
              "        \n",
              "&lt;/head&gt;\n",
              "&lt;body&gt;\n",
              "    \n",
              "    \n",
              "            &lt;div class=&quot;folium-map&quot; id=&quot;map_f2f092fa12563e9278181b92fba03c83&quot; &gt;&lt;/div&gt;\n",
              "        \n",
              "&lt;/body&gt;\n",
              "&lt;script&gt;\n",
              "    \n",
              "    \n",
              "            var map_f2f092fa12563e9278181b92fba03c83 = L.map(\n",
              "                &quot;map_f2f092fa12563e9278181b92fba03c83&quot;,\n",
              "                {\n",
              "                    center: [-23.54, -46.72],\n",
              "                    crs: L.CRS.EPSG3857,\n",
              "                    zoom: 10,\n",
              "                    zoomControl: true,\n",
              "                    preferCanvas: false,\n",
              "                }\n",
              "            );\n",
              "\n",
              "            \n",
              "\n",
              "        \n",
              "    \n",
              "            var tile_layer_4a2c41796422b6d7f905d579fa99d3ad = L.tileLayer(\n",
              "                &quot;https://{s}.tile.openstreetmap.org/{z}/{x}/{y}.png&quot;,\n",
              "                {&quot;attribution&quot;: &quot;Data by \\u0026copy; \\u003ca href=\\&quot;http://openstreetmap.org\\&quot;\\u003eOpenStreetMap\\u003c/a\\u003e, under \\u003ca href=\\&quot;http://www.openstreetmap.org/copyright\\&quot;\\u003eODbL\\u003c/a\\u003e.&quot;, &quot;detectRetina&quot;: false, &quot;maxNativeZoom&quot;: 18, &quot;maxZoom&quot;: 18, &quot;minZoom&quot;: 0, &quot;noWrap&quot;: false, &quot;opacity&quot;: 1, &quot;subdomains&quot;: &quot;abc&quot;, &quot;tms&quot;: false}\n",
              "            ).addTo(map_f2f092fa12563e9278181b92fba03c83);\n",
              "        \n",
              "    \n",
              "            var marker_0f460258eb0cb8fb86a3958c02df5430 = L.marker(\n",
              "                [-23.546767449999997, -46.72725062401455],\n",
              "                {}\n",
              "            ).addTo(map_f2f092fa12563e9278181b92fba03c83);\n",
              "        \n",
              "    \n",
              "        var popup_3d68c3b83fb14573f5ef558ca3c52ebf = L.popup({&quot;maxWidth&quot;: &quot;100%&quot;});\n",
              "\n",
              "        \n",
              "            var html_c0883c06c4a6e6f8bca5dce683542a88 = $(`&lt;div id=&quot;html_c0883c06c4a6e6f8bca5dce683542a88&quot; style=&quot;width: 100.0%; height: 100.0%;&quot;&gt;Parque Villa-Lobos&lt;/div&gt;`)[0];\n",
              "            popup_3d68c3b83fb14573f5ef558ca3c52ebf.setContent(html_c0883c06c4a6e6f8bca5dce683542a88);\n",
              "        \n",
              "\n",
              "        marker_0f460258eb0cb8fb86a3958c02df5430.bindPopup(popup_3d68c3b83fb14573f5ef558ca3c52ebf)\n",
              "        ;\n",
              "\n",
              "        \n",
              "    \n",
              "    \n",
              "            var marker_5a4e81041eb54b49d74fb7b8b7178988 = L.marker(\n",
              "                [-23.5651589, -46.6614571],\n",
              "                {}\n",
              "            ).addTo(map_f2f092fa12563e9278181b92fba03c83);\n",
              "        \n",
              "    \n",
              "        var popup_fc5d4458e837fa9a152b12fa2a106c19 = L.popup({&quot;maxWidth&quot;: &quot;100%&quot;});\n",
              "\n",
              "        \n",
              "            var html_86803ab87e68fae6ae6a6fe6c3facc91 = $(`&lt;div id=&quot;html_86803ab87e68fae6ae6a6fe6c3facc91&quot; style=&quot;width: 100.0%; height: 100.0%;&quot;&gt;Parque Tenente Siqueira Campos - Trianon&lt;/div&gt;`)[0];\n",
              "            popup_fc5d4458e837fa9a152b12fa2a106c19.setContent(html_86803ab87e68fae6ae6a6fe6c3facc91);\n",
              "        \n",
              "\n",
              "        marker_5a4e81041eb54b49d74fb7b8b7178988.bindPopup(popup_fc5d4458e837fa9a152b12fa2a106c19)\n",
              "        ;\n",
              "\n",
              "        \n",
              "    \n",
              "    \n",
              "            var marker_2059af187f1fcae7f11dd1cb196649a5 = L.marker(\n",
              "                [-23.5634109, -46.6238037],\n",
              "                {}\n",
              "            ).addTo(map_f2f092fa12563e9278181b92fba03c83);\n",
              "        \n",
              "    \n",
              "        var popup_32e0d3091512667b92c5fafff95bf492 = L.popup({&quot;maxWidth&quot;: &quot;100%&quot;});\n",
              "\n",
              "        \n",
              "            var html_50ed2a5d081a86470de7c6215a4713d6 = $(`&lt;div id=&quot;html_50ed2a5d081a86470de7c6215a4713d6&quot; style=&quot;width: 100.0%; height: 100.0%;&quot;&gt;Parque Aclimação&lt;/div&gt;`)[0];\n",
              "            popup_32e0d3091512667b92c5fafff95bf492.setContent(html_50ed2a5d081a86470de7c6215a4713d6);\n",
              "        \n",
              "\n",
              "        marker_2059af187f1fcae7f11dd1cb196649a5.bindPopup(popup_32e0d3091512667b92c5fafff95bf492)\n",
              "        ;\n",
              "\n",
              "        \n",
              "    \n",
              "    \n",
              "            var marker_ffae9192e68c0356a5d7bc990caee65f = L.marker(\n",
              "                [-23.5347351, -46.635213],\n",
              "                {}\n",
              "            ).addTo(map_f2f092fa12563e9278181b92fba03c83);\n",
              "        \n",
              "    \n",
              "        var popup_12cb38f8b204dfee417def2fc963b1ef = L.popup({&quot;maxWidth&quot;: &quot;100%&quot;});\n",
              "\n",
              "        \n",
              "            var html_a14d3281875065cc3313eb1df0357a4e = $(`&lt;div id=&quot;html_a14d3281875065cc3313eb1df0357a4e&quot; style=&quot;width: 100.0%; height: 100.0%;&quot;&gt;Parque Jardim da Luz&lt;/div&gt;`)[0];\n",
              "            popup_12cb38f8b204dfee417def2fc963b1ef.setContent(html_a14d3281875065cc3313eb1df0357a4e);\n",
              "        \n",
              "\n",
              "        marker_ffae9192e68c0356a5d7bc990caee65f.bindPopup(popup_12cb38f8b204dfee417def2fc963b1ef)\n",
              "        ;\n",
              "\n",
              "        \n",
              "    \n",
              "    \n",
              "            var marker_5f10423cfdb3f1c6684cdb0ea2da4762 = L.marker(\n",
              "                [-23.5895367, -46.610412],\n",
              "                {}\n",
              "            ).addTo(map_f2f092fa12563e9278181b92fba03c83);\n",
              "        \n",
              "    \n",
              "        var popup_c70f5b4cc535d9ea23e7f0bb6b398ecd = L.popup({&quot;maxWidth&quot;: &quot;100%&quot;});\n",
              "\n",
              "        \n",
              "            var html_e363512587e2129f1a713ca50698efac = $(`&lt;div id=&quot;html_e363512587e2129f1a713ca50698efac&quot; style=&quot;width: 100.0%; height: 100.0%;&quot;&gt;Parque Independência&lt;/div&gt;`)[0];\n",
              "            popup_c70f5b4cc535d9ea23e7f0bb6b398ecd.setContent(html_e363512587e2129f1a713ca50698efac);\n",
              "        \n",
              "\n",
              "        marker_5f10423cfdb3f1c6684cdb0ea2da4762.bindPopup(popup_c70f5b4cc535d9ea23e7f0bb6b398ecd)\n",
              "        ;\n",
              "\n",
              "        \n",
              "    \n",
              "    \n",
              "            var marker_5b08564a8bbb64d23c24d509a91c28c6 = L.marker(\n",
              "                [-23.591714, -46.704069],\n",
              "                {}\n",
              "            ).addTo(map_f2f092fa12563e9278181b92fba03c83);\n",
              "        \n",
              "    \n",
              "        var popup_983c839e10fe8770543c1ed6d52af11e = L.popup({&quot;maxWidth&quot;: &quot;100%&quot;});\n",
              "\n",
              "        \n",
              "            var html_8f554e8d5383e3cd892d393219f51ee7 = $(`&lt;div id=&quot;html_8f554e8d5383e3cd892d393219f51ee7&quot; style=&quot;width: 100.0%; height: 100.0%;&quot;&gt;Parque Alfredo Volpi&lt;/div&gt;`)[0];\n",
              "            popup_983c839e10fe8770543c1ed6d52af11e.setContent(html_8f554e8d5383e3cd892d393219f51ee7);\n",
              "        \n",
              "\n",
              "        marker_5b08564a8bbb64d23c24d509a91c28c6.bindPopup(popup_983c839e10fe8770543c1ed6d52af11e)\n",
              "        ;\n",
              "\n",
              "        \n",
              "    \n",
              "    \n",
              "            var marker_6de904d19815a0a9f7a01aef6c0271ef = L.marker(\n",
              "                [-20.7102202, -48.5288392],\n",
              "                {}\n",
              "            ).addTo(map_f2f092fa12563e9278181b92fba03c83);\n",
              "        \n",
              "    \n",
              "        var popup_850d5ff7142f4606a435ccec9b746289 = L.popup({&quot;maxWidth&quot;: &quot;100%&quot;});\n",
              "\n",
              "        \n",
              "            var html_cc140acfade6a7dc43bb704db50447dc = $(`&lt;div id=&quot;html_cc140acfade6a7dc43bb704db50447dc&quot; style=&quot;width: 100.0%; height: 100.0%;&quot;&gt;Parque Ecológico do Tietê&lt;/div&gt;`)[0];\n",
              "            popup_850d5ff7142f4606a435ccec9b746289.setContent(html_cc140acfade6a7dc43bb704db50447dc);\n",
              "        \n",
              "\n",
              "        marker_6de904d19815a0a9f7a01aef6c0271ef.bindPopup(popup_850d5ff7142f4606a435ccec9b746289)\n",
              "        ;\n",
              "\n",
              "        \n",
              "    \n",
              "&lt;/script&gt;\n",
              "&lt;/html&gt;\" style=\"position:absolute;width:100%;height:100%;left:0;top:0;border:none !important;\" allowfullscreen webkitallowfullscreen mozallowfullscreen></iframe></div></div>"
            ]
          },
          "metadata": {},
          "execution_count": 21
        }
      ],
      "source": [
        "# location = [latitude, longitude]\n",
        "m = folium.Map(location=[-23.54, -46.72], tiles='openstreetmap', zoom_start=10)\n",
        "\n",
        "for i, row in dados_geo_join.iterrows():\n",
        "    folium.Marker([row['geometry'].y, row['geometry'].x], popup=row['name']).add_to(m)\n",
        "\n",
        "m"
      ]
    },
    {
      "cell_type": "markdown",
      "id": "4c8e5e51",
      "metadata": {
        "id": "4c8e5e51"
      },
      "source": [
        "# Pontos dentro de um Polígono"
      ]
    },
    {
      "cell_type": "code",
      "execution_count": 22,
      "id": "97feaa01",
      "metadata": {
        "id": "97feaa01"
      },
      "outputs": [],
      "source": [
        "from shapely.geometry import Point, Polygon, MultiPolygon"
      ]
    },
    {
      "cell_type": "code",
      "execution_count": 23,
      "id": "9618412d",
      "metadata": {
        "colab": {
          "base_uri": "https://localhost:8080/",
          "height": 121
        },
        "id": "9618412d",
        "outputId": "f6dafd30-5d12-4c64-e1fb-4c7709b6192f"
      },
      "outputs": [
        {
          "output_type": "execute_result",
          "data": {
            "text/plain": [
              "<POLYGON ((1 2, 4 2, 4 3, 1 2))>"
            ],
            "image/svg+xml": "<svg xmlns=\"http://www.w3.org/2000/svg\" xmlns:xlink=\"http://www.w3.org/1999/xlink\" width=\"100.0\" height=\"100.0\" viewBox=\"0.88 1.88 3.24 1.2400000000000002\" preserveAspectRatio=\"xMinYMin meet\"><g transform=\"matrix(1,0,0,-1,0,5.0)\"><path fill-rule=\"evenodd\" fill=\"#66cc99\" stroke=\"#555555\" stroke-width=\"0.06480000000000001\" opacity=\"0.6\" d=\"M 1.0,2.0 L 4.0,2.0 L 4.0,3.0 L 1.0,2.0 z\" /></g></svg>"
          },
          "metadata": {},
          "execution_count": 23
        }
      ],
      "source": [
        "triangulo = Polygon([(1,2), (4,2), (4,3)])\n",
        "triangulo"
      ]
    },
    {
      "cell_type": "code",
      "execution_count": 24,
      "id": "5daf4b4f",
      "metadata": {
        "id": "5daf4b4f"
      },
      "outputs": [],
      "source": [
        "ponto1 = triangulo.centroid\n",
        "ponto2 = Point(0,1)"
      ]
    },
    {
      "cell_type": "code",
      "execution_count": 25,
      "id": "4eaaf45f",
      "metadata": {
        "colab": {
          "base_uri": "https://localhost:8080/"
        },
        "id": "4eaaf45f",
        "outputId": "2a0a22c4-6115-4538-ad8a-88f1dfee1e51"
      },
      "outputs": [
        {
          "output_type": "execute_result",
          "data": {
            "text/plain": [
              "True"
            ]
          },
          "metadata": {},
          "execution_count": 25
        }
      ],
      "source": [
        "ponto1.within(triangulo)"
      ]
    },
    {
      "cell_type": "code",
      "execution_count": 26,
      "id": "024590f8",
      "metadata": {
        "colab": {
          "base_uri": "https://localhost:8080/"
        },
        "id": "024590f8",
        "outputId": "54004c1b-868b-4e09-b0d3-aecabf2b3bbe"
      },
      "outputs": [
        {
          "output_type": "execute_result",
          "data": {
            "text/plain": [
              "False"
            ]
          },
          "metadata": {},
          "execution_count": 26
        }
      ],
      "source": [
        "ponto2.within(triangulo)"
      ]
    },
    {
      "cell_type": "code",
      "execution_count": 27,
      "id": "f2551814",
      "metadata": {
        "colab": {
          "base_uri": "https://localhost:8080/",
          "height": 121
        },
        "id": "f2551814",
        "outputId": "2dd63399-3a6c-4152-c26d-4288686597e9"
      },
      "outputs": [
        {
          "output_type": "execute_result",
          "data": {
            "text/plain": [
              "<POLYGON ((1 2, 5 3, 4 3, 1 2))>"
            ],
            "image/svg+xml": "<svg xmlns=\"http://www.w3.org/2000/svg\" xmlns:xlink=\"http://www.w3.org/1999/xlink\" width=\"100.0\" height=\"100.0\" viewBox=\"0.84 1.84 4.32 1.32\" preserveAspectRatio=\"xMinYMin meet\"><g transform=\"matrix(1,0,0,-1,0,5.0)\"><path fill-rule=\"evenodd\" fill=\"#66cc99\" stroke=\"#555555\" stroke-width=\"0.0864\" opacity=\"0.6\" d=\"M 1.0,2.0 L 5.0,3.0 L 4.0,3.0 L 1.0,2.0 z\" /></g></svg>"
          },
          "metadata": {},
          "execution_count": 27
        }
      ],
      "source": [
        "triangulo2 = Polygon([(1,2), (5,3), (4,3)])\n",
        "triangulo2"
      ]
    },
    {
      "cell_type": "code",
      "execution_count": 28,
      "id": "8f9ed535",
      "metadata": {
        "colab": {
          "base_uri": "https://localhost:8080/",
          "height": 121
        },
        "id": "8f9ed535",
        "outputId": "90d6cc43-91f8-4ab1-c583-e1872ec13d55"
      },
      "outputs": [
        {
          "output_type": "execute_result",
          "data": {
            "text/plain": [
              "<MULTIPOLYGON (((1 2, 4 2, 4 3, 1 2)), ((1 2, 5 3, 4 3, 1 2)))>"
            ],
            "image/svg+xml": "<svg xmlns=\"http://www.w3.org/2000/svg\" xmlns:xlink=\"http://www.w3.org/1999/xlink\" width=\"100.0\" height=\"100.0\" viewBox=\"0.84 1.84 4.32 1.32\" preserveAspectRatio=\"xMinYMin meet\"><g transform=\"matrix(1,0,0,-1,0,5.0)\"><g><path fill-rule=\"evenodd\" fill=\"#ff3333\" stroke=\"#555555\" stroke-width=\"0.0864\" opacity=\"0.6\" d=\"M 1.0,2.0 L 4.0,2.0 L 4.0,3.0 L 1.0,2.0 z\" /><path fill-rule=\"evenodd\" fill=\"#ff3333\" stroke=\"#555555\" stroke-width=\"0.0864\" opacity=\"0.6\" d=\"M 1.0,2.0 L 5.0,3.0 L 4.0,3.0 L 1.0,2.0 z\" /></g></g></svg>"
          },
          "metadata": {},
          "execution_count": 28
        }
      ],
      "source": [
        "MultiPolygon([triangulo, triangulo2])"
      ]
    },
    {
      "cell_type": "code",
      "execution_count": 29,
      "id": "ee3baeba",
      "metadata": {
        "colab": {
          "base_uri": "https://localhost:8080/"
        },
        "id": "ee3baeba",
        "outputId": "1fda5b3d-0330-4370-a97c-3ba32fafb503"
      },
      "outputs": [
        {
          "output_type": "execute_result",
          "data": {
            "text/plain": [
              "True"
            ]
          },
          "metadata": {},
          "execution_count": 29
        }
      ],
      "source": [
        "triangulo.intersects(triangulo2)"
      ]
    },
    {
      "cell_type": "code",
      "execution_count": 30,
      "id": "25447e5b",
      "metadata": {
        "id": "25447e5b"
      },
      "outputs": [],
      "source": [
        "import geopandas as gpd"
      ]
    },
    {
      "cell_type": "code",
      "execution_count": 31,
      "id": "352a7e08",
      "metadata": {
        "colab": {
          "base_uri": "https://localhost:8080/",
          "height": 588
        },
        "id": "352a7e08",
        "outputId": "b772dfda-05b9-4aae-fb51-fd7ac6485f2b"
      },
      "outputs": [
        {
          "output_type": "stream",
          "name": "stderr",
          "text": [
            "ERROR:fiona._env:C:\\AmbientalPro\\Extras\\BR_Municipios_2021\\BR_Municipios_2021.shp: No such file or directory\n"
          ]
        },
        {
          "output_type": "error",
          "ename": "DriverError",
          "evalue": "ignored",
          "traceback": [
            "\u001b[0;31m---------------------------------------------------------------------------\u001b[0m",
            "\u001b[0;31mCPLE_OpenFailedError\u001b[0m                      Traceback (most recent call last)",
            "\u001b[0;32mfiona/ogrext.pyx\u001b[0m in \u001b[0;36mfiona.ogrext.gdal_open_vector\u001b[0;34m()\u001b[0m\n",
            "\u001b[0;32mfiona/_err.pyx\u001b[0m in \u001b[0;36mfiona._err.exc_wrap_pointer\u001b[0;34m()\u001b[0m\n",
            "\u001b[0;31mCPLE_OpenFailedError\u001b[0m: C:\\AmbientalPro\\Extras\\BR_Municipios_2021\\BR_Municipios_2021.shp: No such file or directory",
            "\nDuring handling of the above exception, another exception occurred:\n",
            "\u001b[0;31mDriverError\u001b[0m                               Traceback (most recent call last)",
            "\u001b[0;32m<ipython-input-31-087d084de607>\u001b[0m in \u001b[0;36m<module>\u001b[0;34m\u001b[0m\n\u001b[0;32m----> 1\u001b[0;31m \u001b[0mdados\u001b[0m \u001b[0;34m=\u001b[0m \u001b[0mgpd\u001b[0m\u001b[0;34m.\u001b[0m\u001b[0mread_file\u001b[0m\u001b[0;34m(\u001b[0m\u001b[0;34mr\"C:\\AmbientalPro\\Extras\\BR_Municipios_2021\\BR_Municipios_2021.shp\"\u001b[0m\u001b[0;34m)\u001b[0m\u001b[0;34m\u001b[0m\u001b[0;34m\u001b[0m\u001b[0m\n\u001b[0m\u001b[1;32m      2\u001b[0m \u001b[0mdados\u001b[0m\u001b[0;34m.\u001b[0m\u001b[0mhead\u001b[0m\u001b[0;34m(\u001b[0m\u001b[0;34m)\u001b[0m\u001b[0;34m\u001b[0m\u001b[0;34m\u001b[0m\u001b[0m\n",
            "\u001b[0;32m/usr/local/lib/python3.8/dist-packages/geopandas/io/file.py\u001b[0m in \u001b[0;36m_read_file\u001b[0;34m(filename, bbox, mask, rows, engine, **kwargs)\u001b[0m\n\u001b[1;32m    257\u001b[0m \u001b[0;34m\u001b[0m\u001b[0m\n\u001b[1;32m    258\u001b[0m     \u001b[0;32mif\u001b[0m \u001b[0mengine\u001b[0m \u001b[0;34m==\u001b[0m \u001b[0;34m\"fiona\"\u001b[0m\u001b[0;34m:\u001b[0m\u001b[0;34m\u001b[0m\u001b[0;34m\u001b[0m\u001b[0m\n\u001b[0;32m--> 259\u001b[0;31m         return _read_file_fiona(\n\u001b[0m\u001b[1;32m    260\u001b[0m             \u001b[0mpath_or_bytes\u001b[0m\u001b[0;34m,\u001b[0m \u001b[0mfrom_bytes\u001b[0m\u001b[0;34m,\u001b[0m \u001b[0mbbox\u001b[0m\u001b[0;34m=\u001b[0m\u001b[0mbbox\u001b[0m\u001b[0;34m,\u001b[0m \u001b[0mmask\u001b[0m\u001b[0;34m=\u001b[0m\u001b[0mmask\u001b[0m\u001b[0;34m,\u001b[0m \u001b[0mrows\u001b[0m\u001b[0;34m=\u001b[0m\u001b[0mrows\u001b[0m\u001b[0;34m,\u001b[0m \u001b[0;34m**\u001b[0m\u001b[0mkwargs\u001b[0m\u001b[0;34m\u001b[0m\u001b[0;34m\u001b[0m\u001b[0m\n\u001b[1;32m    261\u001b[0m         )\n",
            "\u001b[0;32m/usr/local/lib/python3.8/dist-packages/geopandas/io/file.py\u001b[0m in \u001b[0;36m_read_file_fiona\u001b[0;34m(path_or_bytes, from_bytes, bbox, mask, rows, where, **kwargs)\u001b[0m\n\u001b[1;32m    301\u001b[0m \u001b[0;34m\u001b[0m\u001b[0m\n\u001b[1;32m    302\u001b[0m     \u001b[0;32mwith\u001b[0m \u001b[0mfiona_env\u001b[0m\u001b[0;34m(\u001b[0m\u001b[0;34m)\u001b[0m\u001b[0;34m:\u001b[0m\u001b[0;34m\u001b[0m\u001b[0;34m\u001b[0m\u001b[0m\n\u001b[0;32m--> 303\u001b[0;31m         \u001b[0;32mwith\u001b[0m \u001b[0mreader\u001b[0m\u001b[0;34m(\u001b[0m\u001b[0mpath_or_bytes\u001b[0m\u001b[0;34m,\u001b[0m \u001b[0;34m**\u001b[0m\u001b[0mkwargs\u001b[0m\u001b[0;34m)\u001b[0m \u001b[0;32mas\u001b[0m \u001b[0mfeatures\u001b[0m\u001b[0;34m:\u001b[0m\u001b[0;34m\u001b[0m\u001b[0;34m\u001b[0m\u001b[0m\n\u001b[0m\u001b[1;32m    304\u001b[0m             \u001b[0mcrs\u001b[0m \u001b[0;34m=\u001b[0m \u001b[0mfeatures\u001b[0m\u001b[0;34m.\u001b[0m\u001b[0mcrs_wkt\u001b[0m\u001b[0;34m\u001b[0m\u001b[0;34m\u001b[0m\u001b[0m\n\u001b[1;32m    305\u001b[0m             \u001b[0;31m# attempt to get EPSG code\u001b[0m\u001b[0;34m\u001b[0m\u001b[0;34m\u001b[0m\u001b[0;34m\u001b[0m\u001b[0m\n",
            "\u001b[0;32m/usr/local/lib/python3.8/dist-packages/fiona/env.py\u001b[0m in \u001b[0;36mwrapper\u001b[0;34m(*args, **kwds)\u001b[0m\n\u001b[1;32m    455\u001b[0m \u001b[0;34m\u001b[0m\u001b[0m\n\u001b[1;32m    456\u001b[0m         \u001b[0;32mwith\u001b[0m \u001b[0menv_ctor\u001b[0m\u001b[0;34m(\u001b[0m\u001b[0msession\u001b[0m\u001b[0;34m=\u001b[0m\u001b[0msession\u001b[0m\u001b[0;34m)\u001b[0m\u001b[0;34m:\u001b[0m\u001b[0;34m\u001b[0m\u001b[0;34m\u001b[0m\u001b[0m\n\u001b[0;32m--> 457\u001b[0;31m             \u001b[0;32mreturn\u001b[0m \u001b[0mf\u001b[0m\u001b[0;34m(\u001b[0m\u001b[0;34m*\u001b[0m\u001b[0margs\u001b[0m\u001b[0;34m,\u001b[0m \u001b[0;34m**\u001b[0m\u001b[0mkwds\u001b[0m\u001b[0;34m)\u001b[0m\u001b[0;34m\u001b[0m\u001b[0;34m\u001b[0m\u001b[0m\n\u001b[0m\u001b[1;32m    458\u001b[0m \u001b[0;34m\u001b[0m\u001b[0m\n\u001b[1;32m    459\u001b[0m     \u001b[0;32mreturn\u001b[0m \u001b[0mwrapper\u001b[0m\u001b[0;34m\u001b[0m\u001b[0;34m\u001b[0m\u001b[0m\n",
            "\u001b[0;32m/usr/local/lib/python3.8/dist-packages/fiona/__init__.py\u001b[0m in \u001b[0;36mopen\u001b[0;34m(fp, mode, driver, schema, crs, encoding, layer, vfs, enabled_drivers, crs_wkt, allow_unsupported_drivers, **kwargs)\u001b[0m\n\u001b[1;32m    333\u001b[0m \u001b[0;34m\u001b[0m\u001b[0m\n\u001b[1;32m    334\u001b[0m         \u001b[0;32mif\u001b[0m \u001b[0mmode\u001b[0m \u001b[0;32min\u001b[0m \u001b[0;34m(\u001b[0m\u001b[0;34m\"a\"\u001b[0m\u001b[0;34m,\u001b[0m \u001b[0;34m\"r\"\u001b[0m\u001b[0;34m)\u001b[0m\u001b[0;34m:\u001b[0m\u001b[0;34m\u001b[0m\u001b[0;34m\u001b[0m\u001b[0m\n\u001b[0;32m--> 335\u001b[0;31m             colxn = Collection(\n\u001b[0m\u001b[1;32m    336\u001b[0m                 \u001b[0mpath\u001b[0m\u001b[0;34m,\u001b[0m\u001b[0;34m\u001b[0m\u001b[0;34m\u001b[0m\u001b[0m\n\u001b[1;32m    337\u001b[0m                 \u001b[0mmode\u001b[0m\u001b[0;34m,\u001b[0m\u001b[0;34m\u001b[0m\u001b[0;34m\u001b[0m\u001b[0m\n",
            "\u001b[0;32m/usr/local/lib/python3.8/dist-packages/fiona/collection.py\u001b[0m in \u001b[0;36m__init__\u001b[0;34m(self, path, mode, driver, schema, crs, encoding, layer, vsi, archive, enabled_drivers, crs_wkt, ignore_fields, ignore_geometry, include_fields, wkt_version, allow_unsupported_drivers, **kwargs)\u001b[0m\n\u001b[1;32m    232\u001b[0m             \u001b[0;32mif\u001b[0m \u001b[0mself\u001b[0m\u001b[0;34m.\u001b[0m\u001b[0mmode\u001b[0m \u001b[0;34m==\u001b[0m \u001b[0;34m\"r\"\u001b[0m\u001b[0;34m:\u001b[0m\u001b[0;34m\u001b[0m\u001b[0;34m\u001b[0m\u001b[0m\n\u001b[1;32m    233\u001b[0m                 \u001b[0mself\u001b[0m\u001b[0;34m.\u001b[0m\u001b[0msession\u001b[0m \u001b[0;34m=\u001b[0m \u001b[0mSession\u001b[0m\u001b[0;34m(\u001b[0m\u001b[0;34m)\u001b[0m\u001b[0;34m\u001b[0m\u001b[0;34m\u001b[0m\u001b[0m\n\u001b[0;32m--> 234\u001b[0;31m                 \u001b[0mself\u001b[0m\u001b[0;34m.\u001b[0m\u001b[0msession\u001b[0m\u001b[0;34m.\u001b[0m\u001b[0mstart\u001b[0m\u001b[0;34m(\u001b[0m\u001b[0mself\u001b[0m\u001b[0;34m,\u001b[0m \u001b[0;34m**\u001b[0m\u001b[0mkwargs\u001b[0m\u001b[0;34m)\u001b[0m\u001b[0;34m\u001b[0m\u001b[0;34m\u001b[0m\u001b[0m\n\u001b[0m\u001b[1;32m    235\u001b[0m             \u001b[0;32melif\u001b[0m \u001b[0mself\u001b[0m\u001b[0;34m.\u001b[0m\u001b[0mmode\u001b[0m \u001b[0;32min\u001b[0m \u001b[0;34m(\u001b[0m\u001b[0;34m\"a\"\u001b[0m\u001b[0;34m,\u001b[0m \u001b[0;34m\"w\"\u001b[0m\u001b[0;34m)\u001b[0m\u001b[0;34m:\u001b[0m\u001b[0;34m\u001b[0m\u001b[0;34m\u001b[0m\u001b[0m\n\u001b[1;32m    236\u001b[0m                 \u001b[0mself\u001b[0m\u001b[0;34m.\u001b[0m\u001b[0msession\u001b[0m \u001b[0;34m=\u001b[0m \u001b[0mWritingSession\u001b[0m\u001b[0;34m(\u001b[0m\u001b[0;34m)\u001b[0m\u001b[0;34m\u001b[0m\u001b[0;34m\u001b[0m\u001b[0m\n",
            "\u001b[0;32mfiona/ogrext.pyx\u001b[0m in \u001b[0;36mfiona.ogrext.Session.start\u001b[0;34m()\u001b[0m\n",
            "\u001b[0;32mfiona/ogrext.pyx\u001b[0m in \u001b[0;36mfiona.ogrext.gdal_open_vector\u001b[0;34m()\u001b[0m\n",
            "\u001b[0;31mDriverError\u001b[0m: C:\\AmbientalPro\\Extras\\BR_Municipios_2021\\BR_Municipios_2021.shp: No such file or directory"
          ]
        }
      ],
      "source": [
        "dados = gpd.read_file(r\"C:\\AmbientalPro\\Extras\\BR_Municipios_2021\\BR_Municipios_2021.shp\")\n",
        "dados.head()"
      ]
    },
    {
      "cell_type": "code",
      "execution_count": null,
      "id": "df10238f",
      "metadata": {
        "id": "df10238f",
        "outputId": "2ea530b8-7abf-417c-daeb-9f880b8c3bac"
      },
      "outputs": [
        {
          "data": {
            "text/html": [
              "<div>\n",
              "<style scoped>\n",
              "    .dataframe tbody tr th:only-of-type {\n",
              "        vertical-align: middle;\n",
              "    }\n",
              "\n",
              "    .dataframe tbody tr th {\n",
              "        vertical-align: top;\n",
              "    }\n",
              "\n",
              "    .dataframe thead th {\n",
              "        text-align: right;\n",
              "    }\n",
              "</style>\n",
              "<table border=\"1\" class=\"dataframe\">\n",
              "  <thead>\n",
              "    <tr style=\"text-align: right;\">\n",
              "      <th></th>\n",
              "      <th>CD_MUN</th>\n",
              "      <th>NM_MUN</th>\n",
              "      <th>SIGLA</th>\n",
              "      <th>AREA_KM2</th>\n",
              "      <th>geometry</th>\n",
              "    </tr>\n",
              "  </thead>\n",
              "  <tbody>\n",
              "    <tr>\n",
              "      <th>3267</th>\n",
              "      <td>3500105</td>\n",
              "      <td>Adamantina</td>\n",
              "      <td>SP</td>\n",
              "      <td>411.987</td>\n",
              "      <td>POLYGON ((-51.05425 -21.40465, -51.05300 -21.4...</td>\n",
              "    </tr>\n",
              "    <tr>\n",
              "      <th>3268</th>\n",
              "      <td>3500204</td>\n",
              "      <td>Adolfo</td>\n",
              "      <td>SP</td>\n",
              "      <td>211.055</td>\n",
              "      <td>POLYGON ((-49.65795 -21.20333, -49.65645 -21.2...</td>\n",
              "    </tr>\n",
              "    <tr>\n",
              "      <th>3269</th>\n",
              "      <td>3500303</td>\n",
              "      <td>Aguaí</td>\n",
              "      <td>SP</td>\n",
              "      <td>474.554</td>\n",
              "      <td>POLYGON ((-46.97640 -21.96818, -46.97599 -21.9...</td>\n",
              "    </tr>\n",
              "    <tr>\n",
              "      <th>3270</th>\n",
              "      <td>3500402</td>\n",
              "      <td>Águas da Prata</td>\n",
              "      <td>SP</td>\n",
              "      <td>142.673</td>\n",
              "      <td>POLYGON ((-46.73501 -21.81891, -46.73431 -21.8...</td>\n",
              "    </tr>\n",
              "    <tr>\n",
              "      <th>3271</th>\n",
              "      <td>3500501</td>\n",
              "      <td>Águas de Lindóia</td>\n",
              "      <td>SP</td>\n",
              "      <td>60.126</td>\n",
              "      <td>POLYGON ((-46.60614 -22.44173, -46.60347 -22.4...</td>\n",
              "    </tr>\n",
              "  </tbody>\n",
              "</table>\n",
              "</div>"
            ],
            "text/plain": [
              "       CD_MUN            NM_MUN SIGLA  AREA_KM2  \\\n",
              "3267  3500105        Adamantina    SP   411.987   \n",
              "3268  3500204            Adolfo    SP   211.055   \n",
              "3269  3500303             Aguaí    SP   474.554   \n",
              "3270  3500402    Águas da Prata    SP   142.673   \n",
              "3271  3500501  Águas de Lindóia    SP    60.126   \n",
              "\n",
              "                                               geometry  \n",
              "3267  POLYGON ((-51.05425 -21.40465, -51.05300 -21.4...  \n",
              "3268  POLYGON ((-49.65795 -21.20333, -49.65645 -21.2...  \n",
              "3269  POLYGON ((-46.97640 -21.96818, -46.97599 -21.9...  \n",
              "3270  POLYGON ((-46.73501 -21.81891, -46.73431 -21.8...  \n",
              "3271  POLYGON ((-46.60614 -22.44173, -46.60347 -22.4...  "
            ]
          },
          "execution_count": 50,
          "metadata": {},
          "output_type": "execute_result"
        }
      ],
      "source": [
        "dados = dados.loc[dados.SIGLA == 'SP']\n",
        "dados.head()"
      ]
    },
    {
      "cell_type": "code",
      "execution_count": null,
      "id": "d1a313d0",
      "metadata": {
        "id": "d1a313d0",
        "outputId": "1dcdd18e-fd36-442a-986d-e45b1a666ee5"
      },
      "outputs": [
        {
          "data": {
            "text/plain": [
              "<Geographic 2D CRS: EPSG:4674>\n",
              "Name: SIRGAS 2000\n",
              "Axis Info [ellipsoidal]:\n",
              "- Lat[north]: Geodetic latitude (degree)\n",
              "- Lon[east]: Geodetic longitude (degree)\n",
              "Area of Use:\n",
              "- name: Latin America - Central America and South America - onshore and offshore. Brazil - onshore and offshore.\n",
              "- bounds: (-122.19, -59.87, -25.28, 32.72)\n",
              "Datum: Sistema de Referencia Geocentrico para las AmericaS 2000\n",
              "- Ellipsoid: GRS 1980\n",
              "- Prime Meridian: Greenwich"
            ]
          },
          "execution_count": 51,
          "metadata": {},
          "output_type": "execute_result"
        }
      ],
      "source": [
        "dados_sp = dados\n",
        "dados_sp.crs"
      ]
    },
    {
      "cell_type": "code",
      "execution_count": null,
      "id": "a04fcfdd",
      "metadata": {
        "id": "a04fcfdd",
        "outputId": "c4664aff-f045-44c9-9bea-e6373fccad9c"
      },
      "outputs": [
        {
          "data": {
            "text/plain": [
              "<Geographic 2D CRS: EPSG:4326>\n",
              "Name: WGS 84\n",
              "Axis Info [ellipsoidal]:\n",
              "- Lat[north]: Geodetic latitude (degree)\n",
              "- Lon[east]: Geodetic longitude (degree)\n",
              "Area of Use:\n",
              "- name: World.\n",
              "- bounds: (-180.0, -90.0, 180.0, 90.0)\n",
              "Datum: World Geodetic System 1984 ensemble\n",
              "- Ellipsoid: WGS 84\n",
              "- Prime Meridian: Greenwich"
            ]
          },
          "execution_count": 52,
          "metadata": {},
          "output_type": "execute_result"
        }
      ],
      "source": [
        "dados_geo_join.crs"
      ]
    },
    {
      "cell_type": "code",
      "execution_count": null,
      "id": "8a957719",
      "metadata": {
        "id": "8a957719"
      },
      "outputs": [],
      "source": [
        "dados_geo_join = dados_geo_join.to_crs(epsg=4674)"
      ]
    },
    {
      "cell_type": "code",
      "execution_count": null,
      "id": "090b2ac5",
      "metadata": {
        "id": "090b2ac5",
        "outputId": "d9365cb6-60e9-4046-90ec-5a682ae07d96"
      },
      "outputs": [
        {
          "data": {
            "text/plain": [
              "<Geographic 2D CRS: EPSG:4674>\n",
              "Name: SIRGAS 2000\n",
              "Axis Info [ellipsoidal]:\n",
              "- Lat[north]: Geodetic latitude (degree)\n",
              "- Lon[east]: Geodetic longitude (degree)\n",
              "Area of Use:\n",
              "- name: Latin America - Central America and South America - onshore and offshore. Brazil - onshore and offshore.\n",
              "- bounds: (-122.19, -59.87, -25.28, 32.72)\n",
              "Datum: Sistema de Referencia Geocentrico para las AmericaS 2000\n",
              "- Ellipsoid: GRS 1980\n",
              "- Prime Meridian: Greenwich"
            ]
          },
          "execution_count": 55,
          "metadata": {},
          "output_type": "execute_result"
        }
      ],
      "source": [
        "dados_geo_join.crs"
      ]
    },
    {
      "cell_type": "code",
      "execution_count": null,
      "id": "b94e37da",
      "metadata": {
        "id": "b94e37da",
        "outputId": "199cfa78-514a-4b2e-887c-5f6876594fb3"
      },
      "outputs": [
        {
          "data": {
            "text/plain": [
              "True"
            ]
          },
          "execution_count": 56,
          "metadata": {},
          "output_type": "execute_result"
        }
      ],
      "source": [
        "dados_geo_join.crs == dados_sp.crs"
      ]
    },
    {
      "cell_type": "code",
      "execution_count": null,
      "id": "7208187a",
      "metadata": {
        "id": "7208187a",
        "outputId": "81abf0f7-815c-48d0-94c6-a85f07721ab6"
      },
      "outputs": [
        {
          "data": {
            "text/plain": [
              "<AxesSubplot:>"
            ]
          },
          "execution_count": 57,
          "metadata": {},
          "output_type": "execute_result"
        },
        {
          "data": {
            "image/png": "[encoded data removed]",
            "text/plain": [
              "<Figure size 640x480 with 1 Axes>"
            ]
          },
          "metadata": {},
          "output_type": "display_data"
        }
      ],
      "source": [
        "dados_sp.plot()"
      ]
    },
    {
      "cell_type": "code",
      "execution_count": null,
      "id": "0d14d302",
      "metadata": {
        "id": "0d14d302",
        "outputId": "c6c224be-f0ac-4dd8-f358-24a85a7af57f"
      },
      "outputs": [
        {
          "data": {
            "text/html": [
              "<div>\n",
              "<style scoped>\n",
              "    .dataframe tbody tr th:only-of-type {\n",
              "        vertical-align: middle;\n",
              "    }\n",
              "\n",
              "    .dataframe tbody tr th {\n",
              "        vertical-align: top;\n",
              "    }\n",
              "\n",
              "    .dataframe thead th {\n",
              "        text-align: right;\n",
              "    }\n",
              "</style>\n",
              "<table border=\"1\" class=\"dataframe\">\n",
              "  <thead>\n",
              "    <tr style=\"text-align: right;\">\n",
              "      <th></th>\n",
              "      <th>CD_MUN</th>\n",
              "      <th>NM_MUN</th>\n",
              "      <th>SIGLA</th>\n",
              "      <th>AREA_KM2</th>\n",
              "      <th>geometry</th>\n",
              "    </tr>\n",
              "  </thead>\n",
              "  <tbody>\n",
              "    <tr>\n",
              "      <th>0</th>\n",
              "      <td>3550308</td>\n",
              "      <td>São Paulo</td>\n",
              "      <td>SP</td>\n",
              "      <td>1521.202</td>\n",
              "      <td>POLYGON ((-46.54624 -23.35791, -46.54585 -23.3...</td>\n",
              "    </tr>\n",
              "  </tbody>\n",
              "</table>\n",
              "</div>"
            ],
            "text/plain": [
              "    CD_MUN     NM_MUN SIGLA  AREA_KM2  \\\n",
              "0  3550308  São Paulo    SP  1521.202   \n",
              "\n",
              "                                            geometry  \n",
              "0  POLYGON ((-46.54624 -23.35791, -46.54585 -23.3...  "
            ]
          },
          "execution_count": 59,
          "metadata": {},
          "output_type": "execute_result"
        }
      ],
      "source": [
        "mun_sp = dados_sp.loc[dados_sp['NM_MUN'] == 'São Paulo']\n",
        "mun_sp.reset_index(drop=True, inplace=True)\n",
        "mun_sp"
      ]
    },
    {
      "cell_type": "code",
      "execution_count": null,
      "id": "c0a6fa2d",
      "metadata": {
        "id": "c0a6fa2d",
        "outputId": "f9e69c73-f608-4fbf-bea4-896584490bcb"
      },
      "outputs": [
        {
          "data": {
            "text/plain": [
              "<AxesSubplot:>"
            ]
          },
          "execution_count": 62,
          "metadata": {},
          "output_type": "execute_result"
        },
        {
          "data": {
            "image/png": "[encoded data removed]",
            "text/plain": [
              "<Figure size 1500x1500 with 1 Axes>"
            ]
          },
          "metadata": {},
          "output_type": "display_data"
        }
      ],
      "source": [
        "import matplotlib.pyplot as plt\n",
        "\n",
        "fig, ax = plt.subplots(figsize=(15,15))\n",
        "\n",
        "dados_sp.plot(ax=ax)\n",
        "mun_sp.plot(ax=ax, facecolor='red')\n",
        "\n",
        "dados_geo_join.plot(ax=ax, color='black', markersize=10)"
      ]
    },
    {
      "cell_type": "code",
      "execution_count": null,
      "id": "b12ef126",
      "metadata": {
        "id": "b12ef126",
        "outputId": "4fddc59f-d0f8-4d93-ee69-076cec9943d8"
      },
      "outputs": [
        {
          "data": {
            "text/plain": [
              "True"
            ]
          },
          "execution_count": 63,
          "metadata": {},
          "output_type": "execute_result"
        }
      ],
      "source": [
        "from shapely import speedups\n",
        "speedups.enabled"
      ]
    },
    {
      "cell_type": "code",
      "execution_count": null,
      "id": "a09af947",
      "metadata": {
        "id": "a09af947",
        "outputId": "b673b9d3-4281-4c70-a3c4-d42db005b122"
      },
      "outputs": [
        {
          "name": "stdout",
          "output_type": "stream",
          "text": [
            "0     True\n",
            "1     True\n",
            "2     True\n",
            "3     True\n",
            "4     True\n",
            "5     True\n",
            "6    False\n",
            "dtype: bool\n"
          ]
        }
      ],
      "source": [
        "mascara_local = dados_geo_join.within(mun_sp.at[0,'geometry'])\n",
        "print(mascara_local)"
      ]
    },
    {
      "cell_type": "markdown",
      "id": "1a02f35b",
      "metadata": {
        "id": "1a02f35b"
      },
      "source": [
        "# Análise de vizinho mais próximo"
      ]
    },
    {
      "cell_type": "code",
      "execution_count": null,
      "id": "766b28b8",
      "metadata": {
        "id": "766b28b8"
      },
      "outputs": [],
      "source": [
        "from shapely.geometry import Point, MultiPoint\n",
        "from shapely.ops import nearest_points"
      ]
    },
    {
      "cell_type": "code",
      "execution_count": null,
      "id": "b807214e",
      "metadata": {
        "id": "b807214e"
      },
      "outputs": [],
      "source": [
        "ponto_origem = Point(2, 3)\n",
        "\n",
        "ponto1 = Point(0,1)\n",
        "ponto2 = Point(3,2)\n",
        "ponto3 = Point(4,5)"
      ]
    },
    {
      "cell_type": "code",
      "execution_count": null,
      "id": "1eae69ab",
      "metadata": {
        "id": "1eae69ab",
        "outputId": "62cce007-169d-460d-bcf6-96d46df9ccee"
      },
      "outputs": [
        {
          "name": "stdout",
          "output_type": "stream",
          "text": [
            "MULTIPOINT (0 1, 3 2, 4 5)\n"
          ]
        }
      ],
      "source": [
        "destino = MultiPoint([ponto1, ponto2, ponto3])\n",
        "print(destino)"
      ]
    },
    {
      "cell_type": "code",
      "execution_count": null,
      "id": "57a99d4d",
      "metadata": {
        "id": "57a99d4d"
      },
      "outputs": [],
      "source": [
        "vizinho_proximo = nearest_points(ponto_origem, destino)"
      ]
    },
    {
      "cell_type": "code",
      "execution_count": null,
      "id": "ac878ecf",
      "metadata": {
        "id": "ac878ecf",
        "outputId": "ec4908a8-c0aa-4af9-d285-0b953c6dced3"
      },
      "outputs": [
        {
          "data": {
            "text/plain": [
              "(<shapely.geometry.point.Point at 0x19fa923fc10>,\n",
              " <shapely.geometry.point.Point at 0x19fa72e8370>)"
            ]
          },
          "execution_count": 71,
          "metadata": {},
          "output_type": "execute_result"
        }
      ],
      "source": [
        "vizinho_proximo"
      ]
    },
    {
      "cell_type": "code",
      "execution_count": null,
      "id": "734b7cf8",
      "metadata": {
        "id": "734b7cf8",
        "outputId": "7d6aa2d6-f42f-4cb2-fef0-712eff215d8c"
      },
      "outputs": [
        {
          "name": "stdout",
          "output_type": "stream",
          "text": [
            "POINT (3 2)\n"
          ]
        }
      ],
      "source": [
        "# o índice 1 retorna o ponto mais próximo\n",
        "print(vizinho_proximo[1])"
      ]
    },
    {
      "cell_type": "code",
      "execution_count": null,
      "id": "f89e4283",
      "metadata": {
        "id": "f89e4283"
      },
      "outputs": [],
      "source": [
        "import geopandas as gpd"
      ]
    },
    {
      "cell_type": "code",
      "execution_count": null,
      "id": "72153561",
      "metadata": {
        "id": "72153561"
      },
      "outputs": [],
      "source": [
        "ponto = Point(-46.63, -23.52)"
      ]
    },
    {
      "cell_type": "code",
      "execution_count": null,
      "id": "579c525d",
      "metadata": {
        "id": "579c525d",
        "outputId": "e9041672-a91a-434e-967f-f2053cd362c4"
      },
      "outputs": [
        {
          "data": {
            "image/svg+xml": [
              "<svg xmlns=\"http://www.w3.org/2000/svg\" xmlns:xlink=\"http://www.w3.org/1999/xlink\" width=\"100.0\" height=\"100.0\" viewBox=\"-47.63 -24.52 2.0 2.0\" preserveAspectRatio=\"xMinYMin meet\"><g transform=\"matrix(1,0,0,-1,0,-47.04)\"><circle cx=\"-46.63\" cy=\"-23.52\" r=\"0.06\" stroke=\"#555555\" stroke-width=\"0.02\" fill=\"#66cc99\" opacity=\"0.6\" /></g></svg>"
            ],
            "text/plain": [
              "<shapely.geometry.point.Point at 0x19fa72e8640>"
            ]
          },
          "execution_count": 78,
          "metadata": {},
          "output_type": "execute_result"
        }
      ],
      "source": [
        "ponto"
      ]
    },
    {
      "cell_type": "code",
      "execution_count": null,
      "id": "9c66768e",
      "metadata": {
        "id": "9c66768e",
        "outputId": "6ada0ee4-d0f2-42de-d0e9-22a88c68be4e"
      },
      "outputs": [
        {
          "data": {
            "text/html": [
              "<div>\n",
              "<style scoped>\n",
              "    .dataframe tbody tr th:only-of-type {\n",
              "        vertical-align: middle;\n",
              "    }\n",
              "\n",
              "    .dataframe tbody tr th {\n",
              "        vertical-align: top;\n",
              "    }\n",
              "\n",
              "    .dataframe thead th {\n",
              "        text-align: right;\n",
              "    }\n",
              "</style>\n",
              "<table border=\"1\" class=\"dataframe\">\n",
              "  <thead>\n",
              "    <tr style=\"text-align: right;\">\n",
              "      <th></th>\n",
              "      <th>Central_Point</th>\n",
              "      <th>geometry</th>\n",
              "    </tr>\n",
              "  </thead>\n",
              "  <tbody>\n",
              "    <tr>\n",
              "      <th>0</th>\n",
              "      <td>São Paulo</td>\n",
              "      <td>POINT(-46.63 -23.52)</td>\n",
              "    </tr>\n",
              "  </tbody>\n",
              "</table>\n",
              "</div>"
            ],
            "text/plain": [
              "  Central_Point              geometry\n",
              "0     São Paulo  POINT(-46.63 -23.52)"
            ]
          },
          "execution_count": 79,
          "metadata": {},
          "output_type": "execute_result"
        }
      ],
      "source": [
        "import pandas as pd\n",
        "df = pd.DataFrame({\n",
        "    'Central_Point':'São Paulo',\n",
        "    'geometry':['POINT(-46.63 -23.52)']\n",
        "})\n",
        "df"
      ]
    },
    {
      "cell_type": "code",
      "execution_count": null,
      "id": "d7b5d281",
      "metadata": {
        "id": "d7b5d281",
        "outputId": "2309ced9-3e70-41fc-ebcf-ee64fdd33102"
      },
      "outputs": [
        {
          "data": {
            "text/plain": [
              "pandas.core.frame.DataFrame"
            ]
          },
          "execution_count": 80,
          "metadata": {},
          "output_type": "execute_result"
        }
      ],
      "source": [
        "type(df)"
      ]
    },
    {
      "cell_type": "code",
      "execution_count": null,
      "id": "7e0b79e7",
      "metadata": {
        "id": "7e0b79e7"
      },
      "outputs": [],
      "source": [
        "from shapely import wkt"
      ]
    },
    {
      "cell_type": "code",
      "execution_count": null,
      "id": "dce80287",
      "metadata": {
        "id": "dce80287"
      },
      "outputs": [],
      "source": [
        "df['geometry'] = df['geometry'].apply(wkt.loads)"
      ]
    },
    {
      "cell_type": "code",
      "execution_count": null,
      "id": "4884d5cb",
      "metadata": {
        "id": "4884d5cb",
        "outputId": "3caac9e7-4f59-4c7a-a297-0e0fdf79d07a"
      },
      "outputs": [
        {
          "data": {
            "text/html": [
              "<div>\n",
              "<style scoped>\n",
              "    .dataframe tbody tr th:only-of-type {\n",
              "        vertical-align: middle;\n",
              "    }\n",
              "\n",
              "    .dataframe tbody tr th {\n",
              "        vertical-align: top;\n",
              "    }\n",
              "\n",
              "    .dataframe thead th {\n",
              "        text-align: right;\n",
              "    }\n",
              "</style>\n",
              "<table border=\"1\" class=\"dataframe\">\n",
              "  <thead>\n",
              "    <tr style=\"text-align: right;\">\n",
              "      <th></th>\n",
              "      <th>Central_Point</th>\n",
              "      <th>geometry</th>\n",
              "    </tr>\n",
              "  </thead>\n",
              "  <tbody>\n",
              "    <tr>\n",
              "      <th>0</th>\n",
              "      <td>São Paulo</td>\n",
              "      <td>POINT (-46.63 -23.52)</td>\n",
              "    </tr>\n",
              "  </tbody>\n",
              "</table>\n",
              "</div>"
            ],
            "text/plain": [
              "  Central_Point               geometry\n",
              "0     São Paulo  POINT (-46.63 -23.52)"
            ]
          },
          "execution_count": 84,
          "metadata": {},
          "output_type": "execute_result"
        }
      ],
      "source": [
        "df"
      ]
    },
    {
      "cell_type": "code",
      "execution_count": null,
      "id": "39aba538",
      "metadata": {
        "id": "39aba538"
      },
      "outputs": [],
      "source": [
        "gdf = gpd.GeoDataFrame(df, geometry='geometry')"
      ]
    },
    {
      "cell_type": "code",
      "execution_count": null,
      "id": "d7abc1fa",
      "metadata": {
        "id": "d7abc1fa",
        "outputId": "cf29ba50-c6a7-407a-c89c-dea1a001d43f"
      },
      "outputs": [
        {
          "data": {
            "text/html": [
              "<div>\n",
              "<style scoped>\n",
              "    .dataframe tbody tr th:only-of-type {\n",
              "        vertical-align: middle;\n",
              "    }\n",
              "\n",
              "    .dataframe tbody tr th {\n",
              "        vertical-align: top;\n",
              "    }\n",
              "\n",
              "    .dataframe thead th {\n",
              "        text-align: right;\n",
              "    }\n",
              "</style>\n",
              "<table border=\"1\" class=\"dataframe\">\n",
              "  <thead>\n",
              "    <tr style=\"text-align: right;\">\n",
              "      <th></th>\n",
              "      <th>Central_Point</th>\n",
              "      <th>geometry</th>\n",
              "    </tr>\n",
              "  </thead>\n",
              "  <tbody>\n",
              "    <tr>\n",
              "      <th>0</th>\n",
              "      <td>São Paulo</td>\n",
              "      <td>POINT (-46.63000 -23.52000)</td>\n",
              "    </tr>\n",
              "  </tbody>\n",
              "</table>\n",
              "</div>"
            ],
            "text/plain": [
              "  Central_Point                     geometry\n",
              "0     São Paulo  POINT (-46.63000 -23.52000)"
            ]
          },
          "execution_count": 86,
          "metadata": {},
          "output_type": "execute_result"
        }
      ],
      "source": [
        "gdf"
      ]
    },
    {
      "cell_type": "code",
      "execution_count": null,
      "id": "cf605fed",
      "metadata": {
        "id": "cf605fed",
        "outputId": "e091744c-8d3b-4c56-9746-58a98c26185e"
      },
      "outputs": [
        {
          "data": {
            "text/plain": [
              "geopandas.geodataframe.GeoDataFrame"
            ]
          },
          "execution_count": 87,
          "metadata": {},
          "output_type": "execute_result"
        }
      ],
      "source": [
        "type(gdf)"
      ]
    },
    {
      "cell_type": "code",
      "execution_count": null,
      "id": "e527f522",
      "metadata": {
        "id": "e527f522",
        "outputId": "662cb429-ada6-4185-fcfe-5ab56c875571"
      },
      "outputs": [
        {
          "data": {
            "text/plain": [
              "<Geographic 2D CRS: EPSG:4674>\n",
              "Name: SIRGAS 2000\n",
              "Axis Info [ellipsoidal]:\n",
              "- Lat[north]: Geodetic latitude (degree)\n",
              "- Lon[east]: Geodetic longitude (degree)\n",
              "Area of Use:\n",
              "- name: Latin America - Central America and South America - onshore and offshore. Brazil - onshore and offshore.\n",
              "- bounds: (-122.19, -59.87, -25.28, 32.72)\n",
              "Datum: Sistema de Referencia Geocentrico para las AmericaS 2000\n",
              "- Ellipsoid: GRS 1980\n",
              "- Prime Meridian: Greenwich"
            ]
          },
          "execution_count": 88,
          "metadata": {},
          "output_type": "execute_result"
        }
      ],
      "source": [
        "dados_geo_join.crs"
      ]
    },
    {
      "cell_type": "code",
      "execution_count": null,
      "id": "e0fa50d8",
      "metadata": {
        "id": "e0fa50d8"
      },
      "outputs": [],
      "source": [
        "from pyproj import CRS\n",
        "\n",
        "gdf.crs = CRS.from_epsg(4674)"
      ]
    },
    {
      "cell_type": "code",
      "execution_count": null,
      "id": "1b3d904b",
      "metadata": {
        "id": "1b3d904b",
        "outputId": "011b0afc-0a77-4f7d-c143-8affece57a88"
      },
      "outputs": [
        {
          "data": {
            "text/plain": [
              "<Geographic 2D CRS: EPSG:4674>\n",
              "Name: SIRGAS 2000\n",
              "Axis Info [ellipsoidal]:\n",
              "- Lat[north]: Geodetic latitude (degree)\n",
              "- Lon[east]: Geodetic longitude (degree)\n",
              "Area of Use:\n",
              "- name: Latin America - Central America and South America - onshore and offshore. Brazil - onshore and offshore.\n",
              "- bounds: (-122.19, -59.87, -25.28, 32.72)\n",
              "Datum: Sistema de Referencia Geocentrico para las AmericaS 2000\n",
              "- Ellipsoid: GRS 1980\n",
              "- Prime Meridian: Greenwich"
            ]
          },
          "execution_count": 91,
          "metadata": {},
          "output_type": "execute_result"
        }
      ],
      "source": [
        "gdf.crs"
      ]
    },
    {
      "cell_type": "code",
      "execution_count": null,
      "id": "40513d12",
      "metadata": {
        "id": "40513d12",
        "outputId": "29c731e0-9067-461f-98a3-fe5f18ad5473"
      },
      "outputs": [
        {
          "data": {
            "text/html": [
              "<div>\n",
              "<style scoped>\n",
              "    .dataframe tbody tr th:only-of-type {\n",
              "        vertical-align: middle;\n",
              "    }\n",
              "\n",
              "    .dataframe tbody tr th {\n",
              "        vertical-align: top;\n",
              "    }\n",
              "\n",
              "    .dataframe thead th {\n",
              "        text-align: right;\n",
              "    }\n",
              "</style>\n",
              "<table border=\"1\" class=\"dataframe\">\n",
              "  <thead>\n",
              "    <tr style=\"text-align: right;\">\n",
              "      <th></th>\n",
              "      <th>geometry</th>\n",
              "      <th>endereco</th>\n",
              "      <th>name</th>\n",
              "      <th>address</th>\n",
              "      <th>Longitude</th>\n",
              "      <th>Latitude</th>\n",
              "    </tr>\n",
              "  </thead>\n",
              "  <tbody>\n",
              "    <tr>\n",
              "      <th>0</th>\n",
              "      <td>POINT (-46.72725 -23.54677)</td>\n",
              "      <td>Biblioteca Parque Villa Lobos, 2001, Avenida P...</td>\n",
              "      <td>Parque Villa-Lobos</td>\n",
              "      <td>Avenida Prof. Fonseca Rodrigues, 2001 - Alto d...</td>\n",
              "      <td>-46.727251</td>\n",
              "      <td>-23.546767</td>\n",
              "    </tr>\n",
              "    <tr>\n",
              "      <th>1</th>\n",
              "      <td>POINT (-46.66146 -23.56516)</td>\n",
              "      <td>Rua Peixoto Gomide, Jardim Paulista, São Paulo...</td>\n",
              "      <td>Parque Tenente Siqueira Campos - Trianon</td>\n",
              "      <td>Rua Peixoto Gomide, 949 - Cerqueira César, São...</td>\n",
              "      <td>-46.661457</td>\n",
              "      <td>-23.565159</td>\n",
              "    </tr>\n",
              "    <tr>\n",
              "      <th>2</th>\n",
              "      <td>POINT (-46.62396 -23.56194)</td>\n",
              "      <td>Rua Muniz de Souza, Aclimação, Liberdade, São ...</td>\n",
              "      <td>Parque Aclimação</td>\n",
              "      <td>Rua Muniz de Sousa, 1.119 - Aclimação, São Pau...</td>\n",
              "      <td>-46.623962</td>\n",
              "      <td>-23.561940</td>\n",
              "    </tr>\n",
              "    <tr>\n",
              "      <th>3</th>\n",
              "      <td>POINT (-46.63521 -23.53474)</td>\n",
              "      <td>Praça da Luz, Bom Retiro, São Paulo, Região Im...</td>\n",
              "      <td>Parque Jardim da Luz</td>\n",
              "      <td>Praça da Luz, s/n - Bom Retiro, São Paulo - SP</td>\n",
              "      <td>-46.635213</td>\n",
              "      <td>-23.534735</td>\n",
              "    </tr>\n",
              "    <tr>\n",
              "      <th>4</th>\n",
              "      <td>POINT (-46.61005 -23.59334)</td>\n",
              "      <td>Avenida Nazaré, Ipiranga, São Paulo, Região Im...</td>\n",
              "      <td>Parque Independência</td>\n",
              "      <td>Avenida Nazaré, s/n - Ipiranga, São Paulo - SP</td>\n",
              "      <td>-46.610048</td>\n",
              "      <td>-23.593336</td>\n",
              "    </tr>\n",
              "    <tr>\n",
              "      <th>5</th>\n",
              "      <td>POINT (-46.70407 -23.59171)</td>\n",
              "      <td>Rua Engenheiro Oscar Americano, 840, Avenida E...</td>\n",
              "      <td>Parque Alfredo Volpi</td>\n",
              "      <td>Rua Engenheiro Oscar Americano, 480 - Morumbi,...</td>\n",
              "      <td>-46.704069</td>\n",
              "      <td>-23.591714</td>\n",
              "    </tr>\n",
              "    <tr>\n",
              "      <th>6</th>\n",
              "      <td>POINT (-48.52884 -20.71022)</td>\n",
              "      <td>Rodovia Brigadeiro Faria Lima, Loteamento Sant...</td>\n",
              "      <td>Parque Ecológico do Tietê</td>\n",
              "      <td>Rodovia Parque, 8055 - Vila Santo Henrique, Sã...</td>\n",
              "      <td>-48.528839</td>\n",
              "      <td>-20.710220</td>\n",
              "    </tr>\n",
              "  </tbody>\n",
              "</table>\n",
              "</div>"
            ],
            "text/plain": [
              "                      geometry  \\\n",
              "0  POINT (-46.72725 -23.54677)   \n",
              "1  POINT (-46.66146 -23.56516)   \n",
              "2  POINT (-46.62396 -23.56194)   \n",
              "3  POINT (-46.63521 -23.53474)   \n",
              "4  POINT (-46.61005 -23.59334)   \n",
              "5  POINT (-46.70407 -23.59171)   \n",
              "6  POINT (-48.52884 -20.71022)   \n",
              "\n",
              "                                            endereco  \\\n",
              "0  Biblioteca Parque Villa Lobos, 2001, Avenida P...   \n",
              "1  Rua Peixoto Gomide, Jardim Paulista, São Paulo...   \n",
              "2  Rua Muniz de Souza, Aclimação, Liberdade, São ...   \n",
              "3  Praça da Luz, Bom Retiro, São Paulo, Região Im...   \n",
              "4  Avenida Nazaré, Ipiranga, São Paulo, Região Im...   \n",
              "5  Rua Engenheiro Oscar Americano, 840, Avenida E...   \n",
              "6  Rodovia Brigadeiro Faria Lima, Loteamento Sant...   \n",
              "\n",
              "                                       name  \\\n",
              "0                        Parque Villa-Lobos   \n",
              "1  Parque Tenente Siqueira Campos - Trianon   \n",
              "2                          Parque Aclimação   \n",
              "3                      Parque Jardim da Luz   \n",
              "4                      Parque Independência   \n",
              "5                      Parque Alfredo Volpi   \n",
              "6                 Parque Ecológico do Tietê   \n",
              "\n",
              "                                             address  Longitude   Latitude  \n",
              "0  Avenida Prof. Fonseca Rodrigues, 2001 - Alto d... -46.727251 -23.546767  \n",
              "1  Rua Peixoto Gomide, 949 - Cerqueira César, São... -46.661457 -23.565159  \n",
              "2  Rua Muniz de Sousa, 1.119 - Aclimação, São Pau... -46.623962 -23.561940  \n",
              "3     Praça da Luz, s/n - Bom Retiro, São Paulo - SP -46.635213 -23.534735  \n",
              "4     Avenida Nazaré, s/n - Ipiranga, São Paulo - SP -46.610048 -23.593336  \n",
              "5  Rua Engenheiro Oscar Americano, 480 - Morumbi,... -46.704069 -23.591714  \n",
              "6  Rodovia Parque, 8055 - Vila Santo Henrique, Sã... -48.528839 -20.710220  "
            ]
          },
          "execution_count": 92,
          "metadata": {},
          "output_type": "execute_result"
        }
      ],
      "source": [
        "dados_geo_join"
      ]
    },
    {
      "cell_type": "code",
      "execution_count": null,
      "id": "77987258",
      "metadata": {
        "id": "77987258",
        "outputId": "2fb2e2d5-803e-49eb-aa85-4a137aeec815"
      },
      "outputs": [
        {
          "name": "stdout",
          "output_type": "stream",
          "text": [
            "MULTIPOINT (-48.5288392 -20.7102202, -46.72725062401455 -23.546767449999997, -46.704069 -23.591714, -46.6614571 -23.5651589, -46.635213 -23.5347351, -46.6239615 -23.5619401, -46.6100481 -23.5933358)\n"
          ]
        }
      ],
      "source": [
        "data_union = dados_geo_join.unary_union\n",
        "print(data_union)"
      ]
    },
    {
      "cell_type": "code",
      "execution_count": null,
      "id": "e9768e07",
      "metadata": {
        "id": "e9768e07",
        "outputId": "fbd140eb-8607-4909-d349-231bebf2d4ff"
      },
      "outputs": [
        {
          "name": "stdout",
          "output_type": "stream",
          "text": [
            "(<shapely.geometry.point.Point object at 0x0000019FA730DF90>, <shapely.geometry.point.Point object at 0x0000019FA72E8940>)\n"
          ]
        }
      ],
      "source": [
        "ponto_proximo = nearest_points(gdf['geometry'][0], data_union)\n",
        "print(ponto_proximo)"
      ]
    },
    {
      "cell_type": "code",
      "execution_count": null,
      "id": "0f0b78be",
      "metadata": {
        "id": "0f0b78be",
        "outputId": "b75101a0-a8eb-4ed1-cfab-a2a63d056213"
      },
      "outputs": [
        {
          "name": "stdout",
          "output_type": "stream",
          "text": [
            "POINT (-46.635213 -23.5347351)\n"
          ]
        }
      ],
      "source": [
        "print(ponto_proximo[1])"
      ]
    },
    {
      "cell_type": "code",
      "execution_count": null,
      "id": "21d9db6d",
      "metadata": {
        "id": "21d9db6d"
      },
      "outputs": [],
      "source": []
    }
  ],
  "metadata": {
    "kernelspec": {
      "display_name": "Python 3 (ipykernel)",
      "language": "python",
      "name": "python3"
    },
    "language_info": {
      "codemirror_mode": {
        "name": "ipython",
        "version": 3
      },
      "file_extension": ".py",
      "mimetype": "text/x-python",
      "name": "python",
      "nbconvert_exporter": "python",
      "pygments_lexer": "ipython3",
      "version": "3.10.6"
    },
    "colab": {
      "provenance": [],
      "include_colab_link": true
    }
  },
  "nbformat": 4,
  "nbformat_minor": 5
}