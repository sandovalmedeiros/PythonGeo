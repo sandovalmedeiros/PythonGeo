{
  "cells": [
    {
      "cell_type": "markdown",
      "metadata": {
        "id": "view-in-github",
        "colab_type": "text"
      },
      "source": [
        "<a href=\"https://colab.research.google.com/github/sandovalmedeiros/PythonGeo/blob/main/Aula8_Adaptada.ipynb\" target=\"_parent\"><img src=\"https://colab.research.google.com/assets/colab-badge.svg\" alt=\"Open In Colab\"/></a>"
      ]
    },
    {
      "cell_type": "markdown",
      "id": "20d69be9",
      "metadata": {
        "id": "20d69be9"
      },
      "source": [
        "# Estruturas de Dados\n",
        "\n",
        "## GeoSeries vs GeoDataframe\n",
        "\n",
        "A `GeoSeries` é um vetor onde cada entrada no vetor é um conjunto de formas correspondentes a uma observação, por exemplo, um único polígono.\n",
        "\n",
        "Já o `GeoDataframe` é uma estrutura de dados que contém um arquivo `GeoSeries`."
      ]
    },
    {
      "cell_type": "code",
      "execution_count": null,
      "id": "92250ab6",
      "metadata": {
        "id": "92250ab6"
      },
      "outputs": [],
      "source": [
        "!pip install click==8.1.3\n",
        "!pip install geopandas\n",
        "import geopandas as gpd"
      ]
    },
    {
      "cell_type": "code",
      "execution_count": null,
      "id": "7d94645b",
      "metadata": {
        "id": "7d94645b",
        "outputId": "b1962eef-a3bc-4eab-9ab4-78edf1dc77bb"
      },
      "outputs": [
        {
          "data": {
            "text/plain": [
              "0    POLYGON ((0.00000 0.00000, 1.00000 1.00000, 0....\n",
              "1    POLYGON ((10.00000 0.00000, 10.00000 5.00000, ...\n",
              "2    POLYGON ((0.00000 0.00000, 2.00000 2.00000, 2....\n",
              "3    LINESTRING (0.00000 0.00000, 1.00000 1.00000, ...\n",
              "4                              POINT (0.00000 1.00000)\n",
              "dtype: geometry"
            ]
          },
          "execution_count": 4,
          "metadata": {},
          "output_type": "execute_result"
        }
      ],
      "source": [
        "from shapely.geometry import Polygon, LineString, Point\n",
        "\n",
        "s = gpd.GeoSeries(\n",
        "    [\n",
        "        Polygon([(0, 0), (1,1), (0,1)]),\n",
        "        Polygon([(10, 0), (10,5), (0,0)]),\n",
        "        Polygon([(0, 0), (2,2), (2,0)]),\n",
        "        LineString([(0, 0), (1,1), (0,1)]),\n",
        "        Point(0,1)\n",
        "    ]\n",
        "\n",
        ")\n",
        "s"
      ]
    },
    {
      "cell_type": "code",
      "execution_count": null,
      "id": "eee827b2",
      "metadata": {
        "id": "eee827b2",
        "outputId": "c9e8fe82-5e4d-4b80-f9ac-fbdc7165c8ab"
      },
      "outputs": [
        {
          "data": {
            "text/plain": [
              "geopandas.geoseries.GeoSeries"
            ]
          },
          "execution_count": 5,
          "metadata": {},
          "output_type": "execute_result"
        }
      ],
      "source": [
        "type(s)"
      ]
    },
    {
      "cell_type": "code",
      "execution_count": null,
      "id": "b8edfaec",
      "metadata": {
        "id": "b8edfaec"
      },
      "outputs": [],
      "source": []
    },
    {
      "cell_type": "markdown",
      "id": "676b4e99",
      "metadata": {
        "id": "676b4e99"
      },
      "source": [
        "## Diferença entre Dataframe e GeoDataframe\n",
        "\n"
      ]
    },
    {
      "cell_type": "code",
      "execution_count": null,
      "id": "7a33d574",
      "metadata": {
        "id": "7a33d574"
      },
      "outputs": [],
      "source": [
        "import geopandas as gpd\n",
        "import os\n",
        "#from osgeo import gdal\n",
        "#gdal.SetConfigOption('SHAPE_RESTORE_SHX', 'YES')\n",
        "#in_vector = '/content/sample_data/BR_Municipios_2021.shp'\n",
        "#gdf = gpd.read_file(in_vector)"
      ]
    },
    {
      "cell_type": "code",
      "execution_count": null,
      "id": "79344fc4",
      "metadata": {
        "colab": {
          "base_uri": "https://localhost:8080/"
        },
        "id": "79344fc4",
        "outputId": "6f24b4c9-579a-4b00-9e30-9b6606652139"
      },
      "outputs": [
        {
          "output_type": "stream",
          "name": "stdout",
          "text": [
            "/content/sample_data/BR_Municipios_2021.shp\n"
          ]
        }
      ],
      "source": [
        "# Definir o caminho da pasta\n",
        "#pasta = r'C:\\AmbientalPro\\Extras\\BR_Municipios_2021\\BR_Municipios_2021.shp'\n",
        "pasta = \"/content/sample_data/BR_Municipios_2021.shp\"\n",
        "\n",
        "# Juntar o nome do arquivo com a pasta\n",
        "#pasta_arquivo = os.path.join(pasta, 'BR_Municipios_2021.shp')\n",
        "print(pasta)\n",
        "#print(pasta_arquivo)"
      ]
    },
    {
      "cell_type": "code",
      "execution_count": null,
      "id": "9ae7f0ba",
      "metadata": {
        "id": "9ae7f0ba"
      },
      "outputs": [],
      "source": [
        "dados = gpd.read_file(pasta)"
      ]
    },
    {
      "cell_type": "code",
      "execution_count": null,
      "id": "dfc6a22c",
      "metadata": {
        "id": "dfc6a22c",
        "outputId": "1254bfd1-27f0-4c59-9354-8bab67597be3",
        "colab": {
          "base_uri": "https://localhost:8080/"
        }
      },
      "outputs": [
        {
          "output_type": "execute_result",
          "data": {
            "text/plain": [
              "geopandas.geodataframe.GeoDataFrame"
            ]
          },
          "metadata": {},
          "execution_count": 4
        }
      ],
      "source": [
        "type(dados)"
      ]
    },
    {
      "cell_type": "code",
      "execution_count": null,
      "id": "c6a25b19",
      "metadata": {
        "id": "c6a25b19",
        "outputId": "1a14cd3e-bce2-4ff4-cae4-a43b7aea57e9",
        "colab": {
          "base_uri": "https://localhost:8080/",
          "height": 363
        }
      },
      "outputs": [
        {
          "output_type": "execute_result",
          "data": {
            "text/plain": [
              "    CD_MUN                 NM_MUN SIGLA   AREA_KM2  \\\n",
              "0  1100015  Alta Floresta D'Oeste    RO   7067.127   \n",
              "1  1100023              Ariquemes    RO   4426.571   \n",
              "2  1100031                 Cabixi    RO   1314.352   \n",
              "3  1100049                 Cacoal    RO   3793.000   \n",
              "4  1100056             Cerejeiras    RO   2783.300   \n",
              "5  1100064      Colorado do Oeste    RO   1451.060   \n",
              "6  1100072             Corumbiara    RO   3060.321   \n",
              "7  1100080          Costa Marques    RO   4987.177   \n",
              "8  1100098        Espigão D'Oeste    RO   4518.038   \n",
              "9  1100106          Guajará-Mirim    RO  24856.877   \n",
              "\n",
              "                                            geometry  \n",
              "0  POLYGON ((-62.19465 -11.82746, -62.19332 -11.8...  \n",
              "1  POLYGON ((-62.53648 -9.73222, -62.52765 -9.736...  \n",
              "2  POLYGON ((-60.37119 -13.36655, -60.37134 -13.3...  \n",
              "3  POLYGON ((-61.00080 -11.29737, -61.00103 -11.3...  \n",
              "4  POLYGON ((-61.49976 -13.00525, -61.49809 -13.0...  \n",
              "5  POLYGON ((-60.50475 -12.96672, -60.50475 -12.9...  \n",
              "6  POLYGON ((-61.34273 -12.66662, -61.34468 -12.6...  \n",
              "7  POLYGON ((-63.71199 -11.65013, -63.70613 -11.6...  \n",
              "8  POLYGON ((-60.94827 -10.98856, -60.94769 -10.9...  \n",
              "9  POLYGON ((-65.37759 -10.43110, -65.37683 -10.4...  "
            ],
            "text/html": [
              "\n",
              "  <div id=\"df-2c3b3629-e813-423d-a95a-94458dc502a2\">\n",
              "    <div class=\"colab-df-container\">\n",
              "      <div>\n",
              "<style scoped>\n",
              "    .dataframe tbody tr th:only-of-type {\n",
              "        vertical-align: middle;\n",
              "    }\n",
              "\n",
              "    .dataframe tbody tr th {\n",
              "        vertical-align: top;\n",
              "    }\n",
              "\n",
              "    .dataframe thead th {\n",
              "        text-align: right;\n",
              "    }\n",
              "</style>\n",
              "<table border=\"1\" class=\"dataframe\">\n",
              "  <thead>\n",
              "    <tr style=\"text-align: right;\">\n",
              "      <th></th>\n",
              "      <th>CD_MUN</th>\n",
              "      <th>NM_MUN</th>\n",
              "      <th>SIGLA</th>\n",
              "      <th>AREA_KM2</th>\n",
              "      <th>geometry</th>\n",
              "    </tr>\n",
              "  </thead>\n",
              "  <tbody>\n",
              "    <tr>\n",
              "      <th>0</th>\n",
              "      <td>1100015</td>\n",
              "      <td>Alta Floresta D'Oeste</td>\n",
              "      <td>RO</td>\n",
              "      <td>7067.127</td>\n",
              "      <td>POLYGON ((-62.19465 -11.82746, -62.19332 -11.8...</td>\n",
              "    </tr>\n",
              "    <tr>\n",
              "      <th>1</th>\n",
              "      <td>1100023</td>\n",
              "      <td>Ariquemes</td>\n",
              "      <td>RO</td>\n",
              "      <td>4426.571</td>\n",
              "      <td>POLYGON ((-62.53648 -9.73222, -62.52765 -9.736...</td>\n",
              "    </tr>\n",
              "    <tr>\n",
              "      <th>2</th>\n",
              "      <td>1100031</td>\n",
              "      <td>Cabixi</td>\n",
              "      <td>RO</td>\n",
              "      <td>1314.352</td>\n",
              "      <td>POLYGON ((-60.37119 -13.36655, -60.37134 -13.3...</td>\n",
              "    </tr>\n",
              "    <tr>\n",
              "      <th>3</th>\n",
              "      <td>1100049</td>\n",
              "      <td>Cacoal</td>\n",
              "      <td>RO</td>\n",
              "      <td>3793.000</td>\n",
              "      <td>POLYGON ((-61.00080 -11.29737, -61.00103 -11.3...</td>\n",
              "    </tr>\n",
              "    <tr>\n",
              "      <th>4</th>\n",
              "      <td>1100056</td>\n",
              "      <td>Cerejeiras</td>\n",
              "      <td>RO</td>\n",
              "      <td>2783.300</td>\n",
              "      <td>POLYGON ((-61.49976 -13.00525, -61.49809 -13.0...</td>\n",
              "    </tr>\n",
              "    <tr>\n",
              "      <th>5</th>\n",
              "      <td>1100064</td>\n",
              "      <td>Colorado do Oeste</td>\n",
              "      <td>RO</td>\n",
              "      <td>1451.060</td>\n",
              "      <td>POLYGON ((-60.50475 -12.96672, -60.50475 -12.9...</td>\n",
              "    </tr>\n",
              "    <tr>\n",
              "      <th>6</th>\n",
              "      <td>1100072</td>\n",
              "      <td>Corumbiara</td>\n",
              "      <td>RO</td>\n",
              "      <td>3060.321</td>\n",
              "      <td>POLYGON ((-61.34273 -12.66662, -61.34468 -12.6...</td>\n",
              "    </tr>\n",
              "    <tr>\n",
              "      <th>7</th>\n",
              "      <td>1100080</td>\n",
              "      <td>Costa Marques</td>\n",
              "      <td>RO</td>\n",
              "      <td>4987.177</td>\n",
              "      <td>POLYGON ((-63.71199 -11.65013, -63.70613 -11.6...</td>\n",
              "    </tr>\n",
              "    <tr>\n",
              "      <th>8</th>\n",
              "      <td>1100098</td>\n",
              "      <td>Espigão D'Oeste</td>\n",
              "      <td>RO</td>\n",
              "      <td>4518.038</td>\n",
              "      <td>POLYGON ((-60.94827 -10.98856, -60.94769 -10.9...</td>\n",
              "    </tr>\n",
              "    <tr>\n",
              "      <th>9</th>\n",
              "      <td>1100106</td>\n",
              "      <td>Guajará-Mirim</td>\n",
              "      <td>RO</td>\n",
              "      <td>24856.877</td>\n",
              "      <td>POLYGON ((-65.37759 -10.43110, -65.37683 -10.4...</td>\n",
              "    </tr>\n",
              "  </tbody>\n",
              "</table>\n",
              "</div>\n",
              "      <button class=\"colab-df-convert\" onclick=\"convertToInteractive('df-2c3b3629-e813-423d-a95a-94458dc502a2')\"\n",
              "              title=\"Convert this dataframe to an interactive table.\"\n",
              "              style=\"display:none;\">\n",
              "        \n",
              "  <svg xmlns=\"http://www.w3.org/2000/svg\" height=\"24px\"viewBox=\"0 0 24 24\"\n",
              "       width=\"24px\">\n",
              "    <path d=\"M0 0h24v24H0V0z\" fill=\"none\"/>\n",
              "    <path d=\"M18.56 5.44l.94 2.06.94-2.06 2.06-.94-2.06-.94-.94-2.06-.94 2.06-2.06.94zm-11 1L8.5 8.5l.94-2.06 2.06-.94-2.06-.94L8.5 2.5l-.94 2.06-2.06.94zm10 10l.94 2.06.94-2.06 2.06-.94-2.06-.94-.94-2.06-.94 2.06-2.06.94z\"/><path d=\"M17.41 7.96l-1.37-1.37c-.4-.4-.92-.59-1.43-.59-.52 0-1.04.2-1.43.59L10.3 9.45l-7.72 7.72c-.78.78-.78 2.05 0 2.83L4 21.41c.39.39.9.59 1.41.59.51 0 1.02-.2 1.41-.59l7.78-7.78 2.81-2.81c.8-.78.8-2.07 0-2.86zM5.41 20L4 18.59l7.72-7.72 1.47 1.35L5.41 20z\"/>\n",
              "  </svg>\n",
              "      </button>\n",
              "      \n",
              "  <style>\n",
              "    .colab-df-container {\n",
              "      display:flex;\n",
              "      flex-wrap:wrap;\n",
              "      gap: 12px;\n",
              "    }\n",
              "\n",
              "    .colab-df-convert {\n",
              "      background-color: #E8F0FE;\n",
              "      border: none;\n",
              "      border-radius: 50%;\n",
              "      cursor: pointer;\n",
              "      display: none;\n",
              "      fill: #1967D2;\n",
              "      height: 32px;\n",
              "      padding: 0 0 0 0;\n",
              "      width: 32px;\n",
              "    }\n",
              "\n",
              "    .colab-df-convert:hover {\n",
              "      background-color: #E2EBFA;\n",
              "      box-shadow: 0px 1px 2px rgba(60, 64, 67, 0.3), 0px 1px 3px 1px rgba(60, 64, 67, 0.15);\n",
              "      fill: #174EA6;\n",
              "    }\n",
              "\n",
              "    [theme=dark] .colab-df-convert {\n",
              "      background-color: #3B4455;\n",
              "      fill: #D2E3FC;\n",
              "    }\n",
              "\n",
              "    [theme=dark] .colab-df-convert:hover {\n",
              "      background-color: #434B5C;\n",
              "      box-shadow: 0px 1px 3px 1px rgba(0, 0, 0, 0.15);\n",
              "      filter: drop-shadow(0px 1px 2px rgba(0, 0, 0, 0.3));\n",
              "      fill: #FFFFFF;\n",
              "    }\n",
              "  </style>\n",
              "\n",
              "      <script>\n",
              "        const buttonEl =\n",
              "          document.querySelector('#df-2c3b3629-e813-423d-a95a-94458dc502a2 button.colab-df-convert');\n",
              "        buttonEl.style.display =\n",
              "          google.colab.kernel.accessAllowed ? 'block' : 'none';\n",
              "\n",
              "        async function convertToInteractive(key) {\n",
              "          const element = document.querySelector('#df-2c3b3629-e813-423d-a95a-94458dc502a2');\n",
              "          const dataTable =\n",
              "            await google.colab.kernel.invokeFunction('convertToInteractive',\n",
              "                                                     [key], {});\n",
              "          if (!dataTable) return;\n",
              "\n",
              "          const docLinkHtml = 'Like what you see? Visit the ' +\n",
              "            '<a target=\"_blank\" href=https://colab.research.google.com/notebooks/data_table.ipynb>data table notebook</a>'\n",
              "            + ' to learn more about interactive tables.';\n",
              "          element.innerHTML = '';\n",
              "          dataTable['output_type'] = 'display_data';\n",
              "          await google.colab.output.renderOutput(dataTable, element);\n",
              "          const docLink = document.createElement('div');\n",
              "          docLink.innerHTML = docLinkHtml;\n",
              "          element.appendChild(docLink);\n",
              "        }\n",
              "      </script>\n",
              "    </div>\n",
              "  </div>\n",
              "  "
            ]
          },
          "metadata": {},
          "execution_count": 5
        }
      ],
      "source": [
        "dados.head(10)"
      ]
    },
    {
      "cell_type": "code",
      "execution_count": null,
      "id": "96b67deb",
      "metadata": {
        "id": "96b67deb",
        "outputId": "a0180a24-2ad8-40b7-baf2-2290fa114957",
        "colab": {
          "base_uri": "https://localhost:8080/",
          "height": 206
        }
      },
      "outputs": [
        {
          "output_type": "execute_result",
          "data": {
            "text/plain": [
              "       CD_MUN          NM_MUN SIGLA  AREA_KM2 geometry\n",
              "5567  5222005      Vianópolis    GO   954.115     None\n",
              "5568  5222054  Vicentinópolis    GO   733.794     None\n",
              "5569  5222203        Vila Boa    GO  1052.593     None\n",
              "5570  5222302   Vila Propício    GO  2181.593     None\n",
              "5571  5300108        Brasília    DF  5760.784     None"
            ],
            "text/html": [
              "\n",
              "  <div id=\"df-90ff9a52-1997-4545-b8ec-8dce8cf10a9d\">\n",
              "    <div class=\"colab-df-container\">\n",
              "      <div>\n",
              "<style scoped>\n",
              "    .dataframe tbody tr th:only-of-type {\n",
              "        vertical-align: middle;\n",
              "    }\n",
              "\n",
              "    .dataframe tbody tr th {\n",
              "        vertical-align: top;\n",
              "    }\n",
              "\n",
              "    .dataframe thead th {\n",
              "        text-align: right;\n",
              "    }\n",
              "</style>\n",
              "<table border=\"1\" class=\"dataframe\">\n",
              "  <thead>\n",
              "    <tr style=\"text-align: right;\">\n",
              "      <th></th>\n",
              "      <th>CD_MUN</th>\n",
              "      <th>NM_MUN</th>\n",
              "      <th>SIGLA</th>\n",
              "      <th>AREA_KM2</th>\n",
              "      <th>geometry</th>\n",
              "    </tr>\n",
              "  </thead>\n",
              "  <tbody>\n",
              "    <tr>\n",
              "      <th>5567</th>\n",
              "      <td>5222005</td>\n",
              "      <td>Vianópolis</td>\n",
              "      <td>GO</td>\n",
              "      <td>954.115</td>\n",
              "      <td>None</td>\n",
              "    </tr>\n",
              "    <tr>\n",
              "      <th>5568</th>\n",
              "      <td>5222054</td>\n",
              "      <td>Vicentinópolis</td>\n",
              "      <td>GO</td>\n",
              "      <td>733.794</td>\n",
              "      <td>None</td>\n",
              "    </tr>\n",
              "    <tr>\n",
              "      <th>5569</th>\n",
              "      <td>5222203</td>\n",
              "      <td>Vila Boa</td>\n",
              "      <td>GO</td>\n",
              "      <td>1052.593</td>\n",
              "      <td>None</td>\n",
              "    </tr>\n",
              "    <tr>\n",
              "      <th>5570</th>\n",
              "      <td>5222302</td>\n",
              "      <td>Vila Propício</td>\n",
              "      <td>GO</td>\n",
              "      <td>2181.593</td>\n",
              "      <td>None</td>\n",
              "    </tr>\n",
              "    <tr>\n",
              "      <th>5571</th>\n",
              "      <td>5300108</td>\n",
              "      <td>Brasília</td>\n",
              "      <td>DF</td>\n",
              "      <td>5760.784</td>\n",
              "      <td>None</td>\n",
              "    </tr>\n",
              "  </tbody>\n",
              "</table>\n",
              "</div>\n",
              "      <button class=\"colab-df-convert\" onclick=\"convertToInteractive('df-90ff9a52-1997-4545-b8ec-8dce8cf10a9d')\"\n",
              "              title=\"Convert this dataframe to an interactive table.\"\n",
              "              style=\"display:none;\">\n",
              "        \n",
              "  <svg xmlns=\"http://www.w3.org/2000/svg\" height=\"24px\"viewBox=\"0 0 24 24\"\n",
              "       width=\"24px\">\n",
              "    <path d=\"M0 0h24v24H0V0z\" fill=\"none\"/>\n",
              "    <path d=\"M18.56 5.44l.94 2.06.94-2.06 2.06-.94-2.06-.94-.94-2.06-.94 2.06-2.06.94zm-11 1L8.5 8.5l.94-2.06 2.06-.94-2.06-.94L8.5 2.5l-.94 2.06-2.06.94zm10 10l.94 2.06.94-2.06 2.06-.94-2.06-.94-.94-2.06-.94 2.06-2.06.94z\"/><path d=\"M17.41 7.96l-1.37-1.37c-.4-.4-.92-.59-1.43-.59-.52 0-1.04.2-1.43.59L10.3 9.45l-7.72 7.72c-.78.78-.78 2.05 0 2.83L4 21.41c.39.39.9.59 1.41.59.51 0 1.02-.2 1.41-.59l7.78-7.78 2.81-2.81c.8-.78.8-2.07 0-2.86zM5.41 20L4 18.59l7.72-7.72 1.47 1.35L5.41 20z\"/>\n",
              "  </svg>\n",
              "      </button>\n",
              "      \n",
              "  <style>\n",
              "    .colab-df-container {\n",
              "      display:flex;\n",
              "      flex-wrap:wrap;\n",
              "      gap: 12px;\n",
              "    }\n",
              "\n",
              "    .colab-df-convert {\n",
              "      background-color: #E8F0FE;\n",
              "      border: none;\n",
              "      border-radius: 50%;\n",
              "      cursor: pointer;\n",
              "      display: none;\n",
              "      fill: #1967D2;\n",
              "      height: 32px;\n",
              "      padding: 0 0 0 0;\n",
              "      width: 32px;\n",
              "    }\n",
              "\n",
              "    .colab-df-convert:hover {\n",
              "      background-color: #E2EBFA;\n",
              "      box-shadow: 0px 1px 2px rgba(60, 64, 67, 0.3), 0px 1px 3px 1px rgba(60, 64, 67, 0.15);\n",
              "      fill: #174EA6;\n",
              "    }\n",
              "\n",
              "    [theme=dark] .colab-df-convert {\n",
              "      background-color: #3B4455;\n",
              "      fill: #D2E3FC;\n",
              "    }\n",
              "\n",
              "    [theme=dark] .colab-df-convert:hover {\n",
              "      background-color: #434B5C;\n",
              "      box-shadow: 0px 1px 3px 1px rgba(0, 0, 0, 0.15);\n",
              "      filter: drop-shadow(0px 1px 2px rgba(0, 0, 0, 0.3));\n",
              "      fill: #FFFFFF;\n",
              "    }\n",
              "  </style>\n",
              "\n",
              "      <script>\n",
              "        const buttonEl =\n",
              "          document.querySelector('#df-90ff9a52-1997-4545-b8ec-8dce8cf10a9d button.colab-df-convert');\n",
              "        buttonEl.style.display =\n",
              "          google.colab.kernel.accessAllowed ? 'block' : 'none';\n",
              "\n",
              "        async function convertToInteractive(key) {\n",
              "          const element = document.querySelector('#df-90ff9a52-1997-4545-b8ec-8dce8cf10a9d');\n",
              "          const dataTable =\n",
              "            await google.colab.kernel.invokeFunction('convertToInteractive',\n",
              "                                                     [key], {});\n",
              "          if (!dataTable) return;\n",
              "\n",
              "          const docLinkHtml = 'Like what you see? Visit the ' +\n",
              "            '<a target=\"_blank\" href=https://colab.research.google.com/notebooks/data_table.ipynb>data table notebook</a>'\n",
              "            + ' to learn more about interactive tables.';\n",
              "          element.innerHTML = '';\n",
              "          dataTable['output_type'] = 'display_data';\n",
              "          await google.colab.output.renderOutput(dataTable, element);\n",
              "          const docLink = document.createElement('div');\n",
              "          docLink.innerHTML = docLinkHtml;\n",
              "          element.appendChild(docLink);\n",
              "        }\n",
              "      </script>\n",
              "    </div>\n",
              "  </div>\n",
              "  "
            ]
          },
          "metadata": {},
          "execution_count": 6
        }
      ],
      "source": [
        "dados.tail()"
      ]
    },
    {
      "cell_type": "code",
      "execution_count": null,
      "id": "28f10637",
      "metadata": {
        "id": "28f10637",
        "outputId": "e3ed0b8b-bb96-4235-9ec1-77f1b0509fdb",
        "colab": {
          "base_uri": "https://localhost:8080/"
        }
      },
      "outputs": [
        {
          "output_type": "execute_result",
          "data": {
            "text/plain": [
              "array(['CD_MUN', 'NM_MUN', 'SIGLA', 'AREA_KM2', 'geometry'], dtype=object)"
            ]
          },
          "metadata": {},
          "execution_count": 7
        }
      ],
      "source": [
        "# Verificar o nome das colunas\n",
        "dados.columns.values"
      ]
    },
    {
      "cell_type": "code",
      "execution_count": null,
      "id": "988bafdb",
      "metadata": {
        "id": "988bafdb",
        "outputId": "2ee62e2a-f149-409e-f5e1-a57804d32119",
        "colab": {
          "base_uri": "https://localhost:8080/",
          "height": 206
        }
      },
      "outputs": [
        {
          "output_type": "execute_result",
          "data": {
            "text/plain": [
              "                  NM_MUN SIGLA  AREA_KM2  \\\n",
              "0  Alta Floresta D'Oeste    RO  7067.127   \n",
              "1              Ariquemes    RO  4426.571   \n",
              "2                 Cabixi    RO  1314.352   \n",
              "3                 Cacoal    RO  3793.000   \n",
              "4             Cerejeiras    RO  2783.300   \n",
              "\n",
              "                                            geometry  \n",
              "0  POLYGON ((-62.19465 -11.82746, -62.19332 -11.8...  \n",
              "1  POLYGON ((-62.53648 -9.73222, -62.52765 -9.736...  \n",
              "2  POLYGON ((-60.37119 -13.36655, -60.37134 -13.3...  \n",
              "3  POLYGON ((-61.00080 -11.29737, -61.00103 -11.3...  \n",
              "4  POLYGON ((-61.49976 -13.00525, -61.49809 -13.0...  "
            ],
            "text/html": [
              "\n",
              "  <div id=\"df-3f0e87f9-1c2f-42f0-ade7-b74b452166e1\">\n",
              "    <div class=\"colab-df-container\">\n",
              "      <div>\n",
              "<style scoped>\n",
              "    .dataframe tbody tr th:only-of-type {\n",
              "        vertical-align: middle;\n",
              "    }\n",
              "\n",
              "    .dataframe tbody tr th {\n",
              "        vertical-align: top;\n",
              "    }\n",
              "\n",
              "    .dataframe thead th {\n",
              "        text-align: right;\n",
              "    }\n",
              "</style>\n",
              "<table border=\"1\" class=\"dataframe\">\n",
              "  <thead>\n",
              "    <tr style=\"text-align: right;\">\n",
              "      <th></th>\n",
              "      <th>NM_MUN</th>\n",
              "      <th>SIGLA</th>\n",
              "      <th>AREA_KM2</th>\n",
              "      <th>geometry</th>\n",
              "    </tr>\n",
              "  </thead>\n",
              "  <tbody>\n",
              "    <tr>\n",
              "      <th>0</th>\n",
              "      <td>Alta Floresta D'Oeste</td>\n",
              "      <td>RO</td>\n",
              "      <td>7067.127</td>\n",
              "      <td>POLYGON ((-62.19465 -11.82746, -62.19332 -11.8...</td>\n",
              "    </tr>\n",
              "    <tr>\n",
              "      <th>1</th>\n",
              "      <td>Ariquemes</td>\n",
              "      <td>RO</td>\n",
              "      <td>4426.571</td>\n",
              "      <td>POLYGON ((-62.53648 -9.73222, -62.52765 -9.736...</td>\n",
              "    </tr>\n",
              "    <tr>\n",
              "      <th>2</th>\n",
              "      <td>Cabixi</td>\n",
              "      <td>RO</td>\n",
              "      <td>1314.352</td>\n",
              "      <td>POLYGON ((-60.37119 -13.36655, -60.37134 -13.3...</td>\n",
              "    </tr>\n",
              "    <tr>\n",
              "      <th>3</th>\n",
              "      <td>Cacoal</td>\n",
              "      <td>RO</td>\n",
              "      <td>3793.000</td>\n",
              "      <td>POLYGON ((-61.00080 -11.29737, -61.00103 -11.3...</td>\n",
              "    </tr>\n",
              "    <tr>\n",
              "      <th>4</th>\n",
              "      <td>Cerejeiras</td>\n",
              "      <td>RO</td>\n",
              "      <td>2783.300</td>\n",
              "      <td>POLYGON ((-61.49976 -13.00525, -61.49809 -13.0...</td>\n",
              "    </tr>\n",
              "  </tbody>\n",
              "</table>\n",
              "</div>\n",
              "      <button class=\"colab-df-convert\" onclick=\"convertToInteractive('df-3f0e87f9-1c2f-42f0-ade7-b74b452166e1')\"\n",
              "              title=\"Convert this dataframe to an interactive table.\"\n",
              "              style=\"display:none;\">\n",
              "        \n",
              "  <svg xmlns=\"http://www.w3.org/2000/svg\" height=\"24px\"viewBox=\"0 0 24 24\"\n",
              "       width=\"24px\">\n",
              "    <path d=\"M0 0h24v24H0V0z\" fill=\"none\"/>\n",
              "    <path d=\"M18.56 5.44l.94 2.06.94-2.06 2.06-.94-2.06-.94-.94-2.06-.94 2.06-2.06.94zm-11 1L8.5 8.5l.94-2.06 2.06-.94-2.06-.94L8.5 2.5l-.94 2.06-2.06.94zm10 10l.94 2.06.94-2.06 2.06-.94-2.06-.94-.94-2.06-.94 2.06-2.06.94z\"/><path d=\"M17.41 7.96l-1.37-1.37c-.4-.4-.92-.59-1.43-.59-.52 0-1.04.2-1.43.59L10.3 9.45l-7.72 7.72c-.78.78-.78 2.05 0 2.83L4 21.41c.39.39.9.59 1.41.59.51 0 1.02-.2 1.41-.59l7.78-7.78 2.81-2.81c.8-.78.8-2.07 0-2.86zM5.41 20L4 18.59l7.72-7.72 1.47 1.35L5.41 20z\"/>\n",
              "  </svg>\n",
              "      </button>\n",
              "      \n",
              "  <style>\n",
              "    .colab-df-container {\n",
              "      display:flex;\n",
              "      flex-wrap:wrap;\n",
              "      gap: 12px;\n",
              "    }\n",
              "\n",
              "    .colab-df-convert {\n",
              "      background-color: #E8F0FE;\n",
              "      border: none;\n",
              "      border-radius: 50%;\n",
              "      cursor: pointer;\n",
              "      display: none;\n",
              "      fill: #1967D2;\n",
              "      height: 32px;\n",
              "      padding: 0 0 0 0;\n",
              "      width: 32px;\n",
              "    }\n",
              "\n",
              "    .colab-df-convert:hover {\n",
              "      background-color: #E2EBFA;\n",
              "      box-shadow: 0px 1px 2px rgba(60, 64, 67, 0.3), 0px 1px 3px 1px rgba(60, 64, 67, 0.15);\n",
              "      fill: #174EA6;\n",
              "    }\n",
              "\n",
              "    [theme=dark] .colab-df-convert {\n",
              "      background-color: #3B4455;\n",
              "      fill: #D2E3FC;\n",
              "    }\n",
              "\n",
              "    [theme=dark] .colab-df-convert:hover {\n",
              "      background-color: #434B5C;\n",
              "      box-shadow: 0px 1px 3px 1px rgba(0, 0, 0, 0.15);\n",
              "      filter: drop-shadow(0px 1px 2px rgba(0, 0, 0, 0.3));\n",
              "      fill: #FFFFFF;\n",
              "    }\n",
              "  </style>\n",
              "\n",
              "      <script>\n",
              "        const buttonEl =\n",
              "          document.querySelector('#df-3f0e87f9-1c2f-42f0-ade7-b74b452166e1 button.colab-df-convert');\n",
              "        buttonEl.style.display =\n",
              "          google.colab.kernel.accessAllowed ? 'block' : 'none';\n",
              "\n",
              "        async function convertToInteractive(key) {\n",
              "          const element = document.querySelector('#df-3f0e87f9-1c2f-42f0-ade7-b74b452166e1');\n",
              "          const dataTable =\n",
              "            await google.colab.kernel.invokeFunction('convertToInteractive',\n",
              "                                                     [key], {});\n",
              "          if (!dataTable) return;\n",
              "\n",
              "          const docLinkHtml = 'Like what you see? Visit the ' +\n",
              "            '<a target=\"_blank\" href=https://colab.research.google.com/notebooks/data_table.ipynb>data table notebook</a>'\n",
              "            + ' to learn more about interactive tables.';\n",
              "          element.innerHTML = '';\n",
              "          dataTable['output_type'] = 'display_data';\n",
              "          await google.colab.output.renderOutput(dataTable, element);\n",
              "          const docLink = document.createElement('div');\n",
              "          docLink.innerHTML = docLinkHtml;\n",
              "          element.appendChild(docLink);\n",
              "        }\n",
              "      </script>\n",
              "    </div>\n",
              "  </div>\n",
              "  "
            ]
          },
          "metadata": {},
          "execution_count": 8
        }
      ],
      "source": [
        "dados = dados[['NM_MUN', 'SIGLA', 'AREA_KM2', 'geometry']]\n",
        "dados.head()"
      ]
    },
    {
      "cell_type": "code",
      "execution_count": null,
      "id": "758a9a8e",
      "metadata": {
        "id": "758a9a8e",
        "outputId": "aeda150b-9067-46c0-adb6-857e35a253c8",
        "colab": {
          "base_uri": "https://localhost:8080/"
        }
      },
      "outputs": [
        {
          "output_type": "execute_result",
          "data": {
            "text/plain": [
              "(5572, 4)"
            ]
          },
          "metadata": {},
          "execution_count": 9
        }
      ],
      "source": [
        "dados.shape"
      ]
    },
    {
      "cell_type": "code",
      "execution_count": null,
      "id": "51712110",
      "metadata": {
        "id": "51712110",
        "outputId": "b64c91a5-a555-4dbd-b0b5-c5c4f9dbe3ab",
        "colab": {
          "base_uri": "https://localhost:8080/"
        }
      },
      "outputs": [
        {
          "output_type": "stream",
          "name": "stdout",
          "text": [
            "O número de linhas é: 5572\n",
            "O número de colunas é: 4\n"
          ]
        }
      ],
      "source": [
        "# Verificando o número de linhas e colunas\n",
        "print(f'O número de linhas é: {dados.shape[0]}')\n",
        "print(f'O número de colunas é: {dados.shape[1]}')"
      ]
    },
    {
      "cell_type": "code",
      "execution_count": null,
      "id": "bba4d488",
      "metadata": {
        "id": "bba4d488",
        "outputId": "0ad0e840-5a10-435b-8ad9-8b68d597714f",
        "colab": {
          "base_uri": "https://localhost:8080/",
          "height": 253
        }
      },
      "outputs": [
        {
          "output_type": "execute_result",
          "data": {
            "text/plain": [
              "<matplotlib.axes._subplots.AxesSubplot at 0x7f3b4a23b610>"
            ]
          },
          "metadata": {},
          "execution_count": 12
        },
        {
          "output_type": "display_data",
          "data": {
            "text/plain": [
              "<Figure size 432x288 with 1 Axes>"
            ],
            "image/png": "[encoded data removed]"
          },
          "metadata": {
            "needs_background": "light"
          }
        }
      ],
      "source": [
        "dados.plot()"
      ]
    },
    {
      "cell_type": "code",
      "execution_count": null,
      "id": "98006855",
      "metadata": {
        "id": "98006855",
        "outputId": "5a96e735-72e1-478f-9588-216681de5d77",
        "colab": {
          "base_uri": "https://localhost:8080/"
        }
      },
      "outputs": [
        {
          "output_type": "stream",
          "name": "stdout",
          "text": [
            "O polígono de índice 0 possui uma área de 0.59 m²\n",
            "O polígono de índice 1 possui uma área de 0.36 m²\n",
            "O polígono de índice 2 possui uma área de 0.11 m²\n",
            "O polígono de índice 3 possui uma área de 0.31 m²\n",
            "O polígono de índice 4 possui uma área de 0.23 m²\n",
            "O polígono de índice 5 possui uma área de 0.12 m²\n",
            "O polígono de índice 6 possui uma área de 0.25 m²\n",
            "O polígono de índice 7 possui uma área de 0.41 m²\n",
            "O polígono de índice 8 possui uma área de 0.37 m²\n",
            "O polígono de índice 9 possui uma área de 2.06 m²\n"
          ]
        }
      ],
      "source": [
        "for indice, linha in dados[0:10].iterrows():\n",
        "    area_polig = linha['geometry'].area\n",
        "    print(f\"O polígono de índice {indice} possui uma área de {area_polig:.2f} m²\")\n",
        "    "
      ]
    },
    {
      "cell_type": "code",
      "execution_count": null,
      "id": "819cabab",
      "metadata": {
        "id": "819cabab",
        "outputId": "bd21717d-055b-4124-bcfd-9d07761deb02",
        "colab": {
          "base_uri": "https://localhost:8080/",
          "height": 278
        }
      },
      "outputs": [
        {
          "output_type": "stream",
          "name": "stderr",
          "text": [
            "<ipython-input-14-93ed8c99164c>:2: UserWarning: Geometry is in a geographic CRS. Results from 'area' are likely incorrect. Use 'GeoSeries.to_crs()' to re-project geometries to a projected CRS before this operation.\n",
            "\n",
            "  dados['Area'] = dados.area\n"
          ]
        },
        {
          "output_type": "execute_result",
          "data": {
            "text/plain": [
              "                  NM_MUN SIGLA  AREA_KM2  \\\n",
              "0  Alta Floresta D'Oeste    RO  7067.127   \n",
              "1              Ariquemes    RO  4426.571   \n",
              "2                 Cabixi    RO  1314.352   \n",
              "3                 Cacoal    RO  3793.000   \n",
              "4             Cerejeiras    RO  2783.300   \n",
              "\n",
              "                                            geometry      Area  \n",
              "0  POLYGON ((-62.19465 -11.82746, -62.19332 -11.8...  0.587657  \n",
              "1  POLYGON ((-62.53648 -9.73222, -62.52765 -9.736...  0.364965  \n",
              "2  POLYGON ((-60.37119 -13.36655, -60.37134 -13.3...  0.109724  \n",
              "3  POLYGON ((-61.00080 -11.29737, -61.00103 -11.3...  0.314085  \n",
              "4  POLYGON ((-61.49976 -13.00525, -61.49809 -13.0...  0.232089  "
            ],
            "text/html": [
              "\n",
              "  <div id=\"df-6a9b483f-5f3d-411b-8008-2775f57cf251\">\n",
              "    <div class=\"colab-df-container\">\n",
              "      <div>\n",
              "<style scoped>\n",
              "    .dataframe tbody tr th:only-of-type {\n",
              "        vertical-align: middle;\n",
              "    }\n",
              "\n",
              "    .dataframe tbody tr th {\n",
              "        vertical-align: top;\n",
              "    }\n",
              "\n",
              "    .dataframe thead th {\n",
              "        text-align: right;\n",
              "    }\n",
              "</style>\n",
              "<table border=\"1\" class=\"dataframe\">\n",
              "  <thead>\n",
              "    <tr style=\"text-align: right;\">\n",
              "      <th></th>\n",
              "      <th>NM_MUN</th>\n",
              "      <th>SIGLA</th>\n",
              "      <th>AREA_KM2</th>\n",
              "      <th>geometry</th>\n",
              "      <th>Area</th>\n",
              "    </tr>\n",
              "  </thead>\n",
              "  <tbody>\n",
              "    <tr>\n",
              "      <th>0</th>\n",
              "      <td>Alta Floresta D'Oeste</td>\n",
              "      <td>RO</td>\n",
              "      <td>7067.127</td>\n",
              "      <td>POLYGON ((-62.19465 -11.82746, -62.19332 -11.8...</td>\n",
              "      <td>0.587657</td>\n",
              "    </tr>\n",
              "    <tr>\n",
              "      <th>1</th>\n",
              "      <td>Ariquemes</td>\n",
              "      <td>RO</td>\n",
              "      <td>4426.571</td>\n",
              "      <td>POLYGON ((-62.53648 -9.73222, -62.52765 -9.736...</td>\n",
              "      <td>0.364965</td>\n",
              "    </tr>\n",
              "    <tr>\n",
              "      <th>2</th>\n",
              "      <td>Cabixi</td>\n",
              "      <td>RO</td>\n",
              "      <td>1314.352</td>\n",
              "      <td>POLYGON ((-60.37119 -13.36655, -60.37134 -13.3...</td>\n",
              "      <td>0.109724</td>\n",
              "    </tr>\n",
              "    <tr>\n",
              "      <th>3</th>\n",
              "      <td>Cacoal</td>\n",
              "      <td>RO</td>\n",
              "      <td>3793.000</td>\n",
              "      <td>POLYGON ((-61.00080 -11.29737, -61.00103 -11.3...</td>\n",
              "      <td>0.314085</td>\n",
              "    </tr>\n",
              "    <tr>\n",
              "      <th>4</th>\n",
              "      <td>Cerejeiras</td>\n",
              "      <td>RO</td>\n",
              "      <td>2783.300</td>\n",
              "      <td>POLYGON ((-61.49976 -13.00525, -61.49809 -13.0...</td>\n",
              "      <td>0.232089</td>\n",
              "    </tr>\n",
              "  </tbody>\n",
              "</table>\n",
              "</div>\n",
              "      <button class=\"colab-df-convert\" onclick=\"convertToInteractive('df-6a9b483f-5f3d-411b-8008-2775f57cf251')\"\n",
              "              title=\"Convert this dataframe to an interactive table.\"\n",
              "              style=\"display:none;\">\n",
              "        \n",
              "  <svg xmlns=\"http://www.w3.org/2000/svg\" height=\"24px\"viewBox=\"0 0 24 24\"\n",
              "       width=\"24px\">\n",
              "    <path d=\"M0 0h24v24H0V0z\" fill=\"none\"/>\n",
              "    <path d=\"M18.56 5.44l.94 2.06.94-2.06 2.06-.94-2.06-.94-.94-2.06-.94 2.06-2.06.94zm-11 1L8.5 8.5l.94-2.06 2.06-.94-2.06-.94L8.5 2.5l-.94 2.06-2.06.94zm10 10l.94 2.06.94-2.06 2.06-.94-2.06-.94-.94-2.06-.94 2.06-2.06.94z\"/><path d=\"M17.41 7.96l-1.37-1.37c-.4-.4-.92-.59-1.43-.59-.52 0-1.04.2-1.43.59L10.3 9.45l-7.72 7.72c-.78.78-.78 2.05 0 2.83L4 21.41c.39.39.9.59 1.41.59.51 0 1.02-.2 1.41-.59l7.78-7.78 2.81-2.81c.8-.78.8-2.07 0-2.86zM5.41 20L4 18.59l7.72-7.72 1.47 1.35L5.41 20z\"/>\n",
              "  </svg>\n",
              "      </button>\n",
              "      \n",
              "  <style>\n",
              "    .colab-df-container {\n",
              "      display:flex;\n",
              "      flex-wrap:wrap;\n",
              "      gap: 12px;\n",
              "    }\n",
              "\n",
              "    .colab-df-convert {\n",
              "      background-color: #E8F0FE;\n",
              "      border: none;\n",
              "      border-radius: 50%;\n",
              "      cursor: pointer;\n",
              "      display: none;\n",
              "      fill: #1967D2;\n",
              "      height: 32px;\n",
              "      padding: 0 0 0 0;\n",
              "      width: 32px;\n",
              "    }\n",
              "\n",
              "    .colab-df-convert:hover {\n",
              "      background-color: #E2EBFA;\n",
              "      box-shadow: 0px 1px 2px rgba(60, 64, 67, 0.3), 0px 1px 3px 1px rgba(60, 64, 67, 0.15);\n",
              "      fill: #174EA6;\n",
              "    }\n",
              "\n",
              "    [theme=dark] .colab-df-convert {\n",
              "      background-color: #3B4455;\n",
              "      fill: #D2E3FC;\n",
              "    }\n",
              "\n",
              "    [theme=dark] .colab-df-convert:hover {\n",
              "      background-color: #434B5C;\n",
              "      box-shadow: 0px 1px 3px 1px rgba(0, 0, 0, 0.15);\n",
              "      filter: drop-shadow(0px 1px 2px rgba(0, 0, 0, 0.3));\n",
              "      fill: #FFFFFF;\n",
              "    }\n",
              "  </style>\n",
              "\n",
              "      <script>\n",
              "        const buttonEl =\n",
              "          document.querySelector('#df-6a9b483f-5f3d-411b-8008-2775f57cf251 button.colab-df-convert');\n",
              "        buttonEl.style.display =\n",
              "          google.colab.kernel.accessAllowed ? 'block' : 'none';\n",
              "\n",
              "        async function convertToInteractive(key) {\n",
              "          const element = document.querySelector('#df-6a9b483f-5f3d-411b-8008-2775f57cf251');\n",
              "          const dataTable =\n",
              "            await google.colab.kernel.invokeFunction('convertToInteractive',\n",
              "                                                     [key], {});\n",
              "          if (!dataTable) return;\n",
              "\n",
              "          const docLinkHtml = 'Like what you see? Visit the ' +\n",
              "            '<a target=\"_blank\" href=https://colab.research.google.com/notebooks/data_table.ipynb>data table notebook</a>'\n",
              "            + ' to learn more about interactive tables.';\n",
              "          element.innerHTML = '';\n",
              "          dataTable['output_type'] = 'display_data';\n",
              "          await google.colab.output.renderOutput(dataTable, element);\n",
              "          const docLink = document.createElement('div');\n",
              "          docLink.innerHTML = docLinkHtml;\n",
              "          element.appendChild(docLink);\n",
              "        }\n",
              "      </script>\n",
              "    </div>\n",
              "  </div>\n",
              "  "
            ]
          },
          "metadata": {},
          "execution_count": 14
        }
      ],
      "source": [
        "# Criar uma coluna área \n",
        "dados['Area'] = dados.area\n",
        "dados.head()"
      ]
    },
    {
      "cell_type": "code",
      "execution_count": null,
      "id": "b8a7434f",
      "metadata": {
        "id": "b8a7434f",
        "outputId": "f9f78d70-c61c-4ebb-8ac9-79d1e401704c",
        "colab": {
          "base_uri": "https://localhost:8080/",
          "height": 206
        }
      },
      "outputs": [
        {
          "output_type": "execute_result",
          "data": {
            "text/plain": [
              "                  NM_MUN SIGLA  AREA_KM2  \\\n",
              "0  Alta Floresta D'Oeste    RO  7067.127   \n",
              "1              Ariquemes    RO  4426.571   \n",
              "2                 Cabixi    RO  1314.352   \n",
              "3                 Cacoal    RO  3793.000   \n",
              "4             Cerejeiras    RO  2783.300   \n",
              "\n",
              "                                            geometry  \n",
              "0  POLYGON ((-62.19465 -11.82746, -62.19332 -11.8...  \n",
              "1  POLYGON ((-62.53648 -9.73222, -62.52765 -9.736...  \n",
              "2  POLYGON ((-60.37119 -13.36655, -60.37134 -13.3...  \n",
              "3  POLYGON ((-61.00080 -11.29737, -61.00103 -11.3...  \n",
              "4  POLYGON ((-61.49976 -13.00525, -61.49809 -13.0...  "
            ],
            "text/html": [
              "\n",
              "  <div id=\"df-ee483647-f427-49ac-9c65-10e44cf6332d\">\n",
              "    <div class=\"colab-df-container\">\n",
              "      <div>\n",
              "<style scoped>\n",
              "    .dataframe tbody tr th:only-of-type {\n",
              "        vertical-align: middle;\n",
              "    }\n",
              "\n",
              "    .dataframe tbody tr th {\n",
              "        vertical-align: top;\n",
              "    }\n",
              "\n",
              "    .dataframe thead th {\n",
              "        text-align: right;\n",
              "    }\n",
              "</style>\n",
              "<table border=\"1\" class=\"dataframe\">\n",
              "  <thead>\n",
              "    <tr style=\"text-align: right;\">\n",
              "      <th></th>\n",
              "      <th>NM_MUN</th>\n",
              "      <th>SIGLA</th>\n",
              "      <th>AREA_KM2</th>\n",
              "      <th>geometry</th>\n",
              "    </tr>\n",
              "  </thead>\n",
              "  <tbody>\n",
              "    <tr>\n",
              "      <th>0</th>\n",
              "      <td>Alta Floresta D'Oeste</td>\n",
              "      <td>RO</td>\n",
              "      <td>7067.127</td>\n",
              "      <td>POLYGON ((-62.19465 -11.82746, -62.19332 -11.8...</td>\n",
              "    </tr>\n",
              "    <tr>\n",
              "      <th>1</th>\n",
              "      <td>Ariquemes</td>\n",
              "      <td>RO</td>\n",
              "      <td>4426.571</td>\n",
              "      <td>POLYGON ((-62.53648 -9.73222, -62.52765 -9.736...</td>\n",
              "    </tr>\n",
              "    <tr>\n",
              "      <th>2</th>\n",
              "      <td>Cabixi</td>\n",
              "      <td>RO</td>\n",
              "      <td>1314.352</td>\n",
              "      <td>POLYGON ((-60.37119 -13.36655, -60.37134 -13.3...</td>\n",
              "    </tr>\n",
              "    <tr>\n",
              "      <th>3</th>\n",
              "      <td>Cacoal</td>\n",
              "      <td>RO</td>\n",
              "      <td>3793.000</td>\n",
              "      <td>POLYGON ((-61.00080 -11.29737, -61.00103 -11.3...</td>\n",
              "    </tr>\n",
              "    <tr>\n",
              "      <th>4</th>\n",
              "      <td>Cerejeiras</td>\n",
              "      <td>RO</td>\n",
              "      <td>2783.300</td>\n",
              "      <td>POLYGON ((-61.49976 -13.00525, -61.49809 -13.0...</td>\n",
              "    </tr>\n",
              "  </tbody>\n",
              "</table>\n",
              "</div>\n",
              "      <button class=\"colab-df-convert\" onclick=\"convertToInteractive('df-ee483647-f427-49ac-9c65-10e44cf6332d')\"\n",
              "              title=\"Convert this dataframe to an interactive table.\"\n",
              "              style=\"display:none;\">\n",
              "        \n",
              "  <svg xmlns=\"http://www.w3.org/2000/svg\" height=\"24px\"viewBox=\"0 0 24 24\"\n",
              "       width=\"24px\">\n",
              "    <path d=\"M0 0h24v24H0V0z\" fill=\"none\"/>\n",
              "    <path d=\"M18.56 5.44l.94 2.06.94-2.06 2.06-.94-2.06-.94-.94-2.06-.94 2.06-2.06.94zm-11 1L8.5 8.5l.94-2.06 2.06-.94-2.06-.94L8.5 2.5l-.94 2.06-2.06.94zm10 10l.94 2.06.94-2.06 2.06-.94-2.06-.94-.94-2.06-.94 2.06-2.06.94z\"/><path d=\"M17.41 7.96l-1.37-1.37c-.4-.4-.92-.59-1.43-.59-.52 0-1.04.2-1.43.59L10.3 9.45l-7.72 7.72c-.78.78-.78 2.05 0 2.83L4 21.41c.39.39.9.59 1.41.59.51 0 1.02-.2 1.41-.59l7.78-7.78 2.81-2.81c.8-.78.8-2.07 0-2.86zM5.41 20L4 18.59l7.72-7.72 1.47 1.35L5.41 20z\"/>\n",
              "  </svg>\n",
              "      </button>\n",
              "      \n",
              "  <style>\n",
              "    .colab-df-container {\n",
              "      display:flex;\n",
              "      flex-wrap:wrap;\n",
              "      gap: 12px;\n",
              "    }\n",
              "\n",
              "    .colab-df-convert {\n",
              "      background-color: #E8F0FE;\n",
              "      border: none;\n",
              "      border-radius: 50%;\n",
              "      cursor: pointer;\n",
              "      display: none;\n",
              "      fill: #1967D2;\n",
              "      height: 32px;\n",
              "      padding: 0 0 0 0;\n",
              "      width: 32px;\n",
              "    }\n",
              "\n",
              "    .colab-df-convert:hover {\n",
              "      background-color: #E2EBFA;\n",
              "      box-shadow: 0px 1px 2px rgba(60, 64, 67, 0.3), 0px 1px 3px 1px rgba(60, 64, 67, 0.15);\n",
              "      fill: #174EA6;\n",
              "    }\n",
              "\n",
              "    [theme=dark] .colab-df-convert {\n",
              "      background-color: #3B4455;\n",
              "      fill: #D2E3FC;\n",
              "    }\n",
              "\n",
              "    [theme=dark] .colab-df-convert:hover {\n",
              "      background-color: #434B5C;\n",
              "      box-shadow: 0px 1px 3px 1px rgba(0, 0, 0, 0.15);\n",
              "      filter: drop-shadow(0px 1px 2px rgba(0, 0, 0, 0.3));\n",
              "      fill: #FFFFFF;\n",
              "    }\n",
              "  </style>\n",
              "\n",
              "      <script>\n",
              "        const buttonEl =\n",
              "          document.querySelector('#df-ee483647-f427-49ac-9c65-10e44cf6332d button.colab-df-convert');\n",
              "        buttonEl.style.display =\n",
              "          google.colab.kernel.accessAllowed ? 'block' : 'none';\n",
              "\n",
              "        async function convertToInteractive(key) {\n",
              "          const element = document.querySelector('#df-ee483647-f427-49ac-9c65-10e44cf6332d');\n",
              "          const dataTable =\n",
              "            await google.colab.kernel.invokeFunction('convertToInteractive',\n",
              "                                                     [key], {});\n",
              "          if (!dataTable) return;\n",
              "\n",
              "          const docLinkHtml = 'Like what you see? Visit the ' +\n",
              "            '<a target=\"_blank\" href=https://colab.research.google.com/notebooks/data_table.ipynb>data table notebook</a>'\n",
              "            + ' to learn more about interactive tables.';\n",
              "          element.innerHTML = '';\n",
              "          dataTable['output_type'] = 'display_data';\n",
              "          await google.colab.output.renderOutput(dataTable, element);\n",
              "          const docLink = document.createElement('div');\n",
              "          docLink.innerHTML = docLinkHtml;\n",
              "          element.appendChild(docLink);\n",
              "        }\n",
              "      </script>\n",
              "    </div>\n",
              "  </div>\n",
              "  "
            ]
          },
          "metadata": {},
          "execution_count": 15
        }
      ],
      "source": [
        "dados = dados.drop(columns=['Area'])\n",
        "dados.head()"
      ]
    },
    {
      "cell_type": "code",
      "execution_count": null,
      "id": "21062938",
      "metadata": {
        "id": "21062938",
        "outputId": "9279c348-14b8-4539-a11e-01ab417658a2",
        "colab": {
          "base_uri": "https://localhost:8080/",
          "height": 206
        }
      },
      "outputs": [
        {
          "output_type": "execute_result",
          "data": {
            "text/plain": [
              "                  NM_MUN SIGLA  AREA_KM2  \\\n",
              "0  Alta Floresta D'Oeste    RO  7067.127   \n",
              "1              Ariquemes    RO  4426.571   \n",
              "2                 Cabixi    RO  1314.352   \n",
              "3                 Cacoal    RO  3793.000   \n",
              "4             Cerejeiras    RO  2783.300   \n",
              "\n",
              "                                            geometry   AREA_HA  \n",
              "0  POLYGON ((-62.19465 -11.82746, -62.19332 -11.8...  706712.7  \n",
              "1  POLYGON ((-62.53648 -9.73222, -62.52765 -9.736...  442657.1  \n",
              "2  POLYGON ((-60.37119 -13.36655, -60.37134 -13.3...  131435.2  \n",
              "3  POLYGON ((-61.00080 -11.29737, -61.00103 -11.3...  379300.0  \n",
              "4  POLYGON ((-61.49976 -13.00525, -61.49809 -13.0...  278330.0  "
            ],
            "text/html": [
              "\n",
              "  <div id=\"df-c1f4d8ca-c2f4-4d42-bba6-2741dac687c6\">\n",
              "    <div class=\"colab-df-container\">\n",
              "      <div>\n",
              "<style scoped>\n",
              "    .dataframe tbody tr th:only-of-type {\n",
              "        vertical-align: middle;\n",
              "    }\n",
              "\n",
              "    .dataframe tbody tr th {\n",
              "        vertical-align: top;\n",
              "    }\n",
              "\n",
              "    .dataframe thead th {\n",
              "        text-align: right;\n",
              "    }\n",
              "</style>\n",
              "<table border=\"1\" class=\"dataframe\">\n",
              "  <thead>\n",
              "    <tr style=\"text-align: right;\">\n",
              "      <th></th>\n",
              "      <th>NM_MUN</th>\n",
              "      <th>SIGLA</th>\n",
              "      <th>AREA_KM2</th>\n",
              "      <th>geometry</th>\n",
              "      <th>AREA_HA</th>\n",
              "    </tr>\n",
              "  </thead>\n",
              "  <tbody>\n",
              "    <tr>\n",
              "      <th>0</th>\n",
              "      <td>Alta Floresta D'Oeste</td>\n",
              "      <td>RO</td>\n",
              "      <td>7067.127</td>\n",
              "      <td>POLYGON ((-62.19465 -11.82746, -62.19332 -11.8...</td>\n",
              "      <td>706712.7</td>\n",
              "    </tr>\n",
              "    <tr>\n",
              "      <th>1</th>\n",
              "      <td>Ariquemes</td>\n",
              "      <td>RO</td>\n",
              "      <td>4426.571</td>\n",
              "      <td>POLYGON ((-62.53648 -9.73222, -62.52765 -9.736...</td>\n",
              "      <td>442657.1</td>\n",
              "    </tr>\n",
              "    <tr>\n",
              "      <th>2</th>\n",
              "      <td>Cabixi</td>\n",
              "      <td>RO</td>\n",
              "      <td>1314.352</td>\n",
              "      <td>POLYGON ((-60.37119 -13.36655, -60.37134 -13.3...</td>\n",
              "      <td>131435.2</td>\n",
              "    </tr>\n",
              "    <tr>\n",
              "      <th>3</th>\n",
              "      <td>Cacoal</td>\n",
              "      <td>RO</td>\n",
              "      <td>3793.000</td>\n",
              "      <td>POLYGON ((-61.00080 -11.29737, -61.00103 -11.3...</td>\n",
              "      <td>379300.0</td>\n",
              "    </tr>\n",
              "    <tr>\n",
              "      <th>4</th>\n",
              "      <td>Cerejeiras</td>\n",
              "      <td>RO</td>\n",
              "      <td>2783.300</td>\n",
              "      <td>POLYGON ((-61.49976 -13.00525, -61.49809 -13.0...</td>\n",
              "      <td>278330.0</td>\n",
              "    </tr>\n",
              "  </tbody>\n",
              "</table>\n",
              "</div>\n",
              "      <button class=\"colab-df-convert\" onclick=\"convertToInteractive('df-c1f4d8ca-c2f4-4d42-bba6-2741dac687c6')\"\n",
              "              title=\"Convert this dataframe to an interactive table.\"\n",
              "              style=\"display:none;\">\n",
              "        \n",
              "  <svg xmlns=\"http://www.w3.org/2000/svg\" height=\"24px\"viewBox=\"0 0 24 24\"\n",
              "       width=\"24px\">\n",
              "    <path d=\"M0 0h24v24H0V0z\" fill=\"none\"/>\n",
              "    <path d=\"M18.56 5.44l.94 2.06.94-2.06 2.06-.94-2.06-.94-.94-2.06-.94 2.06-2.06.94zm-11 1L8.5 8.5l.94-2.06 2.06-.94-2.06-.94L8.5 2.5l-.94 2.06-2.06.94zm10 10l.94 2.06.94-2.06 2.06-.94-2.06-.94-.94-2.06-.94 2.06-2.06.94z\"/><path d=\"M17.41 7.96l-1.37-1.37c-.4-.4-.92-.59-1.43-.59-.52 0-1.04.2-1.43.59L10.3 9.45l-7.72 7.72c-.78.78-.78 2.05 0 2.83L4 21.41c.39.39.9.59 1.41.59.51 0 1.02-.2 1.41-.59l7.78-7.78 2.81-2.81c.8-.78.8-2.07 0-2.86zM5.41 20L4 18.59l7.72-7.72 1.47 1.35L5.41 20z\"/>\n",
              "  </svg>\n",
              "      </button>\n",
              "      \n",
              "  <style>\n",
              "    .colab-df-container {\n",
              "      display:flex;\n",
              "      flex-wrap:wrap;\n",
              "      gap: 12px;\n",
              "    }\n",
              "\n",
              "    .colab-df-convert {\n",
              "      background-color: #E8F0FE;\n",
              "      border: none;\n",
              "      border-radius: 50%;\n",
              "      cursor: pointer;\n",
              "      display: none;\n",
              "      fill: #1967D2;\n",
              "      height: 32px;\n",
              "      padding: 0 0 0 0;\n",
              "      width: 32px;\n",
              "    }\n",
              "\n",
              "    .colab-df-convert:hover {\n",
              "      background-color: #E2EBFA;\n",
              "      box-shadow: 0px 1px 2px rgba(60, 64, 67, 0.3), 0px 1px 3px 1px rgba(60, 64, 67, 0.15);\n",
              "      fill: #174EA6;\n",
              "    }\n",
              "\n",
              "    [theme=dark] .colab-df-convert {\n",
              "      background-color: #3B4455;\n",
              "      fill: #D2E3FC;\n",
              "    }\n",
              "\n",
              "    [theme=dark] .colab-df-convert:hover {\n",
              "      background-color: #434B5C;\n",
              "      box-shadow: 0px 1px 3px 1px rgba(0, 0, 0, 0.15);\n",
              "      filter: drop-shadow(0px 1px 2px rgba(0, 0, 0, 0.3));\n",
              "      fill: #FFFFFF;\n",
              "    }\n",
              "  </style>\n",
              "\n",
              "      <script>\n",
              "        const buttonEl =\n",
              "          document.querySelector('#df-c1f4d8ca-c2f4-4d42-bba6-2741dac687c6 button.colab-df-convert');\n",
              "        buttonEl.style.display =\n",
              "          google.colab.kernel.accessAllowed ? 'block' : 'none';\n",
              "\n",
              "        async function convertToInteractive(key) {\n",
              "          const element = document.querySelector('#df-c1f4d8ca-c2f4-4d42-bba6-2741dac687c6');\n",
              "          const dataTable =\n",
              "            await google.colab.kernel.invokeFunction('convertToInteractive',\n",
              "                                                     [key], {});\n",
              "          if (!dataTable) return;\n",
              "\n",
              "          const docLinkHtml = 'Like what you see? Visit the ' +\n",
              "            '<a target=\"_blank\" href=https://colab.research.google.com/notebooks/data_table.ipynb>data table notebook</a>'\n",
              "            + ' to learn more about interactive tables.';\n",
              "          element.innerHTML = '';\n",
              "          dataTable['output_type'] = 'display_data';\n",
              "          await google.colab.output.renderOutput(dataTable, element);\n",
              "          const docLink = document.createElement('div');\n",
              "          docLink.innerHTML = docLinkHtml;\n",
              "          element.appendChild(docLink);\n",
              "        }\n",
              "      </script>\n",
              "    </div>\n",
              "  </div>\n",
              "  "
            ]
          },
          "metadata": {},
          "execution_count": 16
        }
      ],
      "source": [
        "dados['AREA_HA'] = dados['AREA_KM2'] * 100\n",
        "dados.head()"
      ]
    },
    {
      "cell_type": "code",
      "execution_count": null,
      "id": "4e040e20",
      "metadata": {
        "id": "4e040e20",
        "outputId": "c23980df-3b16-4ff2-ce95-bb61be1bf982",
        "colab": {
          "base_uri": "https://localhost:8080/"
        }
      },
      "outputs": [
        {
          "output_type": "execute_result",
          "data": {
            "text/plain": [
              "159533.31"
            ]
          },
          "metadata": {},
          "execution_count": 17
        }
      ],
      "source": [
        "# área máxima em km2\n",
        "round(dados['AREA_KM2'].max(), 2)"
      ]
    },
    {
      "cell_type": "code",
      "execution_count": null,
      "id": "06c97040",
      "metadata": {
        "id": "06c97040",
        "outputId": "a9acf0b7-1c6d-41fa-91fa-8e066495b315",
        "colab": {
          "base_uri": "https://localhost:8080/"
        }
      },
      "outputs": [
        {
          "output_type": "execute_result",
          "data": {
            "text/plain": [
              "3.565"
            ]
          },
          "metadata": {},
          "execution_count": 18
        }
      ],
      "source": [
        "dados['AREA_KM2'].min()"
      ]
    },
    {
      "cell_type": "code",
      "execution_count": null,
      "id": "399bbf73",
      "metadata": {
        "id": "399bbf73",
        "outputId": "0973936b-089c-4e53-92ee-62be9ad4223a",
        "colab": {
          "base_uri": "https://localhost:8080/"
        }
      },
      "outputs": [
        {
          "output_type": "execute_result",
          "data": {
            "text/plain": [
              "1527.3412670495336"
            ]
          },
          "metadata": {},
          "execution_count": 19
        }
      ],
      "source": [
        "dados['AREA_KM2'].mean()"
      ]
    },
    {
      "cell_type": "code",
      "execution_count": null,
      "id": "d35da5a3",
      "metadata": {
        "id": "d35da5a3",
        "outputId": "0e9f888a-ed6e-4848-e339-4f4846f9612e",
        "colab": {
          "base_uri": "https://localhost:8080/"
        }
      },
      "outputs": [
        {
          "output_type": "execute_result",
          "data": {
            "text/plain": [
              "1527.3412670495336"
            ]
          },
          "metadata": {},
          "execution_count": 20
        }
      ],
      "source": [
        "dados['AREA_KM2'].sum() / dados['AREA_KM2'].shape[0]"
      ]
    },
    {
      "cell_type": "markdown",
      "id": "76092501",
      "metadata": {
        "id": "76092501"
      },
      "source": [
        "# Selecionando um Estado e Salvando"
      ]
    },
    {
      "cell_type": "code",
      "execution_count": null,
      "id": "f3b9f439",
      "metadata": {
        "id": "f3b9f439"
      },
      "outputs": [],
      "source": [
        "select = dados.loc[dados['SIGLA'] == 'RR']"
      ]
    },
    {
      "cell_type": "code",
      "execution_count": null,
      "id": "cc6a3c03",
      "metadata": {
        "id": "cc6a3c03",
        "outputId": "d96fef8b-93f0-49c3-9f1e-7357c0d5bbfc",
        "colab": {
          "base_uri": "https://localhost:8080/",
          "height": 206
        }
      },
      "outputs": [
        {
          "output_type": "execute_result",
          "data": {
            "text/plain": [
              "             NM_MUN SIGLA  AREA_KM2 geometry   AREA_HA\n",
              "4311  Abdon Batista    SC   237.517     None   23751.7\n",
              "4312   Abelardo Luz    SC   953.992     None   95399.2\n",
              "4313     Agrolândia    SC   206.815     None   20681.5\n",
              "4314     Agronômica    SC   129.774     None   12977.4\n",
              "4315      Água Doce    SC  1319.137     None  131913.7"
            ],
            "text/html": [
              "\n",
              "  <div id=\"df-fe8cb31e-480d-451f-9868-652948cf1c91\">\n",
              "    <div class=\"colab-df-container\">\n",
              "      <div>\n",
              "<style scoped>\n",
              "    .dataframe tbody tr th:only-of-type {\n",
              "        vertical-align: middle;\n",
              "    }\n",
              "\n",
              "    .dataframe tbody tr th {\n",
              "        vertical-align: top;\n",
              "    }\n",
              "\n",
              "    .dataframe thead th {\n",
              "        text-align: right;\n",
              "    }\n",
              "</style>\n",
              "<table border=\"1\" class=\"dataframe\">\n",
              "  <thead>\n",
              "    <tr style=\"text-align: right;\">\n",
              "      <th></th>\n",
              "      <th>NM_MUN</th>\n",
              "      <th>SIGLA</th>\n",
              "      <th>AREA_KM2</th>\n",
              "      <th>geometry</th>\n",
              "      <th>AREA_HA</th>\n",
              "    </tr>\n",
              "  </thead>\n",
              "  <tbody>\n",
              "    <tr>\n",
              "      <th>4311</th>\n",
              "      <td>Abdon Batista</td>\n",
              "      <td>SC</td>\n",
              "      <td>237.517</td>\n",
              "      <td>None</td>\n",
              "      <td>23751.7</td>\n",
              "    </tr>\n",
              "    <tr>\n",
              "      <th>4312</th>\n",
              "      <td>Abelardo Luz</td>\n",
              "      <td>SC</td>\n",
              "      <td>953.992</td>\n",
              "      <td>None</td>\n",
              "      <td>95399.2</td>\n",
              "    </tr>\n",
              "    <tr>\n",
              "      <th>4313</th>\n",
              "      <td>Agrolândia</td>\n",
              "      <td>SC</td>\n",
              "      <td>206.815</td>\n",
              "      <td>None</td>\n",
              "      <td>20681.5</td>\n",
              "    </tr>\n",
              "    <tr>\n",
              "      <th>4314</th>\n",
              "      <td>Agronômica</td>\n",
              "      <td>SC</td>\n",
              "      <td>129.774</td>\n",
              "      <td>None</td>\n",
              "      <td>12977.4</td>\n",
              "    </tr>\n",
              "    <tr>\n",
              "      <th>4315</th>\n",
              "      <td>Água Doce</td>\n",
              "      <td>SC</td>\n",
              "      <td>1319.137</td>\n",
              "      <td>None</td>\n",
              "      <td>131913.7</td>\n",
              "    </tr>\n",
              "  </tbody>\n",
              "</table>\n",
              "</div>\n",
              "      <button class=\"colab-df-convert\" onclick=\"convertToInteractive('df-fe8cb31e-480d-451f-9868-652948cf1c91')\"\n",
              "              title=\"Convert this dataframe to an interactive table.\"\n",
              "              style=\"display:none;\">\n",
              "        \n",
              "  <svg xmlns=\"http://www.w3.org/2000/svg\" height=\"24px\"viewBox=\"0 0 24 24\"\n",
              "       width=\"24px\">\n",
              "    <path d=\"M0 0h24v24H0V0z\" fill=\"none\"/>\n",
              "    <path d=\"M18.56 5.44l.94 2.06.94-2.06 2.06-.94-2.06-.94-.94-2.06-.94 2.06-2.06.94zm-11 1L8.5 8.5l.94-2.06 2.06-.94-2.06-.94L8.5 2.5l-.94 2.06-2.06.94zm10 10l.94 2.06.94-2.06 2.06-.94-2.06-.94-.94-2.06-.94 2.06-2.06.94z\"/><path d=\"M17.41 7.96l-1.37-1.37c-.4-.4-.92-.59-1.43-.59-.52 0-1.04.2-1.43.59L10.3 9.45l-7.72 7.72c-.78.78-.78 2.05 0 2.83L4 21.41c.39.39.9.59 1.41.59.51 0 1.02-.2 1.41-.59l7.78-7.78 2.81-2.81c.8-.78.8-2.07 0-2.86zM5.41 20L4 18.59l7.72-7.72 1.47 1.35L5.41 20z\"/>\n",
              "  </svg>\n",
              "      </button>\n",
              "      \n",
              "  <style>\n",
              "    .colab-df-container {\n",
              "      display:flex;\n",
              "      flex-wrap:wrap;\n",
              "      gap: 12px;\n",
              "    }\n",
              "\n",
              "    .colab-df-convert {\n",
              "      background-color: #E8F0FE;\n",
              "      border: none;\n",
              "      border-radius: 50%;\n",
              "      cursor: pointer;\n",
              "      display: none;\n",
              "      fill: #1967D2;\n",
              "      height: 32px;\n",
              "      padding: 0 0 0 0;\n",
              "      width: 32px;\n",
              "    }\n",
              "\n",
              "    .colab-df-convert:hover {\n",
              "      background-color: #E2EBFA;\n",
              "      box-shadow: 0px 1px 2px rgba(60, 64, 67, 0.3), 0px 1px 3px 1px rgba(60, 64, 67, 0.15);\n",
              "      fill: #174EA6;\n",
              "    }\n",
              "\n",
              "    [theme=dark] .colab-df-convert {\n",
              "      background-color: #3B4455;\n",
              "      fill: #D2E3FC;\n",
              "    }\n",
              "\n",
              "    [theme=dark] .colab-df-convert:hover {\n",
              "      background-color: #434B5C;\n",
              "      box-shadow: 0px 1px 3px 1px rgba(0, 0, 0, 0.15);\n",
              "      filter: drop-shadow(0px 1px 2px rgba(0, 0, 0, 0.3));\n",
              "      fill: #FFFFFF;\n",
              "    }\n",
              "  </style>\n",
              "\n",
              "      <script>\n",
              "        const buttonEl =\n",
              "          document.querySelector('#df-fe8cb31e-480d-451f-9868-652948cf1c91 button.colab-df-convert');\n",
              "        buttonEl.style.display =\n",
              "          google.colab.kernel.accessAllowed ? 'block' : 'none';\n",
              "\n",
              "        async function convertToInteractive(key) {\n",
              "          const element = document.querySelector('#df-fe8cb31e-480d-451f-9868-652948cf1c91');\n",
              "          const dataTable =\n",
              "            await google.colab.kernel.invokeFunction('convertToInteractive',\n",
              "                                                     [key], {});\n",
              "          if (!dataTable) return;\n",
              "\n",
              "          const docLinkHtml = 'Like what you see? Visit the ' +\n",
              "            '<a target=\"_blank\" href=https://colab.research.google.com/notebooks/data_table.ipynb>data table notebook</a>'\n",
              "            + ' to learn more about interactive tables.';\n",
              "          element.innerHTML = '';\n",
              "          dataTable['output_type'] = 'display_data';\n",
              "          await google.colab.output.renderOutput(dataTable, element);\n",
              "          const docLink = document.createElement('div');\n",
              "          docLink.innerHTML = docLinkHtml;\n",
              "          element.appendChild(docLink);\n",
              "        }\n",
              "      </script>\n",
              "    </div>\n",
              "  </div>\n",
              "  "
            ]
          },
          "metadata": {},
          "execution_count": 22
        }
      ],
      "source": [
        "select.head()"
      ]
    },
    {
      "cell_type": "code",
      "execution_count": null,
      "id": "48cfcef8",
      "metadata": {
        "id": "48cfcef8",
        "outputId": "42f62b1e-d371-4c67-cf68-8617d85aab37",
        "colab": {
          "base_uri": "https://localhost:8080/",
          "height": 282
        }
      },
      "outputs": [
        {
          "output_type": "execute_result",
          "data": {
            "text/plain": [
              "<matplotlib.axes._subplots.AxesSubplot at 0x7f3b49c433a0>"
            ]
          },
          "metadata": {},
          "execution_count": 25
        },
        {
          "output_type": "display_data",
          "data": {
            "text/plain": [
              "<Figure size 432x288 with 1 Axes>"
            ],
            "image/png": "[encoded data removed]"
          },
          "metadata": {
            "needs_background": "light"
          }
        }
      ],
      "source": [
        "select.plot()"
      ]
    },
    {
      "cell_type": "code",
      "execution_count": null,
      "id": "b0a813b6",
      "metadata": {
        "id": "b0a813b6"
      },
      "outputs": [],
      "source": [
        "pasta_saida = r\"/content/sample_data/RR_Municipios_2021\"\n",
        "\n",
        "# Criar pasta\n",
        "os.mkdir(pasta_saida)"
      ]
    },
    {
      "cell_type": "code",
      "execution_count": null,
      "id": "678a662f",
      "metadata": {
        "id": "678a662f",
        "outputId": "52359026-f43e-437b-943f-da81c715c2ba",
        "colab": {
          "base_uri": "https://localhost:8080/"
        }
      },
      "outputs": [
        {
          "output_type": "stream",
          "name": "stdout",
          "text": [
            "/content/sample_data/RR_Municipios_2021/RR_Municipios_2021.shp\n"
          ]
        }
      ],
      "source": [
        "arquivo_saida = os.path.join(pasta_saida, \"RR_Municipios_2021.shp\")\n",
        "print(arquivo_saida)"
      ]
    },
    {
      "cell_type": "code",
      "execution_count": null,
      "id": "3d1a473f",
      "metadata": {
        "id": "3d1a473f"
      },
      "outputs": [],
      "source": [
        "# Salvando o arquivo\n",
        "select.to_file(arquivo_saida)"
      ]
    },
    {
      "cell_type": "markdown",
      "id": "2b19f8e8",
      "metadata": {
        "id": "2b19f8e8"
      },
      "source": [
        "# Agrupando GeoDataframe"
      ]
    },
    {
      "cell_type": "code",
      "execution_count": null,
      "id": "de52d32d",
      "metadata": {
        "id": "de52d32d",
        "outputId": "55f23255-57e8-4bb5-e0d8-1b83f3de0672",
        "colab": {
          "base_uri": "https://localhost:8080/",
          "height": 206
        }
      },
      "outputs": [
        {
          "output_type": "execute_result",
          "data": {
            "text/plain": [
              "                  NM_MUN SIGLA  AREA_KM2  \\\n",
              "0  Alta Floresta D'Oeste    RO  7067.127   \n",
              "1              Ariquemes    RO  4426.571   \n",
              "2                 Cabixi    RO  1314.352   \n",
              "3                 Cacoal    RO  3793.000   \n",
              "4             Cerejeiras    RO  2783.300   \n",
              "\n",
              "                                            geometry   AREA_HA  \n",
              "0  POLYGON ((-62.19465 -11.82746, -62.19332 -11.8...  706712.7  \n",
              "1  POLYGON ((-62.53648 -9.73222, -62.52765 -9.736...  442657.1  \n",
              "2  POLYGON ((-60.37119 -13.36655, -60.37134 -13.3...  131435.2  \n",
              "3  POLYGON ((-61.00080 -11.29737, -61.00103 -11.3...  379300.0  \n",
              "4  POLYGON ((-61.49976 -13.00525, -61.49809 -13.0...  278330.0  "
            ],
            "text/html": [
              "\n",
              "  <div id=\"df-4ffc3ff1-8698-4260-ae74-8409ec341a33\">\n",
              "    <div class=\"colab-df-container\">\n",
              "      <div>\n",
              "<style scoped>\n",
              "    .dataframe tbody tr th:only-of-type {\n",
              "        vertical-align: middle;\n",
              "    }\n",
              "\n",
              "    .dataframe tbody tr th {\n",
              "        vertical-align: top;\n",
              "    }\n",
              "\n",
              "    .dataframe thead th {\n",
              "        text-align: right;\n",
              "    }\n",
              "</style>\n",
              "<table border=\"1\" class=\"dataframe\">\n",
              "  <thead>\n",
              "    <tr style=\"text-align: right;\">\n",
              "      <th></th>\n",
              "      <th>NM_MUN</th>\n",
              "      <th>SIGLA</th>\n",
              "      <th>AREA_KM2</th>\n",
              "      <th>geometry</th>\n",
              "      <th>AREA_HA</th>\n",
              "    </tr>\n",
              "  </thead>\n",
              "  <tbody>\n",
              "    <tr>\n",
              "      <th>0</th>\n",
              "      <td>Alta Floresta D'Oeste</td>\n",
              "      <td>RO</td>\n",
              "      <td>7067.127</td>\n",
              "      <td>POLYGON ((-62.19465 -11.82746, -62.19332 -11.8...</td>\n",
              "      <td>706712.7</td>\n",
              "    </tr>\n",
              "    <tr>\n",
              "      <th>1</th>\n",
              "      <td>Ariquemes</td>\n",
              "      <td>RO</td>\n",
              "      <td>4426.571</td>\n",
              "      <td>POLYGON ((-62.53648 -9.73222, -62.52765 -9.736...</td>\n",
              "      <td>442657.1</td>\n",
              "    </tr>\n",
              "    <tr>\n",
              "      <th>2</th>\n",
              "      <td>Cabixi</td>\n",
              "      <td>RO</td>\n",
              "      <td>1314.352</td>\n",
              "      <td>POLYGON ((-60.37119 -13.36655, -60.37134 -13.3...</td>\n",
              "      <td>131435.2</td>\n",
              "    </tr>\n",
              "    <tr>\n",
              "      <th>3</th>\n",
              "      <td>Cacoal</td>\n",
              "      <td>RO</td>\n",
              "      <td>3793.000</td>\n",
              "      <td>POLYGON ((-61.00080 -11.29737, -61.00103 -11.3...</td>\n",
              "      <td>379300.0</td>\n",
              "    </tr>\n",
              "    <tr>\n",
              "      <th>4</th>\n",
              "      <td>Cerejeiras</td>\n",
              "      <td>RO</td>\n",
              "      <td>2783.300</td>\n",
              "      <td>POLYGON ((-61.49976 -13.00525, -61.49809 -13.0...</td>\n",
              "      <td>278330.0</td>\n",
              "    </tr>\n",
              "  </tbody>\n",
              "</table>\n",
              "</div>\n",
              "      <button class=\"colab-df-convert\" onclick=\"convertToInteractive('df-4ffc3ff1-8698-4260-ae74-8409ec341a33')\"\n",
              "              title=\"Convert this dataframe to an interactive table.\"\n",
              "              style=\"display:none;\">\n",
              "        \n",
              "  <svg xmlns=\"http://www.w3.org/2000/svg\" height=\"24px\"viewBox=\"0 0 24 24\"\n",
              "       width=\"24px\">\n",
              "    <path d=\"M0 0h24v24H0V0z\" fill=\"none\"/>\n",
              "    <path d=\"M18.56 5.44l.94 2.06.94-2.06 2.06-.94-2.06-.94-.94-2.06-.94 2.06-2.06.94zm-11 1L8.5 8.5l.94-2.06 2.06-.94-2.06-.94L8.5 2.5l-.94 2.06-2.06.94zm10 10l.94 2.06.94-2.06 2.06-.94-2.06-.94-.94-2.06-.94 2.06-2.06.94z\"/><path d=\"M17.41 7.96l-1.37-1.37c-.4-.4-.92-.59-1.43-.59-.52 0-1.04.2-1.43.59L10.3 9.45l-7.72 7.72c-.78.78-.78 2.05 0 2.83L4 21.41c.39.39.9.59 1.41.59.51 0 1.02-.2 1.41-.59l7.78-7.78 2.81-2.81c.8-.78.8-2.07 0-2.86zM5.41 20L4 18.59l7.72-7.72 1.47 1.35L5.41 20z\"/>\n",
              "  </svg>\n",
              "      </button>\n",
              "      \n",
              "  <style>\n",
              "    .colab-df-container {\n",
              "      display:flex;\n",
              "      flex-wrap:wrap;\n",
              "      gap: 12px;\n",
              "    }\n",
              "\n",
              "    .colab-df-convert {\n",
              "      background-color: #E8F0FE;\n",
              "      border: none;\n",
              "      border-radius: 50%;\n",
              "      cursor: pointer;\n",
              "      display: none;\n",
              "      fill: #1967D2;\n",
              "      height: 32px;\n",
              "      padding: 0 0 0 0;\n",
              "      width: 32px;\n",
              "    }\n",
              "\n",
              "    .colab-df-convert:hover {\n",
              "      background-color: #E2EBFA;\n",
              "      box-shadow: 0px 1px 2px rgba(60, 64, 67, 0.3), 0px 1px 3px 1px rgba(60, 64, 67, 0.15);\n",
              "      fill: #174EA6;\n",
              "    }\n",
              "\n",
              "    [theme=dark] .colab-df-convert {\n",
              "      background-color: #3B4455;\n",
              "      fill: #D2E3FC;\n",
              "    }\n",
              "\n",
              "    [theme=dark] .colab-df-convert:hover {\n",
              "      background-color: #434B5C;\n",
              "      box-shadow: 0px 1px 3px 1px rgba(0, 0, 0, 0.15);\n",
              "      filter: drop-shadow(0px 1px 2px rgba(0, 0, 0, 0.3));\n",
              "      fill: #FFFFFF;\n",
              "    }\n",
              "  </style>\n",
              "\n",
              "      <script>\n",
              "        const buttonEl =\n",
              "          document.querySelector('#df-4ffc3ff1-8698-4260-ae74-8409ec341a33 button.colab-df-convert');\n",
              "        buttonEl.style.display =\n",
              "          google.colab.kernel.accessAllowed ? 'block' : 'none';\n",
              "\n",
              "        async function convertToInteractive(key) {\n",
              "          const element = document.querySelector('#df-4ffc3ff1-8698-4260-ae74-8409ec341a33');\n",
              "          const dataTable =\n",
              "            await google.colab.kernel.invokeFunction('convertToInteractive',\n",
              "                                                     [key], {});\n",
              "          if (!dataTable) return;\n",
              "\n",
              "          const docLinkHtml = 'Like what you see? Visit the ' +\n",
              "            '<a target=\"_blank\" href=https://colab.research.google.com/notebooks/data_table.ipynb>data table notebook</a>'\n",
              "            + ' to learn more about interactive tables.';\n",
              "          element.innerHTML = '';\n",
              "          dataTable['output_type'] = 'display_data';\n",
              "          await google.colab.output.renderOutput(dataTable, element);\n",
              "          const docLink = document.createElement('div');\n",
              "          docLink.innerHTML = docLinkHtml;\n",
              "          element.appendChild(docLink);\n",
              "        }\n",
              "      </script>\n",
              "    </div>\n",
              "  </div>\n",
              "  "
            ]
          },
          "metadata": {},
          "execution_count": 33
        }
      ],
      "source": [
        "dados.head()"
      ]
    },
    {
      "cell_type": "code",
      "execution_count": null,
      "id": "67782304",
      "metadata": {
        "id": "67782304",
        "outputId": "812ddb69-e382-4970-ddae-0b3fbc42eec2",
        "colab": {
          "base_uri": "https://localhost:8080/"
        }
      },
      "outputs": [
        {
          "output_type": "execute_result",
          "data": {
            "text/plain": [
              "array(['RO', 'AC', 'AM', 'RR', 'PA', 'AP', 'TO', 'MA', 'PI', 'CE', 'RN',\n",
              "       'PB', 'PE', 'AL', 'SE', 'BA', 'MG', 'ES', 'RJ', 'SP', 'PR', 'SC',\n",
              "       'RS', 'MS', 'MT', 'GO', 'DF'], dtype=object)"
            ]
          },
          "metadata": {},
          "execution_count": 34
        }
      ],
      "source": [
        "dados['SIGLA'].unique()"
      ]
    },
    {
      "cell_type": "code",
      "execution_count": null,
      "id": "0f115d20",
      "metadata": {
        "id": "0f115d20",
        "outputId": "55ffcd67-a0af-4212-f8d5-61193d22b8af",
        "colab": {
          "base_uri": "https://localhost:8080/"
        }
      },
      "outputs": [
        {
          "output_type": "execute_result",
          "data": {
            "text/plain": [
              "<pandas.core.groupby.generic.DataFrameGroupBy object at 0x7f3b4a056e80>"
            ]
          },
          "metadata": {},
          "execution_count": 35
        }
      ],
      "source": [
        "agrupar = dados.groupby('SIGLA')\n",
        "agrupar"
      ]
    },
    {
      "cell_type": "code",
      "execution_count": null,
      "id": "b8d2057f",
      "metadata": {
        "id": "b8d2057f",
        "outputId": "c237e60e-01fd-4e89-9fef-13365e426b62",
        "colab": {
          "base_uri": "https://localhost:8080/"
        }
      },
      "outputs": [
        {
          "output_type": "execute_result",
          "data": {
            "text/plain": [
              "dict_keys(['AC', 'AL', 'AM', 'AP', 'BA', 'CE', 'DF', 'ES', 'GO', 'MA', 'MG', 'MS', 'MT', 'PA', 'PB', 'PE', 'PI', 'PR', 'RJ', 'RN', 'RO', 'RR', 'RS', 'SC', 'SE', 'SP', 'TO'])"
            ]
          },
          "metadata": {},
          "execution_count": 36
        }
      ],
      "source": [
        "agrupar.groups.keys()"
      ]
    },
    {
      "cell_type": "code",
      "execution_count": null,
      "id": "c0a3f38e",
      "metadata": {
        "id": "c0a3f38e",
        "outputId": "bab53f63-fa12-446a-961f-ead64d6f6dae",
        "colab": {
          "base_uri": "https://localhost:8080/"
        }
      },
      "outputs": [
        {
          "output_type": "stream",
          "name": "stdout",
          "text": [
            "Sigla: AC\n",
            "Número de Municípios: 22\n",
            "Sigla: AL\n",
            "Número de Municípios: 102\n",
            "Sigla: AM\n",
            "Número de Municípios: 62\n",
            "Sigla: AP\n",
            "Número de Municípios: 16\n",
            "Sigla: BA\n",
            "Número de Municípios: 417\n",
            "Sigla: CE\n",
            "Número de Municípios: 184\n",
            "Sigla: DF\n",
            "Número de Municípios: 1\n",
            "Sigla: ES\n",
            "Número de Municípios: 78\n",
            "Sigla: GO\n",
            "Número de Municípios: 246\n",
            "Sigla: MA\n",
            "Número de Municípios: 217\n",
            "Sigla: MG\n",
            "Número de Municípios: 853\n",
            "Sigla: MS\n",
            "Número de Municípios: 79\n",
            "Sigla: MT\n",
            "Número de Municípios: 141\n",
            "Sigla: PA\n",
            "Número de Municípios: 144\n",
            "Sigla: PB\n",
            "Número de Municípios: 223\n",
            "Sigla: PE\n",
            "Número de Municípios: 185\n",
            "Sigla: PI\n",
            "Número de Municípios: 224\n",
            "Sigla: PR\n",
            "Número de Municípios: 399\n",
            "Sigla: RJ\n",
            "Número de Municípios: 92\n",
            "Sigla: RN\n",
            "Número de Municípios: 167\n",
            "Sigla: RO\n",
            "Número de Municípios: 52\n",
            "Sigla: RR\n",
            "Número de Municípios: 15\n",
            "Sigla: RS\n",
            "Número de Municípios: 499\n",
            "Sigla: SC\n",
            "Número de Municípios: 295\n",
            "Sigla: SE\n",
            "Número de Municípios: 75\n",
            "Sigla: SP\n",
            "Número de Municípios: 645\n",
            "Sigla: TO\n",
            "Número de Municípios: 139\n"
          ]
        }
      ],
      "source": [
        "for chave, grupo in agrupar:\n",
        "    print(f'Sigla: {chave}')\n",
        "    print(f'Número de Municípios: {len(grupo)}')"
      ]
    },
    {
      "cell_type": "code",
      "execution_count": null,
      "id": "77c4b7e1",
      "metadata": {
        "id": "77c4b7e1",
        "outputId": "898475cb-3d22-480f-d3c5-2568909cc360",
        "colab": {
          "base_uri": "https://localhost:8080/"
        }
      },
      "outputs": [
        {
          "output_type": "stream",
          "name": "stdout",
          "text": [
            "A pasta ja existe\n"
          ]
        }
      ],
      "source": [
        "arquivo_saida = r\"/content/sample_data/BR_Mucipios_2021\"\n",
        "\n",
        "resultado = os.path.join(arquivo_saida, \"Resultados\")\n",
        "\n",
        "if not os.path.exists(resultado):\n",
        "    print(\"Criando a pasta.\")\n",
        "    os.makedirs(resultado)\n",
        "else:\n",
        "    print(\"A pasta ja existe\")"
      ]
    },
    {
      "cell_type": "code",
      "execution_count": null,
      "id": "39602d3c",
      "metadata": {
        "id": "39602d3c",
        "outputId": "e1b31ad2-67c5-49f7-b064-bb7141b40c6e",
        "colab": {
          "base_uri": "https://localhost:8080/",
          "height": 424
        }
      },
      "outputs": [
        {
          "output_type": "execute_result",
          "data": {
            "text/plain": [
              "                     NM_MUN SIGLA  AREA_KM2  \\\n",
              "0     Alta Floresta D'Oeste    RO  7067.127   \n",
              "1                 Ariquemes    RO  4426.571   \n",
              "2                    Cabixi    RO  1314.352   \n",
              "3                    Cacoal    RO  3793.000   \n",
              "4                Cerejeiras    RO  2783.300   \n",
              "...                     ...   ...       ...   \n",
              "5326              Abadiânia    GO  1044.555   \n",
              "5327                Acreúna    GO  1566.742   \n",
              "5328              Adelândia    GO   115.385   \n",
              "5329     Água Fria de Goiás    GO  2023.636   \n",
              "5571               Brasília    DF  5760.784   \n",
              "\n",
              "                                               geometry   AREA_HA  \n",
              "0     POLYGON ((-62.19465 -11.82746, -62.19332 -11.8...  706712.7  \n",
              "1     POLYGON ((-62.53648 -9.73222, -62.52765 -9.736...  442657.1  \n",
              "2     POLYGON ((-60.37119 -13.36655, -60.37134 -13.3...  131435.2  \n",
              "3     POLYGON ((-61.00080 -11.29737, -61.00103 -11.3...  379300.0  \n",
              "4     POLYGON ((-61.49976 -13.00525, -61.49809 -13.0...  278330.0  \n",
              "...                                                 ...       ...  \n",
              "5326                                               None  104455.5  \n",
              "5327                                               None  156674.2  \n",
              "5328                                               None   11538.5  \n",
              "5329                                               None  202363.6  \n",
              "5571                                               None  576078.4  \n",
              "\n",
              "[131 rows x 5 columns]"
            ],
            "text/html": [
              "\n",
              "  <div id=\"df-aa85874a-645a-4733-8fc1-3cac35b74a0f\">\n",
              "    <div class=\"colab-df-container\">\n",
              "      <div>\n",
              "<style scoped>\n",
              "    .dataframe tbody tr th:only-of-type {\n",
              "        vertical-align: middle;\n",
              "    }\n",
              "\n",
              "    .dataframe tbody tr th {\n",
              "        vertical-align: top;\n",
              "    }\n",
              "\n",
              "    .dataframe thead th {\n",
              "        text-align: right;\n",
              "    }\n",
              "</style>\n",
              "<table border=\"1\" class=\"dataframe\">\n",
              "  <thead>\n",
              "    <tr style=\"text-align: right;\">\n",
              "      <th></th>\n",
              "      <th>NM_MUN</th>\n",
              "      <th>SIGLA</th>\n",
              "      <th>AREA_KM2</th>\n",
              "      <th>geometry</th>\n",
              "      <th>AREA_HA</th>\n",
              "    </tr>\n",
              "  </thead>\n",
              "  <tbody>\n",
              "    <tr>\n",
              "      <th>0</th>\n",
              "      <td>Alta Floresta D'Oeste</td>\n",
              "      <td>RO</td>\n",
              "      <td>7067.127</td>\n",
              "      <td>POLYGON ((-62.19465 -11.82746, -62.19332 -11.8...</td>\n",
              "      <td>706712.7</td>\n",
              "    </tr>\n",
              "    <tr>\n",
              "      <th>1</th>\n",
              "      <td>Ariquemes</td>\n",
              "      <td>RO</td>\n",
              "      <td>4426.571</td>\n",
              "      <td>POLYGON ((-62.53648 -9.73222, -62.52765 -9.736...</td>\n",
              "      <td>442657.1</td>\n",
              "    </tr>\n",
              "    <tr>\n",
              "      <th>2</th>\n",
              "      <td>Cabixi</td>\n",
              "      <td>RO</td>\n",
              "      <td>1314.352</td>\n",
              "      <td>POLYGON ((-60.37119 -13.36655, -60.37134 -13.3...</td>\n",
              "      <td>131435.2</td>\n",
              "    </tr>\n",
              "    <tr>\n",
              "      <th>3</th>\n",
              "      <td>Cacoal</td>\n",
              "      <td>RO</td>\n",
              "      <td>3793.000</td>\n",
              "      <td>POLYGON ((-61.00080 -11.29737, -61.00103 -11.3...</td>\n",
              "      <td>379300.0</td>\n",
              "    </tr>\n",
              "    <tr>\n",
              "      <th>4</th>\n",
              "      <td>Cerejeiras</td>\n",
              "      <td>RO</td>\n",
              "      <td>2783.300</td>\n",
              "      <td>POLYGON ((-61.49976 -13.00525, -61.49809 -13.0...</td>\n",
              "      <td>278330.0</td>\n",
              "    </tr>\n",
              "    <tr>\n",
              "      <th>...</th>\n",
              "      <td>...</td>\n",
              "      <td>...</td>\n",
              "      <td>...</td>\n",
              "      <td>...</td>\n",
              "      <td>...</td>\n",
              "    </tr>\n",
              "    <tr>\n",
              "      <th>5326</th>\n",
              "      <td>Abadiânia</td>\n",
              "      <td>GO</td>\n",
              "      <td>1044.555</td>\n",
              "      <td>None</td>\n",
              "      <td>104455.5</td>\n",
              "    </tr>\n",
              "    <tr>\n",
              "      <th>5327</th>\n",
              "      <td>Acreúna</td>\n",
              "      <td>GO</td>\n",
              "      <td>1566.742</td>\n",
              "      <td>None</td>\n",
              "      <td>156674.2</td>\n",
              "    </tr>\n",
              "    <tr>\n",
              "      <th>5328</th>\n",
              "      <td>Adelândia</td>\n",
              "      <td>GO</td>\n",
              "      <td>115.385</td>\n",
              "      <td>None</td>\n",
              "      <td>11538.5</td>\n",
              "    </tr>\n",
              "    <tr>\n",
              "      <th>5329</th>\n",
              "      <td>Água Fria de Goiás</td>\n",
              "      <td>GO</td>\n",
              "      <td>2023.636</td>\n",
              "      <td>None</td>\n",
              "      <td>202363.6</td>\n",
              "    </tr>\n",
              "    <tr>\n",
              "      <th>5571</th>\n",
              "      <td>Brasília</td>\n",
              "      <td>DF</td>\n",
              "      <td>5760.784</td>\n",
              "      <td>None</td>\n",
              "      <td>576078.4</td>\n",
              "    </tr>\n",
              "  </tbody>\n",
              "</table>\n",
              "<p>131 rows × 5 columns</p>\n",
              "</div>\n",
              "      <button class=\"colab-df-convert\" onclick=\"convertToInteractive('df-aa85874a-645a-4733-8fc1-3cac35b74a0f')\"\n",
              "              title=\"Convert this dataframe to an interactive table.\"\n",
              "              style=\"display:none;\">\n",
              "        \n",
              "  <svg xmlns=\"http://www.w3.org/2000/svg\" height=\"24px\"viewBox=\"0 0 24 24\"\n",
              "       width=\"24px\">\n",
              "    <path d=\"M0 0h24v24H0V0z\" fill=\"none\"/>\n",
              "    <path d=\"M18.56 5.44l.94 2.06.94-2.06 2.06-.94-2.06-.94-.94-2.06-.94 2.06-2.06.94zm-11 1L8.5 8.5l.94-2.06 2.06-.94-2.06-.94L8.5 2.5l-.94 2.06-2.06.94zm10 10l.94 2.06.94-2.06 2.06-.94-2.06-.94-.94-2.06-.94 2.06-2.06.94z\"/><path d=\"M17.41 7.96l-1.37-1.37c-.4-.4-.92-.59-1.43-.59-.52 0-1.04.2-1.43.59L10.3 9.45l-7.72 7.72c-.78.78-.78 2.05 0 2.83L4 21.41c.39.39.9.59 1.41.59.51 0 1.02-.2 1.41-.59l7.78-7.78 2.81-2.81c.8-.78.8-2.07 0-2.86zM5.41 20L4 18.59l7.72-7.72 1.47 1.35L5.41 20z\"/>\n",
              "  </svg>\n",
              "      </button>\n",
              "      \n",
              "  <style>\n",
              "    .colab-df-container {\n",
              "      display:flex;\n",
              "      flex-wrap:wrap;\n",
              "      gap: 12px;\n",
              "    }\n",
              "\n",
              "    .colab-df-convert {\n",
              "      background-color: #E8F0FE;\n",
              "      border: none;\n",
              "      border-radius: 50%;\n",
              "      cursor: pointer;\n",
              "      display: none;\n",
              "      fill: #1967D2;\n",
              "      height: 32px;\n",
              "      padding: 0 0 0 0;\n",
              "      width: 32px;\n",
              "    }\n",
              "\n",
              "    .colab-df-convert:hover {\n",
              "      background-color: #E2EBFA;\n",
              "      box-shadow: 0px 1px 2px rgba(60, 64, 67, 0.3), 0px 1px 3px 1px rgba(60, 64, 67, 0.15);\n",
              "      fill: #174EA6;\n",
              "    }\n",
              "\n",
              "    [theme=dark] .colab-df-convert {\n",
              "      background-color: #3B4455;\n",
              "      fill: #D2E3FC;\n",
              "    }\n",
              "\n",
              "    [theme=dark] .colab-df-convert:hover {\n",
              "      background-color: #434B5C;\n",
              "      box-shadow: 0px 1px 3px 1px rgba(0, 0, 0, 0.15);\n",
              "      filter: drop-shadow(0px 1px 2px rgba(0, 0, 0, 0.3));\n",
              "      fill: #FFFFFF;\n",
              "    }\n",
              "  </style>\n",
              "\n",
              "      <script>\n",
              "        const buttonEl =\n",
              "          document.querySelector('#df-aa85874a-645a-4733-8fc1-3cac35b74a0f button.colab-df-convert');\n",
              "        buttonEl.style.display =\n",
              "          google.colab.kernel.accessAllowed ? 'block' : 'none';\n",
              "\n",
              "        async function convertToInteractive(key) {\n",
              "          const element = document.querySelector('#df-aa85874a-645a-4733-8fc1-3cac35b74a0f');\n",
              "          const dataTable =\n",
              "            await google.colab.kernel.invokeFunction('convertToInteractive',\n",
              "                                                     [key], {});\n",
              "          if (!dataTable) return;\n",
              "\n",
              "          const docLinkHtml = 'Like what you see? Visit the ' +\n",
              "            '<a target=\"_blank\" href=https://colab.research.google.com/notebooks/data_table.ipynb>data table notebook</a>'\n",
              "            + ' to learn more about interactive tables.';\n",
              "          element.innerHTML = '';\n",
              "          dataTable['output_type'] = 'display_data';\n",
              "          await google.colab.output.renderOutput(dataTable, element);\n",
              "          const docLink = document.createElement('div');\n",
              "          docLink.innerHTML = docLinkHtml;\n",
              "          element.appendChild(docLink);\n",
              "        }\n",
              "      </script>\n",
              "    </div>\n",
              "  </div>\n",
              "  "
            ]
          },
          "metadata": {},
          "execution_count": 41
        }
      ],
      "source": [
        "agrupar.head()"
      ]
    },
    {
      "cell_type": "code",
      "execution_count": null,
      "id": "3cebe4f1",
      "metadata": {
        "id": "3cebe4f1",
        "outputId": "400ee2bc-f172-4603-b087-77c132677720",
        "colab": {
          "base_uri": "https://localhost:8080/"
        }
      },
      "outputs": [
        {
          "output_type": "stream",
          "name": "stdout",
          "text": [
            "Salvando o arquivo SIGLA_AC.shp\n",
            "Salvando o arquivo SIGLA_AL.shp\n",
            "Salvando o arquivo SIGLA_AM.shp\n",
            "Salvando o arquivo SIGLA_AP.shp\n",
            "Salvando o arquivo SIGLA_BA.shp\n",
            "Salvando o arquivo SIGLA_CE.shp\n",
            "Salvando o arquivo SIGLA_DF.shp\n",
            "Salvando o arquivo SIGLA_ES.shp\n",
            "Salvando o arquivo SIGLA_GO.shp\n",
            "Salvando o arquivo SIGLA_MA.shp\n",
            "Salvando o arquivo SIGLA_MG.shp\n",
            "Salvando o arquivo SIGLA_MS.shp\n",
            "Salvando o arquivo SIGLA_MT.shp\n",
            "Salvando o arquivo SIGLA_PA.shp\n",
            "Salvando o arquivo SIGLA_PB.shp\n",
            "Salvando o arquivo SIGLA_PE.shp\n",
            "Salvando o arquivo SIGLA_PI.shp\n",
            "Salvando o arquivo SIGLA_PR.shp\n",
            "Salvando o arquivo SIGLA_RJ.shp\n",
            "Salvando o arquivo SIGLA_RN.shp\n",
            "Salvando o arquivo SIGLA_RO.shp\n",
            "Salvando o arquivo SIGLA_RR.shp\n",
            "Salvando o arquivo SIGLA_RS.shp\n",
            "Salvando o arquivo SIGLA_SC.shp\n",
            "Salvando o arquivo SIGLA_SE.shp\n",
            "Salvando o arquivo SIGLA_SP.shp\n",
            "Salvando o arquivo SIGLA_TO.shp\n"
          ]
        }
      ],
      "source": [
        "for chave, grupo in agrupar:\n",
        "    nome_saida = f'SIGLA_{chave}.shp'\n",
        "    print('Salvando o arquivo', os.path.basename(nome_saida))\n",
        "    caminho_saida = os.path.join(resultado, nome_saida)\n",
        "    grupo.to_file(caminho_saida)"
      ]
    },
    {
      "cell_type": "code",
      "execution_count": null,
      "id": "53d23bb0",
      "metadata": {
        "id": "53d23bb0"
      },
      "outputs": [],
      "source": []
    },
    {
      "cell_type": "markdown",
      "id": "7b64a324",
      "metadata": {
        "id": "7b64a324"
      },
      "source": [
        "# Trabalhando com Coordenadas\n",
        "\n",
        "Para saber o código do EPSG da região de interesse existem diversos sites, mas eu costumo utilizar esse aqui: \n",
        "https://spatialreference.org/"
      ]
    },
    {
      "cell_type": "code",
      "execution_count": null,
      "id": "1124d25b",
      "metadata": {
        "id": "1124d25b"
      },
      "outputs": [],
      "source": [
        "import geopandas as gpd"
      ]
    },
    {
      "cell_type": "code",
      "execution_count": null,
      "id": "e0e5f0e2",
      "metadata": {
        "id": "e0e5f0e2"
      },
      "outputs": [],
      "source": [
        "arquivo = r\"/content/sample_data/BR_Mucipios_2021/Resultados/SIGLA_RR.shp\""
      ]
    },
    {
      "cell_type": "code",
      "execution_count": null,
      "id": "7d7f09f0",
      "metadata": {
        "id": "7d7f09f0",
        "outputId": "bc100542-a2f1-47f2-c762-4b892dd6a7fb",
        "colab": {
          "base_uri": "https://localhost:8080/",
          "height": 206
        }
      },
      "outputs": [
        {
          "output_type": "execute_result",
          "data": {
            "text/plain": [
              "        NM_MUN SIGLA   AREA_KM2    AREA_HA  \\\n",
              "0      Amajari    RR  28473.450  2847345.0   \n",
              "1  Alto Alegre    RR  25454.297  2545429.7   \n",
              "2    Boa Vista    RR   5687.037   568703.7   \n",
              "3       Bonfim    RR   8079.914   807991.4   \n",
              "4        Cantá    RR   7664.831   766483.1   \n",
              "\n",
              "                                            geometry  \n",
              "0  POLYGON ((-61.33730 4.31159, -61.33656 4.31136...  \n",
              "1  POLYGON ((-63.61441 3.73768, -63.61052 3.73712...  \n",
              "2  POLYGON ((-60.47539 3.60573, -60.47501 3.60507...  \n",
              "3  POLYGON ((-59.88384 3.56296, -59.88244 3.56296...  \n",
              "4  POLYGON ((-60.56198 2.87580, -60.56090 2.87470...  "
            ],
            "text/html": [
              "\n",
              "  <div id=\"df-82e25288-090e-4fd2-9689-1385a9ffde27\">\n",
              "    <div class=\"colab-df-container\">\n",
              "      <div>\n",
              "<style scoped>\n",
              "    .dataframe tbody tr th:only-of-type {\n",
              "        vertical-align: middle;\n",
              "    }\n",
              "\n",
              "    .dataframe tbody tr th {\n",
              "        vertical-align: top;\n",
              "    }\n",
              "\n",
              "    .dataframe thead th {\n",
              "        text-align: right;\n",
              "    }\n",
              "</style>\n",
              "<table border=\"1\" class=\"dataframe\">\n",
              "  <thead>\n",
              "    <tr style=\"text-align: right;\">\n",
              "      <th></th>\n",
              "      <th>NM_MUN</th>\n",
              "      <th>SIGLA</th>\n",
              "      <th>AREA_KM2</th>\n",
              "      <th>AREA_HA</th>\n",
              "      <th>geometry</th>\n",
              "    </tr>\n",
              "  </thead>\n",
              "  <tbody>\n",
              "    <tr>\n",
              "      <th>0</th>\n",
              "      <td>Amajari</td>\n",
              "      <td>RR</td>\n",
              "      <td>28473.450</td>\n",
              "      <td>2847345.0</td>\n",
              "      <td>POLYGON ((-61.33730 4.31159, -61.33656 4.31136...</td>\n",
              "    </tr>\n",
              "    <tr>\n",
              "      <th>1</th>\n",
              "      <td>Alto Alegre</td>\n",
              "      <td>RR</td>\n",
              "      <td>25454.297</td>\n",
              "      <td>2545429.7</td>\n",
              "      <td>POLYGON ((-63.61441 3.73768, -63.61052 3.73712...</td>\n",
              "    </tr>\n",
              "    <tr>\n",
              "      <th>2</th>\n",
              "      <td>Boa Vista</td>\n",
              "      <td>RR</td>\n",
              "      <td>5687.037</td>\n",
              "      <td>568703.7</td>\n",
              "      <td>POLYGON ((-60.47539 3.60573, -60.47501 3.60507...</td>\n",
              "    </tr>\n",
              "    <tr>\n",
              "      <th>3</th>\n",
              "      <td>Bonfim</td>\n",
              "      <td>RR</td>\n",
              "      <td>8079.914</td>\n",
              "      <td>807991.4</td>\n",
              "      <td>POLYGON ((-59.88384 3.56296, -59.88244 3.56296...</td>\n",
              "    </tr>\n",
              "    <tr>\n",
              "      <th>4</th>\n",
              "      <td>Cantá</td>\n",
              "      <td>RR</td>\n",
              "      <td>7664.831</td>\n",
              "      <td>766483.1</td>\n",
              "      <td>POLYGON ((-60.56198 2.87580, -60.56090 2.87470...</td>\n",
              "    </tr>\n",
              "  </tbody>\n",
              "</table>\n",
              "</div>\n",
              "      <button class=\"colab-df-convert\" onclick=\"convertToInteractive('df-82e25288-090e-4fd2-9689-1385a9ffde27')\"\n",
              "              title=\"Convert this dataframe to an interactive table.\"\n",
              "              style=\"display:none;\">\n",
              "        \n",
              "  <svg xmlns=\"http://www.w3.org/2000/svg\" height=\"24px\"viewBox=\"0 0 24 24\"\n",
              "       width=\"24px\">\n",
              "    <path d=\"M0 0h24v24H0V0z\" fill=\"none\"/>\n",
              "    <path d=\"M18.56 5.44l.94 2.06.94-2.06 2.06-.94-2.06-.94-.94-2.06-.94 2.06-2.06.94zm-11 1L8.5 8.5l.94-2.06 2.06-.94-2.06-.94L8.5 2.5l-.94 2.06-2.06.94zm10 10l.94 2.06.94-2.06 2.06-.94-2.06-.94-.94-2.06-.94 2.06-2.06.94z\"/><path d=\"M17.41 7.96l-1.37-1.37c-.4-.4-.92-.59-1.43-.59-.52 0-1.04.2-1.43.59L10.3 9.45l-7.72 7.72c-.78.78-.78 2.05 0 2.83L4 21.41c.39.39.9.59 1.41.59.51 0 1.02-.2 1.41-.59l7.78-7.78 2.81-2.81c.8-.78.8-2.07 0-2.86zM5.41 20L4 18.59l7.72-7.72 1.47 1.35L5.41 20z\"/>\n",
              "  </svg>\n",
              "      </button>\n",
              "      \n",
              "  <style>\n",
              "    .colab-df-container {\n",
              "      display:flex;\n",
              "      flex-wrap:wrap;\n",
              "      gap: 12px;\n",
              "    }\n",
              "\n",
              "    .colab-df-convert {\n",
              "      background-color: #E8F0FE;\n",
              "      border: none;\n",
              "      border-radius: 50%;\n",
              "      cursor: pointer;\n",
              "      display: none;\n",
              "      fill: #1967D2;\n",
              "      height: 32px;\n",
              "      padding: 0 0 0 0;\n",
              "      width: 32px;\n",
              "    }\n",
              "\n",
              "    .colab-df-convert:hover {\n",
              "      background-color: #E2EBFA;\n",
              "      box-shadow: 0px 1px 2px rgba(60, 64, 67, 0.3), 0px 1px 3px 1px rgba(60, 64, 67, 0.15);\n",
              "      fill: #174EA6;\n",
              "    }\n",
              "\n",
              "    [theme=dark] .colab-df-convert {\n",
              "      background-color: #3B4455;\n",
              "      fill: #D2E3FC;\n",
              "    }\n",
              "\n",
              "    [theme=dark] .colab-df-convert:hover {\n",
              "      background-color: #434B5C;\n",
              "      box-shadow: 0px 1px 3px 1px rgba(0, 0, 0, 0.15);\n",
              "      filter: drop-shadow(0px 1px 2px rgba(0, 0, 0, 0.3));\n",
              "      fill: #FFFFFF;\n",
              "    }\n",
              "  </style>\n",
              "\n",
              "      <script>\n",
              "        const buttonEl =\n",
              "          document.querySelector('#df-82e25288-090e-4fd2-9689-1385a9ffde27 button.colab-df-convert');\n",
              "        buttonEl.style.display =\n",
              "          google.colab.kernel.accessAllowed ? 'block' : 'none';\n",
              "\n",
              "        async function convertToInteractive(key) {\n",
              "          const element = document.querySelector('#df-82e25288-090e-4fd2-9689-1385a9ffde27');\n",
              "          const dataTable =\n",
              "            await google.colab.kernel.invokeFunction('convertToInteractive',\n",
              "                                                     [key], {});\n",
              "          if (!dataTable) return;\n",
              "\n",
              "          const docLinkHtml = 'Like what you see? Visit the ' +\n",
              "            '<a target=\"_blank\" href=https://colab.research.google.com/notebooks/data_table.ipynb>data table notebook</a>'\n",
              "            + ' to learn more about interactive tables.';\n",
              "          element.innerHTML = '';\n",
              "          dataTable['output_type'] = 'display_data';\n",
              "          await google.colab.output.renderOutput(dataTable, element);\n",
              "          const docLink = document.createElement('div');\n",
              "          docLink.innerHTML = docLinkHtml;\n",
              "          element.appendChild(docLink);\n",
              "        }\n",
              "      </script>\n",
              "    </div>\n",
              "  </div>\n",
              "  "
            ]
          },
          "metadata": {},
          "execution_count": 49
        }
      ],
      "source": [
        "dados_rr = gpd.read_file(arquivo)\n",
        "dados_rr.head()"
      ]
    },
    {
      "cell_type": "code",
      "execution_count": null,
      "id": "6160e80b",
      "metadata": {
        "id": "6160e80b",
        "outputId": "2c943d75-a994-471a-a550-9966c1d65078",
        "colab": {
          "base_uri": "https://localhost:8080/"
        }
      },
      "outputs": [
        {
          "output_type": "execute_result",
          "data": {
            "text/plain": [
              "<Geographic 2D CRS: EPSG:4674>\n",
              "Name: SIRGAS 2000\n",
              "Axis Info [ellipsoidal]:\n",
              "- Lat[north]: Geodetic latitude (degree)\n",
              "- Lon[east]: Geodetic longitude (degree)\n",
              "Area of Use:\n",
              "- name: Latin America - Central America and South America - onshore and offshore. Brazil - onshore and offshore.\n",
              "- bounds: (-122.19, -59.87, -25.28, 32.72)\n",
              "Datum: Sistema de Referencia Geocentrico para las AmericaS 2000\n",
              "- Ellipsoid: GRS 1980\n",
              "- Prime Meridian: Greenwich"
            ]
          },
          "metadata": {},
          "execution_count": 50
        }
      ],
      "source": [
        "# Verificar o sistema de coordenadas\n",
        "dados_rr.crs"
      ]
    },
    {
      "cell_type": "code",
      "execution_count": null,
      "id": "320b265f",
      "metadata": {
        "id": "320b265f"
      },
      "outputs": [],
      "source": [
        "# Criar uma cópia do arquivo\n",
        "dados_rr_epsg_4674 = dados_rr.copy()\n",
        "\n",
        "# Reprojetar para a coordenada da região\n",
        "dados_rr = dados_rr.to_crs(epsg=31982)"
      ]
    },
    {
      "cell_type": "code",
      "execution_count": null,
      "id": "90c7918b",
      "metadata": {
        "id": "90c7918b",
        "outputId": "751904e7-07f4-4b93-86d4-4135139f062e",
        "colab": {
          "base_uri": "https://localhost:8080/"
        }
      },
      "outputs": [
        {
          "output_type": "execute_result",
          "data": {
            "text/plain": [
              "<Derived Projected CRS: EPSG:31982>\n",
              "Name: SIRGAS 2000 / UTM zone 22S\n",
              "Axis Info [cartesian]:\n",
              "- E[east]: Easting (metre)\n",
              "- N[north]: Northing (metre)\n",
              "Area of Use:\n",
              "- name: Brazil - between 54°W and 48°W, northern and southern hemispheres, onshore and offshore. In remainder of South America - between 54°W and 48°W, southern hemisphere, onshore and offshore.\n",
              "- bounds: (-54.0, -54.18, -47.99, 7.04)\n",
              "Coordinate Operation:\n",
              "- name: UTM zone 22S\n",
              "- method: Transverse Mercator\n",
              "Datum: Sistema de Referencia Geocentrico para las AmericaS 2000\n",
              "- Ellipsoid: GRS 1980\n",
              "- Prime Meridian: Greenwich"
            ]
          },
          "metadata": {},
          "execution_count": 52
        }
      ],
      "source": [
        "dados_rr.crs"
      ]
    },
    {
      "cell_type": "code",
      "execution_count": null,
      "id": "e9ef0bb4",
      "metadata": {
        "id": "e9ef0bb4",
        "outputId": "270a301b-6e50-4f0d-d2f7-619c8725a8b7",
        "colab": {
          "base_uri": "https://localhost:8080/",
          "height": 206
        }
      },
      "outputs": [
        {
          "output_type": "execute_result",
          "data": {
            "text/plain": [
              "        NM_MUN SIGLA   AREA_KM2    AREA_HA  \\\n",
              "0      Amajari    RR  28473.450  2847345.0   \n",
              "1  Alto Alegre    RR  25454.297  2545429.7   \n",
              "2    Boa Vista    RR   5687.037   568703.7   \n",
              "3       Bonfim    RR   8079.914   807991.4   \n",
              "4        Cantá    RR   7664.831   766483.1   \n",
              "\n",
              "                                            geometry  \n",
              "0  POLYGON ((-653293.122 10484456.542, -653210.82...  \n",
              "1  POLYGON ((-912135.945 10423391.884, -911694.57...  \n",
              "2  POLYGON ((-557124.128 10404082.309, -557082.01...  \n",
              "3  POLYGON ((-490624.014 10398620.932, -490467.19...  \n",
              "4  POLYGON ((-567654.024 10322366.237, -567532.70...  "
            ],
            "text/html": [
              "\n",
              "  <div id=\"df-2729a7d5-45f9-4cc8-ba97-9bfe1f3ebb3b\">\n",
              "    <div class=\"colab-df-container\">\n",
              "      <div>\n",
              "<style scoped>\n",
              "    .dataframe tbody tr th:only-of-type {\n",
              "        vertical-align: middle;\n",
              "    }\n",
              "\n",
              "    .dataframe tbody tr th {\n",
              "        vertical-align: top;\n",
              "    }\n",
              "\n",
              "    .dataframe thead th {\n",
              "        text-align: right;\n",
              "    }\n",
              "</style>\n",
              "<table border=\"1\" class=\"dataframe\">\n",
              "  <thead>\n",
              "    <tr style=\"text-align: right;\">\n",
              "      <th></th>\n",
              "      <th>NM_MUN</th>\n",
              "      <th>SIGLA</th>\n",
              "      <th>AREA_KM2</th>\n",
              "      <th>AREA_HA</th>\n",
              "      <th>geometry</th>\n",
              "    </tr>\n",
              "  </thead>\n",
              "  <tbody>\n",
              "    <tr>\n",
              "      <th>0</th>\n",
              "      <td>Amajari</td>\n",
              "      <td>RR</td>\n",
              "      <td>28473.450</td>\n",
              "      <td>2847345.0</td>\n",
              "      <td>POLYGON ((-653293.122 10484456.542, -653210.82...</td>\n",
              "    </tr>\n",
              "    <tr>\n",
              "      <th>1</th>\n",
              "      <td>Alto Alegre</td>\n",
              "      <td>RR</td>\n",
              "      <td>25454.297</td>\n",
              "      <td>2545429.7</td>\n",
              "      <td>POLYGON ((-912135.945 10423391.884, -911694.57...</td>\n",
              "    </tr>\n",
              "    <tr>\n",
              "      <th>2</th>\n",
              "      <td>Boa Vista</td>\n",
              "      <td>RR</td>\n",
              "      <td>5687.037</td>\n",
              "      <td>568703.7</td>\n",
              "      <td>POLYGON ((-557124.128 10404082.309, -557082.01...</td>\n",
              "    </tr>\n",
              "    <tr>\n",
              "      <th>3</th>\n",
              "      <td>Bonfim</td>\n",
              "      <td>RR</td>\n",
              "      <td>8079.914</td>\n",
              "      <td>807991.4</td>\n",
              "      <td>POLYGON ((-490624.014 10398620.932, -490467.19...</td>\n",
              "    </tr>\n",
              "    <tr>\n",
              "      <th>4</th>\n",
              "      <td>Cantá</td>\n",
              "      <td>RR</td>\n",
              "      <td>7664.831</td>\n",
              "      <td>766483.1</td>\n",
              "      <td>POLYGON ((-567654.024 10322366.237, -567532.70...</td>\n",
              "    </tr>\n",
              "  </tbody>\n",
              "</table>\n",
              "</div>\n",
              "      <button class=\"colab-df-convert\" onclick=\"convertToInteractive('df-2729a7d5-45f9-4cc8-ba97-9bfe1f3ebb3b')\"\n",
              "              title=\"Convert this dataframe to an interactive table.\"\n",
              "              style=\"display:none;\">\n",
              "        \n",
              "  <svg xmlns=\"http://www.w3.org/2000/svg\" height=\"24px\"viewBox=\"0 0 24 24\"\n",
              "       width=\"24px\">\n",
              "    <path d=\"M0 0h24v24H0V0z\" fill=\"none\"/>\n",
              "    <path d=\"M18.56 5.44l.94 2.06.94-2.06 2.06-.94-2.06-.94-.94-2.06-.94 2.06-2.06.94zm-11 1L8.5 8.5l.94-2.06 2.06-.94-2.06-.94L8.5 2.5l-.94 2.06-2.06.94zm10 10l.94 2.06.94-2.06 2.06-.94-2.06-.94-.94-2.06-.94 2.06-2.06.94z\"/><path d=\"M17.41 7.96l-1.37-1.37c-.4-.4-.92-.59-1.43-.59-.52 0-1.04.2-1.43.59L10.3 9.45l-7.72 7.72c-.78.78-.78 2.05 0 2.83L4 21.41c.39.39.9.59 1.41.59.51 0 1.02-.2 1.41-.59l7.78-7.78 2.81-2.81c.8-.78.8-2.07 0-2.86zM5.41 20L4 18.59l7.72-7.72 1.47 1.35L5.41 20z\"/>\n",
              "  </svg>\n",
              "      </button>\n",
              "      \n",
              "  <style>\n",
              "    .colab-df-container {\n",
              "      display:flex;\n",
              "      flex-wrap:wrap;\n",
              "      gap: 12px;\n",
              "    }\n",
              "\n",
              "    .colab-df-convert {\n",
              "      background-color: #E8F0FE;\n",
              "      border: none;\n",
              "      border-radius: 50%;\n",
              "      cursor: pointer;\n",
              "      display: none;\n",
              "      fill: #1967D2;\n",
              "      height: 32px;\n",
              "      padding: 0 0 0 0;\n",
              "      width: 32px;\n",
              "    }\n",
              "\n",
              "    .colab-df-convert:hover {\n",
              "      background-color: #E2EBFA;\n",
              "      box-shadow: 0px 1px 2px rgba(60, 64, 67, 0.3), 0px 1px 3px 1px rgba(60, 64, 67, 0.15);\n",
              "      fill: #174EA6;\n",
              "    }\n",
              "\n",
              "    [theme=dark] .colab-df-convert {\n",
              "      background-color: #3B4455;\n",
              "      fill: #D2E3FC;\n",
              "    }\n",
              "\n",
              "    [theme=dark] .colab-df-convert:hover {\n",
              "      background-color: #434B5C;\n",
              "      box-shadow: 0px 1px 3px 1px rgba(0, 0, 0, 0.15);\n",
              "      filter: drop-shadow(0px 1px 2px rgba(0, 0, 0, 0.3));\n",
              "      fill: #FFFFFF;\n",
              "    }\n",
              "  </style>\n",
              "\n",
              "      <script>\n",
              "        const buttonEl =\n",
              "          document.querySelector('#df-2729a7d5-45f9-4cc8-ba97-9bfe1f3ebb3b button.colab-df-convert');\n",
              "        buttonEl.style.display =\n",
              "          google.colab.kernel.accessAllowed ? 'block' : 'none';\n",
              "\n",
              "        async function convertToInteractive(key) {\n",
              "          const element = document.querySelector('#df-2729a7d5-45f9-4cc8-ba97-9bfe1f3ebb3b');\n",
              "          const dataTable =\n",
              "            await google.colab.kernel.invokeFunction('convertToInteractive',\n",
              "                                                     [key], {});\n",
              "          if (!dataTable) return;\n",
              "\n",
              "          const docLinkHtml = 'Like what you see? Visit the ' +\n",
              "            '<a target=\"_blank\" href=https://colab.research.google.com/notebooks/data_table.ipynb>data table notebook</a>'\n",
              "            + ' to learn more about interactive tables.';\n",
              "          element.innerHTML = '';\n",
              "          dataTable['output_type'] = 'display_data';\n",
              "          await google.colab.output.renderOutput(dataTable, element);\n",
              "          const docLink = document.createElement('div');\n",
              "          docLink.innerHTML = docLinkHtml;\n",
              "          element.appendChild(docLink);\n",
              "        }\n",
              "      </script>\n",
              "    </div>\n",
              "  </div>\n",
              "  "
            ]
          },
          "metadata": {},
          "execution_count": 53
        }
      ],
      "source": [
        "dados_rr.head()"
      ]
    },
    {
      "cell_type": "code",
      "execution_count": null,
      "id": "becb0d21",
      "metadata": {
        "id": "becb0d21",
        "outputId": "8153d2ce-50ec-4b94-89d0-dd012b482f6f",
        "colab": {
          "base_uri": "https://localhost:8080/",
          "height": 206
        }
      },
      "outputs": [
        {
          "output_type": "execute_result",
          "data": {
            "text/plain": [
              "        NM_MUN SIGLA   AREA_KM2    AREA_HA  \\\n",
              "0      Amajari    RR  28473.450  2847345.0   \n",
              "1  Alto Alegre    RR  25454.297  2545429.7   \n",
              "2    Boa Vista    RR   5687.037   568703.7   \n",
              "3       Bonfim    RR   8079.914   807991.4   \n",
              "4        Cantá    RR   7664.831   766483.1   \n",
              "\n",
              "                                            geometry  \n",
              "0  POLYGON ((-653293.122 10484456.542, -653210.82...  \n",
              "1  POLYGON ((-912135.945 10423391.884, -911694.57...  \n",
              "2  POLYGON ((-557124.128 10404082.309, -557082.01...  \n",
              "3  POLYGON ((-490624.014 10398620.932, -490467.19...  \n",
              "4  POLYGON ((-567654.024 10322366.237, -567532.70...  "
            ],
            "text/html": [
              "\n",
              "  <div id=\"df-aaaa73a8-6771-4984-bdbb-e0e4d5dff2fb\">\n",
              "    <div class=\"colab-df-container\">\n",
              "      <div>\n",
              "<style scoped>\n",
              "    .dataframe tbody tr th:only-of-type {\n",
              "        vertical-align: middle;\n",
              "    }\n",
              "\n",
              "    .dataframe tbody tr th {\n",
              "        vertical-align: top;\n",
              "    }\n",
              "\n",
              "    .dataframe thead th {\n",
              "        text-align: right;\n",
              "    }\n",
              "</style>\n",
              "<table border=\"1\" class=\"dataframe\">\n",
              "  <thead>\n",
              "    <tr style=\"text-align: right;\">\n",
              "      <th></th>\n",
              "      <th>NM_MUN</th>\n",
              "      <th>SIGLA</th>\n",
              "      <th>AREA_KM2</th>\n",
              "      <th>AREA_HA</th>\n",
              "      <th>geometry</th>\n",
              "    </tr>\n",
              "  </thead>\n",
              "  <tbody>\n",
              "    <tr>\n",
              "      <th>0</th>\n",
              "      <td>Amajari</td>\n",
              "      <td>RR</td>\n",
              "      <td>28473.450</td>\n",
              "      <td>2847345.0</td>\n",
              "      <td>POLYGON ((-653293.122 10484456.542, -653210.82...</td>\n",
              "    </tr>\n",
              "    <tr>\n",
              "      <th>1</th>\n",
              "      <td>Alto Alegre</td>\n",
              "      <td>RR</td>\n",
              "      <td>25454.297</td>\n",
              "      <td>2545429.7</td>\n",
              "      <td>POLYGON ((-912135.945 10423391.884, -911694.57...</td>\n",
              "    </tr>\n",
              "    <tr>\n",
              "      <th>2</th>\n",
              "      <td>Boa Vista</td>\n",
              "      <td>RR</td>\n",
              "      <td>5687.037</td>\n",
              "      <td>568703.7</td>\n",
              "      <td>POLYGON ((-557124.128 10404082.309, -557082.01...</td>\n",
              "    </tr>\n",
              "    <tr>\n",
              "      <th>3</th>\n",
              "      <td>Bonfim</td>\n",
              "      <td>RR</td>\n",
              "      <td>8079.914</td>\n",
              "      <td>807991.4</td>\n",
              "      <td>POLYGON ((-490624.014 10398620.932, -490467.19...</td>\n",
              "    </tr>\n",
              "    <tr>\n",
              "      <th>4</th>\n",
              "      <td>Cantá</td>\n",
              "      <td>RR</td>\n",
              "      <td>7664.831</td>\n",
              "      <td>766483.1</td>\n",
              "      <td>POLYGON ((-567654.024 10322366.237, -567532.70...</td>\n",
              "    </tr>\n",
              "  </tbody>\n",
              "</table>\n",
              "</div>\n",
              "      <button class=\"colab-df-convert\" onclick=\"convertToInteractive('df-aaaa73a8-6771-4984-bdbb-e0e4d5dff2fb')\"\n",
              "              title=\"Convert this dataframe to an interactive table.\"\n",
              "              style=\"display:none;\">\n",
              "        \n",
              "  <svg xmlns=\"http://www.w3.org/2000/svg\" height=\"24px\"viewBox=\"0 0 24 24\"\n",
              "       width=\"24px\">\n",
              "    <path d=\"M0 0h24v24H0V0z\" fill=\"none\"/>\n",
              "    <path d=\"M18.56 5.44l.94 2.06.94-2.06 2.06-.94-2.06-.94-.94-2.06-.94 2.06-2.06.94zm-11 1L8.5 8.5l.94-2.06 2.06-.94-2.06-.94L8.5 2.5l-.94 2.06-2.06.94zm10 10l.94 2.06.94-2.06 2.06-.94-2.06-.94-.94-2.06-.94 2.06-2.06.94z\"/><path d=\"M17.41 7.96l-1.37-1.37c-.4-.4-.92-.59-1.43-.59-.52 0-1.04.2-1.43.59L10.3 9.45l-7.72 7.72c-.78.78-.78 2.05 0 2.83L4 21.41c.39.39.9.59 1.41.59.51 0 1.02-.2 1.41-.59l7.78-7.78 2.81-2.81c.8-.78.8-2.07 0-2.86zM5.41 20L4 18.59l7.72-7.72 1.47 1.35L5.41 20z\"/>\n",
              "  </svg>\n",
              "      </button>\n",
              "      \n",
              "  <style>\n",
              "    .colab-df-container {\n",
              "      display:flex;\n",
              "      flex-wrap:wrap;\n",
              "      gap: 12px;\n",
              "    }\n",
              "\n",
              "    .colab-df-convert {\n",
              "      background-color: #E8F0FE;\n",
              "      border: none;\n",
              "      border-radius: 50%;\n",
              "      cursor: pointer;\n",
              "      display: none;\n",
              "      fill: #1967D2;\n",
              "      height: 32px;\n",
              "      padding: 0 0 0 0;\n",
              "      width: 32px;\n",
              "    }\n",
              "\n",
              "    .colab-df-convert:hover {\n",
              "      background-color: #E2EBFA;\n",
              "      box-shadow: 0px 1px 2px rgba(60, 64, 67, 0.3), 0px 1px 3px 1px rgba(60, 64, 67, 0.15);\n",
              "      fill: #174EA6;\n",
              "    }\n",
              "\n",
              "    [theme=dark] .colab-df-convert {\n",
              "      background-color: #3B4455;\n",
              "      fill: #D2E3FC;\n",
              "    }\n",
              "\n",
              "    [theme=dark] .colab-df-convert:hover {\n",
              "      background-color: #434B5C;\n",
              "      box-shadow: 0px 1px 3px 1px rgba(0, 0, 0, 0.15);\n",
              "      filter: drop-shadow(0px 1px 2px rgba(0, 0, 0, 0.3));\n",
              "      fill: #FFFFFF;\n",
              "    }\n",
              "  </style>\n",
              "\n",
              "      <script>\n",
              "        const buttonEl =\n",
              "          document.querySelector('#df-aaaa73a8-6771-4984-bdbb-e0e4d5dff2fb button.colab-df-convert');\n",
              "        buttonEl.style.display =\n",
              "          google.colab.kernel.accessAllowed ? 'block' : 'none';\n",
              "\n",
              "        async function convertToInteractive(key) {\n",
              "          const element = document.querySelector('#df-aaaa73a8-6771-4984-bdbb-e0e4d5dff2fb');\n",
              "          const dataTable =\n",
              "            await google.colab.kernel.invokeFunction('convertToInteractive',\n",
              "                                                     [key], {});\n",
              "          if (!dataTable) return;\n",
              "\n",
              "          const docLinkHtml = 'Like what you see? Visit the ' +\n",
              "            '<a target=\"_blank\" href=https://colab.research.google.com/notebooks/data_table.ipynb>data table notebook</a>'\n",
              "            + ' to learn more about interactive tables.';\n",
              "          element.innerHTML = '';\n",
              "          dataTable['output_type'] = 'display_data';\n",
              "          await google.colab.output.renderOutput(dataTable, element);\n",
              "          const docLink = document.createElement('div');\n",
              "          docLink.innerHTML = docLinkHtml;\n",
              "          element.appendChild(docLink);\n",
              "        }\n",
              "      </script>\n",
              "    </div>\n",
              "  </div>\n",
              "  "
            ]
          },
          "metadata": {},
          "execution_count": 56
        }
      ],
      "source": [
        "dados_sc['AREA_M2'] = dados_rr.area\n",
        "dados_rr.head()"
      ]
    },
    {
      "cell_type": "code",
      "execution_count": null,
      "id": "d360d4d8",
      "metadata": {
        "id": "d360d4d8",
        "outputId": "cedcef76-e3e4-476e-baa0-dea5774cf12b",
        "colab": {
          "base_uri": "https://localhost:8080/",
          "height": 206
        }
      },
      "outputs": [
        {
          "output_type": "execute_result",
          "data": {
            "text/plain": [
              "        NM_MUN SIGLA   AREA_KM2    AREA_HA  \\\n",
              "0      Amajari    RR  28473.450  2847345.0   \n",
              "1  Alto Alegre    RR  25454.297  2545429.7   \n",
              "2    Boa Vista    RR   5687.037   568703.7   \n",
              "3       Bonfim    RR   8079.914   807991.4   \n",
              "4        Cantá    RR   7664.831   766483.1   \n",
              "\n",
              "                                            geometry  \n",
              "0  POLYGON ((-61.33730 4.31159, -61.33656 4.31136...  \n",
              "1  POLYGON ((-63.61441 3.73768, -63.61052 3.73712...  \n",
              "2  POLYGON ((-60.47539 3.60573, -60.47501 3.60507...  \n",
              "3  POLYGON ((-59.88384 3.56296, -59.88244 3.56296...  \n",
              "4  POLYGON ((-60.56198 2.87580, -60.56090 2.87470...  "
            ],
            "text/html": [
              "\n",
              "  <div id=\"df-f4a2f376-80de-445c-a435-3ec229691007\">\n",
              "    <div class=\"colab-df-container\">\n",
              "      <div>\n",
              "<style scoped>\n",
              "    .dataframe tbody tr th:only-of-type {\n",
              "        vertical-align: middle;\n",
              "    }\n",
              "\n",
              "    .dataframe tbody tr th {\n",
              "        vertical-align: top;\n",
              "    }\n",
              "\n",
              "    .dataframe thead th {\n",
              "        text-align: right;\n",
              "    }\n",
              "</style>\n",
              "<table border=\"1\" class=\"dataframe\">\n",
              "  <thead>\n",
              "    <tr style=\"text-align: right;\">\n",
              "      <th></th>\n",
              "      <th>NM_MUN</th>\n",
              "      <th>SIGLA</th>\n",
              "      <th>AREA_KM2</th>\n",
              "      <th>AREA_HA</th>\n",
              "      <th>geometry</th>\n",
              "    </tr>\n",
              "  </thead>\n",
              "  <tbody>\n",
              "    <tr>\n",
              "      <th>0</th>\n",
              "      <td>Amajari</td>\n",
              "      <td>RR</td>\n",
              "      <td>28473.450</td>\n",
              "      <td>2847345.0</td>\n",
              "      <td>POLYGON ((-61.33730 4.31159, -61.33656 4.31136...</td>\n",
              "    </tr>\n",
              "    <tr>\n",
              "      <th>1</th>\n",
              "      <td>Alto Alegre</td>\n",
              "      <td>RR</td>\n",
              "      <td>25454.297</td>\n",
              "      <td>2545429.7</td>\n",
              "      <td>POLYGON ((-63.61441 3.73768, -63.61052 3.73712...</td>\n",
              "    </tr>\n",
              "    <tr>\n",
              "      <th>2</th>\n",
              "      <td>Boa Vista</td>\n",
              "      <td>RR</td>\n",
              "      <td>5687.037</td>\n",
              "      <td>568703.7</td>\n",
              "      <td>POLYGON ((-60.47539 3.60573, -60.47501 3.60507...</td>\n",
              "    </tr>\n",
              "    <tr>\n",
              "      <th>3</th>\n",
              "      <td>Bonfim</td>\n",
              "      <td>RR</td>\n",
              "      <td>8079.914</td>\n",
              "      <td>807991.4</td>\n",
              "      <td>POLYGON ((-59.88384 3.56296, -59.88244 3.56296...</td>\n",
              "    </tr>\n",
              "    <tr>\n",
              "      <th>4</th>\n",
              "      <td>Cantá</td>\n",
              "      <td>RR</td>\n",
              "      <td>7664.831</td>\n",
              "      <td>766483.1</td>\n",
              "      <td>POLYGON ((-60.56198 2.87580, -60.56090 2.87470...</td>\n",
              "    </tr>\n",
              "  </tbody>\n",
              "</table>\n",
              "</div>\n",
              "      <button class=\"colab-df-convert\" onclick=\"convertToInteractive('df-f4a2f376-80de-445c-a435-3ec229691007')\"\n",
              "              title=\"Convert this dataframe to an interactive table.\"\n",
              "              style=\"display:none;\">\n",
              "        \n",
              "  <svg xmlns=\"http://www.w3.org/2000/svg\" height=\"24px\"viewBox=\"0 0 24 24\"\n",
              "       width=\"24px\">\n",
              "    <path d=\"M0 0h24v24H0V0z\" fill=\"none\"/>\n",
              "    <path d=\"M18.56 5.44l.94 2.06.94-2.06 2.06-.94-2.06-.94-.94-2.06-.94 2.06-2.06.94zm-11 1L8.5 8.5l.94-2.06 2.06-.94-2.06-.94L8.5 2.5l-.94 2.06-2.06.94zm10 10l.94 2.06.94-2.06 2.06-.94-2.06-.94-.94-2.06-.94 2.06-2.06.94z\"/><path d=\"M17.41 7.96l-1.37-1.37c-.4-.4-.92-.59-1.43-.59-.52 0-1.04.2-1.43.59L10.3 9.45l-7.72 7.72c-.78.78-.78 2.05 0 2.83L4 21.41c.39.39.9.59 1.41.59.51 0 1.02-.2 1.41-.59l7.78-7.78 2.81-2.81c.8-.78.8-2.07 0-2.86zM5.41 20L4 18.59l7.72-7.72 1.47 1.35L5.41 20z\"/>\n",
              "  </svg>\n",
              "      </button>\n",
              "      \n",
              "  <style>\n",
              "    .colab-df-container {\n",
              "      display:flex;\n",
              "      flex-wrap:wrap;\n",
              "      gap: 12px;\n",
              "    }\n",
              "\n",
              "    .colab-df-convert {\n",
              "      background-color: #E8F0FE;\n",
              "      border: none;\n",
              "      border-radius: 50%;\n",
              "      cursor: pointer;\n",
              "      display: none;\n",
              "      fill: #1967D2;\n",
              "      height: 32px;\n",
              "      padding: 0 0 0 0;\n",
              "      width: 32px;\n",
              "    }\n",
              "\n",
              "    .colab-df-convert:hover {\n",
              "      background-color: #E2EBFA;\n",
              "      box-shadow: 0px 1px 2px rgba(60, 64, 67, 0.3), 0px 1px 3px 1px rgba(60, 64, 67, 0.15);\n",
              "      fill: #174EA6;\n",
              "    }\n",
              "\n",
              "    [theme=dark] .colab-df-convert {\n",
              "      background-color: #3B4455;\n",
              "      fill: #D2E3FC;\n",
              "    }\n",
              "\n",
              "    [theme=dark] .colab-df-convert:hover {\n",
              "      background-color: #434B5C;\n",
              "      box-shadow: 0px 1px 3px 1px rgba(0, 0, 0, 0.15);\n",
              "      filter: drop-shadow(0px 1px 2px rgba(0, 0, 0, 0.3));\n",
              "      fill: #FFFFFF;\n",
              "    }\n",
              "  </style>\n",
              "\n",
              "      <script>\n",
              "        const buttonEl =\n",
              "          document.querySelector('#df-f4a2f376-80de-445c-a435-3ec229691007 button.colab-df-convert');\n",
              "        buttonEl.style.display =\n",
              "          google.colab.kernel.accessAllowed ? 'block' : 'none';\n",
              "\n",
              "        async function convertToInteractive(key) {\n",
              "          const element = document.querySelector('#df-f4a2f376-80de-445c-a435-3ec229691007');\n",
              "          const dataTable =\n",
              "            await google.colab.kernel.invokeFunction('convertToInteractive',\n",
              "                                                     [key], {});\n",
              "          if (!dataTable) return;\n",
              "\n",
              "          const docLinkHtml = 'Like what you see? Visit the ' +\n",
              "            '<a target=\"_blank\" href=https://colab.research.google.com/notebooks/data_table.ipynb>data table notebook</a>'\n",
              "            + ' to learn more about interactive tables.';\n",
              "          element.innerHTML = '';\n",
              "          dataTable['output_type'] = 'display_data';\n",
              "          await google.colab.output.renderOutput(dataTable, element);\n",
              "          const docLink = document.createElement('div');\n",
              "          docLink.innerHTML = docLinkHtml;\n",
              "          element.appendChild(docLink);\n",
              "        }\n",
              "      </script>\n",
              "    </div>\n",
              "  </div>\n",
              "  "
            ]
          },
          "metadata": {},
          "execution_count": 57
        }
      ],
      "source": [
        "dados_rr_epsg_4674.head()"
      ]
    },
    {
      "cell_type": "code",
      "execution_count": null,
      "id": "ef33db53",
      "metadata": {
        "id": "ef33db53",
        "outputId": "d7dc12e4-0938-4824-dc2c-6c469b478ee0",
        "colab": {
          "base_uri": "https://localhost:8080/",
          "height": 363
        }
      },
      "outputs": [
        {
          "output_type": "display_data",
          "data": {
            "text/plain": [
              "<Figure size 720x720 with 2 Axes>"
            ],
            "image/png": "[encoded data removed]"
          },
          "metadata": {
            "needs_background": "light"
          }
        }
      ],
      "source": [
        "import matplotlib.pyplot as plt\n",
        "\n",
        "# Fazendo um plot do lado do outro\n",
        "\n",
        "fig, (ax1, ax2) = plt.subplots(nrows=1, ncols=2, figsize=(10,10))\n",
        "\n",
        "dados_rr_epsg_4674.plot(ax=ax1, facecolor='gray')\n",
        "dados_rr.plot(ax=ax2, facecolor='gray')\n",
        "\n",
        "# Definir a proporção como 1\n",
        "ax1.set_aspect(aspect=1)\n",
        "ax2.set_aspect(aspect=1)\n"
      ]
    },
    {
      "cell_type": "code",
      "execution_count": null,
      "id": "6e83b69b",
      "metadata": {
        "id": "6e83b69b"
      },
      "outputs": [],
      "source": [
        "# Salvar o arquivo\n",
        "\n",
        "arquivo_saida = r\"/content/sample_data/RR_Municipios_2021/RR_Municipios_2021_EPSG_31982.shp\"\n",
        "\n",
        "dados_rr.to_file(arquivo_saida)"
      ]
    },
    {
      "cell_type": "code",
      "execution_count": null,
      "id": "424d073d",
      "metadata": {
        "id": "424d073d"
      },
      "outputs": [],
      "source": []
    }
  ],
  "metadata": {
    "kernelspec": {
      "display_name": "Python 3 (ipykernel)",
      "language": "python",
      "name": "python3"
    },
    "language_info": {
      "codemirror_mode": {
        "name": "ipython",
        "version": 3
      },
      "file_extension": ".py",
      "mimetype": "text/x-python",
      "name": "python",
      "nbconvert_exporter": "python",
      "pygments_lexer": "ipython3",
      "version": "3.10.6"
    },
    "colab": {
      "provenance": [],
      "include_colab_link": true
    }
  },
  "nbformat": 4,
  "nbformat_minor": 5
}