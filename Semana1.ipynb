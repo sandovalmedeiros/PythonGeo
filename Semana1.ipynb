{
  "nbformat": 4,
  "nbformat_minor": 0,
  "metadata": {
    "colab": {
      "provenance": [],
      "mount_file_id": "14sT12pcE7PymhAZpzfE_It06mQB09LbW",
      "authorship_tag": "ABX9TyO9pL0lJGGtsyj42Qh3SbNs",
      "include_colab_link": true
    },
    "kernelspec": {
      "name": "python3",
      "display_name": "Python 3"
    },
    "language_info": {
      "name": "python"
    }
  },
  "cells": [
    {
      "cell_type": "markdown",
      "metadata": {
        "id": "view-in-github",
        "colab_type": "text"
      },
      "source": [
        "<a href=\"https://colab.research.google.com/github/sandovalmedeiros/PythonGeo/blob/main/Semana1.ipynb\" target=\"_parent\"><img src=\"https://colab.research.google.com/assets/colab-badge.svg\" alt=\"Open In Colab\"/></a>"
      ]
    },
    {
      "cell_type": "code",
      "source": [
        "!pip install scikit-optimize"
      ],
      "metadata": {
        "id": "Lu4n-wTTAPCV"
      },
      "execution_count": null,
      "outputs": []
    },
    {
      "cell_type": "code",
      "execution_count": 21,
      "metadata": {
        "id": "fbTyTVNJ8fr4"
      },
      "outputs": [],
      "source": [
        "# -*- coding: utf-8 -*-\n",
        "\"\"\"\n",
        "Created on Tue Mar 22 15:28:33 2022\n",
        "\n",
        "@author: sarvi0\n",
        "\"\"\"\n",
        "\n",
        "import pandas as pd\n",
        "import numpy as np\n",
        "from sklearn.linear_model import LogisticRegression\n",
        "from sklearn.model_selection import cross_val_score\n",
        "from sklearn.metrics import confusion_matrix\n",
        "from sklearn.preprocessing import StandardScaler\n",
        "\n",
        "\n",
        "#baseline 76.555%\n",
        "#modelo 3 76.794%"
      ]
    },
    {
      "cell_type": "code",
      "source": [
        "#%% abrir o datase de treino e teste\n",
        "\n",
        "train = pd.read_csv('/content/drive/MyDrive/ELT579/Semana 1/train.csv')\n",
        "test = pd.read_csv('/content/drive/MyDrive/ELT579/Semana 1/test.csv')"
      ],
      "metadata": {
        "id": "MzanL-iu8pUR"
      },
      "execution_count": 22,
      "outputs": []
    },
    {
      "cell_type": "code",
      "source": [
        "#%% pre-processamento dos dados\n",
        "\n",
        "#descrição estátistica das features núméricas\n",
        "est = train.describe()\n",
        "\n",
        "print(train.info())\n",
        "\n",
        "#verificar valores nulos ou NAN\n",
        "print(train.isnull().sum())\n",
        "\n",
        "print(test.isnull().sum())\n",
        "\n",
        "#mapear as colunas\n",
        "col = pd.Series(list(train.columns))\n",
        "\n",
        "X_train = train.drop(['PassengerId', 'Survived'], axis = 1)\n",
        "\n",
        "X_test = test.drop(['PassengerId'], axis = 1)"
      ],
      "metadata": {
        "id": "rU31Fvwf9JtC"
      },
      "execution_count": null,
      "outputs": []
    },
    {
      "cell_type": "code",
      "source": [
        "#criar feature\n",
        "\n",
        "def criar_features(X):\n",
        "  subs = {'female':1, 'male':0}\n",
        "  X['mulher'] = X['Sex'].replace(subs)\n",
        "\n",
        "  X['Fare'] = X['Fare'].fillna(X['Fare'].mean())\n",
        "\n",
        "  X['Age'] = X['Age'].fillna(X['Age'].mean())\n",
        "\n",
        "  X['Embarked'] = X['Embarked'].fillna('S')\n",
        "\n",
        "  subs = {'S':1, 'C':2, 'Q':3}\n",
        "  X['porto'] = X['Embarked'].replace(subs)\n",
        "\n",
        "  X['crianca'] = 1\n",
        "  X['crianca'] = np.where(X['Age'] < 12, 1, 0)\n",
        "\n",
        "  return X\n",
        "\n",
        "X_train = criar_features(X_train)\n",
        "X_test = criar_features(X_test)"
      ],
      "metadata": {
        "id": "Lx49pUsm9KED"
      },
      "execution_count": 24,
      "outputs": []
    },
    {
      "cell_type": "code",
      "source": [
        "#%% Selecionar as features\n",
        "\n",
        "features = ['Pclass', 'Age', 'SibSp',\n",
        "       'Parch', 'Fare', 'mulher', 'porto', 'crianca']\n",
        "\n",
        "X_train = X_train[features]\n",
        "X_test = X_test[features]\n",
        "\n",
        "y_train = train['Survived']"
      ],
      "metadata": {
        "id": "4-zgFoOI9kMj"
      },
      "execution_count": 25,
      "outputs": []
    },
    {
      "cell_type": "code",
      "source": [
        "#%% Visualização\n",
        "\n",
        "import matplotlib.pyplot as plt\n",
        "\n",
        "for i in X_train.columns:\n",
        "    plt.hist(X_train[i])\n",
        "    plt.title(i)\n",
        "    plt.show()"
      ],
      "metadata": {
        "id": "smtql5_d9kXT"
      },
      "execution_count": null,
      "outputs": []
    },
    {
      "cell_type": "code",
      "source": [
        "#%% Groupy\n",
        "\n",
        "gp = train.groupby(['Survived']).count()\n",
        "\n",
        "#%% pivot_table\n",
        "\n",
        "table = pd.pivot_table(train, index = ['Survived'], columns = ['Pclass'], values = 'PassengerId', aggfunc = 'count')"
      ],
      "metadata": {
        "id": "Z4j4SmfU9kpy"
      },
      "execution_count": 27,
      "outputs": []
    },
    {
      "cell_type": "code",
      "source": [
        "#%% Padronização das variáveis\n",
        "\n",
        "scaler = StandardScaler() #media 0 e desvio padrão 1\n",
        "\n",
        "X_train_sc = scaler.fit_transform(X_train)\n",
        "\n",
        "X_test_sc = scaler.transform(X_test)\n"
      ],
      "metadata": {
        "id": "lg9-pjtQ-Y-r"
      },
      "execution_count": 28,
      "outputs": []
    },
    {
      "cell_type": "code",
      "source": [
        "#%% modelo e validação cruzada\n",
        "\n",
        "#Logistic Regression\n",
        "model_lr = LogisticRegression (random_state= 0 )\n",
        "\n",
        "score = cross_val_score(model_lr, X_train_sc, y_train, cv = 10)\n",
        "\n",
        "print(np.mean(score))"
      ],
      "metadata": {
        "colab": {
          "base_uri": "https://localhost:8080/"
        },
        "id": "ivPiKCWR-ZJB",
        "outputId": "e85b86d9-7f88-4e52-9570-308ae0668801"
      },
      "execution_count": 29,
      "outputs": [
        {
          "output_type": "stream",
          "name": "stdout",
          "text": [
            "0.8058302122347065\n"
          ]
        }
      ]
    },
    {
      "cell_type": "code",
      "source": [
        "#%% Naive Bayes para Classificação\n",
        "\n",
        "from sklearn.naive_bayes import GaussianNB\n",
        "\n",
        "model_nb = GaussianNB()\n",
        "\n",
        "score = cross_val_score(model_nb, X_train_sc, y_train, cv = 10)\n",
        "\n",
        "print(np.mean(score))"
      ],
      "metadata": {
        "colab": {
          "base_uri": "https://localhost:8080/"
        },
        "id": "PlHJ2cMg-ZR6",
        "outputId": "5939fdb9-78f0-44b5-e113-671b8af5bcfe"
      },
      "execution_count": 30,
      "outputs": [
        {
          "output_type": "stream",
          "name": "stdout",
          "text": [
            "0.8036079900124845\n"
          ]
        }
      ]
    },
    {
      "cell_type": "code",
      "source": [
        "#%% KNN para classificação\n",
        "from sklearn.neighbors import KNeighborsClassifier\n",
        "\n",
        "model_knn = KNeighborsClassifier(n_neighbors= 5, p = 2)\n",
        "\n",
        "score = cross_val_score(model_knn, X_train_sc, y_train, cv = 10)\n",
        "\n",
        "print(np.mean(score))"
      ],
      "metadata": {
        "colab": {
          "base_uri": "https://localhost:8080/"
        },
        "id": "Ijq_jCaA-Zaa",
        "outputId": "6d0c9933-2b75-4884-d192-086b3124c2e1"
      },
      "execution_count": 31,
      "outputs": [
        {
          "output_type": "stream",
          "name": "stdout",
          "text": [
            "0.811498127340824\n"
          ]
        }
      ]
    },
    {
      "cell_type": "code",
      "source": [
        "#%% SVM para classificação\n",
        "from sklearn.svm import SVC\n",
        "\n",
        "model_svc = SVC(C = 3, kernel = 'rbf', degree = 2, gamma = 0.1)\n",
        "\n",
        "score = cross_val_score(model_svc, X_train_sc, y_train, cv = 10)\n",
        "\n",
        "print(np.mean(score))"
      ],
      "metadata": {
        "colab": {
          "base_uri": "https://localhost:8080/"
        },
        "id": "mpFd5d9r_HXL",
        "outputId": "6b175c0f-0d07-428f-ffdb-599900a39a93"
      },
      "execution_count": 32,
      "outputs": [
        {
          "output_type": "stream",
          "name": "stdout",
          "text": [
            "0.8316479400749064\n"
          ]
        }
      ]
    },
    {
      "cell_type": "code",
      "source": [
        "#%% Decision Tree\n",
        "\n",
        "from sklearn.tree import DecisionTreeClassifier\n",
        "\n",
        "model_dt = DecisionTreeClassifier(criterion = 'entropy', max_depth = 3, min_samples_split = 2, min_samples_leaf = 1, random_state = 0)\n",
        "\n",
        "score = cross_val_score(model_dt, X_train_sc, y_train, cv = 10)\n",
        "\n",
        "print(np.mean(score))"
      ],
      "metadata": {
        "colab": {
          "base_uri": "https://localhost:8080/"
        },
        "id": "f5IAG_b8_HhQ",
        "outputId": "a0446c0b-c794-4453-d718-0bda0e69bd82"
      },
      "execution_count": 33,
      "outputs": [
        {
          "output_type": "stream",
          "name": "stdout",
          "text": [
            "0.8170536828963796\n"
          ]
        }
      ]
    },
    {
      "cell_type": "code",
      "source": [
        "#%% Random Forest\n",
        "\n",
        "from sklearn.ensemble import RandomForestClassifier\n",
        "\n",
        "model_rf = RandomForestClassifier(criterion = 'entropy', n_estimators = 100, max_depth = 5, min_samples_split = 2, min_samples_leaf = 1, random_state = 0)\n",
        "\n",
        "score = cross_val_score(model_rf, X_train_sc, y_train, cv = 10)\n",
        "\n",
        "print(np.mean(score))"
      ],
      "metadata": {
        "colab": {
          "base_uri": "https://localhost:8080/"
        },
        "id": "H9MXe2-2_Hri",
        "outputId": "cc9957e1-ac08-4b12-b2af-8b1abbb7b998"
      },
      "execution_count": 34,
      "outputs": [
        {
          "output_type": "stream",
          "name": "stdout",
          "text": [
            "0.8261048689138576\n"
          ]
        }
      ]
    },
    {
      "cell_type": "code",
      "source": [
        "#%% Otimização de hiperparametros\n",
        "\n",
        "from skopt import gp_minimize\n",
        "\n",
        "def treinar_modelo(parametros):\n",
        "\n",
        "  model_rf = RandomForestClassifier(criterion = parametros[0], n_estimators = parametros[1], max_depth = parametros[2],\n",
        "                                    min_samples_split = parametros[3], min_samples_leaf = parametros[4], random_state = 0, n_jobs = -1 )\n",
        "\n",
        "  score = cross_val_score(model_rf, X_train_sc, y_train, cv = 10)\n",
        "\n",
        "  mean_score = np.mean(score)\n",
        "\n",
        "  print(np.mean(score))\n",
        "\n",
        "  return -mean_score\n",
        "\n",
        "parametros = [('entropy', 'gini'),\n",
        "              (100, 1000),\n",
        "              (3, 20),\n",
        "              (2, 10),\n",
        "              (1, 10)]\n",
        "\n",
        "\n",
        "otimos = gp_minimize(treinar_modelo, parametros, random_state = 0, verbose = 1, n_calls = 30, n_random_starts = 10  )\n",
        "\n",
        "\n",
        "print(otimos.fun, otimos.x)"
      ],
      "metadata": {
        "colab": {
          "base_uri": "https://localhost:8080/"
        },
        "id": "yRufARgr_ZCj",
        "outputId": "1374e6f6-1649-4397-9872-686ab0d53181"
      },
      "execution_count": 35,
      "outputs": [
        {
          "output_type": "stream",
          "name": "stdout",
          "text": [
            "Iteration No: 1 started. Evaluating function at random point.\n",
            "0.8227465667915107\n",
            "Iteration No: 1 ended. Evaluation done at random point.\n",
            "Time taken: 42.8722\n",
            "Function value obtained: -0.8227\n",
            "Current minimum: -0.8227\n",
            "Iteration No: 2 started. Evaluating function at random point.\n",
            "0.829450686641698\n",
            "Iteration No: 2 ended. Evaluation done at random point.\n",
            "Time taken: 11.1675\n",
            "Function value obtained: -0.8295\n",
            "Current minimum: -0.8295\n",
            "Iteration No: 3 started. Evaluating function at random point.\n",
            "0.8249937578027466\n",
            "Iteration No: 3 ended. Evaluation done at random point.\n",
            "Time taken: 24.0109\n",
            "Function value obtained: -0.8250\n",
            "Current minimum: -0.8295\n",
            "Iteration No: 4 started. Evaluating function at random point.\n",
            "0.8227340823970037\n",
            "Iteration No: 4 ended. Evaluation done at random point.\n",
            "Time taken: 22.0498\n",
            "Function value obtained: -0.8227\n",
            "Current minimum: -0.8295\n",
            "Iteration No: 5 started. Evaluating function at random point.\n",
            "0.8272409488139825\n",
            "Iteration No: 5 ended. Evaluation done at random point.\n",
            "Time taken: 23.9855\n",
            "Function value obtained: -0.8272\n",
            "Current minimum: -0.8295\n",
            "Iteration No: 6 started. Evaluating function at random point.\n",
            "0.8294881398252185\n",
            "Iteration No: 6 ended. Evaluation done at random point.\n",
            "Time taken: 18.2300\n",
            "Function value obtained: -0.8295\n",
            "Current minimum: -0.8295\n",
            "Iteration No: 7 started. Evaluating function at random point.\n",
            "0.8227340823970037\n",
            "Iteration No: 7 ended. Evaluation done at random point.\n",
            "Time taken: 22.7053\n",
            "Function value obtained: -0.8227\n",
            "Current minimum: -0.8295\n",
            "Iteration No: 8 started. Evaluating function at random point.\n",
            "0.8250062421972533\n",
            "Iteration No: 8 ended. Evaluation done at random point.\n",
            "Time taken: 8.8278\n",
            "Function value obtained: -0.8250\n",
            "Current minimum: -0.8295\n",
            "Iteration No: 9 started. Evaluating function at random point.\n",
            "0.8238451935081148\n",
            "Iteration No: 9 ended. Evaluation done at random point.\n",
            "Time taken: 26.7179\n",
            "Function value obtained: -0.8238\n",
            "Current minimum: -0.8295\n",
            "Iteration No: 10 started. Evaluating function at random point.\n",
            "0.8272409488139825\n",
            "Iteration No: 10 ended. Evaluation done at random point.\n",
            "Time taken: 13.2272\n",
            "Function value obtained: -0.8272\n",
            "Current minimum: -0.8295\n",
            "Iteration No: 11 started. Searching for the next optimal point.\n",
            "0.8115106117353308\n",
            "Iteration No: 11 ended. Search finished for the next optimal point.\n",
            "Time taken: 9.8032\n",
            "Function value obtained: -0.8115\n",
            "Current minimum: -0.8295\n",
            "Iteration No: 12 started. Searching for the next optimal point.\n",
            "0.8227340823970037\n",
            "Iteration No: 12 ended. Search finished for the next optimal point.\n",
            "Time taken: 26.5601\n",
            "Function value obtained: -0.8227\n",
            "Current minimum: -0.8295\n",
            "Iteration No: 13 started. Searching for the next optimal point.\n",
            "0.827191011235955\n",
            "Iteration No: 13 ended. Search finished for the next optimal point.\n",
            "Time taken: 25.7566\n",
            "Function value obtained: -0.8272\n",
            "Current minimum: -0.8295\n",
            "Iteration No: 14 started. Searching for the next optimal point.\n",
            "0.8316853932584269\n",
            "Iteration No: 14 ended. Search finished for the next optimal point.\n",
            "Time taken: 28.8509\n",
            "Function value obtained: -0.8317\n",
            "Current minimum: -0.8317\n",
            "Iteration No: 15 started. Searching for the next optimal point.\n",
            "0.8283770287141075\n",
            "Iteration No: 15 ended. Search finished for the next optimal point.\n",
            "Time taken: 20.5279\n",
            "Function value obtained: -0.8284\n",
            "Current minimum: -0.8317\n",
            "Iteration No: 16 started. Searching for the next optimal point.\n",
            "0.8260923845193509\n",
            "Iteration No: 16 ended. Search finished for the next optimal point.\n",
            "Time taken: 14.7602\n",
            "Function value obtained: -0.8261\n",
            "Current minimum: -0.8317\n",
            "Iteration No: 17 started. Searching for the next optimal point.\n",
            "0.8260923845193509\n",
            "Iteration No: 17 ended. Search finished for the next optimal point.\n",
            "Time taken: 3.6099\n",
            "Function value obtained: -0.8261\n",
            "Current minimum: -0.8317\n",
            "Iteration No: 18 started. Searching for the next optimal point.\n",
            "0.8227465667915107\n",
            "Iteration No: 18 ended. Search finished for the next optimal point.\n",
            "Time taken: 23.9440\n",
            "Function value obtained: -0.8227\n",
            "Current minimum: -0.8317\n",
            "Iteration No: 19 started. Searching for the next optimal point.\n",
            "0.827191011235955\n",
            "Iteration No: 19 ended. Search finished for the next optimal point.\n",
            "Time taken: 26.8289\n",
            "Function value obtained: -0.8272\n",
            "Current minimum: -0.8317\n",
            "Iteration No: 20 started. Searching for the next optimal point.\n",
            "0.8238951310861424\n",
            "Iteration No: 20 ended. Search finished for the next optimal point.\n",
            "Time taken: 21.9223\n",
            "Function value obtained: -0.8239\n",
            "Current minimum: -0.8317\n",
            "Iteration No: 21 started. Searching for the next optimal point.\n",
            "0.8204993757802747\n",
            "Iteration No: 21 ended. Search finished for the next optimal point.\n",
            "Time taken: 25.8089\n",
            "Function value obtained: -0.8205\n",
            "Current minimum: -0.8317\n",
            "Iteration No: 22 started. Searching for the next optimal point.\n",
            "0.8294881398252185\n",
            "Iteration No: 22 ended. Search finished for the next optimal point.\n",
            "Time taken: 18.9052\n",
            "Function value obtained: -0.8295\n",
            "Current minimum: -0.8317\n",
            "Iteration No: 23 started. Searching for the next optimal point.\n",
            "0.8193757802746567\n",
            "Iteration No: 23 ended. Search finished for the next optimal point.\n",
            "Time taken: 23.4879\n",
            "Function value obtained: -0.8194\n",
            "Current minimum: -0.8317\n",
            "Iteration No: 24 started. Searching for the next optimal point.\n",
            "0.8294756554307117\n",
            "Iteration No: 24 ended. Search finished for the next optimal point.\n",
            "Time taken: 19.9192\n",
            "Function value obtained: -0.8295\n",
            "Current minimum: -0.8317\n",
            "Iteration No: 25 started. Searching for the next optimal point.\n",
            "0.8294881398252185\n",
            "Iteration No: 25 ended. Search finished for the next optimal point.\n",
            "Time taken: 5.9259\n",
            "Function value obtained: -0.8295\n",
            "Current minimum: -0.8317\n",
            "Iteration No: 26 started. Searching for the next optimal point.\n",
            "0.8272534332084895\n",
            "Iteration No: 26 ended. Search finished for the next optimal point.\n",
            "Time taken: 18.2279\n",
            "Function value obtained: -0.8273\n",
            "Current minimum: -0.8317\n",
            "Iteration No: 27 started. Searching for the next optimal point.\n",
            "0.8238451935081148\n",
            "Iteration No: 27 ended. Search finished for the next optimal point.\n",
            "Time taken: 5.1766\n",
            "Function value obtained: -0.8238\n",
            "Current minimum: -0.8317\n",
            "Iteration No: 28 started. Searching for the next optimal point.\n",
            "0.8249812734082397\n",
            "Iteration No: 28 ended. Search finished for the next optimal point.\n",
            "Time taken: 5.4580\n",
            "Function value obtained: -0.8250\n",
            "Current minimum: -0.8317\n",
            "Iteration No: 29 started. Searching for the next optimal point.\n",
            "0.8283770287141075\n",
            "Iteration No: 29 ended. Search finished for the next optimal point.\n",
            "Time taken: 7.5598\n",
            "Function value obtained: -0.8284\n",
            "Current minimum: -0.8317\n",
            "Iteration No: 30 started. Searching for the next optimal point.\n",
            "0.8238701622971286\n",
            "Iteration No: 30 ended. Search finished for the next optimal point.\n",
            "Time taken: 16.1657\n",
            "Function value obtained: -0.8239\n",
            "Current minimum: -0.8317\n",
            "-0.8316853932584269 ['entropy', 974, 4, 10, 1]\n"
          ]
        }
      ]
    },
    {
      "cell_type": "code",
      "source": [
        "#%% Ensanble model (Voting)\n",
        "from sklearn.ensemble import VotingClassifier\n",
        "\n",
        "model_voting = VotingClassifier(estimators = [('LR', model_lr), ('KNN', model_knn), ('SVC', model_svc), ('RF', model_rf)], voting = 'hard')\n",
        "\n",
        "model_voting.fit(X_train_sc, y_train)\n",
        "\n",
        "score = cross_val_score(model_voting, X_train_sc, y_train, cv = 10)\n",
        "\n",
        "print(np.mean(score))"
      ],
      "metadata": {
        "colab": {
          "base_uri": "https://localhost:8080/"
        },
        "id": "Q6ZFvuxD_ZMJ",
        "outputId": "b22d5cf6-54ae-4e2a-cbc3-0c542965746e"
      },
      "execution_count": 36,
      "outputs": [
        {
          "output_type": "stream",
          "name": "stdout",
          "text": [
            "0.8294257178526842\n"
          ]
        }
      ]
    },
    {
      "cell_type": "code",
      "source": [
        "#%% modelo final\n",
        "\n",
        "model_rf = RandomForestClassifier(criterion = otimos.x[0], n_estimators = otimos.x[1], max_depth = otimos.x[2],\n",
        "                                    min_samples_split = otimos.x[3], min_samples_leaf = otimos.x[4], random_state = 0, n_jobs = -1 )\n",
        "\n",
        "model_rf.fit(X_train_sc, y_train)\n",
        "\n",
        "y_pred = model_rf.predict(X_train_sc)\n",
        "\n",
        "mc = confusion_matrix(y_train, y_pred)\n",
        "print(mc)\n",
        "\n",
        "score = model_rf.score(X_train_sc, y_train)\n",
        "print(score)\n"
      ],
      "metadata": {
        "colab": {
          "base_uri": "https://localhost:8080/"
        },
        "id": "R-gOkMTh_H6B",
        "outputId": "7d13d675-3399-48c3-db2f-d4736e897dbb"
      },
      "execution_count": 37,
      "outputs": [
        {
          "output_type": "stream",
          "name": "stdout",
          "text": [
            "[[521  28]\n",
            " [114 228]]\n",
            "0.8406285072951739\n"
          ]
        }
      ]
    },
    {
      "cell_type": "code",
      "source": [
        "#%% predição nos dados de teste\n",
        "\n",
        "y_pred = model_voting.predict(X_test_sc)\n",
        "\n",
        "submission = pd.DataFrame(test['PassengerId'])\n",
        "\n",
        "submission['Survived'] = y_pred\n",
        "\n",
        "submission.to_csv('submission_professor2.csv', index = False)\n"
      ],
      "metadata": {
        "id": "jXC-1tgnAmmE"
      },
      "execution_count": 51,
      "outputs": []
    },
    {
      "cell_type": "code",
      "source": [
        "print(submission)"
      ],
      "metadata": {
        "colab": {
          "base_uri": "https://localhost:8080/"
        },
        "id": "gQPJVjHQIZOK",
        "outputId": "2b733a2b-39ff-4fb5-a260-86c5c5b26701"
      },
      "execution_count": 41,
      "outputs": [
        {
          "output_type": "stream",
          "name": "stdout",
          "text": [
            "     PassengerId  Survived\n",
            "0            892         0\n",
            "1            893         0\n",
            "2            894         0\n",
            "3            895         0\n",
            "4            896         0\n",
            "..           ...       ...\n",
            "413         1305         0\n",
            "414         1306         1\n",
            "415         1307         0\n",
            "416         1308         0\n",
            "417         1309         0\n",
            "\n",
            "[418 rows x 2 columns]\n"
          ]
        }
      ]
    },
    {
      "cell_type": "code",
      "source": [
        "print(y_pred)"
      ],
      "metadata": {
        "colab": {
          "base_uri": "https://localhost:8080/"
        },
        "id": "sucRaFMHIOl9",
        "outputId": "02fbed18-542e-4e14-e4d2-1a2dc6382a50"
      },
      "execution_count": 40,
      "outputs": [
        {
          "output_type": "stream",
          "name": "stdout",
          "text": [
            "[0 0 0 0 0 0 1 0 1 0 0 0 1 0 1 1 0 0 0 0 0 1 1 0 1 0 1 0 0 0 0 0 0 0 0 0 0\n",
            " 0 0 0 0 0 0 1 1 0 0 0 1 0 0 0 1 1 0 0 0 0 0 1 0 0 0 1 0 1 1 0 0 1 1 0 0 0\n",
            " 1 0 0 1 0 1 1 0 0 0 0 0 1 0 1 1 0 0 1 0 0 0 1 0 0 0 1 0 0 0 1 0 0 0 0 0 0\n",
            " 1 1 1 1 0 0 1 0 1 1 0 1 0 0 1 0 1 0 0 0 0 0 0 0 0 0 0 0 0 0 1 0 0 0 0 0 0\n",
            " 0 0 1 0 0 0 0 0 1 0 0 1 1 1 1 0 0 0 0 0 1 0 0 0 0 0 0 1 1 0 1 1 0 0 1 0 1\n",
            " 0 1 0 0 0 0 0 1 0 1 0 1 0 0 0 1 1 0 1 0 0 1 0 1 0 0 0 0 1 0 0 1 0 1 0 1 0\n",
            " 1 0 1 1 0 1 0 0 0 1 0 0 0 0 0 0 1 1 1 1 0 0 0 0 1 0 1 1 1 0 0 0 0 0 0 0 1\n",
            " 0 0 0 1 1 0 0 0 0 0 0 0 0 1 1 0 1 0 0 0 0 0 1 1 1 1 0 0 0 0 0 0 1 0 0 0 0\n",
            " 1 0 0 0 0 0 0 0 1 1 0 1 0 0 0 0 0 1 1 1 0 0 0 0 0 0 0 0 1 0 1 0 0 0 1 0 0\n",
            " 1 0 0 0 0 0 0 0 0 0 1 0 0 0 0 0 1 1 0 0 0 1 0 1 0 0 0 0 1 1 0 1 0 0 0 1 0\n",
            " 0 1 0 0 1 1 0 0 0 0 0 0 0 0 0 1 0 0 0 0 0 1 0 0 0 1 0 1 0 0 1 0 1 0 0 0 0\n",
            " 0 1 1 1 1 0 0 1 0 0 0]\n"
          ]
        }
      ]
    },
    {
      "cell_type": "code",
      "source": [
        "print(test)"
      ],
      "metadata": {
        "colab": {
          "base_uri": "https://localhost:8080/"
        },
        "id": "fBt_W2QFAnA1",
        "outputId": "3e6cb623-c212-4d2d-847b-137a60d71f5a"
      },
      "execution_count": 39,
      "outputs": [
        {
          "output_type": "stream",
          "name": "stdout",
          "text": [
            "     PassengerId  Pclass                                          Name  \\\n",
            "0            892       3                              Kelly, Mr. James   \n",
            "1            893       3              Wilkes, Mrs. James (Ellen Needs)   \n",
            "2            894       2                     Myles, Mr. Thomas Francis   \n",
            "3            895       3                              Wirz, Mr. Albert   \n",
            "4            896       3  Hirvonen, Mrs. Alexander (Helga E Lindqvist)   \n",
            "..           ...     ...                                           ...   \n",
            "413         1305       3                            Spector, Mr. Woolf   \n",
            "414         1306       1                  Oliva y Ocana, Dona. Fermina   \n",
            "415         1307       3                  Saether, Mr. Simon Sivertsen   \n",
            "416         1308       3                           Ware, Mr. Frederick   \n",
            "417         1309       3                      Peter, Master. Michael J   \n",
            "\n",
            "        Sex   Age  SibSp  Parch              Ticket      Fare Cabin Embarked  \n",
            "0      male  34.5      0      0              330911    7.8292   NaN        Q  \n",
            "1    female  47.0      1      0              363272    7.0000   NaN        S  \n",
            "2      male  62.0      0      0              240276    9.6875   NaN        Q  \n",
            "3      male  27.0      0      0              315154    8.6625   NaN        S  \n",
            "4    female  22.0      1      1             3101298   12.2875   NaN        S  \n",
            "..      ...   ...    ...    ...                 ...       ...   ...      ...  \n",
            "413    male   NaN      0      0           A.5. 3236    8.0500   NaN        S  \n",
            "414  female  39.0      0      0            PC 17758  108.9000  C105        C  \n",
            "415    male  38.5      0      0  SOTON/O.Q. 3101262    7.2500   NaN        S  \n",
            "416    male   NaN      0      0              359309    8.0500   NaN        S  \n",
            "417    male   NaN      1      1                2668   22.3583   NaN        C  \n",
            "\n",
            "[418 rows x 11 columns]\n"
          ]
        }
      ]
    },
    {
      "cell_type": "code",
      "source": [
        "print(X_test_sc)"
      ],
      "metadata": {
        "colab": {
          "base_uri": "https://localhost:8080/"
        },
        "id": "2LBSZq9uIXnC",
        "outputId": "f0a9d31f-34b7-4ab7-d4f0-c4d4ff290433"
      },
      "execution_count": 50,
      "outputs": [
        {
          "output_type": "stream",
          "name": "stdout",
          "text": [
            "[[ 0.82737724  0.36944878 -0.4745452  ... -0.73769513  2.57919938\n",
            "  -0.28744485]\n",
            " [ 0.82737724  1.33137817  0.43279337 ...  1.35557354 -0.56883712\n",
            "  -0.28744485]\n",
            " [-0.36936484  2.48569343 -0.4745452  ... -0.73769513  2.57919938\n",
            "  -0.28744485]\n",
            " ...\n",
            " [ 0.82737724  0.67726619 -0.4745452  ... -0.73769513 -0.56883712\n",
            "  -0.28744485]\n",
            " [ 0.82737724  0.04413122 -0.4745452  ... -0.73769513 -0.56883712\n",
            "  -0.28744485]\n",
            " [ 0.82737724  0.04413122  0.43279337 ... -0.73769513  1.00518113\n",
            "  -0.28744485]]\n"
          ]
        }
      ]
    },
    {
      "cell_type": "markdown",
      "source": [],
      "metadata": {
        "id": "uRK4uRYP9Hkg"
      }
    }
  ]
}