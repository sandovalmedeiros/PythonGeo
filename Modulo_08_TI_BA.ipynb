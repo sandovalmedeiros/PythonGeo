{
 "cells": [
  {
   "cell_type": "markdown",
   "id": "b2f785e9",
   "metadata": {
    "id": "20d69be9"
   },
   "source": [
    "# Módulo 08 - Estruturas de Dados\n",
    "\n",
    "## GeoSeries vs GeoDataframe\n",
    "\n",
    "A `GeoSeries` é um vetor onde cada entrada no vetor é um conjunto de formas correspondentes a uma observação, por exemplo, um único polígono.\n",
    "\n",
    "Já o `GeoDataframe` é uma estrutura de dados que contém um arquivo `GeoSeries`."
   ]
  },
  {
   "cell_type": "code",
   "execution_count": 1,
   "id": "bd620ab7",
   "metadata": {
    "scrolled": false
   },
   "outputs": [
    {
     "name": "stdout",
     "output_type": "stream",
     "text": [
      "Defaulting to user installation because normal site-packages is not writeable\n",
      "Collecting osgeo\n",
      "  Using cached osgeo-0.0.1.tar.gz (1.2 kB)\n",
      "Building wheels for collected packages: osgeo\n",
      "  Building wheel for osgeo (setup.py): started\n",
      "  Building wheel for osgeo (setup.py): finished with status 'error'\n",
      "  Running setup.py clean for osgeo\n",
      "Failed to build osgeo\n",
      "Installing collected packages: osgeo\n",
      "    Running setup.py install for osgeo: started\n",
      "    Running setup.py install for osgeo: finished with status 'error'\n"
     ]
    },
    {
     "name": "stderr",
     "output_type": "stream",
     "text": [
      "  ERROR: Command errored out with exit status 1:\n",
      "   command: 'C:\\Program Files\\ArcGIS\\Pro\\bin\\Python\\envs\\arcgispro-py3\\python.exe' -u -c 'import io, os, sys, setuptools, tokenize; sys.argv[0] = '\"'\"'C:\\\\Users\\\\DELL\\\\AppData\\\\Local\\\\Temp\\\\pip-install-a2oqgvg7\\\\osgeo_c9b30b8bb891479399c06953b5a0378f\\\\setup.py'\"'\"'; __file__='\"'\"'C:\\\\Users\\\\DELL\\\\AppData\\\\Local\\\\Temp\\\\pip-install-a2oqgvg7\\\\osgeo_c9b30b8bb891479399c06953b5a0378f\\\\setup.py'\"'\"';f = getattr(tokenize, '\"'\"'open'\"'\"', open)(__file__) if os.path.exists(__file__) else io.StringIO('\"'\"'from setuptools import setup; setup()'\"'\"');code = f.read().replace('\"'\"'\\r\\n'\"'\"', '\"'\"'\\n'\"'\"');f.close();exec(compile(code, __file__, '\"'\"'exec'\"'\"'))' bdist_wheel -d 'C:\\Users\\DELL\\AppData\\Local\\Temp\\pip-wheel-gz89z07o'\n",
      "       cwd: C:\\Users\\DELL\\AppData\\Local\\Temp\\pip-install-a2oqgvg7\\osgeo_c9b30b8bb891479399c06953b5a0378f\\\n",
      "  Complete output (31 lines):\n",
      "  running bdist_wheel\n",
      "  running build\n",
      "  C:\\Program Files\\ArcGIS\\Pro\\bin\\Python\\envs\\arcgispro-py3\\lib\\site-packages\\setuptools\\command\\install.py:34: SetuptoolsDeprecationWarning: setup.py install is deprecated. Use build and pip and other standards-based tools.\n",
      "    warnings.warn(\n",
      "  installing to build\\bdist.win-amd64\\wheel\n",
      "  running install\n",
      "  Traceback (most recent call last):\n",
      "    File \"<string>\", line 1, in <module>\n",
      "    File \"C:\\Users\\DELL\\AppData\\Local\\Temp\\pip-install-a2oqgvg7\\osgeo_c9b30b8bb891479399c06953b5a0378f\\setup.py\", line 32, in <module>\n",
      "      setup(\n",
      "    File \"C:\\Program Files\\ArcGIS\\Pro\\bin\\Python\\envs\\arcgispro-py3\\lib\\site-packages\\setuptools\\__init__.py\", line 155, in setup\n",
      "      return distutils.core.setup(**attrs)\n",
      "    File \"C:\\Program Files\\ArcGIS\\Pro\\bin\\Python\\envs\\arcgispro-py3\\lib\\site-packages\\setuptools\\_distutils\\core.py\", line 148, in setup\n",
      "      return run_commands(dist)\n",
      "    File \"C:\\Program Files\\ArcGIS\\Pro\\bin\\Python\\envs\\arcgispro-py3\\lib\\site-packages\\setuptools\\_distutils\\core.py\", line 163, in run_commands\n",
      "      dist.run_commands()\n",
      "    File \"C:\\Program Files\\ArcGIS\\Pro\\bin\\Python\\envs\\arcgispro-py3\\lib\\site-packages\\setuptools\\_distutils\\dist.py\", line 967, in run_commands\n",
      "      self.run_command(cmd)\n",
      "    File \"C:\\Program Files\\ArcGIS\\Pro\\bin\\Python\\envs\\arcgispro-py3\\lib\\site-packages\\setuptools\\_distutils\\dist.py\", line 986, in run_command\n",
      "      cmd_obj.run()\n",
      "    File \"C:\\Program Files\\ArcGIS\\Pro\\bin\\Python\\envs\\arcgispro-py3\\lib\\site-packages\\wheel\\bdist_wheel.py\", line 335, in run\n",
      "      self.run_command('install')\n",
      "    File \"C:\\Program Files\\ArcGIS\\Pro\\bin\\Python\\envs\\arcgispro-py3\\lib\\site-packages\\setuptools\\_distutils\\cmd.py\", line 313, in run_command\n",
      "      self.distribution.run_command(command)\n",
      "    File \"C:\\Program Files\\ArcGIS\\Pro\\bin\\Python\\envs\\arcgispro-py3\\lib\\site-packages\\setuptools\\_distutils\\dist.py\", line 986, in run_command\n",
      "      cmd_obj.run()\n",
      "    File \"C:\\Users\\DELL\\AppData\\Local\\Temp\\pip-install-a2oqgvg7\\osgeo_c9b30b8bb891479399c06953b5a0378f\\setup.py\", line 27, in run\n",
      "      raise Exception(error_msg)\n",
      "  Exception: In order to be able to run `from osgeo import gdal`,\n",
      "  You were probably trying to install `gdal` by running `pip install osgeo`.\n",
      "  Instead, you should either `pip install gdal` or replace `osgeo` with `gdal` in your requirements.\n",
      "  ----------------------------------------\n",
      "  ERROR: Failed building wheel for osgeo\n",
      "    ERROR: Command errored out with exit status 1:\n",
      "     command: 'C:\\Program Files\\ArcGIS\\Pro\\bin\\Python\\envs\\arcgispro-py3\\python.exe' -u -c 'import io, os, sys, setuptools, tokenize; sys.argv[0] = '\"'\"'C:\\\\Users\\\\DELL\\\\AppData\\\\Local\\\\Temp\\\\pip-install-a2oqgvg7\\\\osgeo_c9b30b8bb891479399c06953b5a0378f\\\\setup.py'\"'\"'; __file__='\"'\"'C:\\\\Users\\\\DELL\\\\AppData\\\\Local\\\\Temp\\\\pip-install-a2oqgvg7\\\\osgeo_c9b30b8bb891479399c06953b5a0378f\\\\setup.py'\"'\"';f = getattr(tokenize, '\"'\"'open'\"'\"', open)(__file__) if os.path.exists(__file__) else io.StringIO('\"'\"'from setuptools import setup; setup()'\"'\"');code = f.read().replace('\"'\"'\\r\\n'\"'\"', '\"'\"'\\n'\"'\"');f.close();exec(compile(code, __file__, '\"'\"'exec'\"'\"'))' install --record 'C:\\Users\\DELL\\AppData\\Local\\Temp\\pip-record-gvhdc8wp\\install-record.txt' --single-version-externally-managed --user --prefix= --compile --install-headers 'C:\\Users\\DELL\\AppData\\Roaming\\Python\\Python39\\Include\\osgeo'\n",
      "         cwd: C:\\Users\\DELL\\AppData\\Local\\Temp\\pip-install-a2oqgvg7\\osgeo_c9b30b8bb891479399c06953b5a0378f\\\n",
      "    Complete output (22 lines):\n",
      "    running install\n",
      "    C:\\Program Files\\ArcGIS\\Pro\\bin\\Python\\envs\\arcgispro-py3\\lib\\site-packages\\setuptools\\command\\install.py:34: SetuptoolsDeprecationWarning: setup.py install is deprecated. Use build and pip and other standards-based tools.\n",
      "      warnings.warn(\n",
      "    Traceback (most recent call last):\n",
      "      File \"<string>\", line 1, in <module>\n",
      "      File \"C:\\Users\\DELL\\AppData\\Local\\Temp\\pip-install-a2oqgvg7\\osgeo_c9b30b8bb891479399c06953b5a0378f\\setup.py\", line 32, in <module>\n",
      "        setup(\n",
      "      File \"C:\\Program Files\\ArcGIS\\Pro\\bin\\Python\\envs\\arcgispro-py3\\lib\\site-packages\\setuptools\\__init__.py\", line 155, in setup\n",
      "        return distutils.core.setup(**attrs)\n",
      "      File \"C:\\Program Files\\ArcGIS\\Pro\\bin\\Python\\envs\\arcgispro-py3\\lib\\site-packages\\setuptools\\_distutils\\core.py\", line 148, in setup\n",
      "        return run_commands(dist)\n",
      "      File \"C:\\Program Files\\ArcGIS\\Pro\\bin\\Python\\envs\\arcgispro-py3\\lib\\site-packages\\setuptools\\_distutils\\core.py\", line 163, in run_commands\n",
      "        dist.run_commands()\n",
      "      File \"C:\\Program Files\\ArcGIS\\Pro\\bin\\Python\\envs\\arcgispro-py3\\lib\\site-packages\\setuptools\\_distutils\\dist.py\", line 967, in run_commands\n",
      "        self.run_command(cmd)\n",
      "      File \"C:\\Program Files\\ArcGIS\\Pro\\bin\\Python\\envs\\arcgispro-py3\\lib\\site-packages\\setuptools\\_distutils\\dist.py\", line 986, in run_command\n",
      "        cmd_obj.run()\n",
      "      File \"C:\\Users\\DELL\\AppData\\Local\\Temp\\pip-install-a2oqgvg7\\osgeo_c9b30b8bb891479399c06953b5a0378f\\setup.py\", line 27, in run\n",
      "        raise Exception(error_msg)\n",
      "    Exception: In order to be able to run `from osgeo import gdal`,\n",
      "    You were probably trying to install `gdal` by running `pip install osgeo`.\n",
      "    Instead, you should either `pip install gdal` or replace `osgeo` with `gdal` in your requirements.\n",
      "    ----------------------------------------\n",
      "ERROR: Command errored out with exit status 1: 'C:\\Program Files\\ArcGIS\\Pro\\bin\\Python\\envs\\arcgispro-py3\\python.exe' -u -c 'import io, os, sys, setuptools, tokenize; sys.argv[0] = '\"'\"'C:\\\\Users\\\\DELL\\\\AppData\\\\Local\\\\Temp\\\\pip-install-a2oqgvg7\\\\osgeo_c9b30b8bb891479399c06953b5a0378f\\\\setup.py'\"'\"'; __file__='\"'\"'C:\\\\Users\\\\DELL\\\\AppData\\\\Local\\\\Temp\\\\pip-install-a2oqgvg7\\\\osgeo_c9b30b8bb891479399c06953b5a0378f\\\\setup.py'\"'\"';f = getattr(tokenize, '\"'\"'open'\"'\"', open)(__file__) if os.path.exists(__file__) else io.StringIO('\"'\"'from setuptools import setup; setup()'\"'\"');code = f.read().replace('\"'\"'\\r\\n'\"'\"', '\"'\"'\\n'\"'\"');f.close();exec(compile(code, __file__, '\"'\"'exec'\"'\"'))' install --record 'C:\\Users\\DELL\\AppData\\Local\\Temp\\pip-record-gvhdc8wp\\install-record.txt' --single-version-externally-managed --user --prefix= --compile --install-headers 'C:\\Users\\DELL\\AppData\\Roaming\\Python\\Python39\\Include\\osgeo' Check the logs for full command output.\n"
     ]
    }
   ],
   "source": [
    "!pip install osgeo "
   ]
  },
  {
   "cell_type": "code",
   "execution_count": 3,
   "id": "a2d26f01",
   "metadata": {
    "colab": {
     "base_uri": "https://localhost:8080/"
    },
    "id": "92250ab6",
    "outputId": "99047e00-5b9e-46da-f0fb-e2b995a15fc5"
   },
   "outputs": [
    {
     "name": "stdout",
     "output_type": "stream",
     "text": [
      "Defaulting to user installation because normal site-packages is not writeable\n",
      "Collecting click==8.1.3\n",
      "  Using cached click-8.1.3-py3-none-any.whl (96 kB)\n",
      "Requirement already satisfied: colorama in c:\\users\\dell\\appdata\\roaming\\python\\python39\\site-packages (from click==8.1.3) (0.4.6)\n",
      "Installing collected packages: click\n",
      "Successfully installed click-8.1.3\n"
     ]
    },
    {
     "name": "stderr",
     "output_type": "stream",
     "text": [
      "  WARNING: The script pyproj.exe is installed in 'C:\\Users\\DELL\\AppData\\Roaming\\Python\\Python39\\Scripts' which is not on PATH.\n",
      "  Consider adding this directory to PATH or, if you prefer to suppress this warning, use --no-warn-script-location.\n",
      "  WARNING: The script fio.exe is installed in 'C:\\Users\\DELL\\AppData\\Roaming\\Python\\Python39\\Scripts' which is not on PATH.\n",
      "  Consider adding this directory to PATH or, if you prefer to suppress this warning, use --no-warn-script-location.\n"
     ]
    },
    {
     "name": "stdout",
     "output_type": "stream",
     "text": [
      "Defaulting to user installation because normal site-packages is not writeable\n",
      "Collecting geopandas\n",
      "  Using cached geopandas-0.12.2-py3-none-any.whl (1.1 MB)\n",
      "Collecting shapely>=1.7\n",
      "  Using cached shapely-2.0.1-cp39-cp39-win_amd64.whl (1.4 MB)\n",
      "Requirement already satisfied: packaging in c:\\users\\dell\\appdata\\roaming\\python\\python39\\site-packages (from geopandas) (23.0)\n",
      "Requirement already satisfied: pandas>=1.0.0 in c:\\program files\\arcgis\\pro\\bin\\python\\envs\\arcgispro-py3\\lib\\site-packages (from geopandas) (1.3.5)\n",
      "Collecting fiona>=1.8\n",
      "  Using cached Fiona-1.9.1-cp39-cp39-win_amd64.whl (22.0 MB)\n",
      "Collecting pyproj>=2.6.1.post1\n",
      "  Using cached pyproj-3.4.1-cp39-cp39-win_amd64.whl (4.8 MB)\n",
      "Requirement already satisfied: attrs>=19.2.0 in c:\\program files\\arcgis\\pro\\bin\\python\\envs\\arcgispro-py3\\lib\\site-packages (from fiona>=1.8->geopandas) (21.4.0)\n",
      "Requirement already satisfied: certifi in c:\\program files\\arcgis\\pro\\bin\\python\\envs\\arcgispro-py3\\lib\\site-packages (from fiona>=1.8->geopandas) (2021.10.8)\n",
      "Collecting click-plugins>=1.0\n",
      "  Using cached click_plugins-1.1.1-py2.py3-none-any.whl (7.5 kB)\n",
      "Requirement already satisfied: click~=8.0 in c:\\users\\dell\\appdata\\roaming\\python\\python39\\site-packages (from fiona>=1.8->geopandas) (8.1.3)\n",
      "Collecting cligj>=0.5\n",
      "  Using cached cligj-0.7.2-py3-none-any.whl (7.1 kB)\n",
      "Requirement already satisfied: setuptools in c:\\program files\\arcgis\\pro\\bin\\python\\envs\\arcgispro-py3\\lib\\site-packages (from fiona>=1.8->geopandas) (60.10.0)\n",
      "Collecting munch>=2.3.2\n",
      "  Using cached munch-2.5.0-py2.py3-none-any.whl (10 kB)\n",
      "Requirement already satisfied: colorama in c:\\users\\dell\\appdata\\roaming\\python\\python39\\site-packages (from click~=8.0->fiona>=1.8->geopandas) (0.4.6)\n",
      "Requirement already satisfied: six in c:\\users\\dell\\appdata\\roaming\\python\\python39\\site-packages (from munch>=2.3.2->fiona>=1.8->geopandas) (1.16.0)\n",
      "Requirement already satisfied: numpy>=1.17.3 in c:\\program files\\arcgis\\pro\\bin\\python\\envs\\arcgispro-py3\\lib\\site-packages (from pandas>=1.0.0->geopandas) (1.20.1)\n",
      "Requirement already satisfied: pytz>=2017.3 in c:\\program files\\arcgis\\pro\\bin\\python\\envs\\arcgispro-py3\\lib\\site-packages\\pytz-2022.1-py3.9.egg (from pandas>=1.0.0->geopandas) (2022.1)\n",
      "Requirement already satisfied: python-dateutil>=2.7.3 in c:\\users\\dell\\appdata\\roaming\\python\\python39\\site-packages (from pandas>=1.0.0->geopandas) (2.8.2)\n",
      "Installing collected packages: munch, cligj, click-plugins, shapely, pyproj, fiona, geopandas\n",
      "Successfully installed click-plugins-1.1.1 cligj-0.7.2 fiona-1.9.1 geopandas-0.12.2 munch-2.5.0 pyproj-3.4.1 shapely-2.0.1\n"
     ]
    }
   ],
   "source": [
    "!pip install click==8.1.3\n",
    "!pip install geopandas\n",
    "import geopandas as gpd"
   ]
  },
  {
   "cell_type": "code",
   "execution_count": 4,
   "id": "0b7fac13",
   "metadata": {
    "colab": {
     "base_uri": "https://localhost:8080/"
    },
    "id": "7d94645b",
    "outputId": "831ff37a-e52d-412b-c6c0-8c55c1ba749a"
   },
   "outputs": [
    {
     "data": {
      "text/plain": [
       "0    POLYGON ((0.00000 0.00000, 1.00000 1.00000, 0....\n",
       "1    POLYGON ((10.00000 0.00000, 10.00000 5.00000, ...\n",
       "2    POLYGON ((0.00000 0.00000, 2.00000 2.00000, 2....\n",
       "3    LINESTRING (0.00000 0.00000, 1.00000 1.00000, ...\n",
       "4                              POINT (0.00000 1.00000)\n",
       "dtype: geometry"
      ]
     },
     "execution_count": 4,
     "metadata": {},
     "output_type": "execute_result"
    }
   ],
   "source": [
    "from shapely.geometry import Polygon, LineString, Point\n",
    "\n",
    "s = gpd.GeoSeries(\n",
    "    [\n",
    "        Polygon([(0, 0), (1,1), (0,1)]),\n",
    "        Polygon([(10, 0), (10,5), (0,0)]),\n",
    "        Polygon([(0, 0), (2,2), (2,0)]),\n",
    "        LineString([(0, 0), (1,1), (0,1)]),\n",
    "        Point(0,1)\n",
    "    ]\n",
    "\n",
    ")\n",
    "s"
   ]
  },
  {
   "cell_type": "code",
   "execution_count": 5,
   "id": "38a6c7fa",
   "metadata": {
    "id": "eee827b2",
    "outputId": "c9e8fe82-5e4d-4b80-f9ac-fbdc7165c8ab"
   },
   "outputs": [
    {
     "data": {
      "text/plain": [
       "geopandas.geoseries.GeoSeries"
      ]
     },
     "execution_count": 5,
     "metadata": {},
     "output_type": "execute_result"
    }
   ],
   "source": [
    "type(s)"
   ]
  },
  {
   "cell_type": "markdown",
   "id": "c124b180",
   "metadata": {
    "id": "676b4e99"
   },
   "source": [
    "## Diferença entre Dataframe e GeoDataframe\n",
    "\n"
   ]
  },
  {
   "cell_type": "code",
   "execution_count": 16,
   "id": "6fe8da68",
   "metadata": {
    "colab": {
     "base_uri": "https://localhost:8080/",
     "height": 678
    },
    "id": "7a33d574",
    "outputId": "871ffc61-d91c-44ff-c756-ec34ecf7aefe"
   },
   "outputs": [],
   "source": [
    "import geopandas as gpd\n",
    "import os\n",
    "from osgeo import gdal\n",
    "gdal.SetConfigOption('SHAPE_RESTORE_SHX', 'YES')\n",
    "in_vector = 'C:\\Shapefiles\\dados_curso_basico\\Regionalizacao_BA\\gisdb_dados_sei_REG_MUN_A_100K_2022_GCS_SIR_SEI.shp'\n",
    "gdf = gpd.read_file(in_vector)"
   ]
  },
  {
   "cell_type": "code",
   "execution_count": 22,
   "id": "51aecb0b",
   "metadata": {
    "colab": {
     "base_uri": "https://localhost:8080/"
    },
    "id": "79344fc4",
    "outputId": "65a683f9-e01f-4aff-f308-d1f0bc1dc5a5"
   },
   "outputs": [
    {
     "name": "stdout",
     "output_type": "stream",
     "text": [
      "C:\\Shapefiles\\dados_curso_basico\\Regionalizacao_BA\\gisdb_dados_sei_REG_MUN_A_100K_2022_GCS_SIR_SEI.shp\n"
     ]
    }
   ],
   "source": [
    "# Definir o caminho da pasta\n",
    "pasta = r'C:\\Shapefiles\\dados_curso_basico\\Regionalizacao_BA\\gisdb_dados_sei_REG_MUN_A_100K_2022_GCS_SIR_SEI.shp'\n",
    "#pasta = \"/content/DPA_A_100K_2022_GCS_SIR_SEI.shp\"\n",
    "\n",
    "# Juntar o nome do arquivo com a pasta\n",
    "#pasta_arquivo = os.path.join(pasta, 'BR_Municipios_2021.shp')\n",
    "print(pasta)\n",
    "#print(pasta_arquivo)"
   ]
  },
  {
   "cell_type": "code",
   "execution_count": 23,
   "id": "115bd059",
   "metadata": {
    "colab": {
     "base_uri": "https://localhost:8080/",
     "height": 643
    },
    "id": "9ae7f0ba",
    "outputId": "191c7751-c44b-4794-b27b-651fb0d5e9c4"
   },
   "outputs": [],
   "source": [
    "dados = gpd.read_file(pasta)"
   ]
  },
  {
   "cell_type": "code",
   "execution_count": 24,
   "id": "de74d739",
   "metadata": {
    "colab": {
     "base_uri": "https://localhost:8080/",
     "height": 165
    },
    "id": "dfc6a22c",
    "outputId": "83310fc5-9c17-4c2d-94f5-5c04e5ad1c19"
   },
   "outputs": [
    {
     "data": {
      "text/plain": [
       "geopandas.geodataframe.GeoDataFrame"
      ]
     },
     "execution_count": 24,
     "metadata": {},
     "output_type": "execute_result"
    }
   ],
   "source": [
    "type(dados)"
   ]
  },
  {
   "cell_type": "code",
   "execution_count": 25,
   "id": "d22be97a",
   "metadata": {
    "id": "c6a25b19"
   },
   "outputs": [
    {
     "data": {
      "text/html": [
       "<div>\n",
       "<style scoped>\n",
       "    .dataframe tbody tr th:only-of-type {\n",
       "        vertical-align: middle;\n",
       "    }\n",
       "\n",
       "    .dataframe tbody tr th {\n",
       "        vertical-align: top;\n",
       "    }\n",
       "\n",
       "    .dataframe thead th {\n",
       "        text-align: right;\n",
       "    }\n",
       "</style>\n",
       "<table border=\"1\" class=\"dataframe\">\n",
       "  <thead>\n",
       "    <tr style=\"text-align: right;\">\n",
       "      <th></th>\n",
       "      <th>codmun</th>\n",
       "      <th>nommun</th>\n",
       "      <th>codregmeso</th>\n",
       "      <th>nomregmeso</th>\n",
       "      <th>codregmicr</th>\n",
       "      <th>nomregmicr</th>\n",
       "      <th>codreginte</th>\n",
       "      <th>nomreginte</th>\n",
       "      <th>codregimed</th>\n",
       "      <th>nomregimed</th>\n",
       "      <th>...</th>\n",
       "      <th>nomnte</th>\n",
       "      <th>codnrs</th>\n",
       "      <th>nomnrs</th>\n",
       "      <th>codregsau</th>\n",
       "      <th>nomregsau</th>\n",
       "      <th>codzonatur</th>\n",
       "      <th>nomzonatur</th>\n",
       "      <th>st_area_sh</th>\n",
       "      <th>st_length_</th>\n",
       "      <th>geometry</th>\n",
       "    </tr>\n",
       "  </thead>\n",
       "  <tbody>\n",
       "    <tr>\n",
       "      <th>0</th>\n",
       "      <td>2923001</td>\n",
       "      <td>Nova Viçosa</td>\n",
       "      <td>2907</td>\n",
       "      <td>Sul Baiano</td>\n",
       "      <td>29032</td>\n",
       "      <td>Porto Seguro</td>\n",
       "      <td>2903</td>\n",
       "      <td>Ilhéus – Itabuna</td>\n",
       "      <td>290008</td>\n",
       "      <td>Teixeira de Freitas</td>\n",
       "      <td>...</td>\n",
       "      <td>Teixeira de Freitas</td>\n",
       "      <td>3</td>\n",
       "      <td>Extremo sul</td>\n",
       "      <td>0</td>\n",
       "      <td>Teixeira de Freitas</td>\n",
       "      <td>NaN</td>\n",
       "      <td>NaN</td>\n",
       "      <td>0.112292</td>\n",
       "      <td>2.078712</td>\n",
       "      <td>POLYGON ((-39.70855 -17.77303, -39.70812 -17.7...</td>\n",
       "    </tr>\n",
       "    <tr>\n",
       "      <th>1</th>\n",
       "      <td>2922003</td>\n",
       "      <td>Mucuri</td>\n",
       "      <td>2907</td>\n",
       "      <td>Sul Baiano</td>\n",
       "      <td>29032</td>\n",
       "      <td>Porto Seguro</td>\n",
       "      <td>2903</td>\n",
       "      <td>Ilhéus – Itabuna</td>\n",
       "      <td>290008</td>\n",
       "      <td>Teixeira de Freitas</td>\n",
       "      <td>...</td>\n",
       "      <td>Teixeira de Freitas</td>\n",
       "      <td>3</td>\n",
       "      <td>Extremo sul</td>\n",
       "      <td>0</td>\n",
       "      <td>Teixeira de Freitas</td>\n",
       "      <td>NaN</td>\n",
       "      <td>NaN</td>\n",
       "      <td>0.148912</td>\n",
       "      <td>2.493083</td>\n",
       "      <td>POLYGON ((-40.21221 -17.73048, -40.21085 -17.7...</td>\n",
       "    </tr>\n",
       "    <tr>\n",
       "      <th>2</th>\n",
       "      <td>2912806</td>\n",
       "      <td>Ibirapoã</td>\n",
       "      <td>2907</td>\n",
       "      <td>Sul Baiano</td>\n",
       "      <td>29032</td>\n",
       "      <td>Porto Seguro</td>\n",
       "      <td>2903</td>\n",
       "      <td>Ilhéus – Itabuna</td>\n",
       "      <td>290008</td>\n",
       "      <td>Teixeira de Freitas</td>\n",
       "      <td>...</td>\n",
       "      <td>Teixeira de Freitas</td>\n",
       "      <td>3</td>\n",
       "      <td>Extremo sul</td>\n",
       "      <td>0</td>\n",
       "      <td>Teixeira de Freitas</td>\n",
       "      <td>NaN</td>\n",
       "      <td>NaN</td>\n",
       "      <td>0.065687</td>\n",
       "      <td>1.415191</td>\n",
       "      <td>POLYGON ((-40.14385 -17.62265, -40.14350 -17.6...</td>\n",
       "    </tr>\n",
       "    <tr>\n",
       "      <th>3</th>\n",
       "      <td>2906907</td>\n",
       "      <td>Caravelas</td>\n",
       "      <td>2907</td>\n",
       "      <td>Sul Baiano</td>\n",
       "      <td>29032</td>\n",
       "      <td>Porto Seguro</td>\n",
       "      <td>2903</td>\n",
       "      <td>Ilhéus – Itabuna</td>\n",
       "      <td>290008</td>\n",
       "      <td>Teixeira de Freitas</td>\n",
       "      <td>...</td>\n",
       "      <td>Teixeira de Freitas</td>\n",
       "      <td>3</td>\n",
       "      <td>Extremo sul</td>\n",
       "      <td>0</td>\n",
       "      <td>Teixeira de Freitas</td>\n",
       "      <td>NaN</td>\n",
       "      <td>NaN</td>\n",
       "      <td>0.202838</td>\n",
       "      <td>3.028362</td>\n",
       "      <td>POLYGON ((-40.22508 -17.40671, -40.22353 -17.4...</td>\n",
       "    </tr>\n",
       "    <tr>\n",
       "      <th>4</th>\n",
       "      <td>2918902</td>\n",
       "      <td>Lajedão</td>\n",
       "      <td>2907</td>\n",
       "      <td>Sul Baiano</td>\n",
       "      <td>29032</td>\n",
       "      <td>Porto Seguro</td>\n",
       "      <td>2903</td>\n",
       "      <td>Ilhéus – Itabuna</td>\n",
       "      <td>290008</td>\n",
       "      <td>Teixeira de Freitas</td>\n",
       "      <td>...</td>\n",
       "      <td>Teixeira de Freitas</td>\n",
       "      <td>3</td>\n",
       "      <td>Extremo sul</td>\n",
       "      <td>0</td>\n",
       "      <td>Teixeira de Freitas</td>\n",
       "      <td>NaN</td>\n",
       "      <td>NaN</td>\n",
       "      <td>0.053214</td>\n",
       "      <td>1.456028</td>\n",
       "      <td>POLYGON ((-40.32401 -17.39604, -40.32253 -17.3...</td>\n",
       "    </tr>\n",
       "    <tr>\n",
       "      <th>5</th>\n",
       "      <td>2900801</td>\n",
       "      <td>Alcobaça</td>\n",
       "      <td>2907</td>\n",
       "      <td>Sul Baiano</td>\n",
       "      <td>29032</td>\n",
       "      <td>Porto Seguro</td>\n",
       "      <td>2903</td>\n",
       "      <td>Ilhéus – Itabuna</td>\n",
       "      <td>290008</td>\n",
       "      <td>Teixeira de Freitas</td>\n",
       "      <td>...</td>\n",
       "      <td>Teixeira de Freitas</td>\n",
       "      <td>3</td>\n",
       "      <td>Extremo sul</td>\n",
       "      <td>0</td>\n",
       "      <td>Teixeira de Freitas</td>\n",
       "      <td>NaN</td>\n",
       "      <td>NaN</td>\n",
       "      <td>0.125596</td>\n",
       "      <td>1.801024</td>\n",
       "      <td>POLYGON ((-39.54455 -17.25407, -39.54392 -17.2...</td>\n",
       "    </tr>\n",
       "    <tr>\n",
       "      <th>6</th>\n",
       "      <td>2925501</td>\n",
       "      <td>Prado</td>\n",
       "      <td>2907</td>\n",
       "      <td>Sul Baiano</td>\n",
       "      <td>29032</td>\n",
       "      <td>Porto Seguro</td>\n",
       "      <td>2903</td>\n",
       "      <td>Ilhéus – Itabuna</td>\n",
       "      <td>290008</td>\n",
       "      <td>Teixeira de Freitas</td>\n",
       "      <td>...</td>\n",
       "      <td>Teixeira de Freitas</td>\n",
       "      <td>3</td>\n",
       "      <td>Extremo sul</td>\n",
       "      <td>0</td>\n",
       "      <td>Teixeira de Freitas</td>\n",
       "      <td>NaN</td>\n",
       "      <td>NaN</td>\n",
       "      <td>0.143639</td>\n",
       "      <td>2.527214</td>\n",
       "      <td>POLYGON ((-39.29208 -16.88804, -39.29128 -16.8...</td>\n",
       "    </tr>\n",
       "    <tr>\n",
       "      <th>7</th>\n",
       "      <td>2916005</td>\n",
       "      <td>Itanhém</td>\n",
       "      <td>2907</td>\n",
       "      <td>Sul Baiano</td>\n",
       "      <td>29032</td>\n",
       "      <td>Porto Seguro</td>\n",
       "      <td>2903</td>\n",
       "      <td>Ilhéus – Itabuna</td>\n",
       "      <td>290008</td>\n",
       "      <td>Teixeira de Freitas</td>\n",
       "      <td>...</td>\n",
       "      <td>Teixeira de Freitas</td>\n",
       "      <td>3</td>\n",
       "      <td>Extremo sul</td>\n",
       "      <td>0</td>\n",
       "      <td>Teixeira de Freitas</td>\n",
       "      <td>NaN</td>\n",
       "      <td>NaN</td>\n",
       "      <td>0.118371</td>\n",
       "      <td>2.086310</td>\n",
       "      <td>POLYGON ((-40.47861 -16.87550, -40.47853 -16.8...</td>\n",
       "    </tr>\n",
       "    <tr>\n",
       "      <th>8</th>\n",
       "      <td>2915601</td>\n",
       "      <td>Itamaraju</td>\n",
       "      <td>2907</td>\n",
       "      <td>Sul Baiano</td>\n",
       "      <td>29032</td>\n",
       "      <td>Porto Seguro</td>\n",
       "      <td>2903</td>\n",
       "      <td>Ilhéus – Itabuna</td>\n",
       "      <td>290008</td>\n",
       "      <td>Teixeira de Freitas</td>\n",
       "      <td>...</td>\n",
       "      <td>Teixeira de Freitas</td>\n",
       "      <td>3</td>\n",
       "      <td>Extremo sul</td>\n",
       "      <td>0</td>\n",
       "      <td>Teixeira de Freitas</td>\n",
       "      <td>NaN</td>\n",
       "      <td>NaN</td>\n",
       "      <td>0.200316</td>\n",
       "      <td>2.878342</td>\n",
       "      <td>POLYGON ((-39.69681 -16.72893, -39.69620 -16.7...</td>\n",
       "    </tr>\n",
       "    <tr>\n",
       "      <th>9</th>\n",
       "      <td>2918456</td>\n",
       "      <td>Jucuruçu</td>\n",
       "      <td>2907</td>\n",
       "      <td>Sul Baiano</td>\n",
       "      <td>29032</td>\n",
       "      <td>Porto Seguro</td>\n",
       "      <td>2903</td>\n",
       "      <td>Ilhéus – Itabuna</td>\n",
       "      <td>290008</td>\n",
       "      <td>Teixeira de Freitas</td>\n",
       "      <td>...</td>\n",
       "      <td>Teixeira de Freitas</td>\n",
       "      <td>3</td>\n",
       "      <td>Extremo sul</td>\n",
       "      <td>0</td>\n",
       "      <td>Teixeira de Freitas</td>\n",
       "      <td>NaN</td>\n",
       "      <td>NaN</td>\n",
       "      <td>0.124137</td>\n",
       "      <td>2.912267</td>\n",
       "      <td>POLYGON ((-40.28126 -16.67303, -40.27991 -16.6...</td>\n",
       "    </tr>\n",
       "  </tbody>\n",
       "</table>\n",
       "<p>10 rows × 31 columns</p>\n",
       "</div>"
      ],
      "text/plain": [
       "    codmun       nommun codregmeso  nomregmeso codregmicr    nomregmicr  \\\n",
       "0  2923001  Nova Viçosa       2907  Sul Baiano      29032  Porto Seguro   \n",
       "1  2922003       Mucuri       2907  Sul Baiano      29032  Porto Seguro   \n",
       "2  2912806     Ibirapoã       2907  Sul Baiano      29032  Porto Seguro   \n",
       "3  2906907    Caravelas       2907  Sul Baiano      29032  Porto Seguro   \n",
       "4  2918902      Lajedão       2907  Sul Baiano      29032  Porto Seguro   \n",
       "5  2900801     Alcobaça       2907  Sul Baiano      29032  Porto Seguro   \n",
       "6  2925501        Prado       2907  Sul Baiano      29032  Porto Seguro   \n",
       "7  2916005      Itanhém       2907  Sul Baiano      29032  Porto Seguro   \n",
       "8  2915601    Itamaraju       2907  Sul Baiano      29032  Porto Seguro   \n",
       "9  2918456     Jucuruçu       2907  Sul Baiano      29032  Porto Seguro   \n",
       "\n",
       "  codreginte        nomreginte codregimed           nomregimed  ...  \\\n",
       "0       2903  Ilhéus – Itabuna     290008  Teixeira de Freitas  ...   \n",
       "1       2903  Ilhéus – Itabuna     290008  Teixeira de Freitas  ...   \n",
       "2       2903  Ilhéus – Itabuna     290008  Teixeira de Freitas  ...   \n",
       "3       2903  Ilhéus – Itabuna     290008  Teixeira de Freitas  ...   \n",
       "4       2903  Ilhéus – Itabuna     290008  Teixeira de Freitas  ...   \n",
       "5       2903  Ilhéus – Itabuna     290008  Teixeira de Freitas  ...   \n",
       "6       2903  Ilhéus – Itabuna     290008  Teixeira de Freitas  ...   \n",
       "7       2903  Ilhéus – Itabuna     290008  Teixeira de Freitas  ...   \n",
       "8       2903  Ilhéus – Itabuna     290008  Teixeira de Freitas  ...   \n",
       "9       2903  Ilhéus – Itabuna     290008  Teixeira de Freitas  ...   \n",
       "\n",
       "                nomnte codnrs       nomnrs codregsau            nomregsau  \\\n",
       "0  Teixeira de Freitas      3  Extremo sul         0  Teixeira de Freitas   \n",
       "1  Teixeira de Freitas      3  Extremo sul         0  Teixeira de Freitas   \n",
       "2  Teixeira de Freitas      3  Extremo sul         0  Teixeira de Freitas   \n",
       "3  Teixeira de Freitas      3  Extremo sul         0  Teixeira de Freitas   \n",
       "4  Teixeira de Freitas      3  Extremo sul         0  Teixeira de Freitas   \n",
       "5  Teixeira de Freitas      3  Extremo sul         0  Teixeira de Freitas   \n",
       "6  Teixeira de Freitas      3  Extremo sul         0  Teixeira de Freitas   \n",
       "7  Teixeira de Freitas      3  Extremo sul         0  Teixeira de Freitas   \n",
       "8  Teixeira de Freitas      3  Extremo sul         0  Teixeira de Freitas   \n",
       "9  Teixeira de Freitas      3  Extremo sul         0  Teixeira de Freitas   \n",
       "\n",
       "  codzonatur nomzonatur st_area_sh  st_length_  \\\n",
       "0        NaN        NaN   0.112292    2.078712   \n",
       "1        NaN        NaN   0.148912    2.493083   \n",
       "2        NaN        NaN   0.065687    1.415191   \n",
       "3        NaN        NaN   0.202838    3.028362   \n",
       "4        NaN        NaN   0.053214    1.456028   \n",
       "5        NaN        NaN   0.125596    1.801024   \n",
       "6        NaN        NaN   0.143639    2.527214   \n",
       "7        NaN        NaN   0.118371    2.086310   \n",
       "8        NaN        NaN   0.200316    2.878342   \n",
       "9        NaN        NaN   0.124137    2.912267   \n",
       "\n",
       "                                            geometry  \n",
       "0  POLYGON ((-39.70855 -17.77303, -39.70812 -17.7...  \n",
       "1  POLYGON ((-40.21221 -17.73048, -40.21085 -17.7...  \n",
       "2  POLYGON ((-40.14385 -17.62265, -40.14350 -17.6...  \n",
       "3  POLYGON ((-40.22508 -17.40671, -40.22353 -17.4...  \n",
       "4  POLYGON ((-40.32401 -17.39604, -40.32253 -17.3...  \n",
       "5  POLYGON ((-39.54455 -17.25407, -39.54392 -17.2...  \n",
       "6  POLYGON ((-39.29208 -16.88804, -39.29128 -16.8...  \n",
       "7  POLYGON ((-40.47861 -16.87550, -40.47853 -16.8...  \n",
       "8  POLYGON ((-39.69681 -16.72893, -39.69620 -16.7...  \n",
       "9  POLYGON ((-40.28126 -16.67303, -40.27991 -16.6...  \n",
       "\n",
       "[10 rows x 31 columns]"
      ]
     },
     "execution_count": 25,
     "metadata": {},
     "output_type": "execute_result"
    }
   ],
   "source": [
    "dados.head(10)"
   ]
  },
  {
   "cell_type": "code",
   "execution_count": 28,
   "id": "b932a00a",
   "metadata": {
    "colab": {
     "base_uri": "https://localhost:8080/",
     "height": 250
    },
    "id": "96b67deb",
    "outputId": "7dd89ed0-79e7-4925-e9fe-50282569d4b2"
   },
   "outputs": [
    {
     "data": {
      "text/html": [
       "<div>\n",
       "<style scoped>\n",
       "    .dataframe tbody tr th:only-of-type {\n",
       "        vertical-align: middle;\n",
       "    }\n",
       "\n",
       "    .dataframe tbody tr th {\n",
       "        vertical-align: top;\n",
       "    }\n",
       "\n",
       "    .dataframe thead th {\n",
       "        text-align: right;\n",
       "    }\n",
       "</style>\n",
       "<table border=\"1\" class=\"dataframe\">\n",
       "  <thead>\n",
       "    <tr style=\"text-align: right;\">\n",
       "      <th></th>\n",
       "      <th>codmun</th>\n",
       "      <th>nommun</th>\n",
       "      <th>codregmeso</th>\n",
       "      <th>nomregmeso</th>\n",
       "      <th>codregmicr</th>\n",
       "      <th>nomregmicr</th>\n",
       "      <th>codreginte</th>\n",
       "      <th>nomreginte</th>\n",
       "      <th>codregimed</th>\n",
       "      <th>nomregimed</th>\n",
       "      <th>...</th>\n",
       "      <th>nomnte</th>\n",
       "      <th>codnrs</th>\n",
       "      <th>nomnrs</th>\n",
       "      <th>codregsau</th>\n",
       "      <th>nomregsau</th>\n",
       "      <th>codzonatur</th>\n",
       "      <th>nomzonatur</th>\n",
       "      <th>st_area_sh</th>\n",
       "      <th>st_length_</th>\n",
       "      <th>geometry</th>\n",
       "    </tr>\n",
       "  </thead>\n",
       "  <tbody>\n",
       "    <tr>\n",
       "      <th>412</th>\n",
       "      <td>2927101</td>\n",
       "      <td>Rodelas</td>\n",
       "      <td>2902</td>\n",
       "      <td>Vale Sanfranciscano da Bahia</td>\n",
       "      <td>29005</td>\n",
       "      <td>Paulo Afonso</td>\n",
       "      <td>2909</td>\n",
       "      <td>Paulo Afonso</td>\n",
       "      <td>290024</td>\n",
       "      <td>Paulo Afonso</td>\n",
       "      <td>...</td>\n",
       "      <td>Paulo Afonso</td>\n",
       "      <td>6</td>\n",
       "      <td>Norte</td>\n",
       "      <td>0</td>\n",
       "      <td>Paulo Afonso</td>\n",
       "      <td>NaN</td>\n",
       "      <td>NaN</td>\n",
       "      <td>0.183186</td>\n",
       "      <td>3.260990</td>\n",
       "      <td>POLYGON ((-38.85007 -8.78115, -38.84197 -8.781...</td>\n",
       "    </tr>\n",
       "    <tr>\n",
       "      <th>413</th>\n",
       "      <td>2907707</td>\n",
       "      <td>Chorrochó</td>\n",
       "      <td>2902</td>\n",
       "      <td>Vale Sanfranciscano da Bahia</td>\n",
       "      <td>29005</td>\n",
       "      <td>Paulo Afonso</td>\n",
       "      <td>2909</td>\n",
       "      <td>Paulo Afonso</td>\n",
       "      <td>290024</td>\n",
       "      <td>Paulo Afonso</td>\n",
       "      <td>...</td>\n",
       "      <td>Paulo Afonso</td>\n",
       "      <td>6</td>\n",
       "      <td>Norte</td>\n",
       "      <td>0</td>\n",
       "      <td>Paulo Afonso</td>\n",
       "      <td>NaN</td>\n",
       "      <td>NaN</td>\n",
       "      <td>0.249559</td>\n",
       "      <td>2.820718</td>\n",
       "      <td>POLYGON ((-39.04231 -8.71451, -39.03443 -8.715...</td>\n",
       "    </tr>\n",
       "    <tr>\n",
       "      <th>414</th>\n",
       "      <td>2907202</td>\n",
       "      <td>Casa Nova</td>\n",
       "      <td>2902</td>\n",
       "      <td>Vale Sanfranciscano da Bahia</td>\n",
       "      <td>29004</td>\n",
       "      <td>Juazeiro</td>\n",
       "      <td>2908</td>\n",
       "      <td>Juazeiro</td>\n",
       "      <td>290022</td>\n",
       "      <td>Juazeiro</td>\n",
       "      <td>...</td>\n",
       "      <td>Juazeiro</td>\n",
       "      <td>6</td>\n",
       "      <td>Norte</td>\n",
       "      <td>0</td>\n",
       "      <td>Juazeiro</td>\n",
       "      <td>NaN</td>\n",
       "      <td>NaN</td>\n",
       "      <td>0.795191</td>\n",
       "      <td>4.447496</td>\n",
       "      <td>POLYGON ((-41.37434 -8.70315, -41.36931 -8.704...</td>\n",
       "    </tr>\n",
       "    <tr>\n",
       "      <th>415</th>\n",
       "      <td>2900207</td>\n",
       "      <td>Abaré</td>\n",
       "      <td>2902</td>\n",
       "      <td>Vale Sanfranciscano da Bahia</td>\n",
       "      <td>29005</td>\n",
       "      <td>Paulo Afonso</td>\n",
       "      <td>2909</td>\n",
       "      <td>Paulo Afonso</td>\n",
       "      <td>290024</td>\n",
       "      <td>Paulo Afonso</td>\n",
       "      <td>...</td>\n",
       "      <td>Paulo Afonso</td>\n",
       "      <td>6</td>\n",
       "      <td>Norte</td>\n",
       "      <td>0</td>\n",
       "      <td>Paulo Afonso</td>\n",
       "      <td>NaN</td>\n",
       "      <td>NaN</td>\n",
       "      <td>0.136000</td>\n",
       "      <td>1.685219</td>\n",
       "      <td>POLYGON ((-39.35347 -8.54508, -39.34996 -8.548...</td>\n",
       "    </tr>\n",
       "    <tr>\n",
       "      <th>416</th>\n",
       "      <td>2909901</td>\n",
       "      <td>Curaçá</td>\n",
       "      <td>2902</td>\n",
       "      <td>Vale Sanfranciscano da Bahia</td>\n",
       "      <td>29004</td>\n",
       "      <td>Juazeiro</td>\n",
       "      <td>2908</td>\n",
       "      <td>Juazeiro</td>\n",
       "      <td>290022</td>\n",
       "      <td>Juazeiro</td>\n",
       "      <td>...</td>\n",
       "      <td>Juazeiro</td>\n",
       "      <td>6</td>\n",
       "      <td>Norte</td>\n",
       "      <td>0</td>\n",
       "      <td>Juazeiro</td>\n",
       "      <td>NaN</td>\n",
       "      <td>NaN</td>\n",
       "      <td>0.495925</td>\n",
       "      <td>3.890567</td>\n",
       "      <td>POLYGON ((-39.38255 -8.52824, -39.37641 -8.529...</td>\n",
       "    </tr>\n",
       "  </tbody>\n",
       "</table>\n",
       "<p>5 rows × 31 columns</p>\n",
       "</div>"
      ],
      "text/plain": [
       "      codmun     nommun codregmeso                    nomregmeso codregmicr  \\\n",
       "412  2927101    Rodelas       2902  Vale Sanfranciscano da Bahia      29005   \n",
       "413  2907707  Chorrochó       2902  Vale Sanfranciscano da Bahia      29005   \n",
       "414  2907202  Casa Nova       2902  Vale Sanfranciscano da Bahia      29004   \n",
       "415  2900207      Abaré       2902  Vale Sanfranciscano da Bahia      29005   \n",
       "416  2909901     Curaçá       2902  Vale Sanfranciscano da Bahia      29004   \n",
       "\n",
       "       nomregmicr codreginte    nomreginte codregimed    nomregimed  ...  \\\n",
       "412  Paulo Afonso       2909  Paulo Afonso     290024  Paulo Afonso  ...   \n",
       "413  Paulo Afonso       2909  Paulo Afonso     290024  Paulo Afonso  ...   \n",
       "414      Juazeiro       2908      Juazeiro     290022      Juazeiro  ...   \n",
       "415  Paulo Afonso       2909  Paulo Afonso     290024  Paulo Afonso  ...   \n",
       "416      Juazeiro       2908      Juazeiro     290022      Juazeiro  ...   \n",
       "\n",
       "           nomnte codnrs nomnrs codregsau     nomregsau codzonatur nomzonatur  \\\n",
       "412  Paulo Afonso      6  Norte         0  Paulo Afonso        NaN        NaN   \n",
       "413  Paulo Afonso      6  Norte         0  Paulo Afonso        NaN        NaN   \n",
       "414      Juazeiro      6  Norte         0      Juazeiro        NaN        NaN   \n",
       "415  Paulo Afonso      6  Norte         0  Paulo Afonso        NaN        NaN   \n",
       "416      Juazeiro      6  Norte         0      Juazeiro        NaN        NaN   \n",
       "\n",
       "    st_area_sh  st_length_                                           geometry  \n",
       "412   0.183186    3.260990  POLYGON ((-38.85007 -8.78115, -38.84197 -8.781...  \n",
       "413   0.249559    2.820718  POLYGON ((-39.04231 -8.71451, -39.03443 -8.715...  \n",
       "414   0.795191    4.447496  POLYGON ((-41.37434 -8.70315, -41.36931 -8.704...  \n",
       "415   0.136000    1.685219  POLYGON ((-39.35347 -8.54508, -39.34996 -8.548...  \n",
       "416   0.495925    3.890567  POLYGON ((-39.38255 -8.52824, -39.37641 -8.529...  \n",
       "\n",
       "[5 rows x 31 columns]"
      ]
     },
     "execution_count": 28,
     "metadata": {},
     "output_type": "execute_result"
    }
   ],
   "source": [
    "dados.tail()"
   ]
  },
  {
   "cell_type": "code",
   "execution_count": 30,
   "id": "75404865",
   "metadata": {
    "colab": {
     "base_uri": "https://localhost:8080/"
    },
    "id": "28f10637",
    "outputId": "b3d8e850-df20-4b7b-982e-09204639573e"
   },
   "outputs": [
    {
     "data": {
      "text/plain": [
       "array(['codmun', 'nommun', 'codregmeso', 'nomregmeso', 'codregmicr',\n",
       "       'nomregmicr', 'codreginte', 'nomreginte', 'codregimed',\n",
       "       'nomregimed', 'indregpoli', 'indregsemi', 'codti', 'nomti',\n",
       "       'codregecon', 'nomregecon', 'cod_regadm', 'nomregadm',\n",
       "       'codeixodes', 'nomeixodes', 'codnte', 'nomnte', 'codnrs', 'nomnrs',\n",
       "       'codregsau', 'nomregsau', 'codzonatur', 'nomzonatur', 'st_area_sh',\n",
       "       'st_length_', 'geometry'], dtype=object)"
      ]
     },
     "execution_count": 30,
     "metadata": {},
     "output_type": "execute_result"
    }
   ],
   "source": [
    "# Verificar o nome das colunas\n",
    "dados.columns.values"
   ]
  },
  {
   "cell_type": "code",
   "execution_count": 31,
   "id": "33c8625f",
   "metadata": {
    "colab": {
     "base_uri": "https://localhost:8080/",
     "height": 511
    },
    "id": "988bafdb",
    "outputId": "b48fc08d-a77f-4a96-a7e4-9c2ef717877d"
   },
   "outputs": [
    {
     "data": {
      "text/html": [
       "<div>\n",
       "<style scoped>\n",
       "    .dataframe tbody tr th:only-of-type {\n",
       "        vertical-align: middle;\n",
       "    }\n",
       "\n",
       "    .dataframe tbody tr th {\n",
       "        vertical-align: top;\n",
       "    }\n",
       "\n",
       "    .dataframe thead th {\n",
       "        text-align: right;\n",
       "    }\n",
       "</style>\n",
       "<table border=\"1\" class=\"dataframe\">\n",
       "  <thead>\n",
       "    <tr style=\"text-align: right;\">\n",
       "      <th></th>\n",
       "      <th>codmun</th>\n",
       "      <th>nommun</th>\n",
       "      <th>codregmeso</th>\n",
       "      <th>nomregmeso</th>\n",
       "      <th>codti</th>\n",
       "      <th>nomti</th>\n",
       "      <th>st_area_sh</th>\n",
       "      <th>st_length_</th>\n",
       "      <th>geometry</th>\n",
       "    </tr>\n",
       "  </thead>\n",
       "  <tbody>\n",
       "    <tr>\n",
       "      <th>0</th>\n",
       "      <td>2923001</td>\n",
       "      <td>Nova Viçosa</td>\n",
       "      <td>2907</td>\n",
       "      <td>Sul Baiano</td>\n",
       "      <td>7</td>\n",
       "      <td>Extremo Sul</td>\n",
       "      <td>0.112292</td>\n",
       "      <td>2.078712</td>\n",
       "      <td>POLYGON ((-39.70855 -17.77303, -39.70812 -17.7...</td>\n",
       "    </tr>\n",
       "    <tr>\n",
       "      <th>1</th>\n",
       "      <td>2922003</td>\n",
       "      <td>Mucuri</td>\n",
       "      <td>2907</td>\n",
       "      <td>Sul Baiano</td>\n",
       "      <td>7</td>\n",
       "      <td>Extremo Sul</td>\n",
       "      <td>0.148912</td>\n",
       "      <td>2.493083</td>\n",
       "      <td>POLYGON ((-40.21221 -17.73048, -40.21085 -17.7...</td>\n",
       "    </tr>\n",
       "    <tr>\n",
       "      <th>2</th>\n",
       "      <td>2912806</td>\n",
       "      <td>Ibirapoã</td>\n",
       "      <td>2907</td>\n",
       "      <td>Sul Baiano</td>\n",
       "      <td>7</td>\n",
       "      <td>Extremo Sul</td>\n",
       "      <td>0.065687</td>\n",
       "      <td>1.415191</td>\n",
       "      <td>POLYGON ((-40.14385 -17.62265, -40.14350 -17.6...</td>\n",
       "    </tr>\n",
       "    <tr>\n",
       "      <th>3</th>\n",
       "      <td>2906907</td>\n",
       "      <td>Caravelas</td>\n",
       "      <td>2907</td>\n",
       "      <td>Sul Baiano</td>\n",
       "      <td>7</td>\n",
       "      <td>Extremo Sul</td>\n",
       "      <td>0.202838</td>\n",
       "      <td>3.028362</td>\n",
       "      <td>POLYGON ((-40.22508 -17.40671, -40.22353 -17.4...</td>\n",
       "    </tr>\n",
       "    <tr>\n",
       "      <th>4</th>\n",
       "      <td>2918902</td>\n",
       "      <td>Lajedão</td>\n",
       "      <td>2907</td>\n",
       "      <td>Sul Baiano</td>\n",
       "      <td>7</td>\n",
       "      <td>Extremo Sul</td>\n",
       "      <td>0.053214</td>\n",
       "      <td>1.456028</td>\n",
       "      <td>POLYGON ((-40.32401 -17.39604, -40.32253 -17.3...</td>\n",
       "    </tr>\n",
       "  </tbody>\n",
       "</table>\n",
       "</div>"
      ],
      "text/plain": [
       "    codmun       nommun codregmeso  nomregmeso codti        nomti  st_area_sh  \\\n",
       "0  2923001  Nova Viçosa       2907  Sul Baiano     7  Extremo Sul    0.112292   \n",
       "1  2922003       Mucuri       2907  Sul Baiano     7  Extremo Sul    0.148912   \n",
       "2  2912806     Ibirapoã       2907  Sul Baiano     7  Extremo Sul    0.065687   \n",
       "3  2906907    Caravelas       2907  Sul Baiano     7  Extremo Sul    0.202838   \n",
       "4  2918902      Lajedão       2907  Sul Baiano     7  Extremo Sul    0.053214   \n",
       "\n",
       "   st_length_                                           geometry  \n",
       "0    2.078712  POLYGON ((-39.70855 -17.77303, -39.70812 -17.7...  \n",
       "1    2.493083  POLYGON ((-40.21221 -17.73048, -40.21085 -17.7...  \n",
       "2    1.415191  POLYGON ((-40.14385 -17.62265, -40.14350 -17.6...  \n",
       "3    3.028362  POLYGON ((-40.22508 -17.40671, -40.22353 -17.4...  \n",
       "4    1.456028  POLYGON ((-40.32401 -17.39604, -40.32253 -17.3...  "
      ]
     },
     "execution_count": 31,
     "metadata": {},
     "output_type": "execute_result"
    }
   ],
   "source": [
    "dados = dados[['codmun','nommun','codregmeso', 'nomregmeso', 'codti', 'nomti', 'st_area_sh', 'st_length_', 'geometry']]\n",
    "dados.head()"
   ]
  },
  {
   "cell_type": "code",
   "execution_count": 32,
   "id": "e44c754a",
   "metadata": {
    "colab": {
     "base_uri": "https://localhost:8080/"
    },
    "id": "758a9a8e",
    "outputId": "25fdcd8f-8d7c-442f-b3ba-7770ebba2c07"
   },
   "outputs": [
    {
     "data": {
      "text/plain": [
       "(417, 9)"
      ]
     },
     "execution_count": 32,
     "metadata": {},
     "output_type": "execute_result"
    }
   ],
   "source": [
    "dados.shape"
   ]
  },
  {
   "cell_type": "code",
   "execution_count": 33,
   "id": "7297671a",
   "metadata": {
    "colab": {
     "base_uri": "https://localhost:8080/"
    },
    "id": "51712110",
    "outputId": "6a111984-9869-44de-baf1-1e04eebc9ae6"
   },
   "outputs": [
    {
     "name": "stdout",
     "output_type": "stream",
     "text": [
      "O número de linhas é: 417\n",
      "O número de colunas é: 9\n"
     ]
    }
   ],
   "source": [
    "# Verificando o número de linhas e colunas\n",
    "print(f'O número de linhas é: {dados.shape[0]}')\n",
    "print(f'O número de colunas é: {dados.shape[1]}')"
   ]
  },
  {
   "cell_type": "code",
   "execution_count": 34,
   "id": "1e43f191",
   "metadata": {
    "colab": {
     "base_uri": "https://localhost:8080/",
     "height": 282
    },
    "id": "bba4d488",
    "outputId": "830926b2-705e-40f4-f8ca-511023e4d082"
   },
   "outputs": [
    {
     "data": {
      "text/plain": [
       "<AxesSubplot:>"
      ]
     },
     "execution_count": 34,
     "metadata": {},
     "output_type": "execute_result"
    },
    {
     "data": {
      "image/png": "[encoded data removed]",
      "text/plain": [
       "<Figure size 640x480 with 1 Axes>"
      ]
     },
     "metadata": {},
     "output_type": "display_data"
    }
   ],
   "source": [
    "dados.plot()"
   ]
  },
  {
   "cell_type": "code",
   "execution_count": 35,
   "id": "a7331f7d",
   "metadata": {
    "colab": {
     "base_uri": "https://localhost:8080/"
    },
    "id": "98006855",
    "outputId": "790bd04f-d660-459a-c757-f53f31f69cb8"
   },
   "outputs": [
    {
     "name": "stdout",
     "output_type": "stream",
     "text": [
      "O polígono de índice 0 possui uma área de 0.11 m²\n",
      "O polígono de índice 1 possui uma área de 0.15 m²\n",
      "O polígono de índice 2 possui uma área de 0.07 m²\n",
      "O polígono de índice 3 possui uma área de 0.20 m²\n",
      "O polígono de índice 4 possui uma área de 0.05 m²\n",
      "O polígono de índice 5 possui uma área de 0.13 m²\n",
      "O polígono de índice 6 possui uma área de 0.14 m²\n",
      "O polígono de índice 7 possui uma área de 0.12 m²\n",
      "O polígono de índice 8 possui uma área de 0.20 m²\n",
      "O polígono de índice 9 possui uma área de 0.12 m²\n"
     ]
    }
   ],
   "source": [
    "for indice, linha in dados[0:10].iterrows():\n",
    "    area_polig = linha['geometry'].area\n",
    "    print(f\"O polígono de índice {indice} possui uma área de {area_polig:.2f} m²\")\n",
    "    "
   ]
  },
  {
   "cell_type": "code",
   "execution_count": 36,
   "id": "08d65824",
   "metadata": {
    "colab": {
     "base_uri": "https://localhost:8080/",
     "height": 669
    },
    "id": "819cabab",
    "outputId": "280cc489-b0a0-46e1-fa48-3fb2b851dc5c"
   },
   "outputs": [
    {
     "name": "stderr",
     "output_type": "stream",
     "text": [
      "C:\\Users\\DELL\\AppData\\Local\\Temp\\ipykernel_6464\\4255418051.py:2: UserWarning: Geometry is in a geographic CRS. Results from 'area' are likely incorrect. Use 'GeoSeries.to_crs()' to re-project geometries to a projected CRS before this operation.\n",
      "\n",
      "  dados['Area'] = dados.area\n"
     ]
    },
    {
     "data": {
      "text/html": [
       "<div>\n",
       "<style scoped>\n",
       "    .dataframe tbody tr th:only-of-type {\n",
       "        vertical-align: middle;\n",
       "    }\n",
       "\n",
       "    .dataframe tbody tr th {\n",
       "        vertical-align: top;\n",
       "    }\n",
       "\n",
       "    .dataframe thead th {\n",
       "        text-align: right;\n",
       "    }\n",
       "</style>\n",
       "<table border=\"1\" class=\"dataframe\">\n",
       "  <thead>\n",
       "    <tr style=\"text-align: right;\">\n",
       "      <th></th>\n",
       "      <th>codmun</th>\n",
       "      <th>nommun</th>\n",
       "      <th>codregmeso</th>\n",
       "      <th>nomregmeso</th>\n",
       "      <th>codti</th>\n",
       "      <th>nomti</th>\n",
       "      <th>st_area_sh</th>\n",
       "      <th>st_length_</th>\n",
       "      <th>geometry</th>\n",
       "      <th>Area</th>\n",
       "    </tr>\n",
       "  </thead>\n",
       "  <tbody>\n",
       "    <tr>\n",
       "      <th>0</th>\n",
       "      <td>2923001</td>\n",
       "      <td>Nova Viçosa</td>\n",
       "      <td>2907</td>\n",
       "      <td>Sul Baiano</td>\n",
       "      <td>7</td>\n",
       "      <td>Extremo Sul</td>\n",
       "      <td>0.112292</td>\n",
       "      <td>2.078712</td>\n",
       "      <td>POLYGON ((-39.70855 -17.77303, -39.70812 -17.7...</td>\n",
       "      <td>0.112292</td>\n",
       "    </tr>\n",
       "    <tr>\n",
       "      <th>1</th>\n",
       "      <td>2922003</td>\n",
       "      <td>Mucuri</td>\n",
       "      <td>2907</td>\n",
       "      <td>Sul Baiano</td>\n",
       "      <td>7</td>\n",
       "      <td>Extremo Sul</td>\n",
       "      <td>0.148912</td>\n",
       "      <td>2.493083</td>\n",
       "      <td>POLYGON ((-40.21221 -17.73048, -40.21085 -17.7...</td>\n",
       "      <td>0.148912</td>\n",
       "    </tr>\n",
       "    <tr>\n",
       "      <th>2</th>\n",
       "      <td>2912806</td>\n",
       "      <td>Ibirapoã</td>\n",
       "      <td>2907</td>\n",
       "      <td>Sul Baiano</td>\n",
       "      <td>7</td>\n",
       "      <td>Extremo Sul</td>\n",
       "      <td>0.065687</td>\n",
       "      <td>1.415191</td>\n",
       "      <td>POLYGON ((-40.14385 -17.62265, -40.14350 -17.6...</td>\n",
       "      <td>0.065687</td>\n",
       "    </tr>\n",
       "    <tr>\n",
       "      <th>3</th>\n",
       "      <td>2906907</td>\n",
       "      <td>Caravelas</td>\n",
       "      <td>2907</td>\n",
       "      <td>Sul Baiano</td>\n",
       "      <td>7</td>\n",
       "      <td>Extremo Sul</td>\n",
       "      <td>0.202838</td>\n",
       "      <td>3.028362</td>\n",
       "      <td>POLYGON ((-40.22508 -17.40671, -40.22353 -17.4...</td>\n",
       "      <td>0.202838</td>\n",
       "    </tr>\n",
       "    <tr>\n",
       "      <th>4</th>\n",
       "      <td>2918902</td>\n",
       "      <td>Lajedão</td>\n",
       "      <td>2907</td>\n",
       "      <td>Sul Baiano</td>\n",
       "      <td>7</td>\n",
       "      <td>Extremo Sul</td>\n",
       "      <td>0.053214</td>\n",
       "      <td>1.456028</td>\n",
       "      <td>POLYGON ((-40.32401 -17.39604, -40.32253 -17.3...</td>\n",
       "      <td>0.053214</td>\n",
       "    </tr>\n",
       "  </tbody>\n",
       "</table>\n",
       "</div>"
      ],
      "text/plain": [
       "    codmun       nommun codregmeso  nomregmeso codti        nomti  st_area_sh  \\\n",
       "0  2923001  Nova Viçosa       2907  Sul Baiano     7  Extremo Sul    0.112292   \n",
       "1  2922003       Mucuri       2907  Sul Baiano     7  Extremo Sul    0.148912   \n",
       "2  2912806     Ibirapoã       2907  Sul Baiano     7  Extremo Sul    0.065687   \n",
       "3  2906907    Caravelas       2907  Sul Baiano     7  Extremo Sul    0.202838   \n",
       "4  2918902      Lajedão       2907  Sul Baiano     7  Extremo Sul    0.053214   \n",
       "\n",
       "   st_length_                                           geometry      Area  \n",
       "0    2.078712  POLYGON ((-39.70855 -17.77303, -39.70812 -17.7...  0.112292  \n",
       "1    2.493083  POLYGON ((-40.21221 -17.73048, -40.21085 -17.7...  0.148912  \n",
       "2    1.415191  POLYGON ((-40.14385 -17.62265, -40.14350 -17.6...  0.065687  \n",
       "3    3.028362  POLYGON ((-40.22508 -17.40671, -40.22353 -17.4...  0.202838  \n",
       "4    1.456028  POLYGON ((-40.32401 -17.39604, -40.32253 -17.3...  0.053214  "
      ]
     },
     "execution_count": 36,
     "metadata": {},
     "output_type": "execute_result"
    }
   ],
   "source": [
    "# Criar uma coluna área em km2\n",
    "dados['Area'] = dados.area\n",
    "dados.head()"
   ]
  },
  {
   "cell_type": "code",
   "execution_count": 37,
   "id": "152abee1",
   "metadata": {
    "colab": {
     "base_uri": "https://localhost:8080/",
     "height": 511
    },
    "id": "b8a7434f",
    "outputId": "e6028749-1656-454e-db7f-45cb73d2869d"
   },
   "outputs": [
    {
     "data": {
      "text/html": [
       "<div>\n",
       "<style scoped>\n",
       "    .dataframe tbody tr th:only-of-type {\n",
       "        vertical-align: middle;\n",
       "    }\n",
       "\n",
       "    .dataframe tbody tr th {\n",
       "        vertical-align: top;\n",
       "    }\n",
       "\n",
       "    .dataframe thead th {\n",
       "        text-align: right;\n",
       "    }\n",
       "</style>\n",
       "<table border=\"1\" class=\"dataframe\">\n",
       "  <thead>\n",
       "    <tr style=\"text-align: right;\">\n",
       "      <th></th>\n",
       "      <th>codmun</th>\n",
       "      <th>nommun</th>\n",
       "      <th>codregmeso</th>\n",
       "      <th>nomregmeso</th>\n",
       "      <th>codti</th>\n",
       "      <th>nomti</th>\n",
       "      <th>st_area_sh</th>\n",
       "      <th>st_length_</th>\n",
       "      <th>geometry</th>\n",
       "    </tr>\n",
       "  </thead>\n",
       "  <tbody>\n",
       "    <tr>\n",
       "      <th>0</th>\n",
       "      <td>2923001</td>\n",
       "      <td>Nova Viçosa</td>\n",
       "      <td>2907</td>\n",
       "      <td>Sul Baiano</td>\n",
       "      <td>7</td>\n",
       "      <td>Extremo Sul</td>\n",
       "      <td>0.112292</td>\n",
       "      <td>2.078712</td>\n",
       "      <td>POLYGON ((-39.70855 -17.77303, -39.70812 -17.7...</td>\n",
       "    </tr>\n",
       "    <tr>\n",
       "      <th>1</th>\n",
       "      <td>2922003</td>\n",
       "      <td>Mucuri</td>\n",
       "      <td>2907</td>\n",
       "      <td>Sul Baiano</td>\n",
       "      <td>7</td>\n",
       "      <td>Extremo Sul</td>\n",
       "      <td>0.148912</td>\n",
       "      <td>2.493083</td>\n",
       "      <td>POLYGON ((-40.21221 -17.73048, -40.21085 -17.7...</td>\n",
       "    </tr>\n",
       "    <tr>\n",
       "      <th>2</th>\n",
       "      <td>2912806</td>\n",
       "      <td>Ibirapoã</td>\n",
       "      <td>2907</td>\n",
       "      <td>Sul Baiano</td>\n",
       "      <td>7</td>\n",
       "      <td>Extremo Sul</td>\n",
       "      <td>0.065687</td>\n",
       "      <td>1.415191</td>\n",
       "      <td>POLYGON ((-40.14385 -17.62265, -40.14350 -17.6...</td>\n",
       "    </tr>\n",
       "    <tr>\n",
       "      <th>3</th>\n",
       "      <td>2906907</td>\n",
       "      <td>Caravelas</td>\n",
       "      <td>2907</td>\n",
       "      <td>Sul Baiano</td>\n",
       "      <td>7</td>\n",
       "      <td>Extremo Sul</td>\n",
       "      <td>0.202838</td>\n",
       "      <td>3.028362</td>\n",
       "      <td>POLYGON ((-40.22508 -17.40671, -40.22353 -17.4...</td>\n",
       "    </tr>\n",
       "    <tr>\n",
       "      <th>4</th>\n",
       "      <td>2918902</td>\n",
       "      <td>Lajedão</td>\n",
       "      <td>2907</td>\n",
       "      <td>Sul Baiano</td>\n",
       "      <td>7</td>\n",
       "      <td>Extremo Sul</td>\n",
       "      <td>0.053214</td>\n",
       "      <td>1.456028</td>\n",
       "      <td>POLYGON ((-40.32401 -17.39604, -40.32253 -17.3...</td>\n",
       "    </tr>\n",
       "  </tbody>\n",
       "</table>\n",
       "</div>"
      ],
      "text/plain": [
       "    codmun       nommun codregmeso  nomregmeso codti        nomti  st_area_sh  \\\n",
       "0  2923001  Nova Viçosa       2907  Sul Baiano     7  Extremo Sul    0.112292   \n",
       "1  2922003       Mucuri       2907  Sul Baiano     7  Extremo Sul    0.148912   \n",
       "2  2912806     Ibirapoã       2907  Sul Baiano     7  Extremo Sul    0.065687   \n",
       "3  2906907    Caravelas       2907  Sul Baiano     7  Extremo Sul    0.202838   \n",
       "4  2918902      Lajedão       2907  Sul Baiano     7  Extremo Sul    0.053214   \n",
       "\n",
       "   st_length_                                           geometry  \n",
       "0    2.078712  POLYGON ((-39.70855 -17.77303, -39.70812 -17.7...  \n",
       "1    2.493083  POLYGON ((-40.21221 -17.73048, -40.21085 -17.7...  \n",
       "2    1.415191  POLYGON ((-40.14385 -17.62265, -40.14350 -17.6...  \n",
       "3    3.028362  POLYGON ((-40.22508 -17.40671, -40.22353 -17.4...  \n",
       "4    1.456028  POLYGON ((-40.32401 -17.39604, -40.32253 -17.3...  "
      ]
     },
     "execution_count": 37,
     "metadata": {},
     "output_type": "execute_result"
    }
   ],
   "source": [
    "# Apagando a coluna area por estar fora do padrão de nome de atributo\n",
    "dados = dados.drop(columns=['Area'])\n",
    "dados.head()"
   ]
  },
  {
   "cell_type": "code",
   "execution_count": 39,
   "id": "faead364",
   "metadata": {},
   "outputs": [
    {
     "name": "stderr",
     "output_type": "stream",
     "text": [
      "C:\\Users\\DELL\\AppData\\Local\\Temp\\ipykernel_6464\\1321162748.py:2: UserWarning: Geometry is in a geographic CRS. Results from 'area' are likely incorrect. Use 'GeoSeries.to_crs()' to re-project geometries to a projected CRS before this operation.\n",
      "\n",
      "  dados['area_km2'] = dados.area\n"
     ]
    },
    {
     "data": {
      "text/html": [
       "<div>\n",
       "<style scoped>\n",
       "    .dataframe tbody tr th:only-of-type {\n",
       "        vertical-align: middle;\n",
       "    }\n",
       "\n",
       "    .dataframe tbody tr th {\n",
       "        vertical-align: top;\n",
       "    }\n",
       "\n",
       "    .dataframe thead th {\n",
       "        text-align: right;\n",
       "    }\n",
       "</style>\n",
       "<table border=\"1\" class=\"dataframe\">\n",
       "  <thead>\n",
       "    <tr style=\"text-align: right;\">\n",
       "      <th></th>\n",
       "      <th>codmun</th>\n",
       "      <th>nommun</th>\n",
       "      <th>codregmeso</th>\n",
       "      <th>nomregmeso</th>\n",
       "      <th>codti</th>\n",
       "      <th>nomti</th>\n",
       "      <th>st_area_sh</th>\n",
       "      <th>st_length_</th>\n",
       "      <th>geometry</th>\n",
       "      <th>area_km2</th>\n",
       "    </tr>\n",
       "  </thead>\n",
       "  <tbody>\n",
       "    <tr>\n",
       "      <th>0</th>\n",
       "      <td>2923001</td>\n",
       "      <td>Nova Viçosa</td>\n",
       "      <td>2907</td>\n",
       "      <td>Sul Baiano</td>\n",
       "      <td>7</td>\n",
       "      <td>Extremo Sul</td>\n",
       "      <td>0.112292</td>\n",
       "      <td>2.078712</td>\n",
       "      <td>POLYGON ((-39.70855 -17.77303, -39.70812 -17.7...</td>\n",
       "      <td>0.112292</td>\n",
       "    </tr>\n",
       "    <tr>\n",
       "      <th>1</th>\n",
       "      <td>2922003</td>\n",
       "      <td>Mucuri</td>\n",
       "      <td>2907</td>\n",
       "      <td>Sul Baiano</td>\n",
       "      <td>7</td>\n",
       "      <td>Extremo Sul</td>\n",
       "      <td>0.148912</td>\n",
       "      <td>2.493083</td>\n",
       "      <td>POLYGON ((-40.21221 -17.73048, -40.21085 -17.7...</td>\n",
       "      <td>0.148912</td>\n",
       "    </tr>\n",
       "    <tr>\n",
       "      <th>2</th>\n",
       "      <td>2912806</td>\n",
       "      <td>Ibirapoã</td>\n",
       "      <td>2907</td>\n",
       "      <td>Sul Baiano</td>\n",
       "      <td>7</td>\n",
       "      <td>Extremo Sul</td>\n",
       "      <td>0.065687</td>\n",
       "      <td>1.415191</td>\n",
       "      <td>POLYGON ((-40.14385 -17.62265, -40.14350 -17.6...</td>\n",
       "      <td>0.065687</td>\n",
       "    </tr>\n",
       "    <tr>\n",
       "      <th>3</th>\n",
       "      <td>2906907</td>\n",
       "      <td>Caravelas</td>\n",
       "      <td>2907</td>\n",
       "      <td>Sul Baiano</td>\n",
       "      <td>7</td>\n",
       "      <td>Extremo Sul</td>\n",
       "      <td>0.202838</td>\n",
       "      <td>3.028362</td>\n",
       "      <td>POLYGON ((-40.22508 -17.40671, -40.22353 -17.4...</td>\n",
       "      <td>0.202838</td>\n",
       "    </tr>\n",
       "    <tr>\n",
       "      <th>4</th>\n",
       "      <td>2918902</td>\n",
       "      <td>Lajedão</td>\n",
       "      <td>2907</td>\n",
       "      <td>Sul Baiano</td>\n",
       "      <td>7</td>\n",
       "      <td>Extremo Sul</td>\n",
       "      <td>0.053214</td>\n",
       "      <td>1.456028</td>\n",
       "      <td>POLYGON ((-40.32401 -17.39604, -40.32253 -17.3...</td>\n",
       "      <td>0.053214</td>\n",
       "    </tr>\n",
       "  </tbody>\n",
       "</table>\n",
       "</div>"
      ],
      "text/plain": [
       "    codmun       nommun codregmeso  nomregmeso codti        nomti  st_area_sh  \\\n",
       "0  2923001  Nova Viçosa       2907  Sul Baiano     7  Extremo Sul    0.112292   \n",
       "1  2922003       Mucuri       2907  Sul Baiano     7  Extremo Sul    0.148912   \n",
       "2  2912806     Ibirapoã       2907  Sul Baiano     7  Extremo Sul    0.065687   \n",
       "3  2906907    Caravelas       2907  Sul Baiano     7  Extremo Sul    0.202838   \n",
       "4  2918902      Lajedão       2907  Sul Baiano     7  Extremo Sul    0.053214   \n",
       "\n",
       "   st_length_                                           geometry  area_km2  \n",
       "0    2.078712  POLYGON ((-39.70855 -17.77303, -39.70812 -17.7...  0.112292  \n",
       "1    2.493083  POLYGON ((-40.21221 -17.73048, -40.21085 -17.7...  0.148912  \n",
       "2    1.415191  POLYGON ((-40.14385 -17.62265, -40.14350 -17.6...  0.065687  \n",
       "3    3.028362  POLYGON ((-40.22508 -17.40671, -40.22353 -17.4...  0.202838  \n",
       "4    1.456028  POLYGON ((-40.32401 -17.39604, -40.32253 -17.3...  0.053214  "
      ]
     },
     "execution_count": 39,
     "metadata": {},
     "output_type": "execute_result"
    }
   ],
   "source": [
    "# Criar uma coluna área em km2\n",
    "dados['area_km2'] = dados.area\n",
    "dados.head()"
   ]
  },
  {
   "cell_type": "code",
   "execution_count": 40,
   "id": "f685b3e0",
   "metadata": {
    "colab": {
     "base_uri": "https://localhost:8080/",
     "height": 617
    },
    "id": "21062938",
    "outputId": "f36586a3-14da-468a-8286-68481ead196d"
   },
   "outputs": [
    {
     "data": {
      "text/html": [
       "<div>\n",
       "<style scoped>\n",
       "    .dataframe tbody tr th:only-of-type {\n",
       "        vertical-align: middle;\n",
       "    }\n",
       "\n",
       "    .dataframe tbody tr th {\n",
       "        vertical-align: top;\n",
       "    }\n",
       "\n",
       "    .dataframe thead th {\n",
       "        text-align: right;\n",
       "    }\n",
       "</style>\n",
       "<table border=\"1\" class=\"dataframe\">\n",
       "  <thead>\n",
       "    <tr style=\"text-align: right;\">\n",
       "      <th></th>\n",
       "      <th>codmun</th>\n",
       "      <th>nommun</th>\n",
       "      <th>codregmeso</th>\n",
       "      <th>nomregmeso</th>\n",
       "      <th>codti</th>\n",
       "      <th>nomti</th>\n",
       "      <th>st_area_sh</th>\n",
       "      <th>st_length_</th>\n",
       "      <th>geometry</th>\n",
       "      <th>area_km2</th>\n",
       "    </tr>\n",
       "  </thead>\n",
       "  <tbody>\n",
       "    <tr>\n",
       "      <th>0</th>\n",
       "      <td>2923001</td>\n",
       "      <td>Nova Viçosa</td>\n",
       "      <td>2907</td>\n",
       "      <td>Sul Baiano</td>\n",
       "      <td>7</td>\n",
       "      <td>Extremo Sul</td>\n",
       "      <td>11.229212</td>\n",
       "      <td>2.078712</td>\n",
       "      <td>POLYGON ((-39.70855 -17.77303, -39.70812 -17.7...</td>\n",
       "      <td>0.112292</td>\n",
       "    </tr>\n",
       "    <tr>\n",
       "      <th>1</th>\n",
       "      <td>2922003</td>\n",
       "      <td>Mucuri</td>\n",
       "      <td>2907</td>\n",
       "      <td>Sul Baiano</td>\n",
       "      <td>7</td>\n",
       "      <td>Extremo Sul</td>\n",
       "      <td>14.891190</td>\n",
       "      <td>2.493083</td>\n",
       "      <td>POLYGON ((-40.21221 -17.73048, -40.21085 -17.7...</td>\n",
       "      <td>0.148912</td>\n",
       "    </tr>\n",
       "    <tr>\n",
       "      <th>2</th>\n",
       "      <td>2912806</td>\n",
       "      <td>Ibirapoã</td>\n",
       "      <td>2907</td>\n",
       "      <td>Sul Baiano</td>\n",
       "      <td>7</td>\n",
       "      <td>Extremo Sul</td>\n",
       "      <td>6.568659</td>\n",
       "      <td>1.415191</td>\n",
       "      <td>POLYGON ((-40.14385 -17.62265, -40.14350 -17.6...</td>\n",
       "      <td>0.065687</td>\n",
       "    </tr>\n",
       "    <tr>\n",
       "      <th>3</th>\n",
       "      <td>2906907</td>\n",
       "      <td>Caravelas</td>\n",
       "      <td>2907</td>\n",
       "      <td>Sul Baiano</td>\n",
       "      <td>7</td>\n",
       "      <td>Extremo Sul</td>\n",
       "      <td>20.283775</td>\n",
       "      <td>3.028362</td>\n",
       "      <td>POLYGON ((-40.22508 -17.40671, -40.22353 -17.4...</td>\n",
       "      <td>0.202838</td>\n",
       "    </tr>\n",
       "    <tr>\n",
       "      <th>4</th>\n",
       "      <td>2918902</td>\n",
       "      <td>Lajedão</td>\n",
       "      <td>2907</td>\n",
       "      <td>Sul Baiano</td>\n",
       "      <td>7</td>\n",
       "      <td>Extremo Sul</td>\n",
       "      <td>5.321426</td>\n",
       "      <td>1.456028</td>\n",
       "      <td>POLYGON ((-40.32401 -17.39604, -40.32253 -17.3...</td>\n",
       "      <td>0.053214</td>\n",
       "    </tr>\n",
       "  </tbody>\n",
       "</table>\n",
       "</div>"
      ],
      "text/plain": [
       "    codmun       nommun codregmeso  nomregmeso codti        nomti  st_area_sh  \\\n",
       "0  2923001  Nova Viçosa       2907  Sul Baiano     7  Extremo Sul   11.229212   \n",
       "1  2922003       Mucuri       2907  Sul Baiano     7  Extremo Sul   14.891190   \n",
       "2  2912806     Ibirapoã       2907  Sul Baiano     7  Extremo Sul    6.568659   \n",
       "3  2906907    Caravelas       2907  Sul Baiano     7  Extremo Sul   20.283775   \n",
       "4  2918902      Lajedão       2907  Sul Baiano     7  Extremo Sul    5.321426   \n",
       "\n",
       "   st_length_                                           geometry  area_km2  \n",
       "0    2.078712  POLYGON ((-39.70855 -17.77303, -39.70812 -17.7...  0.112292  \n",
       "1    2.493083  POLYGON ((-40.21221 -17.73048, -40.21085 -17.7...  0.148912  \n",
       "2    1.415191  POLYGON ((-40.14385 -17.62265, -40.14350 -17.6...  0.065687  \n",
       "3    3.028362  POLYGON ((-40.22508 -17.40671, -40.22353 -17.4...  0.202838  \n",
       "4    1.456028  POLYGON ((-40.32401 -17.39604, -40.32253 -17.3...  0.053214  "
      ]
     },
     "execution_count": 40,
     "metadata": {},
     "output_type": "execute_result"
    }
   ],
   "source": [
    "# Transformando o atributo st_area_sh em km2\n",
    "dados['st_area_sh'] = dados['area_km2'] * 100\n",
    "dados.head()"
   ]
  },
  {
   "cell_type": "code",
   "execution_count": 45,
   "id": "1842fe20",
   "metadata": {
    "colab": {
     "base_uri": "https://localhost:8080/"
    },
    "id": "4e040e20",
    "outputId": "80018f88-7ae5-49c6-9b6f-cc9424db6c8d"
   },
   "outputs": [
    {
     "data": {
      "text/plain": [
       "129.36"
      ]
     },
     "execution_count": 45,
     "metadata": {},
     "output_type": "execute_result"
    }
   ],
   "source": [
    "# área máxima de st_area_sh\n",
    "round(dados['st_area_sh'].max(), 2)"
   ]
  },
  {
   "cell_type": "code",
   "execution_count": 46,
   "id": "2e4e67b8",
   "metadata": {
    "colab": {
     "base_uri": "https://localhost:8080/"
    },
    "id": "06c97040",
    "outputId": "d080c46a-5091-4be6-a9ae-963f64be9e5a"
   },
   "outputs": [
    {
     "data": {
      "text/plain": [
       "0.2749316655600316"
      ]
     },
     "execution_count": 46,
     "metadata": {},
     "output_type": "execute_result"
    }
   ],
   "source": [
    "# área mínima de st_area_sh\n",
    "dados['st_area_sh'].min()"
   ]
  },
  {
   "cell_type": "code",
   "execution_count": 47,
   "id": "28aba825",
   "metadata": {
    "colab": {
     "base_uri": "https://localhost:8080/"
    },
    "id": "399bbf73",
    "outputId": "31df54a2-861b-4181-bd18-1b8d0bcf1cf1"
   },
   "outputs": [
    {
     "data": {
      "text/plain": [
       "11.276888146242879"
      ]
     },
     "execution_count": 47,
     "metadata": {},
     "output_type": "execute_result"
    }
   ],
   "source": [
    "# área média de st_area_sh\n",
    "dados['st_area_sh'].mean()"
   ]
  },
  {
   "cell_type": "code",
   "execution_count": 48,
   "id": "eaeeef52",
   "metadata": {
    "colab": {
     "base_uri": "https://localhost:8080/"
    },
    "id": "d35da5a3",
    "outputId": "7d168f6f-5107-41a3-faaa-33773acff98a"
   },
   "outputs": [
    {
     "data": {
      "text/plain": [
       "11.276888146242879"
      ]
     },
     "execution_count": 48,
     "metadata": {},
     "output_type": "execute_result"
    }
   ],
   "source": [
    "# Soma de todas as áreas de st_area_sh \n",
    "dados['st_area_sh'].sum() / dados['st_area_sh'].shape[0]"
   ]
  },
  {
   "cell_type": "markdown",
   "id": "c42f49c4",
   "metadata": {
    "id": "76092501"
   },
   "source": [
    "# Selecionando um Município e Salvando"
   ]
  },
  {
   "cell_type": "code",
   "execution_count": 49,
   "id": "91ab8450",
   "metadata": {
    "id": "f3b9f439"
   },
   "outputs": [],
   "source": [
    "select = dados.loc[dados['nommun'] == 'Senhor do Bonfim']"
   ]
  },
  {
   "cell_type": "code",
   "execution_count": 50,
   "id": "a141942f",
   "metadata": {
    "colab": {
     "base_uri": "https://localhost:8080/",
     "height": 214
    },
    "id": "cc6a3c03",
    "outputId": "65a781c6-8d16-453b-b639-e49252e3dfda"
   },
   "outputs": [
    {
     "data": {
      "text/html": [
       "<div>\n",
       "<style scoped>\n",
       "    .dataframe tbody tr th:only-of-type {\n",
       "        vertical-align: middle;\n",
       "    }\n",
       "\n",
       "    .dataframe tbody tr th {\n",
       "        vertical-align: top;\n",
       "    }\n",
       "\n",
       "    .dataframe thead th {\n",
       "        text-align: right;\n",
       "    }\n",
       "</style>\n",
       "<table border=\"1\" class=\"dataframe\">\n",
       "  <thead>\n",
       "    <tr style=\"text-align: right;\">\n",
       "      <th></th>\n",
       "      <th>codmun</th>\n",
       "      <th>nommun</th>\n",
       "      <th>codregmeso</th>\n",
       "      <th>nomregmeso</th>\n",
       "      <th>codti</th>\n",
       "      <th>nomti</th>\n",
       "      <th>st_area_sh</th>\n",
       "      <th>st_length_</th>\n",
       "      <th>geometry</th>\n",
       "      <th>area_km2</th>\n",
       "    </tr>\n",
       "  </thead>\n",
       "  <tbody>\n",
       "    <tr>\n",
       "      <th>390</th>\n",
       "      <td>2930105</td>\n",
       "      <td>Senhor do Bonfim</td>\n",
       "      <td>2903</td>\n",
       "      <td>Centro Norte Baiano</td>\n",
       "      <td>25</td>\n",
       "      <td>Piemonte Norte do Itapicuru</td>\n",
       "      <td>6.518701</td>\n",
       "      <td>1.227376</td>\n",
       "      <td>POLYGON ((-40.05774 -10.32370, -40.05764 -10.3...</td>\n",
       "      <td>0.065187</td>\n",
       "    </tr>\n",
       "  </tbody>\n",
       "</table>\n",
       "</div>"
      ],
      "text/plain": [
       "      codmun            nommun codregmeso           nomregmeso codti  \\\n",
       "390  2930105  Senhor do Bonfim       2903  Centro Norte Baiano    25   \n",
       "\n",
       "                           nomti  st_area_sh  st_length_  \\\n",
       "390  Piemonte Norte do Itapicuru    6.518701    1.227376   \n",
       "\n",
       "                                              geometry  area_km2  \n",
       "390  POLYGON ((-40.05774 -10.32370, -40.05764 -10.3...  0.065187  "
      ]
     },
     "execution_count": 50,
     "metadata": {},
     "output_type": "execute_result"
    }
   ],
   "source": [
    "select.head()"
   ]
  },
  {
   "cell_type": "code",
   "execution_count": 51,
   "id": "f9220073",
   "metadata": {
    "colab": {
     "base_uri": "https://localhost:8080/",
     "height": 266
    },
    "id": "48cfcef8",
    "outputId": "4e4fc11c-0f33-4826-e2d7-436605655314"
   },
   "outputs": [
    {
     "data": {
      "text/plain": [
       "<AxesSubplot:>"
      ]
     },
     "execution_count": 51,
     "metadata": {},
     "output_type": "execute_result"
    },
    {
     "data": {
      "image/png": "[encoded data removed]",
      "text/plain": [
       "<Figure size 640x480 with 1 Axes>"
      ]
     },
     "metadata": {},
     "output_type": "display_data"
    }
   ],
   "source": [
    "select.plot()"
   ]
  },
  {
   "cell_type": "code",
   "execution_count": 53,
   "id": "584a1c58",
   "metadata": {
    "id": "b0a813b6"
   },
   "outputs": [],
   "source": [
    "pasta_saida = r\"C:\\Shapefiles\\dados_curso_basico\\Reg_BA\\Municipios\"\n",
    "\n",
    "# Criar pasta\n",
    "os.mkdir(pasta_saida)"
   ]
  },
  {
   "cell_type": "code",
   "execution_count": 54,
   "id": "df8ab96e",
   "metadata": {
    "colab": {
     "base_uri": "https://localhost:8080/"
    },
    "id": "678a662f",
    "outputId": "67af3d79-93e7-425b-f613-ec0296bfee2f"
   },
   "outputs": [
    {
     "name": "stdout",
     "output_type": "stream",
     "text": [
      "C:\\Shapefiles\\dados_curso_basico\\Reg_BA\\Municipios\\BA_Senhor_do_Bonfim.shp\n"
     ]
    }
   ],
   "source": [
    "arquivo_saida = os.path.join(pasta_saida, \"BA_Senhor_do_Bonfim.shp\")\n",
    "print(arquivo_saida)"
   ]
  },
  {
   "cell_type": "code",
   "execution_count": 55,
   "id": "d472910c",
   "metadata": {
    "id": "3d1a473f"
   },
   "outputs": [],
   "source": [
    "# Salvando o arquivo\n",
    "select.to_file(arquivo_saida)"
   ]
  },
  {
   "cell_type": "markdown",
   "id": "1f9c97f7",
   "metadata": {
    "id": "2b19f8e8"
   },
   "source": [
    "# Agrupando GeoDataframe"
   ]
  },
  {
   "cell_type": "code",
   "execution_count": 56,
   "id": "4e7b5b0f",
   "metadata": {
    "colab": {
     "base_uri": "https://localhost:8080/",
     "height": 617
    },
    "id": "de52d32d",
    "outputId": "e880ef3f-c05d-4b07-b817-9bcb95b922f0"
   },
   "outputs": [
    {
     "data": {
      "text/html": [
       "<div>\n",
       "<style scoped>\n",
       "    .dataframe tbody tr th:only-of-type {\n",
       "        vertical-align: middle;\n",
       "    }\n",
       "\n",
       "    .dataframe tbody tr th {\n",
       "        vertical-align: top;\n",
       "    }\n",
       "\n",
       "    .dataframe thead th {\n",
       "        text-align: right;\n",
       "    }\n",
       "</style>\n",
       "<table border=\"1\" class=\"dataframe\">\n",
       "  <thead>\n",
       "    <tr style=\"text-align: right;\">\n",
       "      <th></th>\n",
       "      <th>codmun</th>\n",
       "      <th>nommun</th>\n",
       "      <th>codregmeso</th>\n",
       "      <th>nomregmeso</th>\n",
       "      <th>codti</th>\n",
       "      <th>nomti</th>\n",
       "      <th>st_area_sh</th>\n",
       "      <th>st_length_</th>\n",
       "      <th>geometry</th>\n",
       "      <th>area_km2</th>\n",
       "    </tr>\n",
       "  </thead>\n",
       "  <tbody>\n",
       "    <tr>\n",
       "      <th>0</th>\n",
       "      <td>2923001</td>\n",
       "      <td>Nova Viçosa</td>\n",
       "      <td>2907</td>\n",
       "      <td>Sul Baiano</td>\n",
       "      <td>7</td>\n",
       "      <td>Extremo Sul</td>\n",
       "      <td>11.229212</td>\n",
       "      <td>2.078712</td>\n",
       "      <td>POLYGON ((-39.70855 -17.77303, -39.70812 -17.7...</td>\n",
       "      <td>0.112292</td>\n",
       "    </tr>\n",
       "    <tr>\n",
       "      <th>1</th>\n",
       "      <td>2922003</td>\n",
       "      <td>Mucuri</td>\n",
       "      <td>2907</td>\n",
       "      <td>Sul Baiano</td>\n",
       "      <td>7</td>\n",
       "      <td>Extremo Sul</td>\n",
       "      <td>14.891190</td>\n",
       "      <td>2.493083</td>\n",
       "      <td>POLYGON ((-40.21221 -17.73048, -40.21085 -17.7...</td>\n",
       "      <td>0.148912</td>\n",
       "    </tr>\n",
       "    <tr>\n",
       "      <th>2</th>\n",
       "      <td>2912806</td>\n",
       "      <td>Ibirapoã</td>\n",
       "      <td>2907</td>\n",
       "      <td>Sul Baiano</td>\n",
       "      <td>7</td>\n",
       "      <td>Extremo Sul</td>\n",
       "      <td>6.568659</td>\n",
       "      <td>1.415191</td>\n",
       "      <td>POLYGON ((-40.14385 -17.62265, -40.14350 -17.6...</td>\n",
       "      <td>0.065687</td>\n",
       "    </tr>\n",
       "    <tr>\n",
       "      <th>3</th>\n",
       "      <td>2906907</td>\n",
       "      <td>Caravelas</td>\n",
       "      <td>2907</td>\n",
       "      <td>Sul Baiano</td>\n",
       "      <td>7</td>\n",
       "      <td>Extremo Sul</td>\n",
       "      <td>20.283775</td>\n",
       "      <td>3.028362</td>\n",
       "      <td>POLYGON ((-40.22508 -17.40671, -40.22353 -17.4...</td>\n",
       "      <td>0.202838</td>\n",
       "    </tr>\n",
       "    <tr>\n",
       "      <th>4</th>\n",
       "      <td>2918902</td>\n",
       "      <td>Lajedão</td>\n",
       "      <td>2907</td>\n",
       "      <td>Sul Baiano</td>\n",
       "      <td>7</td>\n",
       "      <td>Extremo Sul</td>\n",
       "      <td>5.321426</td>\n",
       "      <td>1.456028</td>\n",
       "      <td>POLYGON ((-40.32401 -17.39604, -40.32253 -17.3...</td>\n",
       "      <td>0.053214</td>\n",
       "    </tr>\n",
       "  </tbody>\n",
       "</table>\n",
       "</div>"
      ],
      "text/plain": [
       "    codmun       nommun codregmeso  nomregmeso codti        nomti  st_area_sh  \\\n",
       "0  2923001  Nova Viçosa       2907  Sul Baiano     7  Extremo Sul   11.229212   \n",
       "1  2922003       Mucuri       2907  Sul Baiano     7  Extremo Sul   14.891190   \n",
       "2  2912806     Ibirapoã       2907  Sul Baiano     7  Extremo Sul    6.568659   \n",
       "3  2906907    Caravelas       2907  Sul Baiano     7  Extremo Sul   20.283775   \n",
       "4  2918902      Lajedão       2907  Sul Baiano     7  Extremo Sul    5.321426   \n",
       "\n",
       "   st_length_                                           geometry  area_km2  \n",
       "0    2.078712  POLYGON ((-39.70855 -17.77303, -39.70812 -17.7...  0.112292  \n",
       "1    2.493083  POLYGON ((-40.21221 -17.73048, -40.21085 -17.7...  0.148912  \n",
       "2    1.415191  POLYGON ((-40.14385 -17.62265, -40.14350 -17.6...  0.065687  \n",
       "3    3.028362  POLYGON ((-40.22508 -17.40671, -40.22353 -17.4...  0.202838  \n",
       "4    1.456028  POLYGON ((-40.32401 -17.39604, -40.32253 -17.3...  0.053214  "
      ]
     },
     "execution_count": 56,
     "metadata": {},
     "output_type": "execute_result"
    }
   ],
   "source": [
    "dados.head()"
   ]
  },
  {
   "cell_type": "code",
   "execution_count": 57,
   "id": "26053b42",
   "metadata": {
    "colab": {
     "base_uri": "https://localhost:8080/"
    },
    "id": "67782304",
    "outputId": "a10141fc-7878-45e2-dcf8-56e4a4c698f8"
   },
   "outputs": [
    {
     "data": {
      "text/plain": [
       "array(['Extremo Sul', 'Costa do Descobrimento', 'Médio Sudoeste da Bahia',\n",
       "       'Litoral Sul', 'Sudoeste Baiano', 'Baixo Sul', 'Sertão Produtivo',\n",
       "       'Médio Rio de Contas', 'Bacia do Rio Corrente', 'Velho Chico',\n",
       "       'Vale do Jiquiriçá', 'Chapada Diamantina',\n",
       "       'Piemonte Norte do Itapicuru', 'Semiárido Nordeste II',\n",
       "       'Sertão do São Francisco', 'Bacia do Paramirim', 'Itaparica',\n",
       "       'Recôncavo', 'Metropolitano de Salvador', 'Piemonte do Paraguaçu',\n",
       "       'Litoral Norte e Agreste Baiano', 'Portal do Sertão',\n",
       "       'Bacia do Rio Grande', 'Bacia do Jacuípe', 'Sisal', 'Irecê',\n",
       "       'Piemonte da Diamantina'], dtype=object)"
      ]
     },
     "execution_count": 57,
     "metadata": {},
     "output_type": "execute_result"
    }
   ],
   "source": [
    "# DPA da Bahia com informações de TI e agrupar os municípios por TI\n",
    "dados['nomti'].unique()"
   ]
  },
  {
   "cell_type": "code",
   "execution_count": 58,
   "id": "564fee59",
   "metadata": {
    "colab": {
     "base_uri": "https://localhost:8080/"
    },
    "id": "0f115d20",
    "outputId": "5c9ecaeb-aef7-454d-b7f8-21a4d81c4819"
   },
   "outputs": [
    {
     "data": {
      "text/plain": [
       "<pandas.core.groupby.generic.DataFrameGroupBy object at 0x0000027AF2966460>"
      ]
     },
     "execution_count": 58,
     "metadata": {},
     "output_type": "execute_result"
    }
   ],
   "source": [
    "agrupar = dados.groupby('nomti')\n",
    "agrupar"
   ]
  },
  {
   "cell_type": "code",
   "execution_count": 61,
   "id": "9dcc214d",
   "metadata": {
    "colab": {
     "base_uri": "https://localhost:8080/"
    },
    "id": "b8d2057f",
    "outputId": "a1363481-36e2-496d-cacb-cc3014efa7a1"
   },
   "outputs": [
    {
     "data": {
      "text/plain": [
       "dict_keys(['Bacia do Jacuípe', 'Bacia do Paramirim', 'Bacia do Rio Corrente', 'Bacia do Rio Grande', 'Baixo Sul', 'Chapada Diamantina', 'Costa do Descobrimento', 'Extremo Sul', 'Irecê', 'Itaparica', 'Litoral Norte e Agreste Baiano', 'Litoral Sul', 'Metropolitano de Salvador', 'Médio Rio de Contas', 'Médio Sudoeste da Bahia', 'Piemonte Norte do Itapicuru', 'Piemonte da Diamantina', 'Piemonte do Paraguaçu', 'Portal do Sertão', 'Recôncavo', 'Semiárido Nordeste II', 'Sertão Produtivo', 'Sertão do São Francisco', 'Sisal', 'Sudoeste Baiano', 'Vale do Jiquiriçá', 'Velho Chico'])"
      ]
     },
     "execution_count": 61,
     "metadata": {},
     "output_type": "execute_result"
    }
   ],
   "source": [
    "agrupar.groups.keys()"
   ]
  },
  {
   "cell_type": "code",
   "execution_count": null,
   "id": "2aa6ffb9",
   "metadata": {
    "colab": {
     "base_uri": "https://localhost:8080/"
    },
    "id": "c0a3f38e",
    "outputId": "07e24d2f-a8d2-4469-bf4c-6925bfe1dbb7"
   },
   "outputs": [
    {
     "name": "stdout",
     "output_type": "stream",
     "text": [
      "Nome do Território Identidade: Bacia do Jacuípe\n",
      "Número de Municípios: 15\n",
      "Nome do Território Identidade: Bacia do Paramirim\n",
      "Número de Municípios: 8\n",
      "Nome do Território Identidade: Bacia do Rio Corrente\n",
      "Número de Municípios: 11\n",
      "Nome do Território Identidade: Bacia do Rio Grande\n",
      "Número de Municípios: 14\n",
      "Nome do Território Identidade: Baixo Sul\n",
      "Número de Municípios: 15\n",
      "Nome do Território Identidade: Chapada Diamantina\n",
      "Número de Municípios: 24\n",
      "Nome do Território Identidade: Costa do Descobrimento\n",
      "Número de Municípios: 8\n",
      "Nome do Território Identidade: Extremo Sul\n",
      "Número de Municípios: 13\n",
      "Nome do Território Identidade: Irecê\n",
      "Número de Municípios: 20\n",
      "Nome do Território Identidade: Itaparica\n",
      "Número de Municípios: 6\n",
      "Nome do Território Identidade: Litoral Norte e Agreste Baiano\n",
      "Número de Municípios: 20\n",
      "Nome do Território Identidade: Litoral Sul\n",
      "Número de Municípios: 26\n",
      "Nome do Território Identidade: Metropolitano de Salvador\n",
      "Número de Municípios: 13\n",
      "Nome do Território Identidade: Médio Rio de Contas\n",
      "Número de Municípios: 16\n",
      "Nome do Território Identidade: Médio Sudoeste da Bahia\n",
      "Número de Municípios: 13\n",
      "Nome do Território Identidade: Piemonte Norte do Itapicuru\n",
      "Número de Municípios: 9\n",
      "Nome do Território Identidade: Piemonte da Diamantina\n",
      "Número de Municípios: 9\n",
      "Nome do Território Identidade: Piemonte do Paraguaçu\n",
      "Número de Municípios: 13\n",
      "Nome do Território Identidade: Portal do Sertão\n",
      "Número de Municípios: 17\n",
      "Nome do Território Identidade: Recôncavo\n",
      "Número de Municípios: 19\n",
      "Nome do Território Identidade: Semiárido Nordeste II\n",
      "Número de Municípios: 18\n",
      "Nome do Território Identidade: Sertão Produtivo\n",
      "Número de Municípios: 20\n",
      "Nome do Território Identidade: Sertão do São Francisco\n",
      "Número de Municípios: 10\n",
      "Nome do Território Identidade: Sisal\n",
      "Número de Municípios: 20\n",
      "Nome do Território Identidade: Sudoeste Baiano\n",
      "Número de Municípios: 24\n",
      "Nome do Território Identidade: Vale do Jiquiriçá\n",
      "Número de Municípios: 20\n",
      "Nome do Território Identidade: Velho Chico\n",
      "Número de Municípios: 16\n"
     ]
    }
   ],
   "source": [
    "for chave, grupo in agrupar:\n",
    "    print(f'Nome do Território Identidade: {chave}')\n",
    "    print(f'Número de Municípios: {len(grupo)}')"
   ]
  },
  {
   "cell_type": "code",
   "execution_count": 62,
   "id": "12d29a99",
   "metadata": {
    "colab": {
     "base_uri": "https://localhost:8080/"
    },
    "id": "77c4b7e1",
    "outputId": "3f016468-0ee3-4090-cdf3-9ea36048e28d"
   },
   "outputs": [
    {
     "name": "stdout",
     "output_type": "stream",
     "text": [
      "Criando a pasta.\n"
     ]
    }
   ],
   "source": [
    "arquivo_saida = r\"C:\\Shapefiles\\dados_curso_basico\\Reg_BA\\Municipios\"\n",
    "\n",
    "resultado = os.path.join(arquivo_saida, \"Resultados\")\n",
    "\n",
    "if not os.path.exists(resultado):\n",
    "    print(\"Criando a pasta.\")\n",
    "    os.makedirs(resultado)\n",
    "else:\n",
    "    print(\"A pasta ja existe\")"
   ]
  },
  {
   "cell_type": "code",
   "execution_count": 64,
   "id": "fb26540e",
   "metadata": {
    "colab": {
     "base_uri": "https://localhost:8080/",
     "height": 1000
    },
    "id": "39602d3c",
    "outputId": "8263c8c6-555c-4125-82f3-331221f66baf"
   },
   "outputs": [
    {
     "data": {
      "text/html": [
       "<div>\n",
       "<style scoped>\n",
       "    .dataframe tbody tr th:only-of-type {\n",
       "        vertical-align: middle;\n",
       "    }\n",
       "\n",
       "    .dataframe tbody tr th {\n",
       "        vertical-align: top;\n",
       "    }\n",
       "\n",
       "    .dataframe thead th {\n",
       "        text-align: right;\n",
       "    }\n",
       "</style>\n",
       "<table border=\"1\" class=\"dataframe\">\n",
       "  <thead>\n",
       "    <tr style=\"text-align: right;\">\n",
       "      <th></th>\n",
       "      <th>codmun</th>\n",
       "      <th>nommun</th>\n",
       "      <th>codregmeso</th>\n",
       "      <th>nomregmeso</th>\n",
       "      <th>codti</th>\n",
       "      <th>nomti</th>\n",
       "      <th>st_area_sh</th>\n",
       "      <th>st_length_</th>\n",
       "      <th>geometry</th>\n",
       "      <th>area_km2</th>\n",
       "    </tr>\n",
       "  </thead>\n",
       "  <tbody>\n",
       "    <tr>\n",
       "      <th>0</th>\n",
       "      <td>2923001</td>\n",
       "      <td>Nova Viçosa</td>\n",
       "      <td>2907</td>\n",
       "      <td>Sul Baiano</td>\n",
       "      <td>7</td>\n",
       "      <td>Extremo Sul</td>\n",
       "      <td>11.229212</td>\n",
       "      <td>2.078712</td>\n",
       "      <td>POLYGON ((-39.70855 -17.77303, -39.70812 -17.7...</td>\n",
       "      <td>0.112292</td>\n",
       "    </tr>\n",
       "    <tr>\n",
       "      <th>1</th>\n",
       "      <td>2922003</td>\n",
       "      <td>Mucuri</td>\n",
       "      <td>2907</td>\n",
       "      <td>Sul Baiano</td>\n",
       "      <td>7</td>\n",
       "      <td>Extremo Sul</td>\n",
       "      <td>14.891190</td>\n",
       "      <td>2.493083</td>\n",
       "      <td>POLYGON ((-40.21221 -17.73048, -40.21085 -17.7...</td>\n",
       "      <td>0.148912</td>\n",
       "    </tr>\n",
       "    <tr>\n",
       "      <th>2</th>\n",
       "      <td>2912806</td>\n",
       "      <td>Ibirapoã</td>\n",
       "      <td>2907</td>\n",
       "      <td>Sul Baiano</td>\n",
       "      <td>7</td>\n",
       "      <td>Extremo Sul</td>\n",
       "      <td>6.568659</td>\n",
       "      <td>1.415191</td>\n",
       "      <td>POLYGON ((-40.14385 -17.62265, -40.14350 -17.6...</td>\n",
       "      <td>0.065687</td>\n",
       "    </tr>\n",
       "    <tr>\n",
       "      <th>3</th>\n",
       "      <td>2906907</td>\n",
       "      <td>Caravelas</td>\n",
       "      <td>2907</td>\n",
       "      <td>Sul Baiano</td>\n",
       "      <td>7</td>\n",
       "      <td>Extremo Sul</td>\n",
       "      <td>20.283775</td>\n",
       "      <td>3.028362</td>\n",
       "      <td>POLYGON ((-40.22508 -17.40671, -40.22353 -17.4...</td>\n",
       "      <td>0.202838</td>\n",
       "    </tr>\n",
       "    <tr>\n",
       "      <th>4</th>\n",
       "      <td>2918902</td>\n",
       "      <td>Lajedão</td>\n",
       "      <td>2907</td>\n",
       "      <td>Sul Baiano</td>\n",
       "      <td>7</td>\n",
       "      <td>Extremo Sul</td>\n",
       "      <td>5.321426</td>\n",
       "      <td>1.456028</td>\n",
       "      <td>POLYGON ((-40.32401 -17.39604, -40.32253 -17.3...</td>\n",
       "      <td>0.053214</td>\n",
       "    </tr>\n",
       "    <tr>\n",
       "      <th>...</th>\n",
       "      <td>...</td>\n",
       "      <td>...</td>\n",
       "      <td>...</td>\n",
       "      <td>...</td>\n",
       "      <td>...</td>\n",
       "      <td>...</td>\n",
       "      <td>...</td>\n",
       "      <td>...</td>\n",
       "      <td>...</td>\n",
       "      <td>...</td>\n",
       "    </tr>\n",
       "    <tr>\n",
       "      <th>406</th>\n",
       "      <td>2930774</td>\n",
       "      <td>Sobradinho</td>\n",
       "      <td>2902</td>\n",
       "      <td>Vale Sanfranciscano da Bahia</td>\n",
       "      <td>10</td>\n",
       "      <td>Sertão do São Francisco</td>\n",
       "      <td>11.202703</td>\n",
       "      <td>1.838491</td>\n",
       "      <td>POLYGON ((-40.86880 -9.39284, -40.86528 -9.393...</td>\n",
       "      <td>0.112027</td>\n",
       "    </tr>\n",
       "    <tr>\n",
       "      <th>410</th>\n",
       "      <td>2911402</td>\n",
       "      <td>Glória</td>\n",
       "      <td>2902</td>\n",
       "      <td>Vale Sanfranciscano da Bahia</td>\n",
       "      <td>24</td>\n",
       "      <td>Itaparica</td>\n",
       "      <td>12.866774</td>\n",
       "      <td>2.052888</td>\n",
       "      <td>POLYGON ((-38.52907 -8.95713, -38.52875 -8.957...</td>\n",
       "      <td>0.128668</td>\n",
       "    </tr>\n",
       "    <tr>\n",
       "      <th>411</th>\n",
       "      <td>2919900</td>\n",
       "      <td>Macururé</td>\n",
       "      <td>2902</td>\n",
       "      <td>Vale Sanfranciscano da Bahia</td>\n",
       "      <td>24</td>\n",
       "      <td>Itaparica</td>\n",
       "      <td>20.951313</td>\n",
       "      <td>2.543698</td>\n",
       "      <td>POLYGON ((-38.84282 -9.03920, -38.68354 -9.216...</td>\n",
       "      <td>0.209513</td>\n",
       "    </tr>\n",
       "    <tr>\n",
       "      <th>412</th>\n",
       "      <td>2927101</td>\n",
       "      <td>Rodelas</td>\n",
       "      <td>2902</td>\n",
       "      <td>Vale Sanfranciscano da Bahia</td>\n",
       "      <td>24</td>\n",
       "      <td>Itaparica</td>\n",
       "      <td>18.318562</td>\n",
       "      <td>3.260990</td>\n",
       "      <td>POLYGON ((-38.85007 -8.78115, -38.84197 -8.781...</td>\n",
       "      <td>0.183186</td>\n",
       "    </tr>\n",
       "    <tr>\n",
       "      <th>413</th>\n",
       "      <td>2907707</td>\n",
       "      <td>Chorrochó</td>\n",
       "      <td>2902</td>\n",
       "      <td>Vale Sanfranciscano da Bahia</td>\n",
       "      <td>24</td>\n",
       "      <td>Itaparica</td>\n",
       "      <td>24.955894</td>\n",
       "      <td>2.820718</td>\n",
       "      <td>POLYGON ((-39.04231 -8.71451, -39.03443 -8.715...</td>\n",
       "      <td>0.249559</td>\n",
       "    </tr>\n",
       "  </tbody>\n",
       "</table>\n",
       "<p>135 rows × 10 columns</p>\n",
       "</div>"
      ],
      "text/plain": [
       "      codmun       nommun codregmeso                    nomregmeso codti  \\\n",
       "0    2923001  Nova Viçosa       2907                    Sul Baiano     7   \n",
       "1    2922003       Mucuri       2907                    Sul Baiano     7   \n",
       "2    2912806     Ibirapoã       2907                    Sul Baiano     7   \n",
       "3    2906907    Caravelas       2907                    Sul Baiano     7   \n",
       "4    2918902      Lajedão       2907                    Sul Baiano     7   \n",
       "..       ...          ...        ...                           ...   ...   \n",
       "406  2930774   Sobradinho       2902  Vale Sanfranciscano da Bahia    10   \n",
       "410  2911402       Glória       2902  Vale Sanfranciscano da Bahia    24   \n",
       "411  2919900     Macururé       2902  Vale Sanfranciscano da Bahia    24   \n",
       "412  2927101      Rodelas       2902  Vale Sanfranciscano da Bahia    24   \n",
       "413  2907707    Chorrochó       2902  Vale Sanfranciscano da Bahia    24   \n",
       "\n",
       "                       nomti  st_area_sh  st_length_  \\\n",
       "0                Extremo Sul   11.229212    2.078712   \n",
       "1                Extremo Sul   14.891190    2.493083   \n",
       "2                Extremo Sul    6.568659    1.415191   \n",
       "3                Extremo Sul   20.283775    3.028362   \n",
       "4                Extremo Sul    5.321426    1.456028   \n",
       "..                       ...         ...         ...   \n",
       "406  Sertão do São Francisco   11.202703    1.838491   \n",
       "410                Itaparica   12.866774    2.052888   \n",
       "411                Itaparica   20.951313    2.543698   \n",
       "412                Itaparica   18.318562    3.260990   \n",
       "413                Itaparica   24.955894    2.820718   \n",
       "\n",
       "                                              geometry  area_km2  \n",
       "0    POLYGON ((-39.70855 -17.77303, -39.70812 -17.7...  0.112292  \n",
       "1    POLYGON ((-40.21221 -17.73048, -40.21085 -17.7...  0.148912  \n",
       "2    POLYGON ((-40.14385 -17.62265, -40.14350 -17.6...  0.065687  \n",
       "3    POLYGON ((-40.22508 -17.40671, -40.22353 -17.4...  0.202838  \n",
       "4    POLYGON ((-40.32401 -17.39604, -40.32253 -17.3...  0.053214  \n",
       "..                                                 ...       ...  \n",
       "406  POLYGON ((-40.86880 -9.39284, -40.86528 -9.393...  0.112027  \n",
       "410  POLYGON ((-38.52907 -8.95713, -38.52875 -8.957...  0.128668  \n",
       "411  POLYGON ((-38.84282 -9.03920, -38.68354 -9.216...  0.209513  \n",
       "412  POLYGON ((-38.85007 -8.78115, -38.84197 -8.781...  0.183186  \n",
       "413  POLYGON ((-39.04231 -8.71451, -39.03443 -8.715...  0.249559  \n",
       "\n",
       "[135 rows x 10 columns]"
      ]
     },
     "execution_count": 64,
     "metadata": {},
     "output_type": "execute_result"
    }
   ],
   "source": [
    "agrupar.head()"
   ]
  },
  {
   "cell_type": "code",
   "execution_count": 65,
   "id": "6fcf6937",
   "metadata": {
    "colab": {
     "base_uri": "https://localhost:8080/"
    },
    "id": "3cebe4f1",
    "outputId": "ccb4b18f-b85d-4aed-e946-8d75d5b20bb5"
   },
   "outputs": [
    {
     "name": "stdout",
     "output_type": "stream",
     "text": [
      "Salvando o arquivo Bacia do Jacuípe.shp\n",
      "Salvando o arquivo Bacia do Paramirim.shp\n",
      "Salvando o arquivo Bacia do Rio Corrente.shp\n",
      "Salvando o arquivo Bacia do Rio Grande.shp\n",
      "Salvando o arquivo Baixo Sul.shp\n",
      "Salvando o arquivo Chapada Diamantina.shp\n",
      "Salvando o arquivo Costa do Descobrimento.shp\n",
      "Salvando o arquivo Extremo Sul.shp\n",
      "Salvando o arquivo Irecê.shp\n",
      "Salvando o arquivo Itaparica.shp\n",
      "Salvando o arquivo Litoral Norte e Agreste Baiano.shp\n",
      "Salvando o arquivo Litoral Sul.shp\n",
      "Salvando o arquivo Metropolitano de Salvador.shp\n",
      "Salvando o arquivo Médio Rio de Contas.shp\n",
      "Salvando o arquivo Médio Sudoeste da Bahia.shp\n",
      "Salvando o arquivo Piemonte Norte do Itapicuru.shp\n",
      "Salvando o arquivo Piemonte da Diamantina.shp\n",
      "Salvando o arquivo Piemonte do Paraguaçu.shp\n",
      "Salvando o arquivo Portal do Sertão.shp\n",
      "Salvando o arquivo Recôncavo.shp\n",
      "Salvando o arquivo Semiárido Nordeste II.shp\n",
      "Salvando o arquivo Sertão Produtivo.shp\n",
      "Salvando o arquivo Sertão do São Francisco.shp\n",
      "Salvando o arquivo Sisal.shp\n",
      "Salvando o arquivo Sudoeste Baiano.shp\n",
      "Salvando o arquivo Vale do Jiquiriçá.shp\n",
      "Salvando o arquivo Velho Chico.shp\n"
     ]
    }
   ],
   "source": [
    "for chave, grupo in agrupar:\n",
    "    nome_saida = f'{chave}.shp'\n",
    "    print('Salvando o arquivo', os.path.basename(nome_saida))\n",
    "    caminho_saida = os.path.join(resultado, nome_saida)\n",
    "    grupo.to_file(caminho_saida)"
   ]
  },
  {
   "cell_type": "markdown",
   "id": "d95b765e",
   "metadata": {
    "id": "7b64a324"
   },
   "source": [
    "# Trabalhando com Coordenadas\n",
    "\n",
    "Para saber o código do EPSG da região de interesse existem diversos sites, mas eu costumo utilizar esse aqui: \n",
    "https://spatialreference.org/"
   ]
  },
  {
   "cell_type": "code",
   "execution_count": null,
   "id": "53ef8c68",
   "metadata": {
    "id": "1124d25b"
   },
   "outputs": [],
   "source": [
    "import geopandas as gpd"
   ]
  },
  {
   "cell_type": "code",
   "execution_count": 66,
   "id": "841086ba",
   "metadata": {
    "id": "e0e5f0e2"
   },
   "outputs": [],
   "source": [
    "arquivo = r\"C:\\Shapefiles\\dados_curso_basico\\Reg_BA\\Municipios\\Resultados\\Bacia do Jacuípe.shp\""
   ]
  },
  {
   "cell_type": "code",
   "execution_count": 67,
   "id": "b39ff73c",
   "metadata": {
    "colab": {
     "base_uri": "https://localhost:8080/",
     "height": 617
    },
    "id": "7d7f09f0",
    "outputId": "54f756ef-fa14-479b-d735-8f0c0d19221f"
   },
   "outputs": [
    {
     "data": {
      "text/html": [
       "<div>\n",
       "<style scoped>\n",
       "    .dataframe tbody tr th:only-of-type {\n",
       "        vertical-align: middle;\n",
       "    }\n",
       "\n",
       "    .dataframe tbody tr th {\n",
       "        vertical-align: top;\n",
       "    }\n",
       "\n",
       "    .dataframe thead th {\n",
       "        text-align: right;\n",
       "    }\n",
       "</style>\n",
       "<table border=\"1\" class=\"dataframe\">\n",
       "  <thead>\n",
       "    <tr style=\"text-align: right;\">\n",
       "      <th></th>\n",
       "      <th>codmun</th>\n",
       "      <th>nommun</th>\n",
       "      <th>codregmeso</th>\n",
       "      <th>nomregmeso</th>\n",
       "      <th>codti</th>\n",
       "      <th>nomti</th>\n",
       "      <th>st_area_sh</th>\n",
       "      <th>st_length_</th>\n",
       "      <th>area_km2</th>\n",
       "      <th>geometry</th>\n",
       "    </tr>\n",
       "  </thead>\n",
       "  <tbody>\n",
       "    <tr>\n",
       "      <th>0</th>\n",
       "      <td>2930402</td>\n",
       "      <td>Serra Preta</td>\n",
       "      <td>2903</td>\n",
       "      <td>Centro Norte Baiano</td>\n",
       "      <td>15</td>\n",
       "      <td>Bacia do Jacuípe</td>\n",
       "      <td>4.943099</td>\n",
       "      <td>1.130570</td>\n",
       "      <td>0.049431</td>\n",
       "      <td>POLYGON ((-39.34044 -11.96596, -39.34011 -11.9...</td>\n",
       "    </tr>\n",
       "    <tr>\n",
       "      <th>1</th>\n",
       "      <td>2914000</td>\n",
       "      <td>Ipirá</td>\n",
       "      <td>2903</td>\n",
       "      <td>Centro Norte Baiano</td>\n",
       "      <td>15</td>\n",
       "      <td>Bacia do Jacuípe</td>\n",
       "      <td>25.796304</td>\n",
       "      <td>2.592917</td>\n",
       "      <td>0.257963</td>\n",
       "      <td>POLYGON ((-39.77998 -11.89869, -39.77909 -11.8...</td>\n",
       "    </tr>\n",
       "    <tr>\n",
       "      <th>2</th>\n",
       "      <td>2902609</td>\n",
       "      <td>Baixa Grande</td>\n",
       "      <td>2903</td>\n",
       "      <td>Centro Norte Baiano</td>\n",
       "      <td>15</td>\n",
       "      <td>Bacia do Jacuípe</td>\n",
       "      <td>8.030085</td>\n",
       "      <td>1.513980</td>\n",
       "      <td>0.080301</td>\n",
       "      <td>POLYGON ((-40.19306 -11.82801, -40.19308 -11.8...</td>\n",
       "    </tr>\n",
       "    <tr>\n",
       "      <th>3</th>\n",
       "      <td>2924058</td>\n",
       "      <td>Pé de Serra</td>\n",
       "      <td>2904</td>\n",
       "      <td>Nordeste Baiano</td>\n",
       "      <td>15</td>\n",
       "      <td>Bacia do Jacuípe</td>\n",
       "      <td>4.951439</td>\n",
       "      <td>1.092995</td>\n",
       "      <td>0.049514</td>\n",
       "      <td>POLYGON ((-39.54146 -11.75822, -39.54087 -11.7...</td>\n",
       "    </tr>\n",
       "    <tr>\n",
       "      <th>4</th>\n",
       "      <td>2924652</td>\n",
       "      <td>Pintadas</td>\n",
       "      <td>2903</td>\n",
       "      <td>Centro Norte Baiano</td>\n",
       "      <td>15</td>\n",
       "      <td>Bacia do Jacuípe</td>\n",
       "      <td>5.369395</td>\n",
       "      <td>1.202601</td>\n",
       "      <td>0.053694</td>\n",
       "      <td>POLYGON ((-39.88515 -11.74014, -39.88512 -11.7...</td>\n",
       "    </tr>\n",
       "  </tbody>\n",
       "</table>\n",
       "</div>"
      ],
      "text/plain": [
       "    codmun        nommun codregmeso           nomregmeso codti  \\\n",
       "0  2930402   Serra Preta       2903  Centro Norte Baiano    15   \n",
       "1  2914000         Ipirá       2903  Centro Norte Baiano    15   \n",
       "2  2902609  Baixa Grande       2903  Centro Norte Baiano    15   \n",
       "3  2924058   Pé de Serra       2904      Nordeste Baiano    15   \n",
       "4  2924652      Pintadas       2903  Centro Norte Baiano    15   \n",
       "\n",
       "              nomti  st_area_sh  st_length_  area_km2  \\\n",
       "0  Bacia do Jacuípe    4.943099    1.130570  0.049431   \n",
       "1  Bacia do Jacuípe   25.796304    2.592917  0.257963   \n",
       "2  Bacia do Jacuípe    8.030085    1.513980  0.080301   \n",
       "3  Bacia do Jacuípe    4.951439    1.092995  0.049514   \n",
       "4  Bacia do Jacuípe    5.369395    1.202601  0.053694   \n",
       "\n",
       "                                            geometry  \n",
       "0  POLYGON ((-39.34044 -11.96596, -39.34011 -11.9...  \n",
       "1  POLYGON ((-39.77998 -11.89869, -39.77909 -11.8...  \n",
       "2  POLYGON ((-40.19306 -11.82801, -40.19308 -11.8...  \n",
       "3  POLYGON ((-39.54146 -11.75822, -39.54087 -11.7...  \n",
       "4  POLYGON ((-39.88515 -11.74014, -39.88512 -11.7...  "
      ]
     },
     "execution_count": 67,
     "metadata": {},
     "output_type": "execute_result"
    }
   ],
   "source": [
    "dados_bacia_jacuipe = gpd.read_file(arquivo)\n",
    "dados_bacia_jacuipe.head()"
   ]
  },
  {
   "cell_type": "code",
   "execution_count": 68,
   "id": "d96252db",
   "metadata": {
    "colab": {
     "base_uri": "https://localhost:8080/"
    },
    "id": "6160e80b",
    "outputId": "30e8635d-e8dd-4b15-850d-aeee3e1c0b34"
   },
   "outputs": [
    {
     "data": {
      "text/plain": [
       "<Geographic 2D CRS: GEOGCS[\"GCS_SIRGAS_2000\",DATUM[\"D_Sistema_de_Refer ...>\n",
       "Name: SIRGAS 2000\n",
       "Axis Info [ellipsoidal]:\n",
       "- lon[east]: Longitude (Degree)\n",
       "- lat[north]: Latitude (Degree)\n",
       "Area of Use:\n",
       "- undefined\n",
       "Datum: Sistema de Referencia Geocentrico para las AmericaS 2000\n",
       "- Ellipsoid: GRS 1980\n",
       "- Prime Meridian: Greenwich"
      ]
     },
     "execution_count": 68,
     "metadata": {},
     "output_type": "execute_result"
    }
   ],
   "source": [
    "# Verificar o sistema de coordenadas\n",
    "dados_bacia_jacuipe.crs"
   ]
  },
  {
   "cell_type": "code",
   "execution_count": 69,
   "id": "2552cdb4",
   "metadata": {
    "id": "320b265f"
   },
   "outputs": [],
   "source": [
    "# Criar uma cópia do arquivo\n",
    "dados_bacia_jacuipe_epsg_4674 = dados_bacia_jacuipe.copy()\n",
    "\n",
    "# Reprojetar para a coordenada da região\n",
    "dados_bacia_jacuipe = dados_bacia_jacuipe.to_crs(epsg=31982)"
   ]
  },
  {
   "cell_type": "code",
   "execution_count": 70,
   "id": "e948333f",
   "metadata": {
    "colab": {
     "base_uri": "https://localhost:8080/"
    },
    "id": "90c7918b",
    "outputId": "7d796fa8-e753-4fe5-a651-403a3598b968"
   },
   "outputs": [
    {
     "data": {
      "text/plain": [
       "<Derived Projected CRS: EPSG:31982>\n",
       "Name: SIRGAS 2000 / UTM zone 22S\n",
       "Axis Info [cartesian]:\n",
       "- E[east]: Easting (metre)\n",
       "- N[north]: Northing (metre)\n",
       "Area of Use:\n",
       "- name: Brazil - between 54°W and 48°W, northern and southern hemispheres, onshore and offshore. In remainder of South America - between 54°W and 48°W, southern hemisphere, onshore and offshore.\n",
       "- bounds: (-54.0, -54.18, -47.99, 7.04)\n",
       "Coordinate Operation:\n",
       "- name: UTM zone 22S\n",
       "- method: Transverse Mercator\n",
       "Datum: Sistema de Referencia Geocentrico para las AmericaS 2000\n",
       "- Ellipsoid: GRS 1980\n",
       "- Prime Meridian: Greenwich"
      ]
     },
     "execution_count": 70,
     "metadata": {},
     "output_type": "execute_result"
    }
   ],
   "source": [
    "dados_bacia_jacuipe.crs"
   ]
  },
  {
   "cell_type": "code",
   "execution_count": 71,
   "id": "346579ed",
   "metadata": {
    "colab": {
     "base_uri": "https://localhost:8080/",
     "height": 531
    },
    "id": "e9ef0bb4",
    "outputId": "93b0bd1a-1ba4-4f95-aad1-73e731faed8f"
   },
   "outputs": [
    {
     "data": {
      "text/html": [
       "<div>\n",
       "<style scoped>\n",
       "    .dataframe tbody tr th:only-of-type {\n",
       "        vertical-align: middle;\n",
       "    }\n",
       "\n",
       "    .dataframe tbody tr th {\n",
       "        vertical-align: top;\n",
       "    }\n",
       "\n",
       "    .dataframe thead th {\n",
       "        text-align: right;\n",
       "    }\n",
       "</style>\n",
       "<table border=\"1\" class=\"dataframe\">\n",
       "  <thead>\n",
       "    <tr style=\"text-align: right;\">\n",
       "      <th></th>\n",
       "      <th>codmun</th>\n",
       "      <th>nommun</th>\n",
       "      <th>codregmeso</th>\n",
       "      <th>nomregmeso</th>\n",
       "      <th>codti</th>\n",
       "      <th>nomti</th>\n",
       "      <th>st_area_sh</th>\n",
       "      <th>st_length_</th>\n",
       "      <th>area_km2</th>\n",
       "      <th>geometry</th>\n",
       "    </tr>\n",
       "  </thead>\n",
       "  <tbody>\n",
       "    <tr>\n",
       "      <th>0</th>\n",
       "      <td>2930402</td>\n",
       "      <td>Serra Preta</td>\n",
       "      <td>2903</td>\n",
       "      <td>Centro Norte Baiano</td>\n",
       "      <td>15</td>\n",
       "      <td>Bacia do Jacuípe</td>\n",
       "      <td>4.943099</td>\n",
       "      <td>1.130570</td>\n",
       "      <td>0.049431</td>\n",
       "      <td>POLYGON ((1777541.426 8649980.443, 1777577.866...</td>\n",
       "    </tr>\n",
       "    <tr>\n",
       "      <th>1</th>\n",
       "      <td>2914000</td>\n",
       "      <td>Ipirá</td>\n",
       "      <td>2903</td>\n",
       "      <td>Centro Norte Baiano</td>\n",
       "      <td>15</td>\n",
       "      <td>Bacia do Jacuípe</td>\n",
       "      <td>25.796304</td>\n",
       "      <td>2.592917</td>\n",
       "      <td>0.257963</td>\n",
       "      <td>POLYGON ((1729108.392 8659598.529, 1729203.122...</td>\n",
       "    </tr>\n",
       "    <tr>\n",
       "      <th>2</th>\n",
       "      <td>2902609</td>\n",
       "      <td>Baixa Grande</td>\n",
       "      <td>2903</td>\n",
       "      <td>Centro Norte Baiano</td>\n",
       "      <td>15</td>\n",
       "      <td>Bacia do Jacuípe</td>\n",
       "      <td>8.030085</td>\n",
       "      <td>1.513980</td>\n",
       "      <td>0.080301</td>\n",
       "      <td>POLYGON ((1683659.850 8669379.894, 1683656.860...</td>\n",
       "    </tr>\n",
       "    <tr>\n",
       "      <th>3</th>\n",
       "      <td>2924058</td>\n",
       "      <td>Pé de Serra</td>\n",
       "      <td>2904</td>\n",
       "      <td>Nordeste Baiano</td>\n",
       "      <td>15</td>\n",
       "      <td>Bacia do Jacuípe</td>\n",
       "      <td>4.951439</td>\n",
       "      <td>1.092995</td>\n",
       "      <td>0.049514</td>\n",
       "      <td>POLYGON ((1756215.884 8674327.266, 1756248.989...</td>\n",
       "    </tr>\n",
       "    <tr>\n",
       "      <th>4</th>\n",
       "      <td>2924652</td>\n",
       "      <td>Pintadas</td>\n",
       "      <td>2903</td>\n",
       "      <td>Centro Norte Baiano</td>\n",
       "      <td>15</td>\n",
       "      <td>Bacia do Jacuípe</td>\n",
       "      <td>5.369395</td>\n",
       "      <td>1.202601</td>\n",
       "      <td>0.053694</td>\n",
       "      <td>POLYGON ((1718170.485 8677912.580, 1718173.505...</td>\n",
       "    </tr>\n",
       "  </tbody>\n",
       "</table>\n",
       "</div>"
      ],
      "text/plain": [
       "    codmun        nommun codregmeso           nomregmeso codti  \\\n",
       "0  2930402   Serra Preta       2903  Centro Norte Baiano    15   \n",
       "1  2914000         Ipirá       2903  Centro Norte Baiano    15   \n",
       "2  2902609  Baixa Grande       2903  Centro Norte Baiano    15   \n",
       "3  2924058   Pé de Serra       2904      Nordeste Baiano    15   \n",
       "4  2924652      Pintadas       2903  Centro Norte Baiano    15   \n",
       "\n",
       "              nomti  st_area_sh  st_length_  area_km2  \\\n",
       "0  Bacia do Jacuípe    4.943099    1.130570  0.049431   \n",
       "1  Bacia do Jacuípe   25.796304    2.592917  0.257963   \n",
       "2  Bacia do Jacuípe    8.030085    1.513980  0.080301   \n",
       "3  Bacia do Jacuípe    4.951439    1.092995  0.049514   \n",
       "4  Bacia do Jacuípe    5.369395    1.202601  0.053694   \n",
       "\n",
       "                                            geometry  \n",
       "0  POLYGON ((1777541.426 8649980.443, 1777577.866...  \n",
       "1  POLYGON ((1729108.392 8659598.529, 1729203.122...  \n",
       "2  POLYGON ((1683659.850 8669379.894, 1683656.860...  \n",
       "3  POLYGON ((1756215.884 8674327.266, 1756248.989...  \n",
       "4  POLYGON ((1718170.485 8677912.580, 1718173.505...  "
      ]
     },
     "execution_count": 71,
     "metadata": {},
     "output_type": "execute_result"
    }
   ],
   "source": [
    "dados_bacia_jacuipe.head()"
   ]
  },
  {
   "cell_type": "code",
   "execution_count": 72,
   "id": "bb0992d1",
   "metadata": {
    "colab": {
     "base_uri": "https://localhost:8080/",
     "height": 531
    },
    "id": "becb0d21",
    "outputId": "02dffb35-b9b3-4de9-b85f-805ed58a5533"
   },
   "outputs": [
    {
     "data": {
      "text/html": [
       "<div>\n",
       "<style scoped>\n",
       "    .dataframe tbody tr th:only-of-type {\n",
       "        vertical-align: middle;\n",
       "    }\n",
       "\n",
       "    .dataframe tbody tr th {\n",
       "        vertical-align: top;\n",
       "    }\n",
       "\n",
       "    .dataframe thead th {\n",
       "        text-align: right;\n",
       "    }\n",
       "</style>\n",
       "<table border=\"1\" class=\"dataframe\">\n",
       "  <thead>\n",
       "    <tr style=\"text-align: right;\">\n",
       "      <th></th>\n",
       "      <th>codmun</th>\n",
       "      <th>nommun</th>\n",
       "      <th>codregmeso</th>\n",
       "      <th>nomregmeso</th>\n",
       "      <th>codti</th>\n",
       "      <th>nomti</th>\n",
       "      <th>st_area_sh</th>\n",
       "      <th>st_length_</th>\n",
       "      <th>area_km2</th>\n",
       "      <th>geometry</th>\n",
       "    </tr>\n",
       "  </thead>\n",
       "  <tbody>\n",
       "    <tr>\n",
       "      <th>0</th>\n",
       "      <td>2930402</td>\n",
       "      <td>Serra Preta</td>\n",
       "      <td>2903</td>\n",
       "      <td>Centro Norte Baiano</td>\n",
       "      <td>15</td>\n",
       "      <td>Bacia do Jacuípe</td>\n",
       "      <td>4.943099</td>\n",
       "      <td>1.130570</td>\n",
       "      <td>6.190924e+08</td>\n",
       "      <td>POLYGON ((1777541.426 8649980.443, 1777577.866...</td>\n",
       "    </tr>\n",
       "    <tr>\n",
       "      <th>1</th>\n",
       "      <td>2914000</td>\n",
       "      <td>Ipirá</td>\n",
       "      <td>2903</td>\n",
       "      <td>Centro Norte Baiano</td>\n",
       "      <td>15</td>\n",
       "      <td>Bacia do Jacuípe</td>\n",
       "      <td>25.796304</td>\n",
       "      <td>2.592917</td>\n",
       "      <td>3.220002e+09</td>\n",
       "      <td>POLYGON ((1729108.392 8659598.529, 1729203.122...</td>\n",
       "    </tr>\n",
       "    <tr>\n",
       "      <th>2</th>\n",
       "      <td>2902609</td>\n",
       "      <td>Baixa Grande</td>\n",
       "      <td>2903</td>\n",
       "      <td>Centro Norte Baiano</td>\n",
       "      <td>15</td>\n",
       "      <td>Bacia do Jacuípe</td>\n",
       "      <td>8.030085</td>\n",
       "      <td>1.513980</td>\n",
       "      <td>1.000879e+09</td>\n",
       "      <td>POLYGON ((1683659.850 8669379.894, 1683656.860...</td>\n",
       "    </tr>\n",
       "    <tr>\n",
       "      <th>3</th>\n",
       "      <td>2924058</td>\n",
       "      <td>Pé de Serra</td>\n",
       "      <td>2904</td>\n",
       "      <td>Nordeste Baiano</td>\n",
       "      <td>15</td>\n",
       "      <td>Bacia do Jacuípe</td>\n",
       "      <td>4.951439</td>\n",
       "      <td>1.092995</td>\n",
       "      <td>6.195858e+08</td>\n",
       "      <td>POLYGON ((1756215.884 8674327.266, 1756248.989...</td>\n",
       "    </tr>\n",
       "    <tr>\n",
       "      <th>4</th>\n",
       "      <td>2924652</td>\n",
       "      <td>Pintadas</td>\n",
       "      <td>2903</td>\n",
       "      <td>Centro Norte Baiano</td>\n",
       "      <td>15</td>\n",
       "      <td>Bacia do Jacuípe</td>\n",
       "      <td>5.369395</td>\n",
       "      <td>1.202601</td>\n",
       "      <td>6.706086e+08</td>\n",
       "      <td>POLYGON ((1718170.485 8677912.580, 1718173.505...</td>\n",
       "    </tr>\n",
       "  </tbody>\n",
       "</table>\n",
       "</div>"
      ],
      "text/plain": [
       "    codmun        nommun codregmeso           nomregmeso codti  \\\n",
       "0  2930402   Serra Preta       2903  Centro Norte Baiano    15   \n",
       "1  2914000         Ipirá       2903  Centro Norte Baiano    15   \n",
       "2  2902609  Baixa Grande       2903  Centro Norte Baiano    15   \n",
       "3  2924058   Pé de Serra       2904      Nordeste Baiano    15   \n",
       "4  2924652      Pintadas       2903  Centro Norte Baiano    15   \n",
       "\n",
       "              nomti  st_area_sh  st_length_      area_km2  \\\n",
       "0  Bacia do Jacuípe    4.943099    1.130570  6.190924e+08   \n",
       "1  Bacia do Jacuípe   25.796304    2.592917  3.220002e+09   \n",
       "2  Bacia do Jacuípe    8.030085    1.513980  1.000879e+09   \n",
       "3  Bacia do Jacuípe    4.951439    1.092995  6.195858e+08   \n",
       "4  Bacia do Jacuípe    5.369395    1.202601  6.706086e+08   \n",
       "\n",
       "                                            geometry  \n",
       "0  POLYGON ((1777541.426 8649980.443, 1777577.866...  \n",
       "1  POLYGON ((1729108.392 8659598.529, 1729203.122...  \n",
       "2  POLYGON ((1683659.850 8669379.894, 1683656.860...  \n",
       "3  POLYGON ((1756215.884 8674327.266, 1756248.989...  \n",
       "4  POLYGON ((1718170.485 8677912.580, 1718173.505...  "
      ]
     },
     "execution_count": 72,
     "metadata": {},
     "output_type": "execute_result"
    }
   ],
   "source": [
    "dados_bacia_jacuipe['area_km2'] = dados_bacia_jacuipe.area\n",
    "dados_bacia_jacuipe.head()"
   ]
  },
  {
   "cell_type": "code",
   "execution_count": 73,
   "id": "e3243edd",
   "metadata": {
    "colab": {
     "base_uri": "https://localhost:8080/",
     "height": 617
    },
    "id": "d360d4d8",
    "outputId": "e0bf51c7-ff00-4145-a10c-746340bc8e06"
   },
   "outputs": [
    {
     "data": {
      "text/html": [
       "<div>\n",
       "<style scoped>\n",
       "    .dataframe tbody tr th:only-of-type {\n",
       "        vertical-align: middle;\n",
       "    }\n",
       "\n",
       "    .dataframe tbody tr th {\n",
       "        vertical-align: top;\n",
       "    }\n",
       "\n",
       "    .dataframe thead th {\n",
       "        text-align: right;\n",
       "    }\n",
       "</style>\n",
       "<table border=\"1\" class=\"dataframe\">\n",
       "  <thead>\n",
       "    <tr style=\"text-align: right;\">\n",
       "      <th></th>\n",
       "      <th>codmun</th>\n",
       "      <th>nommun</th>\n",
       "      <th>codregmeso</th>\n",
       "      <th>nomregmeso</th>\n",
       "      <th>codti</th>\n",
       "      <th>nomti</th>\n",
       "      <th>st_area_sh</th>\n",
       "      <th>st_length_</th>\n",
       "      <th>area_km2</th>\n",
       "      <th>geometry</th>\n",
       "    </tr>\n",
       "  </thead>\n",
       "  <tbody>\n",
       "    <tr>\n",
       "      <th>0</th>\n",
       "      <td>2930402</td>\n",
       "      <td>Serra Preta</td>\n",
       "      <td>2903</td>\n",
       "      <td>Centro Norte Baiano</td>\n",
       "      <td>15</td>\n",
       "      <td>Bacia do Jacuípe</td>\n",
       "      <td>4.943099</td>\n",
       "      <td>1.130570</td>\n",
       "      <td>0.049431</td>\n",
       "      <td>POLYGON ((-39.34044 -11.96596, -39.34011 -11.9...</td>\n",
       "    </tr>\n",
       "    <tr>\n",
       "      <th>1</th>\n",
       "      <td>2914000</td>\n",
       "      <td>Ipirá</td>\n",
       "      <td>2903</td>\n",
       "      <td>Centro Norte Baiano</td>\n",
       "      <td>15</td>\n",
       "      <td>Bacia do Jacuípe</td>\n",
       "      <td>25.796304</td>\n",
       "      <td>2.592917</td>\n",
       "      <td>0.257963</td>\n",
       "      <td>POLYGON ((-39.77998 -11.89869, -39.77909 -11.8...</td>\n",
       "    </tr>\n",
       "    <tr>\n",
       "      <th>2</th>\n",
       "      <td>2902609</td>\n",
       "      <td>Baixa Grande</td>\n",
       "      <td>2903</td>\n",
       "      <td>Centro Norte Baiano</td>\n",
       "      <td>15</td>\n",
       "      <td>Bacia do Jacuípe</td>\n",
       "      <td>8.030085</td>\n",
       "      <td>1.513980</td>\n",
       "      <td>0.080301</td>\n",
       "      <td>POLYGON ((-40.19306 -11.82801, -40.19308 -11.8...</td>\n",
       "    </tr>\n",
       "    <tr>\n",
       "      <th>3</th>\n",
       "      <td>2924058</td>\n",
       "      <td>Pé de Serra</td>\n",
       "      <td>2904</td>\n",
       "      <td>Nordeste Baiano</td>\n",
       "      <td>15</td>\n",
       "      <td>Bacia do Jacuípe</td>\n",
       "      <td>4.951439</td>\n",
       "      <td>1.092995</td>\n",
       "      <td>0.049514</td>\n",
       "      <td>POLYGON ((-39.54146 -11.75822, -39.54087 -11.7...</td>\n",
       "    </tr>\n",
       "    <tr>\n",
       "      <th>4</th>\n",
       "      <td>2924652</td>\n",
       "      <td>Pintadas</td>\n",
       "      <td>2903</td>\n",
       "      <td>Centro Norte Baiano</td>\n",
       "      <td>15</td>\n",
       "      <td>Bacia do Jacuípe</td>\n",
       "      <td>5.369395</td>\n",
       "      <td>1.202601</td>\n",
       "      <td>0.053694</td>\n",
       "      <td>POLYGON ((-39.88515 -11.74014, -39.88512 -11.7...</td>\n",
       "    </tr>\n",
       "  </tbody>\n",
       "</table>\n",
       "</div>"
      ],
      "text/plain": [
       "    codmun        nommun codregmeso           nomregmeso codti  \\\n",
       "0  2930402   Serra Preta       2903  Centro Norte Baiano    15   \n",
       "1  2914000         Ipirá       2903  Centro Norte Baiano    15   \n",
       "2  2902609  Baixa Grande       2903  Centro Norte Baiano    15   \n",
       "3  2924058   Pé de Serra       2904      Nordeste Baiano    15   \n",
       "4  2924652      Pintadas       2903  Centro Norte Baiano    15   \n",
       "\n",
       "              nomti  st_area_sh  st_length_  area_km2  \\\n",
       "0  Bacia do Jacuípe    4.943099    1.130570  0.049431   \n",
       "1  Bacia do Jacuípe   25.796304    2.592917  0.257963   \n",
       "2  Bacia do Jacuípe    8.030085    1.513980  0.080301   \n",
       "3  Bacia do Jacuípe    4.951439    1.092995  0.049514   \n",
       "4  Bacia do Jacuípe    5.369395    1.202601  0.053694   \n",
       "\n",
       "                                            geometry  \n",
       "0  POLYGON ((-39.34044 -11.96596, -39.34011 -11.9...  \n",
       "1  POLYGON ((-39.77998 -11.89869, -39.77909 -11.8...  \n",
       "2  POLYGON ((-40.19306 -11.82801, -40.19308 -11.8...  \n",
       "3  POLYGON ((-39.54146 -11.75822, -39.54087 -11.7...  \n",
       "4  POLYGON ((-39.88515 -11.74014, -39.88512 -11.7...  "
      ]
     },
     "execution_count": 73,
     "metadata": {},
     "output_type": "execute_result"
    }
   ],
   "source": [
    "dados_bacia_jacuipe_epsg_4674.head()"
   ]
  },
  {
   "cell_type": "code",
   "execution_count": 74,
   "id": "d7ad8983",
   "metadata": {
    "colab": {
     "base_uri": "https://localhost:8080/",
     "height": 380
    },
    "id": "ef33db53",
    "outputId": "99925d00-f711-4968-df18-ba4499c6cfad"
   },
   "outputs": [
    {
     "data": {
      "image/png": "[encoded data removed]",
      "text/plain": [
       "<Figure size 1000x1000 with 2 Axes>"
      ]
     },
     "metadata": {},
     "output_type": "display_data"
    }
   ],
   "source": [
    "import matplotlib.pyplot as plt\n",
    "\n",
    "# Fazendo um plot do lado do outro\n",
    "\n",
    "fig, (ax1, ax2) = plt.subplots(nrows=1, ncols=2, figsize=(10,10))\n",
    "\n",
    "dados_bacia_jacuipe_epsg_4674.plot(ax=ax1, facecolor='gray')\n",
    "dados_bacia_jacuipe.plot(ax=ax2, facecolor='gray')\n",
    "\n",
    "# Definir a proporção como 1\n",
    "ax1.set_aspect(aspect=1)\n",
    "ax2.set_aspect(aspect=1)\n"
   ]
  },
  {
   "cell_type": "code",
   "execution_count": 81,
   "id": "0d5579d5",
   "metadata": {
    "colab": {
     "base_uri": "https://localhost:8080/",
     "height": 130
    },
    "id": "6e83b69b",
    "outputId": "4700002f-ca8c-4449-d809-412361b15ca7"
   },
   "outputs": [
    {
     "data": {
      "text/plain": [
       "'C:\\\\Shapefiles\\\\dados_curso_basico\\\\Reg_BA\\\\Municipios\\\\Resultados\\\\Bacia_Jacuipe_epsg31982.shp'"
      ]
     },
     "execution_count": 81,
     "metadata": {},
     "output_type": "execute_result"
    }
   ],
   "source": [
    "# Criando o path do arquivo de saída EPSG 31982 e EPSG 4674\n",
    "arquivo_saida_epsg31982 = r'C:\\Shapefiles\\dados_curso_basico\\Reg_BA\\Municipios\\Resultados\\Bacia_Jacuipe_epsg31982.shp'\n",
    "arquivo_saida_epsg4674 = r'C:\\Shapefiles\\dados_curso_basico\\Reg_BA\\Municipios\\Resultados\\Bacia_Jacuipe_epsg4674.shp'\n",
    "arquivo_saida_epsg31982"
   ]
  },
  {
   "cell_type": "code",
   "execution_count": 82,
   "id": "2b1e029d",
   "metadata": {},
   "outputs": [
    {
     "data": {
      "text/plain": [
       "'C:\\\\Shapefiles\\\\dados_curso_basico\\\\Reg_BA\\\\Municipios\\\\Resultados\\\\Bacia_Jacuipe_epsg4674.shp'"
      ]
     },
     "execution_count": 82,
     "metadata": {},
     "output_type": "execute_result"
    }
   ],
   "source": [
    "arquivo_saida_epsg4674"
   ]
  },
  {
   "cell_type": "code",
   "execution_count": 83,
   "id": "02818fb0",
   "metadata": {
    "id": "424d073d"
   },
   "outputs": [],
   "source": [
    "# Salvar o arquivo\n",
    "dados_bacia_jacuipe.to_file(arquivo_saida_epsg31982)\n",
    "dados_bacia_jacuipe.to_file(arquivo_saida_epsg4674)"
   ]
  },
  {
   "cell_type": "markdown",
   "id": "f7187b40",
   "metadata": {},
   "source": [
    "# Fim do módulo 8"
   ]
  }
 ],
 "metadata": {
  "colab": {
   "provenance": []
  },
  "kernelspec": {
   "display_name": "Python 3 (ipykernel)",
   "language": "python",
   "name": "python3"
  },
  "language_info": {
   "codemirror_mode": {
    "name": "ipython",
    "version": 3
   },
   "file_extension": ".py",
   "mimetype": "text/x-python",
   "name": "python",
   "nbconvert_exporter": "python",
   "pygments_lexer": "ipython3",
   "version": "3.9.11"
  }
 },
 "nbformat": 4,
 "nbformat_minor": 5
}
