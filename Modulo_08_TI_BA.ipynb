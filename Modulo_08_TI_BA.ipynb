{
  "cells": [
    {
      "cell_type": "markdown",
      "id": "b2f785e9",
      "metadata": {
        "id": "b2f785e9"
      },
      "source": [
        "# Módulo 08 - Estruturas de Dados\n",
        "\n",
        "## GeoSeries vs GeoDataframe\n",
        "\n",
        "A `GeoSeries` é um vetor onde cada entrada no vetor é um conjunto de formas correspondentes a uma observação, por exemplo, um único polígono.\n",
        "\n",
        "Já o `GeoDataframe` é uma estrutura de dados que contém um arquivo `GeoSeries`."
      ]
    },
    {
      "cell_type": "code",
      "execution_count": null,
      "id": "a2d26f01",
      "metadata": {
        "id": "a2d26f01"
      },
      "outputs": [],
      "source": [
        "!pip install click==8.1.3\n",
        "!pip install geopandas\n",
        "import geopandas as gpd"
      ]
    },
    {
      "cell_type": "code",
      "execution_count": null,
      "id": "0b7fac13",
      "metadata": {
        "id": "0b7fac13"
      },
      "outputs": [],
      "source": [
        "from shapely.geometry import Polygon, LineString, Point\n",
        "\n",
        "s = gpd.GeoSeries(\n",
        "    [\n",
        "        Polygon([(0, 0), (1,1), (0,1)]),\n",
        "        Polygon([(10, 0), (10,5), (0,0)]),\n",
        "        Polygon([(0, 0), (2,2), (2,0)]),\n",
        "        LineString([(0, 0), (1,1), (0,1)]),\n",
        "        Point(0,1)\n",
        "    ]\n",
        "\n",
        ")\n",
        "s"
      ]
    },
    {
      "cell_type": "code",
      "execution_count": null,
      "id": "38a6c7fa",
      "metadata": {
        "id": "38a6c7fa"
      },
      "outputs": [],
      "source": [
        "type(s)"
      ]
    },
    {
      "cell_type": "markdown",
      "id": "c124b180",
      "metadata": {
        "id": "c124b180"
      },
      "source": [
        "## Diferença entre Dataframe e GeoDataframe\n",
        "\n"
      ]
    },
    {
      "cell_type": "code",
      "execution_count": null,
      "id": "6fe8da68",
      "metadata": {
        "id": "6fe8da68"
      },
      "outputs": [],
      "source": [
        "import geopandas as gpd\n",
        "import os\n",
        "from osgeo import gdal\n",
        "gdal.SetConfigOption('SHAPE_RESTORE_SHX', 'YES')\n",
        "in_vector = 'C:\\Shapefiles\\dados_curso_basico\\Regionalizacao_BA\\gisdb_dados_sei_REG_MUN_A_100K_2022_GCS_SIR_SEI.shp'\n",
        "gdf = gpd.read_file(in_vector)"
      ]
    },
    {
      "cell_type": "code",
      "execution_count": null,
      "id": "51aecb0b",
      "metadata": {
        "id": "51aecb0b"
      },
      "outputs": [],
      "source": [
        "# Definir o caminho da pasta\n",
        "pasta = r'C:\\Shapefiles\\dados_curso_basico\\Regionalizacao_BA\\gisdb_dados_sei_REG_MUN_A_100K_2022_GCS_SIR_SEI.shp'\n",
        "#pasta = \"/content/DPA_A_100K_2022_GCS_SIR_SEI.shp\"\n",
        "\n",
        "# Juntar o nome do arquivo com a pasta\n",
        "#pasta_arquivo = os.path.join(pasta, 'BR_Municipios_2021.shp')\n",
        "print(pasta)\n",
        "#print(pasta_arquivo)"
      ]
    },
    {
      "cell_type": "code",
      "execution_count": null,
      "id": "115bd059",
      "metadata": {
        "id": "115bd059"
      },
      "outputs": [],
      "source": [
        "dados = gpd.read_file(pasta)"
      ]
    },
    {
      "cell_type": "code",
      "execution_count": null,
      "id": "de74d739",
      "metadata": {
        "id": "de74d739"
      },
      "outputs": [],
      "source": [
        "type(dados)"
      ]
    },
    {
      "cell_type": "code",
      "execution_count": null,
      "id": "d22be97a",
      "metadata": {
        "id": "d22be97a"
      },
      "outputs": [],
      "source": [
        "dados.head(10)"
      ]
    },
    {
      "cell_type": "code",
      "execution_count": null,
      "id": "b932a00a",
      "metadata": {
        "id": "b932a00a"
      },
      "outputs": [],
      "source": [
        "dados.tail()"
      ]
    },
    {
      "cell_type": "code",
      "execution_count": null,
      "id": "75404865",
      "metadata": {
        "colab": {
          "base_uri": "https://localhost:8080/"
        },
        "id": "75404865",
        "outputId": "b3d8e850-df20-4b7b-982e-09204639573e"
      },
      "outputs": [
        {
          "data": {
            "text/plain": [
              "array(['codmun', 'nommun', 'codregmeso', 'nomregmeso', 'codregmicr',\n",
              "       'nomregmicr', 'codreginte', 'nomreginte', 'codregimed',\n",
              "       'nomregimed', 'indregpoli', 'indregsemi', 'codti', 'nomti',\n",
              "       'codregecon', 'nomregecon', 'cod_regadm', 'nomregadm',\n",
              "       'codeixodes', 'nomeixodes', 'codnte', 'nomnte', 'codnrs', 'nomnrs',\n",
              "       'codregsau', 'nomregsau', 'codzonatur', 'nomzonatur', 'st_area_sh',\n",
              "       'st_length_', 'geometry'], dtype=object)"
            ]
          },
          "execution_count": 30,
          "metadata": {},
          "output_type": "execute_result"
        }
      ],
      "source": [
        "# Verificar o nome das colunas\n",
        "dados.columns.values"
      ]
    },
    {
      "cell_type": "code",
      "execution_count": null,
      "id": "33c8625f",
      "metadata": {
        "id": "33c8625f"
      },
      "outputs": [],
      "source": [
        "dados = dados[['codmun','nommun','codregmeso', 'nomregmeso', 'codti', 'nomti', 'st_area_sh', 'st_length_', 'geometry']]\n",
        "dados.head()"
      ]
    },
    {
      "cell_type": "code",
      "execution_count": null,
      "id": "e44c754a",
      "metadata": {
        "id": "e44c754a"
      },
      "outputs": [],
      "source": [
        "dados.shape"
      ]
    },
    {
      "cell_type": "code",
      "execution_count": null,
      "id": "7297671a",
      "metadata": {
        "id": "7297671a"
      },
      "outputs": [],
      "source": [
        "# Verificando o número de linhas e colunas\n",
        "print(f'O número de linhas é: {dados.shape[0]}')\n",
        "print(f'O número de colunas é: {dados.shape[1]}')"
      ]
    },
    {
      "cell_type": "code",
      "execution_count": null,
      "id": "1e43f191",
      "metadata": {
        "id": "1e43f191"
      },
      "outputs": [],
      "source": [
        "dados.plot()"
      ]
    },
    {
      "cell_type": "code",
      "execution_count": null,
      "id": "a7331f7d",
      "metadata": {
        "id": "a7331f7d"
      },
      "outputs": [],
      "source": [
        "for indice, linha in dados[0:10].iterrows():\n",
        "    area_polig = linha['geometry'].area\n",
        "    print(f\"O polígono de índice {indice} possui uma área de {area_polig:.2f} m²\")\n",
        "    "
      ]
    },
    {
      "cell_type": "code",
      "execution_count": null,
      "id": "08d65824",
      "metadata": {
        "id": "08d65824"
      },
      "outputs": [],
      "source": [
        "# Criar uma coluna área em km2\n",
        "dados['Area'] = dados.area\n",
        "dados.head()"
      ]
    },
    {
      "cell_type": "code",
      "execution_count": null,
      "id": "152abee1",
      "metadata": {
        "id": "152abee1"
      },
      "outputs": [],
      "source": [
        "# Apagando a coluna area por estar fora do padrão de nome de atributo\n",
        "dados = dados.drop(columns=['Area'])\n",
        "dados.head()"
      ]
    },
    {
      "cell_type": "code",
      "execution_count": null,
      "id": "faead364",
      "metadata": {
        "id": "faead364"
      },
      "outputs": [],
      "source": [
        "# Criar uma coluna área em km2\n",
        "dados['area_km2'] = dados.area\n",
        "dados.head()"
      ]
    },
    {
      "cell_type": "code",
      "execution_count": null,
      "id": "f685b3e0",
      "metadata": {
        "id": "f685b3e0"
      },
      "outputs": [],
      "source": [
        "# Transformando o atributo st_area_sh em km2\n",
        "dados['st_area_sh'] = dados['area_km2'] * 100\n",
        "dados.head()"
      ]
    },
    {
      "cell_type": "code",
      "execution_count": null,
      "id": "1842fe20",
      "metadata": {
        "id": "1842fe20"
      },
      "outputs": [],
      "source": [
        "# área máxima de st_area_sh\n",
        "round(dados['st_area_sh'].max(), 2)"
      ]
    },
    {
      "cell_type": "code",
      "execution_count": null,
      "id": "2e4e67b8",
      "metadata": {
        "id": "2e4e67b8"
      },
      "outputs": [],
      "source": [
        "# área mínima de st_area_sh\n",
        "dados['st_area_sh'].min()"
      ]
    },
    {
      "cell_type": "code",
      "execution_count": null,
      "id": "28aba825",
      "metadata": {
        "id": "28aba825"
      },
      "outputs": [],
      "source": [
        "# área média de st_area_sh\n",
        "dados['st_area_sh'].mean()"
      ]
    },
    {
      "cell_type": "code",
      "execution_count": null,
      "id": "eaeeef52",
      "metadata": {
        "id": "eaeeef52"
      },
      "outputs": [],
      "source": [
        "# Soma de todas as áreas de st_area_sh \n",
        "dados['st_area_sh'].sum() / dados['st_area_sh'].shape[0]"
      ]
    },
    {
      "cell_type": "markdown",
      "id": "c42f49c4",
      "metadata": {
        "id": "c42f49c4"
      },
      "source": [
        "# Selecionando um Município e Salvando"
      ]
    },
    {
      "cell_type": "code",
      "execution_count": null,
      "id": "91ab8450",
      "metadata": {
        "id": "91ab8450"
      },
      "outputs": [],
      "source": [
        "select = dados.loc[dados['nommun'] == 'Senhor do Bonfim']"
      ]
    },
    {
      "cell_type": "code",
      "execution_count": null,
      "id": "a141942f",
      "metadata": {
        "id": "a141942f"
      },
      "outputs": [],
      "source": [
        "select.head()"
      ]
    },
    {
      "cell_type": "code",
      "execution_count": null,
      "id": "f9220073",
      "metadata": {
        "id": "f9220073"
      },
      "outputs": [],
      "source": [
        "select.plot()"
      ]
    },
    {
      "cell_type": "code",
      "execution_count": null,
      "id": "584a1c58",
      "metadata": {
        "id": "584a1c58"
      },
      "outputs": [],
      "source": [
        "pasta_saida = r\"C:\\Shapefiles\\dados_curso_basico\\Reg_BA\\Municipios\"\n",
        "\n",
        "# Criar pasta\n",
        "os.mkdir(pasta_saida)"
      ]
    },
    {
      "cell_type": "code",
      "execution_count": null,
      "id": "df8ab96e",
      "metadata": {
        "id": "df8ab96e"
      },
      "outputs": [],
      "source": [
        "arquivo_saida = os.path.join(pasta_saida, \"BA_Senhor_do_Bonfim.shp\")\n",
        "print(arquivo_saida)"
      ]
    },
    {
      "cell_type": "code",
      "execution_count": null,
      "id": "d472910c",
      "metadata": {
        "id": "d472910c"
      },
      "outputs": [],
      "source": [
        "# Salvando o arquivo\n",
        "select.to_file(arquivo_saida)"
      ]
    },
    {
      "cell_type": "markdown",
      "id": "1f9c97f7",
      "metadata": {
        "id": "1f9c97f7"
      },
      "source": [
        "# Agrupando GeoDataframe"
      ]
    },
    {
      "cell_type": "code",
      "execution_count": null,
      "id": "4e7b5b0f",
      "metadata": {
        "id": "4e7b5b0f"
      },
      "outputs": [],
      "source": [
        "dados.head()"
      ]
    },
    {
      "cell_type": "code",
      "execution_count": null,
      "id": "26053b42",
      "metadata": {
        "id": "26053b42"
      },
      "outputs": [],
      "source": [
        "# DPA da Bahia com informações de TI e agrupar os municípios por TI\n",
        "dados['nomti'].unique()"
      ]
    },
    {
      "cell_type": "code",
      "execution_count": null,
      "id": "564fee59",
      "metadata": {
        "id": "564fee59"
      },
      "outputs": [],
      "source": [
        "agrupar = dados.groupby('nomti')\n",
        "agrupar"
      ]
    },
    {
      "cell_type": "code",
      "execution_count": null,
      "id": "9dcc214d",
      "metadata": {
        "id": "9dcc214d"
      },
      "outputs": [],
      "source": [
        "agrupar.groups.keys()"
      ]
    },
    {
      "cell_type": "code",
      "execution_count": null,
      "id": "2aa6ffb9",
      "metadata": {
        "id": "2aa6ffb9"
      },
      "outputs": [],
      "source": [
        "for chave, grupo in agrupar:\n",
        "    print(f'Nome do Território Identidade: {chave}')\n",
        "    print(f'Número de Municípios: {len(grupo)}')"
      ]
    },
    {
      "cell_type": "code",
      "execution_count": null,
      "id": "12d29a99",
      "metadata": {
        "id": "12d29a99"
      },
      "outputs": [],
      "source": [
        "arquivo_saida = r\"C:\\Shapefiles\\dados_curso_basico\\Reg_BA\\Municipios\"\n",
        "\n",
        "resultado = os.path.join(arquivo_saida, \"Resultados\")\n",
        "\n",
        "if not os.path.exists(resultado):\n",
        "    print(\"Criando a pasta.\")\n",
        "    os.makedirs(resultado)\n",
        "else:\n",
        "    print(\"A pasta ja existe\")"
      ]
    },
    {
      "cell_type": "code",
      "execution_count": null,
      "id": "fb26540e",
      "metadata": {
        "id": "fb26540e"
      },
      "outputs": [],
      "source": [
        "agrupar.head()"
      ]
    },
    {
      "cell_type": "code",
      "execution_count": null,
      "id": "6fcf6937",
      "metadata": {
        "id": "6fcf6937"
      },
      "outputs": [],
      "source": [
        "for chave, grupo in agrupar:\n",
        "    nome_saida = f'{chave}.shp'\n",
        "    print('Salvando o arquivo', os.path.basename(nome_saida))\n",
        "    caminho_saida = os.path.join(resultado, nome_saida)\n",
        "    grupo.to_file(caminho_saida)"
      ]
    },
    {
      "cell_type": "markdown",
      "id": "d95b765e",
      "metadata": {
        "id": "d95b765e"
      },
      "source": [
        "# Trabalhando com Coordenadas\n",
        "\n",
        "Para saber o código do EPSG da região de interesse existem diversos sites, mas eu costumo utilizar esse aqui: \n",
        "https://spatialreference.org/"
      ]
    },
    {
      "cell_type": "code",
      "execution_count": null,
      "id": "53ef8c68",
      "metadata": {
        "id": "53ef8c68"
      },
      "outputs": [],
      "source": [
        "import geopandas as gpd"
      ]
    },
    {
      "cell_type": "code",
      "execution_count": null,
      "id": "841086ba",
      "metadata": {
        "id": "841086ba"
      },
      "outputs": [],
      "source": [
        "arquivo = r\"C:\\Shapefiles\\dados_curso_basico\\Reg_BA\\Municipios\\Resultados\\Bacia do Jacuípe.shp\""
      ]
    },
    {
      "cell_type": "code",
      "execution_count": null,
      "id": "b39ff73c",
      "metadata": {
        "id": "b39ff73c"
      },
      "outputs": [],
      "source": [
        "dados_bacia_jacuipe = gpd.read_file(arquivo)\n",
        "dados_bacia_jacuipe.head()"
      ]
    },
    {
      "cell_type": "code",
      "execution_count": null,
      "id": "d96252db",
      "metadata": {
        "id": "d96252db"
      },
      "outputs": [],
      "source": [
        "# Verificar o sistema de coordenadas\n",
        "dados_bacia_jacuipe.crs"
      ]
    },
    {
      "cell_type": "code",
      "execution_count": null,
      "id": "2552cdb4",
      "metadata": {
        "id": "2552cdb4"
      },
      "outputs": [],
      "source": [
        "# Criar uma cópia do arquivo\n",
        "dados_bacia_jacuipe_epsg_4674 = dados_bacia_jacuipe.copy()\n",
        "\n",
        "# Reprojetar para a coordenada da região\n",
        "dados_bacia_jacuipe = dados_bacia_jacuipe.to_crs(epsg=31982)"
      ]
    },
    {
      "cell_type": "code",
      "execution_count": null,
      "id": "e948333f",
      "metadata": {
        "id": "e948333f"
      },
      "outputs": [],
      "source": [
        "dados_bacia_jacuipe.crs"
      ]
    },
    {
      "cell_type": "code",
      "execution_count": null,
      "id": "346579ed",
      "metadata": {
        "id": "346579ed"
      },
      "outputs": [],
      "source": [
        "dados_bacia_jacuipe.head()"
      ]
    },
    {
      "cell_type": "code",
      "execution_count": null,
      "id": "bb0992d1",
      "metadata": {
        "id": "bb0992d1"
      },
      "outputs": [],
      "source": [
        "dados_bacia_jacuipe['area_km2'] = dados_bacia_jacuipe.area\n",
        "dados_bacia_jacuipe.head()"
      ]
    },
    {
      "cell_type": "code",
      "execution_count": null,
      "id": "e3243edd",
      "metadata": {
        "id": "e3243edd"
      },
      "outputs": [],
      "source": [
        "dados_bacia_jacuipe_epsg_4674.head()"
      ]
    },
    {
      "cell_type": "code",
      "execution_count": null,
      "id": "d7ad8983",
      "metadata": {
        "id": "d7ad8983"
      },
      "outputs": [],
      "source": [
        "import matplotlib.pyplot as plt\n",
        "\n",
        "# Fazendo um plot do lado do outro\n",
        "\n",
        "fig, (ax1, ax2) = plt.subplots(nrows=1, ncols=2, figsize=(10,10))\n",
        "\n",
        "dados_bacia_jacuipe_epsg_4674.plot(ax=ax1, facecolor='gray')\n",
        "dados_bacia_jacuipe.plot(ax=ax2, facecolor='gray')\n",
        "\n",
        "# Definir a proporção como 1\n",
        "ax1.set_aspect(aspect=1)\n",
        "ax2.set_aspect(aspect=1)\n"
      ]
    },
    {
      "cell_type": "code",
      "execution_count": null,
      "id": "0d5579d5",
      "metadata": {
        "id": "0d5579d5"
      },
      "outputs": [],
      "source": [
        "# Criando o path do arquivo de saída EPSG 31982 e EPSG 4674\n",
        "arquivo_saida_epsg31982 = r'C:\\Shapefiles\\dados_curso_basico\\Reg_BA\\Municipios\\Resultados\\Bacia_Jacuipe_epsg31982.shp'\n",
        "arquivo_saida_epsg4674 = r'C:\\Shapefiles\\dados_curso_basico\\Reg_BA\\Municipios\\Resultados\\Bacia_Jacuipe_epsg4674.shp'\n",
        "arquivo_saida_epsg31982"
      ]
    },
    {
      "cell_type": "code",
      "execution_count": null,
      "id": "2b1e029d",
      "metadata": {
        "id": "2b1e029d"
      },
      "outputs": [],
      "source": [
        "arquivo_saida_epsg4674"
      ]
    },
    {
      "cell_type": "code",
      "execution_count": null,
      "id": "02818fb0",
      "metadata": {
        "id": "02818fb0"
      },
      "outputs": [],
      "source": [
        "# Salvar o arquivo\n",
        "dados_bacia_jacuipe.to_file(arquivo_saida_epsg31982)\n",
        "dados_bacia_jacuipe.to_file(arquivo_saida_epsg4674)"
      ]
    },
    {
      "cell_type": "markdown",
      "id": "f7187b40",
      "metadata": {
        "id": "f7187b40"
      },
      "source": [
        "# Fim do módulo 8"
      ]
    }
  ],
  "metadata": {
    "colab": {
      "provenance": []
    },
    "kernelspec": {
      "display_name": "Python 3 (ipykernel)",
      "language": "python",
      "name": "python3"
    },
    "language_info": {
      "codemirror_mode": {
        "name": "ipython",
        "version": 3
      },
      "file_extension": ".py",
      "mimetype": "text/x-python",
      "name": "python",
      "nbconvert_exporter": "python",
      "pygments_lexer": "ipython3",
      "version": "3.9.11"
    }
  },
  "nbformat": 4,
  "nbformat_minor": 5
}