{
  "nbformat": 4,
  "nbformat_minor": 0,
  "metadata": {
    "colab": {
      "provenance": [],
      "authorship_tag": "ABX9TyP8HDm9d1mlk+dWZRMa94gx",
      "include_colab_link": true
    },
    "kernelspec": {
      "name": "python3",
      "display_name": "Python 3"
    },
    "language_info": {
      "name": "python"
    }
  },
  "cells": [
    {
      "cell_type": "markdown",
      "metadata": {
        "id": "view-in-github",
        "colab_type": "text"
      },
      "source": [
        "<a href=\"https://colab.research.google.com/github/sandovalmedeiros/PythonGeo/blob/main/Aula6.ipynb\" target=\"_parent\"><img src=\"https://colab.research.google.com/assets/colab-badge.svg\" alt=\"Open In Colab\"/></a>"
      ]
    },
    {
      "cell_type": "markdown",
      "source": [
        "# Geometrias no Python"
      ],
      "metadata": {
        "id": "YlpE_jWWEAO8"
      }
    },
    {
      "cell_type": "markdown",
      "source": [
        "\n",
        "\n",
        "*   Ponto (Point) - Um objeto que representa um ponto no espaço.\n",
        "*   Linha (LineString) - Um objeto que representa uma sequência de pontos que unidos representam uma linha.\n",
        "*   Poligono (Polygon) - É um objeto que representa uma área preenchida com pelo ao menos três tuplas de coordenadas formando o poligono. (são pontos e linhas onde o ponto inicial é igual ao ponto final)\n",
        "\n",
        "*   Multiplos Pontos (MultiPoint) - É uma coleção de pontos representada por uma lista de tuplas de coordenadas.\n",
        "*   Multiplas Linhas (MultiLineString) - É uma coleção de linhas.\n",
        "*   Multiplos Poligonos (MultiPolygon) - É uma coleção de poligonos.\n",
        "\n",
        "*   Multiplas Geometrias (GeometryCollection) - É a coleção das multiplas geometrias (ponto, linhas e poligonos)\n",
        "\n",
        "#### Para o nosso aprendizado vamos trabalhar com a biblioteca: Shapely Geometry consulte a documentação em: https://shapely.readthedocs.io/en/stable/manual.html"
      ],
      "metadata": {
        "id": "g3HVATaKERph"
      }
    },
    {
      "cell_type": "code",
      "source": [
        "# Instalando a biblioteca shapely\n",
        "!pip install shapely"
      ],
      "metadata": {
        "colab": {
          "base_uri": "https://localhost:8080/"
        },
        "id": "uNc0RqHzH4IT",
        "outputId": "b940b08f-1dbf-41d5-a67c-774c5380449b"
      },
      "execution_count": 1,
      "outputs": [
        {
          "output_type": "stream",
          "name": "stdout",
          "text": [
            "Looking in indexes: https://pypi.org/simple, https://us-python.pkg.dev/colab-wheels/public/simple/\n",
            "Requirement already satisfied: shapely in /usr/local/lib/python3.8/dist-packages (2.0.1)\n",
            "Requirement already satisfied: numpy>=1.14 in /usr/local/lib/python3.8/dist-packages (from shapely) (1.21.6)\n"
          ]
        }
      ]
    },
    {
      "cell_type": "code",
      "source": [
        "# importando as funções desejadas\n",
        "from shapely.geometry import Polygon, LineString, Point"
      ],
      "metadata": {
        "id": "bxphuR9yJU6N"
      },
      "execution_count": 2,
      "outputs": []
    },
    {
      "cell_type": "markdown",
      "source": [
        "\n",
        "\n",
        "> **Point - (Ponto)**\n",
        "\n"
      ],
      "metadata": {
        "id": "vt_0VstWVKRV"
      }
    },
    {
      "cell_type": "code",
      "source": [
        "# Criando Pontos\n",
        "ponto1 = Point(13.4, -19.3)\n",
        "ponto2 = Point(14.5, -21.4)\n",
        "ponto3 = Point(2.45, 8.65)\n",
        "\n",
        "ponto3D = Point(2.45, 8.65, 1.2)"
      ],
      "metadata": {
        "id": "o50C_wMIJ0_P"
      },
      "execution_count": 4,
      "outputs": []
    },
    {
      "cell_type": "code",
      "source": [
        "# Verificando o resultado\n",
        "ponto1"
      ],
      "metadata": {
        "colab": {
          "base_uri": "https://localhost:8080/",
          "height": 121
        },
        "id": "mooT11a7Li_8",
        "outputId": "74c12af5-9273-4375-9df5-4e022a9fcf83"
      },
      "execution_count": 5,
      "outputs": [
        {
          "output_type": "execute_result",
          "data": {
            "text/plain": [
              "<POINT (13.4 -19.3)>"
            ],
            "image/svg+xml": "<svg xmlns=\"http://www.w3.org/2000/svg\" xmlns:xlink=\"http://www.w3.org/1999/xlink\" width=\"100.0\" height=\"100.0\" viewBox=\"12.4 -20.3 2.0 2.0\" preserveAspectRatio=\"xMinYMin meet\"><g transform=\"matrix(1,0,0,-1,0,-38.6)\"><circle cx=\"13.4\" cy=\"-19.3\" r=\"0.06\" stroke=\"#555555\" stroke-width=\"0.02\" fill=\"#66cc99\" opacity=\"0.6\" /></g></svg>"
          },
          "metadata": {},
          "execution_count": 5
        }
      ]
    },
    {
      "cell_type": "code",
      "source": [
        "# Caso eu queira verificar o conteúdo de ponto1 tenho que utilizar o comando print\n",
        "print(ponto1)"
      ],
      "metadata": {
        "colab": {
          "base_uri": "https://localhost:8080/"
        },
        "id": "cFdRnJylLqz5",
        "outputId": "b0280325-00e7-492e-a9a4-a08173021ad8"
      },
      "execution_count": 6,
      "outputs": [
        {
          "output_type": "stream",
          "name": "stdout",
          "text": [
            "POINT (13.4 -19.3)\n"
          ]
        }
      ]
    },
    {
      "cell_type": "code",
      "source": [
        "ponto3D"
      ],
      "metadata": {
        "colab": {
          "base_uri": "https://localhost:8080/",
          "height": 121
        },
        "id": "t-ygUOglL2oy",
        "outputId": "2c026ff5-8205-4fcc-b959-4442a621288a"
      },
      "execution_count": 7,
      "outputs": [
        {
          "output_type": "execute_result",
          "data": {
            "text/plain": [
              "<POINT Z (2.45 8.65 1.2)>"
            ],
            "image/svg+xml": "<svg xmlns=\"http://www.w3.org/2000/svg\" xmlns:xlink=\"http://www.w3.org/1999/xlink\" width=\"100.0\" height=\"100.0\" viewBox=\"1.4500000000000002 7.65 2.0 2.0\" preserveAspectRatio=\"xMinYMin meet\"><g transform=\"matrix(1,0,0,-1,0,17.3)\"><circle cx=\"2.45\" cy=\"8.65\" r=\"0.06\" stroke=\"#555555\" stroke-width=\"0.02\" fill=\"#66cc99\" opacity=\"0.6\" /></g></svg>"
          },
          "metadata": {},
          "execution_count": 7
        }
      ]
    },
    {
      "cell_type": "code",
      "source": [
        "ponto3"
      ],
      "metadata": {
        "colab": {
          "base_uri": "https://localhost:8080/",
          "height": 121
        },
        "id": "pKhoUYE8L-z3",
        "outputId": "2856f7f1-09f9-4068-f50d-e3d09b54bb40"
      },
      "execution_count": 8,
      "outputs": [
        {
          "output_type": "execute_result",
          "data": {
            "text/plain": [
              "<POINT (2.45 8.65)>"
            ],
            "image/svg+xml": "<svg xmlns=\"http://www.w3.org/2000/svg\" xmlns:xlink=\"http://www.w3.org/1999/xlink\" width=\"100.0\" height=\"100.0\" viewBox=\"1.4500000000000002 7.65 2.0 2.0\" preserveAspectRatio=\"xMinYMin meet\"><g transform=\"matrix(1,0,0,-1,0,17.3)\"><circle cx=\"2.45\" cy=\"8.65\" r=\"0.06\" stroke=\"#555555\" stroke-width=\"0.02\" fill=\"#66cc99\" opacity=\"0.6\" /></g></svg>"
          },
          "metadata": {},
          "execution_count": 8
        }
      ]
    },
    {
      "cell_type": "code",
      "source": [
        "# Verificando a diferença entre um ponto comum e o 3D\n",
        "print(ponto3D)"
      ],
      "metadata": {
        "colab": {
          "base_uri": "https://localhost:8080/"
        },
        "id": "1GGi3eqwMFDX",
        "outputId": "3ca71bfe-12c3-4c41-8384-0ebb4dcf3cd3"
      },
      "execution_count": 9,
      "outputs": [
        {
          "output_type": "stream",
          "name": "stdout",
          "text": [
            "POINT Z (2.45 8.65 1.2)\n"
          ]
        }
      ]
    },
    {
      "cell_type": "code",
      "source": [
        "# Calculando a área de um objeto\n",
        "ponto1.area"
      ],
      "metadata": {
        "colab": {
          "base_uri": "https://localhost:8080/"
        },
        "id": "KGkvzgaiMZxn",
        "outputId": "106abb7c-3cb6-4996-f748-d5416641b040"
      },
      "execution_count": 10,
      "outputs": [
        {
          "output_type": "execute_result",
          "data": {
            "text/plain": [
              "0.0"
            ]
          },
          "metadata": {},
          "execution_count": 10
        }
      ]
    },
    {
      "cell_type": "code",
      "source": [
        "# Calculando o comprimento de um objeto\n",
        "ponto1.length"
      ],
      "metadata": {
        "colab": {
          "base_uri": "https://localhost:8080/"
        },
        "id": "bqLugDPvM77Y",
        "outputId": "0645f65d-acf6-4293-8f7f-072740305ee9"
      },
      "execution_count": 11,
      "outputs": [
        {
          "output_type": "execute_result",
          "data": {
            "text/plain": [
              "0.0"
            ]
          },
          "metadata": {},
          "execution_count": 11
        }
      ]
    },
    {
      "cell_type": "markdown",
      "source": [
        "#### Consulte sempre a documentação da biblioteca, no caso de pontos e linhas a área é sempre zero."
      ],
      "metadata": {
        "id": "lhMjxKNUNP0_"
      }
    },
    {
      "cell_type": "code",
      "source": [
        "# Verificando a geometria de um objeto\n",
        "ponto2.geom_type"
      ],
      "metadata": {
        "colab": {
          "base_uri": "https://localhost:8080/",
          "height": 35
        },
        "id": "l77DYxgeP17A",
        "outputId": "46363520-e2aa-410c-a43e-7f373dcd5eb6"
      },
      "execution_count": 14,
      "outputs": [
        {
          "output_type": "execute_result",
          "data": {
            "text/plain": [
              "'Point'"
            ],
            "application/vnd.google.colaboratory.intrinsic+json": {
              "type": "string"
            }
          },
          "metadata": {},
          "execution_count": 14
        }
      ]
    },
    {
      "cell_type": "code",
      "source": [
        "# Exibindo as coordenadas do objeto\n",
        "ponto2.coords[0]\n",
        "# posso utilizar o recurso de slice para obter o resultado no formato tupla\n",
        "# ponto2.coords[:]"
      ],
      "metadata": {
        "colab": {
          "base_uri": "https://localhost:8080/"
        },
        "id": "Y_oYTnPoQTUH",
        "outputId": "56230974-3e62-4fb6-fcef-867a6b5be70a"
      },
      "execution_count": 23,
      "outputs": [
        {
          "output_type": "execute_result",
          "data": {
            "text/plain": [
              "(14.5, -21.4)"
            ]
          },
          "metadata": {},
          "execution_count": 23
        }
      ]
    },
    {
      "cell_type": "code",
      "source": [
        "# Separando as coordenadas\n",
        "x = ponto2.x\n",
        "y = ponto2.y\n",
        "\n",
        "print(x)\n",
        "print(y)"
      ],
      "metadata": {
        "colab": {
          "base_uri": "https://localhost:8080/"
        },
        "id": "v0uXKRIIRdIJ",
        "outputId": "e6957e20-0183-4113-8d55-72636a23e8a9"
      },
      "execution_count": 25,
      "outputs": [
        {
          "output_type": "stream",
          "name": "stdout",
          "text": [
            "14.5\n",
            "-21.4\n"
          ]
        }
      ]
    },
    {
      "cell_type": "code",
      "source": [
        "# Calculando a distância entre dois pontos\n",
        "\n",
        "# Exibindo o resultado de dois pontos\n",
        "print(ponto1)\n",
        "print(ponto2)\n",
        "\n",
        "# Utilizando o método distance\n",
        "distancia = ponto1.distance(ponto2)\n",
        "distancia\n",
        "\n",
        "# Neste exemplo não temos uma unidade de medida."
      ],
      "metadata": {
        "colab": {
          "base_uri": "https://localhost:8080/"
        },
        "id": "_fp4FIAYR3Ei",
        "outputId": "34d8ccb6-0ead-485c-e94b-e8c46c455975"
      },
      "execution_count": 26,
      "outputs": [
        {
          "output_type": "stream",
          "name": "stdout",
          "text": [
            "POINT (13.4 -19.3)\n",
            "POINT (14.5 -21.4)\n"
          ]
        },
        {
          "output_type": "execute_result",
          "data": {
            "text/plain": [
              "2.3706539182259374"
            ]
          },
          "metadata": {},
          "execution_count": 26
        }
      ]
    },
    {
      "cell_type": "code",
      "source": [
        "# Vamos utilizar o format do Python para deixar o resultado mais legal.\n",
        "print(f'A distância entre os dois pontos é {distancia:.2f}') # Se não utilizar o '.' ele retorna o arredondamento default, 5 casas decimais"
      ],
      "metadata": {
        "colab": {
          "base_uri": "https://localhost:8080/"
        },
        "id": "sARNK0HjTOQI",
        "outputId": "ae036b82-cd7f-467f-a30f-217f7174ea57"
      },
      "execution_count": 37,
      "outputs": [
        {
          "output_type": "stream",
          "name": "stdout",
          "text": [
            "A distância entre os dois pontos é 2.37\n"
          ]
        }
      ]
    },
    {
      "cell_type": "markdown",
      "source": [
        "\n",
        "\n",
        "> **LineString (Linha)**\n",
        "\n"
      ],
      "metadata": {
        "id": "SqyCaV8CVYjo"
      }
    },
    {
      "cell_type": "code",
      "source": [
        "# Passando parâmetros para a minha função de linha\n",
        "linha1 = LineString([ponto1, ponto2, ponto3])\n",
        "\n",
        "# Mostrando o resultado\n",
        "linha1\n"
      ],
      "metadata": {
        "colab": {
          "base_uri": "https://localhost:8080/",
          "height": 121
        },
        "id": "8dKBnnzAVfGJ",
        "outputId": "15902504-765b-44b6-843a-54d7eececaea"
      },
      "execution_count": 38,
      "outputs": [
        {
          "output_type": "execute_result",
          "data": {
            "text/plain": [
              "<LINESTRING (13.4 -19.3, 14.5 -21.4, 2.45 8.65)>"
            ],
            "image/svg+xml": "<svg xmlns=\"http://www.w3.org/2000/svg\" xmlns:xlink=\"http://www.w3.org/1999/xlink\" width=\"100.0\" height=\"100.0\" viewBox=\"1.2480000000000002 -22.601999999999997 14.454 32.45399999999999\" preserveAspectRatio=\"xMinYMin meet\"><g transform=\"matrix(1,0,0,-1,0,-12.749999999999996)\"><polyline fill=\"none\" stroke=\"#66cc99\" stroke-width=\"0.6490799999999999\" points=\"13.4,-19.3 14.5,-21.4 2.45,8.65\" opacity=\"0.8\" /></g></svg>"
          },
          "metadata": {},
          "execution_count": 38
        }
      ]
    },
    {
      "cell_type": "code",
      "source": [
        "# Utilizando recurso de comparação\n",
        "linha2 = LineString([(13.4, -19.3),(14.5, -21.4),(2.45, 8.65)])\n",
        "# Mostrando o resultado\n",
        "linha2"
      ],
      "metadata": {
        "colab": {
          "base_uri": "https://localhost:8080/",
          "height": 121
        },
        "id": "oYE7RHNPV7aH",
        "outputId": "d16387f8-5f63-49e8-e6b2-ed5d03796e40"
      },
      "execution_count": 44,
      "outputs": [
        {
          "output_type": "execute_result",
          "data": {
            "text/plain": [
              "<LINESTRING (13.4 -19.3, 14.5 -21.4, 2.45 8.65)>"
            ],
            "image/svg+xml": "<svg xmlns=\"http://www.w3.org/2000/svg\" xmlns:xlink=\"http://www.w3.org/1999/xlink\" width=\"100.0\" height=\"100.0\" viewBox=\"1.2480000000000002 -22.601999999999997 14.454 32.45399999999999\" preserveAspectRatio=\"xMinYMin meet\"><g transform=\"matrix(1,0,0,-1,0,-12.749999999999996)\"><polyline fill=\"none\" stroke=\"#66cc99\" stroke-width=\"0.6490799999999999\" points=\"13.4,-19.3 14.5,-21.4 2.45,8.65\" opacity=\"0.8\" /></g></svg>"
          },
          "metadata": {},
          "execution_count": 44
        }
      ]
    },
    {
      "cell_type": "code",
      "source": [
        "# São idênticas?\n",
        "linha1 == linha2"
      ],
      "metadata": {
        "colab": {
          "base_uri": "https://localhost:8080/"
        },
        "id": "6HB2kISDWo8f",
        "outputId": "61337827-a582-48f9-a9d7-de6d8ff93555"
      },
      "execution_count": 45,
      "outputs": [
        {
          "output_type": "execute_result",
          "data": {
            "text/plain": [
              "True"
            ]
          },
          "metadata": {},
          "execution_count": 45
        }
      ]
    },
    {
      "cell_type": "code",
      "source": [
        "# Identificando as variáveis\n",
        "print(linha1)\n",
        "print(linha2)"
      ],
      "metadata": {
        "colab": {
          "base_uri": "https://localhost:8080/"
        },
        "id": "ioqTi0wAXMW2",
        "outputId": "20ca80f7-5ee0-4498-f6c5-8834e3170271"
      },
      "execution_count": 46,
      "outputs": [
        {
          "output_type": "stream",
          "name": "stdout",
          "text": [
            "LINESTRING (13.4 -19.3, 14.5 -21.4, 2.45 8.65)\n",
            "LINESTRING (13.4 -19.3, 14.5 -21.4, 2.45 8.65)\n"
          ]
        }
      ]
    },
    {
      "cell_type": "code",
      "source": [
        "# Se eu desejar saber apenas o tipo de geometria?\n",
        "linha1.geom_type"
      ],
      "metadata": {
        "colab": {
          "base_uri": "https://localhost:8080/",
          "height": 35
        },
        "id": "qbGfm1-9XWUy",
        "outputId": "b09a9d64-81de-4127-a713-368d4640f5f3"
      },
      "execution_count": 47,
      "outputs": [
        {
          "output_type": "execute_result",
          "data": {
            "text/plain": [
              "'LineString'"
            ],
            "application/vnd.google.colaboratory.intrinsic+json": {
              "type": "string"
            }
          },
          "metadata": {},
          "execution_count": 47
        }
      ]
    },
    {
      "cell_type": "code",
      "source": [
        "# Qual biblioteca (objeto, classe e função) e geometria?\n",
        "type(linha1)"
      ],
      "metadata": {
        "colab": {
          "base_uri": "https://localhost:8080/"
        },
        "id": "n3yujGERXnlE",
        "outputId": "9f50a00c-848d-4fbe-d110-0cd7dbf15cfc"
      },
      "execution_count": 48,
      "outputs": [
        {
          "output_type": "execute_result",
          "data": {
            "text/plain": [
              "shapely.geometry.linestring.LineString"
            ]
          },
          "metadata": {},
          "execution_count": 48
        }
      ]
    },
    {
      "cell_type": "code",
      "source": [
        "# Agora o slice fica mais claro do que o exemplo anterior\n",
        "linha1.coords[:]"
      ],
      "metadata": {
        "colab": {
          "base_uri": "https://localhost:8080/"
        },
        "id": "ZPn85DypX60J",
        "outputId": "2ecccd1a-45a7-4897-e6f3-7fc7aeb86ee5"
      },
      "execution_count": 52,
      "outputs": [
        {
          "output_type": "execute_result",
          "data": {
            "text/plain": [
              "[(13.4, -19.3), (14.5, -21.4), (2.45, 8.65)]"
            ]
          },
          "metadata": {},
          "execution_count": 52
        }
      ]
    },
    {
      "cell_type": "code",
      "source": [
        "linha1.coords[1:]"
      ],
      "metadata": {
        "colab": {
          "base_uri": "https://localhost:8080/"
        },
        "id": "vAVgw7Y-Yv5d",
        "outputId": "934daed1-6d20-47f3-d708-fb46ce293463"
      },
      "execution_count": 53,
      "outputs": [
        {
          "output_type": "execute_result",
          "data": {
            "text/plain": [
              "[(14.5, -21.4), (2.45, 8.65)]"
            ]
          },
          "metadata": {},
          "execution_count": 53
        }
      ]
    },
    {
      "cell_type": "code",
      "source": [
        "# Extraindo as coordenadas x e y\n",
        "coord_x = linha1.xy[0]\n",
        "coord_y = list(linha1.xy[1])\n",
        "\n",
        "# Mostrando o resultado\n",
        "print('Coordenadas x do objeto linha1: ',coord_x)\n",
        "print('Coordenadas y do objeto linha1: ',coord_y)\n"
      ],
      "metadata": {
        "colab": {
          "base_uri": "https://localhost:8080/"
        },
        "id": "op621iruZayc",
        "outputId": "fda88581-c94a-44d7-dd91-d69f83d831b8"
      },
      "execution_count": 79,
      "outputs": [
        {
          "output_type": "stream",
          "name": "stdout",
          "text": [
            "Coordenadas x do objeto linha1:  array('d', [13.4, 14.5, 2.45])\n",
            "Coordenadas y do objeto linha1:  [-19.3, -21.4, 8.65]\n"
          ]
        }
      ]
    },
    {
      "cell_type": "markdown",
      "source": [
        "> As coordenadas dos mesmos tipos de objetos geométricos podem ser obtidas como matrizes Python padrão de valores x e y por meio do xy atributo."
      ],
      "metadata": {
        "id": "WM7Li3ArdUts"
      }
    },
    {
      "cell_type": "code",
      "source": [
        "# Utilizando xy atributo\n",
        "coord_x_y = linha1.xy\n",
        "print(coord_x_y)"
      ],
      "metadata": {
        "colab": {
          "base_uri": "https://localhost:8080/"
        },
        "id": "M4raZ67ydizN",
        "outputId": "c28866bd-1bb6-47f3-9b09-ffa99a2d3089"
      },
      "execution_count": 67,
      "outputs": [
        {
          "output_type": "stream",
          "name": "stdout",
          "text": [
            "(array('d', [13.4, 14.5, 2.45]), array('d', [-19.3, -21.4, 8.65]))\n"
          ]
        }
      ]
    },
    {
      "cell_type": "code",
      "source": [
        "# Verificando o tipo\n",
        "type(coord_x_y)\n"
      ],
      "metadata": {
        "colab": {
          "base_uri": "https://localhost:8080/"
        },
        "id": "8osV2c4ZbphP",
        "outputId": "d6baa7e9-0ca8-4c1f-c2bd-b51d442b0d03"
      },
      "execution_count": 62,
      "outputs": [
        {
          "output_type": "execute_result",
          "data": {
            "text/plain": [
              "tuple"
            ]
          },
          "metadata": {},
          "execution_count": 62
        }
      ]
    },
    {
      "cell_type": "code",
      "source": [
        "# Verificando o tipo x\n",
        "type(coord_x)\n"
      ],
      "metadata": {
        "colab": {
          "base_uri": "https://localhost:8080/"
        },
        "id": "MZyOoSoXcj6N",
        "outputId": "4a3e044c-de74-4984-a109-73258992f53a"
      },
      "execution_count": 80,
      "outputs": [
        {
          "output_type": "execute_result",
          "data": {
            "text/plain": [
              "array.array"
            ]
          },
          "metadata": {},
          "execution_count": 80
        }
      ]
    },
    {
      "cell_type": "code",
      "source": [
        "# Verificando o tipo x\n",
        "type(coord_y)\n"
      ],
      "metadata": {
        "colab": {
          "base_uri": "https://localhost:8080/"
        },
        "id": "Ib3mv5GJgQxU",
        "outputId": "a8317093-4933-47fa-d036-40a75ee054f1"
      },
      "execution_count": 81,
      "outputs": [
        {
          "output_type": "execute_result",
          "data": {
            "text/plain": [
              "list"
            ]
          },
          "metadata": {},
          "execution_count": 81
        }
      ]
    },
    {
      "cell_type": "code",
      "source": [
        "# Verificando o comprimento da linha\n",
        "linha_comp = linha1.length\n",
        "\n",
        "# Imprimindo o resultado\n",
        "print(linha_comp)"
      ],
      "metadata": {
        "colab": {
          "base_uri": "https://localhost:8080/"
        },
        "id": "YNHCwzJdgjmy",
        "outputId": "55ed0da8-17be-4a10-c4f7-bc9cb9bce615"
      },
      "execution_count": 82,
      "outputs": [
        {
          "output_type": "stream",
          "name": "stdout",
          "text": [
            "34.746648111454974\n"
          ]
        }
      ]
    },
    {
      "cell_type": "code",
      "source": [
        "# Centróide da linha\n",
        "print(linha1.centroid)"
      ],
      "metadata": {
        "colab": {
          "base_uri": "https://localhost:8080/"
        },
        "id": "0YK21pIJhCML",
        "outputId": "f55236be-af22-402e-e3ed-cdaa3d035373"
      },
      "execution_count": 84,
      "outputs": [
        {
          "output_type": "stream",
          "name": "stdout",
          "text": [
            "POINT (8.848541935920089 -7.328470055613377)\n"
          ]
        }
      ]
    },
    {
      "cell_type": "markdown",
      "source": [
        "\n",
        "\n",
        "> **Polygon (Polígono)**\n",
        "\n"
      ],
      "metadata": {
        "id": "gY_JLS9YhlZB"
      }
    },
    {
      "cell_type": "code",
      "source": [
        "# Criando um objeto do tipo Poligono\n",
        "poligono = Polygon([(13.4, -19.3),(14.5, -21.4),(2.45, 8.65)])"
      ],
      "metadata": {
        "id": "NylH8GKVhso6"
      },
      "execution_count": 85,
      "outputs": []
    },
    {
      "cell_type": "code",
      "source": [
        "# Exibindo o objeto\n",
        "poligono"
      ],
      "metadata": {
        "colab": {
          "base_uri": "https://localhost:8080/",
          "height": 121
        },
        "id": "35aZ8KD1kb7i",
        "outputId": "7f385e9a-b0cb-496f-8ea8-9f1ae59aa4a2"
      },
      "execution_count": 86,
      "outputs": [
        {
          "output_type": "execute_result",
          "data": {
            "text/plain": [
              "<POLYGON ((13.4 -19.3, 14.5 -21.4, 2.45 8.65, 13.4 -19.3))>"
            ],
            "image/svg+xml": "<svg xmlns=\"http://www.w3.org/2000/svg\" xmlns:xlink=\"http://www.w3.org/1999/xlink\" width=\"100.0\" height=\"100.0\" viewBox=\"1.2480000000000002 -22.601999999999997 14.454 32.45399999999999\" preserveAspectRatio=\"xMinYMin meet\"><g transform=\"matrix(1,0,0,-1,0,-12.749999999999996)\"><path fill-rule=\"evenodd\" fill=\"#66cc99\" stroke=\"#555555\" stroke-width=\"0.6490799999999999\" opacity=\"0.6\" d=\"M 13.4,-19.3 L 14.5,-21.4 L 2.45,8.65 L 13.4,-19.3 z\" /></g></svg>"
          },
          "metadata": {},
          "execution_count": 86
        }
      ]
    },
    {
      "cell_type": "code",
      "source": [
        "type(poligono)"
      ],
      "metadata": {
        "colab": {
          "base_uri": "https://localhost:8080/"
        },
        "id": "fE5zwspzkYSU",
        "outputId": "ea14a404-ceb7-499d-d671-45283bb9956d"
      },
      "execution_count": 87,
      "outputs": [
        {
          "output_type": "execute_result",
          "data": {
            "text/plain": [
              "shapely.geometry.polygon.Polygon"
            ]
          },
          "metadata": {},
          "execution_count": 87
        }
      ]
    },
    {
      "cell_type": "markdown",
      "source": [
        "![triangulo.png](data:image/png;base64,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)"
      ],
      "metadata": {
        "id": "tRJrjo6GlQ_J"
      }
    },
    {
      "cell_type": "code",
      "source": [
        "# Criando um poligono triangulo\n",
        "triangulo = Polygon([(1,2),(4,2), (4,3) ])\n",
        "\n",
        "triangulo"
      ],
      "metadata": {
        "colab": {
          "base_uri": "https://localhost:8080/",
          "height": 121
        },
        "id": "koMFlkRdlZPy",
        "outputId": "d4b44537-2a4e-4757-82aa-6d9dfe9d22d6"
      },
      "execution_count": 90,
      "outputs": [
        {
          "output_type": "execute_result",
          "data": {
            "text/plain": [
              "<POLYGON ((1 2, 4 2, 4 3, 1 2))>"
            ],
            "image/svg+xml": "<svg xmlns=\"http://www.w3.org/2000/svg\" xmlns:xlink=\"http://www.w3.org/1999/xlink\" width=\"100.0\" height=\"100.0\" viewBox=\"0.88 1.88 3.24 1.2400000000000002\" preserveAspectRatio=\"xMinYMin meet\"><g transform=\"matrix(1,0,0,-1,0,5.0)\"><path fill-rule=\"evenodd\" fill=\"#66cc99\" stroke=\"#555555\" stroke-width=\"0.06480000000000001\" opacity=\"0.6\" d=\"M 1.0,2.0 L 4.0,2.0 L 4.0,3.0 L 1.0,2.0 z\" /></g></svg>"
          },
          "metadata": {},
          "execution_count": 90
        }
      ]
    },
    {
      "cell_type": "code",
      "source": [
        "print(triangulo)"
      ],
      "metadata": {
        "colab": {
          "base_uri": "https://localhost:8080/"
        },
        "id": "AKFb_inYm5Zq",
        "outputId": "38bf8d93-f3cd-4ac8-cb5f-edd348b4c383"
      },
      "execution_count": 91,
      "outputs": [
        {
          "output_type": "stream",
          "name": "stdout",
          "text": [
            "POLYGON ((1 2, 4 2, 4 3, 1 2))\n"
          ]
        }
      ]
    },
    {
      "cell_type": "code",
      "source": [
        "triangulo.geom_type"
      ],
      "metadata": {
        "colab": {
          "base_uri": "https://localhost:8080/",
          "height": 35
        },
        "id": "RkUq9TsAm-fC",
        "outputId": "63dc02e2-0307-4155-f65c-b7983196e9cd"
      },
      "execution_count": 92,
      "outputs": [
        {
          "output_type": "execute_result",
          "data": {
            "text/plain": [
              "'Polygon'"
            ],
            "application/vnd.google.colaboratory.intrinsic+json": {
              "type": "string"
            }
          },
          "metadata": {},
          "execution_count": 92
        }
      ]
    },
    {
      "cell_type": "code",
      "source": [
        "print('O centróide do triângulo é: ', triangulo.centroid)\n",
        "print('A àrea do triângulo é: ', triangulo.area)\n",
        "print('Os limites do triângulo são: ', triangulo.bounds)"
      ],
      "metadata": {
        "colab": {
          "base_uri": "https://localhost:8080/"
        },
        "id": "SVWCd5WSnDJo",
        "outputId": "0d0e2860-add1-4c70-c3b3-62574778be2b"
      },
      "execution_count": 105,
      "outputs": [
        {
          "output_type": "stream",
          "name": "stdout",
          "text": [
            "O centróide do triângulo é:  POINT (3 2.3333333333333335)\n",
            "A àrea do triângulo é:  1.5\n",
            "Os limites do triângulo são:  (1.0, 2.0, 4.0, 3.0)\n"
          ]
        }
      ]
    },
    {
      "cell_type": "markdown",
      "source": [
        "**Exercícios**"
      ],
      "metadata": {
        "id": "KbAlHSwru-bA"
      }
    }
  ]
}
