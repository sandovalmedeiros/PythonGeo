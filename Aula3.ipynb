{
  "nbformat": 4,
  "nbformat_minor": 0,
  "metadata": {
    "colab": {
      "provenance": [],
      "toc_visible": true,
      "authorship_tag": "ABX9TyMeYfW2t+7QODvRDV7m0Iqd",
      "include_colab_link": true
    },
    "kernelspec": {
      "name": "python3",
      "display_name": "Python 3"
    },
    "language_info": {
      "name": "python"
    }
  },
  "cells": [
    {
      "cell_type": "markdown",
      "metadata": {
        "id": "view-in-github",
        "colab_type": "text"
      },
      "source": [
        "<a href=\"https://colab.research.google.com/github/sandovalmedeiros/PythonGeo/blob/main/Aula3.ipynb\" target=\"_parent\"><img src=\"https://colab.research.google.com/assets/colab-badge.svg\" alt=\"Open In Colab\"/></a>"
      ]
    },
    {
      "cell_type": "markdown",
      "source": [
        "# Estrutura de Dados"
      ],
      "metadata": {
        "id": "zyURaD91wGdk"
      }
    },
    {
      "cell_type": "markdown",
      "source": [
        "\n",
        "\n",
        "> **Conjuntos:**\n",
        "\n"
      ],
      "metadata": {
        "id": "DBNJ4tlEwSLT"
      }
    },
    {
      "cell_type": "code",
      "source": [
        "# Criando uma estrutura de dados\n",
        "salada = set([\"maça\", \"banana\", \"mamão\", \"abacaxi\"])\n",
        "\n",
        "# Mostra o conteúdo do conjunto salada\n",
        "print(salada)\n"
      ],
      "metadata": {
        "colab": {
          "base_uri": "https://localhost:8080/"
        },
        "id": "v4r-pl1JwZuT",
        "outputId": "5a9f9191-1afe-4109-c8f4-1fd1576de345"
      },
      "execution_count": 6,
      "outputs": [
        {
          "output_type": "stream",
          "name": "stdout",
          "text": [
            "{'maça', 'abacaxi', 'banana', 'mamão'}\n"
          ]
        }
      ]
    },
    {
      "cell_type": "code",
      "source": [],
      "metadata": {
        "id": "3WZqoTBsxymN"
      },
      "execution_count": null,
      "outputs": []
    },
    {
      "cell_type": "code",
      "source": [
        "# Adicionando mais uma fruta na salada\n",
        "salada.add(\"uva\")\n",
        "\n",
        "# Mostra o novo conteúdo do conjunto salada\n",
        "print(salada)"
      ],
      "metadata": {
        "colab": {
          "base_uri": "https://localhost:8080/"
        },
        "outputId": "2e95fe54-4849-4faa-9a8e-612069261120",
        "id": "2KFOjPwix025"
      },
      "execution_count": 7,
      "outputs": [
        {
          "output_type": "stream",
          "name": "stdout",
          "text": [
            "{'banana', 'maça', 'abacaxi', 'mamão', 'uva'}\n"
          ]
        }
      ]
    },
    {
      "cell_type": "code",
      "source": [
        "# Removendo uma fruta da salada\n",
        "salada.remove(\"abacaxi\")\n",
        "# Mostra o novo conteúdo do conjunto salada\n",
        "print(salada)"
      ],
      "metadata": {
        "colab": {
          "base_uri": "https://localhost:8080/"
        },
        "id": "mDlZhMdSyAm7",
        "outputId": "2265a9cf-ea45-4a93-a2dd-bc92ebcdd257"
      },
      "execution_count": 8,
      "outputs": [
        {
          "output_type": "stream",
          "name": "stdout",
          "text": [
            "{'banana', 'maça', 'mamão', 'uva'}\n"
          ]
        }
      ]
    },
    {
      "cell_type": "markdown",
      "source": [
        "\n",
        "\n",
        "> **Listas:**\n",
        "\n"
      ],
      "metadata": {
        "id": "n7EKy_Ssycz8"
      }
    },
    {
      "cell_type": "code",
      "source": [
        "# Criando uma Lista\n",
        "lista = [1,2,3,4,5,6,7]\n",
        "# Imprimindo uma lista\n",
        "print(lista)\n",
        "\n",
        "# Acessando um elemento da lista\n",
        "print(\"O elemento do índice 1 da minha lista é o número: \" + str(lista[1]))"
      ],
      "metadata": {
        "colab": {
          "base_uri": "https://localhost:8080/"
        },
        "id": "5_GIgIdqyhAV",
        "outputId": "2ba26a8e-e9c1-4a0a-8a73-1fccddf6c069"
      },
      "execution_count": 17,
      "outputs": [
        {
          "output_type": "stream",
          "name": "stdout",
          "text": [
            "[1, 2, 3, 4, 5, 6, 7]\n",
            "O elemento do índice 1 da minha lista é o número: 2\n"
          ]
        }
      ]
    },
    {
      "cell_type": "code",
      "source": [
        "# Modificando um elemento da minha lista\n",
        "lista[1]=9\n",
        "# Verificando o resultado\n",
        "print(lista)"
      ],
      "metadata": {
        "colab": {
          "base_uri": "https://localhost:8080/"
        },
        "id": "SVAoOvQ200yb",
        "outputId": "e007c538-4ce3-4ee2-9dc5-9f2aac17fd45"
      },
      "execution_count": 18,
      "outputs": [
        {
          "output_type": "stream",
          "name": "stdout",
          "text": [
            "[1, 9, 3, 4, 5, 6, 7]\n"
          ]
        }
      ]
    },
    {
      "cell_type": "code",
      "source": [
        "# Adicionando um novo elemento a minha lista\n",
        "lista.append(100)\n",
        "# Dando uma olhada\n",
        "print(lista)"
      ],
      "metadata": {
        "colab": {
          "base_uri": "https://localhost:8080/"
        },
        "id": "ajeK6P_g1K47",
        "outputId": "10442a19-89b7-41ba-8b61-21a41c23c590"
      },
      "execution_count": 33,
      "outputs": [
        {
          "output_type": "stream",
          "name": "stdout",
          "text": [
            "[1, 9, 3, 4, 5, 6, 7, 100, 100]\n"
          ]
        }
      ]
    },
    {
      "cell_type": "code",
      "source": [
        "# Removendo elementos de uma lista\n",
        "lista.remove(100)\n",
        "print(lista)"
      ],
      "metadata": {
        "colab": {
          "base_uri": "https://localhost:8080/"
        },
        "id": "PcNa9qf32Auq",
        "outputId": "012f30bb-8ed5-4fa4-de21-c06fd5783871"
      },
      "execution_count": 31,
      "outputs": [
        {
          "output_type": "stream",
          "name": "stdout",
          "text": [
            "[1, 9, 3, 4, 5, 6, 7]\n"
          ]
        }
      ]
    },
    {
      "cell_type": "markdown",
      "source": [
        "\n",
        "\n",
        "> Dicionário:\n",
        "\n"
      ],
      "metadata": {
        "id": "_u3fwbVu2470"
      }
    },
    {
      "cell_type": "code",
      "source": [
        "# Criando um Dicionário\n",
        "alunos = {\"nome1\": \"João\", \"idade1\": 25, \"nome2\": \"Armando\", \"idade2\": 39}\n",
        "# Imprimindo o dicionário\n",
        "print(alunos)"
      ],
      "metadata": {
        "colab": {
          "base_uri": "https://localhost:8080/"
        },
        "id": "kjQU2FHG294L",
        "outputId": "ef70e4fe-08ae-49aa-acb6-c2451bf6a3c8"
      },
      "execution_count": 36,
      "outputs": [
        {
          "output_type": "stream",
          "name": "stdout",
          "text": [
            "{'nome1': 'João', 'idade1': 25, 'nome2': 'Armando', 'idade2': 39}\n"
          ]
        }
      ]
    },
    {
      "cell_type": "code",
      "source": [
        "# Acessando elemento de um dicionário\n",
        "print(alunos[\"nome2\"])"
      ],
      "metadata": {
        "colab": {
          "base_uri": "https://localhost:8080/"
        },
        "id": "mHMUZQx34nLi",
        "outputId": "8fd80c46-1e80-4ee3-8e86-a74318ceaadb"
      },
      "execution_count": 38,
      "outputs": [
        {
          "output_type": "stream",
          "name": "stdout",
          "text": [
            "Armando\n"
          ]
        }
      ]
    },
    {
      "cell_type": "code",
      "source": [
        "# Modificando um elemento\n",
        "alunos[\"nome1\"] = \"João de Deus\"\n",
        "# Verificando\n",
        "print(alunos)"
      ],
      "metadata": {
        "colab": {
          "base_uri": "https://localhost:8080/"
        },
        "id": "-rUb1U6f5FwQ",
        "outputId": "34a24a77-f683-4ff0-8673-823a8be85930"
      },
      "execution_count": 40,
      "outputs": [
        {
          "output_type": "stream",
          "name": "stdout",
          "text": [
            "{'nome1': 'João de Deus', 'idade1': 25, 'nome2': 'Armando', 'idade2': 39}\n"
          ]
        }
      ]
    },
    {
      "cell_type": "code",
      "source": [
        "# Adicionando um elemento ao dicionário\n",
        "alunos[\"matricula1\"] = 12345\n",
        "print(alunos)"
      ],
      "metadata": {
        "colab": {
          "base_uri": "https://localhost:8080/"
        },
        "id": "G-aA-wmW5h6L",
        "outputId": "9e7d94cb-7e68-4609-b220-512cfdd3b615"
      },
      "execution_count": 41,
      "outputs": [
        {
          "output_type": "stream",
          "name": "stdout",
          "text": [
            "{'nome1': 'João de Deus', 'idade1': 25, 'nome2': 'Armando', 'idade2': 39, 'matricula1': 12345}\n"
          ]
        }
      ]
    },
    {
      "cell_type": "code",
      "source": [
        "# Removendo elemento de um dicionário\n",
        "del alunos[\"matricula1\"]\n",
        "print(alunos)"
      ],
      "metadata": {
        "colab": {
          "base_uri": "https://localhost:8080/"
        },
        "id": "tksSOCWd6ZFl",
        "outputId": "5fde50cb-f99e-4e7a-cdff-9b03b68d3119"
      },
      "execution_count": 42,
      "outputs": [
        {
          "output_type": "stream",
          "name": "stdout",
          "text": [
            "{'nome1': 'João de Deus', 'idade1': 25, 'nome2': 'Armando', 'idade2': 39}\n"
          ]
        }
      ]
    },
    {
      "cell_type": "markdown",
      "source": [
        "# Manipulação de Arquivos - como ler, escrever e manipular arquivos no Python"
      ],
      "metadata": {
        "id": "U-Am6KEB67b6"
      }
    },
    {
      "cell_type": "markdown",
      "source": [
        "\n",
        "\n",
        "> Leitura de Arquivos\n",
        "\n"
      ],
      "metadata": {
        "id": "oDiGwqmo7AJr"
      }
    },
    {
      "cell_type": "code",
      "source": [
        "# Abrindo um arquivo no modo leitura\n",
        "arquivo = open(\"geo.txt\", \"r\")\n",
        "\n",
        "# Lendo o conteúdo do arquivo\n",
        "conteudo = arquivo.read()\n",
        "# verificando o conteúdo\n",
        "print(conteudo)\n",
        "\n",
        "# Fechando o arquivo que foi aberto\n",
        "arquivo.close()\n",
        "\n",
        "\n"
      ],
      "metadata": {
        "colab": {
          "base_uri": "https://localhost:8080/",
          "height": 235
        },
        "id": "8N4hrmOe7aNX",
        "outputId": "605997e3-4dc8-4dfc-ab09-d278a2c569ac"
      },
      "execution_count": 51,
      "outputs": [
        {
          "output_type": "error",
          "ename": "FileNotFoundError",
          "evalue": "ignored",
          "traceback": [
            "\u001b[0;31m---------------------------------------------------------------------------\u001b[0m",
            "\u001b[0;31mFileNotFoundError\u001b[0m                         Traceback (most recent call last)",
            "\u001b[0;32m<ipython-input-51-98b4debc3c49>\u001b[0m in \u001b[0;36m<module>\u001b[0;34m\u001b[0m\n\u001b[1;32m      1\u001b[0m \u001b[0;31m# Abrindo um arquivo no modo leitura\u001b[0m\u001b[0;34m\u001b[0m\u001b[0;34m\u001b[0m\u001b[0;34m\u001b[0m\u001b[0m\n\u001b[0;32m----> 2\u001b[0;31m \u001b[0marquivo\u001b[0m \u001b[0;34m=\u001b[0m \u001b[0mopen\u001b[0m\u001b[0;34m(\u001b[0m\u001b[0;34m\"geo.txt\"\u001b[0m\u001b[0;34m,\u001b[0m \u001b[0;34m\"r\"\u001b[0m\u001b[0;34m)\u001b[0m\u001b[0;34m\u001b[0m\u001b[0;34m\u001b[0m\u001b[0m\n\u001b[0m\u001b[1;32m      3\u001b[0m \u001b[0;34m\u001b[0m\u001b[0m\n\u001b[1;32m      4\u001b[0m \u001b[0;31m# Lendo o conteúdo do arquivo\u001b[0m\u001b[0;34m\u001b[0m\u001b[0;34m\u001b[0m\u001b[0;34m\u001b[0m\u001b[0m\n\u001b[1;32m      5\u001b[0m \u001b[0mconteudo\u001b[0m \u001b[0;34m=\u001b[0m \u001b[0marquivo\u001b[0m\u001b[0;34m.\u001b[0m\u001b[0mread\u001b[0m\u001b[0;34m(\u001b[0m\u001b[0;34m)\u001b[0m\u001b[0;34m\u001b[0m\u001b[0;34m\u001b[0m\u001b[0m\n",
            "\u001b[0;31mFileNotFoundError\u001b[0m: [Errno 2] No such file or directory: 'geo.txt'"
          ]
        }
      ]
    }
  ]
}