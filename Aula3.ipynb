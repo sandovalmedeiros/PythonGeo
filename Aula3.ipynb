{
  "nbformat": 4,
  "nbformat_minor": 0,
  "metadata": {
    "colab": {
      "provenance": [],
      "authorship_tag": "ABX9TyOalbhJLPCBO91NO5YCq0lt",
      "include_colab_link": true
    },
    "kernelspec": {
      "name": "python3",
      "display_name": "Python 3"
    },
    "language_info": {
      "name": "python"
    }
  },
  "cells": [
    {
      "cell_type": "markdown",
      "metadata": {
        "id": "view-in-github",
        "colab_type": "text"
      },
      "source": [
        "<a href=\"https://colab.research.google.com/github/sandovalmedeiros/PythonGeo/blob/main/Aula3.ipynb\" target=\"_parent\"><img src=\"https://colab.research.google.com/assets/colab-badge.svg\" alt=\"Open In Colab\"/></a>"
      ]
    },
    {
      "cell_type": "markdown",
      "source": [
        "# Estrutura de Dados"
      ],
      "metadata": {
        "id": "zyURaD91wGdk"
      }
    },
    {
      "cell_type": "markdown",
      "source": [
        "\n",
        "\n",
        "> **Conjuntos:**\n",
        "\n"
      ],
      "metadata": {
        "id": "DBNJ4tlEwSLT"
      }
    },
    {
      "cell_type": "code",
      "source": [
        "# Criando uma estrutura de dados\n",
        "salada = set([\"maça\", \"banana\", \"mamão\", \"abacaxi\"])\n",
        "\n",
        "# Mostra o conteúdo do conjunto salada\n",
        "print(salada)\n"
      ],
      "metadata": {
        "colab": {
          "base_uri": "https://localhost:8080/"
        },
        "id": "v4r-pl1JwZuT",
        "outputId": "5a9f9191-1afe-4109-c8f4-1fd1576de345"
      },
      "execution_count": null,
      "outputs": [
        {
          "output_type": "stream",
          "name": "stdout",
          "text": [
            "{'maça', 'abacaxi', 'banana', 'mamão'}\n"
          ]
        }
      ]
    },
    {
      "cell_type": "code",
      "source": [],
      "metadata": {
        "id": "3WZqoTBsxymN"
      },
      "execution_count": null,
      "outputs": []
    },
    {
      "cell_type": "code",
      "source": [
        "# Adicionando mais uma fruta na salada\n",
        "salada.add(\"uva\")\n",
        "\n",
        "# Mostra o novo conteúdo do conjunto salada\n",
        "print(salada)"
      ],
      "metadata": {
        "colab": {
          "base_uri": "https://localhost:8080/"
        },
        "outputId": "2e95fe54-4849-4faa-9a8e-612069261120",
        "id": "2KFOjPwix025"
      },
      "execution_count": null,
      "outputs": [
        {
          "output_type": "stream",
          "name": "stdout",
          "text": [
            "{'banana', 'maça', 'abacaxi', 'mamão', 'uva'}\n"
          ]
        }
      ]
    },
    {
      "cell_type": "code",
      "source": [
        "# Removendo uma fruta da salada\n",
        "salada.remove(\"abacaxi\")\n",
        "# Mostra o novo conteúdo do conjunto salada\n",
        "print(salada)"
      ],
      "metadata": {
        "colab": {
          "base_uri": "https://localhost:8080/"
        },
        "id": "mDlZhMdSyAm7",
        "outputId": "2265a9cf-ea45-4a93-a2dd-bc92ebcdd257"
      },
      "execution_count": null,
      "outputs": [
        {
          "output_type": "stream",
          "name": "stdout",
          "text": [
            "{'banana', 'maça', 'mamão', 'uva'}\n"
          ]
        }
      ]
    },
    {
      "cell_type": "markdown",
      "source": [
        "\n",
        "\n",
        "> **Listas:**\n",
        "\n"
      ],
      "metadata": {
        "id": "n7EKy_Ssycz8"
      }
    },
    {
      "cell_type": "code",
      "source": [
        "# Criando uma Lista\n",
        "lista = [1,2,3,4,5,6,7]\n",
        "# Imprimindo uma lista\n",
        "print(lista)\n",
        "\n",
        "# Acessando um elemento da lista\n",
        "print(\"O elemento do índice 1 da minha lista é o número: \" + str(lista[1]))"
      ],
      "metadata": {
        "colab": {
          "base_uri": "https://localhost:8080/"
        },
        "id": "5_GIgIdqyhAV",
        "outputId": "2ba26a8e-e9c1-4a0a-8a73-1fccddf6c069"
      },
      "execution_count": null,
      "outputs": [
        {
          "output_type": "stream",
          "name": "stdout",
          "text": [
            "[1, 2, 3, 4, 5, 6, 7]\n",
            "O elemento do índice 1 da minha lista é o número: 2\n"
          ]
        }
      ]
    },
    {
      "cell_type": "code",
      "source": [
        "# Modificando um elemento da minha lista\n",
        "lista[1]=9\n",
        "# Verificando o resultado\n",
        "print(lista)"
      ],
      "metadata": {
        "colab": {
          "base_uri": "https://localhost:8080/"
        },
        "id": "SVAoOvQ200yb",
        "outputId": "e007c538-4ce3-4ee2-9dc5-9f2aac17fd45"
      },
      "execution_count": null,
      "outputs": [
        {
          "output_type": "stream",
          "name": "stdout",
          "text": [
            "[1, 9, 3, 4, 5, 6, 7]\n"
          ]
        }
      ]
    },
    {
      "cell_type": "code",
      "source": [
        "# Adicionando um novo elemento a minha lista\n",
        "lista.append(100)\n",
        "# Dando uma olhada\n",
        "print(lista)"
      ],
      "metadata": {
        "colab": {
          "base_uri": "https://localhost:8080/"
        },
        "id": "ajeK6P_g1K47",
        "outputId": "10442a19-89b7-41ba-8b61-21a41c23c590"
      },
      "execution_count": null,
      "outputs": [
        {
          "output_type": "stream",
          "name": "stdout",
          "text": [
            "[1, 9, 3, 4, 5, 6, 7, 100, 100]\n"
          ]
        }
      ]
    },
    {
      "cell_type": "code",
      "source": [
        "# Removendo elementos de uma lista\n",
        "lista.remove(100)\n",
        "print(lista)"
      ],
      "metadata": {
        "colab": {
          "base_uri": "https://localhost:8080/"
        },
        "id": "PcNa9qf32Auq",
        "outputId": "012f30bb-8ed5-4fa4-de21-c06fd5783871"
      },
      "execution_count": null,
      "outputs": [
        {
          "output_type": "stream",
          "name": "stdout",
          "text": [
            "[1, 9, 3, 4, 5, 6, 7]\n"
          ]
        }
      ]
    },
    {
      "cell_type": "markdown",
      "source": [
        "\n",
        "\n",
        "> Dicionário:\n",
        "\n"
      ],
      "metadata": {
        "id": "_u3fwbVu2470"
      }
    },
    {
      "cell_type": "code",
      "source": [
        "# Criando um Dicionário\n",
        "alunos = {\"nome1\": \"João\", \"idade1\": 25, \"nome2\": \"Armando\", \"idade2\": 39}\n",
        "# Imprimindo o dicionário\n",
        "print(alunos)"
      ],
      "metadata": {
        "colab": {
          "base_uri": "https://localhost:8080/"
        },
        "id": "kjQU2FHG294L",
        "outputId": "ef70e4fe-08ae-49aa-acb6-c2451bf6a3c8"
      },
      "execution_count": null,
      "outputs": [
        {
          "output_type": "stream",
          "name": "stdout",
          "text": [
            "{'nome1': 'João', 'idade1': 25, 'nome2': 'Armando', 'idade2': 39}\n"
          ]
        }
      ]
    },
    {
      "cell_type": "code",
      "source": [
        "# Acessando elemento de um dicionário\n",
        "print(alunos[\"nome2\"])"
      ],
      "metadata": {
        "colab": {
          "base_uri": "https://localhost:8080/"
        },
        "id": "mHMUZQx34nLi",
        "outputId": "8fd80c46-1e80-4ee3-8e86-a74318ceaadb"
      },
      "execution_count": null,
      "outputs": [
        {
          "output_type": "stream",
          "name": "stdout",
          "text": [
            "Armando\n"
          ]
        }
      ]
    },
    {
      "cell_type": "code",
      "source": [
        "# Modificando um elemento\n",
        "alunos[\"nome1\"] = \"João de Deus\"\n",
        "# Verificando\n",
        "print(alunos)"
      ],
      "metadata": {
        "colab": {
          "base_uri": "https://localhost:8080/"
        },
        "id": "-rUb1U6f5FwQ",
        "outputId": "34a24a77-f683-4ff0-8673-823a8be85930"
      },
      "execution_count": null,
      "outputs": [
        {
          "output_type": "stream",
          "name": "stdout",
          "text": [
            "{'nome1': 'João de Deus', 'idade1': 25, 'nome2': 'Armando', 'idade2': 39}\n"
          ]
        }
      ]
    },
    {
      "cell_type": "code",
      "source": [
        "# Adicionando um elemento ao dicionário\n",
        "alunos[\"matricula1\"] = 12345\n",
        "print(alunos)"
      ],
      "metadata": {
        "colab": {
          "base_uri": "https://localhost:8080/"
        },
        "id": "G-aA-wmW5h6L",
        "outputId": "9e7d94cb-7e68-4609-b220-512cfdd3b615"
      },
      "execution_count": null,
      "outputs": [
        {
          "output_type": "stream",
          "name": "stdout",
          "text": [
            "{'nome1': 'João de Deus', 'idade1': 25, 'nome2': 'Armando', 'idade2': 39, 'matricula1': 12345}\n"
          ]
        }
      ]
    },
    {
      "cell_type": "code",
      "source": [
        "# Removendo elemento de um dicionário\n",
        "del alunos[\"matricula1\"]\n",
        "print(alunos)"
      ],
      "metadata": {
        "colab": {
          "base_uri": "https://localhost:8080/"
        },
        "id": "tksSOCWd6ZFl",
        "outputId": "5fde50cb-f99e-4e7a-cdff-9b03b68d3119"
      },
      "execution_count": null,
      "outputs": [
        {
          "output_type": "stream",
          "name": "stdout",
          "text": [
            "{'nome1': 'João de Deus', 'idade1': 25, 'nome2': 'Armando', 'idade2': 39}\n"
          ]
        }
      ]
    },
    {
      "cell_type": "markdown",
      "source": [
        "# Manipulação de Arquivos - como ler, escrever e manipular arquivos no Python"
      ],
      "metadata": {
        "id": "U-Am6KEB67b6"
      }
    },
    {
      "cell_type": "markdown",
      "source": [
        "\n",
        "\n",
        "> Leitura de arquivos\n",
        "\n"
      ],
      "metadata": {
        "id": "oDiGwqmo7AJr"
      }
    },
    {
      "cell_type": "code",
      "source": [
        "# Abrindo um arquivo no modo leitura\n",
        "arquivo_leitura = open(\"geo.txt\", \"r\")\n",
        "\n",
        "# Lendo o conteúdo do arquivo\n",
        "conteudo = arquivo_leitura.read()\n",
        "# verificando o conteúdo\n",
        "print(conteudo)\n",
        "\n",
        "# Fechando o arquivo que foi aberto\n",
        "arquivo_leitura.close()\n"
      ],
      "metadata": {
        "id": "8N4hrmOe7aNX"
      },
      "execution_count": null,
      "outputs": []
    },
    {
      "cell_type": "markdown",
      "source": [
        "\n",
        "\n",
        "> Escrevendo em arquivos\n",
        "\n",
        "\n"
      ],
      "metadata": {
        "id": "4Piu4jrjiOxp"
      }
    },
    {
      "cell_type": "code",
      "source": [
        "# Abrindo o arquivo no modo de escrita\n",
        "arquivo_escrita = open(\"geo.txt\", \"w\")\n",
        "\n",
        "# Escrevendo no arquivo\n",
        "arquivo_escrita.write(\"O Conteúdo agora é este\")\n",
        "\n",
        "# Fechando o arquivo de escrita\n",
        "arquivo_escrita.close()"
      ],
      "metadata": {
        "id": "xjvY1_f_iZVg"
      },
      "execution_count": 31,
      "outputs": []
    },
    {
      "cell_type": "markdown",
      "source": [
        "### Verificando o conteúdo que foi escrito \n",
        "#### Basta executar a célula anterior de leitura"
      ],
      "metadata": {
        "id": "mJjXC1oBlJSZ"
      }
    },
    {
      "cell_type": "markdown",
      "source": [
        "> Adicionando linhas no arquivo\n"
      ],
      "metadata": {
        "id": "pcxvXOUjlr14"
      }
    },
    {
      "cell_type": "code",
      "source": [
        "### No caso anterior o conteúdo do arquivo foi substituido por um novo\n",
        "### Caso deseje incluir linhas num arquivo preservando o conteúdo você\n",
        "### tem que executar conforme abaixo.\n",
        "\n",
        "# Abrindo o arquivo para adição\n",
        "arquivo_add = open(\"geo.txt\", \"a\")\n",
        "\n",
        "# Adicionando uma linha\n",
        "arquivo_add.write(\"\\nMais uma linha foi inserida no arquivo txt\")\n",
        "\n",
        "# Observe o comando: \\n ele serve para inserir uma linha logo abaixo no arquivo\n",
        "# Caso eu queira pular linha é só ir inserindo \\n a linguagem entende como última \n",
        "# linha de um arquivo.\n",
        "\n",
        "# Fechando o arquivo\n",
        "arquivo_add.close()\n",
        "\n",
        "# Para ler este arquivo basta executar a célula de leitura logo acima.\n"
      ],
      "metadata": {
        "id": "NrK45qZBl5qg"
      },
      "execution_count": 33,
      "outputs": []
    },
    {
      "cell_type": "markdown",
      "source": [
        "# Um exemplo de programa Python na Web."
      ],
      "metadata": {
        "id": "5VHaE1P6sRIJ"
      }
    },
    {
      "cell_type": "markdown",
      "source": [
        "\n",
        "\n",
        "> Vamos criar um Servidor Web utilizando Flask\n",
        "\n"
      ],
      "metadata": {
        "id": "Bc-i_Xnus1tw"
      }
    },
    {
      "cell_type": "code",
      "source": [
        "# Caso não tenha importado a biblioteca Flask tem que instalar\n",
        "!pip install Flask\n",
        "\n",
        "# Importando os pacotes\n",
        "from flask import Flask, jsonify, request \n",
        "\n",
        "app = Flask(__name__)\n",
        "\n",
        "@app.route('/')\n",
        "\n",
        "def home():\n",
        "  return jsonify({\"message\": \"Bem vindo a sua primeira página Web!!!!\"})\n",
        "\n",
        "@app.route('/post', methods=['POST'])\n",
        "\n",
        "def post():\n",
        "  data = request.get_json()\n",
        "  return jsonify({\"message\": \"Recebendo o resulto do Post!\", \"dados\": data})\n",
        "\n",
        "if __name__ == '__main__':\n",
        "  app.run(debug=True)\n",
        "\n",
        "  \n",
        "\n"
      ],
      "metadata": {
        "colab": {
          "base_uri": "https://localhost:8080/"
        },
        "id": "85Tf9O7ys9FA",
        "outputId": "58c1489c-534a-415f-c4b8-29b6f166a4f7"
      },
      "execution_count": 37,
      "outputs": [
        {
          "output_type": "stream",
          "name": "stdout",
          "text": [
            "Looking in indexes: https://pypi.org/simple, https://us-python.pkg.dev/colab-wheels/public/simple/\n",
            "Requirement already satisfied: Flask in /usr/local/lib/python3.8/dist-packages (1.1.4)\n",
            "Requirement already satisfied: Werkzeug<2.0,>=0.15 in /usr/local/lib/python3.8/dist-packages (from Flask) (1.0.1)\n",
            "Requirement already satisfied: itsdangerous<2.0,>=0.24 in /usr/local/lib/python3.8/dist-packages (from Flask) (1.1.0)\n",
            "Requirement already satisfied: click<8.0,>=5.1 in /usr/local/lib/python3.8/dist-packages (from Flask) (7.1.2)\n",
            "Requirement already satisfied: Jinja2<3.0,>=2.10.1 in /usr/local/lib/python3.8/dist-packages (from Flask) (2.11.3)\n",
            "Requirement already satisfied: MarkupSafe>=0.23 in /usr/local/lib/python3.8/dist-packages (from Jinja2<3.0,>=2.10.1->Flask) (2.0.1)\n"
          ]
        }
      ]
    }
  ]
}