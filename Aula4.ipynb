{
  "nbformat": 4,
  "nbformat_minor": 0,
  "metadata": {
    "colab": {
      "provenance": [],
      "authorship_tag": "ABX9TyOjalMokI3pFxzD/k6sqV02",
      "include_colab_link": true
    },
    "kernelspec": {
      "name": "python3",
      "display_name": "Python 3"
    },
    "language_info": {
      "name": "python"
    }
  },
  "cells": [
    {
      "cell_type": "markdown",
      "metadata": {
        "id": "view-in-github",
        "colab_type": "text"
      },
      "source": [
        "<a href=\"https://colab.research.google.com/github/sandovalmedeiros/PythonGeo/blob/main/Aula4.ipynb\" target=\"_parent\"><img src=\"https://colab.research.google.com/assets/colab-badge.svg\" alt=\"Open In Colab\"/></a>"
      ]
    },
    {
      "cell_type": "markdown",
      "source": [
        "# Manipulando Banco de Dados"
      ],
      "metadata": {
        "id": "4sZbq9QuBjrY"
      }
    },
    {
      "cell_type": "markdown",
      "source": [
        "\n",
        "\n",
        "> **SQLite3**\n",
        "\n"
      ],
      "metadata": {
        "id": "5XDI_M_pBoi_"
      }
    },
    {
      "cell_type": "code",
      "source": [
        "# Importando a biblioteca\n",
        "import sqlite3\n",
        "\n",
        "# Fazendo uma conexão\n",
        "conexao = sqlite3.connect('meuBanco.db')\n",
        "\n",
        "# Criando um cursor\n",
        "cursor = conexao.cursor()\n",
        "\n",
        "# Criando uma tabela no banco de dados meuBanco.db\n",
        "#cursor.execute('''CREATE TABLE alunos \n",
        "#                  (id INTEGER PRIMARY KEY, matricula INTEGER, nome TEXT, idade INTEGER)''')\n",
        "\n",
        "# Inserindo registros na tabela alunos\n",
        "#cursor.execute(\"INSERT INTO alunos VALUES(1, 1405, 'Sandoval Medeiros', 60)\")\n",
        "#cursor.execute(\"INSERT INTO alunos VALUES(2, 1798, 'Alfredo Volpi', 83)\")\n",
        "#cursor.execute(\"INSERT INTO alunos VALUES(3, 2001, 'Chico Salles', 81)\")\n",
        "\n",
        "cursor.execute(\"INSERT INTO alunos VALUES(6, 1645, 'Fernanda Salles', 23)\")\n",
        "\n",
        "# Salvando os registros no banco\n",
        "#conexao.commit()\n",
        "\n",
        "# Fazendo uma seleção dos registros da tabela alunos\n",
        "cursor.execute(\"SELECT * FROM alunos\")\n",
        "\n",
        "# Imprimindo o resultado da seleção\n",
        "print(cursor.fetchall())\n",
        "\n",
        "# Encerrando a conexão com o banco\n",
        "conexao.close()\n"
      ],
      "metadata": {
        "colab": {
          "base_uri": "https://localhost:8080/"
        },
        "id": "a4wKUUjrCAtn",
        "outputId": "4bd7b4f1-33bb-404f-c54e-df81abc06627"
      },
      "execution_count": null,
      "outputs": [
        {
          "output_type": "stream",
          "name": "stdout",
          "text": [
            "[(1, 1405, 'Sandoval Medeiros', 60), (2, 1798, 'Alfredo Volpi', 83), (3, 2001, 'Chico Salles', 81), (4, 1645, 'Fernanda Salles', 23), (5, 1645, 'Fernanda Salles', 23), (6, 1645, 'Fernanda Salles', 23)]\n"
          ]
        }
      ]
    },
    {
      "cell_type": "markdown",
      "source": [
        "\n",
        "\n",
        "> **Psycopg2** - Utilizando esta biblioteca para conectar um banco Postgresql\n",
        "\n"
      ],
      "metadata": {
        "id": "0B81bsS4FkuA"
      }
    },
    {
      "cell_type": "code",
      "source": [
        "# Importaando a biblioteca\n",
        "import psycopg2\n",
        "\n",
        "# Conectando ao banco\n",
        "conexao = psycopg2.connect(\n",
        "    host = 'localhost' # ou neste caso 127.0.0.1 ou um endereço IP do servidor 10.28.XXX.XX\n",
        "    port = '5432' # A porta padrão do Postgresql é a 5432 mas depemde da instalação que foi realizada.\n",
        "    user = 'postgres' # Usuário padrão de instalação do Postgresql\n",
        "    password = 'postgres' # Padrão\n",
        "    database = 'meuBanco' # Neste caso o banco já foi criado com outro script ou no PgAdmin a conexão precisa achar o banco.\n",
        ")\n",
        "\n",
        "# Criando uma tabela no banco\n",
        "cursor.execute('''CREATE TABLE alunos \n",
        "                  (id INTEGER PRIMARY KEY, matricula INTEGER, nome TEXT, idade INTEGER)''')\n",
        "\n",
        "# Inserindo registros na tabela alunos\n",
        "cursor.execute(\"INSERT INTO alunos VALUES('1, 1405, 'Sandoval Medeiros', 60)\")\n",
        "cursor.execute(\"INSERT INTO alunos VALUES('2, 1798, 'Alfredo Volpi', 83)\")\n",
        "cursor.execute(\"INSERT INTO alunos VALUES('3, 2001, 'Chico Salles', 81)\")\n",
        "\n",
        "# Salvando os registros no banco\n",
        "conexao.commit()\n",
        "\n",
        "# Fazendo uma seleção dos registros da tabela alunos\n",
        "cursor.execute(\"SELECT * FROM alunos\")\n",
        "\n",
        "# Imprimindo o resultado da seleção\n",
        "print(cursor.fetchall())\n",
        "\n",
        "# Encerrando a conexão com o banco\n",
        "conexao.close()\n"
      ],
      "metadata": {
        "id": "ojzw6sY_F7oQ"
      },
      "execution_count": null,
      "outputs": []
    }
  ]
}