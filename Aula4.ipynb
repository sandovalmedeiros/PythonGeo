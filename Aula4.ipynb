{
  "nbformat": 4,
  "nbformat_minor": 0,
  "metadata": {
    "colab": {
      "provenance": [],
      "authorship_tag": "ABX9TyMrc9d96Xq/FiNFCidylFN1",
      "include_colab_link": true
    },
    "kernelspec": {
      "name": "python3",
      "display_name": "Python 3"
    },
    "language_info": {
      "name": "python"
    }
  },
  "cells": [
    {
      "cell_type": "markdown",
      "metadata": {
        "id": "view-in-github",
        "colab_type": "text"
      },
      "source": [
        "<a href=\"https://colab.research.google.com/github/sandovalmedeiros/PythonGeo/blob/main/Aula4.ipynb\" target=\"_parent\"><img src=\"https://colab.research.google.com/assets/colab-badge.svg\" alt=\"Open In Colab\"/></a>"
      ]
    },
    {
      "cell_type": "markdown",
      "source": [
        "# Manipulando Banco de Dados"
      ],
      "metadata": {
        "id": "4sZbq9QuBjrY"
      }
    },
    {
      "cell_type": "markdown",
      "source": [
        "\n",
        "\n",
        "> **SQLite3**\n",
        "\n"
      ],
      "metadata": {
        "id": "5XDI_M_pBoi_"
      }
    },
    {
      "cell_type": "code",
      "source": [
        "# Importando a biblioteca\n",
        "import sqlite3\n",
        "\n",
        "# Fazendo uma conexão\n",
        "conexao = sqlite3.conect('meuBanco.db')\n",
        "\n",
        "# Criando um cursor\n",
        "cursor = conexao.cursor()\n",
        "\n",
        "# Criando uma tabela no banco de dados meuBanco.db\n",
        "cursor.execute('''CREATE TABLE alunos \n",
        "                  (id INTEGER PRIMARY KEY, matricula INETGER, nome TEXT, idade INTEGER)''')\n",
        "\n",
        "# Inserindo registros na tabela alunos\n",
        "cursor.execute(\"INSERT INTO alunos VALUES('1, 1405, 'Sandoval Medeiros', 60)\")\n",
        "cursor.execute(\"INSERT INTO alunos VALUES('2, 1798, 'Alfredo Volpi', 83)\")\n",
        "cursor.execute(\"INSERT INTO alunos VALUES('3, 2001, 'Chico Salles', 81)\")\n",
        "\n",
        "# Salvando os registros no banco\n",
        "conexao.commit()\n",
        "\n",
        "# Encerrando a conexão com o banco\n",
        "conexao.close()\n",
        "\n",
        "\n",
        "\n"
      ],
      "metadata": {
        "id": "a4wKUUjrCAtn"
      },
      "execution_count": null,
      "outputs": []
    }
  ]
}