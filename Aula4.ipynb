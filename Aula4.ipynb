{
  "nbformat": 4,
  "nbformat_minor": 0,
  "metadata": {
    "colab": {
      "provenance": [],
      "authorship_tag": "ABX9TyMhcIb7NKqwhvYZCblTQPT+",
      "include_colab_link": true
    },
    "kernelspec": {
      "name": "python3",
      "display_name": "Python 3"
    },
    "language_info": {
      "name": "python"
    }
  },
  "cells": [
    {
      "cell_type": "markdown",
      "metadata": {
        "id": "view-in-github",
        "colab_type": "text"
      },
      "source": [
        "<a href=\"https://colab.research.google.com/github/sandovalmedeiros/PythonGeo/blob/main/Aula4.ipynb\" target=\"_parent\"><img src=\"https://colab.research.google.com/assets/colab-badge.svg\" alt=\"Open In Colab\"/></a>"
      ]
    },
    {
      "cell_type": "markdown",
      "source": [
        "# Manipulando Banco de Dados"
      ],
      "metadata": {
        "id": "4sZbq9QuBjrY"
      }
    },
    {
      "cell_type": "markdown",
      "source": [
        "\n",
        "\n",
        "> **SQLite3**\n",
        "\n"
      ],
      "metadata": {
        "id": "5XDI_M_pBoi_"
      }
    },
    {
      "cell_type": "code",
      "source": [
        "# Importando a biblioteca\n",
        "import sqlite3\n",
        "\n",
        "# Fazendo uma conexão\n",
        "conexao = sqlite3.connect('meuBanco.db')\n",
        "\n",
        "# Criando um cursor\n",
        "cursor = conexao.cursor()\n",
        "\n",
        "# Criando uma tabela no banco de dados meuBanco.db\n",
        "#cursor.execute('''CREATE TABLE alunos \n",
        "#                  (id INTEGER PRIMARY KEY, matricula INTEGER, nome TEXT, idade INTEGER)''')\n",
        "\n",
        "# Inserindo registros na tabela alunos\n",
        "#cursor.execute(\"INSERT INTO alunos VALUES(1, 1405, 'Sandoval Medeiros', 60)\")\n",
        "#cursor.execute(\"INSERT INTO alunos VALUES(2, 1798, 'Alfredo Volpi', 83)\")\n",
        "#cursor.execute(\"INSERT INTO alunos VALUES(3, 2001, 'Chico Salles', 81)\")\n",
        "\n",
        "#cursor.execute(\"INSERT INTO alunos VALUES(6, 1645, 'Fernanda Salles', 23)\")\n",
        "\n",
        "# Fazendo uma seleção dos registros da tabela alunos\n",
        "cursor.execute(\"SELECT * FROM alunos\")\n",
        "\n",
        "#cursor.execute(\"DELETE FROM alunos WHERE id = 5\") \n",
        "\n",
        "# Salvando os registros no banco\n",
        "conexao.commit()\n",
        "\n",
        "# Imprimindo o resultado da seleção\n",
        "print(cursor.fetchall())\n",
        "\n",
        "# Encerrando a conexão com o banco\n",
        "conexao.close()\n"
      ],
      "metadata": {
        "colab": {
          "base_uri": "https://localhost:8080/"
        },
        "id": "a4wKUUjrCAtn",
        "outputId": "b26ac290-842b-417b-8822-0f0b98a282d8"
      },
      "execution_count": null,
      "outputs": [
        {
          "output_type": "stream",
          "name": "stdout",
          "text": [
            "[(1, 1405, 'Sandoval Medeiros', 60), (2, 1798, 'Alfredo Volpi', 83), (3, 2001, 'Chico Salles', 81), (4, 1645, 'Fernanda Salles', 23)]\n"
          ]
        }
      ]
    },
    {
      "cell_type": "markdown",
      "source": [
        "\n",
        "\n",
        "> **Psycopg2** - Utilizando esta biblioteca para conectar um banco Postgresql\n",
        "\n"
      ],
      "metadata": {
        "id": "0B81bsS4FkuA"
      }
    },
    {
      "cell_type": "code",
      "source": [
        "# Importaando a biblioteca\n",
        "import psycopg2\n",
        "\n",
        "# Conectando ao banco\n",
        "conexao = psycopg2.connect(\n",
        "    host = 'localhost' # ou neste caso 127.0.0.1 ou um endereço IP do servidor 10.28.XXX.XX\n",
        "    port = '5432' # A porta padrão do Postgresql é a 5432 mas depemde da instalação que foi realizada.\n",
        "    user = 'postgres' # Usuário padrão de instalação do Postgresql\n",
        "    password = 'postgres' # Padrão\n",
        "    database = 'meuBanco' # Neste caso o banco já foi criado com outro script ou no PgAdmin a conexão precisa achar o banco.\n",
        ")\n",
        "\n",
        "# Criando uma tabela no banco\n",
        "cursor.execute('''CREATE TABLE alunos \n",
        "                  (id INTEGER PRIMARY KEY, matricula INTEGER, nome TEXT, idade INTEGER)''')\n",
        "\n",
        "# Inserindo registros na tabela alunos\n",
        "cursor.execute(\"INSERT INTO alunos VALUES('1, 1405, 'Sandoval Medeiros', 60)\")\n",
        "cursor.execute(\"INSERT INTO alunos VALUES('2, 1798, 'Alfredo Volpi', 83)\")\n",
        "cursor.execute(\"INSERT INTO alunos VALUES('3, 2001, 'Chico Salles', 81)\")\n",
        "\n",
        "# Salvando os registros no banco\n",
        "conexao.commit()\n",
        "\n",
        "# Fazendo uma seleção dos registros da tabela alunos\n",
        "cursor.execute(\"SELECT * FROM alunos\")\n",
        "\n",
        "# Imprimindo o resultado da seleção\n",
        "print(cursor.fetchall())\n",
        "\n",
        "# Encerrando a conexão com o banco\n",
        "conexao.close()\n"
      ],
      "metadata": {
        "id": "ojzw6sY_F7oQ"
      },
      "execution_count": null,
      "outputs": []
    },
    {
      "cell_type": "markdown",
      "source": [
        "# Processando dados com Python"
      ],
      "metadata": {
        "id": "UrBNSM01Te52"
      }
    },
    {
      "cell_type": "markdown",
      "source": [
        ">**Pandas**\n",
        "\n"
      ],
      "metadata": {
        "id": "gk8Qmk7QT0De"
      }
    },
    {
      "cell_type": "code",
      "source": [
        "# Importando a biblioteca Pandas\n",
        "import pandas as pd\n",
        "\n",
        "# Carregando um arquivo no formato csv para um dataframe pandas\n",
        "dados = pd.read_csv('/content/sample_data/california_housing_test.csv')\n",
        "\n",
        "# Imprimindo os dez primeiros dados (head)\n",
        "#print(dados.head())\n",
        "\n",
        "# Agora vamos filtrar os dados por um valor de uma coluna\n",
        "dados_sel = dados[dados[\"population\"]>=1000.0]\n",
        "\n",
        "#print(dados_sel.head)\n",
        "\n",
        "# Vamos agrupar os dados pelo valor de uma coluna e calcular a média por\n",
        "# outro valor de uma coluna\n",
        "agrupando = dados_sel.groupby(\"population\").mean()(\"media_quartos\")\n",
        "\n",
        "# Ordenando os dados do conjunto pelo valor de uma coluna\n",
        "dados_sel_sort = dados_sel.sort_values(\"population\")\n",
        "\n",
        "print(dados_sel_sort)"
      ],
      "metadata": {
        "colab": {
          "base_uri": "https://localhost:8080/",
          "height": 235
        },
        "id": "lOihqzvJT6gd",
        "outputId": "ee7a187c-aa59-478a-d480-6dcf0c26ac0d"
      },
      "execution_count": null,
      "outputs": [
        {
          "output_type": "error",
          "ename": "TypeError",
          "evalue": "ignored",
          "traceback": [
            "\u001b[0;31m---------------------------------------------------------------------------\u001b[0m",
            "\u001b[0;31mTypeError\u001b[0m                                 Traceback (most recent call last)",
            "\u001b[0;32m<ipython-input-49-290d718489a2>\u001b[0m in \u001b[0;36m<module>\u001b[0;34m\u001b[0m\n\u001b[1;32m     15\u001b[0m \u001b[0;31m# Vamos agrupar os dados pelo valor de uma coluna e calcular a média por\u001b[0m\u001b[0;34m\u001b[0m\u001b[0;34m\u001b[0m\u001b[0;34m\u001b[0m\u001b[0m\n\u001b[1;32m     16\u001b[0m \u001b[0;31m# outro valor de uma coluna\u001b[0m\u001b[0;34m\u001b[0m\u001b[0;34m\u001b[0m\u001b[0;34m\u001b[0m\u001b[0m\n\u001b[0;32m---> 17\u001b[0;31m \u001b[0magrupando\u001b[0m \u001b[0;34m=\u001b[0m \u001b[0mdados_sel\u001b[0m\u001b[0;34m.\u001b[0m\u001b[0mgroupby\u001b[0m\u001b[0;34m(\u001b[0m\u001b[0;34m\"population\"\u001b[0m\u001b[0;34m)\u001b[0m\u001b[0;34m.\u001b[0m\u001b[0mmean\u001b[0m\u001b[0;34m(\u001b[0m\u001b[0;34m)\u001b[0m\u001b[0;34m(\u001b[0m\u001b[0;34m\"media_quartos\"\u001b[0m\u001b[0;34m)\u001b[0m\u001b[0;34m\u001b[0m\u001b[0;34m\u001b[0m\u001b[0m\n\u001b[0m\u001b[1;32m     18\u001b[0m \u001b[0;34m\u001b[0m\u001b[0m\n\u001b[1;32m     19\u001b[0m \u001b[0;31m# Ordenando os dados do conjunto pelo valor de uma coluna\u001b[0m\u001b[0;34m\u001b[0m\u001b[0;34m\u001b[0m\u001b[0;34m\u001b[0m\u001b[0m\n",
            "\u001b[0;31mTypeError\u001b[0m: 'DataFrame' object is not callable"
          ]
        }
      ]
    },
    {
      "cell_type": "markdown",
      "source": [
        "\n",
        "\n",
        "> **Numpy**\n",
        "\n"
      ],
      "metadata": {
        "id": "P49ZJWD7erif"
      }
    },
    {
      "cell_type": "code",
      "source": [
        "# Importando a biblioteca Numpy\n",
        "import numpy as np\n",
        "\n",
        "# Criando array com números aleatórios\n",
        "dados = np.random.rand(10)\n",
        "\n",
        "print(\"Meu Array: \" + str(dados))\n",
        "\n",
        "print()\n",
        "\n",
        "# Calculando a média dos valores do array\n",
        "media = np.mean(dados)\n",
        "\n",
        "print(\"A média do meu Array é: \" + str(media))\n",
        "\n",
        "print()\n",
        "\n",
        "# Calculando o desvio padrão dos valores do array\n",
        "desvio_padrao = np.std(dados)\n",
        "\n",
        "print(\"O desvio padrão do meu Array é: \" + str(desvio_padrao))\n",
        "\n",
        "print()\n",
        "\n",
        "# Encontrando o valor máximo do array\n",
        "maximo = np.max(dados)\n",
        "\n",
        "print(\"O valor máximo do meu Array é \" + str(maximo))"
      ],
      "metadata": {
        "colab": {
          "base_uri": "https://localhost:8080/"
        },
        "id": "7Z7Bayzeevzf",
        "outputId": "473931a6-b798-4d20-a09a-9f9e59bef9f0"
      },
      "execution_count": 58,
      "outputs": [
        {
          "output_type": "stream",
          "name": "stdout",
          "text": [
            "Meu Array: [0.95596929 0.82491474 0.74004052 0.63727761 0.37289292 0.89875155\n",
            " 0.37347633 0.85458403 0.05335016 0.98572262]\n",
            "\n",
            "A média do meu Array é: 0.6696979768849105\n",
            "\n",
            "O desvio padrão do meu Array é:0.29228201522080915\n",
            "\n",
            "O valor máximo do meu Array é 0.98572261684389\n"
          ]
        }
      ]
    }
  ]
}