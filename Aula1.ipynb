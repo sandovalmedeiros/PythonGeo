{
  "nbformat": 4,
  "nbformat_minor": 0,
  "metadata": {
    "colab": {
      "provenance": [],
      "authorship_tag": "ABX9TyNPyxQ6CS2pw+GjMneSgUe5",
      "include_colab_link": true
    },
    "kernelspec": {
      "name": "python3",
      "display_name": "Python 3"
    },
    "language_info": {
      "name": "python"
    }
  },
  "cells": [
    {
      "cell_type": "markdown",
      "metadata": {
        "id": "view-in-github",
        "colab_type": "text"
      },
      "source": [
        "<a href=\"https://colab.research.google.com/github/sandovalmedeiros/PythonGeo/blob/main/Aula1.ipynb\" target=\"_parent\"><img src=\"https://colab.research.google.com/assets/colab-badge.svg\" alt=\"Open In Colab\"/></a>"
      ]
    },
    {
      "cell_type": "markdown",
      "source": [
        "#Aula 1 - Conceito de Variáveis, Operadores e Expressões e Fluxos de Controle\n",
        "\n",
        " Capítulo 01 - Neste capítulo, você aprenderá sobre os conceitos básicos de programação e como usar o Python para escrever seus primeiros programas, aqui estão alguns exemplos dos conceitos básicos de Python, incluindo tipos de dados, variáveis e operações básicas"
      ],
      "metadata": {
        "id": "7XVp1ypPoJU4"
      }
    },
    {
      "cell_type": "markdown",
      "source": [
        "## Tipos de Dados:\n",
        "\n",
        ">  Strings\n",
        "> \n"
      ],
      "metadata": {
        "id": "KrELNyDfo9vI"
      }
    },
    {
      "cell_type": "code",
      "source": [
        "nome = \"Orlando Silva\"\n",
        "print(nome)"
      ],
      "metadata": {
        "colab": {
          "base_uri": "https://localhost:8080/"
        },
        "id": "mCQDZ_oupV9n",
        "outputId": "dd1a90f6-c3ae-4bd2-9cd6-7a951ad2de6e"
      },
      "execution_count": 1,
      "outputs": [
        {
          "output_type": "stream",
          "name": "stdout",
          "text": [
            "Orlando Silva\n"
          ]
        }
      ]
    },
    {
      "cell_type": "markdown",
      "source": [
        "\n",
        "\n",
        "> Número Interiro\n",
        "\n"
      ],
      "metadata": {
        "id": "9zkuYlDKpmWo"
      }
    },
    {
      "cell_type": "code",
      "source": [
        " idade = 35\n",
        " print(idade)"
      ],
      "metadata": {
        "id": "tHsD1xZkowrx"
      },
      "execution_count": null,
      "outputs": []
    },
    {
      "cell_type": "markdown",
      "source": [
        "Ponto Flutuate - (float)"
      ],
      "metadata": {
        "id": "UjermHhGqSzZ"
      }
    },
    {
      "cell_type": "code",
      "source": [
        "preco = 17.78\n",
        "print(preco)"
      ],
      "metadata": {
        "id": "QhqlT4c-qb7T"
      },
      "execution_count": null,
      "outputs": []
    },
    {
      "cell_type": "markdown",
      "source": [
        "> Lista\n",
        "\n"
      ],
      "metadata": {
        "id": "dI62LhYqqwxU"
      }
    },
    {
      "cell_type": "code",
      "source": [
        "computador = [\"Monitor\", \"Mouse\", \"Teclado\", \"Gabinete\"]\n",
        "print(computador)"
      ],
      "metadata": {
        "colab": {
          "base_uri": "https://localhost:8080/"
        },
        "id": "ZlUwWJM0rBFn",
        "outputId": "862ccfb4-3c8b-4836-d5c0-212c2b482993"
      },
      "execution_count": 3,
      "outputs": [
        {
          "output_type": "stream",
          "name": "stdout",
          "text": [
            "['Monitor', 'Mouse', 'Teclado', 'Gabinete']\n"
          ]
        }
      ]
    },
    {
      "cell_type": "code",
      "source": [
        "print(computador[2:])"
      ],
      "metadata": {
        "colab": {
          "base_uri": "https://localhost:8080/"
        },
        "id": "8K1eKWZRsW5Z",
        "outputId": "02fafb90-76ab-4160-bb45-3be9b8330281"
      },
      "execution_count": 26,
      "outputs": [
        {
          "output_type": "stream",
          "name": "stdout",
          "text": [
            "['Teclado', 'Gabinete']\n"
          ]
        }
      ]
    },
    {
      "cell_type": "markdown",
      "source": [
        "Operações Básicas"
      ],
      "metadata": {
        "id": "O3Q21r9wuX86"
      }
    },
    {
      "cell_type": "markdown",
      "source": [
        "> Adição\n",
        "\n"
      ],
      "metadata": {
        "id": "tNC3Y_ceumoI"
      }
    },
    {
      "cell_type": "code",
      "source": [
        "x = 6\n",
        "y = 2\n",
        "\n",
        "soma = x+y\n",
        "\n",
        "print(soma)"
      ],
      "metadata": {
        "colab": {
          "base_uri": "https://localhost:8080/"
        },
        "id": "MOYmiBJZuqhP",
        "outputId": "ce3237cd-86b8-4fdd-de14-d1450dc0f847"
      },
      "execution_count": 30,
      "outputs": [
        {
          "output_type": "stream",
          "name": "stdout",
          "text": [
            "8\n"
          ]
        }
      ]
    },
    {
      "cell_type": "markdown",
      "source": [
        "\n",
        "\n",
        "> Subtração\n",
        "\n"
      ],
      "metadata": {
        "id": "rVmGLZTtvU6Y"
      }
    },
    {
      "cell_type": "code",
      "source": [
        "x = 8\n",
        "y = 2\n",
        "\n",
        "subtracao = x - y\n",
        "\n",
        "print(subtracao)"
      ],
      "metadata": {
        "colab": {
          "base_uri": "https://localhost:8080/"
        },
        "id": "iasDrVecvY62",
        "outputId": "a658fc31-07a9-4883-af05-9251bcfd5013"
      },
      "execution_count": 31,
      "outputs": [
        {
          "output_type": "stream",
          "name": "stdout",
          "text": [
            "6\n"
          ]
        }
      ]
    },
    {
      "cell_type": "markdown",
      "source": [
        "\n",
        "\n",
        "> Multiplicação\n",
        "\n"
      ],
      "metadata": {
        "id": "lYs-qDXBv6WH"
      }
    },
    {
      "cell_type": "code",
      "source": [
        "x = 5\n",
        "y = 2\n",
        "\n",
        "multiplicacao = x * y\n",
        "\n",
        "print(multiplicacao)"
      ],
      "metadata": {
        "colab": {
          "base_uri": "https://localhost:8080/"
        },
        "id": "VjmDyruSwGF2",
        "outputId": "6adaec0d-d88c-4ddb-89f8-b4aafaff3580"
      },
      "execution_count": 32,
      "outputs": [
        {
          "output_type": "stream",
          "name": "stdout",
          "text": [
            "10\n"
          ]
        }
      ]
    },
    {
      "cell_type": "markdown",
      "source": [
        "\n",
        "\n",
        "> Divisao\n",
        "\n"
      ],
      "metadata": {
        "id": "PcXvXEk1wWSJ"
      }
    },
    {
      "cell_type": "code",
      "source": [
        "x = 20\n",
        "y = 2\n",
        "\n",
        "divisao = x / y\n",
        "\n",
        "print(divisao)\n",
        "\n",
        "# O resultado é um ponto flutuante, para ver o número inteito utilize a função int.\n",
        "# print (int(divisao))"
      ],
      "metadata": {
        "colab": {
          "base_uri": "https://localhost:8080/"
        },
        "id": "BBtFeHEswcSf",
        "outputId": "b1efcaa1-7654-45b9-a172-54d4fb7e643b"
      },
      "execution_count": 35,
      "outputs": [
        {
          "output_type": "stream",
          "name": "stdout",
          "text": [
            "10.0 1\n"
          ]
        }
      ]
    },
    {
      "cell_type": "markdown",
      "source": [
        "\n",
        "\n",
        "> Primeiras noções de Concatenação de Strings\n",
        "\n"
      ],
      "metadata": {
        "id": "5n2zoVevxr0a"
      }
    },
    {
      "cell_type": "code",
      "source": [
        "first_name = \"Sandoval\"\n",
        "last_name = \"Medeiros\"\n",
        "age = 59\n",
        "\n",
        "# Formato Brasileiro\n",
        "name_br = first_name + \" \" + last_name\n",
        "\n",
        "# Formato Estrangeiro\n",
        "name = last_name + \", \" + first_name\n",
        "\n",
        "print(\"Desenvolvendo aplicação para o Brasil\")\n",
        "print(\"Nome do Aluno: \" + name_br + \" Idade: \" + str(age))\n",
        "print()\n",
        "print(\"Desenvolvendo aplicação para o mundo\")\n",
        "print(\"Student Name : \" + name + \" Age : \" + str(age))\n",
        "\n"
      ],
      "metadata": {
        "colab": {
          "base_uri": "https://localhost:8080/"
        },
        "id": "jpRNYKMRx6VM",
        "outputId": "e3aa2ec3-00c9-4c51-faff-dcfc84a12bbd"
      },
      "execution_count": 48,
      "outputs": [
        {
          "output_type": "stream",
          "name": "stdout",
          "text": [
            "Desenvolvendo aplicação para o Brasil\n",
            "Nome do Aluno: Sandoval Medeiros Idade: 59\n",
            "\n",
            "Desenvolvendo aplicação para o mundo\n",
            "Student Name : Medeiros, Sandoval Age : 59\n"
          ]
        }
      ]
    },
    {
      "cell_type": "markdown",
      "source": [
        "Variávies: \n",
        "\n",
        "De uma forma bem simplificada as variáveis são utilizadas no desenvolvimento\n",
        "das aplicações como um \"repositório\" de informações/dados dos mais diversos tipos. As variáveis são temporárias e seus valores são modificados constantemente durante o processamento da aplicação."
      ],
      "metadata": {
        "id": "91nS7ojy1h_Z"
      }
    },
    {
      "cell_type": "code",
      "source": [
        "# Declarando uma variável numérica do tipo int.\n",
        "x = 7\n",
        "\n",
        "# Atribuindo um novo valor a variável x que foi declarada\n",
        "\n",
        "x = 10\n",
        "\n",
        "# Caso eu atribua um outro tipo de dado a esta variável o Python vai acatar sem problema.\n",
        "\n",
        "x = 10.9\n",
        "\n",
        "# Trocando para uma string\n",
        "\n",
        "x = \"Aluno\"\n",
        "\n",
        "# Imprimindo seu valor\n",
        "\n",
        "print(x)"
      ],
      "metadata": {
        "colab": {
          "base_uri": "https://localhost:8080/"
        },
        "id": "CXBjlBaO2ix5",
        "outputId": "8e8dbdfa-0947-4a25-f745-692e6a604c05"
      },
      "execution_count": 50,
      "outputs": [
        {
          "output_type": "stream",
          "name": "stdout",
          "text": [
            "Aluno\n"
          ]
        }
      ]
    },
    {
      "cell_type": "markdown",
      "source": [
        "## Fluxo de Controle\n",
        "\n",
        "Capítulo 02 - Neste capítulo, você aprenderá sobre as\n",
        "estruturas de controle do Python, como\n",
        "if/else, while e for loops, e como usá-las para\n",
        "controlar o fluxo de execução de seus\n",
        "programas."
      ],
      "metadata": {
        "id": "njrxzWQg4v5o"
      }
    },
    {
      "cell_type": "markdown",
      "source": [
        "if /else\n",
        "\n"
      ],
      "metadata": {
        "id": "Latn4VpW6YXP"
      }
    },
    {
      "cell_type": "code",
      "source": [],
      "metadata": {
        "id": "Z5_0Z79k40DT"
      },
      "execution_count": null,
      "outputs": []
    }
  ]
}