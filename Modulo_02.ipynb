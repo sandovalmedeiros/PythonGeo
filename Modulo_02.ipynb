{
  "nbformat": 4,
  "nbformat_minor": 0,
  "metadata": {
    "colab": {
      "provenance": [],
      "authorship_tag": "ABX9TyP7yxKl+Y9nmpzAk58LB9fH",
      "include_colab_link": true
    },
    "kernelspec": {
      "name": "python3",
      "display_name": "Python 3"
    },
    "language_info": {
      "name": "python"
    }
  },
  "cells": [
    {
      "cell_type": "markdown",
      "metadata": {
        "id": "view-in-github",
        "colab_type": "text"
      },
      "source": [
        "<a href=\"https://colab.research.google.com/github/sandovalmedeiros/PythonGeo/blob/main/Aula2.ipynb\" target=\"_parent\"><img src=\"https://colab.research.google.com/assets/colab-badge.svg\" alt=\"Open In Colab\"/></a>"
      ]
    },
    {
      "cell_type": "markdown",
      "source": [
        "# Aula 2 - Python com Geo"
      ],
      "metadata": {
        "id": "rO5kvmPUGhvW"
      }
    },
    {
      "cell_type": "markdown",
      "source": [
        "## Funções e Módulos"
      ],
      "metadata": {
        "id": "bnJFNuv_GjM2"
      }
    },
    {
      "cell_type": "markdown",
      "source": [
        "> Funções - São trechos de códigos onde declaramos ......xxxxxx\n",
        "\n",
        "\n",
        "\n"
      ],
      "metadata": {
        "id": "u1MP9ii3GzVv"
      }
    },
    {
      "cell_type": "code",
      "source": [
        "# Declarando uma função chamada soma que pode estar em qualquer lugar da minha aplicação.\n",
        "# A função soma vai receber de qualquer lugar da minha aplicação dois parametros chamdos\n",
        "# x e y com algum valor. No nosso exemplo vai ter o seguinte conteúdo: soma(6,4)\n",
        "def soma(x,y):\n",
        "  # Entrada: soma(6,4)\n",
        "  # Dentro da função a variável resultado_soma recebe uma operação aritmética de uma soma\n",
        "  # entre os valores de x e y, no nosso caso 6+4.\n",
        "  resultado_soma = x + y\n",
        "  # A função retorna o resultado da operação, nosso caso retorna o número 10.\n",
        "  # Saída: soma(10) = soma(resultado_soma)\n",
        "  return resultado_soma"
      ],
      "metadata": {
        "id": "LloRJfIJHFuU"
      },
      "execution_count": 1,
      "outputs": []
    },
    {
      "cell_type": "code",
      "source": [
        "# Operação com a função \n",
        "# Inicializando as variáveis\n",
        "x = 6\n",
        "y = 4"
      ],
      "metadata": {
        "id": "LmkEqqJNIXVd"
      },
      "execution_count": 2,
      "outputs": []
    },
    {
      "cell_type": "code",
      "source": [
        "# Chamando a função soma e passando as variáveis x e y.\n",
        "# Estou atribuindo a minha variável chamada result o resultado\n",
        "# do retorno da minha função chamada soma, cujo resultado foi\n",
        "# a soma de x + y que é 10.\n",
        "result = soma(x,y)"
      ],
      "metadata": {
        "id": "aDpH7VKuIZml"
      },
      "execution_count": 3,
      "outputs": []
    },
    {
      "cell_type": "code",
      "source": [
        "# Imprimindo o resultado do retorno da chamada da função.\n",
        "# No nosso caso result = 10.\n",
        "print(result)"
      ],
      "metadata": {
        "id": "sBmIKldCI30A"
      },
      "execution_count": null,
      "outputs": []
    },
    {
      "cell_type": "markdown",
      "source": [
        "\n",
        "\n",
        "> Módulos - Os módulos trabalham com funcionalidades adicionais que\n",
        "podem ou não serem importadas e usadas em seus\n",
        "códigos, a grande vantagem dos módulos é a economia tempo e esforço, já que o desenvolvedor não precisa perder muito tempo em desenvolver o que já está desenvolvido e disponibilizado em milhares de bibliotecas. O únkco esforço é lêr e entender como passar os parâmetros corretamente e utilizar a biblioteca adequada para ter o resultado esperado.\n",
        "\n"
      ],
      "metadata": {
        "id": "XOO7cQXXMadw"
      }
    },
    {
      "cell_type": "code",
      "source": [
        "# Importando a Biblioteca math\n",
        "import math\n",
        "# Atribuindo a x a raiz quadrada de 16.\n",
        "x = math.sqrt(16)\n",
        "# Imprimindo o resultado de x\n",
        "print(x)\n",
        "\n",
        "# Importando a Biblioteca random\n",
        "import random\n",
        "# Atribuindo a num_randomico um valor entre 1 e 100.\n",
        "num_randomico = random.randint(1,100)\n",
        "# Imprimindo o resultado\n",
        "print(num_randomico)\n"
      ],
      "metadata": {
        "colab": {
          "base_uri": "https://localhost:8080/"
        },
        "id": "Rfu6Q2FEMe5k",
        "outputId": "05918196-de99-4f40-d2c0-3596367531f0"
      },
      "execution_count": 15,
      "outputs": [
        {
          "output_type": "stream",
          "name": "stdout",
          "text": [
            "4.0\n",
            "86\n"
          ]
        }
      ]
    },
    {
      "cell_type": "markdown",
      "source": [
        "# POO - Programação Orientada a Objetos"
      ],
      "metadata": {
        "id": "CtPKbAxuPKZw"
      }
    },
    {
      "cell_type": "markdown",
      "source": [
        "## Classes, Objetos, Herança e Polimorfismo"
      ],
      "metadata": {
        "id": "YehOSoGiRBy9"
      }
    },
    {
      "cell_type": "markdown",
      "source": [
        "\n",
        "\n",
        "> **Classes:**\n",
        "\n"
      ],
      "metadata": {
        "id": "rRLiYJDNRQOG"
      }
    },
    {
      "cell_type": "code",
      "source": [
        "# Definindo a classe Aluno\n",
        "class Aluno:\n",
        "  def __init__(self,nome,idade):\n",
        "    self.nome = nome\n",
        "    self.idade = idade + 1\n",
        "\n",
        "    #self.idade = int(idade) + 1\n",
        "\n",
        "# Em qualquer lugar do meu código.....\n",
        "a = Aluno(\"Sandoval Medeiros\", 59)\n",
        "\n",
        "# Se eu passar assim ?:\n",
        "# a = Aluno(\"Sandoval Medeiros\", \"59\")\n",
        "\n",
        "# Imprimindo \n",
        "print(\"Nome do Aluno: \" + a.nome)\n",
        "print(\"Idade do Aluno: \" + str(a.idade))\n"
      ],
      "metadata": {
        "colab": {
          "base_uri": "https://localhost:8080/"
        },
        "id": "wQnDhxDLQ4eP",
        "outputId": "e474a2a6-19b6-4858-bd96-21a056d12f44"
      },
      "execution_count": 28,
      "outputs": [
        {
          "output_type": "stream",
          "name": "stdout",
          "text": [
            "Nome do Aluno: Sandoval Medeiros\n",
            "Idade do Aluno: 60\n"
          ]
        }
      ]
    },
    {
      "cell_type": "markdown",
      "source": [
        "\n",
        "\n",
        "> **Herança**\n",
        "\n"
      ],
      "metadata": {
        "id": "cTMmNUqgUwQ-"
      }
    },
    {
      "cell_type": "code",
      "source": [
        "# Definindo a classe Aluno\n",
        "class Aluno:\n",
        "  def __init__(self,nome,idade):\n",
        "    self.nome = nome\n",
        "    self.idade = idade\n",
        "\n",
        "# Definindo a classe Matrícula\n",
        "class Matricula:\n",
        "  def __init__(self,nome,idade,matricula):\n",
        "    Aluno.__init__(self,nome,idade)\n",
        "    self.matricula = matricula\n",
        "\n",
        "# Em qualquer lugar do meu código...\n",
        "am = Matricula(\"Sandoval Medeiros\", 59, \"14005\")\n",
        "\n",
        "# Imprimindo \n",
        "print(\"Nome do Aluno: \" + am.nome)\n",
        "print(\"Idade do Aluno: \" + str(am.idade))\n",
        "print(\"Matrícula do Aluno: \" + am.matricula)"
      ],
      "metadata": {
        "colab": {
          "base_uri": "https://localhost:8080/"
        },
        "id": "Ey3g9B_IU5Pj",
        "outputId": "4b14ae08-add0-47c8-8a48-5bb3d469fe91"
      },
      "execution_count": 30,
      "outputs": [
        {
          "output_type": "stream",
          "name": "stdout",
          "text": [
            "Nome do Aluno: Sandoval Medeiros\n",
            "Idade do Aluno: 60\n",
            "Matrícula do Aluno: 14005\n"
          ]
        }
      ]
    },
    {
      "cell_type": "markdown",
      "source": [
        "\n",
        "\n",
        "> **Polimorfismo:**\n",
        "\n"
      ],
      "metadata": {
        "id": "JMqUiA86YLMN"
      }
    },
    {
      "cell_type": "code",
      "source": [
        "# Definindo a classe da forma\n",
        "class Forma:\n",
        "  def area(self):\n",
        "    pass\n",
        "\n",
        "# Definindo uma forma quadrada\n",
        "class Quadrado(Forma):\n",
        "  def __init__(self, lado):\n",
        "    self.lado = lado\n",
        "  \n",
        "  def area(self):\n",
        "    return self.lado ** 2\n",
        "\n",
        "# Definindo um círculo\n",
        "class Circulo(Forma):\n",
        "  def __init__(self, raio):\n",
        "    self.raio = raio\n",
        "\n",
        "  def area(self):\n",
        "    return 3.14 * (self.raio ** 2)  \n",
        "\n",
        "# Em qualquer lugar do meu código...\n",
        "quad = Quadrado(5)\n",
        "circ = Circulo(3)\n",
        "\n",
        "# Criando uma lista com as formas\n",
        "formas = [quad, circ]\n",
        "\n",
        "# Verificando o que tem na lista\n",
        "print(\"O lado do quadrado informado foi:\" + str(formas[0].lado))\n",
        "print(\"O raio do círculo informado foi:\" + str(formas[1].raio))\n",
        "\n",
        "# Fazendo o laço de repetição para mostrar o conteúdo\n",
        "for forma in formas:\n",
        "    print(forma.area())\n",
        "  "
      ],
      "metadata": {
        "colab": {
          "base_uri": "https://localhost:8080/"
        },
        "id": "_jWJnrVzYT_l",
        "outputId": "c985e02c-3edc-4943-eaff-7f1d151f5d52"
      },
      "execution_count": 76,
      "outputs": [
        {
          "output_type": "stream",
          "name": "stdout",
          "text": [
            "O lado do quadrado informado foi:5\n",
            "O raio do círculo informado foi:3\n",
            "25\n",
            "28.26\n"
          ]
        }
      ]
    },
    {
      "cell_type": "markdown",
      "source": [
        "## Tratamento de erros e depuração"
      ],
      "metadata": {
        "id": "ssOAG5_rpnb0"
      }
    },
    {
      "cell_type": "markdown",
      "source": [
        "\n",
        "\n",
        "> **Try / Except**\n",
        "\n"
      ],
      "metadata": {
        "id": "35lJhBYXp2tL"
      }
    },
    {
      "cell_type": "code",
      "source": [
        "# Iniciando a rotina de depuração de erro\n",
        "try:\n",
        "  num1 = int(input(\"Entre com o primeiro número => \"))\n",
        "  num2 = int(input(\"Entre com o segundo número => \"))\n",
        "\n",
        "  resultado = num1/num2\n",
        "  print(resultado)\n",
        "\n",
        "except ZeroDivisionError:\n",
        "  print(\"Erro!!! Valor dividido por zero\") \n",
        "except ValueError:\n",
        "  print(\"Entre apenas com valor numérico!!!\")\n"
      ],
      "metadata": {
        "colab": {
          "base_uri": "https://localhost:8080/",
          "height": 380
        },
        "id": "TVGyay-Hp9RB",
        "outputId": "921e0381-3a61-454d-e16b-e8898d6406c2"
      },
      "execution_count": 81,
      "outputs": [
        {
          "output_type": "error",
          "ename": "KeyboardInterrupt",
          "evalue": "ignored",
          "traceback": [
            "\u001b[0;31m---------------------------------------------------------------------------\u001b[0m",
            "\u001b[0;31mKeyboardInterrupt\u001b[0m                         Traceback (most recent call last)",
            "\u001b[0;32m<ipython-input-81-78dc8cf02244>\u001b[0m in \u001b[0;36m<module>\u001b[0;34m\u001b[0m\n\u001b[1;32m      1\u001b[0m \u001b[0;31m# Iniciando a rotina de depuração de erro\u001b[0m\u001b[0;34m\u001b[0m\u001b[0;34m\u001b[0m\u001b[0;34m\u001b[0m\u001b[0m\n\u001b[1;32m      2\u001b[0m \u001b[0;32mtry\u001b[0m\u001b[0;34m:\u001b[0m\u001b[0;34m\u001b[0m\u001b[0;34m\u001b[0m\u001b[0m\n\u001b[0;32m----> 3\u001b[0;31m   \u001b[0mnum1\u001b[0m \u001b[0;34m=\u001b[0m \u001b[0mint\u001b[0m\u001b[0;34m(\u001b[0m\u001b[0minput\u001b[0m\u001b[0;34m(\u001b[0m\u001b[0;34m\"Entre com o primeiro número =>\"\u001b[0m\u001b[0;34m)\u001b[0m\u001b[0;34m)\u001b[0m\u001b[0;34m\u001b[0m\u001b[0;34m\u001b[0m\u001b[0m\n\u001b[0m\u001b[1;32m      4\u001b[0m   \u001b[0mnum2\u001b[0m \u001b[0;34m=\u001b[0m \u001b[0mint\u001b[0m\u001b[0;34m(\u001b[0m\u001b[0minput\u001b[0m\u001b[0;34m(\u001b[0m\u001b[0;34m\"Entre com o segundo número =>\"\u001b[0m\u001b[0;34m)\u001b[0m\u001b[0;34m)\u001b[0m\u001b[0;34m\u001b[0m\u001b[0;34m\u001b[0m\u001b[0m\n\u001b[1;32m      5\u001b[0m \u001b[0;34m\u001b[0m\u001b[0m\n",
            "\u001b[0;32m/usr/local/lib/python3.8/dist-packages/ipykernel/kernelbase.py\u001b[0m in \u001b[0;36mraw_input\u001b[0;34m(self, prompt)\u001b[0m\n\u001b[1;32m    858\u001b[0m                 \u001b[0;34m\"raw_input was called, but this frontend does not support input requests.\"\u001b[0m\u001b[0;34m\u001b[0m\u001b[0;34m\u001b[0m\u001b[0m\n\u001b[1;32m    859\u001b[0m             )\n\u001b[0;32m--> 860\u001b[0;31m         return self._input_request(str(prompt),\n\u001b[0m\u001b[1;32m    861\u001b[0m             \u001b[0mself\u001b[0m\u001b[0;34m.\u001b[0m\u001b[0m_parent_ident\u001b[0m\u001b[0;34m,\u001b[0m\u001b[0;34m\u001b[0m\u001b[0;34m\u001b[0m\u001b[0m\n\u001b[1;32m    862\u001b[0m             \u001b[0mself\u001b[0m\u001b[0;34m.\u001b[0m\u001b[0m_parent_header\u001b[0m\u001b[0;34m,\u001b[0m\u001b[0;34m\u001b[0m\u001b[0;34m\u001b[0m\u001b[0m\n",
            "\u001b[0;32m/usr/local/lib/python3.8/dist-packages/ipykernel/kernelbase.py\u001b[0m in \u001b[0;36m_input_request\u001b[0;34m(self, prompt, ident, parent, password)\u001b[0m\n\u001b[1;32m    902\u001b[0m             \u001b[0;32mexcept\u001b[0m \u001b[0mKeyboardInterrupt\u001b[0m\u001b[0;34m:\u001b[0m\u001b[0;34m\u001b[0m\u001b[0;34m\u001b[0m\u001b[0m\n\u001b[1;32m    903\u001b[0m                 \u001b[0;31m# re-raise KeyboardInterrupt, to truncate traceback\u001b[0m\u001b[0;34m\u001b[0m\u001b[0;34m\u001b[0m\u001b[0;34m\u001b[0m\u001b[0m\n\u001b[0;32m--> 904\u001b[0;31m                 \u001b[0;32mraise\u001b[0m \u001b[0mKeyboardInterrupt\u001b[0m\u001b[0;34m(\u001b[0m\u001b[0;34m\"Interrupted by user\"\u001b[0m\u001b[0;34m)\u001b[0m \u001b[0;32mfrom\u001b[0m \u001b[0;32mNone\u001b[0m\u001b[0;34m\u001b[0m\u001b[0;34m\u001b[0m\u001b[0m\n\u001b[0m\u001b[1;32m    905\u001b[0m             \u001b[0;32mexcept\u001b[0m \u001b[0mException\u001b[0m \u001b[0;32mas\u001b[0m \u001b[0me\u001b[0m\u001b[0;34m:\u001b[0m\u001b[0;34m\u001b[0m\u001b[0;34m\u001b[0m\u001b[0m\n\u001b[1;32m    906\u001b[0m                 \u001b[0mself\u001b[0m\u001b[0;34m.\u001b[0m\u001b[0mlog\u001b[0m\u001b[0;34m.\u001b[0m\u001b[0mwarning\u001b[0m\u001b[0;34m(\u001b[0m\u001b[0;34m\"Invalid Message:\"\u001b[0m\u001b[0;34m,\u001b[0m \u001b[0mexc_info\u001b[0m\u001b[0;34m=\u001b[0m\u001b[0;32mTrue\u001b[0m\u001b[0;34m)\u001b[0m\u001b[0;34m\u001b[0m\u001b[0;34m\u001b[0m\u001b[0m\n",
            "\u001b[0;31mKeyboardInterrupt\u001b[0m: Interrupted by user"
          ]
        }
      ]
    },
    {
      "cell_type": "markdown",
      "source": [
        "\n",
        "\n",
        "> **Depurando com o módulo pdb**\n",
        "\n"
      ],
      "metadata": {
        "id": "2UppPdg1r5uf"
      }
    },
    {
      "cell_type": "code",
      "source": [
        "# Importando pdb\n",
        "import pdb\n",
        "\n",
        "# Criando a função com o trace do pdb\n",
        "def soma(x,y):\n",
        "  resultado_soma = x + y\n",
        "  pdb.set_trace()\n",
        "  return resultado_soma\n",
        "\n",
        "x = 5\n",
        "y = 3\n",
        "result = soma(x,y)\n",
        "print(result)\n"
      ],
      "metadata": {
        "colab": {
          "base_uri": "https://localhost:8080/"
        },
        "id": "nPIpmf7vsClz",
        "outputId": "f6c04b3e-97f6-4442-dbe9-bef8c49fba10"
      },
      "execution_count": null,
      "outputs": [
        {
          "output_type": "stream",
          "name": "stderr",
          "text": [
            "\n",
            "PYDEV DEBUGGER WARNING:\n",
            "sys.settrace() should not be used when the debugger is being used.\n",
            "This may cause the debugger to stop working correctly.\n",
            "If this is needed, please check: \n",
            "http://pydev.blogspot.com/2007/06/why-cant-pydev-debugger-work-with.html\n",
            "to see how to restore the debug tracing back correctly.\n",
            "Call Location:\n",
            "  File \"/usr/lib/python3.8/bdb.py\", line 334, in set_trace\n",
            "    sys.settrace(self.trace_dispatch)\n",
            "\n"
          ]
        },
        {
          "output_type": "stream",
          "name": "stdout",
          "text": [
            "> <ipython-input-1-9f0b7686fee4>(8)soma()\n",
            "-> return resultado_soma\n",
            "(Pdb) 8\n",
            "8\n",
            "(Pdb) 999\n",
            "999\n",
            "--KeyboardInterrupt--\n",
            "--KeyboardInterrupt--\n",
            "--KeyboardInterrupt--\n",
            "--KeyboardInterrupt--\n"
          ]
        }
      ]
    }
  ]
}
