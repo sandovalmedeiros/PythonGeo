{
  "nbformat": 4,
  "nbformat_minor": 0,
  "metadata": {
    "colab": {
      "provenance": [],
      "mount_file_id": "1edKwmNQ5TPlWX2zabaTeX9-9P-4MnWyU",
      "authorship_tag": "ABX9TyNS0SKgC1MOtfw7p4un68v9",
      "include_colab_link": true
    },
    "kernelspec": {
      "name": "python3",
      "display_name": "Python 3"
    },
    "language_info": {
      "name": "python"
    }
  },
  "cells": [
    {
      "cell_type": "markdown",
      "metadata": {
        "id": "view-in-github",
        "colab_type": "text"
      },
      "source": [
        "<a href=\"https://colab.research.google.com/github/sandovalmedeiros/PythonGeo/blob/main/ELT574_115183_Atividade_1.ipynb\" target=\"_parent\"><img src=\"https://colab.research.google.com/assets/colab-badge.svg\" alt=\"Open In Colab\"/></a>"
      ]
    },
    {
      "cell_type": "markdown",
      "source": [
        "Atividade 1 Disciplina ELT574"
      ],
      "metadata": {
        "id": "YFkJcKBnqQC7"
      }
    },
    {
      "cell_type": "code",
      "source": [
        "# Importa as Bibliotecas\n",
        "import pandas as pd\n",
        "import numpy as np"
      ],
      "metadata": {
        "id": "6cGZ8p_dqUpK"
      },
      "execution_count": null,
      "outputs": []
    },
    {
      "cell_type": "code",
      "source": [
        "# Carrega o dataset\n",
        "df = pd.read_csv('/content/melb_data.csv')"
      ],
      "metadata": {
        "id": "w6F-vqZHruIp"
      },
      "execution_count": null,
      "outputs": []
    },
    {
      "cell_type": "code",
      "source": [
        "# Cria a variável relacionada\n",
        "df['relacionada'] = df['Rooms'] / df['Price']"
      ],
      "metadata": {
        "id": "ayUbxJ6krzng"
      },
      "execution_count": null,
      "outputs": []
    },
    {
      "cell_type": "code",
      "source": [
        "# Calcula o coeficiente de correlação linear entre a variável relacionada e a variável alvo.\n",
        "correlation = np.corrcoef(df['relacionada'], df['Price'])[0, 1]\n",
        "# Verificar o grau de correlação\n",
        "if abs(correlation) >= 0.5:\n",
        "    print(\"A variável criada possui um grau de correlação linear relevante com a variável alvo.\")\n",
        "else:\n",
        "    print(\"A variável criada não possui um grau de correlação linear relevante com a variável alvo.\")"
      ],
      "metadata": {
        "colab": {
          "base_uri": "https://localhost:8080/"
        },
        "id": "XH6C6pvqrzyI",
        "outputId": "d9054587-8ea2-448e-f8cd-e2b49dbf0046"
      },
      "execution_count": null,
      "outputs": [
        {
          "output_type": "stream",
          "name": "stdout",
          "text": [
            "A variável criada possui um grau de correlação linear relevante com a variável alvo.\n"
          ]
        }
      ]
    },
    {
      "cell_type": "markdown",
      "source": [
        "Explicação da correlação\n",
        "\n",
        "A correlação positiva entre o número de quartos e o preço é que, em geral, propriedades com mais quartos tendem a ter preços mais altos. Isso pode ser atribuído à demanda por imóveis maiores, que geralmente são mais caros devido à oferta limitada de imóveis com várias unidades habitacionais. Além disso, propriedades com mais quartos podem oferecer mais espaço e conforto, o que também pode influenciar no aumento dos preços.\n",
        "\n",
        "É importante ressaltar que essa é uma possível explicação e que a correlação por si só não indica causalidade.\n",
        "\n",
        "Outros fatores, como localização, tamanho total da propriedade, condições do mercado imobiliário e características específicas dos imóveis, também podem influenciar os preços e devem ser considerados em uma análise mais abrangente.\n"
      ],
      "metadata": {
        "id": "6r-DdJ9GsFUZ"
      }
    }
  ]
}