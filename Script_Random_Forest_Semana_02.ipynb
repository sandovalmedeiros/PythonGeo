{
  "nbformat": 4,
  "nbformat_minor": 0,
  "metadata": {
    "colab": {
      "provenance": [],
      "authorship_tag": "ABX9TyPjSygqwphXPZ5vwQtDMUvG",
      "include_colab_link": true
    },
    "kernelspec": {
      "name": "python3",
      "display_name": "Python 3"
    },
    "language_info": {
      "name": "python"
    }
  },
  "cells": [
    {
      "cell_type": "markdown",
      "metadata": {
        "id": "view-in-github",
        "colab_type": "text"
      },
      "source": [
        "<a href=\"https://colab.research.google.com/github/sandovalmedeiros/PythonGeo/blob/main/Script_Random_Forest_Semana_02.ipynb\" target=\"_parent\"><img src=\"https://colab.research.google.com/assets/colab-badge.svg\" alt=\"Open In Colab\"/></a>"
      ]
    },
    {
      "cell_type": "code",
      "source": [
        "# Importando as Bibliotecas\n",
        "import pandas as pd\n",
        "import numpy as np\n",
        "import matplotlib.pyplot as plt\n",
        "from sklearn.ensemble import RandomForestRegressor\n",
        "from sklearn.model_selection import cross_val_score\n",
        "from sklearn.linear_model import LinearRegression"
      ],
      "metadata": {
        "id": "EcZT13mEYBEz"
      },
      "execution_count": 73,
      "outputs": []
    },
    {
      "cell_type": "code",
      "source": [
        "# Instalando a biblioteca para uso\n",
        "# !pip install scikit-optimize"
      ],
      "metadata": {
        "id": "yHrXIynaa0wD"
      },
      "execution_count": 74,
      "outputs": []
    },
    {
      "cell_type": "code",
      "source": [
        "#%% ------------------------------------- Importando data set\n",
        "\n",
        "df = pd.read_csv('/content/dataset_problema2.csv')\n",
        "\n",
        "X = df.drop(['id','Severidade'],axis=1)\n",
        "y = df['Severidade']"
      ],
      "metadata": {
        "id": "e4ux1w_QYNNI"
      },
      "execution_count": 75,
      "outputs": []
    },
    {
      "cell_type": "code",
      "source": [
        "# %% ------------------- separando dados de treinamento e teste\n",
        "from sklearn.model_selection import train_test_split\n",
        "\n",
        "X_train, X_test, y_train, y_test = train_test_split(X, y, test_size=0.2, random_state=0)\n",
        "\n",
        "#%%\n",
        "import seaborn as sns\n",
        "correlacao = df.corr()\n",
        "print(correlacao)\n"
      ],
      "metadata": {
        "id": "74zmPnHBYY0K",
        "colab": {
          "base_uri": "https://localhost:8080/"
        },
        "outputId": "3b7505a2-d2c4-4fbb-c598-d883dadf5f8b"
      },
      "execution_count": 76,
      "outputs": [
        {
          "output_type": "stream",
          "name": "stdout",
          "text": [
            "                  id  NDVI_d28  SAVI_d28  GNDVI_d28  MCARI1_d28    SR_d28  \\\n",
            "id          1.000000 -0.237474 -0.237466  -0.255535   -0.131867 -0.250596   \n",
            "NDVI_d28   -0.237474  1.000000  1.000000   0.956588    0.894749  0.985494   \n",
            "SAVI_d28   -0.237466  1.000000  1.000000   0.956589    0.894766  0.985495   \n",
            "GNDVI_d28  -0.255535  0.956588  0.956589   1.000000    0.837498  0.943480   \n",
            "MCARI1_d28 -0.131867  0.894749  0.894766   0.837498    1.000000  0.898975   \n",
            "SR_d28     -0.250596  0.985494  0.985495   0.943480    0.898975  1.000000   \n",
            "NDVI_d01   -0.228540  0.911626  0.911630   0.879544    0.862028  0.904785   \n",
            "SAVI_d01   -0.228528  0.911619  0.911622   0.879535    0.862027  0.904779   \n",
            "GNDVI_d01  -0.270028  0.929281  0.929282   0.970674    0.822237  0.916277   \n",
            "MCARI1_d01 -0.022022  0.618063  0.618070   0.558315    0.662525  0.629810   \n",
            "SR_d01     -0.219380  0.891605  0.891609   0.852399    0.859725  0.904479   \n",
            "NDVI_d04   -0.055271  0.596099  0.596115   0.542860    0.749048  0.579936   \n",
            "SAVI_d04   -0.055220  0.596031  0.596048   0.542788    0.749015  0.579870   \n",
            "GNDVI_d04  -0.198591  0.777853  0.777863   0.804091    0.806717  0.755904   \n",
            "MCARI1_d04  0.201634  0.124004  0.124029   0.059174    0.425546  0.114931   \n",
            "SR_d04     -0.027144  0.515861  0.515879   0.456531    0.700603  0.503209   \n",
            "NDVI_d08   -0.136303  0.182076  0.182088   0.106151    0.352523  0.157372   \n",
            "SAVI_d08   -0.136284  0.182054  0.182066   0.106123    0.352511  0.157350   \n",
            "GNDVI_d08  -0.154795  0.402450  0.402463   0.398684    0.543067  0.372474   \n",
            "MCARI1_d08  0.009449  0.015067  0.015082  -0.098256    0.241301 -0.008979   \n",
            "SR_d08     -0.095055  0.141063  0.141075   0.061566    0.318152  0.113187   \n",
            "Severidade -0.092392  0.226223  0.226210   0.286841   -0.006599  0.251117   \n",
            "\n",
            "            NDVI_d01  SAVI_d01  GNDVI_d01  MCARI1_d01  ...  SAVI_d04  \\\n",
            "id         -0.228540 -0.228528  -0.270028   -0.022022  ... -0.055220   \n",
            "NDVI_d28    0.911626  0.911619   0.929281    0.618063  ...  0.596031   \n",
            "SAVI_d28    0.911630  0.911622   0.929282    0.618070  ...  0.596048   \n",
            "GNDVI_d28   0.879544  0.879535   0.970674    0.558315  ...  0.542788   \n",
            "MCARI1_d28  0.862028  0.862027   0.822237    0.662525  ...  0.749015   \n",
            "SR_d28      0.904785  0.904779   0.916277    0.629810  ...  0.579870   \n",
            "NDVI_d01    1.000000  1.000000   0.929227    0.780520  ...  0.769259   \n",
            "SAVI_d01    1.000000  1.000000   0.929219    0.780545  ...  0.769266   \n",
            "GNDVI_d01   0.929227  0.929219   1.000000    0.610632  ...  0.621244   \n",
            "MCARI1_d01  0.780520  0.780545   0.610632    1.000000  ...  0.713724   \n",
            "SR_d01      0.987052  0.987054   0.905990    0.809657  ...  0.766338   \n",
            "NDVI_d04    0.769315  0.769323   0.621317    0.713736  ...  1.000000   \n",
            "SAVI_d04    0.769259  0.769266   0.621244    0.713724  ...  1.000000   \n",
            "GNDVI_d04   0.857079  0.857076   0.871993    0.630081  ...  0.844941   \n",
            "MCARI1_d04  0.296933  0.296951   0.104522    0.494699  ...  0.770122   \n",
            "SR_d04      0.695360  0.695369   0.539512    0.695153  ...  0.988338   \n",
            "NDVI_d08    0.376187  0.376198   0.213590    0.500034  ...  0.736762   \n",
            "SAVI_d08    0.376162  0.376174   0.213561    0.500029  ...  0.736757   \n",
            "GNDVI_d08   0.569668  0.569676   0.494178    0.586342  ...  0.811411   \n",
            "MCARI1_d08  0.161741  0.161758  -0.017387    0.411973  ...  0.617790   \n",
            "SR_d08      0.327781  0.327794   0.166731    0.484096  ...  0.701307   \n",
            "Severidade  0.046350  0.046333   0.203080   -0.252457  ... -0.478346   \n",
            "\n",
            "            GNDVI_d04  MCARI1_d04    SR_d04  NDVI_d08  SAVI_d08  GNDVI_d08  \\\n",
            "id          -0.198591    0.201634 -0.027144 -0.136303 -0.136284  -0.154795   \n",
            "NDVI_d28     0.777853    0.124004  0.515861  0.182076  0.182054   0.402450   \n",
            "SAVI_d28     0.777863    0.124029  0.515879  0.182088  0.182066   0.402463   \n",
            "GNDVI_d28    0.804091    0.059174  0.456531  0.106151  0.106123   0.398684   \n",
            "MCARI1_d28   0.806717    0.425546  0.700603  0.352523  0.352511   0.543067   \n",
            "SR_d28       0.755904    0.114931  0.503209  0.157372  0.157350   0.372474   \n",
            "NDVI_d01     0.857079    0.296933  0.695360  0.376187  0.376162   0.569668   \n",
            "SAVI_d01     0.857076    0.296951  0.695369  0.376198  0.376174   0.569676   \n",
            "GNDVI_d01    0.871993    0.104522  0.539512  0.213590  0.213561   0.494178   \n",
            "MCARI1_d01   0.630081    0.494699  0.695153  0.500034  0.500029   0.586342   \n",
            "SR_d01       0.837375    0.311928  0.704142  0.385270  0.385247   0.563769   \n",
            "NDVI_d04     0.844991    0.770049  0.988329  0.736752  0.736747   0.811423   \n",
            "SAVI_d04     0.844941    0.770122  0.988338  0.736762  0.736757   0.811411   \n",
            "GNDVI_d04    1.000000    0.387813  0.804810  0.567305  0.567286   0.789778   \n",
            "MCARI1_d04   0.387813    1.000000  0.815560  0.621178  0.621198   0.571816   \n",
            "SR_d04       0.804810    0.815560  1.000000  0.785865  0.785865   0.835342   \n",
            "NDVI_d08     0.567305    0.621178  0.785865  1.000000  1.000000   0.913098   \n",
            "SAVI_d08     0.567286    0.621198  0.785865  1.000000  1.000000   0.913086   \n",
            "GNDVI_d08    0.789778    0.571816  0.835342  0.913098  0.913086   1.000000   \n",
            "MCARI1_d08   0.360047    0.706094  0.695197  0.894092  0.894119   0.730838   \n",
            "SR_d08       0.528268    0.614870  0.761832  0.989711  0.989715   0.897875   \n",
            "Severidade  -0.211424   -0.630113 -0.570664 -0.814654 -0.814673  -0.671923   \n",
            "\n",
            "            MCARI1_d08    SR_d08  Severidade  \n",
            "id            0.009449 -0.095055   -0.092392  \n",
            "NDVI_d28      0.015067  0.141063    0.226223  \n",
            "SAVI_d28      0.015082  0.141075    0.226210  \n",
            "GNDVI_d28    -0.098256  0.061566    0.286841  \n",
            "MCARI1_d28    0.241301  0.318152   -0.006599  \n",
            "SR_d28       -0.008979  0.113187    0.251117  \n",
            "NDVI_d01      0.161741  0.327781    0.046350  \n",
            "SAVI_d01      0.161758  0.327794    0.046333  \n",
            "GNDVI_d01    -0.017387  0.166731    0.203080  \n",
            "MCARI1_d01    0.411973  0.484096   -0.252457  \n",
            "SR_d01        0.184833  0.340781    0.022197  \n",
            "NDVI_d04      0.617750  0.701293   -0.478298  \n",
            "SAVI_d04      0.617790  0.701307   -0.478346  \n",
            "GNDVI_d04     0.360047  0.528268   -0.211424  \n",
            "MCARI1_d04    0.706094  0.614870   -0.630113  \n",
            "SR_d04        0.695197  0.761832   -0.570664  \n",
            "NDVI_d08      0.894092  0.989711   -0.814654  \n",
            "SAVI_d08      0.894119  0.989715   -0.814673  \n",
            "GNDVI_d08     0.730838  0.897875   -0.671923  \n",
            "MCARI1_d08    1.000000  0.913886   -0.865217  \n",
            "SR_d08        0.913886  1.000000   -0.852165  \n",
            "Severidade   -0.865217 -0.852165    1.000000  \n",
            "\n",
            "[22 rows x 22 columns]\n"
          ]
        }
      ]
    },
    {
      "cell_type": "code",
      "source": [
        "#%% ------------------------padronização dos dados\n",
        "\n",
        "from sklearn.preprocessing import StandardScaler\n",
        "\n",
        "scaler = StandardScaler()   #media zero e desvio padrão 1\n",
        "\n",
        "X_train_sc = scaler.fit_transform(X_train)\n",
        "X_train_sc = pd.DataFrame(X_train_sc)\n",
        "X_train_sc.columns = X_train.columns\n",
        "\n",
        "X_test_sc = scaler.transform(X_test)\n",
        "X_test_sc = pd.DataFrame(X_test_sc)\n",
        "X_test_sc.columns = X_test.columns"
      ],
      "metadata": {
        "id": "HFTF1CYFYZEQ"
      },
      "execution_count": 77,
      "outputs": []
    },
    {
      "cell_type": "code",
      "source": [
        "#%% -----seleção de features - só usado para gerar o plot e ver até quando vale a pena\n",
        "from sklearn.feature_selection import RFE\n",
        "from sklearn.model_selection import cross_val_score\n",
        "import matplotlib.pyplot as plt\n",
        "from sklearn.linear_model import LinearRegression\n",
        "\n",
        "lista_score = list()\n",
        "\n",
        "for i in range(1,20):\n",
        "     modelo_linear = LinearRegression()\n",
        "\n",
        "     selector = RFE(modelo_linear, n_features_to_select=i, step=1)\n",
        "     selector = selector.fit(X_train,y_train)\n",
        "\n",
        "     mask = selector.support_\n",
        "\n",
        "     features = X_train_sc.columns\n",
        "\n",
        "     sel_features = features[mask]\n",
        "\n",
        "     X_sel = X_train_sc[sel_features]\n",
        "     score = cross_val_score(modelo_linear,X_sel,y_train, cv=10, scoring='r2')\n",
        "     print(np.mean(score))\n",
        "\n",
        "     lista_score.append(np.mean(score))\n",
        "\n",
        "print(X_sel)\n",
        "plt.plot(lista_score)\n",
        "plt.show()"
      ],
      "metadata": {
        "colab": {
          "base_uri": "https://localhost:8080/",
          "height": 1000
        },
        "id": "0mzq1zpfYZQA",
        "outputId": "aa7d35e4-e7a1-4cd1-e82b-84060d585535"
      },
      "execution_count": 78,
      "outputs": [
        {
          "output_type": "stream",
          "name": "stdout",
          "text": [
            "-0.06445199150879911\n",
            "0.09396486029263365\n",
            "0.6727804225015419\n",
            "0.726672062129073\n",
            "0.8223195978187627\n",
            "0.8233753596097613\n",
            "0.8202943759261935\n",
            "0.8160171069363862\n",
            "0.8338151334714663\n",
            "0.8422790237784706\n",
            "0.8410466834693298\n",
            "0.8683231290715991\n",
            "0.8665414455938999\n",
            "0.8647909029046318\n",
            "0.8634378066759402\n",
            "0.8624696422147047\n",
            "0.8525517850996375\n",
            "0.8509965500619827\n",
            "0.8456282534244405\n",
            "     NDVI_d28  SAVI_d28  GNDVI_d28  MCARI1_d28    SR_d28  NDVI_d01  SAVI_d01  \\\n",
            "0   -0.380544 -0.380577  -0.311805   -0.677999 -0.506855 -0.203134 -0.203084   \n",
            "1    0.266774  0.266748   0.642087   -0.160619  0.197189  0.616062  0.616078   \n",
            "2   -0.137397 -0.137410  -0.009792   -0.409558 -0.448334 -0.015128 -0.015114   \n",
            "3   -0.461724 -0.461751  -0.333185   -0.783158 -0.617507 -0.721137 -0.721193   \n",
            "4   -2.007785 -2.007719  -2.079729   -1.167981 -1.902287 -1.530393 -1.530369   \n",
            "..        ...       ...        ...         ...       ...       ...       ...   \n",
            "100  0.323880  0.323897  -0.030979    0.567064  0.087965 -0.042120 -0.042139   \n",
            "101 -0.547146 -0.547158  -0.195000   -0.752014 -0.689479  0.000961  0.001014   \n",
            "102  1.136749  1.136782   0.633291    1.587352  1.181749  1.616635  1.616687   \n",
            "103 -0.318372 -0.318325  -0.335952    0.269702 -0.469439  0.199548  0.199586   \n",
            "104  0.983198  0.983210   0.754148    0.886471  1.060205  0.983665  0.983725   \n",
            "\n",
            "     GNDVI_d01    SR_d01  NDVI_d04  SAVI_d04  GNDVI_d04  MCARI1_d04    SR_d04  \\\n",
            "0    -0.338091 -0.266671  0.268192  0.268117   0.359262   -0.164810  0.236940   \n",
            "1     0.898502  0.669665 -0.843820 -0.843960   0.371439   -1.297785 -0.823282   \n",
            "2     0.175130 -0.261362 -0.788586 -0.788660  -0.217823   -0.944273 -0.847793   \n",
            "3    -0.332660 -0.716321 -0.555350 -0.555322  -0.559130   -0.128373 -0.560979   \n",
            "4    -1.954598 -1.573018 -0.757048 -0.756800  -1.680684    0.589531 -0.734916   \n",
            "..         ...       ...       ...       ...        ...         ...       ...   \n",
            "100  -0.085102 -0.152497  1.072062  1.072137   0.378917    1.357628  1.089798   \n",
            "101   0.045816 -0.169519 -0.536792 -0.536799  -0.303716   -0.484680 -0.673401   \n",
            "102   1.105580  2.005497  1.625432  1.625283   1.865809    0.355559  1.822273   \n",
            "103  -0.250705  0.172018  1.116291  1.116323   0.739148    0.977712  1.259265   \n",
            "104   0.553466  0.957003  0.111942  0.111946   0.007087   -0.031307 -0.089024   \n",
            "\n",
            "     NDVI_d08  SAVI_d08  GNDVI_d08  MCARI1_d08    SR_d08  \n",
            "0    1.604002  1.603940   1.364234    0.862973  1.557938  \n",
            "1   -0.297932 -0.298000   0.394065   -0.785164 -0.397138  \n",
            "2   -0.534570 -0.534553  -0.375402   -0.450210 -0.556545  \n",
            "3   -1.074881 -1.074826  -1.106398   -0.407692 -0.891352  \n",
            "4   -0.151285 -0.151197  -0.919964    0.414156 -0.124890  \n",
            "..        ...       ...        ...         ...       ...  \n",
            "100  1.799727  1.799789   1.369463    2.163560  1.739419  \n",
            "101 -0.463199 -0.463236  -0.503650   -0.709445 -0.481673  \n",
            "102  2.952652  2.952713   2.515396    3.218252  3.484118  \n",
            "103  1.396065  1.396039   1.314688    1.114258  1.506109  \n",
            "104 -0.601617 -0.601552  -0.738625   -0.200363 -0.566767  \n",
            "\n",
            "[105 rows x 19 columns]\n"
          ]
        },
        {
          "output_type": "display_data",
          "data": {
            "text/plain": [
              "<Figure size 640x480 with 1 Axes>"
            ],
            "image/png": "[encoded data removed]"
          },
          "metadata": {}
        }
      ]
    },
    {
      "cell_type": "code",
      "source": [
        "#--- Seleção final das features\n",
        "from sklearn.feature_selection import RFE\n",
        "from sklearn.model_selection import cross_val_score\n",
        "import matplotlib.pyplot as plt\n",
        "from sklearn.linear_model import LinearRegression\n",
        "# Criando o objeto\n",
        "modelo_linear = LinearRegression()\n",
        "\n",
        "selecao = RFE(modelo_linear, n_features_to_select=15, step=1)\n",
        "selecao = selector.fit(X_train,y_train)\n",
        "\n",
        "mask = selector.support_\n",
        "\n",
        "features = X_train_sc.columns\n",
        "\n",
        "sel_features = features[mask]\n",
        "\n",
        "X_sel = X_train_sc[sel_features]\n",
        "score = cross_val_score(modelo_linear,X_sel,y_train, cv=10, scoring='r2')\n",
        "print(np.mean(score))\n",
        "\n",
        "lista_score.append(np.mean(score))\n",
        "\n",
        "plt.plot(lista_score)\n",
        "plt.show()\n",
        "print(sel_features)"
      ],
      "metadata": {
        "colab": {
          "base_uri": "https://localhost:8080/",
          "height": 534
        },
        "id": "afeib7qkYZfX",
        "outputId": "15efdf11-80e2-44ba-9eb4-4aaeb24bfd84"
      },
      "execution_count": 79,
      "outputs": [
        {
          "output_type": "stream",
          "name": "stdout",
          "text": [
            "0.8456282534244405\n"
          ]
        },
        {
          "output_type": "display_data",
          "data": {
            "text/plain": [
              "<Figure size 640x480 with 1 Axes>"
            ],
            "image/png": "[encoded data removed]"
          },
          "metadata": {}
        },
        {
          "output_type": "stream",
          "name": "stdout",
          "text": [
            "Index(['NDVI_d28', 'SAVI_d28', 'GNDVI_d28', 'MCARI1_d28', 'SR_d28', 'NDVI_d01',\n",
            "       'SAVI_d01', 'GNDVI_d01', 'SR_d01', 'NDVI_d04', 'SAVI_d04', 'GNDVI_d04',\n",
            "       'MCARI1_d04', 'SR_d04', 'NDVI_d08', 'SAVI_d08', 'GNDVI_d08',\n",
            "       'MCARI1_d08', 'SR_d08'],\n",
            "      dtype='object')\n"
          ]
        }
      ]
    },
    {
      "cell_type": "code",
      "source": [
        "#%% ----------------------- random florest\n",
        "\n",
        "# A Biblioteca NumPy está retornando erro de passagem de parametros que eu não consegui descobrir do que se trata.\n",
        "# A solução foi executar o parâmtro ótimo achado em outra máquina\n",
        "\n",
        "#from sklearn.ensemble import RandomForestRegressor\n",
        "#from skopt import gp_minimize\n",
        "\n",
        "#def treinar_modelo(parametros):\n",
        "#    model_rf = RandomForestRegressor(\n",
        "#        n_estimators=parametros[0],\n",
        "#        criterion=parametros[1],\n",
        "#        max_depth=parametros[2],\n",
        "#        min_samples_split=parametros[3],\n",
        "#        min_samples_leaf=parametros[4],\n",
        "#        random_state=0,\n",
        "#        n_jobs=-1\n",
        "#   )\n",
        "#    score = cross_val_score(model_rf, X_sel, y_train, cv=10)\n",
        "#    mean_score = np.mean(score.astype(np.float64)) #mean_score = np.mean(score)\n",
        "#    return mean_score*(-1)\n",
        "\n",
        "#parametros = [\n",
        "#    ('squared_error', 'absolute_error', 'friedman_mse', 'poisson'),\n",
        "#    (100, 1000),\n",
        "#    (3, 20),\n",
        "#    (2, 10),\n",
        "#    (1, 10)\n",
        "#]\n",
        "\n",
        "#parametros = [(100,1000),('squared_error','absolute_error','friedman_mse','poisson'),(3,20),(2,10),(1,10)]\n",
        "\n",
        "#otimos_rf = gp_minimize(treinar_modelo, parametros, random_state=0, verbose=1, n_calls=11, n_random_starts=10)\n",
        "#print('otm RandonForest', otimos_rf.fun, otimos_rf.x)\n"
      ],
      "metadata": {
        "id": "IPwF1bSlZU2y"
      },
      "execution_count": 80,
      "outputs": []
    },
    {
      "cell_type": "code",
      "source": [
        "#%% ------------------ usando RF\n",
        "\n",
        "from sklearn.metrics import mean_absolute_error\n",
        "from sklearn.metrics import mean_squared_error\n",
        "\n",
        "model_rf = RandomForestRegressor(\n",
        "        criterion='absolute_error',\n",
        "        n_estimators=951,\n",
        "        max_depth=20,\n",
        "        min_samples_split=10,\n",
        "        min_samples_leaf=2,\n",
        "        random_state=0,\n",
        "        n_jobs=-1\n",
        "    )\n",
        "\n",
        "model_rf.fit(X_sel, y_train)\n",
        "y_pred = model_rf.predict(X_test_sc[sel_features])\n",
        "\n",
        "\n",
        "rmse = (mean_squared_error(y_test, y_pred)**0.5)\n",
        "print('RMSE =',rmse)\n",
        "\n",
        "mae = mean_absolute_error(y_test, y_pred) #min absolut error\n",
        "print('MAE =',mae)\n",
        "\n",
        "r2 = model_rf.score(X_test_sc[sel_features], y_test)\n",
        "print('R2 =',r2)\n",
        "\n",
        "X = df.drop(['id','Severidade'],axis=1)\n",
        "y = df['Severidade']"
      ],
      "metadata": {
        "colab": {
          "base_uri": "https://localhost:8080/"
        },
        "id": "fiKJe9YvZVBB",
        "outputId": "3098bf74-d61f-4a70-fc24-5af2383a1c6b"
      },
      "execution_count": 81,
      "outputs": [
        {
          "output_type": "stream",
          "name": "stdout",
          "text": [
            "RMSE = 7.509532149662831\n",
            "MAE = 6.681265140008585\n",
            "R2 = 0.8885250530017597\n"
          ]
        }
      ]
    }
  ]
}