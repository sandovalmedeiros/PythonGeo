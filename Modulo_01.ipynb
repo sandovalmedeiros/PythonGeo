{
  "nbformat": 4,
  "nbformat_minor": 0,
  "metadata": {
    "colab": {
      "provenance": [],
      "authorship_tag": "ABX9TyPZEk4UvhY7FjBLaUTN6GCP",
      "include_colab_link": true
    },
    "kernelspec": {
      "name": "python3",
      "display_name": "Python 3"
    },
    "language_info": {
      "name": "python"
    }
  },
  "cells": [
    {
      "cell_type": "markdown",
      "metadata": {
        "id": "view-in-github",
        "colab_type": "text"
      },
      "source": [
        "<a href=\"https://colab.research.google.com/github/sandovalmedeiros/PythonGeo/blob/main/Modulo_01.ipynb\" target=\"_parent\"><img src=\"https://colab.research.google.com/assets/colab-badge.svg\" alt=\"Open In Colab\"/></a>"
      ]
    },
    {
      "cell_type": "markdown",
      "source": [
        "#Módulo 01 - Conceito de Variáveis, Operadores, Expressões e Fluxos de Controle\n",
        "\n",
        " Capítulo 01 - Neste capítulo, você aprenderá sobre os conceitos básicos de programação e como usar o Python para escrever seus primeiros programas, aqui estão alguns exemplos dos conceitos básicos de Python, incluindo tipos de dados, variáveis e operações básicas"
      ],
      "metadata": {
        "id": "7XVp1ypPoJU4"
      }
    },
    {
      "cell_type": "markdown",
      "source": [
        "## Tipos de Dados:\n",
        "\n",
        ">  Strings\n",
        "> \n"
      ],
      "metadata": {
        "id": "KrELNyDfo9vI"
      }
    },
    {
      "cell_type": "code",
      "source": [
        "nome = \"Orlando Silva\"\n",
        "print(nome)"
      ],
      "metadata": {
        "colab": {
          "base_uri": "https://localhost:8080/"
        },
        "id": "mCQDZ_oupV9n",
        "outputId": "dd1a90f6-c3ae-4bd2-9cd6-7a951ad2de6e"
      },
      "execution_count": null,
      "outputs": [
        {
          "output_type": "stream",
          "name": "stdout",
          "text": [
            "Orlando Silva\n"
          ]
        }
      ]
    },
    {
      "cell_type": "markdown",
      "source": [
        "\n",
        "\n",
        "> Número Interiro\n",
        "\n"
      ],
      "metadata": {
        "id": "9zkuYlDKpmWo"
      }
    },
    {
      "cell_type": "code",
      "source": [
        " idade = 35\n",
        " print(idade)"
      ],
      "metadata": {
        "id": "tHsD1xZkowrx"
      },
      "execution_count": null,
      "outputs": []
    },
    {
      "cell_type": "markdown",
      "source": [
        "Ponto Flutuate - (float)"
      ],
      "metadata": {
        "id": "UjermHhGqSzZ"
      }
    },
    {
      "cell_type": "code",
      "source": [
        "preco = 17.78\n",
        "print(preco)"
      ],
      "metadata": {
        "id": "QhqlT4c-qb7T"
      },
      "execution_count": null,
      "outputs": []
    },
    {
      "cell_type": "markdown",
      "source": [
        "> Lista\n",
        "\n"
      ],
      "metadata": {
        "id": "dI62LhYqqwxU"
      }
    },
    {
      "cell_type": "code",
      "source": [
        "computador = [\"Monitor\", \"Mouse\", \"Teclado\", \"Gabinete\"]\n",
        "print(computador)"
      ],
      "metadata": {
        "colab": {
          "base_uri": "https://localhost:8080/"
        },
        "id": "ZlUwWJM0rBFn",
        "outputId": "862ccfb4-3c8b-4836-d5c0-212c2b482993"
      },
      "execution_count": null,
      "outputs": [
        {
          "output_type": "stream",
          "name": "stdout",
          "text": [
            "['Monitor', 'Mouse', 'Teclado', 'Gabinete']\n"
          ]
        }
      ]
    },
    {
      "cell_type": "code",
      "source": [
        "print(computador[2:])"
      ],
      "metadata": {
        "colab": {
          "base_uri": "https://localhost:8080/"
        },
        "id": "8K1eKWZRsW5Z",
        "outputId": "02fafb90-76ab-4160-bb45-3be9b8330281"
      },
      "execution_count": null,
      "outputs": [
        {
          "output_type": "stream",
          "name": "stdout",
          "text": [
            "['Teclado', 'Gabinete']\n"
          ]
        }
      ]
    },
    {
      "cell_type": "markdown",
      "source": [
        "Operações Básicas"
      ],
      "metadata": {
        "id": "O3Q21r9wuX86"
      }
    },
    {
      "cell_type": "markdown",
      "source": [
        "> Adição\n",
        "\n"
      ],
      "metadata": {
        "id": "tNC3Y_ceumoI"
      }
    },
    {
      "cell_type": "code",
      "source": [
        "x = 6\n",
        "y = 2\n",
        "\n",
        "soma = x+y\n",
        "\n",
        "print(soma)"
      ],
      "metadata": {
        "colab": {
          "base_uri": "https://localhost:8080/"
        },
        "id": "MOYmiBJZuqhP",
        "outputId": "ce3237cd-86b8-4fdd-de14-d1450dc0f847"
      },
      "execution_count": null,
      "outputs": [
        {
          "output_type": "stream",
          "name": "stdout",
          "text": [
            "8\n"
          ]
        }
      ]
    },
    {
      "cell_type": "markdown",
      "source": [
        "\n",
        "\n",
        "> Subtração\n",
        "\n"
      ],
      "metadata": {
        "id": "rVmGLZTtvU6Y"
      }
    },
    {
      "cell_type": "code",
      "source": [
        "x = 8\n",
        "y = 2\n",
        "\n",
        "subtracao = x - y\n",
        "\n",
        "print(subtracao)"
      ],
      "metadata": {
        "colab": {
          "base_uri": "https://localhost:8080/"
        },
        "id": "iasDrVecvY62",
        "outputId": "a658fc31-07a9-4883-af05-9251bcfd5013"
      },
      "execution_count": null,
      "outputs": [
        {
          "output_type": "stream",
          "name": "stdout",
          "text": [
            "6\n"
          ]
        }
      ]
    },
    {
      "cell_type": "markdown",
      "source": [
        "\n",
        "\n",
        "> Multiplicação\n",
        "\n"
      ],
      "metadata": {
        "id": "lYs-qDXBv6WH"
      }
    },
    {
      "cell_type": "code",
      "source": [
        "x = 5\n",
        "y = 2\n",
        "\n",
        "multiplicacao = x * y\n",
        "\n",
        "print(multiplicacao)"
      ],
      "metadata": {
        "colab": {
          "base_uri": "https://localhost:8080/"
        },
        "id": "VjmDyruSwGF2",
        "outputId": "6adaec0d-d88c-4ddb-89f8-b4aafaff3580"
      },
      "execution_count": null,
      "outputs": [
        {
          "output_type": "stream",
          "name": "stdout",
          "text": [
            "10\n"
          ]
        }
      ]
    },
    {
      "cell_type": "markdown",
      "source": [
        "\n",
        "\n",
        "> Divisao\n",
        "\n"
      ],
      "metadata": {
        "id": "PcXvXEk1wWSJ"
      }
    },
    {
      "cell_type": "code",
      "source": [
        "x = 20\n",
        "y = 2\n",
        "\n",
        "divisao = x / y\n",
        "\n",
        "print(divisao)\n",
        "\n",
        "# O resultado é um ponto flutuante, para ver o número inteito utilize a função int.\n",
        "# print (int(divisao))"
      ],
      "metadata": {
        "colab": {
          "base_uri": "https://localhost:8080/"
        },
        "id": "BBtFeHEswcSf",
        "outputId": "b1efcaa1-7654-45b9-a172-54d4fb7e643b"
      },
      "execution_count": null,
      "outputs": [
        {
          "output_type": "stream",
          "name": "stdout",
          "text": [
            "10.0 1\n"
          ]
        }
      ]
    },
    {
      "cell_type": "markdown",
      "source": [
        "\n",
        "\n",
        "> Primeiras noções de Concatenação de Strings\n",
        "\n"
      ],
      "metadata": {
        "id": "5n2zoVevxr0a"
      }
    },
    {
      "cell_type": "code",
      "source": [
        "first_name = \"Sandoval\"\n",
        "last_name = \"Medeiros\"\n",
        "age = 59\n",
        "\n",
        "# Formato Brasileiro\n",
        "name_br = first_name + \" \" + last_name\n",
        "\n",
        "# Formato Estrangeiro\n",
        "name = last_name + \", \" + first_name\n",
        "\n",
        "print(\"Desenvolvendo aplicação para o Brasil\")\n",
        "print(\"Nome do Aluno: \" + name_br + \" Idade: \" + str(age))\n",
        "print()\n",
        "print(\"Desenvolvendo aplicação para o mundo\")\n",
        "print(\"Student Name : \" + name + \" Age : \" + str(age))\n",
        "\n"
      ],
      "metadata": {
        "colab": {
          "base_uri": "https://localhost:8080/"
        },
        "id": "jpRNYKMRx6VM",
        "outputId": "e3aa2ec3-00c9-4c51-faff-dcfc84a12bbd"
      },
      "execution_count": null,
      "outputs": [
        {
          "output_type": "stream",
          "name": "stdout",
          "text": [
            "Desenvolvendo aplicação para o Brasil\n",
            "Nome do Aluno: Sandoval Medeiros Idade: 59\n",
            "\n",
            "Desenvolvendo aplicação para o mundo\n",
            "Student Name : Medeiros, Sandoval Age : 59\n"
          ]
        }
      ]
    },
    {
      "cell_type": "markdown",
      "source": [
        "Variávies: \n",
        "\n",
        "De uma forma bem simplificada as variáveis são utilizadas no desenvolvimento\n",
        "das aplicações como um \"repositório\" de informações/dados dos mais diversos tipos. As variáveis são temporárias e seus valores são modificados constantemente durante o processamento da aplicação."
      ],
      "metadata": {
        "id": "91nS7ojy1h_Z"
      }
    },
    {
      "cell_type": "code",
      "source": [
        "# Declarando uma variável numérica do tipo int.\n",
        "x = 7\n",
        "\n",
        "# Atribuindo um novo valor a variável x que foi declarada\n",
        "\n",
        "x = 10\n",
        "\n",
        "# Caso eu atribua um outro tipo de dado a esta variável o Python vai acatar sem problema.\n",
        "\n",
        "x = 10.9\n",
        "\n",
        "# Trocando para uma string\n",
        "\n",
        "x = \"Aluno\"\n",
        "\n",
        "# Imprimindo seu valor\n",
        "\n",
        "print(x)"
      ],
      "metadata": {
        "colab": {
          "base_uri": "https://localhost:8080/"
        },
        "id": "CXBjlBaO2ix5",
        "outputId": "8e8dbdfa-0947-4a25-f745-692e6a604c05"
      },
      "execution_count": null,
      "outputs": [
        {
          "output_type": "stream",
          "name": "stdout",
          "text": [
            "Aluno\n"
          ]
        }
      ]
    },
    {
      "cell_type": "markdown",
      "source": [
        "## Fluxo de Controle\n",
        "\n",
        "Capítulo 02 - Neste capítulo, você aprenderá sobre as\n",
        "estruturas de controle do Python, como\n",
        "if/else, while e for loops, e como usá-las para\n",
        "controlar o fluxo de execução de seus\n",
        "programas."
      ],
      "metadata": {
        "id": "njrxzWQg4v5o"
      }
    },
    {
      "cell_type": "markdown",
      "source": [
        "if /else\n",
        "\n"
      ],
      "metadata": {
        "id": "Latn4VpW6YXP"
      }
    },
    {
      "cell_type": "code",
      "source": [
        "# Entra com os valores\n",
        "nome = input('Digite seu nome:')\n",
        "idade = input('Digite sua idade:')\n",
        "\n",
        "# Pula uma linha\n",
        "print()\n",
        "\n",
        "# Verifico se o valor digitado em idade é maior que 18.\n",
        "if int(idade) > 18:\n",
        "   # true\n",
        "   resultado = 'maior '\n",
        "   # Imprime o resultado\n",
        "   print(nome + ' você tem ' + idade + ' anos, portanto é menor de idade') \n",
        "else:\n",
        "  # false\n",
        "  resultado = 'menor '\n",
        "  # Imprime o resultado\n",
        "  print(nome + ' você tem ' + idade + ' anos, portanto é menor de idade')  \n",
        "\n",
        "# Melhorando só um pouquinho mais o meu código.\n",
        "# print(nome + ', você tem ' + idade + ' anos portanto é ' + resultado + 'de idade.')\n"
      ],
      "metadata": {
        "id": "Z5_0Z79k40DT",
        "colab": {
          "base_uri": "https://localhost:8080/"
        },
        "outputId": "f63a4bc3-743b-442f-9206-0cc64a4e23eb"
      },
      "execution_count": null,
      "outputs": [
        {
          "output_type": "stream",
          "name": "stdout",
          "text": [
            "Digite seu nome:trtrtr\n",
            "Digite sua idade:55555\n",
            "\n",
            "trtrtr, você tem 55555 anos portanto é maior de idade.\n"
          ]
        }
      ]
    },
    {
      "cell_type": "markdown",
      "source": [
        "> **elif**\n",
        " - Você pode fazer encadeamento de if utilizando o comando elif\n",
        "\n"
      ],
      "metadata": {
        "id": "pf6U-KG35aDy"
      }
    },
    {
      "cell_type": "code",
      "source": [
        "# Entra com os valores\n",
        "nome = input('Digite seu nome:')\n",
        "idade = input('Digite sua idade:')\n",
        "\n",
        "# Pula uma linha\n",
        "print()\n",
        "\n",
        "# Verifico se o valor digitado em idade é maior que 18.\n",
        "if int(idade) > 120:\n",
        "   # true\n",
        "   resultado = '** erro '\n",
        "   \n",
        "   # Utilizando o recurso do elif\n",
        "elif int(idade) >= 18: \n",
        "  # true\n",
        "  resultado = 'maior '\n",
        "  \n",
        "else:  \n",
        "  resultado = 'menor '\n",
        "  \n",
        "# Imprime o resultado.\n",
        "print(nome + ', você tem ' + idade + ' anos portanto é ' + resultado + 'de idade.')"
      ],
      "metadata": {
        "colab": {
          "base_uri": "https://localhost:8080/"
        },
        "id": "grouO2hV5kzn",
        "outputId": "d9ea03f8-3fb7-411b-df26-39c2c00b47fc"
      },
      "execution_count": null,
      "outputs": [
        {
          "output_type": "stream",
          "name": "stdout",
          "text": [
            "Digite seu nome:Sand\n",
            "Digite sua idade:120\n",
            "\n",
            "Sand, você tem 120 anos portanto é maior de idade.\n"
          ]
        }
      ]
    },
    {
      "cell_type": "markdown",
      "source": [
        "\n",
        "\n",
        "> **for** - Laço de repetição utilizando o comando for.\n",
        "\n"
      ],
      "metadata": {
        "id": "0vzXRs_X9Wnu"
      }
    },
    {
      "cell_type": "code",
      "source": [
        "# Utilizando uma lista para fazer a repetição\n",
        "partes = [\"Monitor\", \"Mouse\", \"Teclado\", \"Gabinete\"]\n",
        "\n",
        "print('Meu Desktop é composto de:')\n",
        "# Laço\n",
        "for desktop in partes:\n",
        "    print(desktop)\n",
        " "
      ],
      "metadata": {
        "colab": {
          "base_uri": "https://localhost:8080/"
        },
        "id": "bJx7Gekt9rfH",
        "outputId": "039eadc6-648f-4c2f-d50c-afa20615b18b"
      },
      "execution_count": null,
      "outputs": [
        {
          "output_type": "stream",
          "name": "stdout",
          "text": [
            "Meu Desktop é composto de:\n",
            "Monitor\n",
            "Mouse\n",
            "Teclado\n",
            "Gabinete\n"
          ]
        }
      ]
    },
    {
      "cell_type": "markdown",
      "source": [
        ">**while** - Laço de repetição utilizando o comando while.\n",
        "\n"
      ],
      "metadata": {
        "id": "atV8JF9p_Enp"
      }
    },
    {
      "cell_type": "code",
      "source": [
        "# Utilizando o while\n",
        "# Inicializo uma variável\n",
        "contador = 1\n",
        "# Faço o laço enquanto a condição for true\n",
        "while contador <= 10:\n",
        "  # imprimo o resultado\n",
        "  print(contador)\n",
        "  # incremento a variável contador\n",
        "  contador += 1\n",
        "  # pode ser assim também: contador = contador +1"
      ],
      "metadata": {
        "id": "_-ZKefJF_XEq",
        "colab": {
          "base_uri": "https://localhost:8080/"
        },
        "outputId": "47978c0e-e5de-4abc-a819-264beda96f11"
      },
      "execution_count": null,
      "outputs": [
        {
          "output_type": "stream",
          "name": "stdout",
          "text": [
            "1\n",
            "2\n",
            "3\n",
            "4\n",
            "5\n",
            "6\n",
            "7\n",
            "8\n",
            "9\n",
            "10\n"
          ]
        }
      ]
    },
    {
      "cell_type": "markdown",
      "source": [
        "Importante -  Estes são exemplos básicos de fluxo de controle\n",
        "em Python existem muitos outros exemplos e\n",
        "variações que você vai aprender a utilizar conforme vai aumentando o seu grau de aprendizagem na linguagem."
      ],
      "metadata": {
        "id": "3HWfZfjVBv-4"
      }
    },
    {
      "cell_type": "markdown",
      "source": [
        "# Aqui encerramos o aprendizado do Módulo 01."
      ],
      "metadata": {
        "id": "xNKPEV4rCm5n"
      }
    },
    {
      "cell_type": "markdown",
      "source": [],
      "metadata": {
        "id": "RCzZAXGzC16L"
      }
    }
  ]
}