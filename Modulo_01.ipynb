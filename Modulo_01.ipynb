{
  "nbformat": 4,
  "nbformat_minor": 0,
  "metadata": {
    "colab": {
      "provenance": [],
      "authorship_tag": "ABX9TyOlyxP7KIhzvhRqnim0WAJ2",
      "include_colab_link": true
    },
    "kernelspec": {
      "name": "python3",
      "display_name": "Python 3"
    },
    "language_info": {
      "name": "python"
    }
  },
  "cells": [
    {
      "cell_type": "markdown",
      "metadata": {
        "id": "view-in-github",
        "colab_type": "text"
      },
      "source": [
        "<a href=\"https://colab.research.google.com/github/sandovalmedeiros/PythonGeo/blob/main/Modulo_01.ipynb\" target=\"_parent\"><img src=\"https://colab.research.google.com/assets/colab-badge.svg\" alt=\"Open In Colab\"/></a>"
      ]
    },
    {
      "cell_type": "markdown",
      "source": [
        "# Bem Vindos ao Curso Básico de Python com Geo !!!!!\n",
        "\n",
        "**Introdução:**\n",
        "\n",
        "Python é uma linguagem de programação amplamente utilizada em Geoprocessamento por sua facilidade de aprendizado, eficiência e versatilidade. A seguir, vou destacar algumas das principais vantagens de Python na automatização das tarefas em Geoprocessamento.\n",
        "\n",
        "**Facilidade de aprendizado:**\n",
        "\n",
        "Python tem uma sintaxe clara e simples, o que facilita o aprendizado para iniciantes na programação.\n",
        "Existem muitos recursos on-line, como fóruns e tutoriais, para ajudar na aprendizagem de Python.\n",
        "\n",
        "**Versatilidade:**\n",
        "\n",
        "Python é uma linguagem multiplataforma, o que significa que pode ser executada em vários sistemas operacionais, como Windows, Linux e MacOS.\n",
        "Python também possui muitas bibliotecas especializadas para Geoprocessamento, como o GDAL e o GeoPandas.\n",
        "\n",
        "**Eficiência:**\n",
        "\n",
        "Python é uma linguagem interpretada, o que significa que o código-fonte é compilado em tempo de execução. Isso torna a execução mais rápida e eficiente do que em linguagens compiladas.\n",
        "Python também é capaz de processar grandes conjuntos de dados em menos tempo do que outras linguagens.\n",
        "\n",
        "**Automatização de tarefas:**\n",
        "\n",
        "Python pode ser usado para automatizar tarefas repetitivas, como a conversão de formatos de dados geográficos, extração de dados de diferentes fontes e a criação de mapas.\n",
        "Isso ajuda a economizar tempo e a aumentar a eficiência do trabalho em Geoprocessamento.\n",
        "\n",
        "**Integração com outras tecnologias:**\n",
        "\n",
        "Python é uma linguagem muito flexível e pode ser facilmente integrada com outras tecnologias, como bancos de dados e softwares de SIG (Sistemas de Informações Geográficas).\n",
        "A integração com outras tecnologias permite a criação de fluxos de trabalho personalizados e automatizados para atender às necessidades específicas de cada projeto.\n",
        "\n",
        "**Conclusão:**\n",
        "\n",
        "Em resumo, Python é uma linguagem de programação eficiente, versátil e fácil de aprender que oferece muitas vantagens para a automatização das tarefas em Geoprocessamento. Com a utilização de bibliotecas especializadas e a integração com outras tecnologias, é possível criar fluxos de trabalho personalizados e automatizados para aumentar a eficiência e a produtividade no trabalho com dados geográficos."
      ],
      "metadata": {
        "id": "PDIUrT2qGbi5"
      }
    },
    {
      "cell_type": "markdown",
      "source": [
        "## O mais interessante é que.....\n",
        "\n",
        "## Este texto foi escrito por IA utilizando o ChatGPT 3.5"
      ],
      "metadata": {
        "id": "Ug3IFVE1JihX"
      }
    },
    {
      "cell_type": "markdown",
      "source": [
        "#Módulo 01 - Conceito de Variáveis, Operadores, Expressões e Fluxos de Controle\n",
        "\n",
        "Capítulo 01 - Neste capítulo, você aprenderá sobre os conceitos básicos de programação e como usar o Python para escrever seus primeiros códigos em Python, aqui estão alguns exemplos dos conceitos básicos de Python, incluindo tipos de dados, variáveis e operações básicas.\n",
        "\n",
        "•\tNúmeros:\n",
        "Esses tipos de dados são usados para armazenar valores numéricos, como inteiros (por exemplo, 1, 2, 3) ou números de ponto flutuante (por exemplo, 1.0, 2.5, 3.1415).\n",
        "\n",
        "• Strings:\n",
        "Uma string é uma sequência de caracteres, como uma palavra ou uma frase. Eles são usados para armazenar informações de texto, como nomes de usuários, senhas, mensagens de erro e assim por diante.\n",
        "\n",
        "• Listas:\n",
        "Uma lista é uma coleção ordenada de valores, que podem ser de diferentes tipos. Elas são usadas para armazenar conjuntos de dados relacionados, como os nomes de todos os usuários de um site ou os resultados de uma pesquisa.\n",
        "\n",
        "• Tuplas:\n",
        "Uma tupla é semelhante a uma lista, mas é imutável, o que significa que seus valores não podem ser alterados depois que ela é criada. Elas são usadas para armazenar conjuntos de dados que não devem ser modificados, como as coordenadas de um ponto em um mapa.\n",
        "\n",
        "• Dicionários:\n",
        "Um dicionário é uma coleção não ordenada de pares de chave-valor, em que cada chave está associada a um valor. Eles são usados para armazenar dados que precisam ser acessados rapidamente, como informações de usuário ou configurações do aplicativo.\n",
        "\n",
        "• Conjuntos:\n",
        "Um conjunto é uma coleção não ordenada de elementos únicos. Eles são usados para armazenar conjuntos de dados exclusivos, como todos os endereços de e-mail em uma lista de contatos.\n",
        "\n",
        "Esses são apenas alguns dos tipos de dados disponíveis em Python, mas eles são os mais comuns e são usados em praticamente todos os programas."
      ],
      "metadata": {
        "id": "7XVp1ypPoJU4"
      }
    },
    {
      "cell_type": "markdown",
      "source": [
        "## Tipos de Dados:\n",
        "\n",
        ">  Strings\n",
        ">\n"
      ],
      "metadata": {
        "id": "KrELNyDfo9vI"
      }
    },
    {
      "cell_type": "code",
      "source": [
        "nome = \"Orlando Silva\"\n",
        "print(nome)"
      ],
      "metadata": {
        "id": "mCQDZ_oupV9n"
      },
      "execution_count": null,
      "outputs": []
    },
    {
      "cell_type": "markdown",
      "source": [
        "\n",
        "\n",
        "> Número Interiro\n",
        "\n"
      ],
      "metadata": {
        "id": "9zkuYlDKpmWo"
      }
    },
    {
      "cell_type": "code",
      "source": [
        " idade = 35\n",
        " print(idade)"
      ],
      "metadata": {
        "id": "tHsD1xZkowrx"
      },
      "execution_count": null,
      "outputs": []
    },
    {
      "cell_type": "markdown",
      "source": [
        "Ponto Flutuate - (float)"
      ],
      "metadata": {
        "id": "UjermHhGqSzZ"
      }
    },
    {
      "cell_type": "code",
      "source": [
        "preco = 17.78\n",
        "print(preco)"
      ],
      "metadata": {
        "id": "QhqlT4c-qb7T"
      },
      "execution_count": null,
      "outputs": []
    },
    {
      "cell_type": "markdown",
      "source": [
        "> Lista\n",
        "\n"
      ],
      "metadata": {
        "id": "dI62LhYqqwxU"
      }
    },
    {
      "cell_type": "code",
      "source": [
        "computador = [\"Monitor\", \"Mouse\", \"Teclado\", \"Gabinete\"]\n",
        "print(computador)"
      ],
      "metadata": {
        "id": "ZlUwWJM0rBFn"
      },
      "execution_count": null,
      "outputs": []
    },
    {
      "cell_type": "code",
      "source": [
        "print(computador[2:])"
      ],
      "metadata": {
        "id": "8K1eKWZRsW5Z"
      },
      "execution_count": null,
      "outputs": []
    },
    {
      "cell_type": "markdown",
      "source": [
        "Operações Básicas"
      ],
      "metadata": {
        "id": "O3Q21r9wuX86"
      }
    },
    {
      "cell_type": "markdown",
      "source": [
        "> Adição\n",
        "\n"
      ],
      "metadata": {
        "id": "tNC3Y_ceumoI"
      }
    },
    {
      "cell_type": "code",
      "source": [
        "x = 6\n",
        "y = 2\n",
        "\n",
        "soma = x+y\n",
        "\n",
        "print(soma)"
      ],
      "metadata": {
        "id": "MOYmiBJZuqhP"
      },
      "execution_count": null,
      "outputs": []
    },
    {
      "cell_type": "markdown",
      "source": [
        "\n",
        "\n",
        "> Subtração\n",
        "\n"
      ],
      "metadata": {
        "id": "rVmGLZTtvU6Y"
      }
    },
    {
      "cell_type": "code",
      "source": [
        "x = 8\n",
        "y = 2\n",
        "\n",
        "subtracao = x - y\n",
        "\n",
        "print(subtracao)"
      ],
      "metadata": {
        "id": "iasDrVecvY62"
      },
      "execution_count": null,
      "outputs": []
    },
    {
      "cell_type": "markdown",
      "source": [
        "\n",
        "\n",
        "> Multiplicação\n",
        "\n"
      ],
      "metadata": {
        "id": "lYs-qDXBv6WH"
      }
    },
    {
      "cell_type": "code",
      "source": [
        "x = 5\n",
        "y = 2\n",
        "\n",
        "multiplicacao = x * y\n",
        "\n",
        "print(multiplicacao)"
      ],
      "metadata": {
        "id": "VjmDyruSwGF2"
      },
      "execution_count": null,
      "outputs": []
    },
    {
      "cell_type": "markdown",
      "source": [
        "\n",
        "\n",
        "> Divisao\n",
        "\n"
      ],
      "metadata": {
        "id": "PcXvXEk1wWSJ"
      }
    },
    {
      "cell_type": "code",
      "source": [
        "x = 10\n",
        "y = 3\n",
        "\n",
        "divisao = x / y\n",
        "\n",
        "print(divisao)\n",
        "\n",
        "# O resultado é mostrado em ponto flutuante.\n",
        "# Para ver o número inteito utilize a função int,\n",
        "# Como mostra a linha de código abaixo.\n",
        "\n",
        "# print (int(divisao))"
      ],
      "metadata": {
        "id": "BBtFeHEswcSf"
      },
      "execution_count": null,
      "outputs": []
    },
    {
      "cell_type": "markdown",
      "source": [
        "\n",
        "\n",
        "> Primeiras noções de Concatenação de Strings\n",
        "\n"
      ],
      "metadata": {
        "id": "5n2zoVevxr0a"
      }
    },
    {
      "cell_type": "code",
      "source": [
        "first_name = \"Sandoval\"\n",
        "last_name = \"Medeiros\"\n",
        "age = 59\n",
        "\n",
        "# Formato Brasileiro\n",
        "name_br = first_name + \" \" + last_name\n",
        "\n",
        "# Formato Estrangeiro\n",
        "name = last_name + \", \" + first_name\n",
        "\n",
        "print(\"Desenvolvendo aplicação para o Brasil\")\n",
        "print(\"Nome do Aluno: \" + name_br + \" Idade: \" + str(age))\n",
        "print()\n",
        "print(\"Desenvolvendo aplicação para o mundo\")\n",
        "print(\"Student Name : \" + name + \" Age : \" + str(age))\n",
        "\n"
      ],
      "metadata": {
        "id": "jpRNYKMRx6VM"
      },
      "execution_count": null,
      "outputs": []
    },
    {
      "cell_type": "markdown",
      "source": [
        "Variávies:\n",
        "\n",
        "De uma forma bem simplificada as variáveis são utilizadas no desenvolvimento\n",
        "das aplicações como um \"repositório\" de informações/dados dos mais diversos tipos. As variáveis são temporárias e seus valores são modificados constantemente durante o processamento da aplicação."
      ],
      "metadata": {
        "id": "91nS7ojy1h_Z"
      }
    },
    {
      "cell_type": "code",
      "source": [
        "# Declarando uma variável numérica do tipo int.\n",
        "x = 7\n",
        "\n",
        "# Atribuindo um novo valor a variável x que foi declarada\n",
        "\n",
        "x = 10\n",
        "\n",
        "# Caso eu atribua um outro tipo de dado a esta variável o Python vai acatar sem problema.\n",
        "\n",
        "x = 10.9\n",
        "\n",
        "# Trocando para uma string\n",
        "\n",
        "x = \"Aluno\"\n",
        "\n",
        "# Imprimindo seu valor\n",
        "\n",
        "print(x)"
      ],
      "metadata": {
        "id": "CXBjlBaO2ix5"
      },
      "execution_count": null,
      "outputs": []
    },
    {
      "cell_type": "markdown",
      "source": [
        "## Fluxo de Controle\n",
        "\n",
        "Capítulo 02 - Neste capítulo, você aprenderá sobre as\n",
        "estruturas de controle do Python, como\n",
        "if/else, while e for loops, e como usá-las para\n",
        "controlar o fluxo de execução de seus\n",
        "programas."
      ],
      "metadata": {
        "id": "njrxzWQg4v5o"
      }
    },
    {
      "cell_type": "markdown",
      "source": [
        "if /else\n",
        "\n"
      ],
      "metadata": {
        "id": "Latn4VpW6YXP"
      }
    },
    {
      "cell_type": "code",
      "source": [
        "# Entra com os valores\n",
        "nome = input('Digite seu nome: ')\n",
        "idade = input('Digite sua idade: ')\n",
        "\n",
        "# Pula uma linha\n",
        "print() # ou print(\"\\n\")\n",
        "\n",
        "# Verifico se o valor digitado em idade é maior que 18.\n",
        "if int(idade) > 18:\n",
        "   # true\n",
        "   resultado = 'maior '\n",
        "   # Imprime o resultado\n",
        "   print(nome + ' você tem ' + idade + ' anos, portanto é maior de idade')\n",
        "   print(\"\\n\")\n",
        "else:\n",
        "  # false\n",
        "  resultado = 'menor '\n",
        "  # Imprime o resultado\n",
        "  print(nome + ' você tem ' + idade + ' anos, portanto é menor de idade')\n",
        "\n",
        "# Melhorando só um pouquinho mais o meu código.\n",
        "# print(nome + ', você tem ' + idade + ' anos portanto é ' + resultado + 'de idade.')\n",
        "\n",
        "# Dando uma complicadinha...\n",
        "#DiaVencimento = \"15\"\n",
        "#MesVencimento = \"Julho\"\n",
        "#ValorFatura = 1575\n",
        "#print(\"Olá {nome}\\n A sua fatura com vencimento em {vencimento} de {mesvencimento} no valor de R${valor:0.02f} está fechada\\n\".format(nome=nome, vencimento=DiaVencimento,mesvencimento=MesVencimento, valor=float(ValorFatura)))\n",
        "\n"
      ],
      "metadata": {
        "id": "Z5_0Z79k40DT"
      },
      "execution_count": null,
      "outputs": []
    },
    {
      "cell_type": "markdown",
      "source": [
        "> **elif**\n",
        " - Você pode fazer encadeamento de if utilizando o comando elif\n",
        "\n"
      ],
      "metadata": {
        "id": "pf6U-KG35aDy"
      }
    },
    {
      "cell_type": "code",
      "source": [
        "# Entra com os valores\n",
        "nome = input('Digite seu nome: ')\n",
        "idade = input('Digite sua idade: ')\n",
        "\n",
        "# Pula uma linha\n",
        "print()\n",
        "\n",
        "# Verifico se o valor digitado em idade é maior que 18.\n",
        "if int(idade) > 120:\n",
        "   # true\n",
        "   resultado = '** erro '\n",
        "\n",
        "   # Utilizando o recurso do elif\n",
        "elif int(idade) >= 18:\n",
        "  # true\n",
        "  resultado = 'maior '\n",
        "\n",
        "else:\n",
        "  resultado = 'menor '\n",
        "\n",
        "# Imprime o resultado.\n",
        "print(nome + ', você tem ' + idade + ' anos portanto é ' + resultado + 'de idade.')"
      ],
      "metadata": {
        "id": "grouO2hV5kzn"
      },
      "execution_count": null,
      "outputs": []
    },
    {
      "cell_type": "markdown",
      "source": [
        "\n",
        "\n",
        "> **for** - Laço de repetição utilizando o comando for.\n",
        "\n"
      ],
      "metadata": {
        "id": "0vzXRs_X9Wnu"
      }
    },
    {
      "cell_type": "code",
      "source": [
        "# Utilizando uma lista para fazer a repetição\n",
        "partes = [\"Monitor\", \"Mouse\", \"Teclado\", \"Gabinete\"]\n",
        "\n",
        "print('Meu Desktop é composto de: ')\n",
        "print()\n",
        "# Laço\n",
        "for desktop in partes:\n",
        "    print(desktop)\n",
        ""
      ],
      "metadata": {
        "id": "bJx7Gekt9rfH"
      },
      "execution_count": null,
      "outputs": []
    },
    {
      "cell_type": "markdown",
      "source": [
        ">**while** - Laço de repetição utilizando o comando while.\n",
        "\n"
      ],
      "metadata": {
        "id": "atV8JF9p_Enp"
      }
    },
    {
      "cell_type": "code",
      "source": [
        "# Utilizando o while\n",
        "# Inicializo uma variável\n",
        "contador = 1\n",
        "# Faço o laço enquanto a condição for true\n",
        "while contador <= 10:\n",
        "  # imprimo o resultado\n",
        "  print(contador)\n",
        "  # incremento a variável contador\n",
        "  contador += 1\n",
        "  # pode ser assim também: contador = contador +1"
      ],
      "metadata": {
        "id": "_-ZKefJF_XEq"
      },
      "execution_count": null,
      "outputs": []
    },
    {
      "cell_type": "markdown",
      "source": [
        "Importante -  Estes são exemplos básicos de fluxo de controle\n",
        "em Python existem muitos outros exemplos e\n",
        "variações que você vai aprender a utilizar conforme vai aumentando o seu grau de aprendizagem na linguagem."
      ],
      "metadata": {
        "id": "3HWfZfjVBv-4"
      }
    },
    {
      "cell_type": "markdown",
      "source": [
        "# Aqui encerramos o aprendizado do Módulo 01."
      ],
      "metadata": {
        "id": "xNKPEV4rCm5n"
      }
    }
  ]
}